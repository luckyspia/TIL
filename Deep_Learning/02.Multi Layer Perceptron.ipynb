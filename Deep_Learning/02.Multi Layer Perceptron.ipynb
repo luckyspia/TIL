{
 "cells": [
  {
   "cell_type": "markdown",
   "metadata": {},
   "source": [
    "## Chapter 02. Multi Layer Perceptron"
   ]
  },
  {
   "cell_type": "markdown",
   "metadata": {},
   "source": [
    "### MNIST MLP Prac"
   ]
  },
  {
   "cell_type": "code",
   "execution_count": 1,
   "metadata": {},
   "outputs": [],
   "source": [
    "''' 1. Module Import '''\n",
    "import numpy as np\n",
    "import matplotlib.pyplot as plt\n",
    "\n",
    "import torch\n",
    "import torch.nn as nn\n",
    "import torch.nn.functional as F\n",
    "from torchvision import transforms, datasets"
   ]
  },
  {
   "cell_type": "code",
   "execution_count": 2,
   "metadata": {},
   "outputs": [
    {
     "name": "stdout",
     "output_type": "stream",
     "text": [
      "Using PyTorch version: 2.1.0+cu118  Device: cuda\n"
     ]
    }
   ],
   "source": [
    "''' 2. 딥러닝 모델을 설계할 때 활용하는 장비 확인 '''\n",
    "if torch.cuda.is_available():\n",
    "    DEVICE = torch.device('cuda')\n",
    "else:\n",
    "    DEVICE = torch.device('cpu')\n",
    "\n",
    "print('Using PyTorch version:', torch.__version__, ' Device:', DEVICE)"
   ]
  },
  {
   "cell_type": "code",
   "execution_count": 3,
   "metadata": {},
   "outputs": [],
   "source": [
    "BATCH_SIZE = 32\n",
    "EPOCHS = 10"
   ]
  },
  {
   "cell_type": "code",
   "execution_count": 4,
   "metadata": {},
   "outputs": [
    {
     "name": "stdout",
     "output_type": "stream",
     "text": [
      "Downloading http://yann.lecun.com/exdb/mnist/train-images-idx3-ubyte.gz\n",
      "Downloading http://yann.lecun.com/exdb/mnist/train-images-idx3-ubyte.gz to ./data/MNIST\\MNIST\\raw\\train-images-idx3-ubyte.gz\n"
     ]
    },
    {
     "name": "stderr",
     "output_type": "stream",
     "text": [
      "100%|██████████| 9912422/9912422 [00:01<00:00, 5175550.71it/s]\n"
     ]
    },
    {
     "name": "stdout",
     "output_type": "stream",
     "text": [
      "Extracting ./data/MNIST\\MNIST\\raw\\train-images-idx3-ubyte.gz to ./data/MNIST\\MNIST\\raw\n",
      "\n",
      "Downloading http://yann.lecun.com/exdb/mnist/train-labels-idx1-ubyte.gz\n",
      "Downloading http://yann.lecun.com/exdb/mnist/train-labels-idx1-ubyte.gz to ./data/MNIST\\MNIST\\raw\\train-labels-idx1-ubyte.gz\n"
     ]
    },
    {
     "name": "stderr",
     "output_type": "stream",
     "text": [
      "100%|██████████| 28881/28881 [00:00<00:00, 19164007.88it/s]\n"
     ]
    },
    {
     "name": "stdout",
     "output_type": "stream",
     "text": [
      "Extracting ./data/MNIST\\MNIST\\raw\\train-labels-idx1-ubyte.gz to ./data/MNIST\\MNIST\\raw\n",
      "\n",
      "Downloading http://yann.lecun.com/exdb/mnist/t10k-images-idx3-ubyte.gz\n",
      "Downloading http://yann.lecun.com/exdb/mnist/t10k-images-idx3-ubyte.gz to ./data/MNIST\\MNIST\\raw\\t10k-images-idx3-ubyte.gz\n"
     ]
    },
    {
     "name": "stderr",
     "output_type": "stream",
     "text": [
      "100%|██████████| 1648877/1648877 [00:00<00:00, 3621348.17it/s]\n"
     ]
    },
    {
     "name": "stdout",
     "output_type": "stream",
     "text": [
      "Extracting ./data/MNIST\\MNIST\\raw\\t10k-images-idx3-ubyte.gz to ./data/MNIST\\MNIST\\raw\n",
      "\n",
      "Downloading http://yann.lecun.com/exdb/mnist/t10k-labels-idx1-ubyte.gz\n",
      "Downloading http://yann.lecun.com/exdb/mnist/t10k-labels-idx1-ubyte.gz to ./data/MNIST\\MNIST\\raw\\t10k-labels-idx1-ubyte.gz\n"
     ]
    },
    {
     "name": "stderr",
     "output_type": "stream",
     "text": [
      "100%|██████████| 4542/4542 [00:00<?, ?it/s]"
     ]
    },
    {
     "name": "stdout",
     "output_type": "stream",
     "text": [
      "Extracting ./data/MNIST\\MNIST\\raw\\t10k-labels-idx1-ubyte.gz to ./data/MNIST\\MNIST\\raw\n",
      "\n"
     ]
    },
    {
     "name": "stderr",
     "output_type": "stream",
     "text": [
      "\n"
     ]
    }
   ],
   "source": [
    "''' 3. MNIST 데이터 다운로드 (Train set, Test set 분리하기) '''\n",
    "train_dataset = datasets.MNIST(root = \"./data/MNIST\",\n",
    "                               train = True,\n",
    "                               download = True,\n",
    "                               transform = transforms.ToTensor()) # 다운로드 받은 이미지를 tensor 형태로 변환 (transforms)\n",
    "\n",
    "test_dataset = datasets.MNIST(root = \"./data/MNIST\",\n",
    "                              train = False, # test set\n",
    "                              transform = transforms.ToTensor())\n",
    "\n",
    "train_loader = torch.utils.data.DataLoader(dataset = train_dataset,\n",
    "                                           batch_size = BATCH_SIZE, # 총 32개의 샘플이 하나의 배치로 묶여서 연산 (배치 단위로 샘플 호출)\n",
    "                                           shuffle = True) # 훈련 데이터 셋은 호출 시 섞어줌 (대부분의 배치가 같은 클래스로 묶이지 않게끔) \n",
    "\n",
    "test_loader = torch.utils.data.DataLoader(dataset = test_dataset,\n",
    "                                          batch_size = BATCH_SIZE,\n",
    "                                          shuffle = False)"
   ]
  },
  {
   "cell_type": "code",
   "execution_count": 5,
   "metadata": {},
   "outputs": [
    {
     "name": "stdout",
     "output_type": "stream",
     "text": [
      "X_train: torch.Size([32, 1, 28, 28]) type: torch.FloatTensor\n",
      "y_train: torch.Size([32]) type: torch.LongTensor\n"
     ]
    }
   ],
   "source": [
    "''' 4. 데이터 확인하기 (1) '''\n",
    "for (X_train, y_train) in train_loader:\n",
    "    print('X_train:', X_train.size(), 'type:', X_train.type()) # 32, 1, 28, 28 float(실수) => 배치 사이즈(32 배치), 28 x 28 크기의 이미지, 채널은 1개\n",
    "    print('y_train:', y_train.size(), 'type:', y_train.type()) # 한 배치에 해당하는 정답 숫자 32개\n",
    "    break"
   ]
  },
  {
   "cell_type": "code",
   "execution_count": 6,
   "metadata": {},
   "outputs": [
    {
     "data": {
      "image/png": "[encoded data removed]",
      "text/plain": [
       "<Figure size 1000x100 with 10 Axes>"
      ]
     },
     "metadata": {},
     "output_type": "display_data"
    }
   ],
   "source": [
    "''' 5. 데이터 확인하기 (2) '''\n",
    "pltsize = 1\n",
    "plt.figure(figsize=(10 * pltsize, pltsize))\n",
    "for i in range(10):\n",
    "    plt.subplot(1, 10, i + 1)\n",
    "    plt.axis('off')\n",
    "    plt.imshow(X_train[i, :, :, :].numpy().reshape(28, 28), cmap = \"gray_r\")\n",
    "    plt.title('Class: ' + str(y_train[i].item()))"
   ]
  },
  {
   "cell_type": "code",
   "execution_count": 7,
   "metadata": {},
   "outputs": [],
   "source": [
    "''' 6. Multi Layer Perceptron (MLP) 모델 설계하기 '''\n",
    "class Net(nn.Module):\n",
    "    def __init__(self):\n",
    "        super(Net, self).__init__()\n",
    "        self.fc1 = nn.Linear(28 * 28, 512) # 첫번째 레이어 : 이전 레이어(Input 레이어)의 노드 갯수 (28 * 28)와 현 레이어의 노드 개수(512) 정의\n",
    "        self.fc2 = nn.Linear(512, 256) # 두번째 레이어\n",
    "        self.fc3 = nn.Linear(256, 10) # 마지막 레이어\n",
    "        # 총 3개의 fully-connected layer(nn.Linear)로 구성됨\n",
    "        \n",
    "    def forward(self, x): # x = 최초로 들어온 input tensor\n",
    "        x = x.view(-1, 28 * 28) # x를 (batch_size, 28 * 28)의 모양으로 만들어줌\n",
    "        x = self.fc1(x) # 생성자 함수에서 정의한 레이어 통과\n",
    "        x = F.sigmoid(x) # sigmoid 활성함수 통과\n",
    "        x = self.fc2(x) # 생성자 함수에서 정의한 레이어 통과\n",
    "        x = F.sigmoid(x) # sigmoid 활성함수 통과\n",
    "        x = self.fc3(x) # 생성자 함수에서 정의한 레이어 통과\n",
    "        \n",
    "        # 마지막으로 log_softmax 활성함수를 사용 -> softmax에 log를 취한 것과 동일\n",
    "        # 두 연산을 따로 수행하는 것보다 더 빠름\n",
    "        # 그냥 softmax에 의한 결과는 NLL Loss에 직접적으로 사용할 경우\n",
    "        # 수치적으로 불안정해서 NaN의 결과를 얻을 수 있으므로, log_softmax와 NLL Loss를 결합하는 것을 추천\n",
    "        x = F.log_softmax(x, dim = 1) # log\n",
    "        return x"
   ]
  },
  {
   "cell_type": "code",
   "execution_count": 8,
   "metadata": {},
   "outputs": [
    {
     "name": "stdout",
     "output_type": "stream",
     "text": [
      "Net(\n",
      "  (fc1): Linear(in_features=784, out_features=512, bias=True)\n",
      "  (fc2): Linear(in_features=512, out_features=256, bias=True)\n",
      "  (fc3): Linear(in_features=256, out_features=10, bias=True)\n",
      ")\n"
     ]
    }
   ],
   "source": [
    "''' 7. Optimizer, Objective Function 설정하기 '''\n",
    "model = Net().to(DEVICE) # 정의한 네트워크를 DEVICE(GPU 혹은 CPU)에 올림\n",
    "optimizer = torch.optim.SGD(model.parameters(), lr = 0.01, momentum = 0.5) # SGD with Momentum Optimizer 사용, 학습률 0.01, Momentum 0.5 (이전 스텝의 그래디언트 값에 곱해지는 factor)\n",
    "# criterion = nn.CrossEntropyLoss() # CrossEntropyLoss에는 log softmax와 NLLloss가 포함되어 있음\n",
    "criterion = nn.NLLLoss() # 따라서 위 처럼 log_softmax 사용했을 경우, NLLloss 사용, 마지막에 softmax 사용 안했으면 CrossEntropyLoss 사용\n",
    "\n",
    "print(model)"
   ]
  },
  {
   "cell_type": "code",
   "execution_count": 9,
   "metadata": {},
   "outputs": [],
   "source": [
    "''' 8. MLP 모델 학습을 진행하며 학습 데이터에 대한 모델 성능을 확인하는 함수 정의 '''\n",
    "def train(model, train_loader, optimizer, log_interval):\n",
    "    model.train()\n",
    "    for batch_idx, (image, label) in enumerate(train_loader): # batch 는 image 와 label로 구성되어 있음\n",
    "        image = image.to(DEVICE)\n",
    "        label = label.to(DEVICE)\n",
    "        optimizer.zero_grad() # gradient 0으로 초기화 = 이전 batch에서 계산한 gradient를 현 batch에서 사용하지 않을 것이기 때문\n",
    "        output = model(image)\n",
    "        loss = criterion(output, label)\n",
    "        loss.backward() # requires_grad=True인 모든 parameter에 대해 gradient 계산\n",
    "        optimizer.step() # update 진행\n",
    "\n",
    "        if batch_idx % log_interval == 0: # 지정한 log_interval 마다 아래 문구 출력\n",
    "            print(\"Train Epoch: {} [{}/{} ({:.0f}%)]\\tTrain Loss: {:.6f}\".format(\n",
    "                epoch, batch_idx * len(image), \n",
    "                len(train_loader.dataset), 100. * batch_idx / len(train_loader), \n",
    "                loss.item()))"
   ]
  },
  {
   "cell_type": "code",
   "execution_count": 10,
   "metadata": {},
   "outputs": [],
   "source": [
    "''' 9. 학습되는 과정 속에서 검증 데이터에 대한 모델 성능을 확인하는 함수 정의 '''\n",
    "def evaluate(model, test_loader):\n",
    "    model.eval() # dropout 같은 train과 val/test 상황에서 상태가 달라지는 레이어를 위해 사용\n",
    "    test_loss = 0\n",
    "    correct = 0\n",
    "\n",
    "    with torch.no_grad():\n",
    "        for image, label in test_loader:\n",
    "            image = image.to(DEVICE)\n",
    "            label = label.to(DEVICE)\n",
    "            output = model(image)\n",
    "            test_loss += criterion(output, label).item()\n",
    "            prediction = output.max(1, keepdim = True)[1] # dim = 1 을 따라서 maximum 값들을 구함\n",
    "            correct += prediction.eq(label.view_as(prediction)).sum().item() # label을 prediction과 같은 Tensor shape를 갖도록 만들어준뒤 이를 prediction과 비교하여 같은 것만 추출(.eq). sum()을 통해 일치하는 것들의 개수를 받고, 이를 python 숫자로 반환(.item())\n",
    "    # batch_size 가 하나의 tensor 내 샘플의 개수가 됨\n",
    "    # 32개의 샘플 중 몇 개가 예측과 실제가 같았는지 계산\n",
    "    \n",
    "    test_loss /= (len(test_loader.dataset) / BATCH_SIZE)\n",
    "    test_accuracy = 100. * correct / len(test_loader.dataset) # 맞은 갯수 / 총 테스트 데이터가 몇 장으로 구성되있는지\n",
    "    return test_loss, test_accuracy"
   ]
  },
  {
   "cell_type": "code",
   "execution_count": 11,
   "metadata": {},
   "outputs": [
    {
     "name": "stdout",
     "output_type": "stream",
     "text": [
      "Train Epoch: 1 [0/60000 (0%)]\tTrain Loss: 2.414920\n",
      "Train Epoch: 1 [6400/60000 (11%)]\tTrain Loss: 2.307064\n",
      "Train Epoch: 1 [12800/60000 (21%)]\tTrain Loss: 2.318885\n",
      "Train Epoch: 1 [19200/60000 (32%)]\tTrain Loss: 2.286137\n",
      "Train Epoch: 1 [25600/60000 (43%)]\tTrain Loss: 2.294175\n",
      "Train Epoch: 1 [32000/60000 (53%)]\tTrain Loss: 2.283427\n",
      "Train Epoch: 1 [38400/60000 (64%)]\tTrain Loss: 2.252261\n",
      "Train Epoch: 1 [44800/60000 (75%)]\tTrain Loss: 2.263627\n",
      "Train Epoch: 1 [51200/60000 (85%)]\tTrain Loss: 2.252062\n",
      "Train Epoch: 1 [57600/60000 (96%)]\tTrain Loss: 2.256709\n",
      "\n",
      "[EPOCH: 1], \tTest Loss: 2.2343, \tTest Accuracy: 29.28 % \n",
      "\n",
      "Train Epoch: 2 [0/60000 (0%)]\tTrain Loss: 2.196687\n",
      "Train Epoch: 2 [6400/60000 (11%)]\tTrain Loss: 2.242460\n",
      "Train Epoch: 2 [12800/60000 (21%)]\tTrain Loss: 2.126732\n",
      "Train Epoch: 2 [19200/60000 (32%)]\tTrain Loss: 2.219710\n",
      "Train Epoch: 2 [25600/60000 (43%)]\tTrain Loss: 2.021261\n",
      "Train Epoch: 2 [32000/60000 (53%)]\tTrain Loss: 1.830830\n",
      "Train Epoch: 2 [38400/60000 (64%)]\tTrain Loss: 1.797855\n",
      "Train Epoch: 2 [44800/60000 (75%)]\tTrain Loss: 1.562801\n",
      "Train Epoch: 2 [51200/60000 (85%)]\tTrain Loss: 1.590920\n",
      "Train Epoch: 2 [57600/60000 (96%)]\tTrain Loss: 1.261909\n",
      "\n",
      "[EPOCH: 2], \tTest Loss: 1.2263, \tTest Accuracy: 63.96 % \n",
      "\n",
      "Train Epoch: 3 [0/60000 (0%)]\tTrain Loss: 1.109981\n",
      "Train Epoch: 3 [6400/60000 (11%)]\tTrain Loss: 1.042457\n",
      "Train Epoch: 3 [12800/60000 (21%)]\tTrain Loss: 1.156081\n",
      "Train Epoch: 3 [19200/60000 (32%)]\tTrain Loss: 0.882077\n",
      "Train Epoch: 3 [25600/60000 (43%)]\tTrain Loss: 0.925652\n",
      "Train Epoch: 3 [32000/60000 (53%)]\tTrain Loss: 0.894979\n",
      "Train Epoch: 3 [38400/60000 (64%)]\tTrain Loss: 0.712706\n",
      "Train Epoch: 3 [44800/60000 (75%)]\tTrain Loss: 0.960616\n",
      "Train Epoch: 3 [51200/60000 (85%)]\tTrain Loss: 1.083102\n",
      "Train Epoch: 3 [57600/60000 (96%)]\tTrain Loss: 0.786619\n",
      "\n",
      "[EPOCH: 3], \tTest Loss: 0.7471, \tTest Accuracy: 77.66 % \n",
      "\n",
      "Train Epoch: 4 [0/60000 (0%)]\tTrain Loss: 0.565118\n",
      "Train Epoch: 4 [6400/60000 (11%)]\tTrain Loss: 1.057263\n",
      "Train Epoch: 4 [12800/60000 (21%)]\tTrain Loss: 0.861865\n",
      "Train Epoch: 4 [19200/60000 (32%)]\tTrain Loss: 0.791570\n",
      "Train Epoch: 4 [25600/60000 (43%)]\tTrain Loss: 0.846592\n",
      "Train Epoch: 4 [32000/60000 (53%)]\tTrain Loss: 0.952908\n",
      "Train Epoch: 4 [38400/60000 (64%)]\tTrain Loss: 0.814092\n",
      "Train Epoch: 4 [44800/60000 (75%)]\tTrain Loss: 0.604759\n",
      "Train Epoch: 4 [51200/60000 (85%)]\tTrain Loss: 0.895780\n",
      "Train Epoch: 4 [57600/60000 (96%)]\tTrain Loss: 0.593488\n",
      "\n",
      "[EPOCH: 4], \tTest Loss: 0.5572, \tTest Accuracy: 83.93 % \n",
      "\n",
      "Train Epoch: 5 [0/60000 (0%)]\tTrain Loss: 0.786280\n",
      "Train Epoch: 5 [6400/60000 (11%)]\tTrain Loss: 0.650493\n",
      "Train Epoch: 5 [12800/60000 (21%)]\tTrain Loss: 0.573321\n",
      "Train Epoch: 5 [19200/60000 (32%)]\tTrain Loss: 0.393180\n",
      "Train Epoch: 5 [25600/60000 (43%)]\tTrain Loss: 0.555609\n",
      "Train Epoch: 5 [32000/60000 (53%)]\tTrain Loss: 0.455155\n",
      "Train Epoch: 5 [38400/60000 (64%)]\tTrain Loss: 0.488624\n",
      "Train Epoch: 5 [44800/60000 (75%)]\tTrain Loss: 0.453321\n",
      "Train Epoch: 5 [51200/60000 (85%)]\tTrain Loss: 0.466653\n",
      "Train Epoch: 5 [57600/60000 (96%)]\tTrain Loss: 0.530145\n",
      "\n",
      "[EPOCH: 5], \tTest Loss: 0.4603, \tTest Accuracy: 86.60 % \n",
      "\n",
      "Train Epoch: 6 [0/60000 (0%)]\tTrain Loss: 0.373793\n",
      "Train Epoch: 6 [6400/60000 (11%)]\tTrain Loss: 0.586228\n",
      "Train Epoch: 6 [12800/60000 (21%)]\tTrain Loss: 0.377282\n",
      "Train Epoch: 6 [19200/60000 (32%)]\tTrain Loss: 0.449579\n",
      "Train Epoch: 6 [25600/60000 (43%)]\tTrain Loss: 0.295402\n",
      "Train Epoch: 6 [32000/60000 (53%)]\tTrain Loss: 0.346033\n",
      "Train Epoch: 6 [38400/60000 (64%)]\tTrain Loss: 0.347409\n",
      "Train Epoch: 6 [44800/60000 (75%)]\tTrain Loss: 0.209670\n",
      "Train Epoch: 6 [51200/60000 (85%)]\tTrain Loss: 0.503594\n",
      "Train Epoch: 6 [57600/60000 (96%)]\tTrain Loss: 0.269520\n",
      "\n",
      "[EPOCH: 6], \tTest Loss: 0.4127, \tTest Accuracy: 87.86 % \n",
      "\n",
      "Train Epoch: 7 [0/60000 (0%)]\tTrain Loss: 0.509329\n",
      "Train Epoch: 7 [6400/60000 (11%)]\tTrain Loss: 0.270131\n",
      "Train Epoch: 7 [12800/60000 (21%)]\tTrain Loss: 0.189364\n",
      "Train Epoch: 7 [19200/60000 (32%)]\tTrain Loss: 0.329186\n",
      "Train Epoch: 7 [25600/60000 (43%)]\tTrain Loss: 0.315392\n",
      "Train Epoch: 7 [32000/60000 (53%)]\tTrain Loss: 0.417993\n",
      "Train Epoch: 7 [38400/60000 (64%)]\tTrain Loss: 0.738737\n",
      "Train Epoch: 7 [44800/60000 (75%)]\tTrain Loss: 0.412177\n",
      "Train Epoch: 7 [51200/60000 (85%)]\tTrain Loss: 0.477797\n",
      "Train Epoch: 7 [57600/60000 (96%)]\tTrain Loss: 0.441491\n",
      "\n",
      "[EPOCH: 7], \tTest Loss: 0.3807, \tTest Accuracy: 89.18 % \n",
      "\n",
      "Train Epoch: 8 [0/60000 (0%)]\tTrain Loss: 0.426360\n",
      "Train Epoch: 8 [6400/60000 (11%)]\tTrain Loss: 0.231501\n",
      "Train Epoch: 8 [12800/60000 (21%)]\tTrain Loss: 0.325859\n",
      "Train Epoch: 8 [19200/60000 (32%)]\tTrain Loss: 0.660103\n",
      "Train Epoch: 8 [25600/60000 (43%)]\tTrain Loss: 0.716836\n",
      "Train Epoch: 8 [32000/60000 (53%)]\tTrain Loss: 0.200690\n",
      "Train Epoch: 8 [38400/60000 (64%)]\tTrain Loss: 0.360027\n",
      "Train Epoch: 8 [44800/60000 (75%)]\tTrain Loss: 0.237440\n",
      "Train Epoch: 8 [51200/60000 (85%)]\tTrain Loss: 0.382922\n",
      "Train Epoch: 8 [57600/60000 (96%)]\tTrain Loss: 0.233460\n",
      "\n",
      "[EPOCH: 8], \tTest Loss: 0.3596, \tTest Accuracy: 89.68 % \n",
      "\n",
      "Train Epoch: 9 [0/60000 (0%)]\tTrain Loss: 0.307156\n",
      "Train Epoch: 9 [6400/60000 (11%)]\tTrain Loss: 0.276663\n",
      "Train Epoch: 9 [12800/60000 (21%)]\tTrain Loss: 0.382330\n",
      "Train Epoch: 9 [19200/60000 (32%)]\tTrain Loss: 0.355044\n",
      "Train Epoch: 9 [25600/60000 (43%)]\tTrain Loss: 0.684564\n",
      "Train Epoch: 9 [32000/60000 (53%)]\tTrain Loss: 0.324947\n",
      "Train Epoch: 9 [38400/60000 (64%)]\tTrain Loss: 0.334946\n",
      "Train Epoch: 9 [44800/60000 (75%)]\tTrain Loss: 0.256403\n",
      "Train Epoch: 9 [51200/60000 (85%)]\tTrain Loss: 0.274913\n",
      "Train Epoch: 9 [57600/60000 (96%)]\tTrain Loss: 0.231043\n",
      "\n",
      "[EPOCH: 9], \tTest Loss: 0.3466, \tTest Accuracy: 90.09 % \n",
      "\n",
      "Train Epoch: 10 [0/60000 (0%)]\tTrain Loss: 0.092311\n",
      "Train Epoch: 10 [6400/60000 (11%)]\tTrain Loss: 0.226523\n",
      "Train Epoch: 10 [12800/60000 (21%)]\tTrain Loss: 0.378497\n",
      "Train Epoch: 10 [19200/60000 (32%)]\tTrain Loss: 0.360217\n",
      "Train Epoch: 10 [25600/60000 (43%)]\tTrain Loss: 0.226100\n",
      "Train Epoch: 10 [32000/60000 (53%)]\tTrain Loss: 0.315784\n",
      "Train Epoch: 10 [38400/60000 (64%)]\tTrain Loss: 0.814477\n",
      "Train Epoch: 10 [44800/60000 (75%)]\tTrain Loss: 0.496667\n",
      "Train Epoch: 10 [51200/60000 (85%)]\tTrain Loss: 0.299724\n",
      "Train Epoch: 10 [57600/60000 (96%)]\tTrain Loss: 0.287340\n",
      "\n",
      "[EPOCH: 10], \tTest Loss: 0.3350, \tTest Accuracy: 90.33 % \n",
      "\n"
     ]
    }
   ],
   "source": [
    "''' 10. MLP 학습 실행하며 Train, Test set의 Loss 및 Test set Accuracy 확인하기 '''\n",
    "for epoch in range(1, EPOCHS + 1):\n",
    "    train(model, train_loader, optimizer, log_interval = 200) # 200 step마다 결과 출력\n",
    "    test_loss, test_accuracy = evaluate(model, test_loader)\n",
    "    print(\"\\n[EPOCH: {}], \\tTest Loss: {:.4f}, \\tTest Accuracy: {:.2f} % \\n\".format(\n",
    "        epoch, test_loss, test_accuracy))"
   ]
  },
  {
   "cell_type": "markdown",
   "metadata": {},
   "source": [
    "### MLP With Dropout, ReLU, BN, HE, Adam"
   ]
  },
  {
   "cell_type": "markdown",
   "metadata": {},
   "source": [
    "# 일반적인 딥러닝 모델의 학습 순서\n",
    "1. 모델 구조를 설계하고 설계된 모델 구조의 파라미터(=Weight, Bias) 값을 랜덤으로 샘플링\n",
    "2. 모델에 Input 데이터를 투입하고 Output을 계산\n",
    "3. 계산된 Output을 Input 값과 매칭되는 정답 값과 비교하여 Loss 계산\n",
    "4. 계산된 Loss를 통해 역전파(Back-propagation)을 수행하여 파라미터를 갱신\n",
    "5. 2.~4. 과정을 반복하여 학습을 진행하며, 중간중간 Validation dataset으로 모델의 성능을 평가하여 평가 지표를 바탕으로 최적의 모델 선택\n",
    "6. 5.에서 선택된 모델로 Test dataset의 성능 평가"
   ]
  },
  {
   "cell_type": "code",
   "execution_count": 12,
   "metadata": {},
   "outputs": [],
   "source": [
    "''' Multi Layer Perceptron (MLP) 모델 설계하기 '''\n",
    "class Net(nn.Module):\n",
    "    def __init__(self):\n",
    "        super(Net, self).__init__()\n",
    "        self.fc1 = nn.Linear(28 * 28, 512)\n",
    "        self.fc2 = nn.Linear(512, 256)\n",
    "        self.fc3 = nn.Linear(256, 10)\n",
    "        self.dropout_prob = 0.5 # dropout 적용 레이어의 노드 중 50% (=0.5)에 dropout을 적용, activation 값을 0으로 만듬\n",
    "        self.batch_norm1 = nn.BatchNorm1d(512) # 첫 fully-connected 레이어의 output 노드 수(=512)만큼 적용\n",
    "        self.batch_norm2 = nn.BatchNorm1d(256) # 두번째 fully-connected 레이어의 output 노드 수(=256)만큼 적용\n",
    "\n",
    "    def forward(self, x):\n",
    "        x = x.view(-1, 28 * 28)\n",
    "        x = self.fc1(x)\n",
    "        x = self.batch_norm1(x)\n",
    "        x = F.relu(x)\n",
    "        x = F.dropout(x, training = self.training, p = self.dropout_prob) # model.train() 혹은 model.eval()에 의해 self.training=True 혹은 self.training=False로 바뀜\n",
    "        x = self.fc2(x)\n",
    "        x = self.batch_norm2(x)\n",
    "        x = F.relu(x)\n",
    "        x = F.dropout(x, training = self.training, p = self.dropout_prob)\n",
    "        x = self.fc3(x)\n",
    "        # x = F.log_softmax(x, dim = 1) # 원본 파일에서는 softmax를 사용하는 것으로 되어있지만, nn.CrossEntropyLoss()의 내부에 log softmax + NLL loss가 포함되어 있기 때문에 제거\n",
    "        return x"
   ]
  },
  {
   "cell_type": "markdown",
   "metadata": {},
   "source": [
    "- 모델 구조의 파라미터 값을 랜덤으로 샘플링하는 과정에서 어떤 분포에서 샘플링을 진행하는지에 따라 모델 학습이 좋은 방향으로 시작될 수도, 나쁜 방향으로 시작될 수도 있음\n",
    "  - ReLU 활성함수와 어울리는 `He initialization` 사용"
   ]
  },
  {
   "cell_type": "code",
   "execution_count": 13,
   "metadata": {},
   "outputs": [
    {
     "name": "stdout",
     "output_type": "stream",
     "text": [
      "Net(\n",
      "  (fc1): Linear(in_features=784, out_features=512, bias=True)\n",
      "  (fc2): Linear(in_features=512, out_features=256, bias=True)\n",
      "  (fc3): Linear(in_features=256, out_features=10, bias=True)\n",
      "  (batch_norm1): BatchNorm1d(512, eps=1e-05, momentum=0.1, affine=True, track_running_stats=True)\n",
      "  (batch_norm2): BatchNorm1d(256, eps=1e-05, momentum=0.1, affine=True, track_running_stats=True)\n",
      ")\n"
     ]
    }
   ],
   "source": [
    "''' Optimizer, Objective Function 설정하기 '''\n",
    "import torch.nn.init as init # 초기화 관련 모듈인 init import\n",
    "def weight_init(m):\n",
    "    if isinstance(m, nn.Linear): # MLP 모델 중 nn.Linear에 해당하는 파라미터에 대해 초기화 수행\n",
    "        init.kaiming_uniform_(m.weight.data) # He initialization (init.kaiming_uniform_ 이 He initialization 의미)\n",
    "\n",
    "model = Net().to(DEVICE)\n",
    "model.apply(weight_init) # Net()의 instance인 model에 He initialization 적용\n",
    "optimizer = torch.optim.Adam(model.parameters(), lr = 0.01) # Adam optimizer 사용, Learning rate=0.01 적용\n",
    "criterion = nn.CrossEntropyLoss()\n",
    "\n",
    "print(model)"
   ]
  },
  {
   "cell_type": "code",
   "execution_count": 14,
   "metadata": {},
   "outputs": [],
   "source": [
    "''' MLP 모델 학습을 진행하며 학습 데이터에 대한 모델 성능을 확인하는 함수 정의 '''\n",
    "def train(model, train_loader, optimizer, log_interval):\n",
    "    model.train()\n",
    "    for batch_idx, (image, label) in enumerate(train_loader):\n",
    "        image = image.to(DEVICE)\n",
    "        label = label.to(DEVICE)\n",
    "        optimizer.zero_grad()\n",
    "        output = model(image)\n",
    "        loss = criterion(output, label)\n",
    "        loss.backward()\n",
    "        optimizer.step()\n",
    "\n",
    "        if batch_idx % log_interval == 0:\n",
    "            print(\"Train Epoch: {} [{}/{} ({:.0f}%)]\\tTrain Loss: {:.6f}\".format(\n",
    "                epoch, batch_idx * len(image), \n",
    "                len(train_loader.dataset), 100. * batch_idx / len(train_loader), \n",
    "                loss.item()))"
   ]
  },
  {
   "cell_type": "code",
   "execution_count": 15,
   "metadata": {},
   "outputs": [],
   "source": [
    "''' 학습되는 과정 속에서 검증 데이터에 대한 모델 성능을 확인하는 함수 정의 '''\n",
    "def evaluate(model, test_loader):\n",
    "    model.eval()\n",
    "    test_loss = 0\n",
    "    correct = 0\n",
    "\n",
    "    with torch.no_grad():\n",
    "        for image, label in test_loader:\n",
    "            image = image.to(DEVICE)\n",
    "            label = label.to(DEVICE)\n",
    "            output = model(image)\n",
    "            test_loss += criterion(output, label).item()\n",
    "            prediction = output.max(1, keepdim = True)[1]\n",
    "            correct += prediction.eq(label.view_as(prediction)).sum().item()\n",
    "    \n",
    "    test_loss /= len(test_loader.dataset)\n",
    "    test_accuracy = 100. * correct / len(test_loader.dataset)\n",
    "    return test_loss, test_accuracy"
   ]
  },
  {
   "cell_type": "code",
   "execution_count": 16,
   "metadata": {},
   "outputs": [
    {
     "name": "stdout",
     "output_type": "stream",
     "text": [
      "Train Epoch: 1 [0/60000 (0%)]\tTrain Loss: 3.225241\n",
      "Train Epoch: 1 [6400/60000 (11%)]\tTrain Loss: 0.478568\n",
      "Train Epoch: 1 [12800/60000 (21%)]\tTrain Loss: 0.425489\n",
      "Train Epoch: 1 [19200/60000 (32%)]\tTrain Loss: 0.287904\n",
      "Train Epoch: 1 [25600/60000 (43%)]\tTrain Loss: 0.373578\n",
      "Train Epoch: 1 [32000/60000 (53%)]\tTrain Loss: 0.475197\n",
      "Train Epoch: 1 [38400/60000 (64%)]\tTrain Loss: 0.448329\n",
      "Train Epoch: 1 [44800/60000 (75%)]\tTrain Loss: 0.095729\n",
      "Train Epoch: 1 [51200/60000 (85%)]\tTrain Loss: 0.106933\n",
      "Train Epoch: 1 [57600/60000 (96%)]\tTrain Loss: 0.208484\n",
      "\n",
      "[EPOCH: 1], \tTest Loss: 0.0037, \tTest Accuracy: 96.42 % \n",
      "\n",
      "Train Epoch: 2 [0/60000 (0%)]\tTrain Loss: 0.258665\n",
      "Train Epoch: 2 [6400/60000 (11%)]\tTrain Loss: 0.217964\n",
      "Train Epoch: 2 [12800/60000 (21%)]\tTrain Loss: 0.074933\n",
      "Train Epoch: 2 [19200/60000 (32%)]\tTrain Loss: 0.335782\n",
      "Train Epoch: 2 [25600/60000 (43%)]\tTrain Loss: 0.197927\n",
      "Train Epoch: 2 [32000/60000 (53%)]\tTrain Loss: 0.580512\n",
      "Train Epoch: 2 [38400/60000 (64%)]\tTrain Loss: 0.171591\n",
      "Train Epoch: 2 [44800/60000 (75%)]\tTrain Loss: 0.254382\n",
      "Train Epoch: 2 [51200/60000 (85%)]\tTrain Loss: 0.675766\n",
      "Train Epoch: 2 [57600/60000 (96%)]\tTrain Loss: 0.492416\n",
      "\n",
      "[EPOCH: 2], \tTest Loss: 0.0035, \tTest Accuracy: 96.60 % \n",
      "\n",
      "Train Epoch: 3 [0/60000 (0%)]\tTrain Loss: 0.153932\n",
      "Train Epoch: 3 [6400/60000 (11%)]\tTrain Loss: 0.472208\n",
      "Train Epoch: 3 [12800/60000 (21%)]\tTrain Loss: 0.097418\n",
      "Train Epoch: 3 [19200/60000 (32%)]\tTrain Loss: 0.338965\n",
      "Train Epoch: 3 [25600/60000 (43%)]\tTrain Loss: 0.369620\n",
      "Train Epoch: 3 [32000/60000 (53%)]\tTrain Loss: 0.176578\n",
      "Train Epoch: 3 [38400/60000 (64%)]\tTrain Loss: 0.517517\n",
      "Train Epoch: 3 [44800/60000 (75%)]\tTrain Loss: 0.126474\n",
      "Train Epoch: 3 [51200/60000 (85%)]\tTrain Loss: 0.184143\n",
      "Train Epoch: 3 [57600/60000 (96%)]\tTrain Loss: 0.119153\n",
      "\n",
      "[EPOCH: 3], \tTest Loss: 0.0027, \tTest Accuracy: 97.31 % \n",
      "\n",
      "Train Epoch: 4 [0/60000 (0%)]\tTrain Loss: 0.195654\n",
      "Train Epoch: 4 [6400/60000 (11%)]\tTrain Loss: 0.076947\n",
      "Train Epoch: 4 [12800/60000 (21%)]\tTrain Loss: 0.077389\n",
      "Train Epoch: 4 [19200/60000 (32%)]\tTrain Loss: 0.713991\n",
      "Train Epoch: 4 [25600/60000 (43%)]\tTrain Loss: 0.441133\n",
      "Train Epoch: 4 [32000/60000 (53%)]\tTrain Loss: 0.110933\n",
      "Train Epoch: 4 [38400/60000 (64%)]\tTrain Loss: 0.070878\n",
      "Train Epoch: 4 [44800/60000 (75%)]\tTrain Loss: 0.097973\n",
      "Train Epoch: 4 [51200/60000 (85%)]\tTrain Loss: 0.230363\n",
      "Train Epoch: 4 [57600/60000 (96%)]\tTrain Loss: 0.152723\n",
      "\n",
      "[EPOCH: 4], \tTest Loss: 0.0028, \tTest Accuracy: 97.30 % \n",
      "\n",
      "Train Epoch: 5 [0/60000 (0%)]\tTrain Loss: 0.272081\n",
      "Train Epoch: 5 [6400/60000 (11%)]\tTrain Loss: 0.103185\n",
      "Train Epoch: 5 [12800/60000 (21%)]\tTrain Loss: 0.271965\n",
      "Train Epoch: 5 [19200/60000 (32%)]\tTrain Loss: 0.048119\n",
      "Train Epoch: 5 [25600/60000 (43%)]\tTrain Loss: 0.051543\n",
      "Train Epoch: 5 [32000/60000 (53%)]\tTrain Loss: 0.058702\n",
      "Train Epoch: 5 [38400/60000 (64%)]\tTrain Loss: 0.306656\n",
      "Train Epoch: 5 [44800/60000 (75%)]\tTrain Loss: 0.244720\n",
      "Train Epoch: 5 [51200/60000 (85%)]\tTrain Loss: 0.360514\n",
      "Train Epoch: 5 [57600/60000 (96%)]\tTrain Loss: 0.108941\n",
      "\n",
      "[EPOCH: 5], \tTest Loss: 0.0026, \tTest Accuracy: 97.37 % \n",
      "\n",
      "Train Epoch: 6 [0/60000 (0%)]\tTrain Loss: 0.037336\n",
      "Train Epoch: 6 [6400/60000 (11%)]\tTrain Loss: 0.178869\n",
      "Train Epoch: 6 [12800/60000 (21%)]\tTrain Loss: 0.038647\n",
      "Train Epoch: 6 [19200/60000 (32%)]\tTrain Loss: 0.442680\n",
      "Train Epoch: 6 [25600/60000 (43%)]\tTrain Loss: 0.088483\n",
      "Train Epoch: 6 [32000/60000 (53%)]\tTrain Loss: 0.071889\n",
      "Train Epoch: 6 [38400/60000 (64%)]\tTrain Loss: 0.737295\n",
      "Train Epoch: 6 [44800/60000 (75%)]\tTrain Loss: 0.069484\n",
      "Train Epoch: 6 [51200/60000 (85%)]\tTrain Loss: 0.111969\n",
      "Train Epoch: 6 [57600/60000 (96%)]\tTrain Loss: 0.177733\n",
      "\n",
      "[EPOCH: 6], \tTest Loss: 0.0025, \tTest Accuracy: 97.44 % \n",
      "\n",
      "Train Epoch: 7 [0/60000 (0%)]\tTrain Loss: 0.162443\n",
      "Train Epoch: 7 [6400/60000 (11%)]\tTrain Loss: 0.101058\n",
      "Train Epoch: 7 [12800/60000 (21%)]\tTrain Loss: 0.147582\n",
      "Train Epoch: 7 [19200/60000 (32%)]\tTrain Loss: 0.015781\n",
      "Train Epoch: 7 [25600/60000 (43%)]\tTrain Loss: 0.036006\n",
      "Train Epoch: 7 [32000/60000 (53%)]\tTrain Loss: 0.275769\n",
      "Train Epoch: 7 [38400/60000 (64%)]\tTrain Loss: 0.193523\n",
      "Train Epoch: 7 [44800/60000 (75%)]\tTrain Loss: 0.106469\n",
      "Train Epoch: 7 [51200/60000 (85%)]\tTrain Loss: 0.180603\n",
      "Train Epoch: 7 [57600/60000 (96%)]\tTrain Loss: 0.075624\n",
      "\n",
      "[EPOCH: 7], \tTest Loss: 0.0023, \tTest Accuracy: 97.74 % \n",
      "\n",
      "Train Epoch: 8 [0/60000 (0%)]\tTrain Loss: 0.447527\n",
      "Train Epoch: 8 [6400/60000 (11%)]\tTrain Loss: 0.236503\n",
      "Train Epoch: 8 [12800/60000 (21%)]\tTrain Loss: 0.068444\n",
      "Train Epoch: 8 [19200/60000 (32%)]\tTrain Loss: 0.151625\n",
      "Train Epoch: 8 [25600/60000 (43%)]\tTrain Loss: 0.388811\n",
      "Train Epoch: 8 [32000/60000 (53%)]\tTrain Loss: 0.269763\n",
      "Train Epoch: 8 [38400/60000 (64%)]\tTrain Loss: 0.176104\n",
      "Train Epoch: 8 [44800/60000 (75%)]\tTrain Loss: 0.201441\n",
      "Train Epoch: 8 [51200/60000 (85%)]\tTrain Loss: 0.069227\n",
      "Train Epoch: 8 [57600/60000 (96%)]\tTrain Loss: 0.142201\n",
      "\n",
      "[EPOCH: 8], \tTest Loss: 0.0022, \tTest Accuracy: 97.76 % \n",
      "\n",
      "Train Epoch: 9 [0/60000 (0%)]\tTrain Loss: 0.209701\n",
      "Train Epoch: 9 [6400/60000 (11%)]\tTrain Loss: 0.093299\n",
      "Train Epoch: 9 [12800/60000 (21%)]\tTrain Loss: 0.142553\n",
      "Train Epoch: 9 [19200/60000 (32%)]\tTrain Loss: 0.516241\n",
      "Train Epoch: 9 [25600/60000 (43%)]\tTrain Loss: 0.094479\n",
      "Train Epoch: 9 [32000/60000 (53%)]\tTrain Loss: 0.235126\n",
      "Train Epoch: 9 [38400/60000 (64%)]\tTrain Loss: 0.092827\n",
      "Train Epoch: 9 [44800/60000 (75%)]\tTrain Loss: 0.216079\n",
      "Train Epoch: 9 [51200/60000 (85%)]\tTrain Loss: 0.372844\n",
      "Train Epoch: 9 [57600/60000 (96%)]\tTrain Loss: 0.130176\n",
      "\n",
      "[EPOCH: 9], \tTest Loss: 0.0022, \tTest Accuracy: 97.75 % \n",
      "\n",
      "Train Epoch: 10 [0/60000 (0%)]\tTrain Loss: 0.123614\n",
      "Train Epoch: 10 [6400/60000 (11%)]\tTrain Loss: 0.096529\n",
      "Train Epoch: 10 [12800/60000 (21%)]\tTrain Loss: 0.185511\n",
      "Train Epoch: 10 [19200/60000 (32%)]\tTrain Loss: 0.655627\n",
      "Train Epoch: 10 [25600/60000 (43%)]\tTrain Loss: 0.068821\n",
      "Train Epoch: 10 [32000/60000 (53%)]\tTrain Loss: 0.075411\n",
      "Train Epoch: 10 [38400/60000 (64%)]\tTrain Loss: 0.056628\n",
      "Train Epoch: 10 [44800/60000 (75%)]\tTrain Loss: 0.186194\n",
      "Train Epoch: 10 [51200/60000 (85%)]\tTrain Loss: 0.198037\n",
      "Train Epoch: 10 [57600/60000 (96%)]\tTrain Loss: 0.160052\n",
      "\n",
      "[EPOCH: 10], \tTest Loss: 0.0022, \tTest Accuracy: 97.74 % \n",
      "\n"
     ]
    }
   ],
   "source": [
    "''' MLP 학습 실행하며 Train, Test set의 Loss 및 Test set Accuracy 확인하기 '''\n",
    "for epoch in range(1, EPOCHS + 1):\n",
    "    train(model, train_loader, optimizer, log_interval = 200)\n",
    "    test_loss, test_accuracy = evaluate(model, test_loader)\n",
    "    print(\"\\n[EPOCH: {}], \\tTest Loss: {:.4f}, \\tTest Accuracy: {:.2f} % \\n\".format(\n",
    "        epoch, test_loss, test_accuracy))"
   ]
  },
  {
   "cell_type": "markdown",
   "metadata": {},
   "source": [
    "### MLP With CIFAR-10"
   ]
  },
  {
   "cell_type": "markdown",
   "metadata": {},
   "source": [
    "- MNIST 데이터셋과 같은 방식으로, `torchvision`의 `datasets`로부터 CIFAR-10 데이터셋 다운로드\n",
    "  - `root`: 데이터가 저장될 장소 경로 지정 `../`은 상위폴더 의미\n",
    "  - `train`: training 데이터셋인지, test 데이터셋인지 설정(True면 training 데이터셋)\n",
    "  - `download`: 인터넷에서 다운로드해 이용할 것인지 결정하는 요소\n",
    "  - `transform`: 다운로드할 때 기본적인 전처리 동시에 진행할 수 있음, 여기서는 `transforms.ToTensor()`를 이용하였는데, Tensor 형태로 변환하고, pixel값을 255로 나누어 0~1 사이의 숫자로 정규화하는 과정이 포함되어 있음\n",
    "    - `transforms.ToTensor()` :  `PIL` 이미지나, numpy.ndarray (H x W x C) in the range [0, 255] 형태로 표현된 이미지를 shape (C x H x W) in the range [0.0, 1.0]의 `torch.FloatTensor`으로 바꿔줌\n",
    "\n",
    "- `DataLoader`: 다운로드한 dataset을 mini-batch 단위로 분리하여 불러오기 위한 loader\n",
    "  `shuffle`: 데이터의 순서를 섞고자할 때"
   ]
  },
  {
   "cell_type": "code",
   "execution_count": 17,
   "metadata": {},
   "outputs": [
    {
     "name": "stdout",
     "output_type": "stream",
     "text": [
      "Downloading https://www.cs.toronto.edu/~kriz/cifar-10-python.tar.gz to ./data/CIFAR_10\\cifar-10-python.tar.gz\n"
     ]
    },
    {
     "name": "stderr",
     "output_type": "stream",
     "text": [
      "100%|██████████| 170498071/170498071 [00:39<00:00, 4271088.85it/s]\n"
     ]
    },
    {
     "name": "stdout",
     "output_type": "stream",
     "text": [
      "Extracting ./data/CIFAR_10\\cifar-10-python.tar.gz to ./data/CIFAR_10\n"
     ]
    }
   ],
   "source": [
    "''' CIFAR10 데이터 다운로드 (Train set, Test set 분리하기) '''\n",
    "train_dataset = datasets.CIFAR10(root = \"./data/CIFAR_10\",\n",
    "                                  train = True,\n",
    "                                  download = True,\n",
    "                                  transform = transforms.ToTensor())\n",
    "\n",
    "test_dataset = datasets.CIFAR10(root = \"./data/CIFAR_10\",\n",
    "                                train = False,\n",
    "                                transform = transforms.ToTensor())\n",
    "\n",
    "train_loader = torch.utils.data.DataLoader(dataset = train_dataset,\n",
    "                                            batch_size = BATCH_SIZE,\n",
    "                                            shuffle = True)\n",
    "\n",
    "test_loader = torch.utils.data.DataLoader(dataset = test_dataset,\n",
    "                                          batch_size = BATCH_SIZE,\n",
    "                                          shuffle = False)"
   ]
  },
  {
   "cell_type": "code",
   "execution_count": 18,
   "metadata": {},
   "outputs": [
    {
     "name": "stdout",
     "output_type": "stream",
     "text": [
      "X_train: torch.Size([32, 3, 32, 32]) type: torch.FloatTensor\n",
      "y_train: torch.Size([32]) type: torch.LongTensor\n"
     ]
    }
   ],
   "source": [
    "''' 데이터 확인하기 (1) '''\n",
    "for (X_train, y_train) in train_loader:\n",
    "    print('X_train:', X_train.size(), 'type:', X_train.type())\n",
    "    print('y_train:', y_train.size(), 'type:', y_train.type())\n",
    "    break"
   ]
  },
  {
   "cell_type": "code",
   "execution_count": 19,
   "metadata": {},
   "outputs": [
    {
     "data": {
      "image/png": "[encoded data removed]",
      "text/plain": [
       "<Figure size 1000x100 with 10 Axes>"
      ]
     },
     "metadata": {},
     "output_type": "display_data"
    }
   ],
   "source": [
    "''' 데이터 확인하기 (2) '''\n",
    "pltsize = 1\n",
    "plt.figure(figsize=(10 * pltsize, pltsize))\n",
    "\n",
    "for i in range(10):\n",
    "    plt.subplot(1, 10, i + 1)\n",
    "    plt.axis('off')\n",
    "    plt.imshow(np.transpose(X_train[i], (1, 2, 0)))\n",
    "    plt.title('Class: ' + str(y_train[i].item()))"
   ]
  },
  {
   "cell_type": "code",
   "execution_count": 20,
   "metadata": {},
   "outputs": [],
   "source": [
    "''' Multi Layer Perceptron (MLP) 모델 설계하기 '''\n",
    "class Net(nn.Module):\n",
    "    def __init__(self):\n",
    "        super(Net, self).__init__()\n",
    "        self.fc1 = nn.Linear(32 * 32 * 3, 512)\n",
    "        self.fc2 = nn.Linear(512, 256)\n",
    "        self.fc3 = nn.Linear(256, 10)\n",
    "\n",
    "    def forward(self, x):\n",
    "        x = x.view(-1, 32 * 32 * 3)\n",
    "        x = self.fc1(x)\n",
    "        x = F.relu(x)\n",
    "        x = self.fc2(x)\n",
    "        x = F.relu(x)\n",
    "        x = self.fc3(x)\n",
    "        # x = F.log_softmax(x, dim = 1)\n",
    "        return x "
   ]
  },
  {
   "cell_type": "code",
   "execution_count": 21,
   "metadata": {},
   "outputs": [
    {
     "name": "stdout",
     "output_type": "stream",
     "text": [
      "Net(\n",
      "  (fc1): Linear(in_features=3072, out_features=512, bias=True)\n",
      "  (fc2): Linear(in_features=512, out_features=256, bias=True)\n",
      "  (fc3): Linear(in_features=256, out_features=10, bias=True)\n",
      ")\n"
     ]
    }
   ],
   "source": [
    "''' Optimizer, Objective Function 설정하기 '''\n",
    "model = Net().to(DEVICE)\n",
    "optimizer = torch.optim.Adam(model.parameters(), lr = 0.001)\n",
    "criterion = nn.CrossEntropyLoss()\n",
    "\n",
    "print(model)"
   ]
  },
  {
   "cell_type": "code",
   "execution_count": 22,
   "metadata": {},
   "outputs": [],
   "source": [
    "''' MLP 모델 학습을 진행하며 학습 데이터에 대한 모델 성능을 확인하는 함수 정의 '''\n",
    "def train(model, train_loader, optimizer, log_interval):\n",
    "    model.train()\n",
    "    for batch_idx, (image, label) in enumerate(train_loader):\n",
    "        image = image.to(DEVICE)\n",
    "        label = label.to(DEVICE)\n",
    "        optimizer.zero_grad()\n",
    "        output = model(image)\n",
    "        loss = criterion(output, label)\n",
    "        loss.backward()\n",
    "        optimizer.step()\n",
    "\n",
    "        if batch_idx % log_interval == 0:\n",
    "            print(\"Train Epoch: {} [{}/{} ({:.0f}%)]\\tTrain Loss: {:.6f}\".format(\n",
    "                epoch, batch_idx * len(image), \n",
    "                len(train_loader.dataset), 100. * batch_idx / len(train_loader), \n",
    "                loss.item()))"
   ]
  },
  {
   "cell_type": "code",
   "execution_count": 23,
   "metadata": {},
   "outputs": [],
   "source": [
    "''' 학습되는 과정 속에서 검증 데이터에 대한 모델 성능을 확인하는 함수 정의 '''\n",
    "def evaluate(model, test_loader):\n",
    "    model.eval()\n",
    "    test_loss = 0\n",
    "    correct = 0\n",
    "\n",
    "    with torch.no_grad():\n",
    "        for image, label in test_loader:\n",
    "            image = image.to(DEVICE)\n",
    "            label = label.to(DEVICE)\n",
    "            output = model(image)\n",
    "            test_loss += criterion(output, label).item()\n",
    "            prediction = output.max(1, keepdim = True)[1]\n",
    "            correct += prediction.eq(label.view_as(prediction)).sum().item()\n",
    "    \n",
    "    test_loss /= len(test_loader.dataset)\n",
    "    test_accuracy = 100. * correct / len(test_loader.dataset)\n",
    "    return test_loss, test_accuracy"
   ]
  },
  {
   "cell_type": "code",
   "execution_count": 24,
   "metadata": {},
   "outputs": [
    {
     "name": "stdout",
     "output_type": "stream",
     "text": [
      "Train Epoch: 1 [0/50000 (0%)]\tTrain Loss: 2.281679\n",
      "Train Epoch: 1 [6400/50000 (13%)]\tTrain Loss: 1.953266\n",
      "Train Epoch: 1 [12800/50000 (26%)]\tTrain Loss: 1.768429\n",
      "Train Epoch: 1 [19200/50000 (38%)]\tTrain Loss: 1.942190\n",
      "Train Epoch: 1 [25600/50000 (51%)]\tTrain Loss: 1.809869\n",
      "Train Epoch: 1 [32000/50000 (64%)]\tTrain Loss: 1.903673\n",
      "Train Epoch: 1 [38400/50000 (77%)]\tTrain Loss: 1.682141\n",
      "Train Epoch: 1 [44800/50000 (90%)]\tTrain Loss: 1.818140\n",
      "\n",
      "[EPOCH: 1], \tTest Loss: 0.0547, \tTest Accuracy: 36.03 % \n",
      "\n",
      "Train Epoch: 2 [0/50000 (0%)]\tTrain Loss: 1.660260\n",
      "Train Epoch: 2 [6400/50000 (13%)]\tTrain Loss: 1.367717\n",
      "Train Epoch: 2 [12800/50000 (26%)]\tTrain Loss: 1.708410\n",
      "Train Epoch: 2 [19200/50000 (38%)]\tTrain Loss: 1.666535\n",
      "Train Epoch: 2 [25600/50000 (51%)]\tTrain Loss: 1.603441\n",
      "Train Epoch: 2 [32000/50000 (64%)]\tTrain Loss: 1.752793\n",
      "Train Epoch: 2 [38400/50000 (77%)]\tTrain Loss: 1.553816\n",
      "Train Epoch: 2 [44800/50000 (90%)]\tTrain Loss: 1.972110\n",
      "\n",
      "[EPOCH: 2], \tTest Loss: 0.0501, \tTest Accuracy: 41.84 % \n",
      "\n",
      "Train Epoch: 3 [0/50000 (0%)]\tTrain Loss: 1.778971\n",
      "Train Epoch: 3 [6400/50000 (13%)]\tTrain Loss: 1.634524\n",
      "Train Epoch: 3 [12800/50000 (26%)]\tTrain Loss: 1.660869\n",
      "Train Epoch: 3 [19200/50000 (38%)]\tTrain Loss: 1.633246\n",
      "Train Epoch: 3 [25600/50000 (51%)]\tTrain Loss: 1.614012\n",
      "Train Epoch: 3 [32000/50000 (64%)]\tTrain Loss: 1.521789\n",
      "Train Epoch: 3 [38400/50000 (77%)]\tTrain Loss: 1.509202\n",
      "Train Epoch: 3 [44800/50000 (90%)]\tTrain Loss: 1.470892\n",
      "\n",
      "[EPOCH: 3], \tTest Loss: 0.0479, \tTest Accuracy: 45.86 % \n",
      "\n",
      "Train Epoch: 4 [0/50000 (0%)]\tTrain Loss: 1.512213\n",
      "Train Epoch: 4 [6400/50000 (13%)]\tTrain Loss: 1.502822\n",
      "Train Epoch: 4 [12800/50000 (26%)]\tTrain Loss: 1.745299\n",
      "Train Epoch: 4 [19200/50000 (38%)]\tTrain Loss: 1.420932\n",
      "Train Epoch: 4 [25600/50000 (51%)]\tTrain Loss: 1.926205\n",
      "Train Epoch: 4 [32000/50000 (64%)]\tTrain Loss: 1.693915\n",
      "Train Epoch: 4 [38400/50000 (77%)]\tTrain Loss: 1.272215\n",
      "Train Epoch: 4 [44800/50000 (90%)]\tTrain Loss: 1.564103\n",
      "\n",
      "[EPOCH: 4], \tTest Loss: 0.0467, \tTest Accuracy: 47.03 % \n",
      "\n",
      "Train Epoch: 5 [0/50000 (0%)]\tTrain Loss: 1.279873\n",
      "Train Epoch: 5 [6400/50000 (13%)]\tTrain Loss: 1.568600\n",
      "Train Epoch: 5 [12800/50000 (26%)]\tTrain Loss: 1.222767\n",
      "Train Epoch: 5 [19200/50000 (38%)]\tTrain Loss: 1.346143\n",
      "Train Epoch: 5 [25600/50000 (51%)]\tTrain Loss: 1.505247\n",
      "Train Epoch: 5 [32000/50000 (64%)]\tTrain Loss: 1.471771\n",
      "Train Epoch: 5 [38400/50000 (77%)]\tTrain Loss: 1.707793\n",
      "Train Epoch: 5 [44800/50000 (90%)]\tTrain Loss: 1.821720\n",
      "\n",
      "[EPOCH: 5], \tTest Loss: 0.0480, \tTest Accuracy: 44.96 % \n",
      "\n",
      "Train Epoch: 6 [0/50000 (0%)]\tTrain Loss: 1.026478\n",
      "Train Epoch: 6 [6400/50000 (13%)]\tTrain Loss: 1.466183\n",
      "Train Epoch: 6 [12800/50000 (26%)]\tTrain Loss: 1.556906\n",
      "Train Epoch: 6 [19200/50000 (38%)]\tTrain Loss: 1.371238\n",
      "Train Epoch: 6 [25600/50000 (51%)]\tTrain Loss: 1.747759\n",
      "Train Epoch: 6 [32000/50000 (64%)]\tTrain Loss: 1.397654\n",
      "Train Epoch: 6 [38400/50000 (77%)]\tTrain Loss: 1.705464\n",
      "Train Epoch: 6 [44800/50000 (90%)]\tTrain Loss: 1.250443\n",
      "\n",
      "[EPOCH: 6], \tTest Loss: 0.0470, \tTest Accuracy: 46.10 % \n",
      "\n",
      "Train Epoch: 7 [0/50000 (0%)]\tTrain Loss: 1.440083\n",
      "Train Epoch: 7 [6400/50000 (13%)]\tTrain Loss: 1.510956\n",
      "Train Epoch: 7 [12800/50000 (26%)]\tTrain Loss: 1.266108\n",
      "Train Epoch: 7 [19200/50000 (38%)]\tTrain Loss: 1.206218\n",
      "Train Epoch: 7 [25600/50000 (51%)]\tTrain Loss: 1.277994\n",
      "Train Epoch: 7 [32000/50000 (64%)]\tTrain Loss: 1.403161\n",
      "Train Epoch: 7 [38400/50000 (77%)]\tTrain Loss: 1.556372\n",
      "Train Epoch: 7 [44800/50000 (90%)]\tTrain Loss: 1.227485\n",
      "\n",
      "[EPOCH: 7], \tTest Loss: 0.0466, \tTest Accuracy: 47.11 % \n",
      "\n",
      "Train Epoch: 8 [0/50000 (0%)]\tTrain Loss: 1.538368\n",
      "Train Epoch: 8 [6400/50000 (13%)]\tTrain Loss: 1.188220\n",
      "Train Epoch: 8 [12800/50000 (26%)]\tTrain Loss: 0.960168\n",
      "Train Epoch: 8 [19200/50000 (38%)]\tTrain Loss: 1.259937\n",
      "Train Epoch: 8 [25600/50000 (51%)]\tTrain Loss: 1.115811\n",
      "Train Epoch: 8 [32000/50000 (64%)]\tTrain Loss: 1.404681\n",
      "Train Epoch: 8 [38400/50000 (77%)]\tTrain Loss: 1.501333\n",
      "Train Epoch: 8 [44800/50000 (90%)]\tTrain Loss: 1.693823\n",
      "\n",
      "[EPOCH: 8], \tTest Loss: 0.0462, \tTest Accuracy: 46.59 % \n",
      "\n",
      "Train Epoch: 9 [0/50000 (0%)]\tTrain Loss: 1.174892\n",
      "Train Epoch: 9 [6400/50000 (13%)]\tTrain Loss: 1.395987\n",
      "Train Epoch: 9 [12800/50000 (26%)]\tTrain Loss: 1.556510\n",
      "Train Epoch: 9 [19200/50000 (38%)]\tTrain Loss: 1.207577\n",
      "Train Epoch: 9 [25600/50000 (51%)]\tTrain Loss: 1.365759\n",
      "Train Epoch: 9 [32000/50000 (64%)]\tTrain Loss: 1.428595\n",
      "Train Epoch: 9 [38400/50000 (77%)]\tTrain Loss: 1.181470\n",
      "Train Epoch: 9 [44800/50000 (90%)]\tTrain Loss: 1.332925\n",
      "\n",
      "[EPOCH: 9], \tTest Loss: 0.0460, \tTest Accuracy: 47.67 % \n",
      "\n",
      "Train Epoch: 10 [0/50000 (0%)]\tTrain Loss: 1.615110\n",
      "Train Epoch: 10 [6400/50000 (13%)]\tTrain Loss: 1.468446\n",
      "Train Epoch: 10 [12800/50000 (26%)]\tTrain Loss: 1.350931\n",
      "Train Epoch: 10 [19200/50000 (38%)]\tTrain Loss: 1.201852\n",
      "Train Epoch: 10 [25600/50000 (51%)]\tTrain Loss: 1.258770\n",
      "Train Epoch: 10 [32000/50000 (64%)]\tTrain Loss: 1.443401\n",
      "Train Epoch: 10 [38400/50000 (77%)]\tTrain Loss: 1.526948\n",
      "Train Epoch: 10 [44800/50000 (90%)]\tTrain Loss: 1.140142\n",
      "\n",
      "[EPOCH: 10], \tTest Loss: 0.0447, \tTest Accuracy: 49.41 % \n",
      "\n"
     ]
    }
   ],
   "source": [
    "''' MLP 학습 실행하며 Train, Test set의 Loss 및 Test set Accuracy 확인하기 '''\n",
    "for epoch in range(1, EPOCHS + 1):\n",
    "    train(model, train_loader, optimizer, log_interval = 200)\n",
    "    test_loss, test_accuracy = evaluate(model, test_loader)\n",
    "    print(\"\\n[EPOCH: {}], \\tTest Loss: {:.4f}, \\tTest Accuracy: {:.2f} % \\n\".format(\n",
    "        epoch, test_loss, test_accuracy))"
   ]
  }
 ],
 "metadata": {
  "kernelspec": {
   "display_name": "TEST",
   "language": "python",
   "name": "test"
  },
  "language_info": {
   "codemirror_mode": {
    "name": "ipython",
    "version": 3
   },
   "file_extension": ".py",
   "mimetype": "text/x-python",
   "name": "python",
   "nbconvert_exporter": "python",
   "pygments_lexer": "ipython3",
   "version": "3.9.18"
  }
 },
 "nbformat": 4,
 "nbformat_minor": 2
}
