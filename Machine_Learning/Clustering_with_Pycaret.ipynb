{
 "cells": [
  {
   "cell_type": "markdown",
   "metadata": {},
   "source": [
    "<font color=\"#CC3D3D\"><p>\n",
    "# Exercise: Clustering with Pycaret"
   ]
  },
  {
   "cell_type": "markdown",
   "metadata": {},
   "source": [
    "### 0. Problem Statement and Dataset\n",
    "- 여행사에서 데이터 분석을 담당하는 ABM은 고객의 여행지 선호도 설문 조사 결과를 이용하여 선호도를 기준으로 고객들을 군집화하고자 한다.\n",
    "- 해당 데이터는 고객 별 항목의 선호도에 따라 여행지 선택 시 중요하게 생각하는 항목의 점수를 1 ~ 5 점까지 기입한 데이터이다."
   ]
  },
  {
   "cell_type": "code",
   "execution_count": 1,
   "metadata": {},
   "outputs": [],
   "source": [
    "import pandas as pd\n",
    "import numpy as np\n",
    "import pandas_profiling as pp\n",
    "import matplotlib.pylab as plt \n",
    "from matplotlib import font_manager, rc \n",
    "import seaborn as sns \n",
    "%matplotlib inline\n",
    "import platform"
   ]
  },
  {
   "cell_type": "markdown",
   "metadata": {},
   "source": [
    "### 1. Read Data"
   ]
  },
  {
   "cell_type": "code",
   "execution_count": 2,
   "metadata": {},
   "outputs": [
    {
     "data": {
      "text/html": [
       "<div>\n",
       "<style scoped>\n",
       "    .dataframe tbody tr th:only-of-type {\n",
       "        vertical-align: middle;\n",
       "    }\n",
       "\n",
       "    .dataframe tbody tr th {\n",
       "        vertical-align: top;\n",
       "    }\n",
       "\n",
       "    .dataframe thead th {\n",
       "        text-align: right;\n",
       "    }\n",
       "</style>\n",
       "<table border=\"1\" class=\"dataframe\">\n",
       "  <thead>\n",
       "    <tr style=\"text-align: right;\">\n",
       "      <th></th>\n",
       "      <th>ID</th>\n",
       "      <th>지명도</th>\n",
       "      <th>볼거리</th>\n",
       "      <th>가격</th>\n",
       "      <th>거리</th>\n",
       "      <th>숙소</th>\n",
       "      <th>쇼핑</th>\n",
       "      <th>음식</th>\n",
       "      <th>교통</th>\n",
       "      <th>휴식</th>\n",
       "    </tr>\n",
       "  </thead>\n",
       "  <tbody>\n",
       "    <tr>\n",
       "      <th>0</th>\n",
       "      <td>#0001</td>\n",
       "      <td>2</td>\n",
       "      <td>2</td>\n",
       "      <td>1</td>\n",
       "      <td>2</td>\n",
       "      <td>5</td>\n",
       "      <td>3</td>\n",
       "      <td>2</td>\n",
       "      <td>1</td>\n",
       "      <td>5</td>\n",
       "    </tr>\n",
       "    <tr>\n",
       "      <th>1</th>\n",
       "      <td>#0002</td>\n",
       "      <td>4</td>\n",
       "      <td>2</td>\n",
       "      <td>5</td>\n",
       "      <td>2</td>\n",
       "      <td>2</td>\n",
       "      <td>1</td>\n",
       "      <td>5</td>\n",
       "      <td>3</td>\n",
       "      <td>2</td>\n",
       "    </tr>\n",
       "    <tr>\n",
       "      <th>2</th>\n",
       "      <td>#0003</td>\n",
       "      <td>3</td>\n",
       "      <td>1</td>\n",
       "      <td>4</td>\n",
       "      <td>3</td>\n",
       "      <td>2</td>\n",
       "      <td>3</td>\n",
       "      <td>3</td>\n",
       "      <td>5</td>\n",
       "      <td>1</td>\n",
       "    </tr>\n",
       "    <tr>\n",
       "      <th>3</th>\n",
       "      <td>#0004</td>\n",
       "      <td>3</td>\n",
       "      <td>1</td>\n",
       "      <td>4</td>\n",
       "      <td>2</td>\n",
       "      <td>2</td>\n",
       "      <td>3</td>\n",
       "      <td>3</td>\n",
       "      <td>5</td>\n",
       "      <td>3</td>\n",
       "    </tr>\n",
       "    <tr>\n",
       "      <th>4</th>\n",
       "      <td>#0005</td>\n",
       "      <td>5</td>\n",
       "      <td>5</td>\n",
       "      <td>2</td>\n",
       "      <td>2</td>\n",
       "      <td>3</td>\n",
       "      <td>3</td>\n",
       "      <td>3</td>\n",
       "      <td>2</td>\n",
       "      <td>3</td>\n",
       "    </tr>\n",
       "    <tr>\n",
       "      <th>...</th>\n",
       "      <td>...</td>\n",
       "      <td>...</td>\n",
       "      <td>...</td>\n",
       "      <td>...</td>\n",
       "      <td>...</td>\n",
       "      <td>...</td>\n",
       "      <td>...</td>\n",
       "      <td>...</td>\n",
       "      <td>...</td>\n",
       "      <td>...</td>\n",
       "    </tr>\n",
       "    <tr>\n",
       "      <th>501</th>\n",
       "      <td>#0502</td>\n",
       "      <td>1</td>\n",
       "      <td>3</td>\n",
       "      <td>4</td>\n",
       "      <td>3</td>\n",
       "      <td>1</td>\n",
       "      <td>1</td>\n",
       "      <td>2</td>\n",
       "      <td>5</td>\n",
       "      <td>1</td>\n",
       "    </tr>\n",
       "    <tr>\n",
       "      <th>502</th>\n",
       "      <td>#0503</td>\n",
       "      <td>4</td>\n",
       "      <td>4</td>\n",
       "      <td>2</td>\n",
       "      <td>3</td>\n",
       "      <td>3</td>\n",
       "      <td>3</td>\n",
       "      <td>1</td>\n",
       "      <td>2</td>\n",
       "      <td>2</td>\n",
       "    </tr>\n",
       "    <tr>\n",
       "      <th>503</th>\n",
       "      <td>#0504</td>\n",
       "      <td>2</td>\n",
       "      <td>1</td>\n",
       "      <td>1</td>\n",
       "      <td>3</td>\n",
       "      <td>4</td>\n",
       "      <td>1</td>\n",
       "      <td>2</td>\n",
       "      <td>3</td>\n",
       "      <td>4</td>\n",
       "    </tr>\n",
       "    <tr>\n",
       "      <th>504</th>\n",
       "      <td>#0505</td>\n",
       "      <td>5</td>\n",
       "      <td>2</td>\n",
       "      <td>5</td>\n",
       "      <td>2</td>\n",
       "      <td>3</td>\n",
       "      <td>1</td>\n",
       "      <td>4</td>\n",
       "      <td>2</td>\n",
       "      <td>1</td>\n",
       "    </tr>\n",
       "    <tr>\n",
       "      <th>505</th>\n",
       "      <td>#0506</td>\n",
       "      <td>5</td>\n",
       "      <td>1</td>\n",
       "      <td>5</td>\n",
       "      <td>3</td>\n",
       "      <td>1</td>\n",
       "      <td>1</td>\n",
       "      <td>4</td>\n",
       "      <td>3</td>\n",
       "      <td>3</td>\n",
       "    </tr>\n",
       "  </tbody>\n",
       "</table>\n",
       "<p>506 rows × 10 columns</p>\n",
       "</div>"
      ],
      "text/plain": [
       "        ID  지명도  볼거리  가격  거리  숙소  쇼핑  음식  교통  휴식\n",
       "0    #0001    2    2   1   2   5   3   2   1   5\n",
       "1    #0002    4    2   5   2   2   1   5   3   2\n",
       "2    #0003    3    1   4   3   2   3   3   5   1\n",
       "3    #0004    3    1   4   2   2   3   3   5   3\n",
       "4    #0005    5    5   2   2   3   3   3   2   3\n",
       "..     ...  ...  ...  ..  ..  ..  ..  ..  ..  ..\n",
       "501  #0502    1    3   4   3   1   1   2   5   1\n",
       "502  #0503    4    4   2   3   3   3   1   2   2\n",
       "503  #0504    2    1   1   3   4   1   2   3   4\n",
       "504  #0505    5    2   5   2   3   1   4   2   1\n",
       "505  #0506    5    1   5   3   1   1   4   3   3\n",
       "\n",
       "[506 rows x 10 columns]"
      ]
     },
     "execution_count": 2,
     "metadata": {},
     "output_type": "execute_result"
    }
   ],
   "source": [
    "features = pd.read_csv('./data/travel_survey.csv', encoding='cp949')\n",
    "features"
   ]
  },
  {
   "cell_type": "markdown",
   "metadata": {},
   "source": [
    "### 2. Set up Environment (Data Preprocessing & Feature Engineering)"
   ]
  },
  {
   "cell_type": "code",
   "execution_count": 3,
   "metadata": {},
   "outputs": [
    {
     "data": {
      "text/html": [
       "<style type=\"text/css\">\n",
       "#T_92aba_row21_col1 {\n",
       "  background-color: lightgreen;\n",
       "}\n",
       "</style>\n",
       "<table id=\"T_92aba\">\n",
       "  <thead>\n",
       "    <tr>\n",
       "      <th class=\"blank level0\" >&nbsp;</th>\n",
       "      <th id=\"T_92aba_level0_col0\" class=\"col_heading level0 col0\" >Description</th>\n",
       "      <th id=\"T_92aba_level0_col1\" class=\"col_heading level0 col1\" >Value</th>\n",
       "    </tr>\n",
       "  </thead>\n",
       "  <tbody>\n",
       "    <tr>\n",
       "      <th id=\"T_92aba_level0_row0\" class=\"row_heading level0 row0\" >0</th>\n",
       "      <td id=\"T_92aba_row0_col0\" class=\"data row0 col0\" >session_id</td>\n",
       "      <td id=\"T_92aba_row0_col1\" class=\"data row0 col1\" >123</td>\n",
       "    </tr>\n",
       "    <tr>\n",
       "      <th id=\"T_92aba_level0_row1\" class=\"row_heading level0 row1\" >1</th>\n",
       "      <td id=\"T_92aba_row1_col0\" class=\"data row1 col0\" >Original Data</td>\n",
       "      <td id=\"T_92aba_row1_col1\" class=\"data row1 col1\" >(506, 10)</td>\n",
       "    </tr>\n",
       "    <tr>\n",
       "      <th id=\"T_92aba_level0_row2\" class=\"row_heading level0 row2\" >2</th>\n",
       "      <td id=\"T_92aba_row2_col0\" class=\"data row2 col0\" >Missing Values</td>\n",
       "      <td id=\"T_92aba_row2_col1\" class=\"data row2 col1\" >False</td>\n",
       "    </tr>\n",
       "    <tr>\n",
       "      <th id=\"T_92aba_level0_row3\" class=\"row_heading level0 row3\" >3</th>\n",
       "      <td id=\"T_92aba_row3_col0\" class=\"data row3 col0\" >Numeric Features</td>\n",
       "      <td id=\"T_92aba_row3_col1\" class=\"data row3 col1\" >9</td>\n",
       "    </tr>\n",
       "    <tr>\n",
       "      <th id=\"T_92aba_level0_row4\" class=\"row_heading level0 row4\" >4</th>\n",
       "      <td id=\"T_92aba_row4_col0\" class=\"data row4 col0\" >Categorical Features</td>\n",
       "      <td id=\"T_92aba_row4_col1\" class=\"data row4 col1\" >0</td>\n",
       "    </tr>\n",
       "    <tr>\n",
       "      <th id=\"T_92aba_level0_row5\" class=\"row_heading level0 row5\" >5</th>\n",
       "      <td id=\"T_92aba_row5_col0\" class=\"data row5 col0\" >Ordinal Features</td>\n",
       "      <td id=\"T_92aba_row5_col1\" class=\"data row5 col1\" >False</td>\n",
       "    </tr>\n",
       "    <tr>\n",
       "      <th id=\"T_92aba_level0_row6\" class=\"row_heading level0 row6\" >6</th>\n",
       "      <td id=\"T_92aba_row6_col0\" class=\"data row6 col0\" >High Cardinality Features</td>\n",
       "      <td id=\"T_92aba_row6_col1\" class=\"data row6 col1\" >False</td>\n",
       "    </tr>\n",
       "    <tr>\n",
       "      <th id=\"T_92aba_level0_row7\" class=\"row_heading level0 row7\" >7</th>\n",
       "      <td id=\"T_92aba_row7_col0\" class=\"data row7 col0\" >High Cardinality Method</td>\n",
       "      <td id=\"T_92aba_row7_col1\" class=\"data row7 col1\" >None</td>\n",
       "    </tr>\n",
       "    <tr>\n",
       "      <th id=\"T_92aba_level0_row8\" class=\"row_heading level0 row8\" >8</th>\n",
       "      <td id=\"T_92aba_row8_col0\" class=\"data row8 col0\" >Transformed Data</td>\n",
       "      <td id=\"T_92aba_row8_col1\" class=\"data row8 col1\" >(506, 9)</td>\n",
       "    </tr>\n",
       "    <tr>\n",
       "      <th id=\"T_92aba_level0_row9\" class=\"row_heading level0 row9\" >9</th>\n",
       "      <td id=\"T_92aba_row9_col0\" class=\"data row9 col0\" >CPU Jobs</td>\n",
       "      <td id=\"T_92aba_row9_col1\" class=\"data row9 col1\" >-1</td>\n",
       "    </tr>\n",
       "    <tr>\n",
       "      <th id=\"T_92aba_level0_row10\" class=\"row_heading level0 row10\" >10</th>\n",
       "      <td id=\"T_92aba_row10_col0\" class=\"data row10 col0\" >Use GPU</td>\n",
       "      <td id=\"T_92aba_row10_col1\" class=\"data row10 col1\" >False</td>\n",
       "    </tr>\n",
       "    <tr>\n",
       "      <th id=\"T_92aba_level0_row11\" class=\"row_heading level0 row11\" >11</th>\n",
       "      <td id=\"T_92aba_row11_col0\" class=\"data row11 col0\" >Log Experiment</td>\n",
       "      <td id=\"T_92aba_row11_col1\" class=\"data row11 col1\" >False</td>\n",
       "    </tr>\n",
       "    <tr>\n",
       "      <th id=\"T_92aba_level0_row12\" class=\"row_heading level0 row12\" >12</th>\n",
       "      <td id=\"T_92aba_row12_col0\" class=\"data row12 col0\" >Experiment Name</td>\n",
       "      <td id=\"T_92aba_row12_col1\" class=\"data row12 col1\" >cluster-default-name</td>\n",
       "    </tr>\n",
       "    <tr>\n",
       "      <th id=\"T_92aba_level0_row13\" class=\"row_heading level0 row13\" >13</th>\n",
       "      <td id=\"T_92aba_row13_col0\" class=\"data row13 col0\" >USI</td>\n",
       "      <td id=\"T_92aba_row13_col1\" class=\"data row13 col1\" >8081</td>\n",
       "    </tr>\n",
       "    <tr>\n",
       "      <th id=\"T_92aba_level0_row14\" class=\"row_heading level0 row14\" >14</th>\n",
       "      <td id=\"T_92aba_row14_col0\" class=\"data row14 col0\" >Imputation Type</td>\n",
       "      <td id=\"T_92aba_row14_col1\" class=\"data row14 col1\" >simple</td>\n",
       "    </tr>\n",
       "    <tr>\n",
       "      <th id=\"T_92aba_level0_row15\" class=\"row_heading level0 row15\" >15</th>\n",
       "      <td id=\"T_92aba_row15_col0\" class=\"data row15 col0\" >Iterative Imputation Iteration</td>\n",
       "      <td id=\"T_92aba_row15_col1\" class=\"data row15 col1\" >None</td>\n",
       "    </tr>\n",
       "    <tr>\n",
       "      <th id=\"T_92aba_level0_row16\" class=\"row_heading level0 row16\" >16</th>\n",
       "      <td id=\"T_92aba_row16_col0\" class=\"data row16 col0\" >Numeric Imputer</td>\n",
       "      <td id=\"T_92aba_row16_col1\" class=\"data row16 col1\" >mean</td>\n",
       "    </tr>\n",
       "    <tr>\n",
       "      <th id=\"T_92aba_level0_row17\" class=\"row_heading level0 row17\" >17</th>\n",
       "      <td id=\"T_92aba_row17_col0\" class=\"data row17 col0\" >Iterative Imputation Numeric Model</td>\n",
       "      <td id=\"T_92aba_row17_col1\" class=\"data row17 col1\" >None</td>\n",
       "    </tr>\n",
       "    <tr>\n",
       "      <th id=\"T_92aba_level0_row18\" class=\"row_heading level0 row18\" >18</th>\n",
       "      <td id=\"T_92aba_row18_col0\" class=\"data row18 col0\" >Categorical Imputer</td>\n",
       "      <td id=\"T_92aba_row18_col1\" class=\"data row18 col1\" >mode</td>\n",
       "    </tr>\n",
       "    <tr>\n",
       "      <th id=\"T_92aba_level0_row19\" class=\"row_heading level0 row19\" >19</th>\n",
       "      <td id=\"T_92aba_row19_col0\" class=\"data row19 col0\" >Iterative Imputation Categorical Model</td>\n",
       "      <td id=\"T_92aba_row19_col1\" class=\"data row19 col1\" >None</td>\n",
       "    </tr>\n",
       "    <tr>\n",
       "      <th id=\"T_92aba_level0_row20\" class=\"row_heading level0 row20\" >20</th>\n",
       "      <td id=\"T_92aba_row20_col0\" class=\"data row20 col0\" >Unknown Categoricals Handling</td>\n",
       "      <td id=\"T_92aba_row20_col1\" class=\"data row20 col1\" >least_frequent</td>\n",
       "    </tr>\n",
       "    <tr>\n",
       "      <th id=\"T_92aba_level0_row21\" class=\"row_heading level0 row21\" >21</th>\n",
       "      <td id=\"T_92aba_row21_col0\" class=\"data row21 col0\" >Normalize</td>\n",
       "      <td id=\"T_92aba_row21_col1\" class=\"data row21 col1\" >True</td>\n",
       "    </tr>\n",
       "    <tr>\n",
       "      <th id=\"T_92aba_level0_row22\" class=\"row_heading level0 row22\" >22</th>\n",
       "      <td id=\"T_92aba_row22_col0\" class=\"data row22 col0\" >Normalize Method</td>\n",
       "      <td id=\"T_92aba_row22_col1\" class=\"data row22 col1\" >zscore</td>\n",
       "    </tr>\n",
       "    <tr>\n",
       "      <th id=\"T_92aba_level0_row23\" class=\"row_heading level0 row23\" >23</th>\n",
       "      <td id=\"T_92aba_row23_col0\" class=\"data row23 col0\" >Transformation</td>\n",
       "      <td id=\"T_92aba_row23_col1\" class=\"data row23 col1\" >False</td>\n",
       "    </tr>\n",
       "    <tr>\n",
       "      <th id=\"T_92aba_level0_row24\" class=\"row_heading level0 row24\" >24</th>\n",
       "      <td id=\"T_92aba_row24_col0\" class=\"data row24 col0\" >Transformation Method</td>\n",
       "      <td id=\"T_92aba_row24_col1\" class=\"data row24 col1\" >None</td>\n",
       "    </tr>\n",
       "    <tr>\n",
       "      <th id=\"T_92aba_level0_row25\" class=\"row_heading level0 row25\" >25</th>\n",
       "      <td id=\"T_92aba_row25_col0\" class=\"data row25 col0\" >PCA</td>\n",
       "      <td id=\"T_92aba_row25_col1\" class=\"data row25 col1\" >False</td>\n",
       "    </tr>\n",
       "    <tr>\n",
       "      <th id=\"T_92aba_level0_row26\" class=\"row_heading level0 row26\" >26</th>\n",
       "      <td id=\"T_92aba_row26_col0\" class=\"data row26 col0\" >PCA Method</td>\n",
       "      <td id=\"T_92aba_row26_col1\" class=\"data row26 col1\" >None</td>\n",
       "    </tr>\n",
       "    <tr>\n",
       "      <th id=\"T_92aba_level0_row27\" class=\"row_heading level0 row27\" >27</th>\n",
       "      <td id=\"T_92aba_row27_col0\" class=\"data row27 col0\" >PCA Components</td>\n",
       "      <td id=\"T_92aba_row27_col1\" class=\"data row27 col1\" >None</td>\n",
       "    </tr>\n",
       "    <tr>\n",
       "      <th id=\"T_92aba_level0_row28\" class=\"row_heading level0 row28\" >28</th>\n",
       "      <td id=\"T_92aba_row28_col0\" class=\"data row28 col0\" >Ignore Low Variance</td>\n",
       "      <td id=\"T_92aba_row28_col1\" class=\"data row28 col1\" >False</td>\n",
       "    </tr>\n",
       "    <tr>\n",
       "      <th id=\"T_92aba_level0_row29\" class=\"row_heading level0 row29\" >29</th>\n",
       "      <td id=\"T_92aba_row29_col0\" class=\"data row29 col0\" >Combine Rare Levels</td>\n",
       "      <td id=\"T_92aba_row29_col1\" class=\"data row29 col1\" >False</td>\n",
       "    </tr>\n",
       "    <tr>\n",
       "      <th id=\"T_92aba_level0_row30\" class=\"row_heading level0 row30\" >30</th>\n",
       "      <td id=\"T_92aba_row30_col0\" class=\"data row30 col0\" >Rare Level Threshold</td>\n",
       "      <td id=\"T_92aba_row30_col1\" class=\"data row30 col1\" >None</td>\n",
       "    </tr>\n",
       "    <tr>\n",
       "      <th id=\"T_92aba_level0_row31\" class=\"row_heading level0 row31\" >31</th>\n",
       "      <td id=\"T_92aba_row31_col0\" class=\"data row31 col0\" >Numeric Binning</td>\n",
       "      <td id=\"T_92aba_row31_col1\" class=\"data row31 col1\" >False</td>\n",
       "    </tr>\n",
       "    <tr>\n",
       "      <th id=\"T_92aba_level0_row32\" class=\"row_heading level0 row32\" >32</th>\n",
       "      <td id=\"T_92aba_row32_col0\" class=\"data row32 col0\" >Remove Outliers</td>\n",
       "      <td id=\"T_92aba_row32_col1\" class=\"data row32 col1\" >False</td>\n",
       "    </tr>\n",
       "    <tr>\n",
       "      <th id=\"T_92aba_level0_row33\" class=\"row_heading level0 row33\" >33</th>\n",
       "      <td id=\"T_92aba_row33_col0\" class=\"data row33 col0\" >Outliers Threshold</td>\n",
       "      <td id=\"T_92aba_row33_col1\" class=\"data row33 col1\" >None</td>\n",
       "    </tr>\n",
       "    <tr>\n",
       "      <th id=\"T_92aba_level0_row34\" class=\"row_heading level0 row34\" >34</th>\n",
       "      <td id=\"T_92aba_row34_col0\" class=\"data row34 col0\" >Remove Multicollinearity</td>\n",
       "      <td id=\"T_92aba_row34_col1\" class=\"data row34 col1\" >False</td>\n",
       "    </tr>\n",
       "    <tr>\n",
       "      <th id=\"T_92aba_level0_row35\" class=\"row_heading level0 row35\" >35</th>\n",
       "      <td id=\"T_92aba_row35_col0\" class=\"data row35 col0\" >Multicollinearity Threshold</td>\n",
       "      <td id=\"T_92aba_row35_col1\" class=\"data row35 col1\" >None</td>\n",
       "    </tr>\n",
       "    <tr>\n",
       "      <th id=\"T_92aba_level0_row36\" class=\"row_heading level0 row36\" >36</th>\n",
       "      <td id=\"T_92aba_row36_col0\" class=\"data row36 col0\" >Remove Perfect Collinearity</td>\n",
       "      <td id=\"T_92aba_row36_col1\" class=\"data row36 col1\" >False</td>\n",
       "    </tr>\n",
       "    <tr>\n",
       "      <th id=\"T_92aba_level0_row37\" class=\"row_heading level0 row37\" >37</th>\n",
       "      <td id=\"T_92aba_row37_col0\" class=\"data row37 col0\" >Clustering</td>\n",
       "      <td id=\"T_92aba_row37_col1\" class=\"data row37 col1\" >False</td>\n",
       "    </tr>\n",
       "    <tr>\n",
       "      <th id=\"T_92aba_level0_row38\" class=\"row_heading level0 row38\" >38</th>\n",
       "      <td id=\"T_92aba_row38_col0\" class=\"data row38 col0\" >Clustering Iteration</td>\n",
       "      <td id=\"T_92aba_row38_col1\" class=\"data row38 col1\" >None</td>\n",
       "    </tr>\n",
       "    <tr>\n",
       "      <th id=\"T_92aba_level0_row39\" class=\"row_heading level0 row39\" >39</th>\n",
       "      <td id=\"T_92aba_row39_col0\" class=\"data row39 col0\" >Polynomial Features</td>\n",
       "      <td id=\"T_92aba_row39_col1\" class=\"data row39 col1\" >False</td>\n",
       "    </tr>\n",
       "    <tr>\n",
       "      <th id=\"T_92aba_level0_row40\" class=\"row_heading level0 row40\" >40</th>\n",
       "      <td id=\"T_92aba_row40_col0\" class=\"data row40 col0\" >Polynomial Degree</td>\n",
       "      <td id=\"T_92aba_row40_col1\" class=\"data row40 col1\" >None</td>\n",
       "    </tr>\n",
       "    <tr>\n",
       "      <th id=\"T_92aba_level0_row41\" class=\"row_heading level0 row41\" >41</th>\n",
       "      <td id=\"T_92aba_row41_col0\" class=\"data row41 col0\" >Trignometry Features</td>\n",
       "      <td id=\"T_92aba_row41_col1\" class=\"data row41 col1\" >False</td>\n",
       "    </tr>\n",
       "    <tr>\n",
       "      <th id=\"T_92aba_level0_row42\" class=\"row_heading level0 row42\" >42</th>\n",
       "      <td id=\"T_92aba_row42_col0\" class=\"data row42 col0\" >Polynomial Threshold</td>\n",
       "      <td id=\"T_92aba_row42_col1\" class=\"data row42 col1\" >None</td>\n",
       "    </tr>\n",
       "    <tr>\n",
       "      <th id=\"T_92aba_level0_row43\" class=\"row_heading level0 row43\" >43</th>\n",
       "      <td id=\"T_92aba_row43_col0\" class=\"data row43 col0\" >Group Features</td>\n",
       "      <td id=\"T_92aba_row43_col1\" class=\"data row43 col1\" >False</td>\n",
       "    </tr>\n",
       "    <tr>\n",
       "      <th id=\"T_92aba_level0_row44\" class=\"row_heading level0 row44\" >44</th>\n",
       "      <td id=\"T_92aba_row44_col0\" class=\"data row44 col0\" >Feature Selection</td>\n",
       "      <td id=\"T_92aba_row44_col1\" class=\"data row44 col1\" >False</td>\n",
       "    </tr>\n",
       "    <tr>\n",
       "      <th id=\"T_92aba_level0_row45\" class=\"row_heading level0 row45\" >45</th>\n",
       "      <td id=\"T_92aba_row45_col0\" class=\"data row45 col0\" >Feature Selection Method</td>\n",
       "      <td id=\"T_92aba_row45_col1\" class=\"data row45 col1\" >classic</td>\n",
       "    </tr>\n",
       "    <tr>\n",
       "      <th id=\"T_92aba_level0_row46\" class=\"row_heading level0 row46\" >46</th>\n",
       "      <td id=\"T_92aba_row46_col0\" class=\"data row46 col0\" >Features Selection Threshold</td>\n",
       "      <td id=\"T_92aba_row46_col1\" class=\"data row46 col1\" >None</td>\n",
       "    </tr>\n",
       "    <tr>\n",
       "      <th id=\"T_92aba_level0_row47\" class=\"row_heading level0 row47\" >47</th>\n",
       "      <td id=\"T_92aba_row47_col0\" class=\"data row47 col0\" >Feature Interaction</td>\n",
       "      <td id=\"T_92aba_row47_col1\" class=\"data row47 col1\" >False</td>\n",
       "    </tr>\n",
       "    <tr>\n",
       "      <th id=\"T_92aba_level0_row48\" class=\"row_heading level0 row48\" >48</th>\n",
       "      <td id=\"T_92aba_row48_col0\" class=\"data row48 col0\" >Feature Ratio</td>\n",
       "      <td id=\"T_92aba_row48_col1\" class=\"data row48 col1\" >False</td>\n",
       "    </tr>\n",
       "    <tr>\n",
       "      <th id=\"T_92aba_level0_row49\" class=\"row_heading level0 row49\" >49</th>\n",
       "      <td id=\"T_92aba_row49_col0\" class=\"data row49 col0\" >Interaction Threshold</td>\n",
       "      <td id=\"T_92aba_row49_col1\" class=\"data row49 col1\" >None</td>\n",
       "    </tr>\n",
       "  </tbody>\n",
       "</table>\n"
      ],
      "text/plain": [
       "<pandas.io.formats.style.Styler at 0x23788967b80>"
      ]
     },
     "metadata": {},
     "output_type": "display_data"
    }
   ],
   "source": [
    "from pycaret.clustering import *\n",
    "\n",
    "exp02 = setup(\n",
    "    features, session_id=123,\n",
    "    ignore_features=['ID'],\n",
    "    numeric_features=features.iloc[:,1:].columns.to_list(),\n",
    "    normalize=True, \n",
    ")"
   ]
  },
  {
   "cell_type": "markdown",
   "metadata": {},
   "source": [
    "### 3. Create Model "
   ]
  },
  {
   "cell_type": "code",
   "execution_count": 4,
   "metadata": {},
   "outputs": [
    {
     "data": {
      "text/html": [
       "<div>\n",
       "<style scoped>\n",
       "    .dataframe tbody tr th:only-of-type {\n",
       "        vertical-align: middle;\n",
       "    }\n",
       "\n",
       "    .dataframe tbody tr th {\n",
       "        vertical-align: top;\n",
       "    }\n",
       "\n",
       "    .dataframe thead th {\n",
       "        text-align: right;\n",
       "    }\n",
       "</style>\n",
       "<table border=\"1\" class=\"dataframe\">\n",
       "  <thead>\n",
       "    <tr style=\"text-align: right;\">\n",
       "      <th></th>\n",
       "      <th>Name</th>\n",
       "      <th>Reference</th>\n",
       "    </tr>\n",
       "    <tr>\n",
       "      <th>ID</th>\n",
       "      <th></th>\n",
       "      <th></th>\n",
       "    </tr>\n",
       "  </thead>\n",
       "  <tbody>\n",
       "    <tr>\n",
       "      <th>kmeans</th>\n",
       "      <td>K-Means Clustering</td>\n",
       "      <td>sklearn.cluster._kmeans.KMeans</td>\n",
       "    </tr>\n",
       "    <tr>\n",
       "      <th>ap</th>\n",
       "      <td>Affinity Propagation</td>\n",
       "      <td>sklearn.cluster._affinity_propagation.Affinity...</td>\n",
       "    </tr>\n",
       "    <tr>\n",
       "      <th>meanshift</th>\n",
       "      <td>Mean Shift Clustering</td>\n",
       "      <td>sklearn.cluster._mean_shift.MeanShift</td>\n",
       "    </tr>\n",
       "    <tr>\n",
       "      <th>sc</th>\n",
       "      <td>Spectral Clustering</td>\n",
       "      <td>sklearn.cluster._spectral.SpectralClustering</td>\n",
       "    </tr>\n",
       "    <tr>\n",
       "      <th>hclust</th>\n",
       "      <td>Agglomerative Clustering</td>\n",
       "      <td>sklearn.cluster._agglomerative.AgglomerativeCl...</td>\n",
       "    </tr>\n",
       "    <tr>\n",
       "      <th>dbscan</th>\n",
       "      <td>Density-Based Spatial Clustering</td>\n",
       "      <td>sklearn.cluster._dbscan.DBSCAN</td>\n",
       "    </tr>\n",
       "    <tr>\n",
       "      <th>optics</th>\n",
       "      <td>OPTICS Clustering</td>\n",
       "      <td>sklearn.cluster._optics.OPTICS</td>\n",
       "    </tr>\n",
       "    <tr>\n",
       "      <th>birch</th>\n",
       "      <td>Birch Clustering</td>\n",
       "      <td>sklearn.cluster._birch.Birch</td>\n",
       "    </tr>\n",
       "    <tr>\n",
       "      <th>kmodes</th>\n",
       "      <td>K-Modes Clustering</td>\n",
       "      <td>kmodes.kmodes.KModes</td>\n",
       "    </tr>\n",
       "  </tbody>\n",
       "</table>\n",
       "</div>"
      ],
      "text/plain": [
       "                                       Name  \\\n",
       "ID                                            \n",
       "kmeans                   K-Means Clustering   \n",
       "ap                     Affinity Propagation   \n",
       "meanshift             Mean Shift Clustering   \n",
       "sc                      Spectral Clustering   \n",
       "hclust             Agglomerative Clustering   \n",
       "dbscan     Density-Based Spatial Clustering   \n",
       "optics                    OPTICS Clustering   \n",
       "birch                      Birch Clustering   \n",
       "kmodes                   K-Modes Clustering   \n",
       "\n",
       "                                                   Reference  \n",
       "ID                                                            \n",
       "kmeans                        sklearn.cluster._kmeans.KMeans  \n",
       "ap         sklearn.cluster._affinity_propagation.Affinity...  \n",
       "meanshift              sklearn.cluster._mean_shift.MeanShift  \n",
       "sc              sklearn.cluster._spectral.SpectralClustering  \n",
       "hclust     sklearn.cluster._agglomerative.AgglomerativeCl...  \n",
       "dbscan                        sklearn.cluster._dbscan.DBSCAN  \n",
       "optics                        sklearn.cluster._optics.OPTICS  \n",
       "birch                           sklearn.cluster._birch.Birch  \n",
       "kmodes                                  kmodes.kmodes.KModes  "
      ]
     },
     "execution_count": 4,
     "metadata": {},
     "output_type": "execute_result"
    }
   ],
   "source": [
    "models()"
   ]
  },
  {
   "cell_type": "code",
   "execution_count": 5,
   "metadata": {},
   "outputs": [
    {
     "data": {
      "image/png": "[encoded data removed]",
      "text/plain": [
       "<Figure size 800x550 with 1 Axes>"
      ]
     },
     "metadata": {},
     "output_type": "display_data"
    }
   ],
   "source": [
    "# Select the best K \n",
    "kmeans = create_model('kmeans')\n",
    "plot_model(kmeans, plot='elbow')"
   ]
  },
  {
   "cell_type": "code",
   "execution_count": 6,
   "metadata": {},
   "outputs": [
    {
     "data": {
      "text/html": [
       "<div>\n",
       "<style scoped>\n",
       "    .dataframe tbody tr th:only-of-type {\n",
       "        vertical-align: middle;\n",
       "    }\n",
       "\n",
       "    .dataframe tbody tr th {\n",
       "        vertical-align: top;\n",
       "    }\n",
       "\n",
       "    .dataframe thead th {\n",
       "        text-align: right;\n",
       "    }\n",
       "</style>\n",
       "<table border=\"1\" class=\"dataframe\">\n",
       "  <thead>\n",
       "    <tr style=\"text-align: right;\">\n",
       "      <th></th>\n",
       "      <th>Silhouette</th>\n",
       "      <th>Calinski-Harabasz</th>\n",
       "      <th>Davies-Bouldin</th>\n",
       "      <th>Homogeneity</th>\n",
       "      <th>Rand Index</th>\n",
       "      <th>Completeness</th>\n",
       "    </tr>\n",
       "  </thead>\n",
       "  <tbody>\n",
       "    <tr>\n",
       "      <th>0</th>\n",
       "      <td>0.346</td>\n",
       "      <td>192.0328</td>\n",
       "      <td>1.1183</td>\n",
       "      <td>0</td>\n",
       "      <td>0</td>\n",
       "      <td>0</td>\n",
       "    </tr>\n",
       "  </tbody>\n",
       "</table>\n",
       "</div>"
      ],
      "text/plain": [
       "   Silhouette  Calinski-Harabasz  Davies-Bouldin  Homogeneity  Rand Index  \\\n",
       "0       0.346           192.0328          1.1183            0           0   \n",
       "\n",
       "   Completeness  \n",
       "0             0  "
      ]
     },
     "metadata": {},
     "output_type": "display_data"
    }
   ],
   "source": [
    "kmeans = create_model('kmeans', num_clusters=5)"
   ]
  },
  {
   "cell_type": "markdown",
   "metadata": {},
   "source": [
    "### 4. Assign Model "
   ]
  },
  {
   "cell_type": "code",
   "execution_count": 7,
   "metadata": {},
   "outputs": [
    {
     "data": {
      "text/html": [
       "<div>\n",
       "<style scoped>\n",
       "    .dataframe tbody tr th:only-of-type {\n",
       "        vertical-align: middle;\n",
       "    }\n",
       "\n",
       "    .dataframe tbody tr th {\n",
       "        vertical-align: top;\n",
       "    }\n",
       "\n",
       "    .dataframe thead th {\n",
       "        text-align: right;\n",
       "    }\n",
       "</style>\n",
       "<table border=\"1\" class=\"dataframe\">\n",
       "  <thead>\n",
       "    <tr style=\"text-align: right;\">\n",
       "      <th></th>\n",
       "      <th>ID</th>\n",
       "      <th>지명도</th>\n",
       "      <th>볼거리</th>\n",
       "      <th>가격</th>\n",
       "      <th>거리</th>\n",
       "      <th>숙소</th>\n",
       "      <th>쇼핑</th>\n",
       "      <th>음식</th>\n",
       "      <th>교통</th>\n",
       "      <th>휴식</th>\n",
       "      <th>Cluster</th>\n",
       "    </tr>\n",
       "  </thead>\n",
       "  <tbody>\n",
       "    <tr>\n",
       "      <th>0</th>\n",
       "      <td>#0001</td>\n",
       "      <td>2</td>\n",
       "      <td>2</td>\n",
       "      <td>1</td>\n",
       "      <td>2</td>\n",
       "      <td>5</td>\n",
       "      <td>3</td>\n",
       "      <td>2</td>\n",
       "      <td>1</td>\n",
       "      <td>5</td>\n",
       "      <td>Cluster 4</td>\n",
       "    </tr>\n",
       "    <tr>\n",
       "      <th>1</th>\n",
       "      <td>#0002</td>\n",
       "      <td>4</td>\n",
       "      <td>2</td>\n",
       "      <td>5</td>\n",
       "      <td>2</td>\n",
       "      <td>2</td>\n",
       "      <td>1</td>\n",
       "      <td>5</td>\n",
       "      <td>3</td>\n",
       "      <td>2</td>\n",
       "      <td>Cluster 3</td>\n",
       "    </tr>\n",
       "    <tr>\n",
       "      <th>2</th>\n",
       "      <td>#0003</td>\n",
       "      <td>3</td>\n",
       "      <td>1</td>\n",
       "      <td>4</td>\n",
       "      <td>3</td>\n",
       "      <td>2</td>\n",
       "      <td>3</td>\n",
       "      <td>3</td>\n",
       "      <td>5</td>\n",
       "      <td>1</td>\n",
       "      <td>Cluster 1</td>\n",
       "    </tr>\n",
       "    <tr>\n",
       "      <th>3</th>\n",
       "      <td>#0004</td>\n",
       "      <td>3</td>\n",
       "      <td>1</td>\n",
       "      <td>4</td>\n",
       "      <td>2</td>\n",
       "      <td>2</td>\n",
       "      <td>3</td>\n",
       "      <td>3</td>\n",
       "      <td>5</td>\n",
       "      <td>3</td>\n",
       "      <td>Cluster 1</td>\n",
       "    </tr>\n",
       "    <tr>\n",
       "      <th>4</th>\n",
       "      <td>#0005</td>\n",
       "      <td>5</td>\n",
       "      <td>5</td>\n",
       "      <td>2</td>\n",
       "      <td>2</td>\n",
       "      <td>3</td>\n",
       "      <td>3</td>\n",
       "      <td>3</td>\n",
       "      <td>2</td>\n",
       "      <td>3</td>\n",
       "      <td>Cluster 0</td>\n",
       "    </tr>\n",
       "    <tr>\n",
       "      <th>...</th>\n",
       "      <td>...</td>\n",
       "      <td>...</td>\n",
       "      <td>...</td>\n",
       "      <td>...</td>\n",
       "      <td>...</td>\n",
       "      <td>...</td>\n",
       "      <td>...</td>\n",
       "      <td>...</td>\n",
       "      <td>...</td>\n",
       "      <td>...</td>\n",
       "      <td>...</td>\n",
       "    </tr>\n",
       "    <tr>\n",
       "      <th>501</th>\n",
       "      <td>#0502</td>\n",
       "      <td>1</td>\n",
       "      <td>3</td>\n",
       "      <td>4</td>\n",
       "      <td>3</td>\n",
       "      <td>1</td>\n",
       "      <td>1</td>\n",
       "      <td>2</td>\n",
       "      <td>5</td>\n",
       "      <td>1</td>\n",
       "      <td>Cluster 1</td>\n",
       "    </tr>\n",
       "    <tr>\n",
       "      <th>502</th>\n",
       "      <td>#0503</td>\n",
       "      <td>4</td>\n",
       "      <td>4</td>\n",
       "      <td>2</td>\n",
       "      <td>3</td>\n",
       "      <td>3</td>\n",
       "      <td>3</td>\n",
       "      <td>1</td>\n",
       "      <td>2</td>\n",
       "      <td>2</td>\n",
       "      <td>Cluster 0</td>\n",
       "    </tr>\n",
       "    <tr>\n",
       "      <th>503</th>\n",
       "      <td>#0504</td>\n",
       "      <td>2</td>\n",
       "      <td>1</td>\n",
       "      <td>1</td>\n",
       "      <td>3</td>\n",
       "      <td>4</td>\n",
       "      <td>1</td>\n",
       "      <td>2</td>\n",
       "      <td>3</td>\n",
       "      <td>4</td>\n",
       "      <td>Cluster 4</td>\n",
       "    </tr>\n",
       "    <tr>\n",
       "      <th>504</th>\n",
       "      <td>#0505</td>\n",
       "      <td>5</td>\n",
       "      <td>2</td>\n",
       "      <td>5</td>\n",
       "      <td>2</td>\n",
       "      <td>3</td>\n",
       "      <td>1</td>\n",
       "      <td>4</td>\n",
       "      <td>2</td>\n",
       "      <td>1</td>\n",
       "      <td>Cluster 3</td>\n",
       "    </tr>\n",
       "    <tr>\n",
       "      <th>505</th>\n",
       "      <td>#0506</td>\n",
       "      <td>5</td>\n",
       "      <td>1</td>\n",
       "      <td>5</td>\n",
       "      <td>3</td>\n",
       "      <td>1</td>\n",
       "      <td>1</td>\n",
       "      <td>4</td>\n",
       "      <td>3</td>\n",
       "      <td>3</td>\n",
       "      <td>Cluster 3</td>\n",
       "    </tr>\n",
       "  </tbody>\n",
       "</table>\n",
       "<p>506 rows × 11 columns</p>\n",
       "</div>"
      ],
      "text/plain": [
       "        ID  지명도  볼거리  가격  거리  숙소  쇼핑  음식  교통  휴식    Cluster\n",
       "0    #0001    2    2   1   2   5   3   2   1   5  Cluster 4\n",
       "1    #0002    4    2   5   2   2   1   5   3   2  Cluster 3\n",
       "2    #0003    3    1   4   3   2   3   3   5   1  Cluster 1\n",
       "3    #0004    3    1   4   2   2   3   3   5   3  Cluster 1\n",
       "4    #0005    5    5   2   2   3   3   3   2   3  Cluster 0\n",
       "..     ...  ...  ...  ..  ..  ..  ..  ..  ..  ..        ...\n",
       "501  #0502    1    3   4   3   1   1   2   5   1  Cluster 1\n",
       "502  #0503    4    4   2   3   3   3   1   2   2  Cluster 0\n",
       "503  #0504    2    1   1   3   4   1   2   3   4  Cluster 4\n",
       "504  #0505    5    2   5   2   3   1   4   2   1  Cluster 3\n",
       "505  #0506    5    1   5   3   1   1   4   3   3  Cluster 3\n",
       "\n",
       "[506 rows x 11 columns]"
      ]
     },
     "execution_count": 7,
     "metadata": {},
     "output_type": "execute_result"
    }
   ],
   "source": [
    "kmean_results = assign_model(kmeans)\n",
    "kmean_results"
   ]
  },
  {
   "cell_type": "markdown",
   "metadata": {},
   "source": [
    "### 5. Evaluate Model"
   ]
  },
  {
   "cell_type": "code",
   "execution_count": 8,
   "metadata": {},
   "outputs": [
    {
     "data": {
      "application/vnd.plotly.v1+json": {
       "config": {
        "plotlyServerURL": "https://plot.ly"
       },
       "data": [
        {
         "customdata": [
          [
           "#0087"
          ],
          [
           "#0142"
          ],
          [
           "#0462"
          ],
          [
           "#0379"
          ],
          [
           "#0413"
          ],
          [
           "#0194"
          ],
          [
           "#0377"
          ],
          [
           "#0146"
          ],
          [
           "#0084"
          ],
          [
           "#0261"
          ],
          [
           "#0465"
          ],
          [
           "#0263"
          ],
          [
           "#0466"
          ],
          [
           "#0141"
          ],
          [
           "#0415"
          ],
          [
           "#0376"
          ],
          [
           "#0074"
          ],
          [
           "#0073"
          ],
          [
           "#0269"
          ],
          [
           "#0150"
          ],
          [
           "#0271"
          ],
          [
           "#0151"
          ],
          [
           "#0372"
          ],
          [
           "#0275"
          ],
          [
           "#0408"
          ],
          [
           "#0152"
          ],
          [
           "#0064"
          ],
          [
           "#0265"
          ],
          [
           "#0094"
          ],
          [
           "#0461"
          ],
          [
           "#0248"
          ],
          [
           "#0441"
          ],
          [
           "#0442"
          ],
          [
           "#0443"
          ],
          [
           "#0206"
          ],
          [
           "#0124"
          ],
          [
           "#0217"
          ],
          [
           "#0450"
          ],
          [
           "#0219"
          ],
          [
           "#0118"
          ],
          [
           "#0220"
          ],
          [
           "#0402"
          ],
          [
           "#0115"
          ],
          [
           "#0401"
          ],
          [
           "#0226"
          ],
          [
           "#0136"
          ],
          [
           "#0232"
          ],
          [
           "#0110"
          ],
          [
           "#0235"
          ],
          [
           "#0454"
          ],
          [
           "#0390"
          ],
          [
           "#0238"
          ],
          [
           "#0456"
          ],
          [
           "#0138"
          ],
          [
           "#0386"
          ],
          [
           "#0459"
          ],
          [
           "#0247"
          ],
          [
           "#0097"
          ],
          [
           "#0063"
          ],
          [
           "#0153"
          ],
          [
           "#0371"
          ],
          [
           "#0190"
          ],
          [
           "#0359"
          ],
          [
           "#0061"
          ],
          [
           "#0316"
          ],
          [
           "#0358"
          ],
          [
           "#0491"
          ],
          [
           "#0166"
          ],
          [
           "#0492"
          ],
          [
           "#0320"
          ],
          [
           "#0322"
          ],
          [
           "#0425"
          ],
          [
           "#0019"
          ],
          [
           "#0328"
          ],
          [
           "#0352"
          ],
          [
           "#0498"
          ],
          [
           "#0332"
          ],
          [
           "#0013"
          ],
          [
           "#0012"
          ],
          [
           "#0333"
          ],
          [
           "#0500"
          ],
          [
           "#0337"
          ],
          [
           "#0170"
          ],
          [
           "#0007"
          ],
          [
           "#0340"
          ],
          [
           "#0005"
          ],
          [
           "#0342"
          ],
          [
           "#0171"
          ],
          [
           "#0503"
          ],
          [
           "#0165"
          ],
          [
           "#0181"
          ],
          [
           "#0315"
          ],
          [
           "#0310"
          ],
          [
           "#0285"
          ],
          [
           "#0430"
          ],
          [
           "#0156"
          ],
          [
           "#0056"
          ],
          [
           "#0290"
          ],
          [
           "#0052"
          ],
          [
           "#0294"
          ],
          [
           "#0049"
          ],
          [
           "#0295"
          ],
          [
           "#0366"
          ],
          [
           "#0033"
          ],
          [
           "#0045"
          ],
          [
           "#0044"
          ],
          [
           "#0207"
          ],
          [
           "#0162"
          ],
          [
           "#0307"
          ],
          [
           "#0036"
          ],
          [
           "#0365"
          ],
          [
           "#0305"
          ],
          [
           "#0161"
          ],
          [
           "#0040"
          ],
          [
           "#0419"
          ],
          [
           "#0303"
          ]
         ],
         "hovertemplate": "Cluster=Cluster 0<br>PCA1=%{x}<br>PCA2=%{y}<br>Feature=%{customdata[0]}<extra></extra>",
         "legendgroup": "Cluster 0",
         "marker": {
          "color": "#636efa",
          "opacity": 0.5,
          "symbol": "circle"
         },
         "mode": "markers",
         "name": "Cluster 0",
         "orientation": "v",
         "showlegend": true,
         "textposition": "top center",
         "type": "scatter",
         "x": [
          -0.6959988474845886,
          -0.2087840586900711,
          -1.4048395156860352,
          1.0413373708724976,
          -0.3683125078678131,
          -0.14002977311611176,
          -0.6627598404884338,
          -0.5934374928474426,
          -1.070163607597351,
          -1.1442687511444092,
          -0.7603307366371155,
          -1.3432304859161377,
          -1.29628324508667,
          -0.4810447096824646,
          -0.16132934391498566,
          0.460603266954422,
          0.6747136116027832,
          0.18315289914608002,
          -0.5639505982398987,
          -1.762901782989502,
          -1.51594877243042,
          -1.6700983047485352,
          -0.7828797101974487,
          0.28603631258010864,
          -0.06836124509572983,
          0.3890608251094818,
          -1.1433744430541992,
          -0.9392032623291016,
          -0.5858051180839539,
          -0.18585816025733948,
          -0.6916149854660034,
          -0.9014533162117004,
          0.005645296070724726,
          0.3812376856803894,
          -0.8633552193641663,
          -0.4712313115596771,
          -0.7796792387962341,
          0.407743901014328,
          -0.5068682432174683,
          0.03235897421836853,
          -0.31068986654281616,
          -1.1088991165161133,
          -1.491019606590271,
          -0.31117692589759827,
          -1.2825077772140503,
          -0.43796131014823914,
          -0.980575680732727,
          -0.0467248409986496,
          -0.0734386146068573,
          -0.9599108695983887,
          -0.5097111463546753,
          -0.8601610660552979,
          -0.014981169253587723,
          -0.3961164355278015,
          -0.9062991738319397,
          -0.9912659525871277,
          0.23079422116279602,
          -0.7546735405921936,
          -0.8507927656173706,
          -0.5379281044006348,
          -0.9451248049736023,
          -0.4358307719230652,
          -0.3798927068710327,
          -0.09745509177446365,
          -1.115925908088684,
          -1.8388198614120483,
          -2.0537478923797607,
          -0.5662158727645874,
          0.3932466208934784,
          -0.4721717834472656,
          -1.607507348060608,
          -0.9900805950164795,
          -0.559052586555481,
          0.8193513751029968,
          -0.7861543297767639,
          -0.2403939962387085,
          -0.03572747856378555,
          -1.2580593824386597,
          -1.8920844793319702,
          -0.3519691228866577,
          -1.928699016571045,
          -1.265047311782837,
          -1.1440376043319702,
          -1.5056519508361816,
          -0.765647828578949,
          -0.05076345428824425,
          0.9747461080551147,
          -0.6275665163993835,
          0.3227802813053131,
          -1.1261838674545288,
          -1.4781174659729004,
          -0.2726972997188568,
          -1.2767924070358276,
          0.6151803135871887,
          -1.3859102725982666,
          -0.42743292450904846,
          -1.2328407764434814,
          -0.6990274786949158,
          -1.3638955354690552,
          0.07923617959022522,
          -0.7158050537109375,
          -0.14836068451404572,
          0.13969840109348297,
          -0.14459097385406494,
          -1.787013292312622,
          -0.19136252999305725,
          -1.2591614723205566,
          -0.4173435866832733,
          -0.9443885684013367,
          -0.6973966956138611,
          -1.1652172803878784,
          -1.1495420932769775,
          -0.9565236568450928,
          -0.5719207525253296,
          0.5901743173599243,
          -0.8806403875350952
         ],
         "xaxis": "x",
         "y": [
          2.6911699771881104,
          1.918568730354309,
          2.41644287109375,
          2.4365227222442627,
          1.5885227918624878,
          2.786626100540161,
          2.975036382675171,
          2.0233163833618164,
          2.6004035472869873,
          2.4908287525177,
          1.6415821313858032,
          1.9106366634368896,
          2.5763280391693115,
          2.482067346572876,
          2.831702947616577,
          2.403865337371826,
          2.0239853858947754,
          2.4984185695648193,
          2.784221649169922,
          1.8514336347579956,
          0.882413387298584,
          1.625209927558899,
          1.985431432723999,
          2.623676300048828,
          2.9399406909942627,
          1.9822216033935547,
          1.6731109619140625,
          2.2615320682525635,
          2.2947216033935547,
          2.0250790119171143,
          1.9068496227264404,
          3.178028106689453,
          2.5805280208587646,
          1.7509229183197021,
          2.283036231994629,
          1.782094955444336,
          2.3826279640197754,
          1.9628030061721802,
          2.1447579860687256,
          1.891169786453247,
          2.464167356491089,
          1.9084489345550537,
          2.0374398231506348,
          2.2527413368225098,
          1.9068925380706787,
          1.5381828546524048,
          2.475365161895752,
          1.791297435760498,
          2.4806554317474365,
          2.9862987995147705,
          2.017777442932129,
          1.6636861562728882,
          2.672384738922119,
          2.03415846824646,
          2.0025315284729004,
          1.8476498126983643,
          2.330761671066284,
          2.174593210220337,
          2.7638907432556152,
          2.535947799682617,
          1.2600765228271484,
          0.6719365119934082,
          1.9874742031097412,
          2.130423069000244,
          1.7043297290802002,
          1.754917860031128,
          1.5894534587860107,
          2.9796957969665527,
          2.154877185821533,
          2.9138925075531006,
          1.9992096424102783,
          2.3508214950561523,
          2.20815372467041,
          2.5947177410125732,
          1.304273247718811,
          1.5375607013702393,
          2.794361114501953,
          1.4130080938339233,
          1.7834049463272095,
          1.6241545677185059,
          1.4752120971679688,
          1.8116787672042847,
          1.7746176719665527,
          1.5587413311004639,
          2.6408300399780273,
          1.8684773445129395,
          2.7424936294555664,
          2.7661166191101074,
          1.559193730354309,
          1.6307915449142456,
          1.1659998893737793,
          2.0170583724975586,
          1.8761682510375977,
          2.0062968730926514,
          2.098576068878174,
          1.4982999563217163,
          1.3208708763122559,
          1.7115638256072998,
          1.3997033834457397,
          2.4818503856658936,
          1.6813486814498901,
          0.9095903635025024,
          2.0756618976593018,
          2.259127616882324,
          1.2417511940002441,
          1.2205649614334106,
          1.9616163969039917,
          1.905518651008606,
          2.4383301734924316,
          2.0720999240875244,
          1.7895749807357788,
          0.9701038002967834,
          2.302703857421875,
          2.3030874729156494,
          2.214331865310669,
          2.0053794384002686
         ],
         "yaxis": "y"
        },
        {
         "customdata": [
          [
           "#0200"
          ],
          [
           "#0199"
          ],
          [
           "#0185"
          ],
          [
           "#0191"
          ],
          [
           "#0410"
          ],
          [
           "#0187"
          ],
          [
           "#0409"
          ],
          [
           "#0188"
          ],
          [
           "#0205"
          ],
          [
           "#0414"
          ],
          [
           "#0177"
          ],
          [
           "#0201"
          ],
          [
           "#0412"
          ],
          [
           "#0421"
          ],
          [
           "#0184"
          ],
          [
           "#0424"
          ],
          [
           "#0212"
          ],
          [
           "#0286"
          ],
          [
           "#0368"
          ],
          [
           "#0288"
          ],
          [
           "#0292"
          ],
          [
           "#0293"
          ],
          [
           "#0298"
          ],
          [
           "#0299"
          ],
          [
           "#0300"
          ],
          [
           "#0304"
          ],
          [
           "#0361"
          ],
          [
           "#0312"
          ],
          [
           "#0357"
          ],
          [
           "#0356"
          ],
          [
           "#0325"
          ],
          [
           "#0327"
          ],
          [
           "#0351"
          ],
          [
           "#0347"
          ],
          [
           "#0284"
          ],
          [
           "#0407"
          ],
          [
           "#0370"
          ],
          [
           "#0373"
          ],
          [
           "#0404"
          ],
          [
           "#0218"
          ],
          [
           "#0231"
          ],
          [
           "#0234"
          ],
          [
           "#0389"
          ],
          [
           "#0385"
          ],
          [
           "#0246"
          ],
          [
           "#0251"
          ],
          [
           "#0252"
          ],
          [
           "#0255"
          ],
          [
           "#0378"
          ],
          [
           "#0176"
          ],
          [
           "#0260"
          ],
          [
           "#0262"
          ],
          [
           "#0264"
          ],
          [
           "#0266"
          ],
          [
           "#0374"
          ],
          [
           "#0277"
          ],
          [
           "#0175"
          ],
          [
           "#0346"
          ],
          [
           "#0345"
          ],
          [
           "#0137"
          ],
          [
           "#0011"
          ],
          [
           "#0042"
          ],
          [
           "#0133"
          ],
          [
           "#0469"
          ],
          [
           "#0101"
          ],
          [
           "#0048"
          ],
          [
           "#0126"
          ],
          [
           "#0483"
          ],
          [
           "#0041"
          ],
          [
           "#0502"
          ],
          [
           "#0008"
          ],
          [
           "#0082"
          ],
          [
           "#0501"
          ],
          [
           "#0478"
          ],
          [
           "#0472"
          ],
          [
           "#0106"
          ],
          [
           "#0109"
          ],
          [
           "#0111"
          ],
          [
           "#0112"
          ],
          [
           "#0067"
          ],
          [
           "#0140"
          ],
          [
           "#0071"
          ],
          [
           "#0025"
          ],
          [
           "#0172"
          ],
          [
           "#0080"
          ],
          [
           "#0494"
          ],
          [
           "#0090"
          ],
          [
           "#0427"
          ],
          [
           "#0076"
          ],
          [
           "#0032"
          ],
          [
           "#0004"
          ],
          [
           "#0092"
          ],
          [
           "#0428"
          ],
          [
           "#0003"
          ],
          [
           "#0014"
          ],
          [
           "#0431"
          ],
          [
           "#0096"
          ],
          [
           "#0435"
          ],
          [
           "#0147"
          ],
          [
           "#0145"
          ],
          [
           "#0093"
          ]
         ],
         "hovertemplate": "Cluster=Cluster 1<br>PCA1=%{x}<br>PCA2=%{y}<br>Feature=%{customdata[0]}<extra></extra>",
         "legendgroup": "Cluster 1",
         "marker": {
          "color": "#EF553B",
          "opacity": 0.5,
          "symbol": "circle"
         },
         "mode": "markers",
         "name": "Cluster 1",
         "orientation": "v",
         "showlegend": true,
         "textposition": "top center",
         "type": "scatter",
         "x": [
          0.5449541211128235,
          0.03409218043088913,
          -0.7607061266899109,
          0.39390555024147034,
          -1.1936651468276978,
          0.3853831887245178,
          -0.4102384150028229,
          -1.584505558013916,
          -1.7135827541351318,
          -0.7009266018867493,
          -1.7774571180343628,
          0.17726409435272217,
          -0.5827236771583557,
          -0.20123076438903809,
          -1.7604601383209229,
          0.37063050270080566,
          0.13098742067813873,
          -0.7782077193260193,
          1.1291704177856445,
          -0.5296059250831604,
          0.05368141084909439,
          -0.626433253288269,
          -0.07924003154039383,
          0.5712481737136841,
          -0.3249867856502533,
          -0.31062012910842896,
          -0.8975467085838318,
          -0.9717180728912354,
          -0.6087283492088318,
          -0.7515203356742859,
          -0.5146087408065796,
          0.5921210646629333,
          -1.3449219465255737,
          -0.981408417224884,
          0.3679230213165283,
          -1.6947976350784302,
          -0.6957437992095947,
          -0.7514137029647827,
          -0.4476659297943115,
          0.13885252177715302,
          -0.8721163272857666,
          -0.6100504398345947,
          0.07826898247003555,
          -1.0625990629196167,
          -0.44609490036964417,
          -0.47709953784942627,
          0.40387898683547974,
          0.275091290473938,
          -0.5756657123565674,
          -0.4559391140937805,
          -0.4045960307121277,
          -0.23139086365699768,
          -0.2177526354789734,
          -0.6841250658035278,
          0.7673927545547485,
          0.16151751577854156,
          -0.4610634744167328,
          0.19970780611038208,
          -0.4935241639614105,
          -1.0685112476348877,
          0.7968925833702087,
          -0.9536528587341309,
          -0.7074294686317444,
          -0.976630687713623,
          -0.7215288877487183,
          -0.6559662818908691,
          -1.1343518495559692,
          0.08745153993368149,
          -0.07684221118688583,
          -0.9760964512825012,
          -0.9939495921134949,
          0.5341587066650391,
          -1.1311023235321045,
          -0.18437719345092773,
          -1.9015353918075562,
          -1.177990198135376,
          -1.4534393548965454,
          -1.0582482814788818,
          0.3779793381690979,
          -1.7033196687698364,
          0.7530732750892639,
          -1.2728263139724731,
          -1.496548056602478,
          0.6986722946166992,
          -0.4652075171470642,
          -0.10923535376787186,
          -0.7722861170768738,
          0.15445971488952637,
          -0.8727053999900818,
          -1.1062403917312622,
          -0.19897693395614624,
          -0.8045311570167542,
          0.45778000354766846,
          -1.0229413509368896,
          0.09608360379934311,
          0.18410523235797882,
          -0.032022904604673386,
          -1.0500483512878418,
          -0.24015356600284576,
          -0.5055229067802429,
          1.1345875263214111
         ],
         "xaxis": "x",
         "y": [
          -1.3262269496917725,
          0.03284964710474014,
          -0.817371666431427,
          -1.175835371017456,
          0.003698988351970911,
          -0.420573353767395,
          -1.2948006391525269,
          -0.5706384181976318,
          -1.0865497589111328,
          -1.0981312990188599,
          -0.38526979088783264,
          -0.33863821625709534,
          -0.41065484285354614,
          -0.7569684982299805,
          -1.6772300004959106,
          -1.1561362743377686,
          -0.7088218331336975,
          -1.419876217842102,
          -0.3433018922805786,
          -0.688977837562561,
          0.7178236842155457,
          -1.2461179494857788,
          -1.2275208234786987,
          -1.5924054384231567,
          -0.4919206500053406,
          -1.7949632406234741,
          -0.7822379469871521,
          -0.7572863101959229,
          -1.391640067100525,
          -1.7346665859222412,
          -0.36588433384895325,
          -1.9827107191085815,
          -1.800296664237976,
          -1.734455943107605,
          -0.3253597617149353,
          -1.559324026107788,
          -1.0867282152175903,
          -0.808725893497467,
          -1.4181855916976929,
          0.22019527852535248,
          -0.3963167071342468,
          -0.9191513657569885,
          -1.0004494190216064,
          -0.7830547094345093,
          -0.9238472580909729,
          -0.8754088878631592,
          0.35381588339805603,
          -1.4092587232589722,
          -0.7343139052391052,
          0.3039034605026245,
          -1.406009554862976,
          -0.16635970771312714,
          0.14045383036136627,
          -0.8828890919685364,
          0.41965681314468384,
          -1.2460857629776,
          -1.2151247262954712,
          -0.23460502922534943,
          -0.2781309187412262,
          -0.5584249496459961,
          -1.1737923622131348,
          -0.42305344343185425,
          -0.23989485204219818,
          -0.8821101188659668,
          -0.8212470412254333,
          -0.8095797896385193,
          -1.2250794172286987,
          -1.6690162420272827,
          -1.8740507364273071,
          -0.5270865559577942,
          -0.38326072692871094,
          -1.5060606002807617,
          -0.9324239492416382,
          -0.5513405203819275,
          0.0028133064042776823,
          -0.8157724738121033,
          -1.3573920726776123,
          -0.27593740820884705,
          -1.0750517845153809,
          -0.8040621280670166,
          -1.408161997795105,
          -1.3017535209655762,
          -1.9723585844039917,
          -0.05455998331308365,
          -0.6900627613067627,
          -0.3024507761001587,
          -0.41842082142829895,
          -0.9224265217781067,
          -1.3247344493865967,
          -1.2953673601150513,
          -1.5584063529968262,
          -0.5304027795791626,
          -1.8771147727966309,
          -1.6461347341537476,
          -1.7470653057098389,
          -0.987144947052002,
          -1.9891353845596313,
          -0.9081643223762512,
          -1.1992788314819336,
          -1.3894180059432983,
          -1.2363110780715942
         ],
         "yaxis": "y"
        },
        {
         "customdata": [
          [
           "#0274"
          ],
          [
           "#0072"
          ],
          [
           "#0280"
          ],
          [
           "#0279"
          ],
          [
           "#0467"
          ],
          [
           "#0078"
          ],
          [
           "#0070"
          ],
          [
           "#0375"
          ],
          [
           "#0471"
          ],
          [
           "#0068"
          ],
          [
           "#0278"
          ],
          [
           "#0326"
          ],
          [
           "#0291"
          ],
          [
           "#0282"
          ],
          [
           "#0027"
          ],
          [
           "#0321"
          ],
          [
           "#0030"
          ],
          [
           "#0360"
          ],
          [
           "#0488"
          ],
          [
           "#0034"
          ],
          [
           "#0362"
          ],
          [
           "#0363"
          ],
          [
           "#0487"
          ],
          [
           "#0485"
          ],
          [
           "#0038"
          ],
          [
           "#0039"
          ],
          [
           "#0302"
          ],
          [
           "#0301"
          ],
          [
           "#0021"
          ],
          [
           "#0046"
          ],
          [
           "#0297"
          ],
          [
           "#0047"
          ],
          [
           "#0482"
          ],
          [
           "#0481"
          ],
          [
           "#0367"
          ],
          [
           "#0323"
          ],
          [
           "#0355"
          ],
          [
           "#0058"
          ],
          [
           "#0059"
          ],
          [
           "#0060"
          ],
          [
           "#0283"
          ],
          [
           "#0496"
          ],
          [
           "#0464"
          ],
          [
           "#0460"
          ],
          [
           "#0259"
          ],
          [
           "#0214"
          ],
          [
           "#0349"
          ],
          [
           "#0210"
          ],
          [
           "#0209"
          ],
          [
           "#0440"
          ],
          [
           "#0131"
          ],
          [
           "#0132"
          ],
          [
           "#0134"
          ],
          [
           "#0203"
          ],
          [
           "#0135"
          ],
          [
           "#0437"
          ],
          [
           "#0449"
          ],
          [
           "#0436"
          ],
          [
           "#0144"
          ],
          [
           "#0434"
          ],
          [
           "#0418"
          ],
          [
           "#0159"
          ],
          [
           "#0160"
          ],
          [
           "#0183"
          ],
          [
           "#0426"
          ],
          [
           "#0420"
          ],
          [
           "#0179"
          ],
          [
           "#0167"
          ],
          [
           "#0169"
          ],
          [
           "#0196"
          ],
          [
           "#0174"
          ],
          [
           "#0119"
          ],
          [
           "#0336"
          ],
          [
           "#0086"
          ],
          [
           "#0088"
          ],
          [
           "#0089"
          ],
          [
           "#0254"
          ],
          [
           "#0497"
          ],
          [
           "#0017"
          ],
          [
           "#0354"
          ],
          [
           "#0100"
          ],
          [
           "#0245"
          ],
          [
           "#0244"
          ],
          [
           "#0384"
          ],
          [
           "#0458"
          ],
          [
           "#0117"
          ],
          [
           "#0388"
          ],
          [
           "#0105"
          ],
          [
           "#0016"
          ],
          [
           "#0108"
          ],
          [
           "#0392"
          ],
          [
           "#0393"
          ],
          [
           "#0398"
          ],
          [
           "#0113"
          ],
          [
           "#0225"
          ],
          [
           "#0334"
          ],
          [
           "#0335"
          ],
          [
           "#0114"
          ],
          [
           "#0024"
          ]
         ],
         "hovertemplate": "Cluster=Cluster 2<br>PCA1=%{x}<br>PCA2=%{y}<br>Feature=%{customdata[0]}<extra></extra>",
         "legendgroup": "Cluster 2",
         "marker": {
          "color": "#00cc96",
          "opacity": 0.5,
          "symbol": "circle"
         },
         "mode": "markers",
         "name": "Cluster 2",
         "orientation": "v",
         "showlegend": true,
         "textposition": "top center",
         "type": "scatter",
         "x": [
          -0.23629800975322723,
          0.6700854897499084,
          -0.7970984578132629,
          -1.1219249963760376,
          0.28098103404045105,
          -0.1655971109867096,
          0.34610623121261597,
          -1.3173285722732544,
          -0.4869857430458069,
          1.0929511785507202,
          0.10468870401382446,
          0.6738214492797852,
          -0.5107085704803467,
          -0.3091474175453186,
          -0.6350166201591492,
          0.42109501361846924,
          -0.8027986288070679,
          1.0076360702514648,
          0.17019367218017578,
          1.0710030794143677,
          0.20336171984672546,
          0.08547617495059967,
          -0.6123430728912354,
          0.8293226361274719,
          -0.33893996477127075,
          -0.4032967686653137,
          -0.563012957572937,
          -0.4991580545902252,
          0.4127639830112457,
          -0.9859159588813782,
          -0.07184260338544846,
          0.043549999594688416,
          0.4756772518157959,
          -0.39128920435905457,
          1.3849749565124512,
          -1.3566316366195679,
          0.36837655305862427,
          -0.7041642665863037,
          -0.14972445368766785,
          0.6192392110824585,
          0.2135826200246811,
          -1.1932506561279297,
          0.22947460412979126,
          -0.5756691694259644,
          -0.3346831798553467,
          1.2014683485031128,
          -0.6094499826431274,
          -0.5761170983314514,
          0.5847285389900208,
          -0.23999831080436707,
          -1.68313467502594,
          0.3856230676174164,
          -0.9831671118736267,
          -0.09813522547483444,
          -1.0503586530685425,
          0.017457809299230576,
          -0.026534952223300934,
          -1.3798145055770874,
          0.43719765543937683,
          -0.11691560596227646,
          0.41721978783607483,
          -0.621284008026123,
          -0.21848343312740326,
          0.18057212233543396,
          -1.4848852157592773,
          0.15861351788043976,
          -0.9681016206741333,
          0.22082626819610596,
          0.6880648732185364,
          0.17891952395439148,
          -1.0932554006576538,
          0.8970949649810791,
          0.2621130049228668,
          -0.38729944825172424,
          -0.769991397857666,
          -0.10835621505975723,
          0.5349239110946655,
          -0.6263890266418457,
          -0.2272075116634369,
          -0.2128155529499054,
          0.16404081881046295,
          -0.2510831356048584,
          0.14054659008979797,
          -0.6711370944976807,
          0.3994480073451996,
          -0.09407725930213928,
          -1.4883317947387695,
          0.16626344621181488,
          -0.45006874203681946,
          1.012333631515503,
          -0.6818938851356506,
          0.5337461233139038,
          0.7161762118339539,
          0.8556881546974182,
          -0.031155433505773544,
          0.4151098132133484,
          -0.35068488121032715,
          -1.2863819599151611,
          0.19295939803123474
         ],
         "xaxis": "x",
         "y": [
          -0.8163770437240601,
          -0.76008141040802,
          -1.6695668697357178,
          -1.701981544494629,
          -0.5056192874908447,
          -1.1251050233840942,
          -1.7538107633590698,
          -1.4106944799423218,
          -1.5157233476638794,
          -1.3202288150787354,
          -1.821940541267395,
          -1.9084962606430054,
          -2.382967710494995,
          -1.2639145851135254,
          0.034622855484485626,
          -1.2334182262420654,
          -0.9668782353401184,
          -0.977508008480072,
          -1.2465380430221558,
          -0.755882740020752,
          -1.037093997001648,
          -1.6943943500518799,
          -1.890851378440857,
          -0.8347795605659485,
          -1.4490317106246948,
          -0.7502290606498718,
          -1.3733060359954834,
          -0.8803164958953857,
          -2.194308280944824,
          -1.301927924156189,
          0.05625554919242859,
          -1.5574607849121094,
          -1.9433438777923584,
          -1.7200974225997925,
          -1.6856454610824585,
          -1.1990175247192383,
          -1.5250455141067505,
          -0.7848222851753235,
          -0.4859863519668579,
          -1.1985702514648438,
          -1.4523249864578247,
          -1.7987773418426514,
          -1.9469488859176636,
          -0.8003144860267639,
          -1.2019530534744263,
          -1.7631332874298096,
          -1.8690017461776733,
          -1.325096607208252,
          -1.1150785684585571,
          -2.0909030437469482,
          -1.2778881788253784,
          -1.850178837776184,
          -1.4349862337112427,
          -1.3239998817443848,
          -1.3495122194290161,
          -0.46805235743522644,
          -1.4938360452651978,
          -2.232576608657837,
          -1.7076606750488281,
          -1.0044366121292114,
          -2.13507342338562,
          -2.6458277702331543,
          -1.5629932880401611,
          -2.119265079498291,
          -1.690922737121582,
          -0.8475868701934814,
          -2.048543930053711,
          -0.923358142375946,
          -1.1722357273101807,
          -1.98069429397583,
          -1.4864203929901123,
          -1.7626733779907227,
          -1.8835792541503906,
          -1.6927354335784912,
          -1.237189531326294,
          -0.9087691903114319,
          -2.1214497089385986,
          -1.1685212850570679,
          -1.9931222200393677,
          -1.7373138666152954,
          -2.4479289054870605,
          -1.0235728025436401,
          -0.8190704584121704,
          -0.9790142774581909,
          -2.624156951904297,
          -2.595449924468994,
          -1.7896716594696045,
          -1.4077023267745972,
          -1.7887917757034302,
          -1.4256705045700073,
          -0.556057333946228,
          -1.4940530061721802,
          -1.2425239086151123,
          -1.0265347957611084,
          -1.8875322341918945,
          -1.0892735719680786,
          -1.3845423460006714,
          -0.9281805753707886,
          -1.2655397653579712
         ],
         "yaxis": "y"
        },
        {
         "customdata": [
          [
           "#0348"
          ],
          [
           "#0350"
          ],
          [
           "#0353"
          ],
          [
           "#0463"
          ],
          [
           "#0489"
          ],
          [
           "#0429"
          ],
          [
           "#0417"
          ],
          [
           "#0411"
          ],
          [
           "#0445"
          ],
          [
           "#0406"
          ],
          [
           "#0405"
          ],
          [
           "#0448"
          ],
          [
           "#0451"
          ],
          [
           "#0453"
          ],
          [
           "#0400"
          ],
          [
           "#0399"
          ],
          [
           "#0397"
          ],
          [
           "#0395"
          ],
          [
           "#0391"
          ],
          [
           "#0457"
          ],
          [
           "#0383"
          ],
          [
           "#0382"
          ],
          [
           "#0380"
          ],
          [
           "#0468"
          ],
          [
           "#0473"
          ],
          [
           "#0476"
          ],
          [
           "#0477"
          ],
          [
           "#0484"
          ],
          [
           "#0490"
          ],
          [
           "#0253"
          ],
          [
           "#0506"
          ],
          [
           "#0163"
          ],
          [
           "#0079"
          ],
          [
           "#0193"
          ],
          [
           "#0195"
          ],
          [
           "#0069"
          ],
          [
           "#0066"
          ],
          [
           "#0208"
          ],
          [
           "#0081"
          ],
          [
           "#0222"
          ],
          [
           "#0125"
          ],
          [
           "#0229"
          ],
          [
           "#0051"
          ],
          [
           "#0050"
          ],
          [
           "#0236"
          ],
          [
           "#0237"
          ],
          [
           "#0223"
          ],
          [
           "#0182"
          ],
          [
           "#0180"
          ],
          [
           "#0091"
          ],
          [
           "#0122"
          ],
          [
           "#0120"
          ],
          [
           "#0129"
          ],
          [
           "#0107"
          ],
          [
           "#0139"
          ],
          [
           "#0143"
          ],
          [
           "#0149"
          ],
          [
           "#0104"
          ],
          [
           "#0154"
          ],
          [
           "#0155"
          ],
          [
           "#0158"
          ],
          [
           "#0344"
          ],
          [
           "#0164"
          ],
          [
           "#0099"
          ],
          [
           "#0095"
          ],
          [
           "#0241"
          ],
          [
           "#0242"
          ],
          [
           "#0228"
          ],
          [
           "#0123"
          ],
          [
           "#0020"
          ],
          [
           "#0296"
          ],
          [
           "#0022"
          ],
          [
           "#0243"
          ],
          [
           "#0281"
          ],
          [
           "#0314"
          ],
          [
           "#0276"
          ],
          [
           "#0273"
          ],
          [
           "#0023"
          ],
          [
           "#0006"
          ],
          [
           "#0018"
          ],
          [
           "#0324"
          ],
          [
           "#0270"
          ],
          [
           "#0268"
          ],
          [
           "#0319"
          ],
          [
           "#0330"
          ],
          [
           "#0339"
          ],
          [
           "#0002"
          ],
          [
           "#0029"
          ],
          [
           "#0329"
          ],
          [
           "#0257"
          ],
          [
           "#0505"
          ],
          [
           "#0258"
          ],
          [
           "#0331"
          ],
          [
           "#0026"
          ],
          [
           "#0308"
          ]
         ],
         "hovertemplate": "Cluster=Cluster 3<br>PCA1=%{x}<br>PCA2=%{y}<br>Feature=%{customdata[0]}<extra></extra>",
         "legendgroup": "Cluster 3",
         "marker": {
          "color": "#ab63fa",
          "opacity": 0.5,
          "symbol": "circle"
         },
         "mode": "markers",
         "name": "Cluster 3",
         "orientation": "v",
         "showlegend": true,
         "textposition": "top center",
         "type": "scatter",
         "x": [
          -0.8712663650512695,
          -1.071991205215454,
          -1.8052529096603394,
          -0.7114965319633484,
          -1.475820779800415,
          -2.1471195220947266,
          -1.612525224685669,
          -0.8681032657623291,
          -0.6866551637649536,
          -2.0149075984954834,
          -2.324462413787842,
          -0.8644399642944336,
          -1.0358704328536987,
          -1.0066832304000854,
          -2.2146615982055664,
          -1.3115273714065552,
          -1.4338947534561157,
          -1.4913702011108398,
          -1.8159042596817017,
          -0.7005942463874817,
          -0.8784713745117188,
          -1.6111780405044556,
          -2.3397109508514404,
          -0.8585277199745178,
          -1.0753989219665527,
          -0.7920624017715454,
          -1.2559629678726196,
          -1.6496578454971313,
          -0.8864758014678955,
          -0.8809713125228882,
          -1.3346103429794312,
          -1.1826330423355103,
          -1.8470144271850586,
          -1.550256371498108,
          -1.3015183210372925,
          -1.502233624458313,
          -0.8291283249855042,
          -1.7442359924316406,
          -2.0363900661468506,
          -0.8864758014678955,
          -0.8966320157051086,
          -0.899689793586731,
          -0.30753886699676514,
          -0.9127746820449829,
          -1.3711673021316528,
          -0.7347623109817505,
          -1.6771461963653564,
          -2.148287057876587,
          -1.3851945400238037,
          -0.8537352681159973,
          -0.4760848879814148,
          -1.8333288431167603,
          -1.4396809339523315,
          -2.0377118587493896,
          -0.884739875793457,
          -0.6818093657493591,
          -0.6535925269126892,
          -1.077008843421936,
          -1.5968116521835327,
          -1.3798545598983765,
          -1.2378089427947998,
          -1.4562318325042725,
          -0.9917231202125549,
          -1.0806396007537842,
          -1.7492597103118896,
          -1.44212806224823,
          -1.1245688199996948,
          -1.3882993459701538,
          -1.7544941902160645,
          -1.7696664333343506,
          -1.8807071447372437,
          -0.590019166469574,
          -2.6455483436584473,
          -0.5014796257019043,
          -0.5232515931129456,
          -0.26507261395454407,
          -2.7620744705200195,
          -1.0289148092269897,
          -1.5473040342330933,
          -2.1192245483398438,
          -1.484635829925537,
          -1.2390918731689453,
          -0.5955623984336853,
          -1.7679202556610107,
          -1.528484582901001,
          -1.0228924751281738,
          -1.4715524911880493,
          -1.0747982263565063,
          -1.6917845010757446,
          -2.0370726585388184,
          -1.475820779800415,
          -1.834511399269104,
          -0.14095276594161987,
          -1.1538403034210205,
          -1.0198347568511963
         ],
         "xaxis": "x",
         "y": [
          -0.37933969497680664,
          -0.8690117001533508,
          -0.6530284285545349,
          -0.5566914081573486,
          0.29920968413352966,
          0.6718694567680359,
          -0.6413176655769348,
          -0.47091126441955566,
          -1.099187970161438,
          -0.21391381323337555,
          1.0884394645690918,
          -0.0473148375749588,
          0.14462542533874512,
          -0.0997033417224884,
          -0.4297442138195038,
          0.5042435526847839,
          0.16227607429027557,
          0.8503522872924805,
          -0.6779541373252869,
          0.5490829944610596,
          -0.3055162727832794,
          0.44504380226135254,
          -0.3155025243759155,
          -0.27194473147392273,
          -0.3649706542491913,
          -0.30958670377731323,
          0.6741237044334412,
          0.6807267069816589,
          -1.1804918050765991,
          -0.3759779632091522,
          -0.4230765104293823,
          -0.9973452687263489,
          -0.18163315951824188,
          -0.14428286254405975,
          -0.38904568552970886,
          0.3473680317401886,
          -0.0382150337100029,
          -0.5246395468711853,
          -1.2701913118362427,
          -1.1804918050765991,
          -0.537038266658783,
          -0.893349289894104,
          -0.280807226896286,
          -1.1232630014419556,
          -0.4393858015537262,
          0.6890929341316223,
          -0.41095900535583496,
          -1.060562252998352,
          -0.48863786458969116,
          -0.4001303017139435,
          -0.5239707231521606,
          0.26877766847610474,
          0.11857719719409943,
          -0.7977020740509033,
          -0.3516920208930969,
          0.0763084664940834,
          -0.4418618679046631,
          -1.462099313735962,
          -0.8579985499382019,
          -0.018585236743092537,
          -1.4247868061065674,
          0.9841836094856262,
          -0.2653786540031433,
          0.1545790135860443,
          0.31975728273391724,
          -0.32962581515312195,
          -0.7570036053657532,
          -0.9885457158088684,
          -0.5981774926185608,
          -0.9105607271194458,
          0.44720232486724854,
          0.8119431734085083,
          0.11655977368354797,
          -0.05837377533316612,
          0.1325129270553589,
          -0.5840561389923096,
          -0.5244606137275696,
          0.27432188391685486,
          -0.2562357485294342,
          0.27673426270484924,
          -0.7240952253341675,
          -0.34950771927833557,
          -0.5953609347343445,
          -0.7890934944152832,
          -0.33516940474510193,
          -0.5514017343521118,
          -0.4941796660423279,
          -0.14447377622127533,
          -0.3683187961578369,
          0.02558506838977337,
          0.29920968413352966,
          -0.48312249779701233,
          -0.2744207978248596,
          0.45337212085723877,
          -0.19509069621562958
         ],
         "yaxis": "y"
        },
        {
         "customdata": [
          [
           "#0116"
          ],
          [
           "#0102"
          ],
          [
           "#0452"
          ],
          [
           "#0103"
          ],
          [
           "#0010"
          ],
          [
           "#0455"
          ],
          [
           "#0499"
          ],
          [
           "#0015"
          ],
          [
           "#0121"
          ],
          [
           "#0504"
          ],
          [
           "#0098"
          ],
          [
           "#0009"
          ],
          [
           "#0035"
          ],
          [
           "#0083"
          ],
          [
           "#0031"
          ],
          [
           "#0486"
          ],
          [
           "#0037"
          ],
          [
           "#0043"
          ],
          [
           "#0028"
          ],
          [
           "#0053"
          ],
          [
           "#0480"
          ],
          [
           "#0479"
          ],
          [
           "#0054"
          ],
          [
           "#0055"
          ],
          [
           "#0057"
          ],
          [
           "#0475"
          ],
          [
           "#0474"
          ],
          [
           "#0062"
          ],
          [
           "#0065"
          ],
          [
           "#0470"
          ],
          [
           "#0075"
          ],
          [
           "#0493"
          ],
          [
           "#0495"
          ],
          [
           "#0085"
          ],
          [
           "#0077"
          ],
          [
           "#0343"
          ],
          [
           "#0446"
          ],
          [
           "#0227"
          ],
          [
           "#0396"
          ],
          [
           "#0394"
          ],
          [
           "#0230"
          ],
          [
           "#0233"
          ],
          [
           "#0239"
          ],
          [
           "#0240"
          ],
          [
           "#0387"
          ],
          [
           "#0249"
          ],
          [
           "#0250"
          ],
          [
           "#0381"
          ],
          [
           "#0256"
          ],
          [
           "#0224"
          ],
          [
           "#0267"
          ],
          [
           "#0369"
          ],
          [
           "#0287"
          ],
          [
           "#0289"
          ],
          [
           "#0306"
          ],
          [
           "#0364"
          ],
          [
           "#0309"
          ],
          [
           "#0311"
          ],
          [
           "#0313"
          ],
          [
           "#0317"
          ],
          [
           "#0318"
          ],
          [
           "#0338"
          ],
          [
           "#0341"
          ],
          [
           "#0272"
          ],
          [
           "#0447"
          ],
          [
           "#0221"
          ],
          [
           "#0216"
          ],
          [
           "#0444"
          ],
          [
           "#0127"
          ],
          [
           "#0128"
          ],
          [
           "#0130"
          ],
          [
           "#0439"
          ],
          [
           "#0438"
          ],
          [
           "#0148"
          ],
          [
           "#0433"
          ],
          [
           "#0432"
          ],
          [
           "#0157"
          ],
          [
           "#0168"
          ],
          [
           "#0173"
          ],
          [
           "#0403"
          ],
          [
           "#0423"
          ],
          [
           "#0178"
          ],
          [
           "#0186"
          ],
          [
           "#0189"
          ],
          [
           "#0416"
          ],
          [
           "#0192"
          ],
          [
           "#0197"
          ],
          [
           "#0198"
          ],
          [
           "#0202"
          ],
          [
           "#0204"
          ],
          [
           "#0211"
          ],
          [
           "#0213"
          ],
          [
           "#0215"
          ],
          [
           "#0422"
          ],
          [
           "#0001"
          ]
         ],
         "hovertemplate": "Cluster=Cluster 4<br>PCA1=%{x}<br>PCA2=%{y}<br>Feature=%{customdata[0]}<extra></extra>",
         "legendgroup": "Cluster 4",
         "marker": {
          "color": "#FFA15A",
          "opacity": 0.5,
          "symbol": "circle"
         },
         "mode": "markers",
         "name": "Cluster 4",
         "orientation": "v",
         "showlegend": true,
         "textposition": "top center",
         "type": "scatter",
         "x": [
          2.0701208114624023,
          3.7911429405212402,
          2.7140824794769287,
          2.4978325366973877,
          2.849172592163086,
          2.7269818782806396,
          3.0355052947998047,
          2.673541784286499,
          2.7258358001708984,
          2.551107406616211,
          2.845184087753296,
          2.515232801437378,
          2.101785659790039,
          2.928305149078369,
          2.5410566329956055,
          1.712555170059204,
          2.849494457244873,
          2.9186019897460938,
          2.951807975769043,
          2.4226789474487305,
          2.5010480880737305,
          3.3074989318847656,
          2.014946699142456,
          3.515545129776001,
          1.9165436029434204,
          2.9581570625305176,
          2.391674280166626,
          2.7175052165985107,
          2.118677854537964,
          2.1509554386138916,
          2.8568694591522217,
          2.606884002685547,
          2.4282219409942627,
          2.996556282043457,
          2.3782870769500732,
          2.9210269451141357,
          2.9151153564453125,
          2.319829225540161,
          2.5201687812805176,
          3.245858669281006,
          2.18340802192688,
          3.391779661178589,
          1.6038261651992798,
          3.0229218006134033,
          2.496697187423706,
          2.441801071166992,
          1.990998387336731,
          2.2101669311523438,
          2.282738447189331,
          2.607424736022949,
          2.835362434387207,
          3.262284517288208,
          2.835603713989258,
          2.5886123180389404,
          2.597696542739868,
          2.4858334064483643,
          2.5976624488830566,
          1.8437598943710327,
          3.555342197418213,
          2.7746121883392334,
          2.220954418182373,
          3.4739317893981934,
          3.305493116378784,
          2.3292269706726074,
          2.3236351013183594,
          2.5467569828033447,
          2.82041335105896,
          3.631225347518921,
          2.4438974857330322,
          3.207273244857788,
          1.7883318662643433,
          2.986335277557373,
          2.8832345008850098,
          3.716153621673584,
          3.0115580558776855,
          2.8015458583831787,
          3.232250928878784,
          2.128162145614624,
          1.8834515810012817,
          3.0117688179016113,
          3.0472500324249268,
          2.135995626449585,
          3.4406611919403076,
          2.95041823387146,
          2.5290474891662598,
          2.7862980365753174,
          2.339484930038452,
          3.0214850902557373,
          2.226304054260254,
          2.359074831008911,
          2.264923572540283,
          2.0901002883911133,
          2.4042153358459473,
          2.456439256668091,
          3.3532986640930176
         ],
         "xaxis": "x",
         "y": [
          0.20230765640735626,
          -0.05615520477294922,
          0.5106325149536133,
          0.8176571130752563,
          0.1450818032026291,
          -0.11207962036132812,
          0.37894555926322937,
          0.28927862644195557,
          -0.013050157576799393,
          0.08183745294809341,
          0.5753970146179199,
          -0.059900201857089996,
          0.24056406319141388,
          0.14041180908679962,
          0.2774087190628052,
          0.7633551359176636,
          0.022046664729714394,
          0.6014510989189148,
          -0.23881080746650696,
          -0.03719678148627281,
          0.7164713740348816,
          -0.40426912903785706,
          0.2325434386730194,
          1.0858070850372314,
          -0.6657235622406006,
          1.1078732013702393,
          0.011241653002798557,
          0.6785560250282288,
          -0.603513777256012,
          0.6325969696044922,
          -0.2714363634586334,
          0.72977614402771,
          1.3701070547103882,
          -0.4283178150653839,
          0.42311593890190125,
          -0.7823953628540039,
          -0.557765781879425,
          0.23138655722141266,
          -0.004250638652592897,
          0.629315972328186,
          -0.15665917098522186,
          0.12476935982704163,
          0.7282009720802307,
          -0.6200734376907349,
          0.20935429632663727,
          0.8945770859718323,
          -0.5003547072410583,
          0.7733204960823059,
          -1.0560917854309082,
          0.2007116824388504,
          0.4206770062446594,
          1.4058613777160645,
          -1.0028663873672485,
          -0.6366363763809204,
          0.27324768900871277,
          -0.2936300039291382,
          0.7955529093742371,
          0.685630202293396,
          0.16868573427200317,
          0.42759501934051514,
          -0.1774147003889084,
          -0.12637971341609955,
          0.1936485916376114,
          -0.20784980058670044,
          1.0580298900604248,
          -0.4252796769142151,
          1.1923162937164307,
          -0.12863925099372864,
          0.5506360530853271,
          1.3128809928894043,
          -0.4599108397960663,
          -0.013087168335914612,
          -0.4631916582584381,
          -0.5765475630760193,
          0.10372483730316162,
          0.984703779220581,
          -0.2052764892578125,
          -0.658523678779602,
          0.21639135479927063,
          0.12410615384578705,
          0.31445613503456116,
          0.7982721924781799,
          0.11753223836421967,
          -0.08947267383337021,
          -0.1265459507703781,
          -0.41923829913139343,
          -0.1343119591474533,
          0.7267084121704102,
          -0.01975150965154171,
          0.5506619215011597,
          -0.309475839138031,
          1.0873973369598389,
          0.3125426769256592,
          0.8519371151924133,
          0.3604510426521301
         ],
         "yaxis": "y"
        }
       ],
       "layout": {
        "height": 600,
        "legend": {
         "title": {
          "text": "Cluster"
         },
         "tracegroupgap": 0
        },
        "margin": {
         "t": 60
        },
        "plot_bgcolor": "rgb(240,240,240)",
        "template": {
         "data": {
          "bar": [
           {
            "error_x": {
             "color": "#2a3f5f"
            },
            "error_y": {
             "color": "#2a3f5f"
            },
            "marker": {
             "line": {
              "color": "#E5ECF6",
              "width": 0.5
             },
             "pattern": {
              "fillmode": "overlay",
              "size": 10,
              "solidity": 0.2
             }
            },
            "type": "bar"
           }
          ],
          "barpolar": [
           {
            "marker": {
             "line": {
              "color": "#E5ECF6",
              "width": 0.5
             },
             "pattern": {
              "fillmode": "overlay",
              "size": 10,
              "solidity": 0.2
             }
            },
            "type": "barpolar"
           }
          ],
          "carpet": [
           {
            "aaxis": {
             "endlinecolor": "#2a3f5f",
             "gridcolor": "white",
             "linecolor": "white",
             "minorgridcolor": "white",
             "startlinecolor": "#2a3f5f"
            },
            "baxis": {
             "endlinecolor": "#2a3f5f",
             "gridcolor": "white",
             "linecolor": "white",
             "minorgridcolor": "white",
             "startlinecolor": "#2a3f5f"
            },
            "type": "carpet"
           }
          ],
          "choropleth": [
           {
            "colorbar": {
             "outlinewidth": 0,
             "ticks": ""
            },
            "type": "choropleth"
           }
          ],
          "contour": [
           {
            "colorbar": {
             "outlinewidth": 0,
             "ticks": ""
            },
            "colorscale": [
             [
              0,
              "#0d0887"
             ],
             [
              0.1111111111111111,
              "#46039f"
             ],
             [
              0.2222222222222222,
              "#7201a8"
             ],
             [
              0.3333333333333333,
              "#9c179e"
             ],
             [
              0.4444444444444444,
              "#bd3786"
             ],
             [
              0.5555555555555556,
              "#d8576b"
             ],
             [
              0.6666666666666666,
              "#ed7953"
             ],
             [
              0.7777777777777778,
              "#fb9f3a"
             ],
             [
              0.8888888888888888,
              "#fdca26"
             ],
             [
              1,
              "#f0f921"
             ]
            ],
            "type": "contour"
           }
          ],
          "contourcarpet": [
           {
            "colorbar": {
             "outlinewidth": 0,
             "ticks": ""
            },
            "type": "contourcarpet"
           }
          ],
          "heatmap": [
           {
            "colorbar": {
             "outlinewidth": 0,
             "ticks": ""
            },
            "colorscale": [
             [
              0,
              "#0d0887"
             ],
             [
              0.1111111111111111,
              "#46039f"
             ],
             [
              0.2222222222222222,
              "#7201a8"
             ],
             [
              0.3333333333333333,
              "#9c179e"
             ],
             [
              0.4444444444444444,
              "#bd3786"
             ],
             [
              0.5555555555555556,
              "#d8576b"
             ],
             [
              0.6666666666666666,
              "#ed7953"
             ],
             [
              0.7777777777777778,
              "#fb9f3a"
             ],
             [
              0.8888888888888888,
              "#fdca26"
             ],
             [
              1,
              "#f0f921"
             ]
            ],
            "type": "heatmap"
           }
          ],
          "heatmapgl": [
           {
            "colorbar": {
             "outlinewidth": 0,
             "ticks": ""
            },
            "colorscale": [
             [
              0,
              "#0d0887"
             ],
             [
              0.1111111111111111,
              "#46039f"
             ],
             [
              0.2222222222222222,
              "#7201a8"
             ],
             [
              0.3333333333333333,
              "#9c179e"
             ],
             [
              0.4444444444444444,
              "#bd3786"
             ],
             [
              0.5555555555555556,
              "#d8576b"
             ],
             [
              0.6666666666666666,
              "#ed7953"
             ],
             [
              0.7777777777777778,
              "#fb9f3a"
             ],
             [
              0.8888888888888888,
              "#fdca26"
             ],
             [
              1,
              "#f0f921"
             ]
            ],
            "type": "heatmapgl"
           }
          ],
          "histogram": [
           {
            "marker": {
             "pattern": {
              "fillmode": "overlay",
              "size": 10,
              "solidity": 0.2
             }
            },
            "type": "histogram"
           }
          ],
          "histogram2d": [
           {
            "colorbar": {
             "outlinewidth": 0,
             "ticks": ""
            },
            "colorscale": [
             [
              0,
              "#0d0887"
             ],
             [
              0.1111111111111111,
              "#46039f"
             ],
             [
              0.2222222222222222,
              "#7201a8"
             ],
             [
              0.3333333333333333,
              "#9c179e"
             ],
             [
              0.4444444444444444,
              "#bd3786"
             ],
             [
              0.5555555555555556,
              "#d8576b"
             ],
             [
              0.6666666666666666,
              "#ed7953"
             ],
             [
              0.7777777777777778,
              "#fb9f3a"
             ],
             [
              0.8888888888888888,
              "#fdca26"
             ],
             [
              1,
              "#f0f921"
             ]
            ],
            "type": "histogram2d"
           }
          ],
          "histogram2dcontour": [
           {
            "colorbar": {
             "outlinewidth": 0,
             "ticks": ""
            },
            "colorscale": [
             [
              0,
              "#0d0887"
             ],
             [
              0.1111111111111111,
              "#46039f"
             ],
             [
              0.2222222222222222,
              "#7201a8"
             ],
             [
              0.3333333333333333,
              "#9c179e"
             ],
             [
              0.4444444444444444,
              "#bd3786"
             ],
             [
              0.5555555555555556,
              "#d8576b"
             ],
             [
              0.6666666666666666,
              "#ed7953"
             ],
             [
              0.7777777777777778,
              "#fb9f3a"
             ],
             [
              0.8888888888888888,
              "#fdca26"
             ],
             [
              1,
              "#f0f921"
             ]
            ],
            "type": "histogram2dcontour"
           }
          ],
          "mesh3d": [
           {
            "colorbar": {
             "outlinewidth": 0,
             "ticks": ""
            },
            "type": "mesh3d"
           }
          ],
          "parcoords": [
           {
            "line": {
             "colorbar": {
              "outlinewidth": 0,
              "ticks": ""
             }
            },
            "type": "parcoords"
           }
          ],
          "pie": [
           {
            "automargin": true,
            "type": "pie"
           }
          ],
          "scatter": [
           {
            "fillpattern": {
             "fillmode": "overlay",
             "size": 10,
             "solidity": 0.2
            },
            "type": "scatter"
           }
          ],
          "scatter3d": [
           {
            "line": {
             "colorbar": {
              "outlinewidth": 0,
              "ticks": ""
             }
            },
            "marker": {
             "colorbar": {
              "outlinewidth": 0,
              "ticks": ""
             }
            },
            "type": "scatter3d"
           }
          ],
          "scattercarpet": [
           {
            "marker": {
             "colorbar": {
              "outlinewidth": 0,
              "ticks": ""
             }
            },
            "type": "scattercarpet"
           }
          ],
          "scattergeo": [
           {
            "marker": {
             "colorbar": {
              "outlinewidth": 0,
              "ticks": ""
             }
            },
            "type": "scattergeo"
           }
          ],
          "scattergl": [
           {
            "marker": {
             "colorbar": {
              "outlinewidth": 0,
              "ticks": ""
             }
            },
            "type": "scattergl"
           }
          ],
          "scattermapbox": [
           {
            "marker": {
             "colorbar": {
              "outlinewidth": 0,
              "ticks": ""
             }
            },
            "type": "scattermapbox"
           }
          ],
          "scatterpolar": [
           {
            "marker": {
             "colorbar": {
              "outlinewidth": 0,
              "ticks": ""
             }
            },
            "type": "scatterpolar"
           }
          ],
          "scatterpolargl": [
           {
            "marker": {
             "colorbar": {
              "outlinewidth": 0,
              "ticks": ""
             }
            },
            "type": "scatterpolargl"
           }
          ],
          "scatterternary": [
           {
            "marker": {
             "colorbar": {
              "outlinewidth": 0,
              "ticks": ""
             }
            },
            "type": "scatterternary"
           }
          ],
          "surface": [
           {
            "colorbar": {
             "outlinewidth": 0,
             "ticks": ""
            },
            "colorscale": [
             [
              0,
              "#0d0887"
             ],
             [
              0.1111111111111111,
              "#46039f"
             ],
             [
              0.2222222222222222,
              "#7201a8"
             ],
             [
              0.3333333333333333,
              "#9c179e"
             ],
             [
              0.4444444444444444,
              "#bd3786"
             ],
             [
              0.5555555555555556,
              "#d8576b"
             ],
             [
              0.6666666666666666,
              "#ed7953"
             ],
             [
              0.7777777777777778,
              "#fb9f3a"
             ],
             [
              0.8888888888888888,
              "#fdca26"
             ],
             [
              1,
              "#f0f921"
             ]
            ],
            "type": "surface"
           }
          ],
          "table": [
           {
            "cells": {
             "fill": {
              "color": "#EBF0F8"
             },
             "line": {
              "color": "white"
             }
            },
            "header": {
             "fill": {
              "color": "#C8D4E3"
             },
             "line": {
              "color": "white"
             }
            },
            "type": "table"
           }
          ]
         },
         "layout": {
          "annotationdefaults": {
           "arrowcolor": "#2a3f5f",
           "arrowhead": 0,
           "arrowwidth": 1
          },
          "autotypenumbers": "strict",
          "coloraxis": {
           "colorbar": {
            "outlinewidth": 0,
            "ticks": ""
           }
          },
          "colorscale": {
           "diverging": [
            [
             0,
             "#8e0152"
            ],
            [
             0.1,
             "#c51b7d"
            ],
            [
             0.2,
             "#de77ae"
            ],
            [
             0.3,
             "#f1b6da"
            ],
            [
             0.4,
             "#fde0ef"
            ],
            [
             0.5,
             "#f7f7f7"
            ],
            [
             0.6,
             "#e6f5d0"
            ],
            [
             0.7,
             "#b8e186"
            ],
            [
             0.8,
             "#7fbc41"
            ],
            [
             0.9,
             "#4d9221"
            ],
            [
             1,
             "#276419"
            ]
           ],
           "sequential": [
            [
             0,
             "#0d0887"
            ],
            [
             0.1111111111111111,
             "#46039f"
            ],
            [
             0.2222222222222222,
             "#7201a8"
            ],
            [
             0.3333333333333333,
             "#9c179e"
            ],
            [
             0.4444444444444444,
             "#bd3786"
            ],
            [
             0.5555555555555556,
             "#d8576b"
            ],
            [
             0.6666666666666666,
             "#ed7953"
            ],
            [
             0.7777777777777778,
             "#fb9f3a"
            ],
            [
             0.8888888888888888,
             "#fdca26"
            ],
            [
             1,
             "#f0f921"
            ]
           ],
           "sequentialminus": [
            [
             0,
             "#0d0887"
            ],
            [
             0.1111111111111111,
             "#46039f"
            ],
            [
             0.2222222222222222,
             "#7201a8"
            ],
            [
             0.3333333333333333,
             "#9c179e"
            ],
            [
             0.4444444444444444,
             "#bd3786"
            ],
            [
             0.5555555555555556,
             "#d8576b"
            ],
            [
             0.6666666666666666,
             "#ed7953"
            ],
            [
             0.7777777777777778,
             "#fb9f3a"
            ],
            [
             0.8888888888888888,
             "#fdca26"
            ],
            [
             1,
             "#f0f921"
            ]
           ]
          },
          "colorway": [
           "#636efa",
           "#EF553B",
           "#00cc96",
           "#ab63fa",
           "#FFA15A",
           "#19d3f3",
           "#FF6692",
           "#B6E880",
           "#FF97FF",
           "#FECB52"
          ],
          "font": {
           "color": "#2a3f5f"
          },
          "geo": {
           "bgcolor": "white",
           "lakecolor": "white",
           "landcolor": "#E5ECF6",
           "showlakes": true,
           "showland": true,
           "subunitcolor": "white"
          },
          "hoverlabel": {
           "align": "left"
          },
          "hovermode": "closest",
          "mapbox": {
           "style": "light"
          },
          "paper_bgcolor": "white",
          "plot_bgcolor": "#E5ECF6",
          "polar": {
           "angularaxis": {
            "gridcolor": "white",
            "linecolor": "white",
            "ticks": ""
           },
           "bgcolor": "#E5ECF6",
           "radialaxis": {
            "gridcolor": "white",
            "linecolor": "white",
            "ticks": ""
           }
          },
          "scene": {
           "xaxis": {
            "backgroundcolor": "#E5ECF6",
            "gridcolor": "white",
            "gridwidth": 2,
            "linecolor": "white",
            "showbackground": true,
            "ticks": "",
            "zerolinecolor": "white"
           },
           "yaxis": {
            "backgroundcolor": "#E5ECF6",
            "gridcolor": "white",
            "gridwidth": 2,
            "linecolor": "white",
            "showbackground": true,
            "ticks": "",
            "zerolinecolor": "white"
           },
           "zaxis": {
            "backgroundcolor": "#E5ECF6",
            "gridcolor": "white",
            "gridwidth": 2,
            "linecolor": "white",
            "showbackground": true,
            "ticks": "",
            "zerolinecolor": "white"
           }
          },
          "shapedefaults": {
           "line": {
            "color": "#2a3f5f"
           }
          },
          "ternary": {
           "aaxis": {
            "gridcolor": "white",
            "linecolor": "white",
            "ticks": ""
           },
           "baxis": {
            "gridcolor": "white",
            "linecolor": "white",
            "ticks": ""
           },
           "bgcolor": "#E5ECF6",
           "caxis": {
            "gridcolor": "white",
            "linecolor": "white",
            "ticks": ""
           }
          },
          "title": {
           "x": 0.05
          },
          "xaxis": {
           "automargin": true,
           "gridcolor": "white",
           "linecolor": "white",
           "ticks": "",
           "title": {
            "standoff": 15
           },
           "zerolinecolor": "white",
           "zerolinewidth": 2
          },
          "yaxis": {
           "automargin": true,
           "gridcolor": "white",
           "linecolor": "white",
           "ticks": "",
           "title": {
            "standoff": 15
           },
           "zerolinecolor": "white",
           "zerolinewidth": 2
          }
         }
        },
        "title": {
         "text": "2D Cluster PCA Plot"
        },
        "xaxis": {
         "anchor": "y",
         "domain": [
          0,
          1
         ],
         "title": {
          "text": "PCA1"
         }
        },
        "yaxis": {
         "anchor": "x",
         "domain": [
          0,
          1
         ],
         "title": {
          "text": "PCA2"
         }
        }
       }
      }
     },
     "metadata": {},
     "output_type": "display_data"
    }
   ],
   "source": [
    "plot_model(kmeans)"
   ]
  },
  {
   "cell_type": "code",
   "execution_count": 9,
   "metadata": {},
   "outputs": [
    {
     "data": {
      "application/vnd.plotly.v1+json": {
       "config": {
        "plotlyServerURL": "https://plot.ly"
       },
       "data": [
        {
         "alignmentgroup": "True",
         "bingroup": "x",
         "hovertemplate": "Cluster=%{x}<br>count=%{y}<extra></extra>",
         "legendgroup": "Cluster 0",
         "marker": {
          "color": "#636efa",
          "opacity": 0.7,
          "pattern": {
           "shape": ""
          }
         },
         "name": "Cluster 0",
         "offsetgroup": "Cluster 0",
         "orientation": "v",
         "showlegend": true,
         "type": "histogram",
         "x": [
          "Cluster 0",
          "Cluster 0",
          "Cluster 0",
          "Cluster 0",
          "Cluster 0",
          "Cluster 0",
          "Cluster 0",
          "Cluster 0",
          "Cluster 0",
          "Cluster 0",
          "Cluster 0",
          "Cluster 0",
          "Cluster 0",
          "Cluster 0",
          "Cluster 0",
          "Cluster 0",
          "Cluster 0",
          "Cluster 0",
          "Cluster 0",
          "Cluster 0",
          "Cluster 0",
          "Cluster 0",
          "Cluster 0",
          "Cluster 0",
          "Cluster 0",
          "Cluster 0",
          "Cluster 0",
          "Cluster 0",
          "Cluster 0",
          "Cluster 0",
          "Cluster 0",
          "Cluster 0",
          "Cluster 0",
          "Cluster 0",
          "Cluster 0",
          "Cluster 0",
          "Cluster 0",
          "Cluster 0",
          "Cluster 0",
          "Cluster 0",
          "Cluster 0",
          "Cluster 0",
          "Cluster 0",
          "Cluster 0",
          "Cluster 0",
          "Cluster 0",
          "Cluster 0",
          "Cluster 0",
          "Cluster 0",
          "Cluster 0",
          "Cluster 0",
          "Cluster 0",
          "Cluster 0",
          "Cluster 0",
          "Cluster 0",
          "Cluster 0",
          "Cluster 0",
          "Cluster 0",
          "Cluster 0",
          "Cluster 0",
          "Cluster 0",
          "Cluster 0",
          "Cluster 0",
          "Cluster 0",
          "Cluster 0",
          "Cluster 0",
          "Cluster 0",
          "Cluster 0",
          "Cluster 0",
          "Cluster 0",
          "Cluster 0",
          "Cluster 0",
          "Cluster 0",
          "Cluster 0",
          "Cluster 0",
          "Cluster 0",
          "Cluster 0",
          "Cluster 0",
          "Cluster 0",
          "Cluster 0",
          "Cluster 0",
          "Cluster 0",
          "Cluster 0",
          "Cluster 0",
          "Cluster 0",
          "Cluster 0",
          "Cluster 0",
          "Cluster 0",
          "Cluster 0",
          "Cluster 0",
          "Cluster 0",
          "Cluster 0",
          "Cluster 0",
          "Cluster 0",
          "Cluster 0",
          "Cluster 0",
          "Cluster 0",
          "Cluster 0",
          "Cluster 0",
          "Cluster 0",
          "Cluster 0",
          "Cluster 0",
          "Cluster 0",
          "Cluster 0",
          "Cluster 0",
          "Cluster 0",
          "Cluster 0",
          "Cluster 0",
          "Cluster 0",
          "Cluster 0",
          "Cluster 0",
          "Cluster 0",
          "Cluster 0",
          "Cluster 0",
          "Cluster 0",
          "Cluster 0"
         ],
         "xaxis": "x",
         "yaxis": "y"
        },
        {
         "alignmentgroup": "True",
         "customdata": [
          [
           "#0087",
           5,
           4,
           1,
           2,
           1,
           1,
           1,
           2,
           2
          ],
          [
           "#0142",
           4,
           5,
           1,
           3,
           3,
           3,
           2,
           2,
           1
          ],
          [
           "#0462",
           5,
           5,
           2,
           2,
           1,
           1,
           3,
           2,
           2
          ],
          [
           "#0379",
           4,
           4,
           1,
           3,
           3,
           1,
           1,
           2,
           3
          ],
          [
           "#0413",
           4,
           4,
           1,
           2,
           3,
           2,
           3,
           2,
           1
          ],
          [
           "#0194",
           4,
           5,
           1,
           1,
           3,
           2,
           1,
           1,
           1
          ],
          [
           "#0377",
           5,
           5,
           1,
           3,
           2,
           2,
           1,
           1,
           1
          ],
          [
           "#0146",
           5,
           5,
           3,
           2,
           2,
           2,
           2,
           3,
           3
          ],
          [
           "#0084",
           4,
           5,
           1,
           2,
           1,
           1,
           1,
           3,
           1
          ],
          [
           "#0261",
           5,
           4,
           2,
           1,
           2,
           1,
           2,
           1,
           1
          ],
          [
           "#0465",
           4,
           5,
           2,
           2,
           3,
           2,
           3,
           3,
           1
          ],
          [
           "#0263",
           5,
           5,
           3,
           2,
           2,
           3,
           1,
           3,
           1
          ],
          [
           "#0466",
           4,
           5,
           1,
           1,
           1,
           1,
           2,
           2,
           1
          ],
          [
           "#0141",
           5,
           5,
           2,
           2,
           2,
           1,
           3,
           2,
           3
          ],
          [
           "#0415",
           5,
           5,
           2,
           2,
           3,
           1,
           1,
           3,
           2
          ],
          [
           "#0376",
           4,
           5,
           1,
           2,
           3,
           1,
           3,
           2,
           3
          ],
          [
           "#0074",
           4,
           5,
           2,
           3,
           3,
           3,
           1,
           2,
           3
          ],
          [
           "#0073",
           5,
           5,
           1,
           3,
           2,
           3,
           1,
           2,
           3
          ],
          [
           "#0269",
           5,
           5,
           1,
           3,
           1,
           1,
           3,
           1,
           3
          ],
          [
           "#0150",
           4,
           5,
           3,
           1,
           1,
           2,
           2,
           2,
           1
          ],
          [
           "#0271",
           5,
           4,
           3,
           3,
           1,
           3,
           3,
           3,
           2
          ],
          [
           "#0151",
           4,
           4,
           3,
           2,
           1,
           1,
           3,
           1,
           1
          ],
          [
           "#0372",
           4,
           4,
           1,
           1,
           2,
           1,
           2,
           3,
           1
          ],
          [
           "#0275",
           5,
           5,
           2,
           1,
           3,
           3,
           1,
           1,
           3
          ],
          [
           "#0408",
           5,
           5,
           1,
           2,
           2,
           1,
           2,
           2,
           3
          ],
          [
           "#0152",
           4,
           5,
           1,
           1,
           3,
           3,
           3,
           1,
           3
          ],
          [
           "#0064",
           5,
           4,
           1,
           2,
           2,
           2,
           3,
           3,
           1
          ],
          [
           "#0265",
           5,
           4,
           1,
           2,
           2,
           1,
           2,
           3,
           1
          ],
          [
           "#0094",
           5,
           4,
           3,
           3,
           2,
           1,
           1,
           2,
           2
          ],
          [
           "#0461",
           4,
           5,
           2,
           2,
           2,
           2,
           3,
           1,
           3
          ],
          [
           "#0248",
           5,
           4,
           3,
           1,
           3,
           1,
           3,
           2,
           2
          ],
          [
           "#0441",
           5,
           5,
           1,
           1,
           1,
           1,
           1,
           2,
           2
          ],
          [
           "#0442",
           5,
           4,
           2,
           2,
           3,
           1,
           1,
           2,
           2
          ],
          [
           "#0443",
           4,
           4,
           2,
           3,
           3,
           3,
           1,
           1,
           2
          ],
          [
           "#0206",
           5,
           5,
           3,
           2,
           3,
           2,
           1,
           3,
           1
          ],
          [
           "#0124",
           4,
           5,
           3,
           3,
           3,
           3,
           1,
           2,
           1
          ],
          [
           "#0217",
           5,
           4,
           3,
           1,
           2,
           1,
           1,
           2,
           2
          ],
          [
           "#0450",
           4,
           5,
           3,
           3,
           3,
           2,
           1,
           3,
           3
          ],
          [
           "#0219",
           5,
           4,
           3,
           1,
           2,
           1,
           2,
           2,
           3
          ],
          [
           "#0118",
           5,
           4,
           2,
           2,
           3,
           1,
           3,
           3,
           3
          ],
          [
           "#0220",
           4,
           5,
           1,
           3,
           1,
           1,
           3,
           1,
           3
          ],
          [
           "#0402",
           5,
           5,
           3,
           1,
           2,
           3,
           2,
           2,
           2
          ],
          [
           "#0115",
           5,
           5,
           3,
           3,
           1,
           2,
           3,
           1,
           2
          ],
          [
           "#0401",
           5,
           4,
           2,
           2,
           3,
           1,
           3,
           1,
           2
          ],
          [
           "#0226",
           5,
           5,
           2,
           3,
           1,
           3,
           3,
           1,
           2
          ],
          [
           "#0136",
           4,
           4,
           2,
           3,
           3,
           2,
           3,
           1,
           1
          ],
          [
           "#0232",
           5,
           4,
           1,
           1,
           1,
           1,
           2,
           2,
           2
          ],
          [
           "#0110",
           4,
           4,
           1,
           1,
           3,
           1,
           3,
           3,
           2
          ],
          [
           "#0235",
           4,
           4,
           1,
           1,
           3,
           1,
           1,
           2,
           1
          ],
          [
           "#0454",
           5,
           5,
           1,
           1,
           1,
           1,
           1,
           3,
           2
          ],
          [
           "#0390",
           4,
           5,
           3,
           2,
           3,
           3,
           1,
           1,
           1
          ],
          [
           "#0238",
           4,
           5,
           2,
           1,
           2,
           2,
           3,
           3,
           2
          ],
          [
           "#0456",
           4,
           4,
           1,
           1,
           3,
           1,
           1,
           1,
           1
          ],
          [
           "#0138",
           5,
           5,
           3,
           3,
           2,
           3,
           2,
           1,
           3
          ],
          [
           "#0386",
           4,
           5,
           2,
           1,
           1,
           3,
           1,
           2,
           2
          ],
          [
           "#0459",
           5,
           4,
           2,
           1,
           1,
           1,
           3,
           3,
           3
          ],
          [
           "#0247",
           4,
           5,
           2,
           3,
           3,
           2,
           1,
           2,
           2
          ],
          [
           "#0097",
           5,
           5,
           2,
           1,
           2,
           3,
           1,
           3,
           2
          ],
          [
           "#0063",
           5,
           5,
           2,
           1,
           2,
           1,
           2,
           2,
           2
          ],
          [
           "#0153",
           5,
           5,
           2,
           2,
           3,
           3,
           1,
           1,
           1
          ],
          [
           "#0371",
           4,
           4,
           1,
           1,
           2,
           3,
           3,
           2,
           1
          ],
          [
           "#0190",
           4,
           4,
           3,
           2,
           2,
           3,
           3,
           3,
           3
          ],
          [
           "#0359",
           4,
           5,
           1,
           3,
           3,
           2,
           3,
           2,
           1
          ],
          [
           "#0061",
           5,
           5,
           2,
           3,
           3,
           3,
           1,
           3,
           2
          ],
          [
           "#0316",
           5,
           4,
           3,
           1,
           1,
           2,
           3,
           1,
           3
          ],
          [
           "#0358",
           5,
           5,
           3,
           3,
           1,
           3,
           2,
           2,
           1
          ],
          [
           "#0491",
           5,
           5,
           2,
           1,
           1,
           3,
           3,
           3,
           1
          ],
          [
           "#0166",
           5,
           5,
           2,
           2,
           2,
           1,
           1,
           2,
           2
          ],
          [
           "#0492",
           4,
           4,
           1,
           3,
           3,
           1,
           2,
           2,
           2
          ],
          [
           "#0320",
           5,
           5,
           2,
           3,
           1,
           1,
           1,
           2,
           3
          ],
          [
           "#0322",
           4,
           5,
           3,
           2,
           1,
           2,
           2,
           1,
           1
          ],
          [
           "#0425",
           5,
           5,
           1,
           1,
           2,
           3,
           1,
           3,
           1
          ],
          [
           "#0019",
           4,
           5,
           2,
           2,
           2,
           1,
           2,
           3,
           2
          ],
          [
           "#0328",
           4,
           5,
           1,
           2,
           3,
           2,
           1,
           2,
           3
          ],
          [
           "#0352",
           4,
           4,
           3,
           1,
           3,
           2,
           2,
           3,
           1
          ],
          [
           "#0498",
           4,
           4,
           2,
           2,
           1,
           3,
           1,
           2,
           3
          ],
          [
           "#0332",
           5,
           4,
           2,
           1,
           2,
           1,
           1,
           1,
           3
          ],
          [
           "#0013",
           5,
           5,
           3,
           2,
           2,
           3,
           3,
           3,
           2
          ],
          [
           "#0012",
           4,
           5,
           3,
           1,
           1,
           2,
           3,
           1,
           1
          ],
          [
           "#0333",
           4,
           4,
           3,
           3,
           1,
           2,
           1,
           2,
           3
          ],
          [
           "#0500",
           5,
           4,
           2,
           1,
           1,
           2,
           3,
           3,
           1
          ],
          [
           "#0337",
           4,
           5,
           2,
           1,
           1,
           2,
           3,
           2,
           2
          ],
          [
           "#0170",
           5,
           5,
           3,
           2,
           1,
           3,
           3,
           1,
           3
          ],
          [
           "#0007",
           5,
           4,
           3,
           1,
           1,
           2,
           2,
           3,
           2
          ],
          [
           "#0340",
           5,
           4,
           2,
           3,
           1,
           1,
           1,
           1,
           2
          ],
          [
           "#0005",
           5,
           5,
           2,
           2,
           3,
           3,
           3,
           2,
           3
          ],
          [
           "#0342",
           4,
           5,
           1,
           3,
           3,
           2,
           1,
           1,
           3
          ],
          [
           "#0171",
           5,
           5,
           2,
           2,
           1,
           1,
           1,
           3,
           3
          ],
          [
           "#0503",
           4,
           4,
           2,
           3,
           3,
           3,
           1,
           2,
           2
          ],
          [
           "#0165",
           4,
           5,
           2,
           2,
           1,
           3,
           3,
           1,
           2
          ],
          [
           "#0181",
           4,
           4,
           2,
           2,
           1,
           3,
           3,
           1,
           1
          ],
          [
           "#0315",
           5,
           4,
           2,
           3,
           3,
           1,
           3,
           2,
           2
          ],
          [
           "#0310",
           4,
           5,
           3,
           3,
           2,
           1,
           3,
           2,
           1
          ],
          [
           "#0285",
           4,
           5,
           1,
           2,
           3,
           3,
           2,
           2,
           3
          ],
          [
           "#0430",
           4,
           5,
           2,
           3,
           1,
           1,
           2,
           3,
           1
          ],
          [
           "#0156",
           4,
           5,
           3,
           2,
           2,
           3,
           3,
           1,
           3
          ],
          [
           "#0056",
           5,
           4,
           3,
           1,
           1,
           2,
           3,
           3,
           3
          ],
          [
           "#0290",
           4,
           4,
           1,
           1,
           2,
           3,
           2,
           1,
           1
          ],
          [
           "#0052",
           5,
           4,
           3,
           2,
           2,
           3,
           2,
           2,
           1
          ],
          [
           "#0294",
           5,
           5,
           2,
           3,
           3,
           1,
           3,
           2,
           3
          ],
          [
           "#0049",
           5,
           4,
           3,
           2,
           2,
           3,
           1,
           2,
           2
          ],
          [
           "#0295",
           4,
           4,
           3,
           3,
           3,
           3,
           2,
           3,
           2
          ],
          [
           "#0366",
           4,
           5,
           3,
           2,
           3,
           1,
           2,
           3,
           3
          ],
          [
           "#0033",
           5,
           4,
           1,
           2,
           3,
           1,
           3,
           2,
           2
          ],
          [
           "#0045",
           4,
           4,
           3,
           2,
           1,
           1,
           3,
           3,
           1
          ],
          [
           "#0044",
           4,
           4,
           2,
           2,
           3,
           2,
           3,
           3,
           2
          ],
          [
           "#0207",
           5,
           4,
           2,
           3,
           1,
           3,
           1,
           1,
           1
          ],
          [
           "#0162",
           4,
           4,
           1,
           2,
           1,
           3,
           1,
           1,
           2
          ],
          [
           "#0307",
           5,
           5,
           2,
           2,
           1,
           1,
           3,
           2,
           3
          ],
          [
           "#0036",
           5,
           5,
           1,
           3,
           1,
           2,
           3,
           3,
           3
          ],
          [
           "#0365",
           4,
           5,
           2,
           2,
           2,
           2,
           3,
           2,
           1
          ],
          [
           "#0305",
           5,
           4,
           3,
           2,
           2,
           3,
           3,
           3,
           2
          ],
          [
           "#0161",
           4,
           5,
           3,
           2,
           2,
           2,
           1,
           1,
           1
          ],
          [
           "#0040",
           4,
           4,
           1,
           2,
           1,
           1,
           2,
           1,
           2
          ],
          [
           "#0419",
           4,
           4,
           2,
           2,
           3,
           1,
           2,
           1,
           3
          ],
          [
           "#0303",
           4,
           5,
           2,
           3,
           2,
           2,
           2,
           2,
           1
          ]
         ],
         "hovertemplate": "Cluster=%{x}<br>ID=%{customdata[0]}<br>지명도=%{customdata[1]}<br>볼거리=%{customdata[2]}<br>가격=%{customdata[3]}<br>거리=%{customdata[4]}<br>숙소=%{customdata[5]}<br>쇼핑=%{customdata[6]}<br>음식=%{customdata[7]}<br>교통=%{customdata[8]}<br>휴식=%{customdata[9]}<extra></extra>",
         "legendgroup": "Cluster 0",
         "marker": {
          "color": "#636efa"
         },
         "name": "Cluster 0",
         "notched": true,
         "offsetgroup": "Cluster 0",
         "showlegend": false,
         "type": "box",
         "x": [
          "Cluster 0",
          "Cluster 0",
          "Cluster 0",
          "Cluster 0",
          "Cluster 0",
          "Cluster 0",
          "Cluster 0",
          "Cluster 0",
          "Cluster 0",
          "Cluster 0",
          "Cluster 0",
          "Cluster 0",
          "Cluster 0",
          "Cluster 0",
          "Cluster 0",
          "Cluster 0",
          "Cluster 0",
          "Cluster 0",
          "Cluster 0",
          "Cluster 0",
          "Cluster 0",
          "Cluster 0",
          "Cluster 0",
          "Cluster 0",
          "Cluster 0",
          "Cluster 0",
          "Cluster 0",
          "Cluster 0",
          "Cluster 0",
          "Cluster 0",
          "Cluster 0",
          "Cluster 0",
          "Cluster 0",
          "Cluster 0",
          "Cluster 0",
          "Cluster 0",
          "Cluster 0",
          "Cluster 0",
          "Cluster 0",
          "Cluster 0",
          "Cluster 0",
          "Cluster 0",
          "Cluster 0",
          "Cluster 0",
          "Cluster 0",
          "Cluster 0",
          "Cluster 0",
          "Cluster 0",
          "Cluster 0",
          "Cluster 0",
          "Cluster 0",
          "Cluster 0",
          "Cluster 0",
          "Cluster 0",
          "Cluster 0",
          "Cluster 0",
          "Cluster 0",
          "Cluster 0",
          "Cluster 0",
          "Cluster 0",
          "Cluster 0",
          "Cluster 0",
          "Cluster 0",
          "Cluster 0",
          "Cluster 0",
          "Cluster 0",
          "Cluster 0",
          "Cluster 0",
          "Cluster 0",
          "Cluster 0",
          "Cluster 0",
          "Cluster 0",
          "Cluster 0",
          "Cluster 0",
          "Cluster 0",
          "Cluster 0",
          "Cluster 0",
          "Cluster 0",
          "Cluster 0",
          "Cluster 0",
          "Cluster 0",
          "Cluster 0",
          "Cluster 0",
          "Cluster 0",
          "Cluster 0",
          "Cluster 0",
          "Cluster 0",
          "Cluster 0",
          "Cluster 0",
          "Cluster 0",
          "Cluster 0",
          "Cluster 0",
          "Cluster 0",
          "Cluster 0",
          "Cluster 0",
          "Cluster 0",
          "Cluster 0",
          "Cluster 0",
          "Cluster 0",
          "Cluster 0",
          "Cluster 0",
          "Cluster 0",
          "Cluster 0",
          "Cluster 0",
          "Cluster 0",
          "Cluster 0",
          "Cluster 0",
          "Cluster 0",
          "Cluster 0",
          "Cluster 0",
          "Cluster 0",
          "Cluster 0",
          "Cluster 0",
          "Cluster 0",
          "Cluster 0",
          "Cluster 0"
         ],
         "xaxis": "x2",
         "yaxis": "y2"
        },
        {
         "alignmentgroup": "True",
         "bingroup": "x",
         "hovertemplate": "Cluster=%{x}<br>count=%{y}<extra></extra>",
         "legendgroup": "Cluster 1",
         "marker": {
          "color": "#EF553B",
          "opacity": 0.7,
          "pattern": {
           "shape": ""
          }
         },
         "name": "Cluster 1",
         "offsetgroup": "Cluster 1",
         "orientation": "v",
         "showlegend": true,
         "type": "histogram",
         "x": [
          "Cluster 1",
          "Cluster 1",
          "Cluster 1",
          "Cluster 1",
          "Cluster 1",
          "Cluster 1",
          "Cluster 1",
          "Cluster 1",
          "Cluster 1",
          "Cluster 1",
          "Cluster 1",
          "Cluster 1",
          "Cluster 1",
          "Cluster 1",
          "Cluster 1",
          "Cluster 1",
          "Cluster 1",
          "Cluster 1",
          "Cluster 1",
          "Cluster 1",
          "Cluster 1",
          "Cluster 1",
          "Cluster 1",
          "Cluster 1",
          "Cluster 1",
          "Cluster 1",
          "Cluster 1",
          "Cluster 1",
          "Cluster 1",
          "Cluster 1",
          "Cluster 1",
          "Cluster 1",
          "Cluster 1",
          "Cluster 1",
          "Cluster 1",
          "Cluster 1",
          "Cluster 1",
          "Cluster 1",
          "Cluster 1",
          "Cluster 1",
          "Cluster 1",
          "Cluster 1",
          "Cluster 1",
          "Cluster 1",
          "Cluster 1",
          "Cluster 1",
          "Cluster 1",
          "Cluster 1",
          "Cluster 1",
          "Cluster 1",
          "Cluster 1",
          "Cluster 1",
          "Cluster 1",
          "Cluster 1",
          "Cluster 1",
          "Cluster 1",
          "Cluster 1",
          "Cluster 1",
          "Cluster 1",
          "Cluster 1",
          "Cluster 1",
          "Cluster 1",
          "Cluster 1",
          "Cluster 1",
          "Cluster 1",
          "Cluster 1",
          "Cluster 1",
          "Cluster 1",
          "Cluster 1",
          "Cluster 1",
          "Cluster 1",
          "Cluster 1",
          "Cluster 1",
          "Cluster 1",
          "Cluster 1",
          "Cluster 1",
          "Cluster 1",
          "Cluster 1",
          "Cluster 1",
          "Cluster 1",
          "Cluster 1",
          "Cluster 1",
          "Cluster 1",
          "Cluster 1",
          "Cluster 1",
          "Cluster 1",
          "Cluster 1",
          "Cluster 1",
          "Cluster 1",
          "Cluster 1",
          "Cluster 1",
          "Cluster 1",
          "Cluster 1",
          "Cluster 1",
          "Cluster 1",
          "Cluster 1",
          "Cluster 1",
          "Cluster 1",
          "Cluster 1",
          "Cluster 1",
          "Cluster 1"
         ],
         "xaxis": "x",
         "yaxis": "y"
        },
        {
         "alignmentgroup": "True",
         "customdata": [
          [
           "#0200",
           1,
           2,
           4,
           3,
           3,
           3,
           2,
           4,
           2
          ],
          [
           "#0199",
           3,
           2,
           5,
           3,
           3,
           1,
           1,
           4,
           2
          ],
          [
           "#0185",
           3,
           1,
           5,
           1,
           2,
           1,
           2,
           5,
           2
          ],
          [
           "#0191",
           1,
           1,
           5,
           1,
           2,
           1,
           1,
           5,
           3
          ],
          [
           "#0410",
           2,
           3,
           4,
           1,
           1,
           2,
           1,
           4,
           1
          ],
          [
           "#0187",
           1,
           3,
           4,
           1,
           2,
           2,
           1,
           5,
           3
          ],
          [
           "#0409",
           1,
           3,
           5,
           2,
           1,
           3,
           2,
           5,
           3
          ],
          [
           "#0188",
           3,
           2,
           4,
           1,
           1,
           2,
           2,
           5,
           1
          ],
          [
           "#0205",
           2,
           3,
           5,
           2,
           1,
           3,
           3,
           4,
           1
          ],
          [
           "#0414",
           2,
           1,
           4,
           1,
           2,
           2,
           2,
           4,
           1
          ],
          [
           "#0177",
           2,
           3,
           5,
           1,
           1,
           1,
           3,
           4,
           1
          ],
          [
           "#0201",
           1,
           3,
           4,
           3,
           2,
           2,
           1,
           4,
           2
          ],
          [
           "#0412",
           2,
           3,
           5,
           2,
           3,
           2,
           2,
           4,
           1
          ],
          [
           "#0421",
           2,
           3,
           4,
           1,
           2,
           3,
           3,
           4,
           3
          ],
          [
           "#0184",
           2,
           2,
           5,
           1,
           1,
           3,
           3,
           5,
           1
          ],
          [
           "#0424",
           2,
           2,
           4,
           1,
           3,
           3,
           3,
           4,
           3
          ],
          [
           "#0212",
           1,
           3,
           5,
           2,
           3,
           2,
           2,
           4,
           2
          ],
          [
           "#0286",
           2,
           2,
           5,
           1,
           2,
           3,
           3,
           4,
           2
          ],
          [
           "#0368",
           1,
           2,
           4,
           2,
           3,
           1,
           1,
           4,
           3
          ],
          [
           "#0288",
           2,
           3,
           4,
           1,
           3,
           3,
           2,
           5,
           1
          ],
          [
           "#0292",
           3,
           3,
           4,
           2,
           3,
           1,
           1,
           4,
           2
          ],
          [
           "#0293",
           1,
           1,
           4,
           2,
           1,
           2,
           1,
           4,
           1
          ],
          [
           "#0298",
           2,
           1,
           5,
           2,
           2,
           1,
           3,
           4,
           3
          ],
          [
           "#0299",
           1,
           1,
           5,
           3,
           2,
           2,
           1,
           5,
           3
          ],
          [
           "#0300",
           2,
           3,
           4,
           3,
           1,
           2,
           2,
           5,
           3
          ],
          [
           "#0304",
           1,
           1,
           5,
           3,
           1,
           3,
           1,
           4,
           2
          ],
          [
           "#0361",
           3,
           1,
           5,
           2,
           1,
           2,
           1,
           4,
           2
          ],
          [
           "#0312",
           3,
           1,
           5,
           3,
           1,
           1,
           2,
           4,
           2
          ],
          [
           "#0357",
           2,
           2,
           4,
           1,
           3,
           3,
           3,
           5,
           1
          ],
          [
           "#0356",
           2,
           1,
           5,
           3,
           1,
           3,
           2,
           4,
           2
          ],
          [
           "#0325",
           3,
           1,
           5,
           1,
           2,
           1,
           1,
           4,
           2
          ],
          [
           "#0327",
           1,
           1,
           4,
           3,
           2,
           3,
           2,
           5,
           3
          ],
          [
           "#0351",
           3,
           1,
           5,
           2,
           2,
           3,
           3,
           5,
           1
          ],
          [
           "#0347",
           3,
           1,
           5,
           1,
           2,
           3,
           3,
           5,
           2
          ],
          [
           "#0284",
           2,
           3,
           4,
           3,
           2,
           3,
           1,
           4,
           3
          ],
          [
           "#0407",
           3,
           1,
           5,
           3,
           1,
           2,
           3,
           5,
           1
          ],
          [
           "#0370",
           2,
           3,
           5,
           3,
           1,
           3,
           3,
           4,
           3
          ],
          [
           "#0373",
           3,
           2,
           4,
           2,
           2,
           2,
           3,
           5,
           2
          ],
          [
           "#0404",
           1,
           1,
           4,
           1,
           2,
           2,
           2,
           4,
           1
          ],
          [
           "#0218",
           3,
           3,
           4,
           2,
           3,
           1,
           3,
           4,
           3
          ],
          [
           "#0231",
           3,
           2,
           5,
           1,
           1,
           1,
           2,
           5,
           3
          ],
          [
           "#0234",
           3,
           2,
           5,
           1,
           3,
           2,
           3,
           5,
           2
          ],
          [
           "#0389",
           1,
           2,
           4,
           1,
           3,
           3,
           1,
           4,
           1
          ],
          [
           "#0385",
           2,
           3,
           5,
           2,
           2,
           3,
           2,
           4,
           1
          ],
          [
           "#0246",
           2,
           1,
           5,
           1,
           3,
           1,
           2,
           4,
           1
          ],
          [
           "#0251",
           2,
           2,
           5,
           2,
           2,
           2,
           2,
           4,
           2
          ],
          [
           "#0252",
           2,
           3,
           4,
           3,
           3,
           1,
           1,
           4,
           2
          ],
          [
           "#0255",
           1,
           2,
           5,
           3,
           2,
           2,
           2,
           5,
           3
          ],
          [
           "#0378",
           2,
           2,
           4,
           1,
           3,
           1,
           3,
           5,
           1
          ],
          [
           "#0176",
           3,
           3,
           5,
           1,
           3,
           1,
           2,
           4,
           2
          ],
          [
           "#0260",
           3,
           1,
           5,
           2,
           3,
           2,
           3,
           5,
           2
          ],
          [
           "#0262",
           2,
           3,
           4,
           2,
           2,
           2,
           1,
           5,
           2
          ],
          [
           "#0264",
           2,
           3,
           4,
           2,
           1,
           1,
           1,
           5,
           3
          ],
          [
           "#0266",
           1,
           3,
           4,
           1,
           1,
           3,
           2,
           4,
           2
          ],
          [
           "#0374",
           2,
           3,
           4,
           2,
           3,
           1,
           1,
           4,
           3
          ],
          [
           "#0277",
           2,
           1,
           4,
           1,
           2,
           2,
           2,
           5,
           3
          ],
          [
           "#0175",
           1,
           2,
           5,
           3,
           1,
           2,
           1,
           5,
           2
          ],
          [
           "#0346",
           2,
           3,
           4,
           3,
           3,
           2,
           2,
           4,
           2
          ],
          [
           "#0345",
           3,
           3,
           4,
           1,
           3,
           2,
           3,
           5,
           2
          ],
          [
           "#0137",
           1,
           3,
           5,
           2,
           1,
           2,
           1,
           4,
           1
          ],
          [
           "#0011",
           1,
           2,
           5,
           3,
           3,
           2,
           2,
           4,
           3
          ],
          [
           "#0042",
           2,
           3,
           4,
           3,
           2,
           1,
           3,
           5,
           1
          ],
          [
           "#0133",
           3,
           3,
           4,
           3,
           1,
           2,
           3,
           4,
           3
          ],
          [
           "#0469",
           2,
           1,
           4,
           1,
           1,
           2,
           1,
           4,
           1
          ],
          [
           "#0101",
           1,
           3,
           5,
           1,
           1,
           3,
           1,
           4,
           2
          ],
          [
           "#0048",
           1,
           3,
           5,
           1,
           3,
           1,
           3,
           5,
           1
          ],
          [
           "#0126",
           3,
           2,
           4,
           3,
           1,
           3,
           3,
           5,
           2
          ],
          [
           "#0483",
           1,
           2,
           5,
           3,
           2,
           2,
           3,
           5,
           3
          ],
          [
           "#0041",
           1,
           1,
           5,
           3,
           2,
           2,
           2,
           5,
           2
          ],
          [
           "#0502",
           1,
           3,
           4,
           3,
           1,
           1,
           2,
           5,
           1
          ],
          [
           "#0008",
           2,
           3,
           5,
           3,
           1,
           1,
           2,
           5,
           2
          ],
          [
           "#0082",
           2,
           1,
           4,
           2,
           3,
           2,
           3,
           5,
           3
          ],
          [
           "#0501",
           1,
           2,
           5,
           2,
           1,
           1,
           2,
           4,
           1
          ],
          [
           "#0478",
           1,
           3,
           4,
           3,
           1,
           1,
           3,
           4,
           3
          ],
          [
           "#0472",
           3,
           3,
           5,
           1,
           1,
           1,
           2,
           5,
           1
          ],
          [
           "#0106",
           3,
           2,
           5,
           1,
           1,
           3,
           1,
           5,
           2
          ],
          [
           "#0109",
           3,
           2,
           5,
           2,
           2,
           3,
           3,
           5,
           1
          ],
          [
           "#0111",
           2,
           3,
           4,
           3,
           1,
           2,
           1,
           5,
           1
          ],
          [
           "#0112",
           1,
           3,
           4,
           3,
           3,
           3,
           2,
           5,
           2
          ],
          [
           "#0067",
           3,
           3,
           4,
           3,
           1,
           3,
           3,
           5,
           1
          ],
          [
           "#0140",
           1,
           2,
           4,
           1,
           3,
           3,
           2,
           5,
           3
          ],
          [
           "#0071",
           3,
           1,
           5,
           2,
           1,
           2,
           3,
           4,
           2
          ],
          [
           "#0025",
           2,
           1,
           5,
           2,
           1,
           3,
           3,
           4,
           1
          ],
          [
           "#0172",
           1,
           3,
           5,
           1,
           3,
           1,
           1,
           4,
           3
          ],
          [
           "#0080",
           3,
           2,
           5,
           3,
           1,
           3,
           1,
           4,
           3
          ],
          [
           "#0494",
           2,
           2,
           4,
           2,
           1,
           1,
           1,
           5,
           3
          ],
          [
           "#0090",
           3,
           2,
           5,
           2,
           2,
           1,
           2,
           5,
           2
          ],
          [
           "#0427",
           2,
           2,
           5,
           2,
           2,
           3,
           1,
           4,
           3
          ],
          [
           "#0076",
           3,
           1,
           5,
           3,
           2,
           3,
           1,
           5,
           1
          ],
          [
           "#0032",
           3,
           1,
           4,
           2,
           1,
           2,
           3,
           5,
           2
          ],
          [
           "#0004",
           3,
           1,
           4,
           2,
           2,
           3,
           3,
           5,
           3
          ],
          [
           "#0092",
           3,
           2,
           5,
           3,
           2,
           1,
           3,
           4,
           2
          ],
          [
           "#0428",
           1,
           1,
           5,
           2,
           2,
           3,
           1,
           5,
           3
          ],
          [
           "#0003",
           3,
           1,
           4,
           3,
           2,
           3,
           3,
           5,
           1
          ],
          [
           "#0014",
           1,
           1,
           4,
           2,
           3,
           3,
           2,
           4,
           1
          ],
          [
           "#0431",
           1,
           3,
           4,
           1,
           3,
           3,
           2,
           5,
           2
          ],
          [
           "#0096",
           1,
           1,
           5,
           3,
           3,
           3,
           2,
           4,
           1
          ],
          [
           "#0435",
           3,
           1,
           5,
           1,
           2,
           2,
           1,
           5,
           1
          ],
          [
           "#0147",
           1,
           1,
           4,
           3,
           1,
           1,
           2,
           4,
           2
          ],
          [
           "#0145",
           1,
           2,
           5,
           1,
           3,
           2,
           3,
           4,
           1
          ],
          [
           "#0093",
           1,
           2,
           4,
           3,
           3,
           3,
           1,
           5,
           3
          ]
         ],
         "hovertemplate": "Cluster=%{x}<br>ID=%{customdata[0]}<br>지명도=%{customdata[1]}<br>볼거리=%{customdata[2]}<br>가격=%{customdata[3]}<br>거리=%{customdata[4]}<br>숙소=%{customdata[5]}<br>쇼핑=%{customdata[6]}<br>음식=%{customdata[7]}<br>교통=%{customdata[8]}<br>휴식=%{customdata[9]}<extra></extra>",
         "legendgroup": "Cluster 1",
         "marker": {
          "color": "#EF553B"
         },
         "name": "Cluster 1",
         "notched": true,
         "offsetgroup": "Cluster 1",
         "showlegend": false,
         "type": "box",
         "x": [
          "Cluster 1",
          "Cluster 1",
          "Cluster 1",
          "Cluster 1",
          "Cluster 1",
          "Cluster 1",
          "Cluster 1",
          "Cluster 1",
          "Cluster 1",
          "Cluster 1",
          "Cluster 1",
          "Cluster 1",
          "Cluster 1",
          "Cluster 1",
          "Cluster 1",
          "Cluster 1",
          "Cluster 1",
          "Cluster 1",
          "Cluster 1",
          "Cluster 1",
          "Cluster 1",
          "Cluster 1",
          "Cluster 1",
          "Cluster 1",
          "Cluster 1",
          "Cluster 1",
          "Cluster 1",
          "Cluster 1",
          "Cluster 1",
          "Cluster 1",
          "Cluster 1",
          "Cluster 1",
          "Cluster 1",
          "Cluster 1",
          "Cluster 1",
          "Cluster 1",
          "Cluster 1",
          "Cluster 1",
          "Cluster 1",
          "Cluster 1",
          "Cluster 1",
          "Cluster 1",
          "Cluster 1",
          "Cluster 1",
          "Cluster 1",
          "Cluster 1",
          "Cluster 1",
          "Cluster 1",
          "Cluster 1",
          "Cluster 1",
          "Cluster 1",
          "Cluster 1",
          "Cluster 1",
          "Cluster 1",
          "Cluster 1",
          "Cluster 1",
          "Cluster 1",
          "Cluster 1",
          "Cluster 1",
          "Cluster 1",
          "Cluster 1",
          "Cluster 1",
          "Cluster 1",
          "Cluster 1",
          "Cluster 1",
          "Cluster 1",
          "Cluster 1",
          "Cluster 1",
          "Cluster 1",
          "Cluster 1",
          "Cluster 1",
          "Cluster 1",
          "Cluster 1",
          "Cluster 1",
          "Cluster 1",
          "Cluster 1",
          "Cluster 1",
          "Cluster 1",
          "Cluster 1",
          "Cluster 1",
          "Cluster 1",
          "Cluster 1",
          "Cluster 1",
          "Cluster 1",
          "Cluster 1",
          "Cluster 1",
          "Cluster 1",
          "Cluster 1",
          "Cluster 1",
          "Cluster 1",
          "Cluster 1",
          "Cluster 1",
          "Cluster 1",
          "Cluster 1",
          "Cluster 1",
          "Cluster 1",
          "Cluster 1",
          "Cluster 1",
          "Cluster 1",
          "Cluster 1",
          "Cluster 1"
         ],
         "xaxis": "x2",
         "yaxis": "y2"
        },
        {
         "alignmentgroup": "True",
         "bingroup": "x",
         "hovertemplate": "Cluster=%{x}<br>count=%{y}<extra></extra>",
         "legendgroup": "Cluster 2",
         "marker": {
          "color": "#00cc96",
          "opacity": 0.7,
          "pattern": {
           "shape": ""
          }
         },
         "name": "Cluster 2",
         "offsetgroup": "Cluster 2",
         "orientation": "v",
         "showlegend": true,
         "type": "histogram",
         "x": [
          "Cluster 2",
          "Cluster 2",
          "Cluster 2",
          "Cluster 2",
          "Cluster 2",
          "Cluster 2",
          "Cluster 2",
          "Cluster 2",
          "Cluster 2",
          "Cluster 2",
          "Cluster 2",
          "Cluster 2",
          "Cluster 2",
          "Cluster 2",
          "Cluster 2",
          "Cluster 2",
          "Cluster 2",
          "Cluster 2",
          "Cluster 2",
          "Cluster 2",
          "Cluster 2",
          "Cluster 2",
          "Cluster 2",
          "Cluster 2",
          "Cluster 2",
          "Cluster 2",
          "Cluster 2",
          "Cluster 2",
          "Cluster 2",
          "Cluster 2",
          "Cluster 2",
          "Cluster 2",
          "Cluster 2",
          "Cluster 2",
          "Cluster 2",
          "Cluster 2",
          "Cluster 2",
          "Cluster 2",
          "Cluster 2",
          "Cluster 2",
          "Cluster 2",
          "Cluster 2",
          "Cluster 2",
          "Cluster 2",
          "Cluster 2",
          "Cluster 2",
          "Cluster 2",
          "Cluster 2",
          "Cluster 2",
          "Cluster 2",
          "Cluster 2",
          "Cluster 2",
          "Cluster 2",
          "Cluster 2",
          "Cluster 2",
          "Cluster 2",
          "Cluster 2",
          "Cluster 2",
          "Cluster 2",
          "Cluster 2",
          "Cluster 2",
          "Cluster 2",
          "Cluster 2",
          "Cluster 2",
          "Cluster 2",
          "Cluster 2",
          "Cluster 2",
          "Cluster 2",
          "Cluster 2",
          "Cluster 2",
          "Cluster 2",
          "Cluster 2",
          "Cluster 2",
          "Cluster 2",
          "Cluster 2",
          "Cluster 2",
          "Cluster 2",
          "Cluster 2",
          "Cluster 2",
          "Cluster 2",
          "Cluster 2",
          "Cluster 2",
          "Cluster 2",
          "Cluster 2",
          "Cluster 2",
          "Cluster 2",
          "Cluster 2",
          "Cluster 2",
          "Cluster 2",
          "Cluster 2",
          "Cluster 2",
          "Cluster 2",
          "Cluster 2",
          "Cluster 2",
          "Cluster 2",
          "Cluster 2",
          "Cluster 2",
          "Cluster 2",
          "Cluster 2"
         ],
         "xaxis": "x",
         "yaxis": "y"
        },
        {
         "alignmentgroup": "True",
         "customdata": [
          [
           "#0274",
           3,
           3,
           3,
           2,
           2,
           5,
           4,
           2,
           3
          ],
          [
           "#0072",
           1,
           3,
           2,
           3,
           3,
           4,
           4,
           1,
           2
          ],
          [
           "#0280",
           2,
           1,
           1,
           1,
           1,
           5,
           4,
           2,
           1
          ],
          [
           "#0279",
           2,
           2,
           3,
           1,
           2,
           4,
           5,
           3,
           1
          ],
          [
           "#0467",
           3,
           3,
           2,
           2,
           3,
           4,
           5,
           2,
           3
          ],
          [
           "#0078",
           3,
           1,
           1,
           1,
           3,
           4,
           4,
           3,
           1
          ],
          [
           "#0070",
           1,
           3,
           2,
           3,
           2,
           5,
           5,
           3,
           3
          ],
          [
           "#0375",
           3,
           1,
           2,
           1,
           1,
           4,
           4,
           3,
           1
          ],
          [
           "#0471",
           1,
           3,
           2,
           2,
           1,
           5,
           4,
           3,
           2
          ],
          [
           "#0068",
           1,
           3,
           1,
           3,
           3,
           5,
           5,
           2,
           3
          ],
          [
           "#0278",
           1,
           1,
           3,
           2,
           3,
           4,
           4,
           1,
           1
          ],
          [
           "#0326",
           1,
           1,
           2,
           1,
           2,
           5,
           4,
           1,
           3
          ],
          [
           "#0291",
           1,
           1,
           3,
           3,
           1,
           4,
           5,
           2,
           2
          ],
          [
           "#0282",
           2,
           3,
           2,
           3,
           2,
           5,
           5,
           2,
           2
          ],
          [
           "#0027",
           3,
           3,
           1,
           2,
           1,
           4,
           4,
           1,
           2
          ],
          [
           "#0321",
           1,
           3,
           2,
           3,
           2,
           4,
           5,
           2,
           3
          ],
          [
           "#0030",
           1,
           3,
           1,
           1,
           1,
           4,
           4,
           3,
           1
          ],
          [
           "#0360",
           3,
           1,
           1,
           3,
           3,
           4,
           4,
           2,
           3
          ],
          [
           "#0488",
           3,
           1,
           2,
           1,
           3,
           5,
           4,
           1,
           2
          ],
          [
           "#0034",
           1,
           3,
           1,
           2,
           3,
           4,
           5,
           1,
           3
          ],
          [
           "#0362",
           2,
           2,
           3,
           2,
           3,
           4,
           4,
           1,
           2
          ],
          [
           "#0363",
           1,
           3,
           3,
           2,
           3,
           5,
           5,
           2,
           2
          ],
          [
           "#0487",
           3,
           1,
           3,
           3,
           2,
           4,
           5,
           3,
           2
          ],
          [
           "#0485",
           2,
           2,
           1,
           1,
           3,
           4,
           5,
           1,
           3
          ],
          [
           "#0038",
           2,
           2,
           2,
           1,
           1,
           5,
           5,
           1,
           3
          ],
          [
           "#0039",
           3,
           2,
           1,
           1,
           3,
           4,
           5,
           2,
           1
          ],
          [
           "#0302",
           3,
           1,
           3,
           1,
           1,
           4,
           4,
           2,
           3
          ],
          [
           "#0301",
           3,
           2,
           2,
           1,
           3,
           4,
           4,
           3,
           1
          ],
          [
           "#0021",
           2,
           1,
           3,
           1,
           3,
           5,
           5,
           2,
           3
          ],
          [
           "#0046",
           1,
           3,
           2,
           1,
           1,
           5,
           4,
           2,
           1
          ],
          [
           "#0297",
           3,
           3,
           1,
           3,
           3,
           4,
           4,
           1,
           1
          ],
          [
           "#0047",
           1,
           3,
           3,
           2,
           3,
           4,
           5,
           3,
           2
          ],
          [
           "#0482",
           1,
           2,
           3,
           3,
           2,
           5,
           4,
           2,
           3
          ],
          [
           "#0481",
           1,
           2,
           2,
           3,
           2,
           4,
           5,
           2,
           1
          ],
          [
           "#0367",
           1,
           1,
           1,
           3,
           3,
           4,
           5,
           1,
           3
          ],
          [
           "#0323",
           3,
           2,
           3,
           3,
           1,
           5,
           4,
           1,
           1
          ],
          [
           "#0355",
           1,
           2,
           1,
           2,
           2,
           5,
           4,
           2,
           2
          ],
          [
           "#0058",
           3,
           3,
           2,
           2,
           1,
           4,
           5,
           3,
           3
          ],
          [
           "#0059",
           3,
           3,
           1,
           3,
           2,
           5,
           4,
           2,
           2
          ],
          [
           "#0060",
           1,
           2,
           1,
           1,
           2,
           4,
           5,
           1,
           3
          ],
          [
           "#0283",
           1,
           3,
           2,
           1,
           3,
           5,
           5,
           2,
           2
          ],
          [
           "#0496",
           2,
           1,
           2,
           1,
           1,
           4,
           5,
           2,
           1
          ],
          [
           "#0464",
           2,
           1,
           2,
           2,
           2,
           4,
           5,
           3,
           3
          ],
          [
           "#0460",
           3,
           2,
           2,
           1,
           1,
           4,
           5,
           1,
           3
          ],
          [
           "#0259",
           3,
           1,
           1,
           3,
           2,
           5,
           4,
           1,
           1
          ],
          [
           "#0214",
           1,
           2,
           1,
           3,
           3,
           5,
           5,
           2,
           3
          ],
          [
           "#0349",
           3,
           1,
           3,
           3,
           3,
           4,
           5,
           3,
           1
          ],
          [
           "#0210",
           2,
           3,
           3,
           3,
           2,
           4,
           5,
           3,
           2
          ],
          [
           "#0209",
           1,
           2,
           2,
           1,
           3,
           4,
           4,
           1,
           2
          ],
          [
           "#0440",
           1,
           2,
           3,
           1,
           1,
           5,
           4,
           3,
           3
          ],
          [
           "#0131",
           3,
           2,
           3,
           2,
           1,
           4,
           5,
           2,
           1
          ],
          [
           "#0132",
           3,
           1,
           3,
           2,
           3,
           5,
           4,
           3,
           3
          ],
          [
           "#0134",
           3,
           1,
           2,
           1,
           2,
           4,
           5,
           2,
           1
          ],
          [
           "#0203",
           2,
           3,
           2,
           1,
           3,
           5,
           5,
           3,
           2
          ],
          [
           "#0135",
           3,
           1,
           1,
           1,
           1,
           5,
           4,
           2,
           1
          ],
          [
           "#0437",
           3,
           3,
           3,
           1,
           3,
           4,
           5,
           1,
           3
          ],
          [
           "#0449",
           1,
           3,
           2,
           2,
           1,
           5,
           4,
           3,
           3
          ],
          [
           "#0436",
           2,
           1,
           3,
           2,
           1,
           4,
           5,
           3,
           1
          ],
          [
           "#0144",
           1,
           2,
           3,
           2,
           2,
           5,
           4,
           1,
           3
          ],
          [
           "#0434",
           1,
           2,
           1,
           1,
           1,
           4,
           4,
           1,
           2
          ],
          [
           "#0418",
           1,
           2,
           3,
           3,
           2,
           5,
           4,
           3,
           3
          ],
          [
           "#0159",
           1,
           1,
           3,
           2,
           2,
           5,
           5,
           2,
           1
          ],
          [
           "#0160",
           3,
           2,
           3,
           3,
           2,
           5,
           5,
           2,
           3
          ],
          [
           "#0183",
           1,
           1,
           2,
           3,
           3,
           4,
           5,
           2,
           1
          ],
          [
           "#0426",
           2,
           2,
           3,
           1,
           1,
           5,
           5,
           1,
           1
          ],
          [
           "#0420",
           3,
           2,
           2,
           2,
           3,
           5,
           4,
           1,
           2
          ],
          [
           "#0179",
           1,
           2,
           2,
           2,
           1,
           5,
           5,
           2,
           1
          ],
          [
           "#0167",
           1,
           3,
           1,
           2,
           3,
           4,
           4,
           3,
           1
          ],
          [
           "#0169",
           1,
           3,
           1,
           3,
           2,
           5,
           5,
           1,
           3
          ],
          [
           "#0196",
           1,
           2,
           2,
           3,
           1,
           5,
           4,
           3,
           3
          ],
          [
           "#0174",
           2,
           2,
           1,
           1,
           1,
           5,
           5,
           2,
           1
          ],
          [
           "#0119",
           1,
           2,
           3,
           3,
           3,
           4,
           4,
           3,
           3
          ],
          [
           "#0336",
           2,
           1,
           1,
           3,
           2,
           5,
           4,
           3,
           2
          ],
          [
           "#0086",
           3,
           1,
           2,
           3,
           2,
           4,
           5,
           3,
           2
          ],
          [
           "#0088",
           2,
           3,
           3,
           1,
           2,
           4,
           5,
           3,
           2
          ],
          [
           "#0089",
           3,
           2,
           3,
           2,
           3,
           4,
           4,
           2,
           2
          ],
          [
           "#0254",
           2,
           1,
           1,
           3,
           2,
           5,
           5,
           3,
           3
          ],
          [
           "#0497",
           2,
           2,
           3,
           3,
           1,
           4,
           4,
           1,
           2
          ],
          [
           "#0017",
           1,
           1,
           2,
           3,
           1,
           4,
           5,
           1,
           2
          ],
          [
           "#0354",
           2,
           1,
           3,
           2,
           1,
           4,
           4,
           2,
           3
          ],
          [
           "#0100",
           1,
           1,
           2,
           3,
           3,
           5,
           5,
           2,
           1
          ],
          [
           "#0245",
           2,
           3,
           3,
           1,
           2,
           4,
           5,
           2,
           3
          ],
          [
           "#0244",
           2,
           3,
           1,
           1,
           2,
           4,
           5,
           3,
           3
          ],
          [
           "#0384",
           3,
           2,
           2,
           3,
           1,
           5,
           4,
           1,
           2
          ],
          [
           "#0458",
           1,
           1,
           3,
           3,
           3,
           5,
           5,
           2,
           2
          ],
          [
           "#0117",
           1,
           1,
           2,
           1,
           1,
           5,
           5,
           3,
           3
          ],
          [
           "#0388",
           2,
           2,
           3,
           2,
           1,
           4,
           5,
           3,
           1
          ],
          [
           "#0105",
           1,
           3,
           1,
           3,
           1,
           5,
           5,
           2,
           3
          ],
          [
           "#0016",
           2,
           2,
           2,
           1,
           3,
           5,
           5,
           3,
           1
          ],
          [
           "#0108",
           1,
           1,
           1,
           2,
           2,
           4,
           4,
           1,
           3
          ],
          [
           "#0392",
           3,
           2,
           1,
           1,
           1,
           4,
           4,
           2,
           2
          ],
          [
           "#0393",
           1,
           3,
           2,
           3,
           2,
           5,
           4,
           3,
           3
          ],
          [
           "#0398",
           1,
           2,
           1,
           2,
           2,
           4,
           5,
           1,
           3
          ],
          [
           "#0113",
           3,
           1,
           1,
           1,
           3,
           5,
           4,
           1,
           3
          ],
          [
           "#0225",
           2,
           1,
           3,
           1,
           3,
           4,
           5,
           2,
           2
          ],
          [
           "#0334",
           3,
           1,
           1,
           3,
           2,
           4,
           5,
           1,
           3
          ],
          [
           "#0335",
           2,
           2,
           3,
           3,
           2,
           4,
           5,
           1,
           2
          ],
          [
           "#0114",
           3,
           3,
           3,
           2,
           2,
           5,
           5,
           1,
           1
          ],
          [
           "#0024",
           3,
           1,
           2,
           3,
           3,
           4,
           5,
           1,
           2
          ]
         ],
         "hovertemplate": "Cluster=%{x}<br>ID=%{customdata[0]}<br>지명도=%{customdata[1]}<br>볼거리=%{customdata[2]}<br>가격=%{customdata[3]}<br>거리=%{customdata[4]}<br>숙소=%{customdata[5]}<br>쇼핑=%{customdata[6]}<br>음식=%{customdata[7]}<br>교통=%{customdata[8]}<br>휴식=%{customdata[9]}<extra></extra>",
         "legendgroup": "Cluster 2",
         "marker": {
          "color": "#00cc96"
         },
         "name": "Cluster 2",
         "notched": true,
         "offsetgroup": "Cluster 2",
         "showlegend": false,
         "type": "box",
         "x": [
          "Cluster 2",
          "Cluster 2",
          "Cluster 2",
          "Cluster 2",
          "Cluster 2",
          "Cluster 2",
          "Cluster 2",
          "Cluster 2",
          "Cluster 2",
          "Cluster 2",
          "Cluster 2",
          "Cluster 2",
          "Cluster 2",
          "Cluster 2",
          "Cluster 2",
          "Cluster 2",
          "Cluster 2",
          "Cluster 2",
          "Cluster 2",
          "Cluster 2",
          "Cluster 2",
          "Cluster 2",
          "Cluster 2",
          "Cluster 2",
          "Cluster 2",
          "Cluster 2",
          "Cluster 2",
          "Cluster 2",
          "Cluster 2",
          "Cluster 2",
          "Cluster 2",
          "Cluster 2",
          "Cluster 2",
          "Cluster 2",
          "Cluster 2",
          "Cluster 2",
          "Cluster 2",
          "Cluster 2",
          "Cluster 2",
          "Cluster 2",
          "Cluster 2",
          "Cluster 2",
          "Cluster 2",
          "Cluster 2",
          "Cluster 2",
          "Cluster 2",
          "Cluster 2",
          "Cluster 2",
          "Cluster 2",
          "Cluster 2",
          "Cluster 2",
          "Cluster 2",
          "Cluster 2",
          "Cluster 2",
          "Cluster 2",
          "Cluster 2",
          "Cluster 2",
          "Cluster 2",
          "Cluster 2",
          "Cluster 2",
          "Cluster 2",
          "Cluster 2",
          "Cluster 2",
          "Cluster 2",
          "Cluster 2",
          "Cluster 2",
          "Cluster 2",
          "Cluster 2",
          "Cluster 2",
          "Cluster 2",
          "Cluster 2",
          "Cluster 2",
          "Cluster 2",
          "Cluster 2",
          "Cluster 2",
          "Cluster 2",
          "Cluster 2",
          "Cluster 2",
          "Cluster 2",
          "Cluster 2",
          "Cluster 2",
          "Cluster 2",
          "Cluster 2",
          "Cluster 2",
          "Cluster 2",
          "Cluster 2",
          "Cluster 2",
          "Cluster 2",
          "Cluster 2",
          "Cluster 2",
          "Cluster 2",
          "Cluster 2",
          "Cluster 2",
          "Cluster 2",
          "Cluster 2",
          "Cluster 2",
          "Cluster 2",
          "Cluster 2",
          "Cluster 2"
         ],
         "xaxis": "x2",
         "yaxis": "y2"
        },
        {
         "alignmentgroup": "True",
         "bingroup": "x",
         "hovertemplate": "Cluster=%{x}<br>count=%{y}<extra></extra>",
         "legendgroup": "Cluster 3",
         "marker": {
          "color": "#ab63fa",
          "opacity": 0.7,
          "pattern": {
           "shape": ""
          }
         },
         "name": "Cluster 3",
         "offsetgroup": "Cluster 3",
         "orientation": "v",
         "showlegend": true,
         "type": "histogram",
         "x": [
          "Cluster 3",
          "Cluster 3",
          "Cluster 3",
          "Cluster 3",
          "Cluster 3",
          "Cluster 3",
          "Cluster 3",
          "Cluster 3",
          "Cluster 3",
          "Cluster 3",
          "Cluster 3",
          "Cluster 3",
          "Cluster 3",
          "Cluster 3",
          "Cluster 3",
          "Cluster 3",
          "Cluster 3",
          "Cluster 3",
          "Cluster 3",
          "Cluster 3",
          "Cluster 3",
          "Cluster 3",
          "Cluster 3",
          "Cluster 3",
          "Cluster 3",
          "Cluster 3",
          "Cluster 3",
          "Cluster 3",
          "Cluster 3",
          "Cluster 3",
          "Cluster 3",
          "Cluster 3",
          "Cluster 3",
          "Cluster 3",
          "Cluster 3",
          "Cluster 3",
          "Cluster 3",
          "Cluster 3",
          "Cluster 3",
          "Cluster 3",
          "Cluster 3",
          "Cluster 3",
          "Cluster 3",
          "Cluster 3",
          "Cluster 3",
          "Cluster 3",
          "Cluster 3",
          "Cluster 3",
          "Cluster 3",
          "Cluster 3",
          "Cluster 3",
          "Cluster 3",
          "Cluster 3",
          "Cluster 3",
          "Cluster 3",
          "Cluster 3",
          "Cluster 3",
          "Cluster 3",
          "Cluster 3",
          "Cluster 3",
          "Cluster 3",
          "Cluster 3",
          "Cluster 3",
          "Cluster 3",
          "Cluster 3",
          "Cluster 3",
          "Cluster 3",
          "Cluster 3",
          "Cluster 3",
          "Cluster 3",
          "Cluster 3",
          "Cluster 3",
          "Cluster 3",
          "Cluster 3",
          "Cluster 3",
          "Cluster 3",
          "Cluster 3",
          "Cluster 3",
          "Cluster 3",
          "Cluster 3",
          "Cluster 3",
          "Cluster 3",
          "Cluster 3",
          "Cluster 3",
          "Cluster 3",
          "Cluster 3",
          "Cluster 3",
          "Cluster 3",
          "Cluster 3",
          "Cluster 3",
          "Cluster 3",
          "Cluster 3",
          "Cluster 3",
          "Cluster 3",
          "Cluster 3"
         ],
         "xaxis": "x",
         "yaxis": "y"
        },
        {
         "alignmentgroup": "True",
         "customdata": [
          [
           "#0348",
           5,
           1,
           5,
           3,
           2,
           1,
           4,
           3,
           3
          ],
          [
           "#0350",
           5,
           1,
           5,
           2,
           2,
           3,
           5,
           1,
           3
          ],
          [
           "#0353",
           5,
           1,
           5,
           2,
           2,
           3,
           4,
           1,
           1
          ],
          [
           "#0463",
           4,
           1,
           5,
           1,
           2,
           2,
           4,
           1,
           3
          ],
          [
           "#0489",
           5,
           2,
           5,
           2,
           3,
           1,
           4,
           2,
           1
          ],
          [
           "#0429",
           5,
           3,
           4,
           3,
           1,
           2,
           4,
           1,
           1
          ],
          [
           "#0417",
           4,
           1,
           5,
           3,
           1,
           1,
           5,
           1,
           2
          ],
          [
           "#0411",
           4,
           3,
           5,
           3,
           2,
           3,
           4,
           3,
           3
          ],
          [
           "#0445",
           4,
           1,
           5,
           2,
           3,
           3,
           4,
           2,
           2
          ],
          [
           "#0406",
           4,
           2,
           4,
           3,
           1,
           1,
           5,
           2,
           1
          ],
          [
           "#0405",
           5,
           3,
           4,
           1,
           1,
           1,
           4,
           1,
           1
          ],
          [
           "#0448",
           4,
           2,
           4,
           3,
           1,
           2,
           4,
           1,
           3
          ],
          [
           "#0451",
           5,
           2,
           4,
           1,
           2,
           2,
           5,
           1,
           3
          ],
          [
           "#0453",
           5,
           1,
           5,
           1,
           2,
           1,
           4,
           2,
           3
          ],
          [
           "#0400",
           5,
           1,
           4,
           2,
           1,
           2,
           5,
           1,
           1
          ],
          [
           "#0399",
           5,
           3,
           5,
           2,
           3,
           1,
           5,
           2,
           2
          ],
          [
           "#0397",
           5,
           2,
           5,
           2,
           3,
           2,
           4,
           1,
           1
          ],
          [
           "#0395",
           5,
           3,
           4,
           2,
           2,
           1,
           5,
           1,
           2
          ],
          [
           "#0391",
           4,
           2,
           5,
           1,
           2,
           3,
           4,
           2,
           1
          ],
          [
           "#0457",
           4,
           3,
           4,
           1,
           3,
           2,
           4,
           1,
           2
          ],
          [
           "#0383",
           4,
           2,
           5,
           1,
           2,
           2,
           4,
           2,
           3
          ],
          [
           "#0382",
           5,
           3,
           4,
           2,
           1,
           1,
           5,
           3,
           3
          ],
          [
           "#0380",
           5,
           2,
           4,
           2,
           1,
           3,
           5,
           1,
           1
          ],
          [
           "#0468",
           5,
           2,
           4,
           3,
           2,
           3,
           5,
           1,
           3
          ],
          [
           "#0473",
           4,
           2,
           4,
           2,
           2,
           2,
           4,
           3,
           2
          ],
          [
           "#0476",
           4,
           1,
           4,
           3,
           3,
           1,
           4,
           2,
           1
          ],
          [
           "#0477",
           5,
           3,
           5,
           2,
           2,
           1,
           5,
           1,
           3
          ],
          [
           "#0484",
           5,
           3,
           4,
           1,
           1,
           1,
           5,
           2,
           3
          ],
          [
           "#0490",
           4,
           1,
           4,
           3,
           2,
           3,
           4,
           3,
           2
          ],
          [
           "#0253",
           4,
           2,
           4,
           3,
           1,
           3,
           4,
           1,
           3
          ],
          [
           "#0506",
           5,
           1,
           5,
           3,
           1,
           1,
           4,
           3,
           3
          ],
          [
           "#0163",
           4,
           2,
           4,
           3,
           2,
           3,
           5,
           3,
           2
          ],
          [
           "#0079",
           5,
           2,
           4,
           1,
           1,
           3,
           4,
           2,
           2
          ],
          [
           "#0193",
           5,
           2,
           5,
           1,
           2,
           3,
           4,
           1,
           2
          ],
          [
           "#0195",
           4,
           2,
           4,
           1,
           2,
           2,
           5,
           2,
           2
          ],
          [
           "#0069",
           4,
           2,
           4,
           1,
           1,
           1,
           4,
           1,
           2
          ],
          [
           "#0066",
           5,
           3,
           5,
           3,
           3,
           2,
           5,
           3,
           3
          ],
          [
           "#0208",
           5,
           2,
           5,
           2,
           1,
           2,
           5,
           3,
           3
          ],
          [
           "#0081",
           4,
           1,
           4,
           2,
           1,
           3,
           5,
           2,
           1
          ],
          [
           "#0222",
           4,
           1,
           4,
           3,
           2,
           3,
           4,
           3,
           2
          ],
          [
           "#0125",
           4,
           2,
           4,
           1,
           3,
           2,
           5,
           3,
           2
          ],
          [
           "#0229",
           4,
           1,
           5,
           2,
           3,
           1,
           5,
           3,
           2
          ],
          [
           "#0051",
           5,
           1,
           5,
           3,
           3,
           2,
           4,
           1,
           3
          ],
          [
           "#0050",
           4,
           1,
           5,
           1,
           3,
           3,
           5,
           1,
           2
          ],
          [
           "#0236",
           4,
           2,
           5,
           2,
           2,
           2,
           5,
           1,
           2
          ],
          [
           "#0237",
           5,
           2,
           4,
           2,
           2,
           1,
           4,
           1,
           3
          ],
          [
           "#0223",
           5,
           1,
           4,
           1,
           2,
           3,
           4,
           1,
           1
          ],
          [
           "#0182",
           5,
           1,
           5,
           1,
           2,
           3,
           5,
           2,
           1
          ],
          [
           "#0180",
           4,
           3,
           4,
           2,
           3,
           3,
           5,
           3,
           1
          ],
          [
           "#0091",
           5,
           1,
           4,
           1,
           3,
           2,
           4,
           3,
           2
          ],
          [
           "#0122",
           4,
           2,
           4,
           3,
           2,
           3,
           4,
           2,
           3
          ],
          [
           "#0120",
           5,
           3,
           5,
           2,
           2,
           1,
           5,
           3,
           2
          ],
          [
           "#0129",
           5,
           2,
           5,
           2,
           1,
           2,
           4,
           1,
           3
          ],
          [
           "#0107",
           5,
           1,
           5,
           2,
           1,
           2,
           5,
           2,
           2
          ],
          [
           "#0139",
           5,
           2,
           4,
           2,
           2,
           3,
           4,
           3,
           3
          ],
          [
           "#0143",
           5,
           1,
           4,
           2,
           3,
           1,
           4,
           2,
           2
          ],
          [
           "#0149",
           4,
           1,
           5,
           2,
           3,
           1,
           4,
           2,
           2
          ],
          [
           "#0104",
           4,
           1,
           4,
           3,
           1,
           3,
           5,
           3,
           3
          ],
          [
           "#0154",
           4,
           1,
           5,
           2,
           1,
           2,
           4,
           2,
           2
          ],
          [
           "#0155",
           4,
           3,
           5,
           3,
           3,
           2,
           5,
           1,
           1
          ],
          [
           "#0158",
           4,
           1,
           5,
           3,
           3,
           3,
           5,
           2,
           1
          ],
          [
           "#0344",
           5,
           3,
           4,
           1,
           3,
           1,
           4,
           2,
           1
          ],
          [
           "#0164",
           4,
           1,
           4,
           1,
           1,
           1,
           4,
           2,
           3
          ],
          [
           "#0099",
           4,
           3,
           4,
           2,
           3,
           3,
           4,
           1,
           1
          ],
          [
           "#0095",
           5,
           2,
           4,
           3,
           1,
           1,
           5,
           1,
           2
          ],
          [
           "#0241",
           5,
           2,
           4,
           1,
           2,
           3,
           4,
           3,
           2
          ],
          [
           "#0242",
           4,
           2,
           5,
           1,
           2,
           2,
           5,
           3,
           3
          ],
          [
           "#0228",
           4,
           1,
           4,
           2,
           1,
           3,
           4,
           2,
           2
          ],
          [
           "#0123",
           4,
           3,
           4,
           3,
           1,
           3,
           5,
           3,
           2
          ],
          [
           "#0020",
           5,
           1,
           5,
           3,
           1,
           3,
           4,
           2,
           2
          ],
          [
           "#0296",
           5,
           2,
           5,
           2,
           2,
           1,
           4,
           1,
           1
          ],
          [
           "#0022",
           4,
           3,
           4,
           2,
           2,
           1,
           4,
           1,
           3
          ],
          [
           "#0243",
           5,
           3,
           4,
           1,
           1,
           2,
           5,
           3,
           1
          ],
          [
           "#0281",
           4,
           2,
           4,
           3,
           2,
           1,
           4,
           3,
           3
          ],
          [
           "#0314",
           4,
           3,
           4,
           3,
           3,
           3,
           4,
           1,
           2
          ],
          [
           "#0276",
           4,
           2,
           4,
           1,
           3,
           3,
           4,
           3,
           3
          ],
          [
           "#0273",
           5,
           2,
           5,
           1,
           1,
           2,
           5,
           3,
           1
          ],
          [
           "#0023",
           4,
           3,
           5,
           1,
           2,
           1,
           4,
           3,
           3
          ],
          [
           "#0006",
           5,
           3,
           4,
           3,
           1,
           3,
           5,
           3,
           3
          ],
          [
           "#0018",
           5,
           3,
           5,
           1,
           2,
           3,
           4,
           1,
           1
          ],
          [
           "#0324",
           4,
           2,
           5,
           1,
           2,
           3,
           5,
           1,
           2
          ],
          [
           "#0270",
           4,
           2,
           5,
           2,
           3,
           2,
           4,
           2,
           1
          ],
          [
           "#0268",
           5,
           1,
           5,
           3,
           3,
           1,
           5,
           3,
           3
          ],
          [
           "#0319",
           4,
           1,
           5,
           2,
           1,
           1,
           5,
           2,
           2
          ],
          [
           "#0330",
           5,
           1,
           5,
           1,
           1,
           1,
           4,
           3,
           3
          ],
          [
           "#0339",
           4,
           1,
           5,
           3,
           1,
           1,
           4,
           2,
           3
          ],
          [
           "#0002",
           4,
           2,
           5,
           2,
           2,
           1,
           5,
           3,
           2
          ],
          [
           "#0029",
           4,
           3,
           5,
           2,
           3,
           2,
           5,
           2,
           2
          ],
          [
           "#0329",
           5,
           1,
           5,
           3,
           2,
           2,
           4,
           1,
           1
          ],
          [
           "#0257",
           4,
           3,
           5,
           1,
           2,
           2,
           5,
           1,
           1
          ],
          [
           "#0505",
           5,
           2,
           5,
           2,
           3,
           1,
           4,
           2,
           1
          ],
          [
           "#0258",
           4,
           2,
           5,
           2,
           1,
           2,
           5,
           1,
           2
          ],
          [
           "#0331",
           5,
           1,
           4,
           3,
           3,
           2,
           4,
           2,
           3
          ],
          [
           "#0026",
           5,
           2,
           4,
           3,
           3,
           1,
           4,
           2,
           1
          ],
          [
           "#0308",
           4,
           2,
           4,
           2,
           1,
           2,
           4,
           2,
           3
          ]
         ],
         "hovertemplate": "Cluster=%{x}<br>ID=%{customdata[0]}<br>지명도=%{customdata[1]}<br>볼거리=%{customdata[2]}<br>가격=%{customdata[3]}<br>거리=%{customdata[4]}<br>숙소=%{customdata[5]}<br>쇼핑=%{customdata[6]}<br>음식=%{customdata[7]}<br>교통=%{customdata[8]}<br>휴식=%{customdata[9]}<extra></extra>",
         "legendgroup": "Cluster 3",
         "marker": {
          "color": "#ab63fa"
         },
         "name": "Cluster 3",
         "notched": true,
         "offsetgroup": "Cluster 3",
         "showlegend": false,
         "type": "box",
         "x": [
          "Cluster 3",
          "Cluster 3",
          "Cluster 3",
          "Cluster 3",
          "Cluster 3",
          "Cluster 3",
          "Cluster 3",
          "Cluster 3",
          "Cluster 3",
          "Cluster 3",
          "Cluster 3",
          "Cluster 3",
          "Cluster 3",
          "Cluster 3",
          "Cluster 3",
          "Cluster 3",
          "Cluster 3",
          "Cluster 3",
          "Cluster 3",
          "Cluster 3",
          "Cluster 3",
          "Cluster 3",
          "Cluster 3",
          "Cluster 3",
          "Cluster 3",
          "Cluster 3",
          "Cluster 3",
          "Cluster 3",
          "Cluster 3",
          "Cluster 3",
          "Cluster 3",
          "Cluster 3",
          "Cluster 3",
          "Cluster 3",
          "Cluster 3",
          "Cluster 3",
          "Cluster 3",
          "Cluster 3",
          "Cluster 3",
          "Cluster 3",
          "Cluster 3",
          "Cluster 3",
          "Cluster 3",
          "Cluster 3",
          "Cluster 3",
          "Cluster 3",
          "Cluster 3",
          "Cluster 3",
          "Cluster 3",
          "Cluster 3",
          "Cluster 3",
          "Cluster 3",
          "Cluster 3",
          "Cluster 3",
          "Cluster 3",
          "Cluster 3",
          "Cluster 3",
          "Cluster 3",
          "Cluster 3",
          "Cluster 3",
          "Cluster 3",
          "Cluster 3",
          "Cluster 3",
          "Cluster 3",
          "Cluster 3",
          "Cluster 3",
          "Cluster 3",
          "Cluster 3",
          "Cluster 3",
          "Cluster 3",
          "Cluster 3",
          "Cluster 3",
          "Cluster 3",
          "Cluster 3",
          "Cluster 3",
          "Cluster 3",
          "Cluster 3",
          "Cluster 3",
          "Cluster 3",
          "Cluster 3",
          "Cluster 3",
          "Cluster 3",
          "Cluster 3",
          "Cluster 3",
          "Cluster 3",
          "Cluster 3",
          "Cluster 3",
          "Cluster 3",
          "Cluster 3",
          "Cluster 3",
          "Cluster 3",
          "Cluster 3",
          "Cluster 3",
          "Cluster 3",
          "Cluster 3"
         ],
         "xaxis": "x2",
         "yaxis": "y2"
        },
        {
         "alignmentgroup": "True",
         "bingroup": "x",
         "hovertemplate": "Cluster=%{x}<br>count=%{y}<extra></extra>",
         "legendgroup": "Cluster 4",
         "marker": {
          "color": "#FFA15A",
          "opacity": 0.7,
          "pattern": {
           "shape": ""
          }
         },
         "name": "Cluster 4",
         "offsetgroup": "Cluster 4",
         "orientation": "v",
         "showlegend": true,
         "type": "histogram",
         "x": [
          "Cluster 4",
          "Cluster 4",
          "Cluster 4",
          "Cluster 4",
          "Cluster 4",
          "Cluster 4",
          "Cluster 4",
          "Cluster 4",
          "Cluster 4",
          "Cluster 4",
          "Cluster 4",
          "Cluster 4",
          "Cluster 4",
          "Cluster 4",
          "Cluster 4",
          "Cluster 4",
          "Cluster 4",
          "Cluster 4",
          "Cluster 4",
          "Cluster 4",
          "Cluster 4",
          "Cluster 4",
          "Cluster 4",
          "Cluster 4",
          "Cluster 4",
          "Cluster 4",
          "Cluster 4",
          "Cluster 4",
          "Cluster 4",
          "Cluster 4",
          "Cluster 4",
          "Cluster 4",
          "Cluster 4",
          "Cluster 4",
          "Cluster 4",
          "Cluster 4",
          "Cluster 4",
          "Cluster 4",
          "Cluster 4",
          "Cluster 4",
          "Cluster 4",
          "Cluster 4",
          "Cluster 4",
          "Cluster 4",
          "Cluster 4",
          "Cluster 4",
          "Cluster 4",
          "Cluster 4",
          "Cluster 4",
          "Cluster 4",
          "Cluster 4",
          "Cluster 4",
          "Cluster 4",
          "Cluster 4",
          "Cluster 4",
          "Cluster 4",
          "Cluster 4",
          "Cluster 4",
          "Cluster 4",
          "Cluster 4",
          "Cluster 4",
          "Cluster 4",
          "Cluster 4",
          "Cluster 4",
          "Cluster 4",
          "Cluster 4",
          "Cluster 4",
          "Cluster 4",
          "Cluster 4",
          "Cluster 4",
          "Cluster 4",
          "Cluster 4",
          "Cluster 4",
          "Cluster 4",
          "Cluster 4",
          "Cluster 4",
          "Cluster 4",
          "Cluster 4",
          "Cluster 4",
          "Cluster 4",
          "Cluster 4",
          "Cluster 4",
          "Cluster 4",
          "Cluster 4",
          "Cluster 4",
          "Cluster 4",
          "Cluster 4",
          "Cluster 4",
          "Cluster 4",
          "Cluster 4",
          "Cluster 4",
          "Cluster 4",
          "Cluster 4",
          "Cluster 4",
          "Cluster 4"
         ],
         "xaxis": "x",
         "yaxis": "y"
        },
        {
         "alignmentgroup": "True",
         "customdata": [
          [
           "#0116",
           2,
           2,
           3,
           1,
           4,
           3,
           1,
           1,
           4
          ],
          [
           "#0102",
           1,
           1,
           2,
           3,
           5,
           2,
           1,
           1,
           5
          ],
          [
           "#0452",
           2,
           2,
           1,
           3,
           4,
           3,
           1,
           1,
           4
          ],
          [
           "#0103",
           3,
           2,
           1,
           1,
           4,
           2,
           2,
           2,
           5
          ],
          [
           "#0010",
           3,
           1,
           3,
           1,
           5,
           3,
           1,
           1,
           5
          ],
          [
           "#0455",
           2,
           1,
           1,
           2,
           4,
           1,
           3,
           3,
           5
          ],
          [
           "#0499",
           2,
           1,
           2,
           3,
           5,
           1,
           1,
           2,
           4
          ],
          [
           "#0015",
           3,
           1,
           2,
           1,
           5,
           1,
           3,
           2,
           5
          ],
          [
           "#0121",
           3,
           2,
           2,
           3,
           5,
           3,
           3,
           2,
           5
          ],
          [
           "#0504",
           2,
           1,
           1,
           3,
           4,
           1,
           2,
           3,
           4
          ],
          [
           "#0098",
           2,
           3,
           2,
           3,
           5,
           1,
           3,
           3,
           5
          ],
          [
           "#0009",
           1,
           2,
           3,
           1,
           5,
           1,
           2,
           3,
           4
          ],
          [
           "#0035",
           2,
           3,
           3,
           2,
           4,
           2,
           3,
           2,
           5
          ],
          [
           "#0083",
           1,
           1,
           3,
           1,
           5,
           1,
           1,
           1,
           4
          ],
          [
           "#0031",
           1,
           3,
           2,
           2,
           5,
           1,
           3,
           3,
           4
          ],
          [
           "#0486",
           3,
           3,
           3,
           1,
           5,
           1,
           3,
           3,
           4
          ],
          [
           "#0037",
           2,
           1,
           3,
           3,
           4,
           2,
           1,
           1,
           5
          ],
          [
           "#0043",
           1,
           3,
           1,
           3,
           4,
           1,
           3,
           2,
           5
          ],
          [
           "#0028",
           2,
           2,
           1,
           1,
           5,
           3,
           3,
           3,
           5
          ],
          [
           "#0053",
           3,
           1,
           2,
           2,
           5,
           2,
           2,
           3,
           4
          ],
          [
           "#0480",
           2,
           2,
           1,
           3,
           4,
           1,
           2,
           2,
           4
          ],
          [
           "#0479",
           2,
           1,
           2,
           2,
           5,
           3,
           1,
           3,
           5
          ],
          [
           "#0054",
           3,
           2,
           3,
           3,
           5,
           1,
           3,
           3,
           4
          ],
          [
           "#0055",
           2,
           2,
           1,
           2,
           5,
           1,
           1,
           2,
           5
          ],
          [
           "#0057",
           1,
           3,
           3,
           3,
           4,
           3,
           3,
           3,
           4
          ],
          [
           "#0475",
           2,
           2,
           1,
           1,
           5,
           1,
           1,
           2,
           4
          ],
          [
           "#0474",
           3,
           2,
           2,
           3,
           4,
           3,
           2,
           3,
           5
          ],
          [
           "#0062",
           1,
           3,
           3,
           3,
           5,
           1,
           2,
           1,
           4
          ],
          [
           "#0065",
           3,
           1,
           2,
           1,
           4,
           3,
           3,
           3,
           5
          ],
          [
           "#0470",
           2,
           3,
           2,
           3,
           4,
           2,
           2,
           2,
           4
          ],
          [
           "#0075",
           1,
           3,
           3,
           3,
           5,
           2,
           3,
           3,
           5
          ],
          [
           "#0493",
           2,
           3,
           1,
           3,
           4,
           1,
           3,
           3,
           5
          ],
          [
           "#0495",
           2,
           3,
           1,
           1,
           4,
           2,
           1,
           1,
           4
          ],
          [
           "#0085",
           1,
           2,
           2,
           1,
           5,
           2,
           3,
           3,
           5
          ],
          [
           "#0077",
           2,
           1,
           2,
           1,
           4,
           1,
           1,
           2,
           4
          ],
          [
           "#0343",
           2,
           1,
           3,
           3,
           5,
           3,
           3,
           1,
           5
          ],
          [
           "#0446",
           1,
           1,
           3,
           3,
           4,
           2,
           2,
           1,
           5
          ],
          [
           "#0227",
           2,
           1,
           2,
           1,
           4,
           1,
           1,
           3,
           4
          ],
          [
           "#0396",
           3,
           1,
           2,
           2,
           4,
           3,
           2,
           1,
           5
          ],
          [
           "#0394",
           2,
           3,
           2,
           3,
           5,
           3,
           1,
           2,
           5
          ],
          [
           "#0230",
           2,
           2,
           1,
           2,
           4,
           3,
           3,
           2,
           4
          ],
          [
           "#0233",
           2,
           2,
           1,
           3,
           5,
           3,
           2,
           2,
           5
          ],
          [
           "#0239",
           3,
           2,
           3,
           1,
           4,
           1,
           2,
           2,
           4
          ],
          [
           "#0240",
           2,
           1,
           2,
           1,
           5,
           3,
           2,
           3,
           5
          ],
          [
           "#0387",
           2,
           2,
           2,
           2,
           5,
           2,
           3,
           1,
           4
          ],
          [
           "#0249",
           1,
           3,
           3,
           3,
           4,
           1,
           1,
           1,
           4
          ],
          [
           "#0250",
           2,
           1,
           3,
           1,
           4,
           3,
           2,
           1,
           4
          ],
          [
           "#0381",
           3,
           3,
           3,
           2,
           5,
           3,
           1,
           2,
           4
          ],
          [
           "#0256",
           1,
           1,
           3,
           2,
           4,
           3,
           2,
           2,
           4
          ],
          [
           "#0224",
           3,
           1,
           2,
           2,
           4,
           2,
           1,
           3,
           5
          ],
          [
           "#0267",
           3,
           1,
           1,
           2,
           5,
           2,
           1,
           3,
           4
          ],
          [
           "#0369",
           3,
           2,
           1,
           2,
           5,
           1,
           1,
           2,
           5
          ],
          [
           "#0287",
           1,
           1,
           2,
           3,
           4,
           2,
           3,
           3,
           5
          ],
          [
           "#0289",
           1,
           1,
           3,
           2,
           4,
           1,
           3,
           2,
           5
          ],
          [
           "#0306",
           1,
           3,
           3,
           3,
           4,
           1,
           2,
           3,
           5
          ],
          [
           "#0364",
           1,
           1,
           2,
           1,
           4,
           2,
           2,
           1,
           4
          ],
          [
           "#0309",
           3,
           2,
           1,
           2,
           5,
           2,
           2,
           2,
           4
          ],
          [
           "#0311",
           3,
           3,
           3,
           3,
           4,
           3,
           1,
           2,
           4
          ],
          [
           "#0313",
           1,
           1,
           2,
           1,
           5,
           1,
           1,
           2,
           5
          ],
          [
           "#0317",
           3,
           2,
           2,
           2,
           5,
           2,
           2,
           3,
           5
          ],
          [
           "#0318",
           3,
           1,
           3,
           3,
           4,
           2,
           3,
           1,
           5
          ],
          [
           "#0338",
           1,
           2,
           1,
           3,
           5,
           2,
           3,
           2,
           5
          ],
          [
           "#0341",
           3,
           1,
           1,
           3,
           5,
           3,
           2,
           1,
           5
          ],
          [
           "#0272",
           1,
           3,
           2,
           3,
           4,
           3,
           2,
           3,
           4
          ],
          [
           "#0447",
           3,
           3,
           3,
           3,
           5,
           2,
           1,
           2,
           4
          ],
          [
           "#0221",
           2,
           1,
           2,
           2,
           5,
           2,
           3,
           2,
           4
          ],
          [
           "#0216",
           3,
           3,
           1,
           2,
           5,
           2,
           3,
           1,
           5
          ],
          [
           "#0444",
           1,
           1,
           1,
           2,
           5,
           1,
           2,
           3,
           5
          ],
          [
           "#0127",
           3,
           2,
           2,
           1,
           4,
           3,
           1,
           2,
           5
          ],
          [
           "#0128",
           3,
           2,
           1,
           1,
           5,
           2,
           1,
           1,
           5
          ],
          [
           "#0130",
           2,
           2,
           3,
           3,
           4,
           2,
           3,
           3,
           4
          ],
          [
           "#0439",
           2,
           1,
           3,
           2,
           5,
           1,
           2,
           2,
           5
          ],
          [
           "#0438",
           2,
           2,
           3,
           3,
           5,
           3,
           2,
           3,
           5
          ],
          [
           "#0148",
           1,
           1,
           2,
           3,
           5,
           3,
           1,
           2,
           5
          ],
          [
           "#0433",
           2,
           1,
           1,
           3,
           4,
           1,
           2,
           3,
           5
          ],
          [
           "#0432",
           2,
           3,
           3,
           1,
           5,
           1,
           1,
           3,
           5
          ],
          [
           "#0157",
           2,
           1,
           1,
           2,
           5,
           2,
           3,
           2,
           5
          ],
          [
           "#0168",
           1,
           1,
           3,
           2,
           4,
           1,
           3,
           2,
           4
          ],
          [
           "#0173",
           3,
           1,
           3,
           1,
           4,
           2,
           1,
           2,
           4
          ],
          [
           "#0403",
           1,
           2,
           2,
           1,
           5,
           3,
           1,
           1,
           4
          ],
          [
           "#0423",
           2,
           1,
           1,
           1,
           4,
           2,
           1,
           2,
           5
          ],
          [
           "#0178",
           3,
           3,
           3,
           3,
           5,
           2,
           2,
           2,
           4
          ],
          [
           "#0186",
           1,
           3,
           2,
           3,
           5,
           3,
           1,
           3,
           5
          ],
          [
           "#0189",
           1,
           2,
           2,
           1,
           4,
           3,
           1,
           2,
           5
          ],
          [
           "#0416",
           1,
           3,
           3,
           2,
           5,
           3,
           2,
           2,
           4
          ],
          [
           "#0192",
           2,
           2,
           3,
           2,
           5,
           3,
           2,
           3,
           5
          ],
          [
           "#0197",
           2,
           2,
           3,
           2,
           4,
           2,
           2,
           3,
           5
          ],
          [
           "#0198",
           1,
           3,
           2,
           1,
           5,
           1,
           3,
           1,
           5
          ],
          [
           "#0202",
           3,
           1,
           1,
           2,
           4,
           3,
           2,
           2,
           4
          ],
          [
           "#0204",
           2,
           3,
           2,
           1,
           4,
           2,
           2,
           3,
           5
          ],
          [
           "#0211",
           1,
           2,
           3,
           1,
           4,
           3,
           1,
           2,
           4
          ],
          [
           "#0213",
           3,
           3,
           2,
           2,
           4,
           1,
           3,
           2,
           5
          ],
          [
           "#0215",
           1,
           3,
           2,
           3,
           4,
           2,
           2,
           2,
           4
          ],
          [
           "#0422",
           1,
           3,
           2,
           1,
           4,
           2,
           1,
           1,
           4
          ],
          [
           "#0001",
           2,
           2,
           1,
           2,
           5,
           3,
           2,
           1,
           5
          ]
         ],
         "hovertemplate": "Cluster=%{x}<br>ID=%{customdata[0]}<br>지명도=%{customdata[1]}<br>볼거리=%{customdata[2]}<br>가격=%{customdata[3]}<br>거리=%{customdata[4]}<br>숙소=%{customdata[5]}<br>쇼핑=%{customdata[6]}<br>음식=%{customdata[7]}<br>교통=%{customdata[8]}<br>휴식=%{customdata[9]}<extra></extra>",
         "legendgroup": "Cluster 4",
         "marker": {
          "color": "#FFA15A"
         },
         "name": "Cluster 4",
         "notched": true,
         "offsetgroup": "Cluster 4",
         "showlegend": false,
         "type": "box",
         "x": [
          "Cluster 4",
          "Cluster 4",
          "Cluster 4",
          "Cluster 4",
          "Cluster 4",
          "Cluster 4",
          "Cluster 4",
          "Cluster 4",
          "Cluster 4",
          "Cluster 4",
          "Cluster 4",
          "Cluster 4",
          "Cluster 4",
          "Cluster 4",
          "Cluster 4",
          "Cluster 4",
          "Cluster 4",
          "Cluster 4",
          "Cluster 4",
          "Cluster 4",
          "Cluster 4",
          "Cluster 4",
          "Cluster 4",
          "Cluster 4",
          "Cluster 4",
          "Cluster 4",
          "Cluster 4",
          "Cluster 4",
          "Cluster 4",
          "Cluster 4",
          "Cluster 4",
          "Cluster 4",
          "Cluster 4",
          "Cluster 4",
          "Cluster 4",
          "Cluster 4",
          "Cluster 4",
          "Cluster 4",
          "Cluster 4",
          "Cluster 4",
          "Cluster 4",
          "Cluster 4",
          "Cluster 4",
          "Cluster 4",
          "Cluster 4",
          "Cluster 4",
          "Cluster 4",
          "Cluster 4",
          "Cluster 4",
          "Cluster 4",
          "Cluster 4",
          "Cluster 4",
          "Cluster 4",
          "Cluster 4",
          "Cluster 4",
          "Cluster 4",
          "Cluster 4",
          "Cluster 4",
          "Cluster 4",
          "Cluster 4",
          "Cluster 4",
          "Cluster 4",
          "Cluster 4",
          "Cluster 4",
          "Cluster 4",
          "Cluster 4",
          "Cluster 4",
          "Cluster 4",
          "Cluster 4",
          "Cluster 4",
          "Cluster 4",
          "Cluster 4",
          "Cluster 4",
          "Cluster 4",
          "Cluster 4",
          "Cluster 4",
          "Cluster 4",
          "Cluster 4",
          "Cluster 4",
          "Cluster 4",
          "Cluster 4",
          "Cluster 4",
          "Cluster 4",
          "Cluster 4",
          "Cluster 4",
          "Cluster 4",
          "Cluster 4",
          "Cluster 4",
          "Cluster 4",
          "Cluster 4",
          "Cluster 4",
          "Cluster 4",
          "Cluster 4",
          "Cluster 4",
          "Cluster 4"
         ],
         "xaxis": "x2",
         "yaxis": "y2"
        }
       ],
       "layout": {
        "barmode": "relative",
        "height": 600,
        "legend": {
         "title": {
          "text": "Cluster"
         },
         "tracegroupgap": 0
        },
        "margin": {
         "t": 60
        },
        "template": {
         "data": {
          "bar": [
           {
            "error_x": {
             "color": "#2a3f5f"
            },
            "error_y": {
             "color": "#2a3f5f"
            },
            "marker": {
             "line": {
              "color": "#E5ECF6",
              "width": 0.5
             },
             "pattern": {
              "fillmode": "overlay",
              "size": 10,
              "solidity": 0.2
             }
            },
            "type": "bar"
           }
          ],
          "barpolar": [
           {
            "marker": {
             "line": {
              "color": "#E5ECF6",
              "width": 0.5
             },
             "pattern": {
              "fillmode": "overlay",
              "size": 10,
              "solidity": 0.2
             }
            },
            "type": "barpolar"
           }
          ],
          "carpet": [
           {
            "aaxis": {
             "endlinecolor": "#2a3f5f",
             "gridcolor": "white",
             "linecolor": "white",
             "minorgridcolor": "white",
             "startlinecolor": "#2a3f5f"
            },
            "baxis": {
             "endlinecolor": "#2a3f5f",
             "gridcolor": "white",
             "linecolor": "white",
             "minorgridcolor": "white",
             "startlinecolor": "#2a3f5f"
            },
            "type": "carpet"
           }
          ],
          "choropleth": [
           {
            "colorbar": {
             "outlinewidth": 0,
             "ticks": ""
            },
            "type": "choropleth"
           }
          ],
          "contour": [
           {
            "colorbar": {
             "outlinewidth": 0,
             "ticks": ""
            },
            "colorscale": [
             [
              0,
              "#0d0887"
             ],
             [
              0.1111111111111111,
              "#46039f"
             ],
             [
              0.2222222222222222,
              "#7201a8"
             ],
             [
              0.3333333333333333,
              "#9c179e"
             ],
             [
              0.4444444444444444,
              "#bd3786"
             ],
             [
              0.5555555555555556,
              "#d8576b"
             ],
             [
              0.6666666666666666,
              "#ed7953"
             ],
             [
              0.7777777777777778,
              "#fb9f3a"
             ],
             [
              0.8888888888888888,
              "#fdca26"
             ],
             [
              1,
              "#f0f921"
             ]
            ],
            "type": "contour"
           }
          ],
          "contourcarpet": [
           {
            "colorbar": {
             "outlinewidth": 0,
             "ticks": ""
            },
            "type": "contourcarpet"
           }
          ],
          "heatmap": [
           {
            "colorbar": {
             "outlinewidth": 0,
             "ticks": ""
            },
            "colorscale": [
             [
              0,
              "#0d0887"
             ],
             [
              0.1111111111111111,
              "#46039f"
             ],
             [
              0.2222222222222222,
              "#7201a8"
             ],
             [
              0.3333333333333333,
              "#9c179e"
             ],
             [
              0.4444444444444444,
              "#bd3786"
             ],
             [
              0.5555555555555556,
              "#d8576b"
             ],
             [
              0.6666666666666666,
              "#ed7953"
             ],
             [
              0.7777777777777778,
              "#fb9f3a"
             ],
             [
              0.8888888888888888,
              "#fdca26"
             ],
             [
              1,
              "#f0f921"
             ]
            ],
            "type": "heatmap"
           }
          ],
          "heatmapgl": [
           {
            "colorbar": {
             "outlinewidth": 0,
             "ticks": ""
            },
            "colorscale": [
             [
              0,
              "#0d0887"
             ],
             [
              0.1111111111111111,
              "#46039f"
             ],
             [
              0.2222222222222222,
              "#7201a8"
             ],
             [
              0.3333333333333333,
              "#9c179e"
             ],
             [
              0.4444444444444444,
              "#bd3786"
             ],
             [
              0.5555555555555556,
              "#d8576b"
             ],
             [
              0.6666666666666666,
              "#ed7953"
             ],
             [
              0.7777777777777778,
              "#fb9f3a"
             ],
             [
              0.8888888888888888,
              "#fdca26"
             ],
             [
              1,
              "#f0f921"
             ]
            ],
            "type": "heatmapgl"
           }
          ],
          "histogram": [
           {
            "marker": {
             "pattern": {
              "fillmode": "overlay",
              "size": 10,
              "solidity": 0.2
             }
            },
            "type": "histogram"
           }
          ],
          "histogram2d": [
           {
            "colorbar": {
             "outlinewidth": 0,
             "ticks": ""
            },
            "colorscale": [
             [
              0,
              "#0d0887"
             ],
             [
              0.1111111111111111,
              "#46039f"
             ],
             [
              0.2222222222222222,
              "#7201a8"
             ],
             [
              0.3333333333333333,
              "#9c179e"
             ],
             [
              0.4444444444444444,
              "#bd3786"
             ],
             [
              0.5555555555555556,
              "#d8576b"
             ],
             [
              0.6666666666666666,
              "#ed7953"
             ],
             [
              0.7777777777777778,
              "#fb9f3a"
             ],
             [
              0.8888888888888888,
              "#fdca26"
             ],
             [
              1,
              "#f0f921"
             ]
            ],
            "type": "histogram2d"
           }
          ],
          "histogram2dcontour": [
           {
            "colorbar": {
             "outlinewidth": 0,
             "ticks": ""
            },
            "colorscale": [
             [
              0,
              "#0d0887"
             ],
             [
              0.1111111111111111,
              "#46039f"
             ],
             [
              0.2222222222222222,
              "#7201a8"
             ],
             [
              0.3333333333333333,
              "#9c179e"
             ],
             [
              0.4444444444444444,
              "#bd3786"
             ],
             [
              0.5555555555555556,
              "#d8576b"
             ],
             [
              0.6666666666666666,
              "#ed7953"
             ],
             [
              0.7777777777777778,
              "#fb9f3a"
             ],
             [
              0.8888888888888888,
              "#fdca26"
             ],
             [
              1,
              "#f0f921"
             ]
            ],
            "type": "histogram2dcontour"
           }
          ],
          "mesh3d": [
           {
            "colorbar": {
             "outlinewidth": 0,
             "ticks": ""
            },
            "type": "mesh3d"
           }
          ],
          "parcoords": [
           {
            "line": {
             "colorbar": {
              "outlinewidth": 0,
              "ticks": ""
             }
            },
            "type": "parcoords"
           }
          ],
          "pie": [
           {
            "automargin": true,
            "type": "pie"
           }
          ],
          "scatter": [
           {
            "fillpattern": {
             "fillmode": "overlay",
             "size": 10,
             "solidity": 0.2
            },
            "type": "scatter"
           }
          ],
          "scatter3d": [
           {
            "line": {
             "colorbar": {
              "outlinewidth": 0,
              "ticks": ""
             }
            },
            "marker": {
             "colorbar": {
              "outlinewidth": 0,
              "ticks": ""
             }
            },
            "type": "scatter3d"
           }
          ],
          "scattercarpet": [
           {
            "marker": {
             "colorbar": {
              "outlinewidth": 0,
              "ticks": ""
             }
            },
            "type": "scattercarpet"
           }
          ],
          "scattergeo": [
           {
            "marker": {
             "colorbar": {
              "outlinewidth": 0,
              "ticks": ""
             }
            },
            "type": "scattergeo"
           }
          ],
          "scattergl": [
           {
            "marker": {
             "colorbar": {
              "outlinewidth": 0,
              "ticks": ""
             }
            },
            "type": "scattergl"
           }
          ],
          "scattermapbox": [
           {
            "marker": {
             "colorbar": {
              "outlinewidth": 0,
              "ticks": ""
             }
            },
            "type": "scattermapbox"
           }
          ],
          "scatterpolar": [
           {
            "marker": {
             "colorbar": {
              "outlinewidth": 0,
              "ticks": ""
             }
            },
            "type": "scatterpolar"
           }
          ],
          "scatterpolargl": [
           {
            "marker": {
             "colorbar": {
              "outlinewidth": 0,
              "ticks": ""
             }
            },
            "type": "scatterpolargl"
           }
          ],
          "scatterternary": [
           {
            "marker": {
             "colorbar": {
              "outlinewidth": 0,
              "ticks": ""
             }
            },
            "type": "scatterternary"
           }
          ],
          "surface": [
           {
            "colorbar": {
             "outlinewidth": 0,
             "ticks": ""
            },
            "colorscale": [
             [
              0,
              "#0d0887"
             ],
             [
              0.1111111111111111,
              "#46039f"
             ],
             [
              0.2222222222222222,
              "#7201a8"
             ],
             [
              0.3333333333333333,
              "#9c179e"
             ],
             [
              0.4444444444444444,
              "#bd3786"
             ],
             [
              0.5555555555555556,
              "#d8576b"
             ],
             [
              0.6666666666666666,
              "#ed7953"
             ],
             [
              0.7777777777777778,
              "#fb9f3a"
             ],
             [
              0.8888888888888888,
              "#fdca26"
             ],
             [
              1,
              "#f0f921"
             ]
            ],
            "type": "surface"
           }
          ],
          "table": [
           {
            "cells": {
             "fill": {
              "color": "#EBF0F8"
             },
             "line": {
              "color": "white"
             }
            },
            "header": {
             "fill": {
              "color": "#C8D4E3"
             },
             "line": {
              "color": "white"
             }
            },
            "type": "table"
           }
          ]
         },
         "layout": {
          "annotationdefaults": {
           "arrowcolor": "#2a3f5f",
           "arrowhead": 0,
           "arrowwidth": 1
          },
          "autotypenumbers": "strict",
          "coloraxis": {
           "colorbar": {
            "outlinewidth": 0,
            "ticks": ""
           }
          },
          "colorscale": {
           "diverging": [
            [
             0,
             "#8e0152"
            ],
            [
             0.1,
             "#c51b7d"
            ],
            [
             0.2,
             "#de77ae"
            ],
            [
             0.3,
             "#f1b6da"
            ],
            [
             0.4,
             "#fde0ef"
            ],
            [
             0.5,
             "#f7f7f7"
            ],
            [
             0.6,
             "#e6f5d0"
            ],
            [
             0.7,
             "#b8e186"
            ],
            [
             0.8,
             "#7fbc41"
            ],
            [
             0.9,
             "#4d9221"
            ],
            [
             1,
             "#276419"
            ]
           ],
           "sequential": [
            [
             0,
             "#0d0887"
            ],
            [
             0.1111111111111111,
             "#46039f"
            ],
            [
             0.2222222222222222,
             "#7201a8"
            ],
            [
             0.3333333333333333,
             "#9c179e"
            ],
            [
             0.4444444444444444,
             "#bd3786"
            ],
            [
             0.5555555555555556,
             "#d8576b"
            ],
            [
             0.6666666666666666,
             "#ed7953"
            ],
            [
             0.7777777777777778,
             "#fb9f3a"
            ],
            [
             0.8888888888888888,
             "#fdca26"
            ],
            [
             1,
             "#f0f921"
            ]
           ],
           "sequentialminus": [
            [
             0,
             "#0d0887"
            ],
            [
             0.1111111111111111,
             "#46039f"
            ],
            [
             0.2222222222222222,
             "#7201a8"
            ],
            [
             0.3333333333333333,
             "#9c179e"
            ],
            [
             0.4444444444444444,
             "#bd3786"
            ],
            [
             0.5555555555555556,
             "#d8576b"
            ],
            [
             0.6666666666666666,
             "#ed7953"
            ],
            [
             0.7777777777777778,
             "#fb9f3a"
            ],
            [
             0.8888888888888888,
             "#fdca26"
            ],
            [
             1,
             "#f0f921"
            ]
           ]
          },
          "colorway": [
           "#636efa",
           "#EF553B",
           "#00cc96",
           "#ab63fa",
           "#FFA15A",
           "#19d3f3",
           "#FF6692",
           "#B6E880",
           "#FF97FF",
           "#FECB52"
          ],
          "font": {
           "color": "#2a3f5f"
          },
          "geo": {
           "bgcolor": "white",
           "lakecolor": "white",
           "landcolor": "#E5ECF6",
           "showlakes": true,
           "showland": true,
           "subunitcolor": "white"
          },
          "hoverlabel": {
           "align": "left"
          },
          "hovermode": "closest",
          "mapbox": {
           "style": "light"
          },
          "paper_bgcolor": "white",
          "plot_bgcolor": "#E5ECF6",
          "polar": {
           "angularaxis": {
            "gridcolor": "white",
            "linecolor": "white",
            "ticks": ""
           },
           "bgcolor": "#E5ECF6",
           "radialaxis": {
            "gridcolor": "white",
            "linecolor": "white",
            "ticks": ""
           }
          },
          "scene": {
           "xaxis": {
            "backgroundcolor": "#E5ECF6",
            "gridcolor": "white",
            "gridwidth": 2,
            "linecolor": "white",
            "showbackground": true,
            "ticks": "",
            "zerolinecolor": "white"
           },
           "yaxis": {
            "backgroundcolor": "#E5ECF6",
            "gridcolor": "white",
            "gridwidth": 2,
            "linecolor": "white",
            "showbackground": true,
            "ticks": "",
            "zerolinecolor": "white"
           },
           "zaxis": {
            "backgroundcolor": "#E5ECF6",
            "gridcolor": "white",
            "gridwidth": 2,
            "linecolor": "white",
            "showbackground": true,
            "ticks": "",
            "zerolinecolor": "white"
           }
          },
          "shapedefaults": {
           "line": {
            "color": "#2a3f5f"
           }
          },
          "ternary": {
           "aaxis": {
            "gridcolor": "white",
            "linecolor": "white",
            "ticks": ""
           },
           "baxis": {
            "gridcolor": "white",
            "linecolor": "white",
            "ticks": ""
           },
           "bgcolor": "#E5ECF6",
           "caxis": {
            "gridcolor": "white",
            "linecolor": "white",
            "ticks": ""
           }
          },
          "title": {
           "x": 0.05
          },
          "xaxis": {
           "automargin": true,
           "gridcolor": "white",
           "linecolor": "white",
           "ticks": "",
           "title": {
            "standoff": 15
           },
           "zerolinecolor": "white",
           "zerolinewidth": 2
          },
          "yaxis": {
           "automargin": true,
           "gridcolor": "white",
           "linecolor": "white",
           "ticks": "",
           "title": {
            "standoff": 15
           },
           "zerolinecolor": "white",
           "zerolinewidth": 2
          }
         }
        },
        "xaxis": {
         "anchor": "y",
         "categoryarray": [
          "Cluster 0",
          "Cluster 1",
          "Cluster 2",
          "Cluster 3",
          "Cluster 4"
         ],
         "categoryorder": "array",
         "domain": [
          0,
          1
         ],
         "title": {
          "text": "Cluster"
         }
        },
        "xaxis2": {
         "anchor": "y2",
         "domain": [
          0,
          1
         ],
         "matches": "x",
         "showgrid": true,
         "showticklabels": false
        },
        "yaxis": {
         "anchor": "x",
         "domain": [
          0,
          0.7326
         ],
         "title": {
          "text": "count"
         }
        },
        "yaxis2": {
         "anchor": "x2",
         "domain": [
          0.7426,
          1
         ],
         "matches": "y2",
         "showgrid": false,
         "showline": false,
         "showticklabels": false,
         "ticks": ""
        }
       }
      }
     },
     "metadata": {},
     "output_type": "display_data"
    }
   ],
   "source": [
    "# show the size of each cluster\n",
    "plot_model(kmeans, plot='distribution')"
   ]
  },
  {
   "cell_type": "code",
   "execution_count": 11,
   "metadata": {},
   "outputs": [],
   "source": [
    "import platform\n",
    "\n",
    "path = \"c:/Windows/Fonts/malgun.ttf\"\n",
    "if platform.system() == 'Darwin':\n",
    "    rc('font', family='AppleGothic')\n",
    "elif platform.system() == 'Windows':\n",
    "    font_name = font_manager.FontProperties(fname=path).get_name()\n",
    "    rc('font', family=font_name)\n",
    "else:\n",
    "    print('Unknown system...')\n",
    "rc('axes', unicode_minus=False)   "
   ]
  },
  {
   "cell_type": "code",
   "execution_count": 18,
   "metadata": {},
   "outputs": [
    {
     "data": {
      "image/png": "[encoded data removed]",
      "text/plain": [
       "<Figure size 1000x600 with 5 Axes>"
      ]
     },
     "metadata": {},
     "output_type": "display_data"
    }
   ],
   "source": [
    "fig, ax = plt.subplots(kmeans.n_clusters, 1, figsize=(10,6), sharex=True, sharey=True)\n",
    "ax = ax.ravel()\n",
    "plt.tight_layout() # 자동으로 레이아웃 조정\n",
    "\n",
    "for i in range(kmeans.n_clusters):\n",
    "    ax[i].set_title('cluster %d' % i)\n",
    "    sns.barplot(x=np.arange(kmeans.cluster_centers_[i].size), y=kmeans.cluster_centers_[i], ax=ax[i])\n",
    "    ax[i].set_xticks(np.arange(kmeans.cluster_centers_[i].size))\n",
    "    ax[i].set_xticklabels(features.iloc[:,1:].columns, rotation=90)"
   ]
  }
 ],
 "metadata": {
  "kernelspec": {
   "display_name": "Python 3.8.13 ('pycaret')",
   "language": "python",
   "name": "python3"
  },
  "language_info": {
   "codemirror_mode": {
    "name": "ipython",
    "version": 3
   },
   "file_extension": ".py",
   "mimetype": "text/x-python",
   "name": "python",
   "nbconvert_exporter": "python",
   "pygments_lexer": "ipython3",
   "version": "3.8.13"
  },
  "orig_nbformat": 4,
  "vscode": {
   "interpreter": {
    "hash": "17aefc1b3500b4c50d722eb3a8d4ce383d649f72eb05e39436bc99b8a91936d1"
   }
  }
 },
 "nbformat": 4,
 "nbformat_minor": 2
}
