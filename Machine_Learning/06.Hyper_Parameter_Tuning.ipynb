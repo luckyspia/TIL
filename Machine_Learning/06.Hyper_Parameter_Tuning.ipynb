{
 "cells": [
  {
   "cell_type": "markdown",
   "metadata": {},
   "source": [
    "<font color=\"#CC3D3D\"><p>\n",
    "## A Comparison of Grid Search, Random Search, and Bayesian Optimization"
   ]
  },
  {
   "cell_type": "code",
   "execution_count": 1,
   "metadata": {},
   "outputs": [],
   "source": [
    "import pandas as pd\n",
    "import numpy as np\n",
    "import matplotlib.pyplot as plt\n",
    "import seaborn as sns\n",
    "%matplotlib inline\n",
    "\n",
    "import warnings\n",
    "warnings.filterwarnings('ignore')"
   ]
  },
  {
   "cell_type": "code",
   "execution_count": 3,
   "metadata": {},
   "outputs": [
    {
     "data": {
      "text/html": [
       "<div>\n",
       "<style scoped>\n",
       "    .dataframe tbody tr th:only-of-type {\n",
       "        vertical-align: middle;\n",
       "    }\n",
       "\n",
       "    .dataframe tbody tr th {\n",
       "        vertical-align: top;\n",
       "    }\n",
       "\n",
       "    .dataframe thead th {\n",
       "        text-align: right;\n",
       "    }\n",
       "</style>\n",
       "<table border=\"1\" class=\"dataframe\">\n",
       "  <thead>\n",
       "    <tr style=\"text-align: right;\">\n",
       "      <th></th>\n",
       "      <th>battery_power</th>\n",
       "      <th>blue</th>\n",
       "      <th>clock_speed</th>\n",
       "      <th>dual_sim</th>\n",
       "      <th>fc</th>\n",
       "      <th>four_g</th>\n",
       "      <th>int_memory</th>\n",
       "      <th>m_dep</th>\n",
       "      <th>mobile_wt</th>\n",
       "      <th>n_cores</th>\n",
       "      <th>...</th>\n",
       "      <th>px_height</th>\n",
       "      <th>px_width</th>\n",
       "      <th>ram</th>\n",
       "      <th>sc_h</th>\n",
       "      <th>sc_w</th>\n",
       "      <th>talk_time</th>\n",
       "      <th>three_g</th>\n",
       "      <th>touch_screen</th>\n",
       "      <th>wifi</th>\n",
       "      <th>price_range</th>\n",
       "    </tr>\n",
       "  </thead>\n",
       "  <tbody>\n",
       "    <tr>\n",
       "      <th>0</th>\n",
       "      <td>842</td>\n",
       "      <td>0</td>\n",
       "      <td>2.2</td>\n",
       "      <td>0</td>\n",
       "      <td>1</td>\n",
       "      <td>0</td>\n",
       "      <td>7</td>\n",
       "      <td>0.6</td>\n",
       "      <td>188</td>\n",
       "      <td>2</td>\n",
       "      <td>...</td>\n",
       "      <td>20</td>\n",
       "      <td>756</td>\n",
       "      <td>2549</td>\n",
       "      <td>9</td>\n",
       "      <td>7</td>\n",
       "      <td>19</td>\n",
       "      <td>0</td>\n",
       "      <td>0</td>\n",
       "      <td>1</td>\n",
       "      <td>1</td>\n",
       "    </tr>\n",
       "    <tr>\n",
       "      <th>1</th>\n",
       "      <td>1021</td>\n",
       "      <td>1</td>\n",
       "      <td>0.5</td>\n",
       "      <td>1</td>\n",
       "      <td>0</td>\n",
       "      <td>1</td>\n",
       "      <td>53</td>\n",
       "      <td>0.7</td>\n",
       "      <td>136</td>\n",
       "      <td>3</td>\n",
       "      <td>...</td>\n",
       "      <td>905</td>\n",
       "      <td>1988</td>\n",
       "      <td>2631</td>\n",
       "      <td>17</td>\n",
       "      <td>3</td>\n",
       "      <td>7</td>\n",
       "      <td>1</td>\n",
       "      <td>1</td>\n",
       "      <td>0</td>\n",
       "      <td>2</td>\n",
       "    </tr>\n",
       "    <tr>\n",
       "      <th>2</th>\n",
       "      <td>563</td>\n",
       "      <td>1</td>\n",
       "      <td>0.5</td>\n",
       "      <td>1</td>\n",
       "      <td>2</td>\n",
       "      <td>1</td>\n",
       "      <td>41</td>\n",
       "      <td>0.9</td>\n",
       "      <td>145</td>\n",
       "      <td>5</td>\n",
       "      <td>...</td>\n",
       "      <td>1263</td>\n",
       "      <td>1716</td>\n",
       "      <td>2603</td>\n",
       "      <td>11</td>\n",
       "      <td>2</td>\n",
       "      <td>9</td>\n",
       "      <td>1</td>\n",
       "      <td>1</td>\n",
       "      <td>0</td>\n",
       "      <td>2</td>\n",
       "    </tr>\n",
       "    <tr>\n",
       "      <th>3</th>\n",
       "      <td>615</td>\n",
       "      <td>1</td>\n",
       "      <td>2.5</td>\n",
       "      <td>0</td>\n",
       "      <td>0</td>\n",
       "      <td>0</td>\n",
       "      <td>10</td>\n",
       "      <td>0.8</td>\n",
       "      <td>131</td>\n",
       "      <td>6</td>\n",
       "      <td>...</td>\n",
       "      <td>1216</td>\n",
       "      <td>1786</td>\n",
       "      <td>2769</td>\n",
       "      <td>16</td>\n",
       "      <td>8</td>\n",
       "      <td>11</td>\n",
       "      <td>1</td>\n",
       "      <td>0</td>\n",
       "      <td>0</td>\n",
       "      <td>2</td>\n",
       "    </tr>\n",
       "    <tr>\n",
       "      <th>4</th>\n",
       "      <td>1821</td>\n",
       "      <td>1</td>\n",
       "      <td>1.2</td>\n",
       "      <td>0</td>\n",
       "      <td>13</td>\n",
       "      <td>1</td>\n",
       "      <td>44</td>\n",
       "      <td>0.6</td>\n",
       "      <td>141</td>\n",
       "      <td>2</td>\n",
       "      <td>...</td>\n",
       "      <td>1208</td>\n",
       "      <td>1212</td>\n",
       "      <td>1411</td>\n",
       "      <td>8</td>\n",
       "      <td>2</td>\n",
       "      <td>15</td>\n",
       "      <td>1</td>\n",
       "      <td>1</td>\n",
       "      <td>0</td>\n",
       "      <td>1</td>\n",
       "    </tr>\n",
       "  </tbody>\n",
       "</table>\n",
       "<p>5 rows × 21 columns</p>\n",
       "</div>"
      ],
      "text/plain": [
       "   battery_power  blue  clock_speed  dual_sim  fc  four_g  int_memory  m_dep  \\\n",
       "0            842     0          2.2         0   1       0           7    0.6   \n",
       "1           1021     1          0.5         1   0       1          53    0.7   \n",
       "2            563     1          0.5         1   2       1          41    0.9   \n",
       "3            615     1          2.5         0   0       0          10    0.8   \n",
       "4           1821     1          1.2         0  13       1          44    0.6   \n",
       "\n",
       "   mobile_wt  n_cores  ...  px_height  px_width   ram  sc_h  sc_w  talk_time  \\\n",
       "0        188        2  ...         20       756  2549     9     7         19   \n",
       "1        136        3  ...        905      1988  2631    17     3          7   \n",
       "2        145        5  ...       1263      1716  2603    11     2          9   \n",
       "3        131        6  ...       1216      1786  2769    16     8         11   \n",
       "4        141        2  ...       1208      1212  1411     8     2         15   \n",
       "\n",
       "   three_g  touch_screen  wifi  price_range  \n",
       "0        0             0     1            1  \n",
       "1        1             1     0            2  \n",
       "2        1             1     0            2  \n",
       "3        1             0     0            2  \n",
       "4        1             1     0            1  \n",
       "\n",
       "[5 rows x 21 columns]"
      ]
     },
     "execution_count": 3,
     "metadata": {},
     "output_type": "execute_result"
    }
   ],
   "source": [
    "from sklearn import ensemble\n",
    "from sklearn import metrics\n",
    "from sklearn import model_selection\n",
    "\n",
    "# read the training data\n",
    "df = pd.read_csv(\"./data/mobile_train.csv\")\n",
    "# features are all columns without price_range\n",
    "# note that there is no id column in this dataset\n",
    "\n",
    "df.head()"
   ]
  },
  {
   "cell_type": "code",
   "execution_count": 4,
   "metadata": {},
   "outputs": [],
   "source": [
    "# here we have training features\n",
    "X = df.drop(\"price_range\", axis=1).values\n",
    "# and the targets\n",
    "y = df.price_range.values"
   ]
  },
  {
   "cell_type": "code",
   "execution_count": 5,
   "metadata": {},
   "outputs": [],
   "source": [
    "# define the model here\n",
    "# i am using random forest with n_jobs=-1\n",
    "# n_jobs=-1 => use all cores\n",
    "\n",
    "classifier = ensemble.RandomForestClassifier(n_jobs=-1, random_state=2022)"
   ]
  },
  {
   "cell_type": "code",
   "execution_count": 6,
   "metadata": {},
   "outputs": [],
   "source": [
    "# define a grid of parameters\n",
    "# this can be a dictionary or a list of dictionaries\n",
    "\n",
    "param_grid = {\n",
    "    \"n_estimators\": [100, 200, 250, 300, 400, 500],\n",
    "    \"max_depth\": [1, 2, 5, 7, 11, 15],\n",
    "    \"criterion\": [\"gini\", \"entropy\"]\n",
    "}"
   ]
  },
  {
   "cell_type": "markdown",
   "metadata": {},
   "source": [
    "#### GrideSearch"
   ]
  },
  {
   "cell_type": "code",
   "execution_count": 7,
   "metadata": {},
   "outputs": [],
   "source": [
    "# initialize grid search\n",
    "# estimator is the model that we have defined\n",
    "# param_grid is the grid of parameters\n",
    "# we use accuracy as our metric. you can define your own\n",
    "# higher value of verbose implies a lot of details are printed\n",
    "# cv=5 means that we are using 5 fold cv (not stratified)\n",
    "\n",
    "model = model_selection.GridSearchCV(\n",
    "    estimator=classifier,\n",
    "    param_grid=param_grid,\n",
    "    scoring=\"accuracy\",\n",
    "    verbose=10,\n",
    "    n_jobs=1,\n",
    "    cv=5\n",
    ")"
   ]
  },
  {
   "cell_type": "code",
   "execution_count": 8,
   "metadata": {},
   "outputs": [
    {
     "name": "stdout",
     "output_type": "stream",
     "text": [
      "Fitting 5 folds for each of 72 candidates, totalling 360 fits\n",
      "[CV 1/5; 1/72] START criterion=gini, max_depth=1, n_estimators=100..............\n",
      "[CV 1/5; 1/72] END criterion=gini, max_depth=1, n_estimators=100;, score=0.568 total time=   6.7s\n",
      "[CV 2/5; 1/72] START criterion=gini, max_depth=1, n_estimators=100..............\n",
      "[CV 2/5; 1/72] END criterion=gini, max_depth=1, n_estimators=100;, score=0.562 total time=   0.0s\n",
      "[CV 3/5; 1/72] START criterion=gini, max_depth=1, n_estimators=100..............\n",
      "[CV 3/5; 1/72] END criterion=gini, max_depth=1, n_estimators=100;, score=0.580 total time=   0.0s\n",
      "[CV 4/5; 1/72] START criterion=gini, max_depth=1, n_estimators=100..............\n",
      "[CV 4/5; 1/72] END criterion=gini, max_depth=1, n_estimators=100;, score=0.593 total time=   0.0s\n",
      "[CV 5/5; 1/72] START criterion=gini, max_depth=1, n_estimators=100..............\n",
      "[CV 5/5; 1/72] END criterion=gini, max_depth=1, n_estimators=100;, score=0.627 total time=   0.0s\n",
      "[CV 1/5; 2/72] START criterion=gini, max_depth=1, n_estimators=200..............\n",
      "[CV 1/5; 2/72] END criterion=gini, max_depth=1, n_estimators=200;, score=0.590 total time=   0.1s\n",
      "[CV 2/5; 2/72] START criterion=gini, max_depth=1, n_estimators=200..............\n",
      "[CV 2/5; 2/72] END criterion=gini, max_depth=1, n_estimators=200;, score=0.578 total time=   0.1s\n",
      "[CV 3/5; 2/72] START criterion=gini, max_depth=1, n_estimators=200..............\n",
      "[CV 3/5; 2/72] END criterion=gini, max_depth=1, n_estimators=200;, score=0.615 total time=   0.1s\n",
      "[CV 4/5; 2/72] START criterion=gini, max_depth=1, n_estimators=200..............\n",
      "[CV 4/5; 2/72] END criterion=gini, max_depth=1, n_estimators=200;, score=0.568 total time=   0.1s\n",
      "[CV 5/5; 2/72] START criterion=gini, max_depth=1, n_estimators=200..............\n",
      "[CV 5/5; 2/72] END criterion=gini, max_depth=1, n_estimators=200;, score=0.588 total time=   0.1s\n",
      "[CV 1/5; 3/72] START criterion=gini, max_depth=1, n_estimators=250..............\n",
      "[CV 1/5; 3/72] END criterion=gini, max_depth=1, n_estimators=250;, score=0.595 total time=   0.1s\n",
      "[CV 2/5; 3/72] START criterion=gini, max_depth=1, n_estimators=250..............\n",
      "[CV 2/5; 3/72] END criterion=gini, max_depth=1, n_estimators=250;, score=0.580 total time=   0.1s\n",
      "[CV 3/5; 3/72] START criterion=gini, max_depth=1, n_estimators=250..............\n",
      "[CV 3/5; 3/72] END criterion=gini, max_depth=1, n_estimators=250;, score=0.608 total time=   0.1s\n",
      "[CV 4/5; 3/72] START criterion=gini, max_depth=1, n_estimators=250..............\n",
      "[CV 4/5; 3/72] END criterion=gini, max_depth=1, n_estimators=250;, score=0.562 total time=   0.1s\n",
      "[CV 5/5; 3/72] START criterion=gini, max_depth=1, n_estimators=250..............\n",
      "[CV 5/5; 3/72] END criterion=gini, max_depth=1, n_estimators=250;, score=0.590 total time=   0.1s\n",
      "[CV 1/5; 4/72] START criterion=gini, max_depth=1, n_estimators=300..............\n",
      "[CV 1/5; 4/72] END criterion=gini, max_depth=1, n_estimators=300;, score=0.598 total time=   0.1s\n",
      "[CV 2/5; 4/72] START criterion=gini, max_depth=1, n_estimators=300..............\n",
      "[CV 2/5; 4/72] END criterion=gini, max_depth=1, n_estimators=300;, score=0.588 total time=   0.2s\n",
      "[CV 3/5; 4/72] START criterion=gini, max_depth=1, n_estimators=300..............\n",
      "[CV 3/5; 4/72] END criterion=gini, max_depth=1, n_estimators=300;, score=0.615 total time=   0.2s\n",
      "[CV 4/5; 4/72] START criterion=gini, max_depth=1, n_estimators=300..............\n",
      "[CV 4/5; 4/72] END criterion=gini, max_depth=1, n_estimators=300;, score=0.570 total time=   0.2s\n",
      "[CV 5/5; 4/72] START criterion=gini, max_depth=1, n_estimators=300..............\n",
      "[CV 5/5; 4/72] END criterion=gini, max_depth=1, n_estimators=300;, score=0.585 total time=   0.2s\n",
      "[CV 1/5; 5/72] START criterion=gini, max_depth=1, n_estimators=400..............\n",
      "[CV 1/5; 5/72] END criterion=gini, max_depth=1, n_estimators=400;, score=0.588 total time=   0.2s\n",
      "[CV 2/5; 5/72] START criterion=gini, max_depth=1, n_estimators=400..............\n",
      "[CV 2/5; 5/72] END criterion=gini, max_depth=1, n_estimators=400;, score=0.613 total time=   0.2s\n",
      "[CV 3/5; 5/72] START criterion=gini, max_depth=1, n_estimators=400..............\n",
      "[CV 3/5; 5/72] END criterion=gini, max_depth=1, n_estimators=400;, score=0.613 total time=   0.2s\n",
      "[CV 4/5; 5/72] START criterion=gini, max_depth=1, n_estimators=400..............\n",
      "[CV 4/5; 5/72] END criterion=gini, max_depth=1, n_estimators=400;, score=0.580 total time=   0.2s\n",
      "[CV 5/5; 5/72] START criterion=gini, max_depth=1, n_estimators=400..............\n",
      "[CV 5/5; 5/72] END criterion=gini, max_depth=1, n_estimators=400;, score=0.585 total time=   0.2s\n",
      "[CV 1/5; 6/72] START criterion=gini, max_depth=1, n_estimators=500..............\n",
      "[CV 1/5; 6/72] END criterion=gini, max_depth=1, n_estimators=500;, score=0.578 total time=   0.2s\n",
      "[CV 2/5; 6/72] START criterion=gini, max_depth=1, n_estimators=500..............\n",
      "[CV 2/5; 6/72] END criterion=gini, max_depth=1, n_estimators=500;, score=0.600 total time=   0.2s\n",
      "[CV 3/5; 6/72] START criterion=gini, max_depth=1, n_estimators=500..............\n",
      "[CV 3/5; 6/72] END criterion=gini, max_depth=1, n_estimators=500;, score=0.613 total time=   0.2s\n",
      "[CV 4/5; 6/72] START criterion=gini, max_depth=1, n_estimators=500..............\n",
      "[CV 4/5; 6/72] END criterion=gini, max_depth=1, n_estimators=500;, score=0.562 total time=   0.2s\n",
      "[CV 5/5; 6/72] START criterion=gini, max_depth=1, n_estimators=500..............\n",
      "[CV 5/5; 6/72] END criterion=gini, max_depth=1, n_estimators=500;, score=0.573 total time=   0.2s\n",
      "[CV 1/5; 7/72] START criterion=gini, max_depth=2, n_estimators=100..............\n",
      "[CV 1/5; 7/72] END criterion=gini, max_depth=2, n_estimators=100;, score=0.743 total time=   0.0s\n",
      "[CV 2/5; 7/72] START criterion=gini, max_depth=2, n_estimators=100..............\n",
      "[CV 2/5; 7/72] END criterion=gini, max_depth=2, n_estimators=100;, score=0.728 total time=   0.0s\n",
      "[CV 3/5; 7/72] START criterion=gini, max_depth=2, n_estimators=100..............\n",
      "[CV 3/5; 7/72] END criterion=gini, max_depth=2, n_estimators=100;, score=0.770 total time=   0.0s\n",
      "[CV 4/5; 7/72] START criterion=gini, max_depth=2, n_estimators=100..............\n",
      "[CV 4/5; 7/72] END criterion=gini, max_depth=2, n_estimators=100;, score=0.748 total time=   0.0s\n",
      "[CV 5/5; 7/72] START criterion=gini, max_depth=2, n_estimators=100..............\n",
      "[CV 5/5; 7/72] END criterion=gini, max_depth=2, n_estimators=100;, score=0.782 total time=   0.0s\n",
      "[CV 1/5; 8/72] START criterion=gini, max_depth=2, n_estimators=200..............\n",
      "[CV 1/5; 8/72] END criterion=gini, max_depth=2, n_estimators=200;, score=0.772 total time=   0.1s\n",
      "[CV 2/5; 8/72] START criterion=gini, max_depth=2, n_estimators=200..............\n",
      "[CV 2/5; 8/72] END criterion=gini, max_depth=2, n_estimators=200;, score=0.725 total time=   0.1s\n",
      "[CV 3/5; 8/72] START criterion=gini, max_depth=2, n_estimators=200..............\n",
      "[CV 3/5; 8/72] END criterion=gini, max_depth=2, n_estimators=200;, score=0.797 total time=   0.1s\n",
      "[CV 4/5; 8/72] START criterion=gini, max_depth=2, n_estimators=200..............\n",
      "[CV 4/5; 8/72] END criterion=gini, max_depth=2, n_estimators=200;, score=0.782 total time=   0.1s\n",
      "[CV 5/5; 8/72] START criterion=gini, max_depth=2, n_estimators=200..............\n",
      "[CV 5/5; 8/72] END criterion=gini, max_depth=2, n_estimators=200;, score=0.775 total time=   0.1s\n",
      "[CV 1/5; 9/72] START criterion=gini, max_depth=2, n_estimators=250..............\n",
      "[CV 1/5; 9/72] END criterion=gini, max_depth=2, n_estimators=250;, score=0.782 total time=   0.1s\n",
      "[CV 2/5; 9/72] START criterion=gini, max_depth=2, n_estimators=250..............\n",
      "[CV 2/5; 9/72] END criterion=gini, max_depth=2, n_estimators=250;, score=0.740 total time=   0.1s\n",
      "[CV 3/5; 9/72] START criterion=gini, max_depth=2, n_estimators=250..............\n",
      "[CV 3/5; 9/72] END criterion=gini, max_depth=2, n_estimators=250;, score=0.805 total time=   0.1s\n",
      "[CV 4/5; 9/72] START criterion=gini, max_depth=2, n_estimators=250..............\n",
      "[CV 4/5; 9/72] END criterion=gini, max_depth=2, n_estimators=250;, score=0.790 total time=   0.1s\n",
      "[CV 5/5; 9/72] START criterion=gini, max_depth=2, n_estimators=250..............\n",
      "[CV 5/5; 9/72] END criterion=gini, max_depth=2, n_estimators=250;, score=0.782 total time=   0.1s\n",
      "[CV 1/5; 10/72] START criterion=gini, max_depth=2, n_estimators=300.............\n",
      "[CV 1/5; 10/72] END criterion=gini, max_depth=2, n_estimators=300;, score=0.777 total time=   0.1s\n",
      "[CV 2/5; 10/72] START criterion=gini, max_depth=2, n_estimators=300.............\n",
      "[CV 2/5; 10/72] END criterion=gini, max_depth=2, n_estimators=300;, score=0.735 total time=   0.1s\n",
      "[CV 3/5; 10/72] START criterion=gini, max_depth=2, n_estimators=300.............\n",
      "[CV 3/5; 10/72] END criterion=gini, max_depth=2, n_estimators=300;, score=0.797 total time=   0.1s\n",
      "[CV 4/5; 10/72] START criterion=gini, max_depth=2, n_estimators=300.............\n",
      "[CV 4/5; 10/72] END criterion=gini, max_depth=2, n_estimators=300;, score=0.780 total time=   0.2s\n",
      "[CV 5/5; 10/72] START criterion=gini, max_depth=2, n_estimators=300.............\n",
      "[CV 5/5; 10/72] END criterion=gini, max_depth=2, n_estimators=300;, score=0.785 total time=   0.2s\n",
      "[CV 1/5; 11/72] START criterion=gini, max_depth=2, n_estimators=400.............\n",
      "[CV 1/5; 11/72] END criterion=gini, max_depth=2, n_estimators=400;, score=0.772 total time=   0.2s\n",
      "[CV 2/5; 11/72] START criterion=gini, max_depth=2, n_estimators=400.............\n",
      "[CV 2/5; 11/72] END criterion=gini, max_depth=2, n_estimators=400;, score=0.733 total time=   0.2s\n",
      "[CV 3/5; 11/72] START criterion=gini, max_depth=2, n_estimators=400.............\n",
      "[CV 3/5; 11/72] END criterion=gini, max_depth=2, n_estimators=400;, score=0.795 total time=   0.2s\n",
      "[CV 4/5; 11/72] START criterion=gini, max_depth=2, n_estimators=400.............\n",
      "[CV 4/5; 11/72] END criterion=gini, max_depth=2, n_estimators=400;, score=0.772 total time=   0.2s\n",
      "[CV 5/5; 11/72] START criterion=gini, max_depth=2, n_estimators=400.............\n",
      "[CV 5/5; 11/72] END criterion=gini, max_depth=2, n_estimators=400;, score=0.785 total time=   0.2s\n",
      "[CV 1/5; 12/72] START criterion=gini, max_depth=2, n_estimators=500.............\n",
      "[CV 1/5; 12/72] END criterion=gini, max_depth=2, n_estimators=500;, score=0.772 total time=   0.2s\n",
      "[CV 2/5; 12/72] START criterion=gini, max_depth=2, n_estimators=500.............\n",
      "[CV 2/5; 12/72] END criterion=gini, max_depth=2, n_estimators=500;, score=0.735 total time=   0.2s\n",
      "[CV 3/5; 12/72] START criterion=gini, max_depth=2, n_estimators=500.............\n",
      "[CV 3/5; 12/72] END criterion=gini, max_depth=2, n_estimators=500;, score=0.787 total time=   0.2s\n",
      "[CV 4/5; 12/72] START criterion=gini, max_depth=2, n_estimators=500.............\n",
      "[CV 4/5; 12/72] END criterion=gini, max_depth=2, n_estimators=500;, score=0.765 total time=   0.2s\n",
      "[CV 5/5; 12/72] START criterion=gini, max_depth=2, n_estimators=500.............\n",
      "[CV 5/5; 12/72] END criterion=gini, max_depth=2, n_estimators=500;, score=0.780 total time=   0.2s\n",
      "[CV 1/5; 13/72] START criterion=gini, max_depth=5, n_estimators=100.............\n",
      "[CV 1/5; 13/72] END criterion=gini, max_depth=5, n_estimators=100;, score=0.833 total time=   0.0s\n",
      "[CV 2/5; 13/72] START criterion=gini, max_depth=5, n_estimators=100.............\n",
      "[CV 2/5; 13/72] END criterion=gini, max_depth=5, n_estimators=100;, score=0.823 total time=   0.0s\n",
      "[CV 3/5; 13/72] START criterion=gini, max_depth=5, n_estimators=100.............\n",
      "[CV 3/5; 13/72] END criterion=gini, max_depth=5, n_estimators=100;, score=0.873 total time=   0.0s\n",
      "[CV 4/5; 13/72] START criterion=gini, max_depth=5, n_estimators=100.............\n",
      "[CV 4/5; 13/72] END criterion=gini, max_depth=5, n_estimators=100;, score=0.838 total time=   0.0s\n",
      "[CV 5/5; 13/72] START criterion=gini, max_depth=5, n_estimators=100.............\n",
      "[CV 5/5; 13/72] END criterion=gini, max_depth=5, n_estimators=100;, score=0.802 total time=   0.0s\n",
      "[CV 1/5; 14/72] START criterion=gini, max_depth=5, n_estimators=200.............\n",
      "[CV 1/5; 14/72] END criterion=gini, max_depth=5, n_estimators=200;, score=0.838 total time=   0.1s\n",
      "[CV 2/5; 14/72] START criterion=gini, max_depth=5, n_estimators=200.............\n",
      "[CV 2/5; 14/72] END criterion=gini, max_depth=5, n_estimators=200;, score=0.825 total time=   0.1s\n",
      "[CV 3/5; 14/72] START criterion=gini, max_depth=5, n_estimators=200.............\n",
      "[CV 3/5; 14/72] END criterion=gini, max_depth=5, n_estimators=200;, score=0.868 total time=   0.1s\n",
      "[CV 4/5; 14/72] START criterion=gini, max_depth=5, n_estimators=200.............\n",
      "[CV 4/5; 14/72] END criterion=gini, max_depth=5, n_estimators=200;, score=0.833 total time=   0.1s\n",
      "[CV 5/5; 14/72] START criterion=gini, max_depth=5, n_estimators=200.............\n",
      "[CV 5/5; 14/72] END criterion=gini, max_depth=5, n_estimators=200;, score=0.812 total time=   0.1s\n",
      "[CV 1/5; 15/72] START criterion=gini, max_depth=5, n_estimators=250.............\n",
      "[CV 1/5; 15/72] END criterion=gini, max_depth=5, n_estimators=250;, score=0.840 total time=   0.1s\n",
      "[CV 2/5; 15/72] START criterion=gini, max_depth=5, n_estimators=250.............\n",
      "[CV 2/5; 15/72] END criterion=gini, max_depth=5, n_estimators=250;, score=0.835 total time=   0.1s\n",
      "[CV 3/5; 15/72] START criterion=gini, max_depth=5, n_estimators=250.............\n",
      "[CV 3/5; 15/72] END criterion=gini, max_depth=5, n_estimators=250;, score=0.863 total time=   0.1s\n",
      "[CV 4/5; 15/72] START criterion=gini, max_depth=5, n_estimators=250.............\n",
      "[CV 4/5; 15/72] END criterion=gini, max_depth=5, n_estimators=250;, score=0.840 total time=   0.1s\n",
      "[CV 5/5; 15/72] START criterion=gini, max_depth=5, n_estimators=250.............\n",
      "[CV 5/5; 15/72] END criterion=gini, max_depth=5, n_estimators=250;, score=0.815 total time=   0.1s\n",
      "[CV 1/5; 16/72] START criterion=gini, max_depth=5, n_estimators=300.............\n",
      "[CV 1/5; 16/72] END criterion=gini, max_depth=5, n_estimators=300;, score=0.835 total time=   0.2s\n",
      "[CV 2/5; 16/72] START criterion=gini, max_depth=5, n_estimators=300.............\n",
      "[CV 2/5; 16/72] END criterion=gini, max_depth=5, n_estimators=300;, score=0.835 total time=   0.2s\n",
      "[CV 3/5; 16/72] START criterion=gini, max_depth=5, n_estimators=300.............\n",
      "[CV 3/5; 16/72] END criterion=gini, max_depth=5, n_estimators=300;, score=0.858 total time=   0.2s\n",
      "[CV 4/5; 16/72] START criterion=gini, max_depth=5, n_estimators=300.............\n",
      "[CV 4/5; 16/72] END criterion=gini, max_depth=5, n_estimators=300;, score=0.840 total time=   0.2s\n",
      "[CV 5/5; 16/72] START criterion=gini, max_depth=5, n_estimators=300.............\n",
      "[CV 5/5; 16/72] END criterion=gini, max_depth=5, n_estimators=300;, score=0.820 total time=   0.1s\n",
      "[CV 1/5; 17/72] START criterion=gini, max_depth=5, n_estimators=400.............\n",
      "[CV 1/5; 17/72] END criterion=gini, max_depth=5, n_estimators=400;, score=0.830 total time=   0.2s\n",
      "[CV 2/5; 17/72] START criterion=gini, max_depth=5, n_estimators=400.............\n",
      "[CV 2/5; 17/72] END criterion=gini, max_depth=5, n_estimators=400;, score=0.845 total time=   0.2s\n",
      "[CV 3/5; 17/72] START criterion=gini, max_depth=5, n_estimators=400.............\n",
      "[CV 3/5; 17/72] END criterion=gini, max_depth=5, n_estimators=400;, score=0.858 total time=   0.2s\n",
      "[CV 4/5; 17/72] START criterion=gini, max_depth=5, n_estimators=400.............\n",
      "[CV 4/5; 17/72] END criterion=gini, max_depth=5, n_estimators=400;, score=0.838 total time=   0.2s\n",
      "[CV 5/5; 17/72] START criterion=gini, max_depth=5, n_estimators=400.............\n",
      "[CV 5/5; 17/72] END criterion=gini, max_depth=5, n_estimators=400;, score=0.823 total time=   0.2s\n",
      "[CV 1/5; 18/72] START criterion=gini, max_depth=5, n_estimators=500.............\n",
      "[CV 1/5; 18/72] END criterion=gini, max_depth=5, n_estimators=500;, score=0.825 total time=   0.2s\n",
      "[CV 2/5; 18/72] START criterion=gini, max_depth=5, n_estimators=500.............\n",
      "[CV 2/5; 18/72] END criterion=gini, max_depth=5, n_estimators=500;, score=0.835 total time=   0.2s\n",
      "[CV 3/5; 18/72] START criterion=gini, max_depth=5, n_estimators=500.............\n",
      "[CV 3/5; 18/72] END criterion=gini, max_depth=5, n_estimators=500;, score=0.868 total time=   0.2s\n",
      "[CV 4/5; 18/72] START criterion=gini, max_depth=5, n_estimators=500.............\n",
      "[CV 4/5; 18/72] END criterion=gini, max_depth=5, n_estimators=500;, score=0.838 total time=   0.2s\n",
      "[CV 5/5; 18/72] START criterion=gini, max_depth=5, n_estimators=500.............\n",
      "[CV 5/5; 18/72] END criterion=gini, max_depth=5, n_estimators=500;, score=0.828 total time=   0.3s\n",
      "[CV 1/5; 19/72] START criterion=gini, max_depth=7, n_estimators=100.............\n",
      "[CV 1/5; 19/72] END criterion=gini, max_depth=7, n_estimators=100;, score=0.850 total time=   0.0s\n",
      "[CV 2/5; 19/72] START criterion=gini, max_depth=7, n_estimators=100.............\n",
      "[CV 2/5; 19/72] END criterion=gini, max_depth=7, n_estimators=100;, score=0.865 total time=   0.0s\n",
      "[CV 3/5; 19/72] START criterion=gini, max_depth=7, n_estimators=100.............\n",
      "[CV 3/5; 19/72] END criterion=gini, max_depth=7, n_estimators=100;, score=0.882 total time=   0.0s\n",
      "[CV 4/5; 19/72] START criterion=gini, max_depth=7, n_estimators=100.............\n",
      "[CV 4/5; 19/72] END criterion=gini, max_depth=7, n_estimators=100;, score=0.863 total time=   0.0s\n",
      "[CV 5/5; 19/72] START criterion=gini, max_depth=7, n_estimators=100.............\n",
      "[CV 5/5; 19/72] END criterion=gini, max_depth=7, n_estimators=100;, score=0.825 total time=   0.0s\n",
      "[CV 1/5; 20/72] START criterion=gini, max_depth=7, n_estimators=200.............\n",
      "[CV 1/5; 20/72] END criterion=gini, max_depth=7, n_estimators=200;, score=0.860 total time=   0.1s\n",
      "[CV 2/5; 20/72] START criterion=gini, max_depth=7, n_estimators=200.............\n",
      "[CV 2/5; 20/72] END criterion=gini, max_depth=7, n_estimators=200;, score=0.858 total time=   0.1s\n",
      "[CV 3/5; 20/72] START criterion=gini, max_depth=7, n_estimators=200.............\n",
      "[CV 3/5; 20/72] END criterion=gini, max_depth=7, n_estimators=200;, score=0.897 total time=   0.1s\n",
      "[CV 4/5; 20/72] START criterion=gini, max_depth=7, n_estimators=200.............\n",
      "[CV 4/5; 20/72] END criterion=gini, max_depth=7, n_estimators=200;, score=0.855 total time=   0.1s\n",
      "[CV 5/5; 20/72] START criterion=gini, max_depth=7, n_estimators=200.............\n",
      "[CV 5/5; 20/72] END criterion=gini, max_depth=7, n_estimators=200;, score=0.835 total time=   0.1s\n",
      "[CV 1/5; 21/72] START criterion=gini, max_depth=7, n_estimators=250.............\n",
      "[CV 1/5; 21/72] END criterion=gini, max_depth=7, n_estimators=250;, score=0.860 total time=   0.1s\n",
      "[CV 2/5; 21/72] START criterion=gini, max_depth=7, n_estimators=250.............\n",
      "[CV 2/5; 21/72] END criterion=gini, max_depth=7, n_estimators=250;, score=0.870 total time=   0.1s\n",
      "[CV 3/5; 21/72] START criterion=gini, max_depth=7, n_estimators=250.............\n",
      "[CV 3/5; 21/72] END criterion=gini, max_depth=7, n_estimators=250;, score=0.890 total time=   0.1s\n",
      "[CV 4/5; 21/72] START criterion=gini, max_depth=7, n_estimators=250.............\n",
      "[CV 4/5; 21/72] END criterion=gini, max_depth=7, n_estimators=250;, score=0.855 total time=   0.1s\n",
      "[CV 5/5; 21/72] START criterion=gini, max_depth=7, n_estimators=250.............\n",
      "[CV 5/5; 21/72] END criterion=gini, max_depth=7, n_estimators=250;, score=0.848 total time=   0.1s\n",
      "[CV 1/5; 22/72] START criterion=gini, max_depth=7, n_estimators=300.............\n",
      "[CV 1/5; 22/72] END criterion=gini, max_depth=7, n_estimators=300;, score=0.873 total time=   0.2s\n",
      "[CV 2/5; 22/72] START criterion=gini, max_depth=7, n_estimators=300.............\n",
      "[CV 2/5; 22/72] END criterion=gini, max_depth=7, n_estimators=300;, score=0.868 total time=   0.2s\n",
      "[CV 3/5; 22/72] START criterion=gini, max_depth=7, n_estimators=300.............\n",
      "[CV 3/5; 22/72] END criterion=gini, max_depth=7, n_estimators=300;, score=0.882 total time=   0.2s\n",
      "[CV 4/5; 22/72] START criterion=gini, max_depth=7, n_estimators=300.............\n",
      "[CV 4/5; 22/72] END criterion=gini, max_depth=7, n_estimators=300;, score=0.853 total time=   0.2s\n",
      "[CV 5/5; 22/72] START criterion=gini, max_depth=7, n_estimators=300.............\n",
      "[CV 5/5; 22/72] END criterion=gini, max_depth=7, n_estimators=300;, score=0.835 total time=   0.2s\n",
      "[CV 1/5; 23/72] START criterion=gini, max_depth=7, n_estimators=400.............\n",
      "[CV 1/5; 23/72] END criterion=gini, max_depth=7, n_estimators=400;, score=0.863 total time=   0.2s\n",
      "[CV 2/5; 23/72] START criterion=gini, max_depth=7, n_estimators=400.............\n",
      "[CV 2/5; 23/72] END criterion=gini, max_depth=7, n_estimators=400;, score=0.863 total time=   0.2s\n",
      "[CV 3/5; 23/72] START criterion=gini, max_depth=7, n_estimators=400.............\n",
      "[CV 3/5; 23/72] END criterion=gini, max_depth=7, n_estimators=400;, score=0.882 total time=   0.2s\n",
      "[CV 4/5; 23/72] START criterion=gini, max_depth=7, n_estimators=400.............\n",
      "[CV 4/5; 23/72] END criterion=gini, max_depth=7, n_estimators=400;, score=0.853 total time=   0.2s\n",
      "[CV 5/5; 23/72] START criterion=gini, max_depth=7, n_estimators=400.............\n",
      "[CV 5/5; 23/72] END criterion=gini, max_depth=7, n_estimators=400;, score=0.835 total time=   0.2s\n",
      "[CV 1/5; 24/72] START criterion=gini, max_depth=7, n_estimators=500.............\n",
      "[CV 1/5; 24/72] END criterion=gini, max_depth=7, n_estimators=500;, score=0.868 total time=   0.2s\n",
      "[CV 2/5; 24/72] START criterion=gini, max_depth=7, n_estimators=500.............\n",
      "[CV 2/5; 24/72] END criterion=gini, max_depth=7, n_estimators=500;, score=0.868 total time=   0.3s\n",
      "[CV 3/5; 24/72] START criterion=gini, max_depth=7, n_estimators=500.............\n",
      "[CV 3/5; 24/72] END criterion=gini, max_depth=7, n_estimators=500;, score=0.887 total time=   0.3s\n",
      "[CV 4/5; 24/72] START criterion=gini, max_depth=7, n_estimators=500.............\n",
      "[CV 4/5; 24/72] END criterion=gini, max_depth=7, n_estimators=500;, score=0.855 total time=   0.3s\n",
      "[CV 5/5; 24/72] START criterion=gini, max_depth=7, n_estimators=500.............\n",
      "[CV 5/5; 24/72] END criterion=gini, max_depth=7, n_estimators=500;, score=0.843 total time=   0.2s\n",
      "[CV 1/5; 25/72] START criterion=gini, max_depth=11, n_estimators=100............\n",
      "[CV 1/5; 25/72] END criterion=gini, max_depth=11, n_estimators=100;, score=0.868 total time=   0.0s\n",
      "[CV 2/5; 25/72] START criterion=gini, max_depth=11, n_estimators=100............\n",
      "[CV 2/5; 25/72] END criterion=gini, max_depth=11, n_estimators=100;, score=0.885 total time=   0.0s\n",
      "[CV 3/5; 25/72] START criterion=gini, max_depth=11, n_estimators=100............\n",
      "[CV 3/5; 25/72] END criterion=gini, max_depth=11, n_estimators=100;, score=0.902 total time=   0.0s\n",
      "[CV 4/5; 25/72] START criterion=gini, max_depth=11, n_estimators=100............\n",
      "[CV 4/5; 25/72] END criterion=gini, max_depth=11, n_estimators=100;, score=0.875 total time=   0.0s\n",
      "[CV 5/5; 25/72] START criterion=gini, max_depth=11, n_estimators=100............\n",
      "[CV 5/5; 25/72] END criterion=gini, max_depth=11, n_estimators=100;, score=0.865 total time=   0.0s\n",
      "[CV 1/5; 26/72] START criterion=gini, max_depth=11, n_estimators=200............\n",
      "[CV 1/5; 26/72] END criterion=gini, max_depth=11, n_estimators=200;, score=0.877 total time=   0.1s\n",
      "[CV 2/5; 26/72] START criterion=gini, max_depth=11, n_estimators=200............\n",
      "[CV 2/5; 26/72] END criterion=gini, max_depth=11, n_estimators=200;, score=0.892 total time=   0.1s\n",
      "[CV 3/5; 26/72] START criterion=gini, max_depth=11, n_estimators=200............\n",
      "[CV 3/5; 26/72] END criterion=gini, max_depth=11, n_estimators=200;, score=0.895 total time=   0.1s\n",
      "[CV 4/5; 26/72] START criterion=gini, max_depth=11, n_estimators=200............\n",
      "[CV 4/5; 26/72] END criterion=gini, max_depth=11, n_estimators=200;, score=0.875 total time=   0.1s\n",
      "[CV 5/5; 26/72] START criterion=gini, max_depth=11, n_estimators=200............\n",
      "[CV 5/5; 26/72] END criterion=gini, max_depth=11, n_estimators=200;, score=0.860 total time=   0.1s\n",
      "[CV 1/5; 27/72] START criterion=gini, max_depth=11, n_estimators=250............\n",
      "[CV 1/5; 27/72] END criterion=gini, max_depth=11, n_estimators=250;, score=0.877 total time=   0.1s\n",
      "[CV 2/5; 27/72] START criterion=gini, max_depth=11, n_estimators=250............\n",
      "[CV 2/5; 27/72] END criterion=gini, max_depth=11, n_estimators=250;, score=0.887 total time=   0.1s\n",
      "[CV 3/5; 27/72] START criterion=gini, max_depth=11, n_estimators=250............\n",
      "[CV 3/5; 27/72] END criterion=gini, max_depth=11, n_estimators=250;, score=0.900 total time=   0.1s\n",
      "[CV 4/5; 27/72] START criterion=gini, max_depth=11, n_estimators=250............\n",
      "[CV 4/5; 27/72] END criterion=gini, max_depth=11, n_estimators=250;, score=0.882 total time=   0.1s\n",
      "[CV 5/5; 27/72] START criterion=gini, max_depth=11, n_estimators=250............\n",
      "[CV 5/5; 27/72] END criterion=gini, max_depth=11, n_estimators=250;, score=0.868 total time=   0.1s\n",
      "[CV 1/5; 28/72] START criterion=gini, max_depth=11, n_estimators=300............\n",
      "[CV 1/5; 28/72] END criterion=gini, max_depth=11, n_estimators=300;, score=0.885 total time=   0.2s\n",
      "[CV 2/5; 28/72] START criterion=gini, max_depth=11, n_estimators=300............\n",
      "[CV 2/5; 28/72] END criterion=gini, max_depth=11, n_estimators=300;, score=0.887 total time=   0.2s\n",
      "[CV 3/5; 28/72] START criterion=gini, max_depth=11, n_estimators=300............\n",
      "[CV 3/5; 28/72] END criterion=gini, max_depth=11, n_estimators=300;, score=0.902 total time=   0.2s\n",
      "[CV 4/5; 28/72] START criterion=gini, max_depth=11, n_estimators=300............\n",
      "[CV 4/5; 28/72] END criterion=gini, max_depth=11, n_estimators=300;, score=0.875 total time=   0.2s\n",
      "[CV 5/5; 28/72] START criterion=gini, max_depth=11, n_estimators=300............\n",
      "[CV 5/5; 28/72] END criterion=gini, max_depth=11, n_estimators=300;, score=0.865 total time=   0.2s\n",
      "[CV 1/5; 29/72] START criterion=gini, max_depth=11, n_estimators=400............\n",
      "[CV 1/5; 29/72] END criterion=gini, max_depth=11, n_estimators=400;, score=0.885 total time=   0.2s\n",
      "[CV 2/5; 29/72] START criterion=gini, max_depth=11, n_estimators=400............\n",
      "[CV 2/5; 29/72] END criterion=gini, max_depth=11, n_estimators=400;, score=0.892 total time=   0.2s\n",
      "[CV 3/5; 29/72] START criterion=gini, max_depth=11, n_estimators=400............\n",
      "[CV 3/5; 29/72] END criterion=gini, max_depth=11, n_estimators=400;, score=0.907 total time=   0.2s\n",
      "[CV 4/5; 29/72] START criterion=gini, max_depth=11, n_estimators=400............\n",
      "[CV 4/5; 29/72] END criterion=gini, max_depth=11, n_estimators=400;, score=0.875 total time=   0.2s\n",
      "[CV 5/5; 29/72] START criterion=gini, max_depth=11, n_estimators=400............\n",
      "[CV 5/5; 29/72] END criterion=gini, max_depth=11, n_estimators=400;, score=0.863 total time=   0.2s\n",
      "[CV 1/5; 30/72] START criterion=gini, max_depth=11, n_estimators=500............\n",
      "[CV 1/5; 30/72] END criterion=gini, max_depth=11, n_estimators=500;, score=0.890 total time=   0.3s\n",
      "[CV 2/5; 30/72] START criterion=gini, max_depth=11, n_estimators=500............\n",
      "[CV 2/5; 30/72] END criterion=gini, max_depth=11, n_estimators=500;, score=0.880 total time=   0.3s\n",
      "[CV 3/5; 30/72] START criterion=gini, max_depth=11, n_estimators=500............\n",
      "[CV 3/5; 30/72] END criterion=gini, max_depth=11, n_estimators=500;, score=0.910 total time=   0.3s\n",
      "[CV 4/5; 30/72] START criterion=gini, max_depth=11, n_estimators=500............\n",
      "[CV 4/5; 30/72] END criterion=gini, max_depth=11, n_estimators=500;, score=0.873 total time=   0.3s\n",
      "[CV 5/5; 30/72] START criterion=gini, max_depth=11, n_estimators=500............\n",
      "[CV 5/5; 30/72] END criterion=gini, max_depth=11, n_estimators=500;, score=0.865 total time=   0.3s\n",
      "[CV 1/5; 31/72] START criterion=gini, max_depth=15, n_estimators=100............\n",
      "[CV 1/5; 31/72] END criterion=gini, max_depth=15, n_estimators=100;, score=0.873 total time=   0.0s\n",
      "[CV 2/5; 31/72] START criterion=gini, max_depth=15, n_estimators=100............\n",
      "[CV 2/5; 31/72] END criterion=gini, max_depth=15, n_estimators=100;, score=0.873 total time=   0.0s\n",
      "[CV 3/5; 31/72] START criterion=gini, max_depth=15, n_estimators=100............\n",
      "[CV 3/5; 31/72] END criterion=gini, max_depth=15, n_estimators=100;, score=0.880 total time=   0.0s\n",
      "[CV 4/5; 31/72] START criterion=gini, max_depth=15, n_estimators=100............\n",
      "[CV 4/5; 31/72] END criterion=gini, max_depth=15, n_estimators=100;, score=0.875 total time=   0.0s\n",
      "[CV 5/5; 31/72] START criterion=gini, max_depth=15, n_estimators=100............\n",
      "[CV 5/5; 31/72] END criterion=gini, max_depth=15, n_estimators=100;, score=0.863 total time=   0.0s\n",
      "[CV 1/5; 32/72] START criterion=gini, max_depth=15, n_estimators=200............\n",
      "[CV 1/5; 32/72] END criterion=gini, max_depth=15, n_estimators=200;, score=0.880 total time=   0.1s\n",
      "[CV 2/5; 32/72] START criterion=gini, max_depth=15, n_estimators=200............\n",
      "[CV 2/5; 32/72] END criterion=gini, max_depth=15, n_estimators=200;, score=0.870 total time=   0.1s\n",
      "[CV 3/5; 32/72] START criterion=gini, max_depth=15, n_estimators=200............\n",
      "[CV 3/5; 32/72] END criterion=gini, max_depth=15, n_estimators=200;, score=0.895 total time=   0.1s\n",
      "[CV 4/5; 32/72] START criterion=gini, max_depth=15, n_estimators=200............\n",
      "[CV 4/5; 32/72] END criterion=gini, max_depth=15, n_estimators=200;, score=0.885 total time=   0.1s\n",
      "[CV 5/5; 32/72] START criterion=gini, max_depth=15, n_estimators=200............\n",
      "[CV 5/5; 32/72] END criterion=gini, max_depth=15, n_estimators=200;, score=0.845 total time=   0.1s\n",
      "[CV 1/5; 33/72] START criterion=gini, max_depth=15, n_estimators=250............\n",
      "[CV 1/5; 33/72] END criterion=gini, max_depth=15, n_estimators=250;, score=0.885 total time=   0.1s\n",
      "[CV 2/5; 33/72] START criterion=gini, max_depth=15, n_estimators=250............\n",
      "[CV 2/5; 33/72] END criterion=gini, max_depth=15, n_estimators=250;, score=0.880 total time=   0.1s\n",
      "[CV 3/5; 33/72] START criterion=gini, max_depth=15, n_estimators=250............\n",
      "[CV 3/5; 33/72] END criterion=gini, max_depth=15, n_estimators=250;, score=0.900 total time=   0.1s\n",
      "[CV 4/5; 33/72] START criterion=gini, max_depth=15, n_estimators=250............\n",
      "[CV 4/5; 33/72] END criterion=gini, max_depth=15, n_estimators=250;, score=0.877 total time=   0.1s\n",
      "[CV 5/5; 33/72] START criterion=gini, max_depth=15, n_estimators=250............\n",
      "[CV 5/5; 33/72] END criterion=gini, max_depth=15, n_estimators=250;, score=0.853 total time=   0.1s\n",
      "[CV 1/5; 34/72] START criterion=gini, max_depth=15, n_estimators=300............\n",
      "[CV 1/5; 34/72] END criterion=gini, max_depth=15, n_estimators=300;, score=0.880 total time=   0.2s\n",
      "[CV 2/5; 34/72] START criterion=gini, max_depth=15, n_estimators=300............\n",
      "[CV 2/5; 34/72] END criterion=gini, max_depth=15, n_estimators=300;, score=0.885 total time=   0.2s\n",
      "[CV 3/5; 34/72] START criterion=gini, max_depth=15, n_estimators=300............\n",
      "[CV 3/5; 34/72] END criterion=gini, max_depth=15, n_estimators=300;, score=0.892 total time=   0.2s\n",
      "[CV 4/5; 34/72] START criterion=gini, max_depth=15, n_estimators=300............\n",
      "[CV 4/5; 34/72] END criterion=gini, max_depth=15, n_estimators=300;, score=0.885 total time=   0.2s\n",
      "[CV 5/5; 34/72] START criterion=gini, max_depth=15, n_estimators=300............\n",
      "[CV 5/5; 34/72] END criterion=gini, max_depth=15, n_estimators=300;, score=0.858 total time=   0.2s\n",
      "[CV 1/5; 35/72] START criterion=gini, max_depth=15, n_estimators=400............\n",
      "[CV 1/5; 35/72] END criterion=gini, max_depth=15, n_estimators=400;, score=0.880 total time=   0.3s\n",
      "[CV 2/5; 35/72] START criterion=gini, max_depth=15, n_estimators=400............\n",
      "[CV 2/5; 35/72] END criterion=gini, max_depth=15, n_estimators=400;, score=0.887 total time=   0.3s\n",
      "[CV 3/5; 35/72] START criterion=gini, max_depth=15, n_estimators=400............\n",
      "[CV 3/5; 35/72] END criterion=gini, max_depth=15, n_estimators=400;, score=0.900 total time=   0.2s\n",
      "[CV 4/5; 35/72] START criterion=gini, max_depth=15, n_estimators=400............\n",
      "[CV 4/5; 35/72] END criterion=gini, max_depth=15, n_estimators=400;, score=0.880 total time=   0.3s\n",
      "[CV 5/5; 35/72] START criterion=gini, max_depth=15, n_estimators=400............\n",
      "[CV 5/5; 35/72] END criterion=gini, max_depth=15, n_estimators=400;, score=0.873 total time=   0.2s\n",
      "[CV 1/5; 36/72] START criterion=gini, max_depth=15, n_estimators=500............\n",
      "[CV 1/5; 36/72] END criterion=gini, max_depth=15, n_estimators=500;, score=0.885 total time=   0.3s\n",
      "[CV 2/5; 36/72] START criterion=gini, max_depth=15, n_estimators=500............\n",
      "[CV 2/5; 36/72] END criterion=gini, max_depth=15, n_estimators=500;, score=0.895 total time=   0.4s\n",
      "[CV 3/5; 36/72] START criterion=gini, max_depth=15, n_estimators=500............\n",
      "[CV 3/5; 36/72] END criterion=gini, max_depth=15, n_estimators=500;, score=0.897 total time=   0.3s\n",
      "[CV 4/5; 36/72] START criterion=gini, max_depth=15, n_estimators=500............\n",
      "[CV 4/5; 36/72] END criterion=gini, max_depth=15, n_estimators=500;, score=0.882 total time=   0.3s\n",
      "[CV 5/5; 36/72] START criterion=gini, max_depth=15, n_estimators=500............\n",
      "[CV 5/5; 36/72] END criterion=gini, max_depth=15, n_estimators=500;, score=0.860 total time=   0.3s\n",
      "[CV 1/5; 37/72] START criterion=entropy, max_depth=1, n_estimators=100..........\n",
      "[CV 1/5; 37/72] END criterion=entropy, max_depth=1, n_estimators=100;, score=0.575 total time=   0.0s\n",
      "[CV 2/5; 37/72] START criterion=entropy, max_depth=1, n_estimators=100..........\n",
      "[CV 2/5; 37/72] END criterion=entropy, max_depth=1, n_estimators=100;, score=0.540 total time=   0.0s\n",
      "[CV 3/5; 37/72] START criterion=entropy, max_depth=1, n_estimators=100..........\n",
      "[CV 3/5; 37/72] END criterion=entropy, max_depth=1, n_estimators=100;, score=0.547 total time=   0.0s\n",
      "[CV 4/5; 37/72] START criterion=entropy, max_depth=1, n_estimators=100..........\n",
      "[CV 4/5; 37/72] END criterion=entropy, max_depth=1, n_estimators=100;, score=0.550 total time=   0.0s\n",
      "[CV 5/5; 37/72] START criterion=entropy, max_depth=1, n_estimators=100..........\n",
      "[CV 5/5; 37/72] END criterion=entropy, max_depth=1, n_estimators=100;, score=0.540 total time=   0.0s\n",
      "[CV 1/5; 38/72] START criterion=entropy, max_depth=1, n_estimators=200..........\n",
      "[CV 1/5; 38/72] END criterion=entropy, max_depth=1, n_estimators=200;, score=0.555 total time=   0.1s\n",
      "[CV 2/5; 38/72] START criterion=entropy, max_depth=1, n_estimators=200..........\n",
      "[CV 2/5; 38/72] END criterion=entropy, max_depth=1, n_estimators=200;, score=0.545 total time=   0.1s\n",
      "[CV 3/5; 38/72] START criterion=entropy, max_depth=1, n_estimators=200..........\n",
      "[CV 3/5; 38/72] END criterion=entropy, max_depth=1, n_estimators=200;, score=0.547 total time=   0.1s\n",
      "[CV 4/5; 38/72] START criterion=entropy, max_depth=1, n_estimators=200..........\n",
      "[CV 4/5; 38/72] END criterion=entropy, max_depth=1, n_estimators=200;, score=0.537 total time=   0.1s\n",
      "[CV 5/5; 38/72] START criterion=entropy, max_depth=1, n_estimators=200..........\n",
      "[CV 5/5; 38/72] END criterion=entropy, max_depth=1, n_estimators=200;, score=0.547 total time=   0.1s\n",
      "[CV 1/5; 39/72] START criterion=entropy, max_depth=1, n_estimators=250..........\n",
      "[CV 1/5; 39/72] END criterion=entropy, max_depth=1, n_estimators=250;, score=0.568 total time=   0.1s\n",
      "[CV 2/5; 39/72] START criterion=entropy, max_depth=1, n_estimators=250..........\n",
      "[CV 2/5; 39/72] END criterion=entropy, max_depth=1, n_estimators=250;, score=0.560 total time=   0.1s\n",
      "[CV 3/5; 39/72] START criterion=entropy, max_depth=1, n_estimators=250..........\n",
      "[CV 3/5; 39/72] END criterion=entropy, max_depth=1, n_estimators=250;, score=0.555 total time=   0.1s\n",
      "[CV 4/5; 39/72] START criterion=entropy, max_depth=1, n_estimators=250..........\n",
      "[CV 4/5; 39/72] END criterion=entropy, max_depth=1, n_estimators=250;, score=0.550 total time=   0.1s\n",
      "[CV 5/5; 39/72] START criterion=entropy, max_depth=1, n_estimators=250..........\n",
      "[CV 5/5; 39/72] END criterion=entropy, max_depth=1, n_estimators=250;, score=0.555 total time=   0.1s\n",
      "[CV 1/5; 40/72] START criterion=entropy, max_depth=1, n_estimators=300..........\n",
      "[CV 1/5; 40/72] END criterion=entropy, max_depth=1, n_estimators=300;, score=0.575 total time=   0.2s\n",
      "[CV 2/5; 40/72] START criterion=entropy, max_depth=1, n_estimators=300..........\n",
      "[CV 2/5; 40/72] END criterion=entropy, max_depth=1, n_estimators=300;, score=0.550 total time=   0.2s\n",
      "[CV 3/5; 40/72] START criterion=entropy, max_depth=1, n_estimators=300..........\n",
      "[CV 3/5; 40/72] END criterion=entropy, max_depth=1, n_estimators=300;, score=0.552 total time=   0.2s\n",
      "[CV 4/5; 40/72] START criterion=entropy, max_depth=1, n_estimators=300..........\n",
      "[CV 4/5; 40/72] END criterion=entropy, max_depth=1, n_estimators=300;, score=0.550 total time=   0.2s\n",
      "[CV 5/5; 40/72] START criterion=entropy, max_depth=1, n_estimators=300..........\n",
      "[CV 5/5; 40/72] END criterion=entropy, max_depth=1, n_estimators=300;, score=0.547 total time=   0.2s\n",
      "[CV 1/5; 41/72] START criterion=entropy, max_depth=1, n_estimators=400..........\n",
      "[CV 1/5; 41/72] END criterion=entropy, max_depth=1, n_estimators=400;, score=0.575 total time=   0.2s\n",
      "[CV 2/5; 41/72] START criterion=entropy, max_depth=1, n_estimators=400..........\n",
      "[CV 2/5; 41/72] END criterion=entropy, max_depth=1, n_estimators=400;, score=0.552 total time=   0.2s\n",
      "[CV 3/5; 41/72] START criterion=entropy, max_depth=1, n_estimators=400..........\n",
      "[CV 3/5; 41/72] END criterion=entropy, max_depth=1, n_estimators=400;, score=0.547 total time=   0.2s\n",
      "[CV 4/5; 41/72] START criterion=entropy, max_depth=1, n_estimators=400..........\n",
      "[CV 4/5; 41/72] END criterion=entropy, max_depth=1, n_estimators=400;, score=0.547 total time=   0.2s\n",
      "[CV 5/5; 41/72] START criterion=entropy, max_depth=1, n_estimators=400..........\n",
      "[CV 5/5; 41/72] END criterion=entropy, max_depth=1, n_estimators=400;, score=0.555 total time=   0.2s\n",
      "[CV 1/5; 42/72] START criterion=entropy, max_depth=1, n_estimators=500..........\n",
      "[CV 1/5; 42/72] END criterion=entropy, max_depth=1, n_estimators=500;, score=0.565 total time=   0.2s\n",
      "[CV 2/5; 42/72] START criterion=entropy, max_depth=1, n_estimators=500..........\n",
      "[CV 2/5; 42/72] END criterion=entropy, max_depth=1, n_estimators=500;, score=0.547 total time=   0.2s\n",
      "[CV 3/5; 42/72] START criterion=entropy, max_depth=1, n_estimators=500..........\n",
      "[CV 3/5; 42/72] END criterion=entropy, max_depth=1, n_estimators=500;, score=0.537 total time=   0.3s\n",
      "[CV 4/5; 42/72] START criterion=entropy, max_depth=1, n_estimators=500..........\n",
      "[CV 4/5; 42/72] END criterion=entropy, max_depth=1, n_estimators=500;, score=0.540 total time=   0.2s\n",
      "[CV 5/5; 42/72] START criterion=entropy, max_depth=1, n_estimators=500..........\n",
      "[CV 5/5; 42/72] END criterion=entropy, max_depth=1, n_estimators=500;, score=0.552 total time=   0.2s\n",
      "[CV 1/5; 43/72] START criterion=entropy, max_depth=2, n_estimators=100..........\n",
      "[CV 1/5; 43/72] END criterion=entropy, max_depth=2, n_estimators=100;, score=0.693 total time=   0.0s\n",
      "[CV 2/5; 43/72] START criterion=entropy, max_depth=2, n_estimators=100..........\n",
      "[CV 2/5; 43/72] END criterion=entropy, max_depth=2, n_estimators=100;, score=0.650 total time=   0.0s\n",
      "[CV 3/5; 43/72] START criterion=entropy, max_depth=2, n_estimators=100..........\n",
      "[CV 3/5; 43/72] END criterion=entropy, max_depth=2, n_estimators=100;, score=0.662 total time=   0.0s\n",
      "[CV 4/5; 43/72] START criterion=entropy, max_depth=2, n_estimators=100..........\n",
      "[CV 4/5; 43/72] END criterion=entropy, max_depth=2, n_estimators=100;, score=0.672 total time=   0.0s\n",
      "[CV 5/5; 43/72] START criterion=entropy, max_depth=2, n_estimators=100..........\n",
      "[CV 5/5; 43/72] END criterion=entropy, max_depth=2, n_estimators=100;, score=0.632 total time=   0.0s\n",
      "[CV 1/5; 44/72] START criterion=entropy, max_depth=2, n_estimators=200..........\n",
      "[CV 1/5; 44/72] END criterion=entropy, max_depth=2, n_estimators=200;, score=0.698 total time=   0.1s\n",
      "[CV 2/5; 44/72] START criterion=entropy, max_depth=2, n_estimators=200..........\n",
      "[CV 2/5; 44/72] END criterion=entropy, max_depth=2, n_estimators=200;, score=0.670 total time=   0.1s\n",
      "[CV 3/5; 44/72] START criterion=entropy, max_depth=2, n_estimators=200..........\n",
      "[CV 3/5; 44/72] END criterion=entropy, max_depth=2, n_estimators=200;, score=0.693 total time=   0.1s\n",
      "[CV 4/5; 44/72] START criterion=entropy, max_depth=2, n_estimators=200..........\n",
      "[CV 4/5; 44/72] END criterion=entropy, max_depth=2, n_estimators=200;, score=0.705 total time=   0.1s\n",
      "[CV 5/5; 44/72] START criterion=entropy, max_depth=2, n_estimators=200..........\n",
      "[CV 5/5; 44/72] END criterion=entropy, max_depth=2, n_estimators=200;, score=0.672 total time=   0.1s\n",
      "[CV 1/5; 45/72] START criterion=entropy, max_depth=2, n_estimators=250..........\n",
      "[CV 1/5; 45/72] END criterion=entropy, max_depth=2, n_estimators=250;, score=0.703 total time=   0.1s\n",
      "[CV 2/5; 45/72] START criterion=entropy, max_depth=2, n_estimators=250..........\n",
      "[CV 2/5; 45/72] END criterion=entropy, max_depth=2, n_estimators=250;, score=0.677 total time=   0.1s\n",
      "[CV 3/5; 45/72] START criterion=entropy, max_depth=2, n_estimators=250..........\n",
      "[CV 3/5; 45/72] END criterion=entropy, max_depth=2, n_estimators=250;, score=0.700 total time=   0.1s\n",
      "[CV 4/5; 45/72] START criterion=entropy, max_depth=2, n_estimators=250..........\n",
      "[CV 4/5; 45/72] END criterion=entropy, max_depth=2, n_estimators=250;, score=0.725 total time=   0.1s\n",
      "[CV 5/5; 45/72] START criterion=entropy, max_depth=2, n_estimators=250..........\n",
      "[CV 5/5; 45/72] END criterion=entropy, max_depth=2, n_estimators=250;, score=0.672 total time=   0.1s\n",
      "[CV 1/5; 46/72] START criterion=entropy, max_depth=2, n_estimators=300..........\n",
      "[CV 1/5; 46/72] END criterion=entropy, max_depth=2, n_estimators=300;, score=0.710 total time=   0.1s\n",
      "[CV 2/5; 46/72] START criterion=entropy, max_depth=2, n_estimators=300..........\n",
      "[CV 2/5; 46/72] END criterion=entropy, max_depth=2, n_estimators=300;, score=0.665 total time=   0.1s\n",
      "[CV 3/5; 46/72] START criterion=entropy, max_depth=2, n_estimators=300..........\n",
      "[CV 3/5; 46/72] END criterion=entropy, max_depth=2, n_estimators=300;, score=0.698 total time=   0.2s\n",
      "[CV 4/5; 46/72] START criterion=entropy, max_depth=2, n_estimators=300..........\n",
      "[CV 4/5; 46/72] END criterion=entropy, max_depth=2, n_estimators=300;, score=0.708 total time=   0.1s\n",
      "[CV 5/5; 46/72] START criterion=entropy, max_depth=2, n_estimators=300..........\n",
      "[CV 5/5; 46/72] END criterion=entropy, max_depth=2, n_estimators=300;, score=0.675 total time=   0.1s\n",
      "[CV 1/5; 47/72] START criterion=entropy, max_depth=2, n_estimators=400..........\n",
      "[CV 1/5; 47/72] END criterion=entropy, max_depth=2, n_estimators=400;, score=0.700 total time=   0.2s\n",
      "[CV 2/5; 47/72] START criterion=entropy, max_depth=2, n_estimators=400..........\n",
      "[CV 2/5; 47/72] END criterion=entropy, max_depth=2, n_estimators=400;, score=0.670 total time=   0.2s\n",
      "[CV 3/5; 47/72] START criterion=entropy, max_depth=2, n_estimators=400..........\n",
      "[CV 3/5; 47/72] END criterion=entropy, max_depth=2, n_estimators=400;, score=0.703 total time=   0.2s\n",
      "[CV 4/5; 47/72] START criterion=entropy, max_depth=2, n_estimators=400..........\n",
      "[CV 4/5; 47/72] END criterion=entropy, max_depth=2, n_estimators=400;, score=0.723 total time=   0.2s\n",
      "[CV 5/5; 47/72] START criterion=entropy, max_depth=2, n_estimators=400..........\n",
      "[CV 5/5; 47/72] END criterion=entropy, max_depth=2, n_estimators=400;, score=0.682 total time=   0.2s\n",
      "[CV 1/5; 48/72] START criterion=entropy, max_depth=2, n_estimators=500..........\n",
      "[CV 1/5; 48/72] END criterion=entropy, max_depth=2, n_estimators=500;, score=0.690 total time=   0.2s\n",
      "[CV 2/5; 48/72] START criterion=entropy, max_depth=2, n_estimators=500..........\n",
      "[CV 2/5; 48/72] END criterion=entropy, max_depth=2, n_estimators=500;, score=0.672 total time=   0.2s\n",
      "[CV 3/5; 48/72] START criterion=entropy, max_depth=2, n_estimators=500..........\n",
      "[CV 3/5; 48/72] END criterion=entropy, max_depth=2, n_estimators=500;, score=0.705 total time=   0.2s\n",
      "[CV 4/5; 48/72] START criterion=entropy, max_depth=2, n_estimators=500..........\n",
      "[CV 4/5; 48/72] END criterion=entropy, max_depth=2, n_estimators=500;, score=0.713 total time=   0.2s\n",
      "[CV 5/5; 48/72] START criterion=entropy, max_depth=2, n_estimators=500..........\n",
      "[CV 5/5; 48/72] END criterion=entropy, max_depth=2, n_estimators=500;, score=0.685 total time=   0.2s\n",
      "[CV 1/5; 49/72] START criterion=entropy, max_depth=5, n_estimators=100..........\n",
      "[CV 1/5; 49/72] END criterion=entropy, max_depth=5, n_estimators=100;, score=0.818 total time=   0.0s\n",
      "[CV 2/5; 49/72] START criterion=entropy, max_depth=5, n_estimators=100..........\n",
      "[CV 2/5; 49/72] END criterion=entropy, max_depth=5, n_estimators=100;, score=0.818 total time=   0.0s\n",
      "[CV 3/5; 49/72] START criterion=entropy, max_depth=5, n_estimators=100..........\n",
      "[CV 3/5; 49/72] END criterion=entropy, max_depth=5, n_estimators=100;, score=0.877 total time=   0.0s\n",
      "[CV 4/5; 49/72] START criterion=entropy, max_depth=5, n_estimators=100..........\n",
      "[CV 4/5; 49/72] END criterion=entropy, max_depth=5, n_estimators=100;, score=0.833 total time=   0.0s\n",
      "[CV 5/5; 49/72] START criterion=entropy, max_depth=5, n_estimators=100..........\n",
      "[CV 5/5; 49/72] END criterion=entropy, max_depth=5, n_estimators=100;, score=0.835 total time=   0.0s\n",
      "[CV 1/5; 50/72] START criterion=entropy, max_depth=5, n_estimators=200..........\n",
      "[CV 1/5; 50/72] END criterion=entropy, max_depth=5, n_estimators=200;, score=0.833 total time=   0.1s\n",
      "[CV 2/5; 50/72] START criterion=entropy, max_depth=5, n_estimators=200..........\n",
      "[CV 2/5; 50/72] END criterion=entropy, max_depth=5, n_estimators=200;, score=0.838 total time=   0.1s\n",
      "[CV 3/5; 50/72] START criterion=entropy, max_depth=5, n_estimators=200..........\n",
      "[CV 3/5; 50/72] END criterion=entropy, max_depth=5, n_estimators=200;, score=0.870 total time=   0.1s\n",
      "[CV 4/5; 50/72] START criterion=entropy, max_depth=5, n_estimators=200..........\n",
      "[CV 4/5; 50/72] END criterion=entropy, max_depth=5, n_estimators=200;, score=0.833 total time=   0.1s\n",
      "[CV 5/5; 50/72] START criterion=entropy, max_depth=5, n_estimators=200..........\n",
      "[CV 5/5; 50/72] END criterion=entropy, max_depth=5, n_estimators=200;, score=0.838 total time=   0.1s\n",
      "[CV 1/5; 51/72] START criterion=entropy, max_depth=5, n_estimators=250..........\n",
      "[CV 1/5; 51/72] END criterion=entropy, max_depth=5, n_estimators=250;, score=0.833 total time=   0.1s\n",
      "[CV 2/5; 51/72] START criterion=entropy, max_depth=5, n_estimators=250..........\n",
      "[CV 2/5; 51/72] END criterion=entropy, max_depth=5, n_estimators=250;, score=0.835 total time=   0.1s\n",
      "[CV 3/5; 51/72] START criterion=entropy, max_depth=5, n_estimators=250..........\n",
      "[CV 3/5; 51/72] END criterion=entropy, max_depth=5, n_estimators=250;, score=0.868 total time=   0.1s\n",
      "[CV 4/5; 51/72] START criterion=entropy, max_depth=5, n_estimators=250..........\n",
      "[CV 4/5; 51/72] END criterion=entropy, max_depth=5, n_estimators=250;, score=0.833 total time=   0.1s\n",
      "[CV 5/5; 51/72] START criterion=entropy, max_depth=5, n_estimators=250..........\n",
      "[CV 5/5; 51/72] END criterion=entropy, max_depth=5, n_estimators=250;, score=0.840 total time=   0.1s\n",
      "[CV 1/5; 52/72] START criterion=entropy, max_depth=5, n_estimators=300..........\n",
      "[CV 1/5; 52/72] END criterion=entropy, max_depth=5, n_estimators=300;, score=0.833 total time=   0.2s\n",
      "[CV 2/5; 52/72] START criterion=entropy, max_depth=5, n_estimators=300..........\n",
      "[CV 2/5; 52/72] END criterion=entropy, max_depth=5, n_estimators=300;, score=0.830 total time=   0.2s\n",
      "[CV 3/5; 52/72] START criterion=entropy, max_depth=5, n_estimators=300..........\n",
      "[CV 3/5; 52/72] END criterion=entropy, max_depth=5, n_estimators=300;, score=0.865 total time=   0.2s\n",
      "[CV 4/5; 52/72] START criterion=entropy, max_depth=5, n_estimators=300..........\n",
      "[CV 4/5; 52/72] END criterion=entropy, max_depth=5, n_estimators=300;, score=0.833 total time=   0.2s\n",
      "[CV 5/5; 52/72] START criterion=entropy, max_depth=5, n_estimators=300..........\n",
      "[CV 5/5; 52/72] END criterion=entropy, max_depth=5, n_estimators=300;, score=0.838 total time=   0.2s\n",
      "[CV 1/5; 53/72] START criterion=entropy, max_depth=5, n_estimators=400..........\n",
      "[CV 1/5; 53/72] END criterion=entropy, max_depth=5, n_estimators=400;, score=0.838 total time=   0.2s\n",
      "[CV 2/5; 53/72] START criterion=entropy, max_depth=5, n_estimators=400..........\n",
      "[CV 2/5; 53/72] END criterion=entropy, max_depth=5, n_estimators=400;, score=0.838 total time=   0.2s\n",
      "[CV 3/5; 53/72] START criterion=entropy, max_depth=5, n_estimators=400..........\n",
      "[CV 3/5; 53/72] END criterion=entropy, max_depth=5, n_estimators=400;, score=0.863 total time=   0.2s\n",
      "[CV 4/5; 53/72] START criterion=entropy, max_depth=5, n_estimators=400..........\n",
      "[CV 4/5; 53/72] END criterion=entropy, max_depth=5, n_estimators=400;, score=0.835 total time=   0.2s\n",
      "[CV 5/5; 53/72] START criterion=entropy, max_depth=5, n_estimators=400..........\n",
      "[CV 5/5; 53/72] END criterion=entropy, max_depth=5, n_estimators=400;, score=0.838 total time=   0.2s\n",
      "[CV 1/5; 54/72] START criterion=entropy, max_depth=5, n_estimators=500..........\n",
      "[CV 1/5; 54/72] END criterion=entropy, max_depth=5, n_estimators=500;, score=0.838 total time=   0.3s\n",
      "[CV 2/5; 54/72] START criterion=entropy, max_depth=5, n_estimators=500..........\n",
      "[CV 2/5; 54/72] END criterion=entropy, max_depth=5, n_estimators=500;, score=0.833 total time=   0.2s\n",
      "[CV 3/5; 54/72] START criterion=entropy, max_depth=5, n_estimators=500..........\n",
      "[CV 3/5; 54/72] END criterion=entropy, max_depth=5, n_estimators=500;, score=0.865 total time=   0.3s\n",
      "[CV 4/5; 54/72] START criterion=entropy, max_depth=5, n_estimators=500..........\n",
      "[CV 4/5; 54/72] END criterion=entropy, max_depth=5, n_estimators=500;, score=0.835 total time=   0.2s\n",
      "[CV 5/5; 54/72] START criterion=entropy, max_depth=5, n_estimators=500..........\n",
      "[CV 5/5; 54/72] END criterion=entropy, max_depth=5, n_estimators=500;, score=0.838 total time=   0.2s\n",
      "[CV 1/5; 55/72] START criterion=entropy, max_depth=7, n_estimators=100..........\n",
      "[CV 1/5; 55/72] END criterion=entropy, max_depth=7, n_estimators=100;, score=0.870 total time=   0.0s\n",
      "[CV 2/5; 55/72] START criterion=entropy, max_depth=7, n_estimators=100..........\n",
      "[CV 2/5; 55/72] END criterion=entropy, max_depth=7, n_estimators=100;, score=0.873 total time=   0.0s\n",
      "[CV 3/5; 55/72] START criterion=entropy, max_depth=7, n_estimators=100..........\n",
      "[CV 3/5; 55/72] END criterion=entropy, max_depth=7, n_estimators=100;, score=0.885 total time=   0.0s\n",
      "[CV 4/5; 55/72] START criterion=entropy, max_depth=7, n_estimators=100..........\n",
      "[CV 4/5; 55/72] END criterion=entropy, max_depth=7, n_estimators=100;, score=0.850 total time=   0.0s\n",
      "[CV 5/5; 55/72] START criterion=entropy, max_depth=7, n_estimators=100..........\n",
      "[CV 5/5; 55/72] END criterion=entropy, max_depth=7, n_estimators=100;, score=0.835 total time=   0.0s\n",
      "[CV 1/5; 56/72] START criterion=entropy, max_depth=7, n_estimators=200..........\n",
      "[CV 1/5; 56/72] END criterion=entropy, max_depth=7, n_estimators=200;, score=0.858 total time=   0.1s\n",
      "[CV 2/5; 56/72] START criterion=entropy, max_depth=7, n_estimators=200..........\n",
      "[CV 2/5; 56/72] END criterion=entropy, max_depth=7, n_estimators=200;, score=0.877 total time=   0.1s\n",
      "[CV 3/5; 56/72] START criterion=entropy, max_depth=7, n_estimators=200..........\n",
      "[CV 3/5; 56/72] END criterion=entropy, max_depth=7, n_estimators=200;, score=0.887 total time=   0.1s\n",
      "[CV 4/5; 56/72] START criterion=entropy, max_depth=7, n_estimators=200..........\n",
      "[CV 4/5; 56/72] END criterion=entropy, max_depth=7, n_estimators=200;, score=0.855 total time=   0.1s\n",
      "[CV 5/5; 56/72] START criterion=entropy, max_depth=7, n_estimators=200..........\n",
      "[CV 5/5; 56/72] END criterion=entropy, max_depth=7, n_estimators=200;, score=0.835 total time=   0.1s\n",
      "[CV 1/5; 57/72] START criterion=entropy, max_depth=7, n_estimators=250..........\n",
      "[CV 1/5; 57/72] END criterion=entropy, max_depth=7, n_estimators=250;, score=0.860 total time=   0.1s\n",
      "[CV 2/5; 57/72] START criterion=entropy, max_depth=7, n_estimators=250..........\n",
      "[CV 2/5; 57/72] END criterion=entropy, max_depth=7, n_estimators=250;, score=0.882 total time=   0.1s\n",
      "[CV 3/5; 57/72] START criterion=entropy, max_depth=7, n_estimators=250..........\n",
      "[CV 3/5; 57/72] END criterion=entropy, max_depth=7, n_estimators=250;, score=0.887 total time=   0.1s\n",
      "[CV 4/5; 57/72] START criterion=entropy, max_depth=7, n_estimators=250..........\n",
      "[CV 4/5; 57/72] END criterion=entropy, max_depth=7, n_estimators=250;, score=0.858 total time=   0.1s\n",
      "[CV 5/5; 57/72] START criterion=entropy, max_depth=7, n_estimators=250..........\n",
      "[CV 5/5; 57/72] END criterion=entropy, max_depth=7, n_estimators=250;, score=0.845 total time=   0.1s\n",
      "[CV 1/5; 58/72] START criterion=entropy, max_depth=7, n_estimators=300..........\n",
      "[CV 1/5; 58/72] END criterion=entropy, max_depth=7, n_estimators=300;, score=0.860 total time=   0.2s\n",
      "[CV 2/5; 58/72] START criterion=entropy, max_depth=7, n_estimators=300..........\n",
      "[CV 2/5; 58/72] END criterion=entropy, max_depth=7, n_estimators=300;, score=0.880 total time=   0.2s\n",
      "[CV 3/5; 58/72] START criterion=entropy, max_depth=7, n_estimators=300..........\n",
      "[CV 3/5; 58/72] END criterion=entropy, max_depth=7, n_estimators=300;, score=0.887 total time=   0.2s\n",
      "[CV 4/5; 58/72] START criterion=entropy, max_depth=7, n_estimators=300..........\n",
      "[CV 4/5; 58/72] END criterion=entropy, max_depth=7, n_estimators=300;, score=0.855 total time=   0.2s\n",
      "[CV 5/5; 58/72] START criterion=entropy, max_depth=7, n_estimators=300..........\n",
      "[CV 5/5; 58/72] END criterion=entropy, max_depth=7, n_estimators=300;, score=0.840 total time=   0.2s\n",
      "[CV 1/5; 59/72] START criterion=entropy, max_depth=7, n_estimators=400..........\n",
      "[CV 1/5; 59/72] END criterion=entropy, max_depth=7, n_estimators=400;, score=0.863 total time=   0.2s\n",
      "[CV 2/5; 59/72] START criterion=entropy, max_depth=7, n_estimators=400..........\n",
      "[CV 2/5; 59/72] END criterion=entropy, max_depth=7, n_estimators=400;, score=0.873 total time=   0.2s\n",
      "[CV 3/5; 59/72] START criterion=entropy, max_depth=7, n_estimators=400..........\n",
      "[CV 3/5; 59/72] END criterion=entropy, max_depth=7, n_estimators=400;, score=0.897 total time=   0.2s\n",
      "[CV 4/5; 59/72] START criterion=entropy, max_depth=7, n_estimators=400..........\n",
      "[CV 4/5; 59/72] END criterion=entropy, max_depth=7, n_estimators=400;, score=0.860 total time=   0.2s\n",
      "[CV 5/5; 59/72] START criterion=entropy, max_depth=7, n_estimators=400..........\n",
      "[CV 5/5; 59/72] END criterion=entropy, max_depth=7, n_estimators=400;, score=0.850 total time=   0.2s\n",
      "[CV 1/5; 60/72] START criterion=entropy, max_depth=7, n_estimators=500..........\n",
      "[CV 1/5; 60/72] END criterion=entropy, max_depth=7, n_estimators=500;, score=0.863 total time=   0.3s\n",
      "[CV 2/5; 60/72] START criterion=entropy, max_depth=7, n_estimators=500..........\n",
      "[CV 2/5; 60/72] END criterion=entropy, max_depth=7, n_estimators=500;, score=0.875 total time=   0.3s\n",
      "[CV 3/5; 60/72] START criterion=entropy, max_depth=7, n_estimators=500..........\n",
      "[CV 3/5; 60/72] END criterion=entropy, max_depth=7, n_estimators=500;, score=0.887 total time=   0.3s\n",
      "[CV 4/5; 60/72] START criterion=entropy, max_depth=7, n_estimators=500..........\n",
      "[CV 4/5; 60/72] END criterion=entropy, max_depth=7, n_estimators=500;, score=0.863 total time=   0.3s\n",
      "[CV 5/5; 60/72] START criterion=entropy, max_depth=7, n_estimators=500..........\n",
      "[CV 5/5; 60/72] END criterion=entropy, max_depth=7, n_estimators=500;, score=0.855 total time=   0.3s\n",
      "[CV 1/5; 61/72] START criterion=entropy, max_depth=11, n_estimators=100.........\n",
      "[CV 1/5; 61/72] END criterion=entropy, max_depth=11, n_estimators=100;, score=0.877 total time=   0.0s\n",
      "[CV 2/5; 61/72] START criterion=entropy, max_depth=11, n_estimators=100.........\n",
      "[CV 2/5; 61/72] END criterion=entropy, max_depth=11, n_estimators=100;, score=0.885 total time=   0.0s\n",
      "[CV 3/5; 61/72] START criterion=entropy, max_depth=11, n_estimators=100.........\n",
      "[CV 3/5; 61/72] END criterion=entropy, max_depth=11, n_estimators=100;, score=0.920 total time=   0.0s\n",
      "[CV 4/5; 61/72] START criterion=entropy, max_depth=11, n_estimators=100.........\n",
      "[CV 4/5; 61/72] END criterion=entropy, max_depth=11, n_estimators=100;, score=0.875 total time=   0.0s\n",
      "[CV 5/5; 61/72] START criterion=entropy, max_depth=11, n_estimators=100.........\n",
      "[CV 5/5; 61/72] END criterion=entropy, max_depth=11, n_estimators=100;, score=0.890 total time=   0.0s\n",
      "[CV 1/5; 62/72] START criterion=entropy, max_depth=11, n_estimators=200.........\n",
      "[CV 1/5; 62/72] END criterion=entropy, max_depth=11, n_estimators=200;, score=0.875 total time=   0.1s\n",
      "[CV 2/5; 62/72] START criterion=entropy, max_depth=11, n_estimators=200.........\n",
      "[CV 2/5; 62/72] END criterion=entropy, max_depth=11, n_estimators=200;, score=0.877 total time=   0.1s\n",
      "[CV 3/5; 62/72] START criterion=entropy, max_depth=11, n_estimators=200.........\n",
      "[CV 3/5; 62/72] END criterion=entropy, max_depth=11, n_estimators=200;, score=0.915 total time=   0.1s\n",
      "[CV 4/5; 62/72] START criterion=entropy, max_depth=11, n_estimators=200.........\n",
      "[CV 4/5; 62/72] END criterion=entropy, max_depth=11, n_estimators=200;, score=0.865 total time=   0.1s\n",
      "[CV 5/5; 62/72] START criterion=entropy, max_depth=11, n_estimators=200.........\n",
      "[CV 5/5; 62/72] END criterion=entropy, max_depth=11, n_estimators=200;, score=0.880 total time=   0.1s\n",
      "[CV 1/5; 63/72] START criterion=entropy, max_depth=11, n_estimators=250.........\n",
      "[CV 1/5; 63/72] END criterion=entropy, max_depth=11, n_estimators=250;, score=0.875 total time=   0.1s\n",
      "[CV 2/5; 63/72] START criterion=entropy, max_depth=11, n_estimators=250.........\n",
      "[CV 2/5; 63/72] END criterion=entropy, max_depth=11, n_estimators=250;, score=0.887 total time=   0.1s\n",
      "[CV 3/5; 63/72] START criterion=entropy, max_depth=11, n_estimators=250.........\n",
      "[CV 3/5; 63/72] END criterion=entropy, max_depth=11, n_estimators=250;, score=0.917 total time=   0.1s\n",
      "[CV 4/5; 63/72] START criterion=entropy, max_depth=11, n_estimators=250.........\n",
      "[CV 4/5; 63/72] END criterion=entropy, max_depth=11, n_estimators=250;, score=0.870 total time=   0.1s\n",
      "[CV 5/5; 63/72] START criterion=entropy, max_depth=11, n_estimators=250.........\n",
      "[CV 5/5; 63/72] END criterion=entropy, max_depth=11, n_estimators=250;, score=0.880 total time=   0.1s\n",
      "[CV 1/5; 64/72] START criterion=entropy, max_depth=11, n_estimators=300.........\n",
      "[CV 1/5; 64/72] END criterion=entropy, max_depth=11, n_estimators=300;, score=0.882 total time=   0.2s\n",
      "[CV 2/5; 64/72] START criterion=entropy, max_depth=11, n_estimators=300.........\n",
      "[CV 2/5; 64/72] END criterion=entropy, max_depth=11, n_estimators=300;, score=0.890 total time=   0.2s\n",
      "[CV 3/5; 64/72] START criterion=entropy, max_depth=11, n_estimators=300.........\n",
      "[CV 3/5; 64/72] END criterion=entropy, max_depth=11, n_estimators=300;, score=0.920 total time=   0.2s\n",
      "[CV 4/5; 64/72] START criterion=entropy, max_depth=11, n_estimators=300.........\n",
      "[CV 4/5; 64/72] END criterion=entropy, max_depth=11, n_estimators=300;, score=0.868 total time=   0.2s\n",
      "[CV 5/5; 64/72] START criterion=entropy, max_depth=11, n_estimators=300.........\n",
      "[CV 5/5; 64/72] END criterion=entropy, max_depth=11, n_estimators=300;, score=0.877 total time=   0.2s\n",
      "[CV 1/5; 65/72] START criterion=entropy, max_depth=11, n_estimators=400.........\n",
      "[CV 1/5; 65/72] END criterion=entropy, max_depth=11, n_estimators=400;, score=0.887 total time=   0.2s\n",
      "[CV 2/5; 65/72] START criterion=entropy, max_depth=11, n_estimators=400.........\n",
      "[CV 2/5; 65/72] END criterion=entropy, max_depth=11, n_estimators=400;, score=0.895 total time=   0.3s\n",
      "[CV 3/5; 65/72] START criterion=entropy, max_depth=11, n_estimators=400.........\n",
      "[CV 3/5; 65/72] END criterion=entropy, max_depth=11, n_estimators=400;, score=0.915 total time=   0.2s\n",
      "[CV 4/5; 65/72] START criterion=entropy, max_depth=11, n_estimators=400.........\n",
      "[CV 4/5; 65/72] END criterion=entropy, max_depth=11, n_estimators=400;, score=0.875 total time=   0.2s\n",
      "[CV 5/5; 65/72] START criterion=entropy, max_depth=11, n_estimators=400.........\n",
      "[CV 5/5; 65/72] END criterion=entropy, max_depth=11, n_estimators=400;, score=0.875 total time=   0.3s\n",
      "[CV 1/5; 66/72] START criterion=entropy, max_depth=11, n_estimators=500.........\n",
      "[CV 1/5; 66/72] END criterion=entropy, max_depth=11, n_estimators=500;, score=0.890 total time=   0.3s\n",
      "[CV 2/5; 66/72] START criterion=entropy, max_depth=11, n_estimators=500.........\n",
      "[CV 2/5; 66/72] END criterion=entropy, max_depth=11, n_estimators=500;, score=0.885 total time=   0.3s\n",
      "[CV 3/5; 66/72] START criterion=entropy, max_depth=11, n_estimators=500.........\n",
      "[CV 3/5; 66/72] END criterion=entropy, max_depth=11, n_estimators=500;, score=0.920 total time=   0.3s\n",
      "[CV 4/5; 66/72] START criterion=entropy, max_depth=11, n_estimators=500.........\n",
      "[CV 4/5; 66/72] END criterion=entropy, max_depth=11, n_estimators=500;, score=0.865 total time=   0.3s\n",
      "[CV 5/5; 66/72] START criterion=entropy, max_depth=11, n_estimators=500.........\n",
      "[CV 5/5; 66/72] END criterion=entropy, max_depth=11, n_estimators=500;, score=0.873 total time=   0.3s\n",
      "[CV 1/5; 67/72] START criterion=entropy, max_depth=15, n_estimators=100.........\n",
      "[CV 1/5; 67/72] END criterion=entropy, max_depth=15, n_estimators=100;, score=0.880 total time=   0.0s\n",
      "[CV 2/5; 67/72] START criterion=entropy, max_depth=15, n_estimators=100.........\n",
      "[CV 2/5; 67/72] END criterion=entropy, max_depth=15, n_estimators=100;, score=0.890 total time=   0.0s\n",
      "[CV 3/5; 67/72] START criterion=entropy, max_depth=15, n_estimators=100.........\n",
      "[CV 3/5; 67/72] END criterion=entropy, max_depth=15, n_estimators=100;, score=0.897 total time=   0.0s\n",
      "[CV 4/5; 67/72] START criterion=entropy, max_depth=15, n_estimators=100.........\n",
      "[CV 4/5; 67/72] END criterion=entropy, max_depth=15, n_estimators=100;, score=0.860 total time=   0.0s\n",
      "[CV 5/5; 67/72] START criterion=entropy, max_depth=15, n_estimators=100.........\n",
      "[CV 5/5; 67/72] END criterion=entropy, max_depth=15, n_estimators=100;, score=0.877 total time=   0.0s\n",
      "[CV 1/5; 68/72] START criterion=entropy, max_depth=15, n_estimators=200.........\n",
      "[CV 1/5; 68/72] END criterion=entropy, max_depth=15, n_estimators=200;, score=0.885 total time=   0.1s\n",
      "[CV 2/5; 68/72] START criterion=entropy, max_depth=15, n_estimators=200.........\n",
      "[CV 2/5; 68/72] END criterion=entropy, max_depth=15, n_estimators=200;, score=0.890 total time=   0.1s\n",
      "[CV 3/5; 68/72] START criterion=entropy, max_depth=15, n_estimators=200.........\n",
      "[CV 3/5; 68/72] END criterion=entropy, max_depth=15, n_estimators=200;, score=0.910 total time=   0.1s\n",
      "[CV 4/5; 68/72] START criterion=entropy, max_depth=15, n_estimators=200.........\n",
      "[CV 4/5; 68/72] END criterion=entropy, max_depth=15, n_estimators=200;, score=0.868 total time=   0.1s\n",
      "[CV 5/5; 68/72] START criterion=entropy, max_depth=15, n_estimators=200.........\n",
      "[CV 5/5; 68/72] END criterion=entropy, max_depth=15, n_estimators=200;, score=0.875 total time=   0.1s\n",
      "[CV 1/5; 69/72] START criterion=entropy, max_depth=15, n_estimators=250.........\n",
      "[CV 1/5; 69/72] END criterion=entropy, max_depth=15, n_estimators=250;, score=0.880 total time=   0.2s\n",
      "[CV 2/5; 69/72] START criterion=entropy, max_depth=15, n_estimators=250.........\n",
      "[CV 2/5; 69/72] END criterion=entropy, max_depth=15, n_estimators=250;, score=0.885 total time=   0.1s\n",
      "[CV 3/5; 69/72] START criterion=entropy, max_depth=15, n_estimators=250.........\n",
      "[CV 3/5; 69/72] END criterion=entropy, max_depth=15, n_estimators=250;, score=0.912 total time=   0.1s\n",
      "[CV 4/5; 69/72] START criterion=entropy, max_depth=15, n_estimators=250.........\n",
      "[CV 4/5; 69/72] END criterion=entropy, max_depth=15, n_estimators=250;, score=0.873 total time=   0.1s\n",
      "[CV 5/5; 69/72] START criterion=entropy, max_depth=15, n_estimators=250.........\n",
      "[CV 5/5; 69/72] END criterion=entropy, max_depth=15, n_estimators=250;, score=0.873 total time=   0.1s\n",
      "[CV 1/5; 70/72] START criterion=entropy, max_depth=15, n_estimators=300.........\n",
      "[CV 1/5; 70/72] END criterion=entropy, max_depth=15, n_estimators=300;, score=0.880 total time=   0.2s\n",
      "[CV 2/5; 70/72] START criterion=entropy, max_depth=15, n_estimators=300.........\n",
      "[CV 2/5; 70/72] END criterion=entropy, max_depth=15, n_estimators=300;, score=0.887 total time=   0.2s\n",
      "[CV 3/5; 70/72] START criterion=entropy, max_depth=15, n_estimators=300.........\n",
      "[CV 3/5; 70/72] END criterion=entropy, max_depth=15, n_estimators=300;, score=0.910 total time=   0.2s\n",
      "[CV 4/5; 70/72] START criterion=entropy, max_depth=15, n_estimators=300.........\n",
      "[CV 4/5; 70/72] END criterion=entropy, max_depth=15, n_estimators=300;, score=0.868 total time=   0.2s\n",
      "[CV 5/5; 70/72] START criterion=entropy, max_depth=15, n_estimators=300.........\n",
      "[CV 5/5; 70/72] END criterion=entropy, max_depth=15, n_estimators=300;, score=0.873 total time=   0.2s\n",
      "[CV 1/5; 71/72] START criterion=entropy, max_depth=15, n_estimators=400.........\n",
      "[CV 1/5; 71/72] END criterion=entropy, max_depth=15, n_estimators=400;, score=0.880 total time=   0.3s\n",
      "[CV 2/5; 71/72] START criterion=entropy, max_depth=15, n_estimators=400.........\n",
      "[CV 2/5; 71/72] END criterion=entropy, max_depth=15, n_estimators=400;, score=0.897 total time=   0.2s\n",
      "[CV 3/5; 71/72] START criterion=entropy, max_depth=15, n_estimators=400.........\n",
      "[CV 3/5; 71/72] END criterion=entropy, max_depth=15, n_estimators=400;, score=0.910 total time=   0.3s\n",
      "[CV 4/5; 71/72] START criterion=entropy, max_depth=15, n_estimators=400.........\n",
      "[CV 4/5; 71/72] END criterion=entropy, max_depth=15, n_estimators=400;, score=0.863 total time=   0.3s\n",
      "[CV 5/5; 71/72] START criterion=entropy, max_depth=15, n_estimators=400.........\n",
      "[CV 5/5; 71/72] END criterion=entropy, max_depth=15, n_estimators=400;, score=0.863 total time=   0.2s\n",
      "[CV 1/5; 72/72] START criterion=entropy, max_depth=15, n_estimators=500.........\n",
      "[CV 1/5; 72/72] END criterion=entropy, max_depth=15, n_estimators=500;, score=0.887 total time=   0.3s\n",
      "[CV 2/5; 72/72] START criterion=entropy, max_depth=15, n_estimators=500.........\n",
      "[CV 2/5; 72/72] END criterion=entropy, max_depth=15, n_estimators=500;, score=0.892 total time=   0.3s\n",
      "[CV 3/5; 72/72] START criterion=entropy, max_depth=15, n_estimators=500.........\n",
      "[CV 3/5; 72/72] END criterion=entropy, max_depth=15, n_estimators=500;, score=0.910 total time=   0.3s\n",
      "[CV 4/5; 72/72] START criterion=entropy, max_depth=15, n_estimators=500.........\n",
      "[CV 4/5; 72/72] END criterion=entropy, max_depth=15, n_estimators=500;, score=0.863 total time=   0.3s\n",
      "[CV 5/5; 72/72] START criterion=entropy, max_depth=15, n_estimators=500.........\n",
      "[CV 5/5; 72/72] END criterion=entropy, max_depth=15, n_estimators=500;, score=0.860 total time=   0.3s\n",
      "Best score: 0.8895\n",
      "Best parameters set:\n",
      "\tcriterion: entropy\n",
      "\tmax_depth: 11\n",
      "\tn_estimators: 100\n"
     ]
    }
   ],
   "source": [
    "# fit the model and extract best score\n",
    "model.fit(X, y)\n",
    "\n",
    "print(f\"Best score: {model.best_score_}\")\n",
    "print(\"Best parameters set:\")\n",
    "\n",
    "best_parameters = model.best_estimator_.get_params()\n",
    "for param_name in sorted(param_grid.keys()):\n",
    "    print(f\"\\t{param_name}: {best_parameters[param_name]}\")"
   ]
  },
  {
   "cell_type": "markdown",
   "metadata": {},
   "source": [
    "#### RandomSearch"
   ]
  },
  {
   "cell_type": "code",
   "execution_count": 9,
   "metadata": {},
   "outputs": [],
   "source": [
    "# define a grid of parameters\n",
    "# this can be a dictionary or a list of\n",
    "# dictionaries\n",
    "param_grid = {\n",
    "    \"n_estimators\": np.arange(100, 2000, 100),\n",
    "    \"max_depth\": np.arange(2, 64),\n",
    "    \"criterion\": [\"gini\", \"entropy\"]\n",
    "}"
   ]
  },
  {
   "cell_type": "code",
   "execution_count": 10,
   "metadata": {},
   "outputs": [],
   "source": [
    "# initialize random search\n",
    "# estimator is the model that we have defined\n",
    "# param_distributions is the grid/distribution of parameters\n",
    "# we use accuracy as our metric. you can define your own\n",
    "# higher value of verbose implies a lot of details are printed\n",
    "# cv=5 means that we are using 5 fold cv (not stratified)\n",
    "# n_iter is the number of iterations we want\n",
    "# if param_distributions has all the values as list,\n",
    "# random search will be done by sampling without replacement\n",
    "# if any of the parameters come from a distribution,\n",
    "# random search uses sampling with replacement\n",
    "model = model_selection.RandomizedSearchCV(\n",
    "    estimator=classifier,\n",
    "    param_distributions=param_grid,\n",
    "    n_iter=72,\n",
    "    scoring=\"accuracy\",\n",
    "    verbose=10,\n",
    "    n_jobs=1,\n",
    "    cv=5\n",
    ")"
   ]
  },
  {
   "cell_type": "code",
   "execution_count": 11,
   "metadata": {},
   "outputs": [
    {
     "name": "stdout",
     "output_type": "stream",
     "text": [
      "Fitting 5 folds for each of 72 candidates, totalling 360 fits\n",
      "[CV 1/5; 1/72] START criterion=gini, max_depth=12, n_estimators=1800............\n",
      "[CV 1/5; 1/72] END criterion=gini, max_depth=12, n_estimators=1800;, score=0.882 total time=   1.2s\n",
      "[CV 2/5; 1/72] START criterion=gini, max_depth=12, n_estimators=1800............\n",
      "[CV 2/5; 1/72] END criterion=gini, max_depth=12, n_estimators=1800;, score=0.887 total time=   1.2s\n",
      "[CV 3/5; 1/72] START criterion=gini, max_depth=12, n_estimators=1800............\n",
      "[CV 3/5; 1/72] END criterion=gini, max_depth=12, n_estimators=1800;, score=0.892 total time=   1.3s\n",
      "[CV 4/5; 1/72] START criterion=gini, max_depth=12, n_estimators=1800............\n",
      "[CV 4/5; 1/72] END criterion=gini, max_depth=12, n_estimators=1800;, score=0.863 total time=   1.3s\n",
      "[CV 5/5; 1/72] START criterion=gini, max_depth=12, n_estimators=1800............\n",
      "[CV 5/5; 1/72] END criterion=gini, max_depth=12, n_estimators=1800;, score=0.868 total time=   1.3s\n",
      "[CV 1/5; 2/72] START criterion=gini, max_depth=46, n_estimators=1600............\n",
      "[CV 1/5; 2/72] END criterion=gini, max_depth=46, n_estimators=1600;, score=0.885 total time=   1.1s\n",
      "[CV 2/5; 2/72] START criterion=gini, max_depth=46, n_estimators=1600............\n",
      "[CV 2/5; 2/72] END criterion=gini, max_depth=46, n_estimators=1600;, score=0.882 total time=   1.1s\n",
      "[CV 3/5; 2/72] START criterion=gini, max_depth=46, n_estimators=1600............\n",
      "[CV 3/5; 2/72] END criterion=gini, max_depth=46, n_estimators=1600;, score=0.902 total time=   1.1s\n",
      "[CV 4/5; 2/72] START criterion=gini, max_depth=46, n_estimators=1600............\n",
      "[CV 4/5; 2/72] END criterion=gini, max_depth=46, n_estimators=1600;, score=0.865 total time=   1.1s\n",
      "[CV 5/5; 2/72] START criterion=gini, max_depth=46, n_estimators=1600............\n",
      "[CV 5/5; 2/72] END criterion=gini, max_depth=46, n_estimators=1600;, score=0.860 total time=   1.1s\n",
      "[CV 1/5; 3/72] START criterion=entropy, max_depth=39, n_estimators=800..........\n",
      "[CV 1/5; 3/72] END criterion=entropy, max_depth=39, n_estimators=800;, score=0.892 total time=   0.5s\n",
      "[CV 2/5; 3/72] START criterion=entropy, max_depth=39, n_estimators=800..........\n",
      "[CV 2/5; 3/72] END criterion=entropy, max_depth=39, n_estimators=800;, score=0.892 total time=   0.6s\n",
      "[CV 3/5; 3/72] START criterion=entropy, max_depth=39, n_estimators=800..........\n",
      "[CV 3/5; 3/72] END criterion=entropy, max_depth=39, n_estimators=800;, score=0.907 total time=   0.7s\n",
      "[CV 4/5; 3/72] START criterion=entropy, max_depth=39, n_estimators=800..........\n",
      "[CV 4/5; 3/72] END criterion=entropy, max_depth=39, n_estimators=800;, score=0.868 total time=   0.6s\n",
      "[CV 5/5; 3/72] START criterion=entropy, max_depth=39, n_estimators=800..........\n",
      "[CV 5/5; 3/72] END criterion=entropy, max_depth=39, n_estimators=800;, score=0.873 total time=   0.5s\n",
      "[CV 1/5; 4/72] START criterion=entropy, max_depth=62, n_estimators=100..........\n",
      "[CV 1/5; 4/72] END criterion=entropy, max_depth=62, n_estimators=100;, score=0.870 total time=   0.0s\n",
      "[CV 2/5; 4/72] START criterion=entropy, max_depth=62, n_estimators=100..........\n",
      "[CV 2/5; 4/72] END criterion=entropy, max_depth=62, n_estimators=100;, score=0.877 total time=   0.0s\n",
      "[CV 3/5; 4/72] START criterion=entropy, max_depth=62, n_estimators=100..........\n",
      "[CV 3/5; 4/72] END criterion=entropy, max_depth=62, n_estimators=100;, score=0.895 total time=   0.0s\n",
      "[CV 4/5; 4/72] START criterion=entropy, max_depth=62, n_estimators=100..........\n",
      "[CV 4/5; 4/72] END criterion=entropy, max_depth=62, n_estimators=100;, score=0.873 total time=   0.0s\n",
      "[CV 5/5; 4/72] START criterion=entropy, max_depth=62, n_estimators=100..........\n",
      "[CV 5/5; 4/72] END criterion=entropy, max_depth=62, n_estimators=100;, score=0.873 total time=   0.0s\n",
      "[CV 1/5; 5/72] START criterion=entropy, max_depth=31, n_estimators=1800.........\n",
      "[CV 1/5; 5/72] END criterion=entropy, max_depth=31, n_estimators=1800;, score=0.890 total time=   1.3s\n",
      "[CV 2/5; 5/72] START criterion=entropy, max_depth=31, n_estimators=1800.........\n",
      "[CV 2/5; 5/72] END criterion=entropy, max_depth=31, n_estimators=1800;, score=0.895 total time=   1.4s\n",
      "[CV 3/5; 5/72] START criterion=entropy, max_depth=31, n_estimators=1800.........\n",
      "[CV 3/5; 5/72] END criterion=entropy, max_depth=31, n_estimators=1800;, score=0.912 total time=   1.4s\n",
      "[CV 4/5; 5/72] START criterion=entropy, max_depth=31, n_estimators=1800.........\n",
      "[CV 4/5; 5/72] END criterion=entropy, max_depth=31, n_estimators=1800;, score=0.870 total time=   1.4s\n",
      "[CV 5/5; 5/72] START criterion=entropy, max_depth=31, n_estimators=1800.........\n",
      "[CV 5/5; 5/72] END criterion=entropy, max_depth=31, n_estimators=1800;, score=0.875 total time=   1.3s\n",
      "[CV 1/5; 6/72] START criterion=entropy, max_depth=35, n_estimators=1400.........\n",
      "[CV 1/5; 6/72] END criterion=entropy, max_depth=35, n_estimators=1400;, score=0.887 total time=   1.0s\n",
      "[CV 2/5; 6/72] START criterion=entropy, max_depth=35, n_estimators=1400.........\n",
      "[CV 2/5; 6/72] END criterion=entropy, max_depth=35, n_estimators=1400;, score=0.895 total time=   1.0s\n",
      "[CV 3/5; 6/72] START criterion=entropy, max_depth=35, n_estimators=1400.........\n",
      "[CV 3/5; 6/72] END criterion=entropy, max_depth=35, n_estimators=1400;, score=0.910 total time=   1.0s\n",
      "[CV 4/5; 6/72] START criterion=entropy, max_depth=35, n_estimators=1400.........\n",
      "[CV 4/5; 6/72] END criterion=entropy, max_depth=35, n_estimators=1400;, score=0.868 total time=   1.0s\n",
      "[CV 5/5; 6/72] START criterion=entropy, max_depth=35, n_estimators=1400.........\n",
      "[CV 5/5; 6/72] END criterion=entropy, max_depth=35, n_estimators=1400;, score=0.870 total time=   1.0s\n",
      "[CV 1/5; 7/72] START criterion=gini, max_depth=32, n_estimators=1200............\n",
      "[CV 1/5; 7/72] END criterion=gini, max_depth=32, n_estimators=1200;, score=0.880 total time=   0.8s\n",
      "[CV 2/5; 7/72] START criterion=gini, max_depth=32, n_estimators=1200............\n",
      "[CV 2/5; 7/72] END criterion=gini, max_depth=32, n_estimators=1200;, score=0.887 total time=   0.8s\n",
      "[CV 3/5; 7/72] START criterion=gini, max_depth=32, n_estimators=1200............\n",
      "[CV 3/5; 7/72] END criterion=gini, max_depth=32, n_estimators=1200;, score=0.895 total time=   0.9s\n",
      "[CV 4/5; 7/72] START criterion=gini, max_depth=32, n_estimators=1200............\n",
      "[CV 4/5; 7/72] END criterion=gini, max_depth=32, n_estimators=1200;, score=0.873 total time=   0.8s\n",
      "[CV 5/5; 7/72] START criterion=gini, max_depth=32, n_estimators=1200............\n",
      "[CV 5/5; 7/72] END criterion=gini, max_depth=32, n_estimators=1200;, score=0.865 total time=   0.8s\n",
      "[CV 1/5; 8/72] START criterion=gini, max_depth=58, n_estimators=200.............\n",
      "[CV 1/5; 8/72] END criterion=gini, max_depth=58, n_estimators=200;, score=0.875 total time=   0.1s\n",
      "[CV 2/5; 8/72] START criterion=gini, max_depth=58, n_estimators=200.............\n",
      "[CV 2/5; 8/72] END criterion=gini, max_depth=58, n_estimators=200;, score=0.880 total time=   0.1s\n",
      "[CV 3/5; 8/72] START criterion=gini, max_depth=58, n_estimators=200.............\n",
      "[CV 3/5; 8/72] END criterion=gini, max_depth=58, n_estimators=200;, score=0.887 total time=   0.1s\n",
      "[CV 4/5; 8/72] START criterion=gini, max_depth=58, n_estimators=200.............\n",
      "[CV 4/5; 8/72] END criterion=gini, max_depth=58, n_estimators=200;, score=0.868 total time=   0.1s\n",
      "[CV 5/5; 8/72] START criterion=gini, max_depth=58, n_estimators=200.............\n",
      "[CV 5/5; 8/72] END criterion=gini, max_depth=58, n_estimators=200;, score=0.853 total time=   0.1s\n",
      "[CV 1/5; 9/72] START criterion=entropy, max_depth=37, n_estimators=400..........\n",
      "[CV 1/5; 9/72] END criterion=entropy, max_depth=37, n_estimators=400;, score=0.880 total time=   0.2s\n",
      "[CV 2/5; 9/72] START criterion=entropy, max_depth=37, n_estimators=400..........\n",
      "[CV 2/5; 9/72] END criterion=entropy, max_depth=37, n_estimators=400;, score=0.885 total time=   0.2s\n",
      "[CV 3/5; 9/72] START criterion=entropy, max_depth=37, n_estimators=400..........\n",
      "[CV 3/5; 9/72] END criterion=entropy, max_depth=37, n_estimators=400;, score=0.905 total time=   0.2s\n",
      "[CV 4/5; 9/72] START criterion=entropy, max_depth=37, n_estimators=400..........\n",
      "[CV 4/5; 9/72] END criterion=entropy, max_depth=37, n_estimators=400;, score=0.868 total time=   0.2s\n",
      "[CV 5/5; 9/72] START criterion=entropy, max_depth=37, n_estimators=400..........\n",
      "[CV 5/5; 9/72] END criterion=entropy, max_depth=37, n_estimators=400;, score=0.863 total time=   0.2s\n",
      "[CV 1/5; 10/72] START criterion=entropy, max_depth=29, n_estimators=1800........\n",
      "[CV 1/5; 10/72] END criterion=entropy, max_depth=29, n_estimators=1800;, score=0.890 total time=   1.4s\n",
      "[CV 2/5; 10/72] START criterion=entropy, max_depth=29, n_estimators=1800........\n",
      "[CV 2/5; 10/72] END criterion=entropy, max_depth=29, n_estimators=1800;, score=0.895 total time=   1.3s\n",
      "[CV 3/5; 10/72] START criterion=entropy, max_depth=29, n_estimators=1800........\n",
      "[CV 3/5; 10/72] END criterion=entropy, max_depth=29, n_estimators=1800;, score=0.912 total time=   1.5s\n",
      "[CV 4/5; 10/72] START criterion=entropy, max_depth=29, n_estimators=1800........\n",
      "[CV 4/5; 10/72] END criterion=entropy, max_depth=29, n_estimators=1800;, score=0.870 total time=   1.4s\n",
      "[CV 5/5; 10/72] START criterion=entropy, max_depth=29, n_estimators=1800........\n",
      "[CV 5/5; 10/72] END criterion=entropy, max_depth=29, n_estimators=1800;, score=0.875 total time=   1.3s\n",
      "[CV 1/5; 11/72] START criterion=entropy, max_depth=25, n_estimators=500.........\n",
      "[CV 1/5; 11/72] END criterion=entropy, max_depth=25, n_estimators=500;, score=0.890 total time=   0.3s\n",
      "[CV 2/5; 11/72] START criterion=entropy, max_depth=25, n_estimators=500.........\n",
      "[CV 2/5; 11/72] END criterion=entropy, max_depth=25, n_estimators=500;, score=0.885 total time=   0.3s\n",
      "[CV 3/5; 11/72] START criterion=entropy, max_depth=25, n_estimators=500.........\n",
      "[CV 3/5; 11/72] END criterion=entropy, max_depth=25, n_estimators=500;, score=0.912 total time=   0.3s\n",
      "[CV 4/5; 11/72] START criterion=entropy, max_depth=25, n_estimators=500.........\n",
      "[CV 4/5; 11/72] END criterion=entropy, max_depth=25, n_estimators=500;, score=0.870 total time=   0.3s\n",
      "[CV 5/5; 11/72] START criterion=entropy, max_depth=25, n_estimators=500.........\n",
      "[CV 5/5; 11/72] END criterion=entropy, max_depth=25, n_estimators=500;, score=0.870 total time=   0.3s\n",
      "[CV 1/5; 12/72] START criterion=gini, max_depth=21, n_estimators=1900...........\n",
      "[CV 1/5; 12/72] END criterion=gini, max_depth=21, n_estimators=1900;, score=0.885 total time=   1.2s\n",
      "[CV 2/5; 12/72] START criterion=gini, max_depth=21, n_estimators=1900...........\n",
      "[CV 2/5; 12/72] END criterion=gini, max_depth=21, n_estimators=1900;, score=0.885 total time=   1.2s\n",
      "[CV 3/5; 12/72] START criterion=gini, max_depth=21, n_estimators=1900...........\n",
      "[CV 3/5; 12/72] END criterion=gini, max_depth=21, n_estimators=1900;, score=0.900 total time=   1.3s\n",
      "[CV 4/5; 12/72] START criterion=gini, max_depth=21, n_estimators=1900...........\n",
      "[CV 4/5; 12/72] END criterion=gini, max_depth=21, n_estimators=1900;, score=0.868 total time=   1.2s\n",
      "[CV 5/5; 12/72] START criterion=gini, max_depth=21, n_estimators=1900...........\n",
      "[CV 5/5; 12/72] END criterion=gini, max_depth=21, n_estimators=1900;, score=0.860 total time=   1.2s\n",
      "[CV 1/5; 13/72] START criterion=gini, max_depth=21, n_estimators=1000...........\n",
      "[CV 1/5; 13/72] END criterion=gini, max_depth=21, n_estimators=1000;, score=0.887 total time=   0.6s\n",
      "[CV 2/5; 13/72] START criterion=gini, max_depth=21, n_estimators=1000...........\n",
      "[CV 2/5; 13/72] END criterion=gini, max_depth=21, n_estimators=1000;, score=0.887 total time=   0.6s\n",
      "[CV 3/5; 13/72] START criterion=gini, max_depth=21, n_estimators=1000...........\n",
      "[CV 3/5; 13/72] END criterion=gini, max_depth=21, n_estimators=1000;, score=0.895 total time=   0.6s\n",
      "[CV 4/5; 13/72] START criterion=gini, max_depth=21, n_estimators=1000...........\n",
      "[CV 4/5; 13/72] END criterion=gini, max_depth=21, n_estimators=1000;, score=0.865 total time=   0.6s\n",
      "[CV 5/5; 13/72] START criterion=gini, max_depth=21, n_estimators=1000...........\n",
      "[CV 5/5; 13/72] END criterion=gini, max_depth=21, n_estimators=1000;, score=0.863 total time=   0.6s\n",
      "[CV 1/5; 14/72] START criterion=entropy, max_depth=36, n_estimators=500.........\n",
      "[CV 1/5; 14/72] END criterion=entropy, max_depth=36, n_estimators=500;, score=0.890 total time=   0.3s\n",
      "[CV 2/5; 14/72] START criterion=entropy, max_depth=36, n_estimators=500.........\n",
      "[CV 2/5; 14/72] END criterion=entropy, max_depth=36, n_estimators=500;, score=0.885 total time=   0.3s\n",
      "[CV 3/5; 14/72] START criterion=entropy, max_depth=36, n_estimators=500.........\n",
      "[CV 3/5; 14/72] END criterion=entropy, max_depth=36, n_estimators=500;, score=0.912 total time=   0.3s\n",
      "[CV 4/5; 14/72] START criterion=entropy, max_depth=36, n_estimators=500.........\n",
      "[CV 4/5; 14/72] END criterion=entropy, max_depth=36, n_estimators=500;, score=0.870 total time=   0.3s\n",
      "[CV 5/5; 14/72] START criterion=entropy, max_depth=36, n_estimators=500.........\n",
      "[CV 5/5; 14/72] END criterion=entropy, max_depth=36, n_estimators=500;, score=0.870 total time=   0.3s\n",
      "[CV 1/5; 15/72] START criterion=entropy, max_depth=52, n_estimators=400.........\n",
      "[CV 1/5; 15/72] END criterion=entropy, max_depth=52, n_estimators=400;, score=0.880 total time=   0.2s\n",
      "[CV 2/5; 15/72] START criterion=entropy, max_depth=52, n_estimators=400.........\n",
      "[CV 2/5; 15/72] END criterion=entropy, max_depth=52, n_estimators=400;, score=0.885 total time=   0.2s\n",
      "[CV 3/5; 15/72] START criterion=entropy, max_depth=52, n_estimators=400.........\n",
      "[CV 3/5; 15/72] END criterion=entropy, max_depth=52, n_estimators=400;, score=0.905 total time=   0.2s\n",
      "[CV 4/5; 15/72] START criterion=entropy, max_depth=52, n_estimators=400.........\n",
      "[CV 4/5; 15/72] END criterion=entropy, max_depth=52, n_estimators=400;, score=0.868 total time=   0.3s\n",
      "[CV 5/5; 15/72] START criterion=entropy, max_depth=52, n_estimators=400.........\n",
      "[CV 5/5; 15/72] END criterion=entropy, max_depth=52, n_estimators=400;, score=0.863 total time=   0.2s\n",
      "[CV 1/5; 16/72] START criterion=entropy, max_depth=30, n_estimators=500.........\n",
      "[CV 1/5; 16/72] END criterion=entropy, max_depth=30, n_estimators=500;, score=0.890 total time=   0.3s\n",
      "[CV 2/5; 16/72] START criterion=entropy, max_depth=30, n_estimators=500.........\n",
      "[CV 2/5; 16/72] END criterion=entropy, max_depth=30, n_estimators=500;, score=0.885 total time=   0.3s\n",
      "[CV 3/5; 16/72] START criterion=entropy, max_depth=30, n_estimators=500.........\n",
      "[CV 3/5; 16/72] END criterion=entropy, max_depth=30, n_estimators=500;, score=0.912 total time=   0.3s\n",
      "[CV 4/5; 16/72] START criterion=entropy, max_depth=30, n_estimators=500.........\n",
      "[CV 4/5; 16/72] END criterion=entropy, max_depth=30, n_estimators=500;, score=0.870 total time=   0.3s\n",
      "[CV 5/5; 16/72] START criterion=entropy, max_depth=30, n_estimators=500.........\n",
      "[CV 5/5; 16/72] END criterion=entropy, max_depth=30, n_estimators=500;, score=0.870 total time=   0.3s\n",
      "[CV 1/5; 17/72] START criterion=gini, max_depth=29, n_estimators=500............\n",
      "[CV 1/5; 17/72] END criterion=gini, max_depth=29, n_estimators=500;, score=0.885 total time=   0.3s\n",
      "[CV 2/5; 17/72] START criterion=gini, max_depth=29, n_estimators=500............\n",
      "[CV 2/5; 17/72] END criterion=gini, max_depth=29, n_estimators=500;, score=0.887 total time=   0.3s\n",
      "[CV 3/5; 17/72] START criterion=gini, max_depth=29, n_estimators=500............\n",
      "[CV 3/5; 17/72] END criterion=gini, max_depth=29, n_estimators=500;, score=0.895 total time=   0.3s\n",
      "[CV 4/5; 17/72] START criterion=gini, max_depth=29, n_estimators=500............\n",
      "[CV 4/5; 17/72] END criterion=gini, max_depth=29, n_estimators=500;, score=0.868 total time=   0.3s\n",
      "[CV 5/5; 17/72] START criterion=gini, max_depth=29, n_estimators=500............\n",
      "[CV 5/5; 17/72] END criterion=gini, max_depth=29, n_estimators=500;, score=0.860 total time=   0.3s\n",
      "[CV 1/5; 18/72] START criterion=entropy, max_depth=28, n_estimators=1900........\n",
      "[CV 1/5; 18/72] END criterion=entropy, max_depth=28, n_estimators=1900;, score=0.887 total time=   1.3s\n",
      "[CV 2/5; 18/72] START criterion=entropy, max_depth=28, n_estimators=1900........\n",
      "[CV 2/5; 18/72] END criterion=entropy, max_depth=28, n_estimators=1900;, score=0.895 total time=   1.4s\n",
      "[CV 3/5; 18/72] START criterion=entropy, max_depth=28, n_estimators=1900........\n",
      "[CV 3/5; 18/72] END criterion=entropy, max_depth=28, n_estimators=1900;, score=0.910 total time=   1.4s\n",
      "[CV 4/5; 18/72] START criterion=entropy, max_depth=28, n_estimators=1900........\n",
      "[CV 4/5; 18/72] END criterion=entropy, max_depth=28, n_estimators=1900;, score=0.870 total time=   1.4s\n",
      "[CV 5/5; 18/72] START criterion=entropy, max_depth=28, n_estimators=1900........\n",
      "[CV 5/5; 18/72] END criterion=entropy, max_depth=28, n_estimators=1900;, score=0.875 total time=   1.4s\n",
      "[CV 1/5; 19/72] START criterion=gini, max_depth=49, n_estimators=100............\n",
      "[CV 1/5; 19/72] END criterion=gini, max_depth=49, n_estimators=100;, score=0.875 total time=   0.0s\n",
      "[CV 2/5; 19/72] START criterion=gini, max_depth=49, n_estimators=100............\n",
      "[CV 2/5; 19/72] END criterion=gini, max_depth=49, n_estimators=100;, score=0.880 total time=   0.0s\n",
      "[CV 3/5; 19/72] START criterion=gini, max_depth=49, n_estimators=100............\n",
      "[CV 3/5; 19/72] END criterion=gini, max_depth=49, n_estimators=100;, score=0.882 total time=   0.0s\n",
      "[CV 4/5; 19/72] START criterion=gini, max_depth=49, n_estimators=100............\n",
      "[CV 4/5; 19/72] END criterion=gini, max_depth=49, n_estimators=100;, score=0.873 total time=   0.0s\n",
      "[CV 5/5; 19/72] START criterion=gini, max_depth=49, n_estimators=100............\n",
      "[CV 5/5; 19/72] END criterion=gini, max_depth=49, n_estimators=100;, score=0.860 total time=   0.0s\n",
      "[CV 1/5; 20/72] START criterion=gini, max_depth=54, n_estimators=1600...........\n",
      "[CV 1/5; 20/72] END criterion=gini, max_depth=54, n_estimators=1600;, score=0.885 total time=   1.0s\n",
      "[CV 2/5; 20/72] START criterion=gini, max_depth=54, n_estimators=1600...........\n",
      "[CV 2/5; 20/72] END criterion=gini, max_depth=54, n_estimators=1600;, score=0.882 total time=   1.0s\n",
      "[CV 3/5; 20/72] START criterion=gini, max_depth=54, n_estimators=1600...........\n",
      "[CV 3/5; 20/72] END criterion=gini, max_depth=54, n_estimators=1600;, score=0.902 total time=   1.0s\n",
      "[CV 4/5; 20/72] START criterion=gini, max_depth=54, n_estimators=1600...........\n",
      "[CV 4/5; 20/72] END criterion=gini, max_depth=54, n_estimators=1600;, score=0.865 total time=   1.0s\n",
      "[CV 5/5; 20/72] START criterion=gini, max_depth=54, n_estimators=1600...........\n",
      "[CV 5/5; 20/72] END criterion=gini, max_depth=54, n_estimators=1600;, score=0.860 total time=   1.0s\n",
      "[CV 1/5; 21/72] START criterion=gini, max_depth=30, n_estimators=800............\n",
      "[CV 1/5; 21/72] END criterion=gini, max_depth=30, n_estimators=800;, score=0.885 total time=   0.5s\n",
      "[CV 2/5; 21/72] START criterion=gini, max_depth=30, n_estimators=800............\n",
      "[CV 2/5; 21/72] END criterion=gini, max_depth=30, n_estimators=800;, score=0.887 total time=   0.5s\n",
      "[CV 3/5; 21/72] START criterion=gini, max_depth=30, n_estimators=800............\n",
      "[CV 3/5; 21/72] END criterion=gini, max_depth=30, n_estimators=800;, score=0.897 total time=   0.5s\n",
      "[CV 4/5; 21/72] START criterion=gini, max_depth=30, n_estimators=800............\n",
      "[CV 4/5; 21/72] END criterion=gini, max_depth=30, n_estimators=800;, score=0.868 total time=   0.5s\n",
      "[CV 5/5; 21/72] START criterion=gini, max_depth=30, n_estimators=800............\n",
      "[CV 5/5; 21/72] END criterion=gini, max_depth=30, n_estimators=800;, score=0.863 total time=   0.5s\n",
      "[CV 1/5; 22/72] START criterion=gini, max_depth=11, n_estimators=1800...........\n",
      "[CV 1/5; 22/72] END criterion=gini, max_depth=11, n_estimators=1800;, score=0.880 total time=   1.2s\n",
      "[CV 2/5; 22/72] START criterion=gini, max_depth=11, n_estimators=1800...........\n",
      "[CV 2/5; 22/72] END criterion=gini, max_depth=11, n_estimators=1800;, score=0.887 total time=   1.2s\n",
      "[CV 3/5; 22/72] START criterion=gini, max_depth=11, n_estimators=1800...........\n",
      "[CV 3/5; 22/72] END criterion=gini, max_depth=11, n_estimators=1800;, score=0.892 total time=   1.2s\n",
      "[CV 4/5; 22/72] START criterion=gini, max_depth=11, n_estimators=1800...........\n",
      "[CV 4/5; 22/72] END criterion=gini, max_depth=11, n_estimators=1800;, score=0.860 total time=   1.2s\n",
      "[CV 5/5; 22/72] START criterion=gini, max_depth=11, n_estimators=1800...........\n",
      "[CV 5/5; 22/72] END criterion=gini, max_depth=11, n_estimators=1800;, score=0.860 total time=   1.2s\n",
      "[CV 1/5; 23/72] START criterion=gini, max_depth=18, n_estimators=1000...........\n",
      "[CV 1/5; 23/72] END criterion=gini, max_depth=18, n_estimators=1000;, score=0.885 total time=   0.5s\n",
      "[CV 2/5; 23/72] START criterion=gini, max_depth=18, n_estimators=1000...........\n",
      "[CV 2/5; 23/72] END criterion=gini, max_depth=18, n_estimators=1000;, score=0.890 total time=   0.7s\n",
      "[CV 3/5; 23/72] START criterion=gini, max_depth=18, n_estimators=1000...........\n",
      "[CV 3/5; 23/72] END criterion=gini, max_depth=18, n_estimators=1000;, score=0.895 total time=   0.6s\n",
      "[CV 4/5; 23/72] START criterion=gini, max_depth=18, n_estimators=1000...........\n",
      "[CV 4/5; 23/72] END criterion=gini, max_depth=18, n_estimators=1000;, score=0.863 total time=   0.6s\n",
      "[CV 5/5; 23/72] START criterion=gini, max_depth=18, n_estimators=1000...........\n",
      "[CV 5/5; 23/72] END criterion=gini, max_depth=18, n_estimators=1000;, score=0.860 total time=   0.6s\n",
      "[CV 1/5; 24/72] START criterion=entropy, max_depth=33, n_estimators=1300........\n",
      "[CV 1/5; 24/72] END criterion=entropy, max_depth=33, n_estimators=1300;, score=0.885 total time=   1.0s\n",
      "[CV 2/5; 24/72] START criterion=entropy, max_depth=33, n_estimators=1300........\n",
      "[CV 2/5; 24/72] END criterion=entropy, max_depth=33, n_estimators=1300;, score=0.892 total time=   1.0s\n",
      "[CV 3/5; 24/72] START criterion=entropy, max_depth=33, n_estimators=1300........\n",
      "[CV 3/5; 24/72] END criterion=entropy, max_depth=33, n_estimators=1300;, score=0.910 total time=   1.0s\n",
      "[CV 4/5; 24/72] START criterion=entropy, max_depth=33, n_estimators=1300........\n",
      "[CV 4/5; 24/72] END criterion=entropy, max_depth=33, n_estimators=1300;, score=0.870 total time=   1.0s\n",
      "[CV 5/5; 24/72] START criterion=entropy, max_depth=33, n_estimators=1300........\n",
      "[CV 5/5; 24/72] END criterion=entropy, max_depth=33, n_estimators=1300;, score=0.870 total time=   1.0s\n",
      "[CV 1/5; 25/72] START criterion=gini, max_depth=35, n_estimators=400............\n",
      "[CV 1/5; 25/72] END criterion=gini, max_depth=35, n_estimators=400;, score=0.882 total time=   0.2s\n",
      "[CV 2/5; 25/72] START criterion=gini, max_depth=35, n_estimators=400............\n",
      "[CV 2/5; 25/72] END criterion=gini, max_depth=35, n_estimators=400;, score=0.887 total time=   0.2s\n",
      "[CV 3/5; 25/72] START criterion=gini, max_depth=35, n_estimators=400............\n",
      "[CV 3/5; 25/72] END criterion=gini, max_depth=35, n_estimators=400;, score=0.900 total time=   0.2s\n",
      "[CV 4/5; 25/72] START criterion=gini, max_depth=35, n_estimators=400............\n",
      "[CV 4/5; 25/72] END criterion=gini, max_depth=35, n_estimators=400;, score=0.868 total time=   0.2s\n",
      "[CV 5/5; 25/72] START criterion=gini, max_depth=35, n_estimators=400............\n",
      "[CV 5/5; 25/72] END criterion=gini, max_depth=35, n_estimators=400;, score=0.858 total time=   0.2s\n",
      "[CV 1/5; 26/72] START criterion=entropy, max_depth=52, n_estimators=1100........\n",
      "[CV 1/5; 26/72] END criterion=entropy, max_depth=52, n_estimators=1100;, score=0.890 total time=   0.8s\n",
      "[CV 2/5; 26/72] START criterion=entropy, max_depth=52, n_estimators=1100........\n",
      "[CV 2/5; 26/72] END criterion=entropy, max_depth=52, n_estimators=1100;, score=0.892 total time=   0.7s\n",
      "[CV 3/5; 26/72] START criterion=entropy, max_depth=52, n_estimators=1100........\n",
      "[CV 3/5; 26/72] END criterion=entropy, max_depth=52, n_estimators=1100;, score=0.915 total time=   0.8s\n",
      "[CV 4/5; 26/72] START criterion=entropy, max_depth=52, n_estimators=1100........\n",
      "[CV 4/5; 26/72] END criterion=entropy, max_depth=52, n_estimators=1100;, score=0.870 total time=   0.8s\n",
      "[CV 5/5; 26/72] START criterion=entropy, max_depth=52, n_estimators=1100........\n",
      "[CV 5/5; 26/72] END criterion=entropy, max_depth=52, n_estimators=1100;, score=0.870 total time=   0.8s\n",
      "[CV 1/5; 27/72] START criterion=gini, max_depth=61, n_estimators=600............\n",
      "[CV 1/5; 27/72] END criterion=gini, max_depth=61, n_estimators=600;, score=0.885 total time=   0.4s\n",
      "[CV 2/5; 27/72] START criterion=gini, max_depth=61, n_estimators=600............\n",
      "[CV 2/5; 27/72] END criterion=gini, max_depth=61, n_estimators=600;, score=0.877 total time=   0.4s\n",
      "[CV 3/5; 27/72] START criterion=gini, max_depth=61, n_estimators=600............\n",
      "[CV 3/5; 27/72] END criterion=gini, max_depth=61, n_estimators=600;, score=0.895 total time=   0.4s\n",
      "[CV 4/5; 27/72] START criterion=gini, max_depth=61, n_estimators=600............\n",
      "[CV 4/5; 27/72] END criterion=gini, max_depth=61, n_estimators=600;, score=0.865 total time=   0.4s\n",
      "[CV 5/5; 27/72] START criterion=gini, max_depth=61, n_estimators=600............\n",
      "[CV 5/5; 27/72] END criterion=gini, max_depth=61, n_estimators=600;, score=0.868 total time=   0.4s\n",
      "[CV 1/5; 28/72] START criterion=gini, max_depth=49, n_estimators=1300...........\n",
      "[CV 1/5; 28/72] END criterion=gini, max_depth=49, n_estimators=1300;, score=0.882 total time=   0.9s\n",
      "[CV 2/5; 28/72] START criterion=gini, max_depth=49, n_estimators=1300...........\n",
      "[CV 2/5; 28/72] END criterion=gini, max_depth=49, n_estimators=1300;, score=0.885 total time=   1.0s\n",
      "[CV 3/5; 28/72] START criterion=gini, max_depth=49, n_estimators=1300...........\n",
      "[CV 3/5; 28/72] END criterion=gini, max_depth=49, n_estimators=1300;, score=0.897 total time=   0.9s\n",
      "[CV 4/5; 28/72] START criterion=gini, max_depth=49, n_estimators=1300...........\n",
      "[CV 4/5; 28/72] END criterion=gini, max_depth=49, n_estimators=1300;, score=0.863 total time=   0.9s\n",
      "[CV 5/5; 28/72] START criterion=gini, max_depth=49, n_estimators=1300...........\n",
      "[CV 5/5; 28/72] END criterion=gini, max_depth=49, n_estimators=1300;, score=0.860 total time=   0.9s\n",
      "[CV 1/5; 29/72] START criterion=gini, max_depth=63, n_estimators=1400...........\n",
      "[CV 1/5; 29/72] END criterion=gini, max_depth=63, n_estimators=1400;, score=0.882 total time=   0.9s\n",
      "[CV 2/5; 29/72] START criterion=gini, max_depth=63, n_estimators=1400...........\n",
      "[CV 2/5; 29/72] END criterion=gini, max_depth=63, n_estimators=1400;, score=0.882 total time=   0.9s\n",
      "[CV 3/5; 29/72] START criterion=gini, max_depth=63, n_estimators=1400...........\n",
      "[CV 3/5; 29/72] END criterion=gini, max_depth=63, n_estimators=1400;, score=0.900 total time=   0.9s\n",
      "[CV 4/5; 29/72] START criterion=gini, max_depth=63, n_estimators=1400...........\n",
      "[CV 4/5; 29/72] END criterion=gini, max_depth=63, n_estimators=1400;, score=0.865 total time=   0.9s\n",
      "[CV 5/5; 29/72] START criterion=gini, max_depth=63, n_estimators=1400...........\n",
      "[CV 5/5; 29/72] END criterion=gini, max_depth=63, n_estimators=1400;, score=0.858 total time=   0.9s\n",
      "[CV 1/5; 30/72] START criterion=gini, max_depth=14, n_estimators=800............\n",
      "[CV 1/5; 30/72] END criterion=gini, max_depth=14, n_estimators=800;, score=0.887 total time=   0.5s\n",
      "[CV 2/5; 30/72] START criterion=gini, max_depth=14, n_estimators=800............\n",
      "[CV 2/5; 30/72] END criterion=gini, max_depth=14, n_estimators=800;, score=0.877 total time=   0.5s\n",
      "[CV 3/5; 30/72] START criterion=gini, max_depth=14, n_estimators=800............\n",
      "[CV 3/5; 30/72] END criterion=gini, max_depth=14, n_estimators=800;, score=0.897 total time=   0.5s\n",
      "[CV 4/5; 30/72] START criterion=gini, max_depth=14, n_estimators=800............\n",
      "[CV 4/5; 30/72] END criterion=gini, max_depth=14, n_estimators=800;, score=0.865 total time=   0.5s\n",
      "[CV 5/5; 30/72] START criterion=gini, max_depth=14, n_estimators=800............\n",
      "[CV 5/5; 30/72] END criterion=gini, max_depth=14, n_estimators=800;, score=0.863 total time=   0.5s\n",
      "[CV 1/5; 31/72] START criterion=entropy, max_depth=12, n_estimators=400.........\n",
      "[CV 1/5; 31/72] END criterion=entropy, max_depth=12, n_estimators=400;, score=0.880 total time=   0.2s\n",
      "[CV 2/5; 31/72] START criterion=entropy, max_depth=12, n_estimators=400.........\n",
      "[CV 2/5; 31/72] END criterion=entropy, max_depth=12, n_estimators=400;, score=0.897 total time=   0.2s\n",
      "[CV 3/5; 31/72] START criterion=entropy, max_depth=12, n_estimators=400.........\n",
      "[CV 3/5; 31/72] END criterion=entropy, max_depth=12, n_estimators=400;, score=0.907 total time=   0.2s\n",
      "[CV 4/5; 31/72] START criterion=entropy, max_depth=12, n_estimators=400.........\n",
      "[CV 4/5; 31/72] END criterion=entropy, max_depth=12, n_estimators=400;, score=0.868 total time=   0.2s\n",
      "[CV 5/5; 31/72] START criterion=entropy, max_depth=12, n_estimators=400.........\n",
      "[CV 5/5; 31/72] END criterion=entropy, max_depth=12, n_estimators=400;, score=0.865 total time=   0.2s\n",
      "[CV 1/5; 32/72] START criterion=gini, max_depth=5, n_estimators=1500............\n",
      "[CV 1/5; 32/72] END criterion=gini, max_depth=5, n_estimators=1500;, score=0.835 total time=   0.8s\n",
      "[CV 2/5; 32/72] START criterion=gini, max_depth=5, n_estimators=1500............\n",
      "[CV 2/5; 32/72] END criterion=gini, max_depth=5, n_estimators=1500;, score=0.843 total time=   0.9s\n",
      "[CV 3/5; 32/72] START criterion=gini, max_depth=5, n_estimators=1500............\n",
      "[CV 3/5; 32/72] END criterion=gini, max_depth=5, n_estimators=1500;, score=0.882 total time=   0.8s\n",
      "[CV 4/5; 32/72] START criterion=gini, max_depth=5, n_estimators=1500............\n",
      "[CV 4/5; 32/72] END criterion=gini, max_depth=5, n_estimators=1500;, score=0.833 total time=   0.8s\n",
      "[CV 5/5; 32/72] START criterion=gini, max_depth=5, n_estimators=1500............\n",
      "[CV 5/5; 32/72] END criterion=gini, max_depth=5, n_estimators=1500;, score=0.825 total time=   0.8s\n",
      "[CV 1/5; 33/72] START criterion=gini, max_depth=8, n_estimators=1500............\n",
      "[CV 1/5; 33/72] END criterion=gini, max_depth=8, n_estimators=1500;, score=0.880 total time=   0.9s\n",
      "[CV 2/5; 33/72] START criterion=gini, max_depth=8, n_estimators=1500............\n",
      "[CV 2/5; 33/72] END criterion=gini, max_depth=8, n_estimators=1500;, score=0.880 total time=   0.8s\n",
      "[CV 3/5; 33/72] START criterion=gini, max_depth=8, n_estimators=1500............\n",
      "[CV 3/5; 33/72] END criterion=gini, max_depth=8, n_estimators=1500;, score=0.890 total time=   0.9s\n",
      "[CV 4/5; 33/72] START criterion=gini, max_depth=8, n_estimators=1500............\n",
      "[CV 4/5; 33/72] END criterion=gini, max_depth=8, n_estimators=1500;, score=0.868 total time=   0.9s\n",
      "[CV 5/5; 33/72] START criterion=gini, max_depth=8, n_estimators=1500............\n",
      "[CV 5/5; 33/72] END criterion=gini, max_depth=8, n_estimators=1500;, score=0.860 total time=   0.9s\n",
      "[CV 1/5; 34/72] START criterion=gini, max_depth=7, n_estimators=900.............\n",
      "[CV 1/5; 34/72] END criterion=gini, max_depth=7, n_estimators=900;, score=0.870 total time=   0.6s\n",
      "[CV 2/5; 34/72] START criterion=gini, max_depth=7, n_estimators=900.............\n",
      "[CV 2/5; 34/72] END criterion=gini, max_depth=7, n_estimators=900;, score=0.870 total time=   0.6s\n",
      "[CV 3/5; 34/72] START criterion=gini, max_depth=7, n_estimators=900.............\n",
      "[CV 3/5; 34/72] END criterion=gini, max_depth=7, n_estimators=900;, score=0.890 total time=   0.5s\n",
      "[CV 4/5; 34/72] START criterion=gini, max_depth=7, n_estimators=900.............\n",
      "[CV 4/5; 34/72] END criterion=gini, max_depth=7, n_estimators=900;, score=0.863 total time=   0.6s\n",
      "[CV 5/5; 34/72] START criterion=gini, max_depth=7, n_estimators=900.............\n",
      "[CV 5/5; 34/72] END criterion=gini, max_depth=7, n_estimators=900;, score=0.850 total time=   0.6s\n",
      "[CV 1/5; 35/72] START criterion=gini, max_depth=16, n_estimators=1600...........\n",
      "[CV 1/5; 35/72] END criterion=gini, max_depth=16, n_estimators=1600;, score=0.885 total time=   1.0s\n",
      "[CV 2/5; 35/72] START criterion=gini, max_depth=16, n_estimators=1600...........\n",
      "[CV 2/5; 35/72] END criterion=gini, max_depth=16, n_estimators=1600;, score=0.882 total time=   1.0s\n",
      "[CV 3/5; 35/72] START criterion=gini, max_depth=16, n_estimators=1600...........\n",
      "[CV 3/5; 35/72] END criterion=gini, max_depth=16, n_estimators=1600;, score=0.900 total time=   1.1s\n",
      "[CV 4/5; 35/72] START criterion=gini, max_depth=16, n_estimators=1600...........\n",
      "[CV 4/5; 35/72] END criterion=gini, max_depth=16, n_estimators=1600;, score=0.868 total time=   1.0s\n",
      "[CV 5/5; 35/72] START criterion=gini, max_depth=16, n_estimators=1600...........\n",
      "[CV 5/5; 35/72] END criterion=gini, max_depth=16, n_estimators=1600;, score=0.870 total time=   1.0s\n",
      "[CV 1/5; 36/72] START criterion=entropy, max_depth=20, n_estimators=1400........\n",
      "[CV 1/5; 36/72] END criterion=entropy, max_depth=20, n_estimators=1400;, score=0.882 total time=   1.0s\n",
      "[CV 2/5; 36/72] START criterion=entropy, max_depth=20, n_estimators=1400........\n",
      "[CV 2/5; 36/72] END criterion=entropy, max_depth=20, n_estimators=1400;, score=0.895 total time=   1.0s\n",
      "[CV 3/5; 36/72] START criterion=entropy, max_depth=20, n_estimators=1400........\n",
      "[CV 3/5; 36/72] END criterion=entropy, max_depth=20, n_estimators=1400;, score=0.912 total time=   1.0s\n",
      "[CV 4/5; 36/72] START criterion=entropy, max_depth=20, n_estimators=1400........\n",
      "[CV 4/5; 36/72] END criterion=entropy, max_depth=20, n_estimators=1400;, score=0.868 total time=   1.0s\n",
      "[CV 5/5; 36/72] START criterion=entropy, max_depth=20, n_estimators=1400........\n",
      "[CV 5/5; 36/72] END criterion=entropy, max_depth=20, n_estimators=1400;, score=0.870 total time=   1.0s\n",
      "[CV 1/5; 37/72] START criterion=entropy, max_depth=17, n_estimators=1100........\n",
      "[CV 1/5; 37/72] END criterion=entropy, max_depth=17, n_estimators=1100;, score=0.885 total time=   0.7s\n",
      "[CV 2/5; 37/72] START criterion=entropy, max_depth=17, n_estimators=1100........\n",
      "[CV 2/5; 37/72] END criterion=entropy, max_depth=17, n_estimators=1100;, score=0.892 total time=   0.8s\n",
      "[CV 3/5; 37/72] START criterion=entropy, max_depth=17, n_estimators=1100........\n",
      "[CV 3/5; 37/72] END criterion=entropy, max_depth=17, n_estimators=1100;, score=0.910 total time=   0.8s\n",
      "[CV 4/5; 37/72] START criterion=entropy, max_depth=17, n_estimators=1100........\n",
      "[CV 4/5; 37/72] END criterion=entropy, max_depth=17, n_estimators=1100;, score=0.870 total time=   0.8s\n",
      "[CV 5/5; 37/72] START criterion=entropy, max_depth=17, n_estimators=1100........\n",
      "[CV 5/5; 37/72] END criterion=entropy, max_depth=17, n_estimators=1100;, score=0.875 total time=   0.9s\n",
      "[CV 1/5; 38/72] START criterion=entropy, max_depth=43, n_estimators=300.........\n",
      "[CV 1/5; 38/72] END criterion=entropy, max_depth=43, n_estimators=300;, score=0.885 total time=   0.3s\n",
      "[CV 2/5; 38/72] START criterion=entropy, max_depth=43, n_estimators=300.........\n",
      "[CV 2/5; 38/72] END criterion=entropy, max_depth=43, n_estimators=300;, score=0.892 total time=   0.2s\n",
      "[CV 3/5; 38/72] START criterion=entropy, max_depth=43, n_estimators=300.........\n",
      "[CV 3/5; 38/72] END criterion=entropy, max_depth=43, n_estimators=300;, score=0.907 total time=   0.2s\n",
      "[CV 4/5; 38/72] START criterion=entropy, max_depth=43, n_estimators=300.........\n",
      "[CV 4/5; 38/72] END criterion=entropy, max_depth=43, n_estimators=300;, score=0.870 total time=   0.2s\n",
      "[CV 5/5; 38/72] START criterion=entropy, max_depth=43, n_estimators=300.........\n",
      "[CV 5/5; 38/72] END criterion=entropy, max_depth=43, n_estimators=300;, score=0.868 total time=   0.2s\n",
      "[CV 1/5; 39/72] START criterion=gini, max_depth=55, n_estimators=1800...........\n",
      "[CV 1/5; 39/72] END criterion=gini, max_depth=55, n_estimators=1800;, score=0.885 total time=   1.3s\n",
      "[CV 2/5; 39/72] START criterion=gini, max_depth=55, n_estimators=1800...........\n",
      "[CV 2/5; 39/72] END criterion=gini, max_depth=55, n_estimators=1800;, score=0.885 total time=   1.4s\n",
      "[CV 3/5; 39/72] START criterion=gini, max_depth=55, n_estimators=1800...........\n",
      "[CV 3/5; 39/72] END criterion=gini, max_depth=55, n_estimators=1800;, score=0.905 total time=   1.3s\n",
      "[CV 4/5; 39/72] START criterion=gini, max_depth=55, n_estimators=1800...........\n",
      "[CV 4/5; 39/72] END criterion=gini, max_depth=55, n_estimators=1800;, score=0.865 total time=   1.4s\n",
      "[CV 5/5; 39/72] START criterion=gini, max_depth=55, n_estimators=1800...........\n",
      "[CV 5/5; 39/72] END criterion=gini, max_depth=55, n_estimators=1800;, score=0.865 total time=   1.2s\n",
      "[CV 1/5; 40/72] START criterion=gini, max_depth=28, n_estimators=1700...........\n",
      "[CV 1/5; 40/72] END criterion=gini, max_depth=28, n_estimators=1700;, score=0.882 total time=   1.2s\n",
      "[CV 2/5; 40/72] START criterion=gini, max_depth=28, n_estimators=1700...........\n",
      "[CV 2/5; 40/72] END criterion=gini, max_depth=28, n_estimators=1700;, score=0.885 total time=   1.1s\n",
      "[CV 3/5; 40/72] START criterion=gini, max_depth=28, n_estimators=1700...........\n",
      "[CV 3/5; 40/72] END criterion=gini, max_depth=28, n_estimators=1700;, score=0.905 total time=   1.2s\n",
      "[CV 4/5; 40/72] START criterion=gini, max_depth=28, n_estimators=1700...........\n",
      "[CV 4/5; 40/72] END criterion=gini, max_depth=28, n_estimators=1700;, score=0.865 total time=   1.1s\n",
      "[CV 5/5; 40/72] START criterion=gini, max_depth=28, n_estimators=1700...........\n",
      "[CV 5/5; 40/72] END criterion=gini, max_depth=28, n_estimators=1700;, score=0.863 total time=   1.1s\n",
      "[CV 1/5; 41/72] START criterion=gini, max_depth=55, n_estimators=1000...........\n",
      "[CV 1/5; 41/72] END criterion=gini, max_depth=55, n_estimators=1000;, score=0.887 total time=   0.6s\n",
      "[CV 2/5; 41/72] START criterion=gini, max_depth=55, n_estimators=1000...........\n",
      "[CV 2/5; 41/72] END criterion=gini, max_depth=55, n_estimators=1000;, score=0.890 total time=   0.6s\n",
      "[CV 3/5; 41/72] START criterion=gini, max_depth=55, n_estimators=1000...........\n",
      "[CV 3/5; 41/72] END criterion=gini, max_depth=55, n_estimators=1000;, score=0.895 total time=   0.6s\n",
      "[CV 4/5; 41/72] START criterion=gini, max_depth=55, n_estimators=1000...........\n",
      "[CV 4/5; 41/72] END criterion=gini, max_depth=55, n_estimators=1000;, score=0.865 total time=   0.6s\n",
      "[CV 5/5; 41/72] START criterion=gini, max_depth=55, n_estimators=1000...........\n",
      "[CV 5/5; 41/72] END criterion=gini, max_depth=55, n_estimators=1000;, score=0.863 total time=   0.6s\n",
      "[CV 1/5; 42/72] START criterion=entropy, max_depth=41, n_estimators=1000........\n",
      "[CV 1/5; 42/72] END criterion=entropy, max_depth=41, n_estimators=1000;, score=0.890 total time=   0.7s\n",
      "[CV 2/5; 42/72] START criterion=entropy, max_depth=41, n_estimators=1000........\n",
      "[CV 2/5; 42/72] END criterion=entropy, max_depth=41, n_estimators=1000;, score=0.890 total time=   0.7s\n",
      "[CV 3/5; 42/72] START criterion=entropy, max_depth=41, n_estimators=1000........\n",
      "[CV 3/5; 42/72] END criterion=entropy, max_depth=41, n_estimators=1000;, score=0.907 total time=   0.6s\n",
      "[CV 4/5; 42/72] START criterion=entropy, max_depth=41, n_estimators=1000........\n",
      "[CV 4/5; 42/72] END criterion=entropy, max_depth=41, n_estimators=1000;, score=0.873 total time=   0.7s\n",
      "[CV 5/5; 42/72] START criterion=entropy, max_depth=41, n_estimators=1000........\n",
      "[CV 5/5; 42/72] END criterion=entropy, max_depth=41, n_estimators=1000;, score=0.875 total time=   0.7s\n",
      "[CV 1/5; 43/72] START criterion=gini, max_depth=31, n_estimators=100............\n",
      "[CV 1/5; 43/72] END criterion=gini, max_depth=31, n_estimators=100;, score=0.875 total time=   0.0s\n",
      "[CV 2/5; 43/72] START criterion=gini, max_depth=31, n_estimators=100............\n",
      "[CV 2/5; 43/72] END criterion=gini, max_depth=31, n_estimators=100;, score=0.880 total time=   0.0s\n",
      "[CV 3/5; 43/72] START criterion=gini, max_depth=31, n_estimators=100............\n",
      "[CV 3/5; 43/72] END criterion=gini, max_depth=31, n_estimators=100;, score=0.882 total time=   0.0s\n",
      "[CV 4/5; 43/72] START criterion=gini, max_depth=31, n_estimators=100............\n",
      "[CV 4/5; 43/72] END criterion=gini, max_depth=31, n_estimators=100;, score=0.873 total time=   0.0s\n",
      "[CV 5/5; 43/72] START criterion=gini, max_depth=31, n_estimators=100............\n",
      "[CV 5/5; 43/72] END criterion=gini, max_depth=31, n_estimators=100;, score=0.860 total time=   0.0s\n",
      "[CV 1/5; 44/72] START criterion=entropy, max_depth=37, n_estimators=600.........\n",
      "[CV 1/5; 44/72] END criterion=entropy, max_depth=37, n_estimators=600;, score=0.887 total time=   0.5s\n",
      "[CV 2/5; 44/72] START criterion=entropy, max_depth=37, n_estimators=600.........\n",
      "[CV 2/5; 44/72] END criterion=entropy, max_depth=37, n_estimators=600;, score=0.890 total time=   0.5s\n",
      "[CV 3/5; 44/72] START criterion=entropy, max_depth=37, n_estimators=600.........\n",
      "[CV 3/5; 44/72] END criterion=entropy, max_depth=37, n_estimators=600;, score=0.910 total time=   0.5s\n",
      "[CV 4/5; 44/72] START criterion=entropy, max_depth=37, n_estimators=600.........\n",
      "[CV 4/5; 44/72] END criterion=entropy, max_depth=37, n_estimators=600;, score=0.870 total time=   0.4s\n",
      "[CV 5/5; 44/72] START criterion=entropy, max_depth=37, n_estimators=600.........\n",
      "[CV 5/5; 44/72] END criterion=entropy, max_depth=37, n_estimators=600;, score=0.870 total time=   0.4s\n",
      "[CV 1/5; 45/72] START criterion=gini, max_depth=7, n_estimators=1700............\n",
      "[CV 1/5; 45/72] END criterion=gini, max_depth=7, n_estimators=1700;, score=0.863 total time=   1.0s\n",
      "[CV 2/5; 45/72] START criterion=gini, max_depth=7, n_estimators=1700............\n",
      "[CV 2/5; 45/72] END criterion=gini, max_depth=7, n_estimators=1700;, score=0.868 total time=   1.0s\n",
      "[CV 3/5; 45/72] START criterion=gini, max_depth=7, n_estimators=1700............\n",
      "[CV 3/5; 45/72] END criterion=gini, max_depth=7, n_estimators=1700;, score=0.880 total time=   1.0s\n",
      "[CV 4/5; 45/72] START criterion=gini, max_depth=7, n_estimators=1700............\n",
      "[CV 4/5; 45/72] END criterion=gini, max_depth=7, n_estimators=1700;, score=0.865 total time=   1.0s\n",
      "[CV 5/5; 45/72] START criterion=gini, max_depth=7, n_estimators=1700............\n",
      "[CV 5/5; 45/72] END criterion=gini, max_depth=7, n_estimators=1700;, score=0.848 total time=   1.0s\n",
      "[CV 1/5; 46/72] START criterion=entropy, max_depth=8, n_estimators=900..........\n",
      "[CV 1/5; 46/72] END criterion=entropy, max_depth=8, n_estimators=900;, score=0.880 total time=   0.7s\n",
      "[CV 2/5; 46/72] START criterion=entropy, max_depth=8, n_estimators=900..........\n",
      "[CV 2/5; 46/72] END criterion=entropy, max_depth=8, n_estimators=900;, score=0.882 total time=   0.6s\n",
      "[CV 3/5; 46/72] START criterion=entropy, max_depth=8, n_estimators=900..........\n",
      "[CV 3/5; 46/72] END criterion=entropy, max_depth=8, n_estimators=900;, score=0.902 total time=   0.6s\n",
      "[CV 4/5; 46/72] START criterion=entropy, max_depth=8, n_estimators=900..........\n",
      "[CV 4/5; 46/72] END criterion=entropy, max_depth=8, n_estimators=900;, score=0.858 total time=   0.6s\n",
      "[CV 5/5; 46/72] START criterion=entropy, max_depth=8, n_estimators=900..........\n",
      "[CV 5/5; 46/72] END criterion=entropy, max_depth=8, n_estimators=900;, score=0.855 total time=   0.6s\n",
      "[CV 1/5; 47/72] START criterion=entropy, max_depth=6, n_estimators=900..........\n",
      "[CV 1/5; 47/72] END criterion=entropy, max_depth=6, n_estimators=900;, score=0.853 total time=   0.6s\n",
      "[CV 2/5; 47/72] START criterion=entropy, max_depth=6, n_estimators=900..........\n",
      "[CV 2/5; 47/72] END criterion=entropy, max_depth=6, n_estimators=900;, score=0.858 total time=   0.6s\n",
      "[CV 3/5; 47/72] START criterion=entropy, max_depth=6, n_estimators=900..........\n",
      "[CV 3/5; 47/72] END criterion=entropy, max_depth=6, n_estimators=900;, score=0.887 total time=   0.6s\n",
      "[CV 4/5; 47/72] START criterion=entropy, max_depth=6, n_estimators=900..........\n",
      "[CV 4/5; 47/72] END criterion=entropy, max_depth=6, n_estimators=900;, score=0.853 total time=   0.6s\n",
      "[CV 5/5; 47/72] START criterion=entropy, max_depth=6, n_estimators=900..........\n",
      "[CV 5/5; 47/72] END criterion=entropy, max_depth=6, n_estimators=900;, score=0.850 total time=   0.6s\n",
      "[CV 1/5; 48/72] START criterion=entropy, max_depth=13, n_estimators=1000........\n",
      "[CV 1/5; 48/72] END criterion=entropy, max_depth=13, n_estimators=1000;, score=0.895 total time=   0.6s\n",
      "[CV 2/5; 48/72] START criterion=entropy, max_depth=13, n_estimators=1000........\n",
      "[CV 2/5; 48/72] END criterion=entropy, max_depth=13, n_estimators=1000;, score=0.890 total time=   0.6s\n",
      "[CV 3/5; 48/72] START criterion=entropy, max_depth=13, n_estimators=1000........\n",
      "[CV 3/5; 48/72] END criterion=entropy, max_depth=13, n_estimators=1000;, score=0.907 total time=   0.6s\n",
      "[CV 4/5; 48/72] START criterion=entropy, max_depth=13, n_estimators=1000........\n",
      "[CV 4/5; 48/72] END criterion=entropy, max_depth=13, n_estimators=1000;, score=0.870 total time=   0.7s\n",
      "[CV 5/5; 48/72] START criterion=entropy, max_depth=13, n_estimators=1000........\n",
      "[CV 5/5; 48/72] END criterion=entropy, max_depth=13, n_estimators=1000;, score=0.873 total time=   0.6s\n",
      "[CV 1/5; 49/72] START criterion=entropy, max_depth=43, n_estimators=400.........\n",
      "[CV 1/5; 49/72] END criterion=entropy, max_depth=43, n_estimators=400;, score=0.880 total time=   0.2s\n",
      "[CV 2/5; 49/72] START criterion=entropy, max_depth=43, n_estimators=400.........\n",
      "[CV 2/5; 49/72] END criterion=entropy, max_depth=43, n_estimators=400;, score=0.885 total time=   0.2s\n",
      "[CV 3/5; 49/72] START criterion=entropy, max_depth=43, n_estimators=400.........\n",
      "[CV 3/5; 49/72] END criterion=entropy, max_depth=43, n_estimators=400;, score=0.905 total time=   0.2s\n",
      "[CV 4/5; 49/72] START criterion=entropy, max_depth=43, n_estimators=400.........\n",
      "[CV 4/5; 49/72] END criterion=entropy, max_depth=43, n_estimators=400;, score=0.868 total time=   0.2s\n",
      "[CV 5/5; 49/72] START criterion=entropy, max_depth=43, n_estimators=400.........\n",
      "[CV 5/5; 49/72] END criterion=entropy, max_depth=43, n_estimators=400;, score=0.863 total time=   0.2s\n",
      "[CV 1/5; 50/72] START criterion=entropy, max_depth=31, n_estimators=1000........\n",
      "[CV 1/5; 50/72] END criterion=entropy, max_depth=31, n_estimators=1000;, score=0.890 total time=   0.6s\n",
      "[CV 2/5; 50/72] START criterion=entropy, max_depth=31, n_estimators=1000........\n",
      "[CV 2/5; 50/72] END criterion=entropy, max_depth=31, n_estimators=1000;, score=0.890 total time=   0.6s\n",
      "[CV 3/5; 50/72] START criterion=entropy, max_depth=31, n_estimators=1000........\n",
      "[CV 3/5; 50/72] END criterion=entropy, max_depth=31, n_estimators=1000;, score=0.907 total time=   0.6s\n",
      "[CV 4/5; 50/72] START criterion=entropy, max_depth=31, n_estimators=1000........\n",
      "[CV 4/5; 50/72] END criterion=entropy, max_depth=31, n_estimators=1000;, score=0.873 total time=   0.6s\n",
      "[CV 5/5; 50/72] START criterion=entropy, max_depth=31, n_estimators=1000........\n",
      "[CV 5/5; 50/72] END criterion=entropy, max_depth=31, n_estimators=1000;, score=0.875 total time=   0.6s\n",
      "[CV 1/5; 51/72] START criterion=entropy, max_depth=56, n_estimators=100.........\n",
      "[CV 1/5; 51/72] END criterion=entropy, max_depth=56, n_estimators=100;, score=0.870 total time=   0.0s\n",
      "[CV 2/5; 51/72] START criterion=entropy, max_depth=56, n_estimators=100.........\n",
      "[CV 2/5; 51/72] END criterion=entropy, max_depth=56, n_estimators=100;, score=0.877 total time=   0.0s\n",
      "[CV 3/5; 51/72] START criterion=entropy, max_depth=56, n_estimators=100.........\n",
      "[CV 3/5; 51/72] END criterion=entropy, max_depth=56, n_estimators=100;, score=0.895 total time=   0.0s\n",
      "[CV 4/5; 51/72] START criterion=entropy, max_depth=56, n_estimators=100.........\n",
      "[CV 4/5; 51/72] END criterion=entropy, max_depth=56, n_estimators=100;, score=0.873 total time=   0.0s\n",
      "[CV 5/5; 51/72] START criterion=entropy, max_depth=56, n_estimators=100.........\n",
      "[CV 5/5; 51/72] END criterion=entropy, max_depth=56, n_estimators=100;, score=0.873 total time=   0.0s\n",
      "[CV 1/5; 52/72] START criterion=gini, max_depth=11, n_estimators=900............\n",
      "[CV 1/5; 52/72] END criterion=gini, max_depth=11, n_estimators=900;, score=0.882 total time=   0.6s\n",
      "[CV 2/5; 52/72] START criterion=gini, max_depth=11, n_estimators=900............\n",
      "[CV 2/5; 52/72] END criterion=gini, max_depth=11, n_estimators=900;, score=0.895 total time=   0.6s\n",
      "[CV 3/5; 52/72] START criterion=gini, max_depth=11, n_estimators=900............\n",
      "[CV 3/5; 52/72] END criterion=gini, max_depth=11, n_estimators=900;, score=0.897 total time=   0.6s\n",
      "[CV 4/5; 52/72] START criterion=gini, max_depth=11, n_estimators=900............\n",
      "[CV 4/5; 52/72] END criterion=gini, max_depth=11, n_estimators=900;, score=0.865 total time=   0.6s\n",
      "[CV 5/5; 52/72] START criterion=gini, max_depth=11, n_estimators=900............\n",
      "[CV 5/5; 52/72] END criterion=gini, max_depth=11, n_estimators=900;, score=0.863 total time=   0.6s\n",
      "[CV 1/5; 53/72] START criterion=entropy, max_depth=7, n_estimators=1600.........\n",
      "[CV 1/5; 53/72] END criterion=entropy, max_depth=7, n_estimators=1600;, score=0.860 total time=   0.9s\n",
      "[CV 2/5; 53/72] START criterion=entropy, max_depth=7, n_estimators=1600.........\n",
      "[CV 2/5; 53/72] END criterion=entropy, max_depth=7, n_estimators=1600;, score=0.868 total time=   0.9s\n",
      "[CV 3/5; 53/72] START criterion=entropy, max_depth=7, n_estimators=1600.........\n",
      "[CV 3/5; 53/72] END criterion=entropy, max_depth=7, n_estimators=1600;, score=0.902 total time=   0.9s\n",
      "[CV 4/5; 53/72] START criterion=entropy, max_depth=7, n_estimators=1600.........\n",
      "[CV 4/5; 53/72] END criterion=entropy, max_depth=7, n_estimators=1600;, score=0.858 total time=   0.9s\n",
      "[CV 5/5; 53/72] START criterion=entropy, max_depth=7, n_estimators=1600.........\n",
      "[CV 5/5; 53/72] END criterion=entropy, max_depth=7, n_estimators=1600;, score=0.868 total time=   0.9s\n",
      "[CV 1/5; 54/72] START criterion=gini, max_depth=28, n_estimators=400............\n",
      "[CV 1/5; 54/72] END criterion=gini, max_depth=28, n_estimators=400;, score=0.882 total time=   0.2s\n",
      "[CV 2/5; 54/72] START criterion=gini, max_depth=28, n_estimators=400............\n",
      "[CV 2/5; 54/72] END criterion=gini, max_depth=28, n_estimators=400;, score=0.887 total time=   0.2s\n",
      "[CV 3/5; 54/72] START criterion=gini, max_depth=28, n_estimators=400............\n",
      "[CV 3/5; 54/72] END criterion=gini, max_depth=28, n_estimators=400;, score=0.900 total time=   0.2s\n",
      "[CV 4/5; 54/72] START criterion=gini, max_depth=28, n_estimators=400............\n",
      "[CV 4/5; 54/72] END criterion=gini, max_depth=28, n_estimators=400;, score=0.868 total time=   0.2s\n",
      "[CV 5/5; 54/72] START criterion=gini, max_depth=28, n_estimators=400............\n",
      "[CV 5/5; 54/72] END criterion=gini, max_depth=28, n_estimators=400;, score=0.858 total time=   0.2s\n",
      "[CV 1/5; 55/72] START criterion=gini, max_depth=25, n_estimators=400............\n",
      "[CV 1/5; 55/72] END criterion=gini, max_depth=25, n_estimators=400;, score=0.882 total time=   0.2s\n",
      "[CV 2/5; 55/72] START criterion=gini, max_depth=25, n_estimators=400............\n",
      "[CV 2/5; 55/72] END criterion=gini, max_depth=25, n_estimators=400;, score=0.887 total time=   0.2s\n",
      "[CV 3/5; 55/72] START criterion=gini, max_depth=25, n_estimators=400............\n",
      "[CV 3/5; 55/72] END criterion=gini, max_depth=25, n_estimators=400;, score=0.900 total time=   0.2s\n",
      "[CV 4/5; 55/72] START criterion=gini, max_depth=25, n_estimators=400............\n",
      "[CV 4/5; 55/72] END criterion=gini, max_depth=25, n_estimators=400;, score=0.868 total time=   0.2s\n",
      "[CV 5/5; 55/72] START criterion=gini, max_depth=25, n_estimators=400............\n",
      "[CV 5/5; 55/72] END criterion=gini, max_depth=25, n_estimators=400;, score=0.858 total time=   0.2s\n",
      "[CV 1/5; 56/72] START criterion=entropy, max_depth=55, n_estimators=300.........\n",
      "[CV 1/5; 56/72] END criterion=entropy, max_depth=55, n_estimators=300;, score=0.885 total time=   0.2s\n",
      "[CV 2/5; 56/72] START criterion=entropy, max_depth=55, n_estimators=300.........\n",
      "[CV 2/5; 56/72] END criterion=entropy, max_depth=55, n_estimators=300;, score=0.892 total time=   0.2s\n",
      "[CV 3/5; 56/72] START criterion=entropy, max_depth=55, n_estimators=300.........\n",
      "[CV 3/5; 56/72] END criterion=entropy, max_depth=55, n_estimators=300;, score=0.907 total time=   0.2s\n",
      "[CV 4/5; 56/72] START criterion=entropy, max_depth=55, n_estimators=300.........\n",
      "[CV 4/5; 56/72] END criterion=entropy, max_depth=55, n_estimators=300;, score=0.870 total time=   0.2s\n",
      "[CV 5/5; 56/72] START criterion=entropy, max_depth=55, n_estimators=300.........\n",
      "[CV 5/5; 56/72] END criterion=entropy, max_depth=55, n_estimators=300;, score=0.868 total time=   0.2s\n",
      "[CV 1/5; 57/72] START criterion=gini, max_depth=30, n_estimators=1300...........\n",
      "[CV 1/5; 57/72] END criterion=gini, max_depth=30, n_estimators=1300;, score=0.882 total time=   1.0s\n",
      "[CV 2/5; 57/72] START criterion=gini, max_depth=30, n_estimators=1300...........\n",
      "[CV 2/5; 57/72] END criterion=gini, max_depth=30, n_estimators=1300;, score=0.885 total time=   0.9s\n",
      "[CV 3/5; 57/72] START criterion=gini, max_depth=30, n_estimators=1300...........\n",
      "[CV 3/5; 57/72] END criterion=gini, max_depth=30, n_estimators=1300;, score=0.897 total time=   0.9s\n",
      "[CV 4/5; 57/72] START criterion=gini, max_depth=30, n_estimators=1300...........\n",
      "[CV 4/5; 57/72] END criterion=gini, max_depth=30, n_estimators=1300;, score=0.863 total time=   0.9s\n",
      "[CV 5/5; 57/72] START criterion=gini, max_depth=30, n_estimators=1300...........\n",
      "[CV 5/5; 57/72] END criterion=gini, max_depth=30, n_estimators=1300;, score=0.860 total time=   0.9s\n",
      "[CV 1/5; 58/72] START criterion=entropy, max_depth=14, n_estimators=1300........\n",
      "[CV 1/5; 58/72] END criterion=entropy, max_depth=14, n_estimators=1300;, score=0.885 total time=   1.0s\n",
      "[CV 2/5; 58/72] START criterion=entropy, max_depth=14, n_estimators=1300........\n",
      "[CV 2/5; 58/72] END criterion=entropy, max_depth=14, n_estimators=1300;, score=0.897 total time=   1.0s\n",
      "[CV 3/5; 58/72] START criterion=entropy, max_depth=14, n_estimators=1300........\n",
      "[CV 3/5; 58/72] END criterion=entropy, max_depth=14, n_estimators=1300;, score=0.907 total time=   1.0s\n",
      "[CV 4/5; 58/72] START criterion=entropy, max_depth=14, n_estimators=1300........\n",
      "[CV 4/5; 58/72] END criterion=entropy, max_depth=14, n_estimators=1300;, score=0.865 total time=   1.0s\n",
      "[CV 5/5; 58/72] START criterion=entropy, max_depth=14, n_estimators=1300........\n",
      "[CV 5/5; 58/72] END criterion=entropy, max_depth=14, n_estimators=1300;, score=0.877 total time=   1.0s\n",
      "[CV 1/5; 59/72] START criterion=entropy, max_depth=10, n_estimators=300.........\n",
      "[CV 1/5; 59/72] END criterion=entropy, max_depth=10, n_estimators=300;, score=0.873 total time=   0.2s\n",
      "[CV 2/5; 59/72] START criterion=entropy, max_depth=10, n_estimators=300.........\n",
      "[CV 2/5; 59/72] END criterion=entropy, max_depth=10, n_estimators=300;, score=0.882 total time=   0.2s\n",
      "[CV 3/5; 59/72] START criterion=entropy, max_depth=10, n_estimators=300.........\n",
      "[CV 3/5; 59/72] END criterion=entropy, max_depth=10, n_estimators=300;, score=0.905 total time=   0.2s\n",
      "[CV 4/5; 59/72] START criterion=entropy, max_depth=10, n_estimators=300.........\n",
      "[CV 4/5; 59/72] END criterion=entropy, max_depth=10, n_estimators=300;, score=0.858 total time=   0.2s\n",
      "[CV 5/5; 59/72] START criterion=entropy, max_depth=10, n_estimators=300.........\n",
      "[CV 5/5; 59/72] END criterion=entropy, max_depth=10, n_estimators=300;, score=0.858 total time=   0.2s\n",
      "[CV 1/5; 60/72] START criterion=entropy, max_depth=47, n_estimators=100.........\n",
      "[CV 1/5; 60/72] END criterion=entropy, max_depth=47, n_estimators=100;, score=0.870 total time=   0.0s\n",
      "[CV 2/5; 60/72] START criterion=entropy, max_depth=47, n_estimators=100.........\n",
      "[CV 2/5; 60/72] END criterion=entropy, max_depth=47, n_estimators=100;, score=0.877 total time=   0.0s\n",
      "[CV 3/5; 60/72] START criterion=entropy, max_depth=47, n_estimators=100.........\n",
      "[CV 3/5; 60/72] END criterion=entropy, max_depth=47, n_estimators=100;, score=0.895 total time=   0.0s\n",
      "[CV 4/5; 60/72] START criterion=entropy, max_depth=47, n_estimators=100.........\n",
      "[CV 4/5; 60/72] END criterion=entropy, max_depth=47, n_estimators=100;, score=0.873 total time=   0.0s\n",
      "[CV 5/5; 60/72] START criterion=entropy, max_depth=47, n_estimators=100.........\n",
      "[CV 5/5; 60/72] END criterion=entropy, max_depth=47, n_estimators=100;, score=0.873 total time=   0.0s\n",
      "[CV 1/5; 61/72] START criterion=gini, max_depth=55, n_estimators=100............\n",
      "[CV 1/5; 61/72] END criterion=gini, max_depth=55, n_estimators=100;, score=0.875 total time=   0.0s\n",
      "[CV 2/5; 61/72] START criterion=gini, max_depth=55, n_estimators=100............\n",
      "[CV 2/5; 61/72] END criterion=gini, max_depth=55, n_estimators=100;, score=0.880 total time=   0.0s\n",
      "[CV 3/5; 61/72] START criterion=gini, max_depth=55, n_estimators=100............\n",
      "[CV 3/5; 61/72] END criterion=gini, max_depth=55, n_estimators=100;, score=0.882 total time=   0.0s\n",
      "[CV 4/5; 61/72] START criterion=gini, max_depth=55, n_estimators=100............\n",
      "[CV 4/5; 61/72] END criterion=gini, max_depth=55, n_estimators=100;, score=0.873 total time=   0.0s\n",
      "[CV 5/5; 61/72] START criterion=gini, max_depth=55, n_estimators=100............\n",
      "[CV 5/5; 61/72] END criterion=gini, max_depth=55, n_estimators=100;, score=0.860 total time=   0.0s\n",
      "[CV 1/5; 62/72] START criterion=gini, max_depth=62, n_estimators=600............\n",
      "[CV 1/5; 62/72] END criterion=gini, max_depth=62, n_estimators=600;, score=0.885 total time=   0.4s\n",
      "[CV 2/5; 62/72] START criterion=gini, max_depth=62, n_estimators=600............\n",
      "[CV 2/5; 62/72] END criterion=gini, max_depth=62, n_estimators=600;, score=0.877 total time=   0.4s\n",
      "[CV 3/5; 62/72] START criterion=gini, max_depth=62, n_estimators=600............\n",
      "[CV 3/5; 62/72] END criterion=gini, max_depth=62, n_estimators=600;, score=0.895 total time=   0.4s\n",
      "[CV 4/5; 62/72] START criterion=gini, max_depth=62, n_estimators=600............\n",
      "[CV 4/5; 62/72] END criterion=gini, max_depth=62, n_estimators=600;, score=0.865 total time=   0.4s\n",
      "[CV 5/5; 62/72] START criterion=gini, max_depth=62, n_estimators=600............\n",
      "[CV 5/5; 62/72] END criterion=gini, max_depth=62, n_estimators=600;, score=0.868 total time=   0.4s\n",
      "[CV 1/5; 63/72] START criterion=entropy, max_depth=22, n_estimators=1800........\n",
      "[CV 1/5; 63/72] END criterion=entropy, max_depth=22, n_estimators=1800;, score=0.890 total time=   1.3s\n",
      "[CV 2/5; 63/72] START criterion=entropy, max_depth=22, n_estimators=1800........\n",
      "[CV 2/5; 63/72] END criterion=entropy, max_depth=22, n_estimators=1800;, score=0.895 total time=   1.4s\n",
      "[CV 3/5; 63/72] START criterion=entropy, max_depth=22, n_estimators=1800........\n",
      "[CV 3/5; 63/72] END criterion=entropy, max_depth=22, n_estimators=1800;, score=0.912 total time=   1.3s\n",
      "[CV 4/5; 63/72] START criterion=entropy, max_depth=22, n_estimators=1800........\n",
      "[CV 4/5; 63/72] END criterion=entropy, max_depth=22, n_estimators=1800;, score=0.870 total time=   1.3s\n",
      "[CV 5/5; 63/72] START criterion=entropy, max_depth=22, n_estimators=1800........\n",
      "[CV 5/5; 63/72] END criterion=entropy, max_depth=22, n_estimators=1800;, score=0.875 total time=   1.3s\n",
      "[CV 1/5; 64/72] START criterion=gini, max_depth=34, n_estimators=500............\n",
      "[CV 1/5; 64/72] END criterion=gini, max_depth=34, n_estimators=500;, score=0.885 total time=   0.3s\n",
      "[CV 2/5; 64/72] START criterion=gini, max_depth=34, n_estimators=500............\n",
      "[CV 2/5; 64/72] END criterion=gini, max_depth=34, n_estimators=500;, score=0.887 total time=   0.3s\n",
      "[CV 3/5; 64/72] START criterion=gini, max_depth=34, n_estimators=500............\n",
      "[CV 3/5; 64/72] END criterion=gini, max_depth=34, n_estimators=500;, score=0.895 total time=   0.3s\n",
      "[CV 4/5; 64/72] START criterion=gini, max_depth=34, n_estimators=500............\n",
      "[CV 4/5; 64/72] END criterion=gini, max_depth=34, n_estimators=500;, score=0.868 total time=   0.3s\n",
      "[CV 5/5; 64/72] START criterion=gini, max_depth=34, n_estimators=500............\n",
      "[CV 5/5; 64/72] END criterion=gini, max_depth=34, n_estimators=500;, score=0.860 total time=   0.3s\n",
      "[CV 1/5; 65/72] START criterion=entropy, max_depth=29, n_estimators=200.........\n",
      "[CV 1/5; 65/72] END criterion=entropy, max_depth=29, n_estimators=200;, score=0.870 total time=   0.1s\n",
      "[CV 2/5; 65/72] START criterion=entropy, max_depth=29, n_estimators=200.........\n",
      "[CV 2/5; 65/72] END criterion=entropy, max_depth=29, n_estimators=200;, score=0.887 total time=   0.1s\n",
      "[CV 3/5; 65/72] START criterion=entropy, max_depth=29, n_estimators=200.........\n",
      "[CV 3/5; 65/72] END criterion=entropy, max_depth=29, n_estimators=200;, score=0.910 total time=   0.1s\n",
      "[CV 4/5; 65/72] START criterion=entropy, max_depth=29, n_estimators=200.........\n",
      "[CV 4/5; 65/72] END criterion=entropy, max_depth=29, n_estimators=200;, score=0.865 total time=   0.1s\n",
      "[CV 5/5; 65/72] START criterion=entropy, max_depth=29, n_estimators=200.........\n",
      "[CV 5/5; 65/72] END criterion=entropy, max_depth=29, n_estimators=200;, score=0.870 total time=   0.1s\n",
      "[CV 1/5; 66/72] START criterion=gini, max_depth=18, n_estimators=600............\n",
      "[CV 1/5; 66/72] END criterion=gini, max_depth=18, n_estimators=600;, score=0.885 total time=   0.4s\n",
      "[CV 2/5; 66/72] START criterion=gini, max_depth=18, n_estimators=600............\n",
      "[CV 2/5; 66/72] END criterion=gini, max_depth=18, n_estimators=600;, score=0.887 total time=   0.4s\n",
      "[CV 3/5; 66/72] START criterion=gini, max_depth=18, n_estimators=600............\n",
      "[CV 3/5; 66/72] END criterion=gini, max_depth=18, n_estimators=600;, score=0.892 total time=   0.4s\n",
      "[CV 4/5; 66/72] START criterion=gini, max_depth=18, n_estimators=600............\n",
      "[CV 4/5; 66/72] END criterion=gini, max_depth=18, n_estimators=600;, score=0.865 total time=   0.4s\n",
      "[CV 5/5; 66/72] START criterion=gini, max_depth=18, n_estimators=600............\n",
      "[CV 5/5; 66/72] END criterion=gini, max_depth=18, n_estimators=600;, score=0.863 total time=   0.4s\n",
      "[CV 1/5; 67/72] START criterion=entropy, max_depth=31, n_estimators=1300........\n",
      "[CV 1/5; 67/72] END criterion=entropy, max_depth=31, n_estimators=1300;, score=0.885 total time=   1.0s\n",
      "[CV 2/5; 67/72] START criterion=entropy, max_depth=31, n_estimators=1300........\n",
      "[CV 2/5; 67/72] END criterion=entropy, max_depth=31, n_estimators=1300;, score=0.892 total time=   1.0s\n",
      "[CV 3/5; 67/72] START criterion=entropy, max_depth=31, n_estimators=1300........\n",
      "[CV 3/5; 67/72] END criterion=entropy, max_depth=31, n_estimators=1300;, score=0.910 total time=   1.0s\n",
      "[CV 4/5; 67/72] START criterion=entropy, max_depth=31, n_estimators=1300........\n",
      "[CV 4/5; 67/72] END criterion=entropy, max_depth=31, n_estimators=1300;, score=0.870 total time=   1.0s\n",
      "[CV 5/5; 67/72] START criterion=entropy, max_depth=31, n_estimators=1300........\n",
      "[CV 5/5; 67/72] END criterion=entropy, max_depth=31, n_estimators=1300;, score=0.870 total time=   1.0s\n",
      "[CV 1/5; 68/72] START criterion=entropy, max_depth=9, n_estimators=1300.........\n",
      "[CV 1/5; 68/72] END criterion=entropy, max_depth=9, n_estimators=1300;, score=0.882 total time=   1.0s\n",
      "[CV 2/5; 68/72] START criterion=entropy, max_depth=9, n_estimators=1300.........\n",
      "[CV 2/5; 68/72] END criterion=entropy, max_depth=9, n_estimators=1300;, score=0.887 total time=   0.9s\n",
      "[CV 3/5; 68/72] START criterion=entropy, max_depth=9, n_estimators=1300.........\n",
      "[CV 3/5; 68/72] END criterion=entropy, max_depth=9, n_estimators=1300;, score=0.907 total time=   0.9s\n",
      "[CV 4/5; 68/72] START criterion=entropy, max_depth=9, n_estimators=1300.........\n",
      "[CV 4/5; 68/72] END criterion=entropy, max_depth=9, n_estimators=1300;, score=0.865 total time=   0.9s\n",
      "[CV 5/5; 68/72] START criterion=entropy, max_depth=9, n_estimators=1300.........\n",
      "[CV 5/5; 68/72] END criterion=entropy, max_depth=9, n_estimators=1300;, score=0.860 total time=   0.9s\n",
      "[CV 1/5; 69/72] START criterion=entropy, max_depth=47, n_estimators=1600........\n",
      "[CV 1/5; 69/72] END criterion=entropy, max_depth=47, n_estimators=1600;, score=0.890 total time=   1.1s\n",
      "[CV 2/5; 69/72] START criterion=entropy, max_depth=47, n_estimators=1600........\n",
      "[CV 2/5; 69/72] END criterion=entropy, max_depth=47, n_estimators=1600;, score=0.892 total time=   1.1s\n",
      "[CV 3/5; 69/72] START criterion=entropy, max_depth=47, n_estimators=1600........\n",
      "[CV 3/5; 69/72] END criterion=entropy, max_depth=47, n_estimators=1600;, score=0.910 total time=   1.1s\n",
      "[CV 4/5; 69/72] START criterion=entropy, max_depth=47, n_estimators=1600........\n",
      "[CV 4/5; 69/72] END criterion=entropy, max_depth=47, n_estimators=1600;, score=0.870 total time=   1.1s\n",
      "[CV 5/5; 69/72] START criterion=entropy, max_depth=47, n_estimators=1600........\n",
      "[CV 5/5; 69/72] END criterion=entropy, max_depth=47, n_estimators=1600;, score=0.873 total time=   1.1s\n",
      "[CV 1/5; 70/72] START criterion=gini, max_depth=37, n_estimators=600............\n",
      "[CV 1/5; 70/72] END criterion=gini, max_depth=37, n_estimators=600;, score=0.885 total time=   0.4s\n",
      "[CV 2/5; 70/72] START criterion=gini, max_depth=37, n_estimators=600............\n",
      "[CV 2/5; 70/72] END criterion=gini, max_depth=37, n_estimators=600;, score=0.877 total time=   0.4s\n",
      "[CV 3/5; 70/72] START criterion=gini, max_depth=37, n_estimators=600............\n",
      "[CV 3/5; 70/72] END criterion=gini, max_depth=37, n_estimators=600;, score=0.895 total time=   0.4s\n",
      "[CV 4/5; 70/72] START criterion=gini, max_depth=37, n_estimators=600............\n",
      "[CV 4/5; 70/72] END criterion=gini, max_depth=37, n_estimators=600;, score=0.865 total time=   0.4s\n",
      "[CV 5/5; 70/72] START criterion=gini, max_depth=37, n_estimators=600............\n",
      "[CV 5/5; 70/72] END criterion=gini, max_depth=37, n_estimators=600;, score=0.868 total time=   0.4s\n",
      "[CV 1/5; 71/72] START criterion=gini, max_depth=11, n_estimators=100............\n",
      "[CV 1/5; 71/72] END criterion=gini, max_depth=11, n_estimators=100;, score=0.868 total time=   0.0s\n",
      "[CV 2/5; 71/72] START criterion=gini, max_depth=11, n_estimators=100............\n",
      "[CV 2/5; 71/72] END criterion=gini, max_depth=11, n_estimators=100;, score=0.885 total time=   0.0s\n",
      "[CV 3/5; 71/72] START criterion=gini, max_depth=11, n_estimators=100............\n",
      "[CV 3/5; 71/72] END criterion=gini, max_depth=11, n_estimators=100;, score=0.902 total time=   0.0s\n",
      "[CV 4/5; 71/72] START criterion=gini, max_depth=11, n_estimators=100............\n",
      "[CV 4/5; 71/72] END criterion=gini, max_depth=11, n_estimators=100;, score=0.875 total time=   0.0s\n",
      "[CV 5/5; 71/72] START criterion=gini, max_depth=11, n_estimators=100............\n",
      "[CV 5/5; 71/72] END criterion=gini, max_depth=11, n_estimators=100;, score=0.865 total time=   0.0s\n",
      "[CV 1/5; 72/72] START criterion=gini, max_depth=5, n_estimators=600.............\n",
      "[CV 1/5; 72/72] END criterion=gini, max_depth=5, n_estimators=600;, score=0.838 total time=   0.3s\n",
      "[CV 2/5; 72/72] START criterion=gini, max_depth=5, n_estimators=600.............\n",
      "[CV 2/5; 72/72] END criterion=gini, max_depth=5, n_estimators=600;, score=0.838 total time=   0.3s\n",
      "[CV 3/5; 72/72] START criterion=gini, max_depth=5, n_estimators=600.............\n",
      "[CV 3/5; 72/72] END criterion=gini, max_depth=5, n_estimators=600;, score=0.865 total time=   0.3s\n",
      "[CV 4/5; 72/72] START criterion=gini, max_depth=5, n_estimators=600.............\n",
      "[CV 4/5; 72/72] END criterion=gini, max_depth=5, n_estimators=600;, score=0.838 total time=   0.3s\n",
      "[CV 5/5; 72/72] START criterion=gini, max_depth=5, n_estimators=600.............\n",
      "[CV 5/5; 72/72] END criterion=gini, max_depth=5, n_estimators=600;, score=0.828 total time=   0.4s\n",
      "Best score: 0.8885000000000002\n",
      "Best parameters set:\n",
      "\tcriterion: entropy\n",
      "\tmax_depth: 31\n",
      "\tn_estimators: 1800\n"
     ]
    }
   ],
   "source": [
    "# fit the model and extract best score\n",
    "model.fit(X, y)\n",
    "\n",
    "print(f\"Best score: {model.best_score_}\")\n",
    "print(\"Best parameters set:\")\n",
    "\n",
    "best_parameters = model.best_estimator_.get_params()\n",
    "for param_name in sorted(param_grid.keys()):\n",
    "    print(f\"\\t{param_name}: {best_parameters[param_name]}\")"
   ]
  },
  {
   "cell_type": "markdown",
   "metadata": {},
   "source": [
    "#### Bayesian Optimization\n",
    "- https://github.com/fmfn/BayesianOptimization"
   ]
  },
  {
   "cell_type": "code",
   "execution_count": 19,
   "metadata": {},
   "outputs": [
    {
     "name": "stdout",
     "output_type": "stream",
     "text": [
      "Collecting bayesian-optimization\n",
      "  Downloading bayesian_optimization-1.3.1-py3-none-any.whl (16 kB)\n",
      "Requirement already satisfied: scikit-learn>=0.18.0 in c:\\users\\lucky\\anaconda3\\lib\\site-packages (from bayesian-optimization) (1.1.2)\n",
      "Requirement already satisfied: scipy>=1.0.0 in c:\\users\\lucky\\anaconda3\\lib\\site-packages (from bayesian-optimization) (1.7.3)\n",
      "Requirement already satisfied: numpy>=1.9.0 in c:\\users\\lucky\\anaconda3\\lib\\site-packages (from bayesian-optimization) (1.21.5)\n",
      "Requirement already satisfied: joblib>=1.0.0 in c:\\users\\lucky\\anaconda3\\lib\\site-packages (from scikit-learn>=0.18.0->bayesian-optimization) (1.1.0)\n",
      "Requirement already satisfied: threadpoolctl>=2.0.0 in c:\\users\\lucky\\anaconda3\\lib\\site-packages (from scikit-learn>=0.18.0->bayesian-optimization) (2.2.0)\n",
      "Installing collected packages: bayesian-optimization\n",
      "Successfully installed bayesian-optimization-1.3.1\n"
     ]
    }
   ],
   "source": [
    "#!pip install bayesian-optimization"
   ]
  },
  {
   "cell_type": "code",
   "execution_count": 20,
   "metadata": {},
   "outputs": [
    {
     "data": {
      "image/png": "[encoded data removed]",
      "text/plain": [
       "<Figure size 1080x360 with 1 Axes>"
      ]
     },
     "metadata": {
      "needs_background": "light"
     },
     "output_type": "display_data"
    }
   ],
   "source": [
    "# 임의의 함수 최적화 하기\n",
    "\n",
    "# Black Box Function은 임의의 어떤 Cost Function이라 가정\n",
    "# X와 Y는 하이퍼 파라미터일 때, 어떤 최적의 값이 Black Box Function을 최대화할 수 있는지 확인\n",
    "def black_box_function(x,y):\n",
    "    return -x**2 - (y-0) **2 +1\n",
    "\n",
    "x_range = np.linspace(-100, 100, num=1000) # -100 ~ 100 사이의 임의의 x를 만들어 냅니다.\n",
    "y_range = np.linspace(-100, 100, num=1000) # -100 ~ 100 사이의 임의의 y를 만들어 냅니다.\n",
    "\n",
    "from mpl_toolkits.mplot3d import Axes3D\n",
    "\n",
    "fig = plt.figure(figsize=(15,5))\n",
    "ax = fig.add_subplot(111, projection='3d')\n",
    "\n",
    "X, Y = np.meshgrid(x_range, y_range)\n",
    "Z = black_box_function(X,Y)\n",
    "ax = plt.axes(projection='3d')\n",
    "ax.contour3D(X, Y, Z, 50, cmap='binary')\n",
    "ax.set_xlabel('x')\n",
    "ax.set_ylabel('y')\n",
    "ax.set_zlabel('z')\n",
    "ax.view_init(50, 30)"
   ]
  },
  {
   "cell_type": "markdown",
   "metadata": {},
   "source": [
    "- X = 0, Y = 0 에서 Blak Box Function이 최적화되는 모습을 확인\n",
    "- 베이지안 옵티마이제이션에서도 같은 결과가 나오는가?"
   ]
  },
  {
   "cell_type": "code",
   "execution_count": 21,
   "metadata": {},
   "outputs": [
    {
     "name": "stdout",
     "output_type": "stream",
     "text": [
      "|   iter    |  target   |     x     |     y     |\n",
      "-------------------------------------------------\n",
      "| \u001b[0m1        \u001b[0m | \u001b[0m-21.17   \u001b[0m | \u001b[0m-1.66    \u001b[0m | \u001b[0m4.406    \u001b[0m |\n",
      "| \u001b[0m2        \u001b[0m | \u001b[0m-114.6   \u001b[0m | \u001b[0m-9.998   \u001b[0m | \u001b[0m-3.953   \u001b[0m |\n",
      "| \u001b[0m3        \u001b[0m | \u001b[0m-22.34   \u001b[0m | \u001b[0m-1.565   \u001b[0m | \u001b[0m4.571    \u001b[0m |\n",
      "| \u001b[95m4        \u001b[0m | \u001b[95m-11.46   \u001b[0m | \u001b[95m3.441    \u001b[0m | \u001b[95m-0.7845  \u001b[0m |\n",
      "| \u001b[0m5        \u001b[0m | \u001b[0m-139.6   \u001b[0m | \u001b[0m10.0     \u001b[0m | \u001b[0m-6.375   \u001b[0m |\n",
      "| \u001b[0m6        \u001b[0m | \u001b[0m-72.45   \u001b[0m | \u001b[0m6.804    \u001b[0m | \u001b[0m5.211    \u001b[0m |\n",
      "| \u001b[95m7        \u001b[0m | \u001b[95m-4.212   \u001b[0m | \u001b[95m-0.8927  \u001b[0m | \u001b[95m-2.101   \u001b[0m |\n",
      "| \u001b[0m8        \u001b[0m | \u001b[0m-199.0   \u001b[0m | \u001b[0m-10.0    \u001b[0m | \u001b[0m10.0     \u001b[0m |\n",
      "| \u001b[0m9        \u001b[0m | \u001b[0m-100.2   \u001b[0m | \u001b[0m-1.084   \u001b[0m | \u001b[0m-10.0    \u001b[0m |\n",
      "| \u001b[95m10       \u001b[0m | \u001b[95m-2.05    \u001b[0m | \u001b[95m0.8123   \u001b[0m | \u001b[95m1.546    \u001b[0m |\n",
      "| \u001b[0m11       \u001b[0m | \u001b[0m-5.658   \u001b[0m | \u001b[0m-2.578   \u001b[0m | \u001b[0m0.1145   \u001b[0m |\n",
      "| \u001b[95m12       \u001b[0m | \u001b[95m0.5843   \u001b[0m | \u001b[95m0.3728   \u001b[0m | \u001b[95m-0.526   \u001b[0m |\n",
      "| \u001b[0m13       \u001b[0m | \u001b[0m-0.3333  \u001b[0m | \u001b[0m-0.8388  \u001b[0m | \u001b[0m0.7935   \u001b[0m |\n",
      "| \u001b[0m14       \u001b[0m | \u001b[0m-6.498   \u001b[0m | \u001b[0m1.363    \u001b[0m | \u001b[0m-2.375   \u001b[0m |\n",
      "| \u001b[0m15       \u001b[0m | \u001b[0m0.3306   \u001b[0m | \u001b[0m-0.6842  \u001b[0m | \u001b[0m-0.4487  \u001b[0m |\n",
      "| \u001b[95m16       \u001b[0m | \u001b[95m0.8639   \u001b[0m | \u001b[95m0.2248   \u001b[0m | \u001b[95m0.2925   \u001b[0m |\n",
      "| \u001b[0m17       \u001b[0m | \u001b[0m-0.1243  \u001b[0m | \u001b[0m1.059    \u001b[0m | \u001b[0m0.06181  \u001b[0m |\n",
      "| \u001b[95m18       \u001b[0m | \u001b[95m0.9912   \u001b[0m | \u001b[95m-0.09226 \u001b[0m | \u001b[95m-0.01794 \u001b[0m |\n",
      "| \u001b[95m19       \u001b[0m | \u001b[95m0.9988   \u001b[0m | \u001b[95m-0.008898\u001b[0m | \u001b[95m-0.03324 \u001b[0m |\n",
      "| \u001b[0m20       \u001b[0m | \u001b[0m0.9855   \u001b[0m | \u001b[0m-0.09483 \u001b[0m | \u001b[0m0.07453  \u001b[0m |\n",
      "| \u001b[0m21       \u001b[0m | \u001b[0m0.9907   \u001b[0m | \u001b[0m0.07433  \u001b[0m | \u001b[0m-0.06143 \u001b[0m |\n",
      "| \u001b[0m22       \u001b[0m | \u001b[0m0.9953   \u001b[0m | \u001b[0m0.04689  \u001b[0m | \u001b[0m-0.0502  \u001b[0m |\n",
      "| \u001b[0m23       \u001b[0m | \u001b[0m0.9735   \u001b[0m | \u001b[0m-0.1081  \u001b[0m | \u001b[0m0.1219   \u001b[0m |\n",
      "| \u001b[0m24       \u001b[0m | \u001b[0m0.9928   \u001b[0m | \u001b[0m0.07427  \u001b[0m | \u001b[0m-0.04057 \u001b[0m |\n",
      "| \u001b[0m25       \u001b[0m | \u001b[0m0.988    \u001b[0m | \u001b[0m-0.04171 \u001b[0m | \u001b[0m-0.1015  \u001b[0m |\n",
      "| \u001b[0m26       \u001b[0m | \u001b[0m0.9893   \u001b[0m | \u001b[0m0.1031   \u001b[0m | \u001b[0m0.005264 \u001b[0m |\n",
      "| \u001b[0m27       \u001b[0m | \u001b[0m0.981    \u001b[0m | \u001b[0m-0.08409 \u001b[0m | \u001b[0m0.1091   \u001b[0m |\n",
      "| \u001b[0m28       \u001b[0m | \u001b[0m0.9868   \u001b[0m | \u001b[0m-0.04699 \u001b[0m | \u001b[0m-0.1046  \u001b[0m |\n",
      "| \u001b[0m29       \u001b[0m | \u001b[0m0.9894   \u001b[0m | \u001b[0m0.1026   \u001b[0m | \u001b[0m0.009034 \u001b[0m |\n",
      "| \u001b[0m30       \u001b[0m | \u001b[0m0.9868   \u001b[0m | \u001b[0m-0.06204 \u001b[0m | \u001b[0m0.09665  \u001b[0m |\n",
      "| \u001b[0m31       \u001b[0m | \u001b[0m0.9883   \u001b[0m | \u001b[0m-0.04483 \u001b[0m | \u001b[0m-0.09865 \u001b[0m |\n",
      "| \u001b[0m32       \u001b[0m | \u001b[0m0.9905   \u001b[0m | \u001b[0m0.09719  \u001b[0m | \u001b[0m0.00955  \u001b[0m |\n",
      "=================================================\n"
     ]
    }
   ],
   "source": [
    "# 2. Getting Started\n",
    "from bayes_opt import BayesianOptimization\n",
    "\n",
    "# Bounded region of parameter space\n",
    "pbounds = {'x': (-10, 10), 'y': (-10, 10)}\n",
    "\n",
    "# 세부 사항 설정\n",
    "optimizer = BayesianOptimization(\n",
    "    f=black_box_function,\n",
    "    pbounds=pbounds,\n",
    "    verbose=2, # verbose = 1 prints only when a maximum is observed, verbose = 0 is silent\n",
    "    random_state=1\n",
    ")\n",
    "\n",
    "# 최대화!!\n",
    "optimizer.maximize(init_points=2, n_iter=30 )\n",
    "    # n_iter: 반복 횟수 (많을 수록 정확한 값을 얻을 수 있다)\n",
    "    # init_points: 초기 랜덤 포인트 갯수"
   ]
  },
  {
   "cell_type": "code",
   "execution_count": 22,
   "metadata": {},
   "outputs": [
    {
     "name": "stdout",
     "output_type": "stream",
     "text": [
      "{'target': 0.9988156640124644, 'params': {'x': -0.00889753408936384, 'y': -0.03324409533532695}}\n"
     ]
    }
   ],
   "source": [
    "# 최적의 (x, y) 값 결과 확인\n",
    "print(optimizer.max)\n",
    "\n",
    "# 초기 포인트 2개와 옵티마이제이션 30회 진행 결과 아래와 같은 최적 값 탐색\n",
    "# 정확히 (0, 0)을 찾지 못했지만, 꽤 근접한 답을 찾음"
   ]
  },
  {
   "cell_type": "code",
   "execution_count": 23,
   "metadata": {},
   "outputs": [
    {
     "data": {
      "text/plain": [
       "[{'target': 0.9868416376469109,\n",
       "  'params': {'x': -0.046994819088606365, 'y': -0.10464152775986336}},\n",
       " {'target': 0.9893919795423832,\n",
       "  'params': {'x': 0.10259825475173846, 'y': 0.009034300167372663}},\n",
       " {'target': 0.986810770984219,\n",
       "  'params': {'x': -0.06203819244594198, 'y': 0.09664621924225122}},\n",
       " {'target': 0.988257848968717,\n",
       "  'params': {'x': -0.044834360962243976, 'y': -0.09865105731004688}},\n",
       " {'target': 0.9904622777309624,\n",
       "  'params': {'x': 0.09719316678058028, 'y': 0.00955042408481996}}]"
      ]
     },
     "execution_count": 23,
     "metadata": {},
     "output_type": "execute_result"
    }
   ],
   "source": [
    " # 이전 history 를 확인\n",
    "optimizer.res[-5:]"
   ]
  },
  {
   "cell_type": "code",
   "execution_count": 24,
   "metadata": {},
   "outputs": [
    {
     "name": "stdout",
     "output_type": "stream",
     "text": [
      "|   iter    |  target   |     x     |     y     |\n",
      "-------------------------------------------------\n",
      "| \u001b[0m33       \u001b[0m | \u001b[0m0.9897   \u001b[0m | \u001b[0m-0.05373 \u001b[0m | \u001b[0m0.08584  \u001b[0m |\n",
      "| \u001b[0m34       \u001b[0m | \u001b[0m0.9923   \u001b[0m | \u001b[0m0.08769  \u001b[0m | \u001b[0m0.001783 \u001b[0m |\n",
      "| \u001b[0m35       \u001b[0m | \u001b[0m0.988    \u001b[0m | \u001b[0m-0.05389 \u001b[0m | \u001b[0m-0.09551 \u001b[0m |\n",
      "| \u001b[0m36       \u001b[0m | \u001b[0m0.9939   \u001b[0m | \u001b[0m0.0769   \u001b[0m | \u001b[0m0.01451  \u001b[0m |\n",
      "| \u001b[0m37       \u001b[0m | \u001b[0m0.9911   \u001b[0m | \u001b[0m-0.05093 \u001b[0m | \u001b[0m0.07922  \u001b[0m |\n",
      "=================================================\n"
     ]
    }
   ],
   "source": [
    "# 진행 과정을 살펴본 결과, X, Y가 0 근처에서 높은 값을 갖는 것을 확인\n",
    "# X의 범위를 -1~1 사이로 변경한 다음, 최적화 진행\n",
    "\n",
    "# 2.1 Changing bounds\n",
    "optimizer.set_bounds(new_bounds={\"x\": (-1, 1)})\n",
    "\n",
    "# 이후 절차는 동일\n",
    "optimizer.maximize( init_points=0, n_iter=5)"
   ]
  },
  {
   "cell_type": "code",
   "execution_count": 25,
   "metadata": {},
   "outputs": [
    {
     "name": "stdout",
     "output_type": "stream",
     "text": [
      "{'target': 0.9988156640124644, 'params': {'x': -0.00889753408936384, 'y': -0.03324409533532695}}\n"
     ]
    }
   ],
   "source": [
    "# 최적의 파라미터 값 확인\n",
    "print(optimizer.max)"
   ]
  },
  {
   "cell_type": "markdown",
   "metadata": {},
   "source": [
    "#### 실제 모델을 이용\n",
    "- CV를 최대한 이용하며, 최적의 Hyper Parameter 값 탐색"
   ]
  },
  {
   "cell_type": "markdown",
   "metadata": {},
   "source": [
    "#### Ridge"
   ]
  },
  {
   "cell_type": "code",
   "execution_count": 26,
   "metadata": {},
   "outputs": [],
   "source": [
    "# 모듈 불러오기\n",
    "from bayes_opt import BayesianOptimization\n",
    "from sklearn.linear_model import Ridge\n",
    "from sklearn.model_selection import cross_val_score\n",
    "import numpy as np\n",
    "\n",
    "# seed 고정!\n",
    "np.random.seed(0)\n",
    "n_samples, n_features = 100, 1 # 100개의 데이터와 1개의 변수 생성\n",
    "\n",
    "X = np.random.randn(n_samples, n_features) # shape = (100 , 1)\n",
    "y = np.random.randn(n_samples) # shape = (100 , )\n",
    "\n",
    "\n",
    "# CV 를 이용한, Ridge 파라미터 찾기\n",
    "def Ridge_cv(alpha):\n",
    "    '''\n",
    "    :param alpha: Ridge's 하이퍼 파라미터\n",
    "    :return: -RMSE --> 최소화를 위해 음수 부호를 붙힘\n",
    "    '''\n",
    "\n",
    "    RMSE = cross_val_score(Ridge(alpha=alpha), X, y, scoring='neg_mean_squared_error', cv=5).mean()\n",
    "\n",
    "    return -RMSE"
   ]
  },
  {
   "cell_type": "code",
   "execution_count": 27,
   "metadata": {},
   "outputs": [
    {
     "name": "stdout",
     "output_type": "stream",
     "text": [
      "|   iter    |  target   |   alpha   |\n",
      "-------------------------------------\n",
      "| \u001b[0m1        \u001b[0m | \u001b[0m1.093    \u001b[0m | \u001b[0m4.17     \u001b[0m |\n",
      "| \u001b[0m2        \u001b[0m | \u001b[0m1.093    \u001b[0m | \u001b[0m7.203    \u001b[0m |\n",
      "| \u001b[0m3        \u001b[0m | \u001b[0m1.093    \u001b[0m | \u001b[0m4.364    \u001b[0m |\n",
      "| \u001b[95m4        \u001b[0m | \u001b[95m1.094    \u001b[0m | \u001b[95m1.365    \u001b[0m |\n",
      "| \u001b[95m5        \u001b[0m | \u001b[95m1.094    \u001b[0m | \u001b[95m0.0      \u001b[0m |\n",
      "| \u001b[0m6        \u001b[0m | \u001b[0m1.094    \u001b[0m | \u001b[0m2.22e-16 \u001b[0m |\n",
      "| \u001b[0m7        \u001b[0m | \u001b[0m1.094    \u001b[0m | \u001b[0m2.22e-16 \u001b[0m |\n",
      "| \u001b[0m8        \u001b[0m | \u001b[0m1.094    \u001b[0m | \u001b[0m2.22e-16 \u001b[0m |\n",
      "| \u001b[0m9        \u001b[0m | \u001b[0m1.094    \u001b[0m | \u001b[0m2.22e-16 \u001b[0m |\n",
      "| \u001b[0m10       \u001b[0m | \u001b[0m1.094    \u001b[0m | \u001b[0m2.22e-16 \u001b[0m |\n",
      "| \u001b[0m11       \u001b[0m | \u001b[0m1.094    \u001b[0m | \u001b[0m2.22e-16 \u001b[0m |\n",
      "| \u001b[0m12       \u001b[0m | \u001b[0m1.094    \u001b[0m | \u001b[0m2.22e-16 \u001b[0m |\n",
      "=====================================\n"
     ]
    },
    {
     "data": {
      "text/plain": [
       "{'target': 1.0941847591132594, 'params': {'alpha': 0.0}}"
      ]
     },
     "execution_count": 27,
     "metadata": {},
     "output_type": "execute_result"
    }
   ],
   "source": [
    "# 파라미터를 탐색할 공간\n",
    "# Ridge는 0 ~ 10 사이에서 적절한 값을 찾는다.\n",
    "pbounds = {'alpha': ( 0, 10 )}\n",
    "\n",
    "# 베이지안 옵티마이제이션 객체를 생성\n",
    "Ridge_BO = BayesianOptimization( f = Ridge_cv, pbounds  = pbounds , verbose=2, random_state=1 )\n",
    "\n",
    "# 최대화!!!\n",
    "Ridge_BO.maximize(init_points=2, n_iter = 10)\n",
    "\n",
    "Ridge_BO.max # 찾은 파라미터 값 확인"
   ]
  },
  {
   "cell_type": "markdown",
   "metadata": {},
   "source": [
    "#### SVC"
   ]
  },
  {
   "cell_type": "code",
   "execution_count": 28,
   "metadata": {},
   "outputs": [],
   "source": [
    "from sklearn import svm, datasets\n",
    "from sklearn.model_selection import cross_val_score\n",
    "from bayes_opt import BayesianOptimization\n",
    "\n",
    "iris = datasets.load_iris()\n",
    "X = iris.data\n",
    "y = iris.target\n",
    "\n",
    "def SVM_rbf_cv(gamma, C):\n",
    "    model = svm.SVC(kernel = 'rbf', gamma=gamma, C = C)\n",
    "    RMSE = cross_val_score(model, X, y, scoring='accuracy', cv=5).mean()\n",
    "    return -RMSE"
   ]
  },
  {
   "cell_type": "code",
   "execution_count": 29,
   "metadata": {},
   "outputs": [
    {
     "name": "stdout",
     "output_type": "stream",
     "text": [
      "|   iter    |  target   |     C     |   gamma   |\n",
      "-------------------------------------------------\n",
      "| \u001b[0m1        \u001b[0m | \u001b[0m-0.4     \u001b[0m | \u001b[0m417.0    \u001b[0m | \u001b[0m720.3    \u001b[0m |\n",
      "| \u001b[0m2        \u001b[0m | \u001b[0m-0.4     \u001b[0m | \u001b[0m0.1154   \u001b[0m | \u001b[0m302.3    \u001b[0m |\n",
      "| \u001b[0m3        \u001b[0m | \u001b[0m-0.92    \u001b[0m | \u001b[0m989.1    \u001b[0m | \u001b[0m13.53    \u001b[0m |\n",
      "| \u001b[0m4        \u001b[0m | \u001b[0m-0.4     \u001b[0m | \u001b[0m0.001    \u001b[0m | \u001b[0m864.6    \u001b[0m |\n",
      "| \u001b[0m5        \u001b[0m | \u001b[0m-0.4     \u001b[0m | \u001b[0m417.6    \u001b[0m | \u001b[0m715.9    \u001b[0m |\n",
      "| \u001b[0m6        \u001b[0m | \u001b[0m-0.4     \u001b[0m | \u001b[0m1e+03    \u001b[0m | \u001b[0m1e+03    \u001b[0m |\n",
      "| \u001b[0m7        \u001b[0m | \u001b[0m-0.9133  \u001b[0m | \u001b[0m0.001    \u001b[0m | \u001b[0m0.001    \u001b[0m |\n",
      "| \u001b[0m8        \u001b[0m | \u001b[0m-0.4     \u001b[0m | \u001b[0m85.72    \u001b[0m | \u001b[0m565.6    \u001b[0m |\n",
      "| \u001b[0m9        \u001b[0m | \u001b[0m-0.4     \u001b[0m | \u001b[0m805.4    \u001b[0m | \u001b[0m704.9    \u001b[0m |\n",
      "| \u001b[0m10       \u001b[0m | \u001b[0m-0.4     \u001b[0m | \u001b[0m645.6    \u001b[0m | \u001b[0m998.6    \u001b[0m |\n",
      "| \u001b[0m11       \u001b[0m | \u001b[0m-0.4     \u001b[0m | \u001b[0m242.3    \u001b[0m | \u001b[0m1e+03    \u001b[0m |\n",
      "| \u001b[0m12       \u001b[0m | \u001b[0m-0.4533  \u001b[0m | \u001b[0m371.7    \u001b[0m | \u001b[0m337.4    \u001b[0m |\n",
      "=================================================\n"
     ]
    },
    {
     "data": {
      "text/plain": [
       "{'target': -0.4,\n",
       " 'params': {'C': 417.0225876805693, 'gamma': 720.3247731176647}}"
      ]
     },
     "execution_count": 29,
     "metadata": {},
     "output_type": "execute_result"
    }
   ],
   "source": [
    "# 주어진 범위 사이에서 적절한 값을 찾는다.\n",
    "pbounds = {'gamma': ( 0.001, 1000 ), \"C\": (0.001, 1000)}\n",
    "\n",
    "# 베이지안 옵티마이제이션 객체를 생성\n",
    "SVM_rbf_BO = BayesianOptimization( f = SVM_rbf_cv, pbounds = pbounds, verbose = 2, random_state = 1 )\n",
    "\n",
    "# 메소드를 이용해 최대화!\n",
    "SVM_rbf_BO.maximize(init_points=2, n_iter = 10)\n",
    "\n",
    "SVM_rbf_BO.max # 찾은 파라미터 값 확인"
   ]
  },
  {
   "cell_type": "code",
   "execution_count": 34,
   "metadata": {},
   "outputs": [
    {
     "name": "stdout",
     "output_type": "stream",
     "text": [
      "|   iter    |  target   | colsam... |   gamma   | learni... | max_de... | max_depth | min_ch... | n_esti... | subsample |\n",
      "-------------------------------------------------------------------------------------------------------------------------\n",
      "| \u001b[0m1        \u001b[0m | \u001b[0m-0.9467  \u001b[0m | \u001b[0m0.7043   \u001b[0m | \u001b[0m0.7231   \u001b[0m | \u001b[0m0.01003  \u001b[0m | \u001b[0m0.03023  \u001b[0m | \u001b[0m5.734    \u001b[0m | \u001b[0m2.739    \u001b[0m | \u001b[0m226.9    \u001b[0m | \u001b[0m0.7346   \u001b[0m |\n",
      "| \u001b[0m2        \u001b[0m | \u001b[0m-0.9467  \u001b[0m | \u001b[0m0.6944   \u001b[0m | \u001b[0m0.5434   \u001b[0m | \u001b[0m0.1316   \u001b[0m | \u001b[0m0.06852  \u001b[0m | \u001b[0m6.022    \u001b[0m | \u001b[0m9.025    \u001b[0m | \u001b[0m76.02    \u001b[0m | \u001b[0m0.767    \u001b[0m |\n",
      "| \u001b[0m3        \u001b[0m | \u001b[0m-0.9467  \u001b[0m | \u001b[0m0.8937   \u001b[0m | \u001b[0m0.0132   \u001b[0m | \u001b[0m0.2045   \u001b[0m | \u001b[0m0.02019  \u001b[0m | \u001b[0m7.309    \u001b[0m | \u001b[0m6.618    \u001b[0m | \u001b[0m999.7    \u001b[0m | \u001b[0m0.7889   \u001b[0m |\n",
      "| \u001b[0m4        \u001b[0m | \u001b[0m-0.9467  \u001b[0m | \u001b[0m0.8947   \u001b[0m | \u001b[0m0.1603   \u001b[0m | \u001b[0m0.1039   \u001b[0m | \u001b[0m0.04322  \u001b[0m | \u001b[0m9.796    \u001b[0m | \u001b[0m7.179    \u001b[0m | \u001b[0m566.8    \u001b[0m | \u001b[0m0.7948   \u001b[0m |\n",
      "| \u001b[0m5        \u001b[0m | \u001b[0m-0.9467  \u001b[0m | \u001b[0m0.7435   \u001b[0m | \u001b[0m0.9008   \u001b[0m | \u001b[0m0.238    \u001b[0m | \u001b[0m0.06689  \u001b[0m | \u001b[0m5.746    \u001b[0m | \u001b[0m9.079    \u001b[0m | \u001b[0m999.4    \u001b[0m | \u001b[0m0.7911   \u001b[0m |\n",
      "| \u001b[0m6        \u001b[0m | \u001b[0m-0.9467  \u001b[0m | \u001b[0m0.7138   \u001b[0m | \u001b[0m0.2353   \u001b[0m | \u001b[0m0.2049   \u001b[0m | \u001b[0m0.08327  \u001b[0m | \u001b[0m9.296    \u001b[0m | \u001b[0m9.933    \u001b[0m | \u001b[0m51.01    \u001b[0m | \u001b[0m0.7233   \u001b[0m |\n",
      "| \u001b[0m7        \u001b[0m | \u001b[0m-0.9467  \u001b[0m | \u001b[0m0.563    \u001b[0m | \u001b[0m0.03062  \u001b[0m | \u001b[0m0.2673   \u001b[0m | \u001b[0m0.07994  \u001b[0m | \u001b[0m9.013    \u001b[0m | \u001b[0m5.771    \u001b[0m | \u001b[0m834.8    \u001b[0m | \u001b[0m0.7601   \u001b[0m |\n",
      "| \u001b[0m8        \u001b[0m | \u001b[0m-0.9467  \u001b[0m | \u001b[0m0.9677   \u001b[0m | \u001b[0m0.5129   \u001b[0m | \u001b[0m0.1055   \u001b[0m | \u001b[0m0.05376  \u001b[0m | \u001b[0m7.956    \u001b[0m | \u001b[0m6.421    \u001b[0m | \u001b[0m653.9    \u001b[0m | \u001b[0m0.788    \u001b[0m |\n",
      "| \u001b[0m9        \u001b[0m | \u001b[0m-0.9467  \u001b[0m | \u001b[0m0.8016   \u001b[0m | \u001b[0m0.8704   \u001b[0m | \u001b[0m0.2537   \u001b[0m | \u001b[0m0.06283  \u001b[0m | \u001b[0m9.876    \u001b[0m | \u001b[0m3.266    \u001b[0m | \u001b[0m50.26    \u001b[0m | \u001b[0m0.7319   \u001b[0m |\n",
      "| \u001b[0m10       \u001b[0m | \u001b[0m-0.9467  \u001b[0m | \u001b[0m0.5404   \u001b[0m | \u001b[0m0.2571   \u001b[0m | \u001b[0m0.07435  \u001b[0m | \u001b[0m0.08699  \u001b[0m | \u001b[0m6.142    \u001b[0m | \u001b[0m5.326    \u001b[0m | \u001b[0m410.9    \u001b[0m | \u001b[0m0.795    \u001b[0m |\n",
      "| \u001b[0m11       \u001b[0m | \u001b[0m-0.9467  \u001b[0m | \u001b[0m0.6184   \u001b[0m | \u001b[0m0.8418   \u001b[0m | \u001b[0m0.257    \u001b[0m | \u001b[0m0.05874  \u001b[0m | \u001b[0m5.992    \u001b[0m | \u001b[0m2.888    \u001b[0m | \u001b[0m734.3    \u001b[0m | \u001b[0m0.7622   \u001b[0m |\n",
      "| \u001b[0m12       \u001b[0m | \u001b[0m-0.9467  \u001b[0m | \u001b[0m0.6491   \u001b[0m | \u001b[0m0.5091   \u001b[0m | \u001b[0m0.01072  \u001b[0m | \u001b[0m0.08423  \u001b[0m | \u001b[0m8.613    \u001b[0m | \u001b[0m3.852    \u001b[0m | \u001b[0m89.07    \u001b[0m | \u001b[0m0.7764   \u001b[0m |\n",
      "=========================================================================================================================\n"
     ]
    },
    {
     "data": {
      "text/plain": [
       "{'target': -0.9466666666666665,\n",
       " 'params': {'colsample_bytree': 0.7043407823042612,\n",
       "  'gamma': 0.7231212485077365,\n",
       "  'learning_rate': 0.010033168697030017,\n",
       "  'max_delta_step': 0.030233257263183978,\n",
       "  'max_depth': 5.733779454085565,\n",
       "  'min_child_weight': 2.7387087581503824,\n",
       "  'n_estimators': 226.94720080878736,\n",
       "  'subsample': 0.7345560727043048}}"
      ]
     },
     "execution_count": 34,
     "metadata": {},
     "output_type": "execute_result"
    }
   ],
   "source": [
    "import numpy as np\n",
    "import matplotlib\n",
    "from matplotlib import pyplot as plt\n",
    "from sklearn import datasets\n",
    "from sklearn.model_selection import cross_val_score\n",
    "from bayes_opt import BayesianOptimization\n",
    "import xgboost as xgb\n",
    "\n",
    "\n",
    "iris = datasets.load_iris()\n",
    "X = iris.data\n",
    "y = iris.target\n",
    "\n",
    "\n",
    "def XGB_cv(max_depth,learning_rate, n_estimators, gamma\n",
    "           ,min_child_weight, max_delta_step, subsample\n",
    "           ,colsample_bytree, silent=True, nthread=-1):\n",
    "    model = xgb.XGBClassifier(max_depth=int(max_depth),\n",
    "                              learning_rate=learning_rate,\n",
    "                              n_estimators=int(n_estimators),\n",
    "                              nthread=nthread,\n",
    "                              gamma=gamma,\n",
    "                              min_child_weight=min_child_weight,\n",
    "                              max_delta_step=max_delta_step,\n",
    "                              subsample=subsample,\n",
    "                              colsample_bytree=colsample_bytree)\n",
    "    RMSE = cross_val_score(model, X, y, scoring='accuracy', cv=5).mean()\n",
    "    return -RMSE\n",
    "\n",
    "# 주어진 범위 사이에서 적절한 값을 찾는다.\n",
    "pbounds = {'max_depth': (5, 10),\n",
    "          'learning_rate': (0.01, 0.3),\n",
    "          'n_estimators': (50, 1000),\n",
    "          'gamma': (0.01, 1.),\n",
    "          'min_child_weight': (2, 10),\n",
    "          'max_delta_step': (0, 0.1),\n",
    "          'subsample': (0.7, 0.8),\n",
    "          'colsample_bytree' :(0.5, 0.99)\n",
    "          }\n",
    "\n",
    "xgboostBO = BayesianOptimization(f = XGB_cv,pbounds = pbounds, verbose = 2, random_state = 1 )\n",
    "\n",
    "# 메소드를 이용해 최대화!\n",
    "xgboostBO.maximize(init_points=2, n_iter = 10)\n",
    "\n",
    "xgboostBO.max # 찾은 파라미터 값 확인"
   ]
  },
  {
   "cell_type": "code",
   "execution_count": 35,
   "metadata": {},
   "outputs": [],
   "source": [
    "fit_xgb = xgb.XGBClassifier(max_depth= int( xgboostBO.max['params']['max_depth'] ),\n",
    "                             learning_rate=xgboostBO.max['params']['learning_rate'],\n",
    "                             n_estimators=int(xgboostBO.max['params']['n_estimators']),\n",
    "                             gamma= xgboostBO.max['params']['gamma'],\n",
    "                             min_child_weight=xgboostBO.max['params']['min_child_weight'],\n",
    "                             max_delta_step=xgboostBO.max['params']['max_delta_step'],\n",
    "                             subsample=xgboostBO.max['params']['subsample'],\n",
    "                             colsample_bytree=xgboostBO.max['params']['colsample_bytree'])"
   ]
  },
  {
   "cell_type": "code",
   "execution_count": 36,
   "metadata": {},
   "outputs": [],
   "source": [
    "model  = fit_xgb.fit(X,y)"
   ]
  },
  {
   "cell_type": "markdown",
   "metadata": {},
   "source": [
    "#### Bayesian Optimization with optuna"
   ]
  },
  {
   "cell_type": "code",
   "execution_count": 12,
   "metadata": {},
   "outputs": [
    {
     "name": "stdout",
     "output_type": "stream",
     "text": [
      "Collecting optuna\n",
      "  Downloading optuna-3.0.3-py3-none-any.whl (348 kB)\n",
      "Requirement already satisfied: numpy in c:\\users\\lucky\\anaconda3\\lib\\site-packages (from optuna) (1.21.5)\n",
      "Requirement already satisfied: sqlalchemy>=1.3.0 in c:\\users\\lucky\\anaconda3\\lib\\site-packages (from optuna) (1.4.32)\n",
      "Collecting cliff\n",
      "  Downloading cliff-4.0.0-py3-none-any.whl (80 kB)\n",
      "Requirement already satisfied: packaging>=20.0 in c:\\users\\lucky\\anaconda3\\lib\\site-packages (from optuna) (21.3)\n",
      "Requirement already satisfied: scipy<1.9.0,>=1.7.0 in c:\\users\\lucky\\anaconda3\\lib\\site-packages (from optuna) (1.7.3)\n",
      "Requirement already satisfied: PyYAML in c:\\users\\lucky\\anaconda3\\lib\\site-packages (from optuna) (6.0)\n",
      "Requirement already satisfied: tqdm in c:\\users\\lucky\\anaconda3\\lib\\site-packages (from optuna) (4.64.0)\n",
      "Collecting colorlog\n",
      "  Downloading colorlog-6.7.0-py2.py3-none-any.whl (11 kB)\n",
      "Collecting alembic>=1.5.0\n",
      "  Using cached alembic-1.8.1-py3-none-any.whl (209 kB)\n",
      "Requirement already satisfied: importlib-metadata<5.0.0 in c:\\users\\lucky\\anaconda3\\lib\\site-packages (from optuna) (4.11.3)\n",
      "Collecting cmaes>=0.8.2\n",
      "  Using cached cmaes-0.8.2-py3-none-any.whl (15 kB)\n",
      "Collecting Mako\n",
      "  Using cached Mako-1.2.3-py3-none-any.whl (78 kB)\n",
      "Requirement already satisfied: zipp>=0.5 in c:\\users\\lucky\\anaconda3\\lib\\site-packages (from importlib-metadata<5.0.0->optuna) (3.7.0)\n",
      "Requirement already satisfied: pyparsing!=3.0.5,>=2.0.2 in c:\\users\\lucky\\anaconda3\\lib\\site-packages (from packaging>=20.0->optuna) (3.0.4)\n",
      "Requirement already satisfied: greenlet!=0.4.17 in c:\\users\\lucky\\anaconda3\\lib\\site-packages (from sqlalchemy>=1.3.0->optuna) (1.1.1)\n",
      "Collecting cmd2>=1.0.0\n",
      "  Downloading cmd2-2.4.2-py3-none-any.whl (147 kB)\n",
      "Collecting PrettyTable>=0.7.2\n",
      "  Downloading prettytable-3.5.0-py3-none-any.whl (26 kB)\n",
      "Collecting autopage>=0.4.0\n",
      "  Downloading autopage-0.5.1-py3-none-any.whl (29 kB)\n",
      "Collecting stevedore>=2.0.1\n",
      "  Downloading stevedore-4.1.0-py3-none-any.whl (50 kB)\n",
      "Requirement already satisfied: wcwidth>=0.1.7 in c:\\users\\lucky\\anaconda3\\lib\\site-packages (from cmd2>=1.0.0->cliff->optuna) (0.2.5)\n",
      "Collecting pyreadline3\n",
      "  Using cached pyreadline3-3.4.1-py3-none-any.whl (95 kB)\n",
      "Requirement already satisfied: attrs>=16.3.0 in c:\\users\\lucky\\anaconda3\\lib\\site-packages (from cmd2>=1.0.0->cliff->optuna) (21.4.0)\n",
      "Collecting pyperclip>=1.6\n",
      "  Using cached pyperclip-1.8.2.tar.gz (20 kB)\n",
      "Collecting pbr!=2.1.0,>=2.0.0\n",
      "  Downloading pbr-5.11.0-py2.py3-none-any.whl (112 kB)\n",
      "Requirement already satisfied: colorama in c:\\users\\lucky\\anaconda3\\lib\\site-packages (from colorlog->optuna) (0.4.4)\n",
      "Requirement already satisfied: MarkupSafe>=0.9.2 in c:\\users\\lucky\\anaconda3\\lib\\site-packages (from Mako->alembic>=1.5.0->optuna) (2.0.1)\n",
      "Building wheels for collected packages: pyperclip\n",
      "  Building wheel for pyperclip (setup.py): started\n",
      "  Building wheel for pyperclip (setup.py): finished with status 'done'\n",
      "  Created wheel for pyperclip: filename=pyperclip-1.8.2-py3-none-any.whl size=11137 sha256=ce22154c771743cdb344e01447a795807170bfb595a6232118725cb06ef52ffb\n",
      "  Stored in directory: c:\\users\\lucky\\appdata\\local\\pip\\cache\\wheels\\0c\\09\\9e\\49e21a6840ef7955b06d47394afef0058f0378c0914e48b8b8\n",
      "Successfully built pyperclip\n",
      "Installing collected packages: pyreadline3, pyperclip, pbr, stevedore, PrettyTable, Mako, cmd2, autopage, colorlog, cmaes, cliff, alembic, optuna\n",
      "Successfully installed Mako-1.2.3 PrettyTable-3.5.0 alembic-1.8.1 autopage-0.5.1 cliff-4.0.0 cmaes-0.8.2 cmd2-2.4.2 colorlog-6.7.0 optuna-3.0.3 pbr-5.11.0 pyperclip-1.8.2 pyreadline3-3.4.1 stevedore-4.1.0\n"
     ]
    }
   ],
   "source": [
    "#!pip install optuna"
   ]
  },
  {
   "cell_type": "code",
   "execution_count": 13,
   "metadata": {},
   "outputs": [
    {
     "data": {
      "image/png": "[encoded data removed]",
      "text/plain": [
       "<Figure size 432x288 with 1 Axes>"
      ]
     },
     "metadata": {
      "needs_background": "light"
     },
     "output_type": "display_data"
    }
   ],
   "source": [
    "import matplotlib.pyplot as plt\n",
    "\n",
    "x = np.arange(-10, 10)\n",
    "plt.plot(x, (x-2)**2)\n",
    "plt.show()"
   ]
  },
  {
   "cell_type": "code",
   "execution_count": 14,
   "metadata": {},
   "outputs": [
    {
     "name": "stderr",
     "output_type": "stream",
     "text": [
      "\u001b[32m[I 2022-10-29 19:46:07,472]\u001b[0m A new study created in memory with name: no-name-5a492835-094d-4538-8a83-06d59473513a\u001b[0m\n",
      "\u001b[32m[I 2022-10-29 19:46:07,473]\u001b[0m Trial 0 finished with value: 45.9031132074737 and parameters: {'x': -4.775183629059341}. Best is trial 0 with value: 45.9031132074737.\u001b[0m\n",
      "\u001b[32m[I 2022-10-29 19:46:07,474]\u001b[0m Trial 1 finished with value: 33.45553144198102 and parameters: {'x': 7.784075677407845}. Best is trial 1 with value: 33.45553144198102.\u001b[0m\n",
      "\u001b[32m[I 2022-10-29 19:46:07,476]\u001b[0m Trial 2 finished with value: 0.1701678223809284 and parameters: {'x': 2.412514026889909}. Best is trial 2 with value: 0.1701678223809284.\u001b[0m\n",
      "\u001b[32m[I 2022-10-29 19:46:07,477]\u001b[0m Trial 3 finished with value: 61.52289826201773 and parameters: {'x': -5.84365337467291}. Best is trial 2 with value: 0.1701678223809284.\u001b[0m\n",
      "\u001b[32m[I 2022-10-29 19:46:07,478]\u001b[0m Trial 4 finished with value: 38.53841935082321 and parameters: {'x': 8.20793197053763}. Best is trial 2 with value: 0.1701678223809284.\u001b[0m\n",
      "\u001b[32m[I 2022-10-29 19:46:07,478]\u001b[0m Trial 5 finished with value: 35.28199429551927 and parameters: {'x': 7.939864838152403}. Best is trial 2 with value: 0.1701678223809284.\u001b[0m\n",
      "\u001b[32m[I 2022-10-29 19:46:07,479]\u001b[0m Trial 6 finished with value: 12.266894102033053 and parameters: {'x': 5.5024126116197465}. Best is trial 2 with value: 0.1701678223809284.\u001b[0m\n",
      "\u001b[32m[I 2022-10-29 19:46:07,480]\u001b[0m Trial 7 finished with value: 130.70400127449656 and parameters: {'x': -9.432585065263961}. Best is trial 2 with value: 0.1701678223809284.\u001b[0m\n",
      "\u001b[32m[I 2022-10-29 19:46:07,481]\u001b[0m Trial 8 finished with value: 18.749749908364922 and parameters: {'x': 6.33009814073133}. Best is trial 2 with value: 0.1701678223809284.\u001b[0m\n",
      "\u001b[32m[I 2022-10-29 19:46:07,482]\u001b[0m Trial 9 finished with value: 20.96088309970127 and parameters: {'x': -2.5783057018619093}. Best is trial 2 with value: 0.1701678223809284.\u001b[0m\n",
      "\u001b[32m[I 2022-10-29 19:46:07,485]\u001b[0m Trial 10 finished with value: 0.060717604971535374 and parameters: {'x': 1.7535905745075173}. Best is trial 10 with value: 0.060717604971535374.\u001b[0m\n",
      "\u001b[32m[I 2022-10-29 19:46:07,489]\u001b[0m Trial 11 finished with value: 0.11799392764039397 and parameters: {'x': 1.656497558028485}. Best is trial 10 with value: 0.060717604971535374.\u001b[0m\n",
      "\u001b[32m[I 2022-10-29 19:46:07,492]\u001b[0m Trial 12 finished with value: 0.36517524795122064 and parameters: {'x': 1.3957026824888095}. Best is trial 10 with value: 0.060717604971535374.\u001b[0m\n",
      "\u001b[32m[I 2022-10-29 19:46:07,496]\u001b[0m Trial 13 finished with value: 2.5621511804657593 and parameters: {'x': 3.600672102732399}. Best is trial 10 with value: 0.060717604971535374.\u001b[0m\n",
      "\u001b[32m[I 2022-10-29 19:46:07,499]\u001b[0m Trial 14 finished with value: 10.446813889670699 and parameters: {'x': -1.2321531352444761}. Best is trial 10 with value: 0.060717604971535374.\u001b[0m\n",
      "\u001b[32m[I 2022-10-29 19:46:07,502]\u001b[0m Trial 15 finished with value: 3.9303556036426337 and parameters: {'x': 0.01748755271432567}. Best is trial 10 with value: 0.060717604971535374.\u001b[0m\n",
      "\u001b[32m[I 2022-10-29 19:46:07,505]\u001b[0m Trial 16 finished with value: 0.9687578201152962 and parameters: {'x': 2.9842549568660024}. Best is trial 10 with value: 0.060717604971535374.\u001b[0m\n",
      "\u001b[32m[I 2022-10-29 19:46:07,508]\u001b[0m Trial 17 finished with value: 23.517519274083675 and parameters: {'x': -2.84948649591724}. Best is trial 10 with value: 0.060717604971535374.\u001b[0m\n",
      "\u001b[32m[I 2022-10-29 19:46:07,511]\u001b[0m Trial 18 finished with value: 5.541655717893393 and parameters: {'x': 4.354072156475539}. Best is trial 10 with value: 0.060717604971535374.\u001b[0m\n",
      "\u001b[32m[I 2022-10-29 19:46:07,514]\u001b[0m Trial 19 finished with value: 2.7781582535042784 and parameters: {'x': 0.33321919452368365}. Best is trial 10 with value: 0.060717604971535374.\u001b[0m\n",
      "\u001b[32m[I 2022-10-29 19:46:07,517]\u001b[0m Trial 20 finished with value: 102.24670674279587 and parameters: {'x': -8.111711365678703}. Best is trial 10 with value: 0.060717604971535374.\u001b[0m\n",
      "\u001b[32m[I 2022-10-29 19:46:07,520]\u001b[0m Trial 21 finished with value: 0.09486867286413173 and parameters: {'x': 2.3080075857249813}. Best is trial 10 with value: 0.060717604971535374.\u001b[0m\n",
      "\u001b[32m[I 2022-10-29 19:46:07,523]\u001b[0m Trial 22 finished with value: 0.015018315242369459 and parameters: {'x': 1.877450764007402}. Best is trial 22 with value: 0.015018315242369459.\u001b[0m\n",
      "\u001b[32m[I 2022-10-29 19:46:07,526]\u001b[0m Trial 23 finished with value: 11.518386370167772 and parameters: {'x': -1.3938748312463987}. Best is trial 22 with value: 0.015018315242369459.\u001b[0m\n",
      "\u001b[32m[I 2022-10-29 19:46:07,530]\u001b[0m Trial 24 finished with value: 62.99346969068778 and parameters: {'x': 9.936842551713356}. Best is trial 22 with value: 0.015018315242369459.\u001b[0m\n",
      "\u001b[32m[I 2022-10-29 19:46:07,534]\u001b[0m Trial 25 finished with value: 8.915240811445884 and parameters: {'x': 4.985840051216053}. Best is trial 22 with value: 0.015018315242369459.\u001b[0m\n",
      "\u001b[32m[I 2022-10-29 19:46:07,537]\u001b[0m Trial 26 finished with value: 0.4942521763152948 and parameters: {'x': 1.2969692920538287}. Best is trial 22 with value: 0.015018315242369459.\u001b[0m\n",
      "\u001b[32m[I 2022-10-29 19:46:07,540]\u001b[0m Trial 27 finished with value: 2.422253075001522 and parameters: {'x': 3.5563589158679054}. Best is trial 22 with value: 0.015018315242369459.\u001b[0m\n",
      "\u001b[32m[I 2022-10-29 19:46:07,545]\u001b[0m Trial 28 finished with value: 11.449528213709455 and parameters: {'x': -1.3837151496113635}. Best is trial 22 with value: 0.015018315242369459.\u001b[0m\n",
      "\u001b[32m[I 2022-10-29 19:46:07,550]\u001b[0m Trial 29 finished with value: 36.24566257968948 and parameters: {'x': -4.020437075469644}. Best is trial 22 with value: 0.015018315242369459.\u001b[0m\n",
      "\u001b[32m[I 2022-10-29 19:46:07,553]\u001b[0m Trial 30 finished with value: 20.4423006952072 and parameters: {'x': 6.521316256933063}. Best is trial 22 with value: 0.015018315242369459.\u001b[0m\n",
      "\u001b[32m[I 2022-10-29 19:46:07,556]\u001b[0m Trial 31 finished with value: 0.061057056933645215 and parameters: {'x': 1.752902737907428}. Best is trial 22 with value: 0.015018315242369459.\u001b[0m\n",
      "\u001b[32m[I 2022-10-29 19:46:07,560]\u001b[0m Trial 32 finished with value: 3.0450306613164373 and parameters: {'x': 0.25499837784704704}. Best is trial 22 with value: 0.015018315242369459.\u001b[0m\n",
      "\u001b[32m[I 2022-10-29 19:46:07,564]\u001b[0m Trial 33 finished with value: 0.04325316443050285 and parameters: {'x': 2.2079739513268497}. Best is trial 22 with value: 0.015018315242369459.\u001b[0m\n",
      "\u001b[32m[I 2022-10-29 19:46:07,568]\u001b[0m Trial 34 finished with value: 5.063721217199573 and parameters: {'x': 4.250271365235663}. Best is trial 22 with value: 0.015018315242369459.\u001b[0m\n",
      "\u001b[32m[I 2022-10-29 19:46:07,571]\u001b[0m Trial 35 finished with value: 0.10912622063493649 and parameters: {'x': 2.3303425807172555}. Best is trial 22 with value: 0.015018315242369459.\u001b[0m\n",
      "\u001b[32m[I 2022-10-29 19:46:07,575]\u001b[0m Trial 36 finished with value: 0.6033733256417227 and parameters: {'x': 1.2232289103978427}. Best is trial 22 with value: 0.015018315242369459.\u001b[0m\n",
      "\u001b[32m[I 2022-10-29 19:46:07,579]\u001b[0m Trial 37 finished with value: 6.280840908444317 and parameters: {'x': -0.5061605911122928}. Best is trial 22 with value: 0.015018315242369459.\u001b[0m\n",
      "\u001b[32m[I 2022-10-29 19:46:07,583]\u001b[0m Trial 38 finished with value: 57.92746396776026 and parameters: {'x': -5.611009392173962}. Best is trial 22 with value: 0.015018315242369459.\u001b[0m\n",
      "\u001b[32m[I 2022-10-29 19:46:07,586]\u001b[0m Trial 39 finished with value: 12.212521599775595 and parameters: {'x': 5.494641841416026}. Best is trial 22 with value: 0.015018315242369459.\u001b[0m\n",
      "\u001b[32m[I 2022-10-29 19:46:07,590]\u001b[0m Trial 40 finished with value: 1.0442119390855078 and parameters: {'x': 3.0218668891227995}. Best is trial 22 with value: 0.015018315242369459.\u001b[0m\n",
      "\u001b[32m[I 2022-10-29 19:46:07,594]\u001b[0m Trial 41 finished with value: 0.03496419442949425 and parameters: {'x': 2.186987150439527}. Best is trial 22 with value: 0.015018315242369459.\u001b[0m\n",
      "\u001b[32m[I 2022-10-29 19:46:07,597]\u001b[0m Trial 42 finished with value: 1.546967852226422 and parameters: {'x': 0.7562283761773538}. Best is trial 22 with value: 0.015018315242369459.\u001b[0m\n",
      "\u001b[32m[I 2022-10-29 19:46:07,601]\u001b[0m Trial 43 finished with value: 0.06519479514138549 and parameters: {'x': 2.255332714592912}. Best is trial 22 with value: 0.015018315242369459.\u001b[0m\n",
      "\u001b[32m[I 2022-10-29 19:46:07,605]\u001b[0m Trial 44 finished with value: 6.688751700704774 and parameters: {'x': -0.586262109822741}. Best is trial 22 with value: 0.015018315242369459.\u001b[0m\n",
      "\u001b[32m[I 2022-10-29 19:46:07,610]\u001b[0m Trial 45 finished with value: 3.8344218654836792 and parameters: {'x': 3.9581679870439306}. Best is trial 22 with value: 0.015018315242369459.\u001b[0m\n",
      "\u001b[32m[I 2022-10-29 19:46:07,613]\u001b[0m Trial 46 finished with value: 21.260785733639295 and parameters: {'x': -2.6109419573053936}. Best is trial 22 with value: 0.015018315242369459.\u001b[0m\n",
      "\u001b[32m[I 2022-10-29 19:46:07,617]\u001b[0m Trial 47 finished with value: 22.483925877766165 and parameters: {'x': 6.741721826274309}. Best is trial 22 with value: 0.015018315242369459.\u001b[0m\n",
      "\u001b[32m[I 2022-10-29 19:46:07,620]\u001b[0m Trial 48 finished with value: 0.06485479553798017 and parameters: {'x': 1.7453339529148415}. Best is trial 22 with value: 0.015018315242369459.\u001b[0m\n",
      "\u001b[32m[I 2022-10-29 19:46:07,623]\u001b[0m Trial 49 finished with value: 1.1188120917696411 and parameters: {'x': 3.0577391416458224}. Best is trial 22 with value: 0.015018315242369459.\u001b[0m\n",
      "\u001b[32m[I 2022-10-29 19:46:07,628]\u001b[0m Trial 50 finished with value: 10.974057278540478 and parameters: {'x': 5.312711469256035}. Best is trial 22 with value: 0.015018315242369459.\u001b[0m\n",
      "\u001b[32m[I 2022-10-29 19:46:07,631]\u001b[0m Trial 51 finished with value: 0.1404158359431871 and parameters: {'x': 1.6252789891890407}. Best is trial 22 with value: 0.015018315242369459.\u001b[0m\n",
      "\u001b[32m[I 2022-10-29 19:46:07,635]\u001b[0m Trial 52 finished with value: 1.3313703107477077 and parameters: {'x': 0.846149788426718}. Best is trial 22 with value: 0.015018315242369459.\u001b[0m\n",
      "\u001b[32m[I 2022-10-29 19:46:07,638]\u001b[0m Trial 53 finished with value: 0.05056583912508468 and parameters: {'x': 2.224868492957739}. Best is trial 22 with value: 0.015018315242369459.\u001b[0m\n",
      "\u001b[32m[I 2022-10-29 19:46:07,643]\u001b[0m Trial 54 finished with value: 0.19500633357991706 and parameters: {'x': 2.441595214625246}. Best is trial 22 with value: 0.015018315242369459.\u001b[0m\n",
      "\u001b[32m[I 2022-10-29 19:46:07,647]\u001b[0m Trial 55 finished with value: 6.494389119886503 and parameters: {'x': -0.5484091351049782}. Best is trial 22 with value: 0.015018315242369459.\u001b[0m\n",
      "\u001b[32m[I 2022-10-29 19:46:07,650]\u001b[0m Trial 56 finished with value: 7.190650982907572 and parameters: {'x': 4.681538920640081}. Best is trial 22 with value: 0.015018315242369459.\u001b[0m\n",
      "\u001b[32m[I 2022-10-29 19:46:07,655]\u001b[0m Trial 57 finished with value: 1.8339012775579941 and parameters: {'x': 3.3542161118366574}. Best is trial 22 with value: 0.015018315242369459.\u001b[0m\n",
      "\u001b[32m[I 2022-10-29 19:46:07,658]\u001b[0m Trial 58 finished with value: 2.3750756164407245 and parameters: {'x': 0.45887196624007764}. Best is trial 22 with value: 0.015018315242369459.\u001b[0m\n",
      "\u001b[32m[I 2022-10-29 19:46:07,662]\u001b[0m Trial 59 finished with value: 0.10297660691874902 and parameters: {'x': 1.6791003164246667}. Best is trial 22 with value: 0.015018315242369459.\u001b[0m\n",
      "\u001b[32m[I 2022-10-29 19:46:07,666]\u001b[0m Trial 60 finished with value: 0.3780280134842124 and parameters: {'x': 2.6148398275032387}. Best is trial 22 with value: 0.015018315242369459.\u001b[0m\n",
      "\u001b[32m[I 2022-10-29 19:46:07,670]\u001b[0m Trial 61 finished with value: 0.08173906507146607 and parameters: {'x': 1.7140995539152377}. Best is trial 22 with value: 0.015018315242369459.\u001b[0m\n",
      "\u001b[32m[I 2022-10-29 19:46:07,674]\u001b[0m Trial 62 finished with value: 2.533143889861372 and parameters: {'x': 3.591585338541849}. Best is trial 22 with value: 0.015018315242369459.\u001b[0m\n",
      "\u001b[32m[I 2022-10-29 19:46:07,678]\u001b[0m Trial 63 finished with value: 4.921359884161159 and parameters: {'x': -0.21841382166654344}. Best is trial 22 with value: 0.015018315242369459.\u001b[0m\n",
      "\u001b[32m[I 2022-10-29 19:46:07,682]\u001b[0m Trial 64 finished with value: 0.04994117158107668 and parameters: {'x': 2.2234752146907497}. Best is trial 22 with value: 0.015018315242369459.\u001b[0m\n",
      "\u001b[32m[I 2022-10-29 19:46:07,686]\u001b[0m Trial 65 finished with value: 15.143114464682586 and parameters: {'x': -1.891415483430494}. Best is trial 22 with value: 0.015018315242369459.\u001b[0m\n",
      "\u001b[32m[I 2022-10-29 19:46:07,690]\u001b[0m Trial 66 finished with value: 1.3044400659040962 and parameters: {'x': 0.8578791369105911}. Best is trial 22 with value: 0.015018315242369459.\u001b[0m\n",
      "\u001b[32m[I 2022-10-29 19:46:07,694]\u001b[0m Trial 67 finished with value: 16.58574585432613 and parameters: {'x': 6.0725601105847575}. Best is trial 22 with value: 0.015018315242369459.\u001b[0m\n",
      "\u001b[32m[I 2022-10-29 19:46:07,698]\u001b[0m Trial 68 finished with value: 5.637667341685736 and parameters: {'x': 4.374377253446835}. Best is trial 22 with value: 0.015018315242369459.\u001b[0m\n",
      "\u001b[32m[I 2022-10-29 19:46:07,702]\u001b[0m Trial 69 finished with value: 0.024492728866773665 and parameters: {'x': 2.1565015299183163}. Best is trial 22 with value: 0.015018315242369459.\u001b[0m\n",
      "\u001b[32m[I 2022-10-29 19:46:07,706]\u001b[0m Trial 70 finished with value: 0.5596592147858643 and parameters: {'x': 2.7481037460044324}. Best is trial 22 with value: 0.015018315242369459.\u001b[0m\n",
      "\u001b[32m[I 2022-10-29 19:46:07,710]\u001b[0m Trial 71 finished with value: 0.0028506500358072215 and parameters: {'x': 2.0533914790561867}. Best is trial 71 with value: 0.0028506500358072215.\u001b[0m\n",
      "\u001b[32m[I 2022-10-29 19:46:07,715]\u001b[0m Trial 72 finished with value: 3.0086883276290073 and parameters: {'x': 3.7345570984055287}. Best is trial 71 with value: 0.0028506500358072215.\u001b[0m\n",
      "\u001b[32m[I 2022-10-29 19:46:07,719]\u001b[0m Trial 73 finished with value: 0.00635070576629223 and parameters: {'x': 2.079691315501077}. Best is trial 71 with value: 0.0028506500358072215.\u001b[0m\n",
      "\u001b[32m[I 2022-10-29 19:46:07,723]\u001b[0m Trial 74 finished with value: 0.7548274976427505 and parameters: {'x': 1.131191909773654}. Best is trial 71 with value: 0.0028506500358072215.\u001b[0m\n",
      "\u001b[32m[I 2022-10-29 19:46:07,727]\u001b[0m Trial 75 finished with value: 0.00111482146844313 and parameters: {'x': 2.0333889423079428}. Best is trial 75 with value: 0.00111482146844313.\u001b[0m\n",
      "\u001b[32m[I 2022-10-29 19:46:07,730]\u001b[0m Trial 76 finished with value: 3.5289406698261616 and parameters: {'x': 0.12145251062791562}. Best is trial 75 with value: 0.00111482146844313.\u001b[0m\n",
      "\u001b[32m[I 2022-10-29 19:46:07,734]\u001b[0m Trial 77 finished with value: 1.4999847482777766 and parameters: {'x': 3.224738644886237}. Best is trial 75 with value: 0.00111482146844313.\u001b[0m\n",
      "\u001b[32m[I 2022-10-29 19:46:07,738]\u001b[0m Trial 78 finished with value: 0.001734855948588738 and parameters: {'x': 2.0416516019930655}. Best is trial 75 with value: 0.00111482146844313.\u001b[0m\n",
      "\u001b[32m[I 2022-10-29 19:46:07,742]\u001b[0m Trial 79 finished with value: 8.276749057889642 and parameters: {'x': -0.8769339682880526}. Best is trial 75 with value: 0.00111482146844313.\u001b[0m\n",
      "\u001b[32m[I 2022-10-29 19:46:07,746]\u001b[0m Trial 80 finished with value: 4.412968893954535 and parameters: {'x': 4.100706760581908}. Best is trial 75 with value: 0.00111482146844313.\u001b[0m\n",
      "\u001b[32m[I 2022-10-29 19:46:07,750]\u001b[0m Trial 81 finished with value: 0.011281296864728198 and parameters: {'x': 2.1062134495472593}. Best is trial 75 with value: 0.00111482146844313.\u001b[0m\n",
      "\u001b[32m[I 2022-10-29 19:46:07,754]\u001b[0m Trial 82 finished with value: 0.5590646581645079 and parameters: {'x': 1.2522937353716315}. Best is trial 75 with value: 0.00111482146844313.\u001b[0m\n",
      "\u001b[32m[I 2022-10-29 19:46:07,758]\u001b[0m Trial 83 finished with value: 2.4178995556036744 and parameters: {'x': 0.445040336341912}. Best is trial 75 with value: 0.00111482146844313.\u001b[0m\n",
      "\u001b[32m[I 2022-10-29 19:46:07,763]\u001b[0m Trial 84 finished with value: 0.011919867311065228 and parameters: {'x': 2.1091781448416542}. Best is trial 75 with value: 0.00111482146844313.\u001b[0m\n",
      "\u001b[32m[I 2022-10-29 19:46:07,767]\u001b[0m Trial 85 finished with value: 0.6330153308159565 and parameters: {'x': 2.7956226057723326}. Best is trial 75 with value: 0.00111482146844313.\u001b[0m\n",
      "\u001b[32m[I 2022-10-29 19:46:07,770]\u001b[0m Trial 86 finished with value: 0.005046979435536242 and parameters: {'x': 1.9289579037785607}. Best is trial 75 with value: 0.00111482146844313.\u001b[0m\n",
      "\u001b[32m[I 2022-10-29 19:46:07,774]\u001b[0m Trial 87 finished with value: 1.186764460678264 and parameters: {'x': 0.9106128049778335}. Best is trial 75 with value: 0.00111482146844313.\u001b[0m\n",
      "\u001b[32m[I 2022-10-29 19:46:07,778]\u001b[0m Trial 88 finished with value: 133.7673336390453 and parameters: {'x': -9.565782880507713}. Best is trial 75 with value: 0.00111482146844313.\u001b[0m\n",
      "\u001b[32m[I 2022-10-29 19:46:07,782]\u001b[0m Trial 89 finished with value: 117.71092778564798 and parameters: {'x': -8.849466705126478}. Best is trial 75 with value: 0.00111482146844313.\u001b[0m\n",
      "\u001b[32m[I 2022-10-29 19:46:07,786]\u001b[0m Trial 90 finished with value: 1.3696279535325644 and parameters: {'x': 3.1703110499062053}. Best is trial 75 with value: 0.00111482146844313.\u001b[0m\n",
      "\u001b[32m[I 2022-10-29 19:46:07,791]\u001b[0m Trial 91 finished with value: 0.03439713104074339 and parameters: {'x': 2.185464635552828}. Best is trial 75 with value: 0.00111482146844313.\u001b[0m\n",
      "\u001b[32m[I 2022-10-29 19:46:07,795]\u001b[0m Trial 92 finished with value: 0.48158240711878586 and parameters: {'x': 1.3060386126600516}. Best is trial 75 with value: 0.00111482146844313.\u001b[0m\n",
      "\u001b[32m[I 2022-10-29 19:46:07,799]\u001b[0m Trial 93 finished with value: 0.006242452295846855 and parameters: {'x': 1.920990808788807}. Best is trial 75 with value: 0.00111482146844313.\u001b[0m\n",
      "\u001b[32m[I 2022-10-29 19:46:07,803]\u001b[0m Trial 94 finished with value: 0.0007473272430145696 and parameters: {'x': 2.0273372866798183}. Best is trial 94 with value: 0.0007473272430145696.\u001b[0m\n",
      "\u001b[32m[I 2022-10-29 19:46:07,807]\u001b[0m Trial 95 finished with value: 1.9965982697435691 and parameters: {'x': 0.586989642733087}. Best is trial 94 with value: 0.0007473272430145696.\u001b[0m\n",
      "\u001b[32m[I 2022-10-29 19:46:07,811]\u001b[0m Trial 96 finished with value: 0.5541385158676173 and parameters: {'x': 2.744404806451179}. Best is trial 94 with value: 0.0007473272430145696.\u001b[0m\n",
      "\u001b[32m[I 2022-10-29 19:46:07,815]\u001b[0m Trial 97 finished with value: 4.44571582328419 and parameters: {'x': -0.10848661918547409}. Best is trial 94 with value: 0.0007473272430145696.\u001b[0m\n",
      "\u001b[32m[I 2022-10-29 19:46:07,819]\u001b[0m Trial 98 finished with value: 7.271930107088178 and parameters: {'x': 4.696651647337523}. Best is trial 94 with value: 0.0007473272430145696.\u001b[0m\n",
      "\u001b[32m[I 2022-10-29 19:46:07,823]\u001b[0m Trial 99 finished with value: 0.024657897192742757 and parameters: {'x': 1.8429716675477232}. Best is trial 94 with value: 0.0007473272430145696.\u001b[0m\n"
     ]
    },
    {
     "data": {
      "text/plain": [
       "{'x': 2.0273372866798183}"
      ]
     },
     "execution_count": 14,
     "metadata": {},
     "output_type": "execute_result"
    }
   ],
   "source": [
    "\"\"\"\n",
    "A simple optimization problem:\n",
    "\n",
    "- Define objective function to be optimized. Let's minimize (x - 2)^2\n",
    "- Suggest hyperparameter values using trial object. Here, a float value of x is suggested from -10 to 10\n",
    "- Create a study object and invoke the optimize method over 100 trials\n",
    "\"\"\"\n",
    "\n",
    "import optuna\n",
    "\n",
    "def objective(trial):\n",
    "    x = trial.suggest_uniform('x', -10, 10)\n",
    "    return (x - 2) ** 2\n",
    "\n",
    "study = optuna.create_study()\n",
    "study.optimize(objective, n_trials=100)\n",
    "\n",
    "study.best_params"
   ]
  },
  {
   "cell_type": "markdown",
   "metadata": {},
   "source": [
    "You can optimize Scikit-Learn hyperparameters in three steps:\n",
    "\n",
    "1. Wrap model training with an objective function and return accuracy\n",
    "2. Suggest hyperparameters using a trial object\n",
    "3. Create a study object and execute the optimization"
   ]
  },
  {
   "cell_type": "code",
   "execution_count": 15,
   "metadata": {},
   "outputs": [
    {
     "name": "stderr",
     "output_type": "stream",
     "text": [
      "\u001b[32m[I 2022-10-29 19:46:07,858]\u001b[0m A new study created in memory with name: no-name-eeebe968-e82a-4571-80d9-fefa0dd34910\u001b[0m\n",
      "\u001b[32m[I 2022-10-29 19:46:09,205]\u001b[0m Trial 0 finished with value: 0.8230000000000001 and parameters: {'n_estimators': 800, 'max_depth': 4, 'criterion': 'entropy'}. Best is trial 0 with value: 0.8230000000000001.\u001b[0m\n",
      "\u001b[32m[I 2022-10-29 19:46:10,660]\u001b[0m Trial 1 finished with value: 0.8045 and parameters: {'n_estimators': 900, 'max_depth': 3, 'criterion': 'gini'}. Best is trial 0 with value: 0.8230000000000001.\u001b[0m\n",
      "\u001b[32m[I 2022-10-29 19:46:13,402]\u001b[0m Trial 2 finished with value: 0.8815 and parameters: {'n_estimators': 1500, 'max_depth': 30, 'criterion': 'gini'}. Best is trial 2 with value: 0.8815.\u001b[0m\n",
      "\u001b[32m[I 2022-10-29 19:46:17,501]\u001b[0m Trial 3 finished with value: 0.8845000000000001 and parameters: {'n_estimators': 2000, 'max_depth': 12, 'criterion': 'entropy'}. Best is trial 3 with value: 0.8845000000000001.\u001b[0m\n",
      "\u001b[32m[I 2022-10-29 19:46:18,041]\u001b[0m Trial 4 finished with value: 0.852 and parameters: {'n_estimators': 300, 'max_depth': 6, 'criterion': 'entropy'}. Best is trial 3 with value: 0.8845000000000001.\u001b[0m\n",
      "\u001b[32m[I 2022-10-29 19:46:21,109]\u001b[0m Trial 5 finished with value: 0.8885 and parameters: {'n_estimators': 1500, 'max_depth': 24, 'criterion': 'entropy'}. Best is trial 5 with value: 0.8885.\u001b[0m\n",
      "\u001b[32m[I 2022-10-29 19:46:22,776]\u001b[0m Trial 6 finished with value: 0.873 and parameters: {'n_estimators': 900, 'max_depth': 8, 'criterion': 'entropy'}. Best is trial 5 with value: 0.8885.\u001b[0m\n",
      "\u001b[32m[I 2022-10-29 19:46:24,077]\u001b[0m Trial 7 finished with value: 0.8815 and parameters: {'n_estimators': 700, 'max_depth': 56, 'criterion': 'gini'}. Best is trial 5 with value: 0.8885.\u001b[0m\n",
      "\u001b[32m[I 2022-10-29 19:46:24,853]\u001b[0m Trial 8 finished with value: 0.8795 and parameters: {'n_estimators': 400, 'max_depth': 9, 'criterion': 'entropy'}. Best is trial 5 with value: 0.8885.\u001b[0m\n",
      "\u001b[32m[I 2022-10-29 19:46:25,277]\u001b[0m Trial 9 finished with value: 0.8800000000000001 and parameters: {'n_estimators': 200, 'max_depth': 20, 'criterion': 'entropy'}. Best is trial 5 with value: 0.8885.\u001b[0m\n",
      "\u001b[32m[I 2022-10-29 19:46:27,858]\u001b[0m Trial 10 finished with value: 0.8790000000000001 and parameters: {'n_estimators': 1400, 'max_depth': 64, 'criterion': 'gini'}. Best is trial 5 with value: 0.8885.\u001b[0m\n",
      "\u001b[32m[I 2022-10-29 19:46:31,951]\u001b[0m Trial 11 finished with value: 0.885 and parameters: {'n_estimators': 2000, 'max_depth': 18, 'criterion': 'entropy'}. Best is trial 5 with value: 0.8885.\u001b[0m\n",
      "\u001b[32m[I 2022-10-29 19:46:36,079]\u001b[0m Trial 12 finished with value: 0.8855000000000001 and parameters: {'n_estimators': 2000, 'max_depth': 21, 'criterion': 'entropy'}. Best is trial 5 with value: 0.8885.\u001b[0m\n",
      "\u001b[32m[I 2022-10-29 19:46:39,417]\u001b[0m Trial 13 finished with value: 0.8885000000000002 and parameters: {'n_estimators': 1600, 'max_depth': 32, 'criterion': 'entropy'}. Best is trial 13 with value: 0.8885000000000002.\u001b[0m\n",
      "\u001b[32m[I 2022-10-29 19:46:42,508]\u001b[0m Trial 14 finished with value: 0.8885 and parameters: {'n_estimators': 1500, 'max_depth': 35, 'criterion': 'entropy'}. Best is trial 13 with value: 0.8885000000000002.\u001b[0m\n",
      "\u001b[32m[I 2022-10-29 19:46:45,244]\u001b[0m Trial 15 finished with value: 0.8885 and parameters: {'n_estimators': 1300, 'max_depth': 37, 'criterion': 'entropy'}. Best is trial 13 with value: 0.8885000000000002.\u001b[0m\n",
      "\u001b[32m[I 2022-10-29 19:46:48,803]\u001b[0m Trial 16 finished with value: 0.8869999999999999 and parameters: {'n_estimators': 1700, 'max_depth': 14, 'criterion': 'entropy'}. Best is trial 13 with value: 0.8885000000000002.\u001b[0m\n",
      "\u001b[32m[I 2022-10-29 19:46:51,289]\u001b[0m Trial 17 finished with value: 0.8885000000000002 and parameters: {'n_estimators': 1200, 'max_depth': 40, 'criterion': 'entropy'}. Best is trial 13 with value: 0.8885000000000002.\u001b[0m\n",
      "\u001b[32m[I 2022-10-29 19:46:53,511]\u001b[0m Trial 18 finished with value: 0.881 and parameters: {'n_estimators': 1200, 'max_depth': 46, 'criterion': 'gini'}. Best is trial 13 with value: 0.8885000000000002.\u001b[0m\n",
      "\u001b[32m[I 2022-10-29 19:46:56,220]\u001b[0m Trial 19 finished with value: 0.656 and parameters: {'n_estimators': 1700, 'max_depth': 2, 'criterion': 'entropy'}. Best is trial 13 with value: 0.8885000000000002.\u001b[0m\n",
      "\u001b[32m[I 2022-10-29 19:46:57,504]\u001b[0m Trial 20 finished with value: 0.884 and parameters: {'n_estimators': 600, 'max_depth': 44, 'criterion': 'entropy'}. Best is trial 13 with value: 0.8885000000000002.\u001b[0m\n",
      "\u001b[32m[I 2022-10-29 19:46:59,776]\u001b[0m Trial 21 finished with value: 0.8870000000000001 and parameters: {'n_estimators': 1100, 'max_depth': 27, 'criterion': 'entropy'}. Best is trial 13 with value: 0.8885000000000002.\u001b[0m\n",
      "\u001b[32m[I 2022-10-29 19:47:03,283]\u001b[0m Trial 22 finished with value: 0.8880000000000001 and parameters: {'n_estimators': 1700, 'max_depth': 26, 'criterion': 'entropy'}. Best is trial 13 with value: 0.8885000000000002.\u001b[0m\n",
      "\u001b[32m[I 2022-10-29 19:47:05,923]\u001b[0m Trial 23 finished with value: 0.8885 and parameters: {'n_estimators': 1300, 'max_depth': 38, 'criterion': 'entropy'}. Best is trial 13 with value: 0.8885000000000002.\u001b[0m\n",
      "\u001b[32m[I 2022-10-29 19:47:08,170]\u001b[0m Trial 24 finished with value: 0.8870000000000001 and parameters: {'n_estimators': 1100, 'max_depth': 16, 'criterion': 'entropy'}. Best is trial 13 with value: 0.8885000000000002.\u001b[0m\n",
      "\u001b[32m[I 2022-10-29 19:47:11,432]\u001b[0m Trial 25 finished with value: 0.8885000000000002 and parameters: {'n_estimators': 1600, 'max_depth': 24, 'criterion': 'entropy'}. Best is trial 13 with value: 0.8885000000000002.\u001b[0m\n",
      "\u001b[32m[I 2022-10-29 19:47:15,091]\u001b[0m Trial 26 finished with value: 0.8885000000000002 and parameters: {'n_estimators': 1800, 'max_depth': 51, 'criterion': 'entropy'}. Best is trial 13 with value: 0.8885000000000002.\u001b[0m\n",
      "\u001b[32m[I 2022-10-29 19:47:18,015]\u001b[0m Trial 27 finished with value: 0.8775000000000001 and parameters: {'n_estimators': 1600, 'max_depth': 11, 'criterion': 'gini'}. Best is trial 13 with value: 0.8885000000000002.\u001b[0m\n",
      "\u001b[32m[I 2022-10-29 19:47:21,817]\u001b[0m Trial 28 finished with value: 0.8885000000000002 and parameters: {'n_estimators': 1800, 'max_depth': 33, 'criterion': 'entropy'}. Best is trial 13 with value: 0.8885000000000002.\u001b[0m\n",
      "\u001b[32m[I 2022-10-29 19:47:25,518]\u001b[0m Trial 29 finished with value: 0.8885000000000002 and parameters: {'n_estimators': 1800, 'max_depth': 54, 'criterion': 'entropy'}. Best is trial 13 with value: 0.8885000000000002.\u001b[0m\n",
      "\u001b[32m[I 2022-10-29 19:47:29,398]\u001b[0m Trial 30 finished with value: 0.8875 and parameters: {'n_estimators': 1900, 'max_depth': 50, 'criterion': 'entropy'}. Best is trial 13 with value: 0.8885000000000002.\u001b[0m\n",
      "\u001b[32m[I 2022-10-29 19:47:33,095]\u001b[0m Trial 31 finished with value: 0.8885000000000002 and parameters: {'n_estimators': 1800, 'max_depth': 42, 'criterion': 'entropy'}. Best is trial 13 with value: 0.8885000000000002.\u001b[0m\n",
      "\u001b[32m[I 2022-10-29 19:47:36,817]\u001b[0m Trial 32 finished with value: 0.8885000000000002 and parameters: {'n_estimators': 1800, 'max_depth': 55, 'criterion': 'entropy'}. Best is trial 13 with value: 0.8885000000000002.\u001b[0m\n",
      "\u001b[32m[I 2022-10-29 19:47:40,463]\u001b[0m Trial 33 finished with value: 0.8885000000000002 and parameters: {'n_estimators': 1800, 'max_depth': 63, 'criterion': 'entropy'}. Best is trial 13 with value: 0.8885000000000002.\u001b[0m\n",
      "\u001b[32m[I 2022-10-29 19:47:42,125]\u001b[0m Trial 34 finished with value: 0.8835 and parameters: {'n_estimators': 900, 'max_depth': 30, 'criterion': 'gini'}. Best is trial 13 with value: 0.8885000000000002.\u001b[0m\n",
      "\u001b[32m[I 2022-10-29 19:47:45,962]\u001b[0m Trial 35 finished with value: 0.8875 and parameters: {'n_estimators': 1900, 'max_depth': 41, 'criterion': 'entropy'}. Best is trial 13 with value: 0.8885000000000002.\u001b[0m\n",
      "\u001b[32m[I 2022-10-29 19:47:48,263]\u001b[0m Trial 36 finished with value: 0.8265 and parameters: {'n_estimators': 1400, 'max_depth': 4, 'criterion': 'entropy'}. Best is trial 13 with value: 0.8885000000000002.\u001b[0m\n",
      "\u001b[32m[I 2022-10-29 19:47:52,126]\u001b[0m Trial 37 finished with value: 0.8875 and parameters: {'n_estimators': 1900, 'max_depth': 63, 'criterion': 'entropy'}. Best is trial 13 with value: 0.8885000000000002.\u001b[0m\n",
      "\u001b[32m[I 2022-10-29 19:47:55,002]\u001b[0m Trial 38 finished with value: 0.882 and parameters: {'n_estimators': 1600, 'max_depth': 30, 'criterion': 'gini'}. Best is trial 13 with value: 0.8885000000000002.\u001b[0m\n",
      "\u001b[32m[I 2022-10-29 19:47:56,790]\u001b[0m Trial 39 finished with value: 0.8685 and parameters: {'n_estimators': 1000, 'max_depth': 7, 'criterion': 'entropy'}. Best is trial 13 with value: 0.8885000000000002.\u001b[0m\n",
      "\u001b[32m[I 2022-10-29 19:48:00,462]\u001b[0m Trial 40 finished with value: 0.8885000000000002 and parameters: {'n_estimators': 1800, 'max_depth': 53, 'criterion': 'entropy'}. Best is trial 13 with value: 0.8885000000000002.\u001b[0m\n",
      "\u001b[32m[I 2022-10-29 19:48:03,512]\u001b[0m Trial 41 finished with value: 0.8885 and parameters: {'n_estimators': 1500, 'max_depth': 64, 'criterion': 'entropy'}. Best is trial 13 with value: 0.8885000000000002.\u001b[0m\n",
      "\u001b[32m[I 2022-10-29 19:48:07,601]\u001b[0m Trial 42 finished with value: 0.8855000000000001 and parameters: {'n_estimators': 2000, 'max_depth': 34, 'criterion': 'entropy'}. Best is trial 13 with value: 0.8885000000000002.\u001b[0m\n",
      "\u001b[32m[I 2022-10-29 19:48:11,251]\u001b[0m Trial 43 finished with value: 0.8885000000000002 and parameters: {'n_estimators': 1800, 'max_depth': 51, 'criterion': 'entropy'}. Best is trial 13 with value: 0.8885000000000002.\u001b[0m\n",
      "\u001b[32m[I 2022-10-29 19:48:14,530]\u001b[0m Trial 44 finished with value: 0.8879999999999999 and parameters: {'n_estimators': 1600, 'max_depth': 23, 'criterion': 'entropy'}. Best is trial 13 with value: 0.8885000000000002.\u001b[0m\n",
      "\u001b[32m[I 2022-10-29 19:48:17,779]\u001b[0m Trial 45 finished with value: 0.8885000000000002 and parameters: {'n_estimators': 1600, 'max_depth': 31, 'criterion': 'entropy'}. Best is trial 13 with value: 0.8885000000000002.\u001b[0m\n",
      "\u001b[32m[I 2022-10-29 19:48:20,698]\u001b[0m Trial 46 finished with value: 0.882 and parameters: {'n_estimators': 1600, 'max_depth': 18, 'criterion': 'gini'}. Best is trial 13 with value: 0.8885000000000002.\u001b[0m\n",
      "\u001b[32m[I 2022-10-29 19:48:24,550]\u001b[0m Trial 47 finished with value: 0.8875 and parameters: {'n_estimators': 1900, 'max_depth': 48, 'criterion': 'entropy'}. Best is trial 13 with value: 0.8885000000000002.\u001b[0m\n",
      "\u001b[32m[I 2022-10-29 19:48:26,838]\u001b[0m Trial 48 finished with value: 0.8265 and parameters: {'n_estimators': 1400, 'max_depth': 4, 'criterion': 'entropy'}. Best is trial 13 with value: 0.8885000000000002.\u001b[0m\n",
      "\u001b[32m[I 2022-10-29 19:48:29,460]\u001b[0m Trial 49 finished with value: 0.8880000000000001 and parameters: {'n_estimators': 1300, 'max_depth': 22, 'criterion': 'entropy'}. Best is trial 13 with value: 0.8885000000000002.\u001b[0m\n",
      "\u001b[32m[I 2022-10-29 19:48:32,924]\u001b[0m Trial 50 finished with value: 0.8880000000000001 and parameters: {'n_estimators': 1700, 'max_depth': 27, 'criterion': 'entropy'}. Best is trial 13 with value: 0.8885000000000002.\u001b[0m\n",
      "\u001b[32m[I 2022-10-29 19:48:35,964]\u001b[0m Trial 51 finished with value: 0.8885 and parameters: {'n_estimators': 1500, 'max_depth': 38, 'criterion': 'entropy'}. Best is trial 13 with value: 0.8885000000000002.\u001b[0m\n",
      "\u001b[32m[I 2022-10-29 19:48:39,610]\u001b[0m Trial 52 finished with value: 0.8885000000000002 and parameters: {'n_estimators': 1800, 'max_depth': 60, 'criterion': 'entropy'}. Best is trial 13 with value: 0.8885000000000002.\u001b[0m\n",
      "\u001b[32m[I 2022-10-29 19:48:43,677]\u001b[0m Trial 53 finished with value: 0.8855000000000001 and parameters: {'n_estimators': 2000, 'max_depth': 53, 'criterion': 'entropy'}. Best is trial 13 with value: 0.8885000000000002.\u001b[0m\n",
      "\u001b[32m[I 2022-10-29 19:48:47,117]\u001b[0m Trial 54 finished with value: 0.8880000000000001 and parameters: {'n_estimators': 1700, 'max_depth': 45, 'criterion': 'entropy'}. Best is trial 13 with value: 0.8885000000000002.\u001b[0m\n",
      "\u001b[32m[I 2022-10-29 19:48:50,416]\u001b[0m Trial 55 finished with value: 0.8885000000000002 and parameters: {'n_estimators': 1600, 'max_depth': 34, 'criterion': 'entropy'}. Best is trial 13 with value: 0.8885000000000002.\u001b[0m\n",
      "\u001b[32m[I 2022-10-29 19:48:54,086]\u001b[0m Trial 56 finished with value: 0.8885000000000002 and parameters: {'n_estimators': 1800, 'max_depth': 57, 'criterion': 'entropy'}. Best is trial 13 with value: 0.8885000000000002.\u001b[0m\n",
      "\u001b[32m[I 2022-10-29 19:48:58,031]\u001b[0m Trial 57 finished with value: 0.8875 and parameters: {'n_estimators': 1900, 'max_depth': 63, 'criterion': 'entropy'}. Best is trial 13 with value: 0.8885000000000002.\u001b[0m\n",
      "\u001b[32m[I 2022-10-29 19:48:58,249]\u001b[0m Trial 58 finished with value: 0.877 and parameters: {'n_estimators': 100, 'max_depth': 43, 'criterion': 'gini'}. Best is trial 13 with value: 0.8885000000000002.\u001b[0m\n",
      "\u001b[32m[I 2022-10-29 19:48:59,670]\u001b[0m Trial 59 finished with value: 0.884 and parameters: {'n_estimators': 700, 'max_depth': 15, 'criterion': 'entropy'}. Best is trial 13 with value: 0.8885000000000002.\u001b[0m\n",
      "\u001b[32m[I 2022-10-29 19:49:02,711]\u001b[0m Trial 60 finished with value: 0.8459999999999999 and parameters: {'n_estimators': 1800, 'max_depth': 5, 'criterion': 'entropy'}. Best is trial 13 with value: 0.8885000000000002.\u001b[0m\n",
      "\u001b[32m[I 2022-10-29 19:49:06,164]\u001b[0m Trial 61 finished with value: 0.8880000000000001 and parameters: {'n_estimators': 1700, 'max_depth': 34, 'criterion': 'entropy'}. Best is trial 13 with value: 0.8885000000000002.\u001b[0m\n",
      "\u001b[32m[I 2022-10-29 19:49:08,563]\u001b[0m Trial 62 finished with value: 0.8885000000000002 and parameters: {'n_estimators': 1200, 'max_depth': 25, 'criterion': 'entropy'}. Best is trial 13 with value: 0.8885000000000002.\u001b[0m\n",
      "\u001b[32m[I 2022-10-29 19:49:11,987]\u001b[0m Trial 63 finished with value: 0.8880000000000001 and parameters: {'n_estimators': 1700, 'max_depth': 47, 'criterion': 'entropy'}. Best is trial 13 with value: 0.8885000000000002.\u001b[0m\n",
      "\u001b[32m[I 2022-10-29 19:49:13,029]\u001b[0m Trial 64 finished with value: 0.8825 and parameters: {'n_estimators': 500, 'max_depth': 42, 'criterion': 'entropy'}. Best is trial 13 with value: 0.8885000000000002.\u001b[0m\n",
      "\u001b[32m[I 2022-10-29 19:49:16,113]\u001b[0m Trial 65 finished with value: 0.6664999999999999 and parameters: {'n_estimators': 2000, 'max_depth': 2, 'criterion': 'entropy'}. Best is trial 13 with value: 0.8885000000000002.\u001b[0m\n",
      "\u001b[32m[I 2022-10-29 19:49:18,514]\u001b[0m Trial 66 finished with value: 0.8885000000000002 and parameters: {'n_estimators': 1200, 'max_depth': 37, 'criterion': 'entropy'}. Best is trial 13 with value: 0.8885000000000002.\u001b[0m\n",
      "\u001b[32m[I 2022-10-29 19:49:21,562]\u001b[0m Trial 67 finished with value: 0.8885 and parameters: {'n_estimators': 1500, 'max_depth': 58, 'criterion': 'entropy'}. Best is trial 13 with value: 0.8885000000000002.\u001b[0m\n",
      "\u001b[32m[I 2022-10-29 19:49:24,987]\u001b[0m Trial 68 finished with value: 0.8795 and parameters: {'n_estimators': 1900, 'max_depth': 29, 'criterion': 'gini'}. Best is trial 13 with value: 0.8885000000000002.\u001b[0m\n",
      "\u001b[32m[I 2022-10-29 19:49:28,608]\u001b[0m Trial 69 finished with value: 0.8885000000000002 and parameters: {'n_estimators': 1800, 'max_depth': 51, 'criterion': 'entropy'}. Best is trial 13 with value: 0.8885000000000002.\u001b[0m\n",
      "\u001b[32m[I 2022-10-29 19:49:30,613]\u001b[0m Trial 70 finished with value: 0.8865000000000001 and parameters: {'n_estimators': 1000, 'max_depth': 13, 'criterion': 'entropy'}. Best is trial 13 with value: 0.8885000000000002.\u001b[0m\n",
      "\u001b[32m[I 2022-10-29 19:49:34,081]\u001b[0m Trial 71 finished with value: 0.8880000000000001 and parameters: {'n_estimators': 1700, 'max_depth': 31, 'criterion': 'entropy'}. Best is trial 13 with value: 0.8885000000000002.\u001b[0m\n"
     ]
    },
    {
     "name": "stdout",
     "output_type": "stream",
     "text": [
      "FrozenTrial(number=13, values=[0.8885000000000002], datetime_start=datetime.datetime(2022, 10, 29, 19, 46, 36, 80605), datetime_complete=datetime.datetime(2022, 10, 29, 19, 46, 39, 417082), params={'n_estimators': 1600, 'max_depth': 32, 'criterion': 'entropy'}, distributions={'n_estimators': IntDistribution(high=2000, log=False, low=100, step=100), 'max_depth': IntDistribution(high=64, log=True, low=2, step=1), 'criterion': CategoricalDistribution(choices=('gini', 'entropy'))}, user_attrs={}, system_attrs={}, intermediate_values={}, trial_id=13, state=TrialState.COMPLETE, value=None)\n"
     ]
    }
   ],
   "source": [
    "def objective(trial):\n",
    "    \n",
    "    # optuna.trial.Trial.suggest_categorical() for categorical parameters\n",
    "    # optuna.trial.Trial.suggest_int() for integer parameters\n",
    "    # optuna.trial.Trial.suggest_float() for floating point parameters    \n",
    "    rf_n_estimators = trial.suggest_int(\"n_estimators\", 100, 2000, step=100)\n",
    "    rf_max_depth = trial.suggest_int(\"max_depth\", 2, 64, log=True)\n",
    "    rf_criterion = trial.suggest_categorical(\"criterion\", [\"gini\", \"entropy\"])\n",
    "\n",
    "    classifier_obj = ensemble.RandomForestClassifier(\n",
    "        n_estimators=rf_n_estimators, \n",
    "        max_depth=rf_max_depth,\n",
    "        criterion=rf_criterion,\n",
    "        n_jobs=-1, \n",
    "        random_state=0        \n",
    "    )\n",
    "\n",
    "    score = model_selection.cross_val_score(classifier_obj, X, y, cv=5, n_jobs=-1)\n",
    "    accuracy = score.mean()\n",
    "    return accuracy\n",
    "\n",
    "\n",
    "study = optuna.create_study(direction=\"maximize\")\n",
    "study.optimize(objective, n_trials=72)\n",
    "print(study.best_trial)"
   ]
  },
  {
   "cell_type": "code",
   "execution_count": 16,
   "metadata": {},
   "outputs": [
    {
     "data": {
      "text/html": [
       "<style>#sk-container-id-1 {color: black;background-color: white;}#sk-container-id-1 pre{padding: 0;}#sk-container-id-1 div.sk-toggleable {background-color: white;}#sk-container-id-1 label.sk-toggleable__label {cursor: pointer;display: block;width: 100%;margin-bottom: 0;padding: 0.3em;box-sizing: border-box;text-align: center;}#sk-container-id-1 label.sk-toggleable__label-arrow:before {content: \"▸\";float: left;margin-right: 0.25em;color: #696969;}#sk-container-id-1 label.sk-toggleable__label-arrow:hover:before {color: black;}#sk-container-id-1 div.sk-estimator:hover label.sk-toggleable__label-arrow:before {color: black;}#sk-container-id-1 div.sk-toggleable__content {max-height: 0;max-width: 0;overflow: hidden;text-align: left;background-color: #f0f8ff;}#sk-container-id-1 div.sk-toggleable__content pre {margin: 0.2em;color: black;border-radius: 0.25em;background-color: #f0f8ff;}#sk-container-id-1 input.sk-toggleable__control:checked~div.sk-toggleable__content {max-height: 200px;max-width: 100%;overflow: auto;}#sk-container-id-1 input.sk-toggleable__control:checked~label.sk-toggleable__label-arrow:before {content: \"▾\";}#sk-container-id-1 div.sk-estimator input.sk-toggleable__control:checked~label.sk-toggleable__label {background-color: #d4ebff;}#sk-container-id-1 div.sk-label input.sk-toggleable__control:checked~label.sk-toggleable__label {background-color: #d4ebff;}#sk-container-id-1 input.sk-hidden--visually {border: 0;clip: rect(1px 1px 1px 1px);clip: rect(1px, 1px, 1px, 1px);height: 1px;margin: -1px;overflow: hidden;padding: 0;position: absolute;width: 1px;}#sk-container-id-1 div.sk-estimator {font-family: monospace;background-color: #f0f8ff;border: 1px dotted black;border-radius: 0.25em;box-sizing: border-box;margin-bottom: 0.5em;}#sk-container-id-1 div.sk-estimator:hover {background-color: #d4ebff;}#sk-container-id-1 div.sk-parallel-item::after {content: \"\";width: 100%;border-bottom: 1px solid gray;flex-grow: 1;}#sk-container-id-1 div.sk-label:hover label.sk-toggleable__label {background-color: #d4ebff;}#sk-container-id-1 div.sk-serial::before {content: \"\";position: absolute;border-left: 1px solid gray;box-sizing: border-box;top: 0;bottom: 0;left: 50%;z-index: 0;}#sk-container-id-1 div.sk-serial {display: flex;flex-direction: column;align-items: center;background-color: white;padding-right: 0.2em;padding-left: 0.2em;position: relative;}#sk-container-id-1 div.sk-item {position: relative;z-index: 1;}#sk-container-id-1 div.sk-parallel {display: flex;align-items: stretch;justify-content: center;background-color: white;position: relative;}#sk-container-id-1 div.sk-item::before, #sk-container-id-1 div.sk-parallel-item::before {content: \"\";position: absolute;border-left: 1px solid gray;box-sizing: border-box;top: 0;bottom: 0;left: 50%;z-index: -1;}#sk-container-id-1 div.sk-parallel-item {display: flex;flex-direction: column;z-index: 1;position: relative;background-color: white;}#sk-container-id-1 div.sk-parallel-item:first-child::after {align-self: flex-end;width: 50%;}#sk-container-id-1 div.sk-parallel-item:last-child::after {align-self: flex-start;width: 50%;}#sk-container-id-1 div.sk-parallel-item:only-child::after {width: 0;}#sk-container-id-1 div.sk-dashed-wrapped {border: 1px dashed gray;margin: 0 0.4em 0.5em 0.4em;box-sizing: border-box;padding-bottom: 0.4em;background-color: white;}#sk-container-id-1 div.sk-label label {font-family: monospace;font-weight: bold;display: inline-block;line-height: 1.2em;}#sk-container-id-1 div.sk-label-container {text-align: center;}#sk-container-id-1 div.sk-container {/* jupyter's `normalize.less` sets `[hidden] { display: none; }` but bootstrap.min.css set `[hidden] { display: none !important; }` so we also need the `!important` here to be able to override the default hidden behavior on the sphinx rendered scikit-learn.org. See: https://github.com/scikit-learn/scikit-learn/issues/21755 */display: inline-block !important;position: relative;}#sk-container-id-1 div.sk-text-repr-fallback {display: none;}</style><div id=\"sk-container-id-1\" class=\"sk-top-container\"><div class=\"sk-text-repr-fallback\"><pre>RandomForestClassifier(criterion=&#x27;entropy&#x27;, max_depth=32, n_estimators=1600,\n",
       "                       n_jobs=-1)</pre><b>In a Jupyter environment, please rerun this cell to show the HTML representation or trust the notebook. <br />On GitHub, the HTML representation is unable to render, please try loading this page with nbviewer.org.</b></div><div class=\"sk-container\" hidden><div class=\"sk-item\"><div class=\"sk-estimator sk-toggleable\"><input class=\"sk-toggleable__control sk-hidden--visually\" id=\"sk-estimator-id-1\" type=\"checkbox\" checked><label for=\"sk-estimator-id-1\" class=\"sk-toggleable__label sk-toggleable__label-arrow\">RandomForestClassifier</label><div class=\"sk-toggleable__content\"><pre>RandomForestClassifier(criterion=&#x27;entropy&#x27;, max_depth=32, n_estimators=1600,\n",
       "                       n_jobs=-1)</pre></div></div></div></div></div>"
      ],
      "text/plain": [
       "RandomForestClassifier(criterion='entropy', max_depth=32, n_estimators=1600,\n",
       "                       n_jobs=-1)"
      ]
     },
     "execution_count": 16,
     "metadata": {},
     "output_type": "execute_result"
    }
   ],
   "source": [
    "model = ensemble.RandomForestClassifier(**study.best_params, n_jobs=-1)\n",
    "model.fit(X, y)"
   ]
  },
  {
   "cell_type": "code",
   "execution_count": 17,
   "metadata": {},
   "outputs": [
    {
     "data": {
      "application/vnd.plotly.v1+json": {
       "config": {
        "plotlyServerURL": "https://plot.ly"
       },
       "data": [
        {
         "mode": "markers",
         "name": "Objective Value",
         "type": "scatter",
         "x": [
          0,
          1,
          2,
          3,
          4,
          5,
          6,
          7,
          8,
          9,
          10,
          11,
          12,
          13,
          14,
          15,
          16,
          17,
          18,
          19,
          20,
          21,
          22,
          23,
          24,
          25,
          26,
          27,
          28,
          29,
          30,
          31,
          32,
          33,
          34,
          35,
          36,
          37,
          38,
          39,
          40,
          41,
          42,
          43,
          44,
          45,
          46,
          47,
          48,
          49,
          50,
          51,
          52,
          53,
          54,
          55,
          56,
          57,
          58,
          59,
          60,
          61,
          62,
          63,
          64,
          65,
          66,
          67,
          68,
          69,
          70,
          71
         ],
         "y": [
          0.8230000000000001,
          0.8045,
          0.8815,
          0.8845000000000001,
          0.852,
          0.8885,
          0.873,
          0.8815,
          0.8795,
          0.8800000000000001,
          0.8790000000000001,
          0.885,
          0.8855000000000001,
          0.8885000000000002,
          0.8885,
          0.8885,
          0.8869999999999999,
          0.8885000000000002,
          0.881,
          0.656,
          0.884,
          0.8870000000000001,
          0.8880000000000001,
          0.8885,
          0.8870000000000001,
          0.8885000000000002,
          0.8885000000000002,
          0.8775000000000001,
          0.8885000000000002,
          0.8885000000000002,
          0.8875,
          0.8885000000000002,
          0.8885000000000002,
          0.8885000000000002,
          0.8835,
          0.8875,
          0.8265,
          0.8875,
          0.882,
          0.8685,
          0.8885000000000002,
          0.8885,
          0.8855000000000001,
          0.8885000000000002,
          0.8879999999999999,
          0.8885000000000002,
          0.882,
          0.8875,
          0.8265,
          0.8880000000000001,
          0.8880000000000001,
          0.8885,
          0.8885000000000002,
          0.8855000000000001,
          0.8880000000000001,
          0.8885000000000002,
          0.8885000000000002,
          0.8875,
          0.877,
          0.884,
          0.8459999999999999,
          0.8880000000000001,
          0.8885000000000002,
          0.8880000000000001,
          0.8825,
          0.6664999999999999,
          0.8885000000000002,
          0.8885,
          0.8795,
          0.8885000000000002,
          0.8865000000000001,
          0.8880000000000001
         ]
        },
        {
         "name": "Best Value",
         "type": "scatter",
         "x": [
          0,
          1,
          2,
          3,
          4,
          5,
          6,
          7,
          8,
          9,
          10,
          11,
          12,
          13,
          14,
          15,
          16,
          17,
          18,
          19,
          20,
          21,
          22,
          23,
          24,
          25,
          26,
          27,
          28,
          29,
          30,
          31,
          32,
          33,
          34,
          35,
          36,
          37,
          38,
          39,
          40,
          41,
          42,
          43,
          44,
          45,
          46,
          47,
          48,
          49,
          50,
          51,
          52,
          53,
          54,
          55,
          56,
          57,
          58,
          59,
          60,
          61,
          62,
          63,
          64,
          65,
          66,
          67,
          68,
          69,
          70,
          71
         ],
         "y": [
          0.8230000000000001,
          0.8230000000000001,
          0.8815,
          0.8845000000000001,
          0.8845000000000001,
          0.8885,
          0.8885,
          0.8885,
          0.8885,
          0.8885,
          0.8885,
          0.8885,
          0.8885,
          0.8885000000000002,
          0.8885000000000002,
          0.8885000000000002,
          0.8885000000000002,
          0.8885000000000002,
          0.8885000000000002,
          0.8885000000000002,
          0.8885000000000002,
          0.8885000000000002,
          0.8885000000000002,
          0.8885000000000002,
          0.8885000000000002,
          0.8885000000000002,
          0.8885000000000002,
          0.8885000000000002,
          0.8885000000000002,
          0.8885000000000002,
          0.8885000000000002,
          0.8885000000000002,
          0.8885000000000002,
          0.8885000000000002,
          0.8885000000000002,
          0.8885000000000002,
          0.8885000000000002,
          0.8885000000000002,
          0.8885000000000002,
          0.8885000000000002,
          0.8885000000000002,
          0.8885000000000002,
          0.8885000000000002,
          0.8885000000000002,
          0.8885000000000002,
          0.8885000000000002,
          0.8885000000000002,
          0.8885000000000002,
          0.8885000000000002,
          0.8885000000000002,
          0.8885000000000002,
          0.8885000000000002,
          0.8885000000000002,
          0.8885000000000002,
          0.8885000000000002,
          0.8885000000000002,
          0.8885000000000002,
          0.8885000000000002,
          0.8885000000000002,
          0.8885000000000002,
          0.8885000000000002,
          0.8885000000000002,
          0.8885000000000002,
          0.8885000000000002,
          0.8885000000000002,
          0.8885000000000002,
          0.8885000000000002,
          0.8885000000000002,
          0.8885000000000002,
          0.8885000000000002,
          0.8885000000000002,
          0.8885000000000002
         ]
        }
       ],
       "layout": {
        "template": {
         "data": {
          "bar": [
           {
            "error_x": {
             "color": "#2a3f5f"
            },
            "error_y": {
             "color": "#2a3f5f"
            },
            "marker": {
             "line": {
              "color": "#E5ECF6",
              "width": 0.5
             },
             "pattern": {
              "fillmode": "overlay",
              "size": 10,
              "solidity": 0.2
             }
            },
            "type": "bar"
           }
          ],
          "barpolar": [
           {
            "marker": {
             "line": {
              "color": "#E5ECF6",
              "width": 0.5
             },
             "pattern": {
              "fillmode": "overlay",
              "size": 10,
              "solidity": 0.2
             }
            },
            "type": "barpolar"
           }
          ],
          "carpet": [
           {
            "aaxis": {
             "endlinecolor": "#2a3f5f",
             "gridcolor": "white",
             "linecolor": "white",
             "minorgridcolor": "white",
             "startlinecolor": "#2a3f5f"
            },
            "baxis": {
             "endlinecolor": "#2a3f5f",
             "gridcolor": "white",
             "linecolor": "white",
             "minorgridcolor": "white",
             "startlinecolor": "#2a3f5f"
            },
            "type": "carpet"
           }
          ],
          "choropleth": [
           {
            "colorbar": {
             "outlinewidth": 0,
             "ticks": ""
            },
            "type": "choropleth"
           }
          ],
          "contour": [
           {
            "colorbar": {
             "outlinewidth": 0,
             "ticks": ""
            },
            "colorscale": [
             [
              0,
              "#0d0887"
             ],
             [
              0.1111111111111111,
              "#46039f"
             ],
             [
              0.2222222222222222,
              "#7201a8"
             ],
             [
              0.3333333333333333,
              "#9c179e"
             ],
             [
              0.4444444444444444,
              "#bd3786"
             ],
             [
              0.5555555555555556,
              "#d8576b"
             ],
             [
              0.6666666666666666,
              "#ed7953"
             ],
             [
              0.7777777777777778,
              "#fb9f3a"
             ],
             [
              0.8888888888888888,
              "#fdca26"
             ],
             [
              1,
              "#f0f921"
             ]
            ],
            "type": "contour"
           }
          ],
          "contourcarpet": [
           {
            "colorbar": {
             "outlinewidth": 0,
             "ticks": ""
            },
            "type": "contourcarpet"
           }
          ],
          "heatmap": [
           {
            "colorbar": {
             "outlinewidth": 0,
             "ticks": ""
            },
            "colorscale": [
             [
              0,
              "#0d0887"
             ],
             [
              0.1111111111111111,
              "#46039f"
             ],
             [
              0.2222222222222222,
              "#7201a8"
             ],
             [
              0.3333333333333333,
              "#9c179e"
             ],
             [
              0.4444444444444444,
              "#bd3786"
             ],
             [
              0.5555555555555556,
              "#d8576b"
             ],
             [
              0.6666666666666666,
              "#ed7953"
             ],
             [
              0.7777777777777778,
              "#fb9f3a"
             ],
             [
              0.8888888888888888,
              "#fdca26"
             ],
             [
              1,
              "#f0f921"
             ]
            ],
            "type": "heatmap"
           }
          ],
          "heatmapgl": [
           {
            "colorbar": {
             "outlinewidth": 0,
             "ticks": ""
            },
            "colorscale": [
             [
              0,
              "#0d0887"
             ],
             [
              0.1111111111111111,
              "#46039f"
             ],
             [
              0.2222222222222222,
              "#7201a8"
             ],
             [
              0.3333333333333333,
              "#9c179e"
             ],
             [
              0.4444444444444444,
              "#bd3786"
             ],
             [
              0.5555555555555556,
              "#d8576b"
             ],
             [
              0.6666666666666666,
              "#ed7953"
             ],
             [
              0.7777777777777778,
              "#fb9f3a"
             ],
             [
              0.8888888888888888,
              "#fdca26"
             ],
             [
              1,
              "#f0f921"
             ]
            ],
            "type": "heatmapgl"
           }
          ],
          "histogram": [
           {
            "marker": {
             "pattern": {
              "fillmode": "overlay",
              "size": 10,
              "solidity": 0.2
             }
            },
            "type": "histogram"
           }
          ],
          "histogram2d": [
           {
            "colorbar": {
             "outlinewidth": 0,
             "ticks": ""
            },
            "colorscale": [
             [
              0,
              "#0d0887"
             ],
             [
              0.1111111111111111,
              "#46039f"
             ],
             [
              0.2222222222222222,
              "#7201a8"
             ],
             [
              0.3333333333333333,
              "#9c179e"
             ],
             [
              0.4444444444444444,
              "#bd3786"
             ],
             [
              0.5555555555555556,
              "#d8576b"
             ],
             [
              0.6666666666666666,
              "#ed7953"
             ],
             [
              0.7777777777777778,
              "#fb9f3a"
             ],
             [
              0.8888888888888888,
              "#fdca26"
             ],
             [
              1,
              "#f0f921"
             ]
            ],
            "type": "histogram2d"
           }
          ],
          "histogram2dcontour": [
           {
            "colorbar": {
             "outlinewidth": 0,
             "ticks": ""
            },
            "colorscale": [
             [
              0,
              "#0d0887"
             ],
             [
              0.1111111111111111,
              "#46039f"
             ],
             [
              0.2222222222222222,
              "#7201a8"
             ],
             [
              0.3333333333333333,
              "#9c179e"
             ],
             [
              0.4444444444444444,
              "#bd3786"
             ],
             [
              0.5555555555555556,
              "#d8576b"
             ],
             [
              0.6666666666666666,
              "#ed7953"
             ],
             [
              0.7777777777777778,
              "#fb9f3a"
             ],
             [
              0.8888888888888888,
              "#fdca26"
             ],
             [
              1,
              "#f0f921"
             ]
            ],
            "type": "histogram2dcontour"
           }
          ],
          "mesh3d": [
           {
            "colorbar": {
             "outlinewidth": 0,
             "ticks": ""
            },
            "type": "mesh3d"
           }
          ],
          "parcoords": [
           {
            "line": {
             "colorbar": {
              "outlinewidth": 0,
              "ticks": ""
             }
            },
            "type": "parcoords"
           }
          ],
          "pie": [
           {
            "automargin": true,
            "type": "pie"
           }
          ],
          "scatter": [
           {
            "marker": {
             "colorbar": {
              "outlinewidth": 0,
              "ticks": ""
             }
            },
            "type": "scatter"
           }
          ],
          "scatter3d": [
           {
            "line": {
             "colorbar": {
              "outlinewidth": 0,
              "ticks": ""
             }
            },
            "marker": {
             "colorbar": {
              "outlinewidth": 0,
              "ticks": ""
             }
            },
            "type": "scatter3d"
           }
          ],
          "scattercarpet": [
           {
            "marker": {
             "colorbar": {
              "outlinewidth": 0,
              "ticks": ""
             }
            },
            "type": "scattercarpet"
           }
          ],
          "scattergeo": [
           {
            "marker": {
             "colorbar": {
              "outlinewidth": 0,
              "ticks": ""
             }
            },
            "type": "scattergeo"
           }
          ],
          "scattergl": [
           {
            "marker": {
             "colorbar": {
              "outlinewidth": 0,
              "ticks": ""
             }
            },
            "type": "scattergl"
           }
          ],
          "scattermapbox": [
           {
            "marker": {
             "colorbar": {
              "outlinewidth": 0,
              "ticks": ""
             }
            },
            "type": "scattermapbox"
           }
          ],
          "scatterpolar": [
           {
            "marker": {
             "colorbar": {
              "outlinewidth": 0,
              "ticks": ""
             }
            },
            "type": "scatterpolar"
           }
          ],
          "scatterpolargl": [
           {
            "marker": {
             "colorbar": {
              "outlinewidth": 0,
              "ticks": ""
             }
            },
            "type": "scatterpolargl"
           }
          ],
          "scatterternary": [
           {
            "marker": {
             "colorbar": {
              "outlinewidth": 0,
              "ticks": ""
             }
            },
            "type": "scatterternary"
           }
          ],
          "surface": [
           {
            "colorbar": {
             "outlinewidth": 0,
             "ticks": ""
            },
            "colorscale": [
             [
              0,
              "#0d0887"
             ],
             [
              0.1111111111111111,
              "#46039f"
             ],
             [
              0.2222222222222222,
              "#7201a8"
             ],
             [
              0.3333333333333333,
              "#9c179e"
             ],
             [
              0.4444444444444444,
              "#bd3786"
             ],
             [
              0.5555555555555556,
              "#d8576b"
             ],
             [
              0.6666666666666666,
              "#ed7953"
             ],
             [
              0.7777777777777778,
              "#fb9f3a"
             ],
             [
              0.8888888888888888,
              "#fdca26"
             ],
             [
              1,
              "#f0f921"
             ]
            ],
            "type": "surface"
           }
          ],
          "table": [
           {
            "cells": {
             "fill": {
              "color": "#EBF0F8"
             },
             "line": {
              "color": "white"
             }
            },
            "header": {
             "fill": {
              "color": "#C8D4E3"
             },
             "line": {
              "color": "white"
             }
            },
            "type": "table"
           }
          ]
         },
         "layout": {
          "annotationdefaults": {
           "arrowcolor": "#2a3f5f",
           "arrowhead": 0,
           "arrowwidth": 1
          },
          "autotypenumbers": "strict",
          "coloraxis": {
           "colorbar": {
            "outlinewidth": 0,
            "ticks": ""
           }
          },
          "colorscale": {
           "diverging": [
            [
             0,
             "#8e0152"
            ],
            [
             0.1,
             "#c51b7d"
            ],
            [
             0.2,
             "#de77ae"
            ],
            [
             0.3,
             "#f1b6da"
            ],
            [
             0.4,
             "#fde0ef"
            ],
            [
             0.5,
             "#f7f7f7"
            ],
            [
             0.6,
             "#e6f5d0"
            ],
            [
             0.7,
             "#b8e186"
            ],
            [
             0.8,
             "#7fbc41"
            ],
            [
             0.9,
             "#4d9221"
            ],
            [
             1,
             "#276419"
            ]
           ],
           "sequential": [
            [
             0,
             "#0d0887"
            ],
            [
             0.1111111111111111,
             "#46039f"
            ],
            [
             0.2222222222222222,
             "#7201a8"
            ],
            [
             0.3333333333333333,
             "#9c179e"
            ],
            [
             0.4444444444444444,
             "#bd3786"
            ],
            [
             0.5555555555555556,
             "#d8576b"
            ],
            [
             0.6666666666666666,
             "#ed7953"
            ],
            [
             0.7777777777777778,
             "#fb9f3a"
            ],
            [
             0.8888888888888888,
             "#fdca26"
            ],
            [
             1,
             "#f0f921"
            ]
           ],
           "sequentialminus": [
            [
             0,
             "#0d0887"
            ],
            [
             0.1111111111111111,
             "#46039f"
            ],
            [
             0.2222222222222222,
             "#7201a8"
            ],
            [
             0.3333333333333333,
             "#9c179e"
            ],
            [
             0.4444444444444444,
             "#bd3786"
            ],
            [
             0.5555555555555556,
             "#d8576b"
            ],
            [
             0.6666666666666666,
             "#ed7953"
            ],
            [
             0.7777777777777778,
             "#fb9f3a"
            ],
            [
             0.8888888888888888,
             "#fdca26"
            ],
            [
             1,
             "#f0f921"
            ]
           ]
          },
          "colorway": [
           "#636efa",
           "#EF553B",
           "#00cc96",
           "#ab63fa",
           "#FFA15A",
           "#19d3f3",
           "#FF6692",
           "#B6E880",
           "#FF97FF",
           "#FECB52"
          ],
          "font": {
           "color": "#2a3f5f"
          },
          "geo": {
           "bgcolor": "white",
           "lakecolor": "white",
           "landcolor": "#E5ECF6",
           "showlakes": true,
           "showland": true,
           "subunitcolor": "white"
          },
          "hoverlabel": {
           "align": "left"
          },
          "hovermode": "closest",
          "mapbox": {
           "style": "light"
          },
          "paper_bgcolor": "white",
          "plot_bgcolor": "#E5ECF6",
          "polar": {
           "angularaxis": {
            "gridcolor": "white",
            "linecolor": "white",
            "ticks": ""
           },
           "bgcolor": "#E5ECF6",
           "radialaxis": {
            "gridcolor": "white",
            "linecolor": "white",
            "ticks": ""
           }
          },
          "scene": {
           "xaxis": {
            "backgroundcolor": "#E5ECF6",
            "gridcolor": "white",
            "gridwidth": 2,
            "linecolor": "white",
            "showbackground": true,
            "ticks": "",
            "zerolinecolor": "white"
           },
           "yaxis": {
            "backgroundcolor": "#E5ECF6",
            "gridcolor": "white",
            "gridwidth": 2,
            "linecolor": "white",
            "showbackground": true,
            "ticks": "",
            "zerolinecolor": "white"
           },
           "zaxis": {
            "backgroundcolor": "#E5ECF6",
            "gridcolor": "white",
            "gridwidth": 2,
            "linecolor": "white",
            "showbackground": true,
            "ticks": "",
            "zerolinecolor": "white"
           }
          },
          "shapedefaults": {
           "line": {
            "color": "#2a3f5f"
           }
          },
          "ternary": {
           "aaxis": {
            "gridcolor": "white",
            "linecolor": "white",
            "ticks": ""
           },
           "baxis": {
            "gridcolor": "white",
            "linecolor": "white",
            "ticks": ""
           },
           "bgcolor": "#E5ECF6",
           "caxis": {
            "gridcolor": "white",
            "linecolor": "white",
            "ticks": ""
           }
          },
          "title": {
           "x": 0.05
          },
          "xaxis": {
           "automargin": true,
           "gridcolor": "white",
           "linecolor": "white",
           "ticks": "",
           "title": {
            "standoff": 15
           },
           "zerolinecolor": "white",
           "zerolinewidth": 2
          },
          "yaxis": {
           "automargin": true,
           "gridcolor": "white",
           "linecolor": "white",
           "ticks": "",
           "title": {
            "standoff": 15
           },
           "zerolinecolor": "white",
           "zerolinewidth": 2
          }
         }
        },
        "title": {
         "text": "Optimization History Plot"
        },
        "xaxis": {
         "title": {
          "text": "Trial"
         }
        },
        "yaxis": {
         "title": {
          "text": "Objective Value"
         }
        }
       }
      }
     },
     "metadata": {},
     "output_type": "display_data"
    }
   ],
   "source": [
    "optuna.visualization.plot_optimization_history(study)"
   ]
  },
  {
   "cell_type": "code",
   "execution_count": 18,
   "metadata": {},
   "outputs": [
    {
     "data": {
      "application/vnd.plotly.v1+json": {
       "config": {
        "plotlyServerURL": "https://plot.ly"
       },
       "data": [
        {
         "dimensions": [
          {
           "label": "Objective Value",
           "range": [
            0.656,
            0.8885000000000002
           ],
           "values": [
            0.8230000000000001,
            0.8045,
            0.8815,
            0.8845000000000001,
            0.852,
            0.8885,
            0.873,
            0.8815,
            0.8795,
            0.8800000000000001,
            0.8790000000000001,
            0.885,
            0.8855000000000001,
            0.8885000000000002,
            0.8885,
            0.8885,
            0.8869999999999999,
            0.8885000000000002,
            0.881,
            0.656,
            0.884,
            0.8870000000000001,
            0.8880000000000001,
            0.8885,
            0.8870000000000001,
            0.8885000000000002,
            0.8885000000000002,
            0.8775000000000001,
            0.8885000000000002,
            0.8885000000000002,
            0.8875,
            0.8885000000000002,
            0.8885000000000002,
            0.8885000000000002,
            0.8835,
            0.8875,
            0.8265,
            0.8875,
            0.882,
            0.8685,
            0.8885000000000002,
            0.8885,
            0.8855000000000001,
            0.8885000000000002,
            0.8879999999999999,
            0.8885000000000002,
            0.882,
            0.8875,
            0.8265,
            0.8880000000000001,
            0.8880000000000001,
            0.8885,
            0.8885000000000002,
            0.8855000000000001,
            0.8880000000000001,
            0.8885000000000002,
            0.8885000000000002,
            0.8875,
            0.877,
            0.884,
            0.8459999999999999,
            0.8880000000000001,
            0.8885000000000002,
            0.8880000000000001,
            0.8825,
            0.6664999999999999,
            0.8885000000000002,
            0.8885,
            0.8795,
            0.8885000000000002,
            0.8865000000000001,
            0.8880000000000001
           ]
          },
          {
           "label": "criterion",
           "range": [
            0,
            1
           ],
           "ticktext": [
            "entropy",
            "gini"
           ],
           "tickvals": [
            0,
            1
           ],
           "values": [
            0,
            1,
            1,
            0,
            0,
            0,
            0,
            1,
            0,
            0,
            1,
            0,
            0,
            0,
            0,
            0,
            0,
            0,
            1,
            0,
            0,
            0,
            0,
            0,
            0,
            0,
            0,
            1,
            0,
            0,
            0,
            0,
            0,
            0,
            1,
            0,
            0,
            0,
            1,
            0,
            0,
            0,
            0,
            0,
            0,
            0,
            1,
            0,
            0,
            0,
            0,
            0,
            0,
            0,
            0,
            0,
            0,
            0,
            1,
            0,
            0,
            0,
            0,
            0,
            0,
            0,
            0,
            0,
            1,
            0,
            0,
            0
           ]
          },
          {
           "label": "max_depth",
           "range": [
            0.3010299956639812,
            1.806179973983887
           ],
           "ticktext": [
            "2",
            "10",
            "64"
           ],
           "tickvals": [
            0.3010299956639812,
            1,
            1.806179973983887
           ],
           "values": [
            0.6020599913279624,
            0.47712125471966244,
            1.4771212547196624,
            1.0791812460476249,
            0.7781512503836436,
            1.380211241711606,
            0.9030899869919435,
            1.7481880270062005,
            0.9542425094393249,
            1.3010299956639813,
            1.806179973983887,
            1.255272505103306,
            1.3222192947339193,
            1.505149978319906,
            1.5440680443502757,
            1.568201724066995,
            1.146128035678238,
            1.6020599913279623,
            1.662757831681574,
            0.3010299956639812,
            1.6434526764861874,
            1.4313637641589874,
            1.414973347970818,
            1.5797835966168101,
            1.2041199826559248,
            1.380211241711606,
            1.7075701760979363,
            1.0413926851582251,
            1.5185139398778875,
            1.7323937598229686,
            1.6989700043360187,
            1.6232492903979006,
            1.7403626894942439,
            1.7993405494535817,
            1.4771212547196624,
            1.6127838567197355,
            0.6020599913279624,
            1.7993405494535817,
            1.4771212547196624,
            0.8450980400142568,
            1.724275869600789,
            1.806179973983887,
            1.5314789170422551,
            1.7075701760979363,
            1.3617278360175928,
            1.4913616938342726,
            1.255272505103306,
            1.6812412373755872,
            0.6020599913279624,
            1.3424226808222062,
            1.4313637641589874,
            1.5797835966168101,
            1.7781512503836436,
            1.724275869600789,
            1.6532125137753437,
            1.5314789170422551,
            1.7558748556724915,
            1.7993405494535817,
            1.6334684555795864,
            1.1760912590556813,
            0.6989700043360189,
            1.5314789170422551,
            1.3979400086720377,
            1.6720978579357175,
            1.6232492903979006,
            0.3010299956639812,
            1.568201724066995,
            1.7634279935629373,
            1.462397997898956,
            1.7075701760979363,
            1.1139433523068367,
            1.4913616938342726
           ]
          },
          {
           "label": "n_estimators",
           "range": [
            100,
            2000
           ],
           "values": [
            800,
            900,
            1500,
            2000,
            300,
            1500,
            900,
            700,
            400,
            200,
            1400,
            2000,
            2000,
            1600,
            1500,
            1300,
            1700,
            1200,
            1200,
            1700,
            600,
            1100,
            1700,
            1300,
            1100,
            1600,
            1800,
            1600,
            1800,
            1800,
            1900,
            1800,
            1800,
            1800,
            900,
            1900,
            1400,
            1900,
            1600,
            1000,
            1800,
            1500,
            2000,
            1800,
            1600,
            1600,
            1600,
            1900,
            1400,
            1300,
            1700,
            1500,
            1800,
            2000,
            1700,
            1600,
            1800,
            1900,
            100,
            700,
            1800,
            1700,
            1200,
            1700,
            500,
            2000,
            1200,
            1500,
            1900,
            1800,
            1000,
            1700
           ]
          }
         ],
         "labelangle": 30,
         "labelside": "bottom",
         "line": {
          "color": [
           0.8230000000000001,
           0.8045,
           0.8815,
           0.8845000000000001,
           0.852,
           0.8885,
           0.873,
           0.8815,
           0.8795,
           0.8800000000000001,
           0.8790000000000001,
           0.885,
           0.8855000000000001,
           0.8885000000000002,
           0.8885,
           0.8885,
           0.8869999999999999,
           0.8885000000000002,
           0.881,
           0.656,
           0.884,
           0.8870000000000001,
           0.8880000000000001,
           0.8885,
           0.8870000000000001,
           0.8885000000000002,
           0.8885000000000002,
           0.8775000000000001,
           0.8885000000000002,
           0.8885000000000002,
           0.8875,
           0.8885000000000002,
           0.8885000000000002,
           0.8885000000000002,
           0.8835,
           0.8875,
           0.8265,
           0.8875,
           0.882,
           0.8685,
           0.8885000000000002,
           0.8885,
           0.8855000000000001,
           0.8885000000000002,
           0.8879999999999999,
           0.8885000000000002,
           0.882,
           0.8875,
           0.8265,
           0.8880000000000001,
           0.8880000000000001,
           0.8885,
           0.8885000000000002,
           0.8855000000000001,
           0.8880000000000001,
           0.8885000000000002,
           0.8885000000000002,
           0.8875,
           0.877,
           0.884,
           0.8459999999999999,
           0.8880000000000001,
           0.8885000000000002,
           0.8880000000000001,
           0.8825,
           0.6664999999999999,
           0.8885000000000002,
           0.8885,
           0.8795,
           0.8885000000000002,
           0.8865000000000001,
           0.8880000000000001
          ],
          "colorbar": {
           "title": {
            "text": "Objective Value"
           }
          },
          "colorscale": [
           [
            0,
            "rgb(247,251,255)"
           ],
           [
            0.125,
            "rgb(222,235,247)"
           ],
           [
            0.25,
            "rgb(198,219,239)"
           ],
           [
            0.375,
            "rgb(158,202,225)"
           ],
           [
            0.5,
            "rgb(107,174,214)"
           ],
           [
            0.625,
            "rgb(66,146,198)"
           ],
           [
            0.75,
            "rgb(33,113,181)"
           ],
           [
            0.875,
            "rgb(8,81,156)"
           ],
           [
            1,
            "rgb(8,48,107)"
           ]
          ],
          "reversescale": false,
          "showscale": true
         },
         "type": "parcoords"
        }
       ],
       "layout": {
        "template": {
         "data": {
          "bar": [
           {
            "error_x": {
             "color": "#2a3f5f"
            },
            "error_y": {
             "color": "#2a3f5f"
            },
            "marker": {
             "line": {
              "color": "#E5ECF6",
              "width": 0.5
             },
             "pattern": {
              "fillmode": "overlay",
              "size": 10,
              "solidity": 0.2
             }
            },
            "type": "bar"
           }
          ],
          "barpolar": [
           {
            "marker": {
             "line": {
              "color": "#E5ECF6",
              "width": 0.5
             },
             "pattern": {
              "fillmode": "overlay",
              "size": 10,
              "solidity": 0.2
             }
            },
            "type": "barpolar"
           }
          ],
          "carpet": [
           {
            "aaxis": {
             "endlinecolor": "#2a3f5f",
             "gridcolor": "white",
             "linecolor": "white",
             "minorgridcolor": "white",
             "startlinecolor": "#2a3f5f"
            },
            "baxis": {
             "endlinecolor": "#2a3f5f",
             "gridcolor": "white",
             "linecolor": "white",
             "minorgridcolor": "white",
             "startlinecolor": "#2a3f5f"
            },
            "type": "carpet"
           }
          ],
          "choropleth": [
           {
            "colorbar": {
             "outlinewidth": 0,
             "ticks": ""
            },
            "type": "choropleth"
           }
          ],
          "contour": [
           {
            "colorbar": {
             "outlinewidth": 0,
             "ticks": ""
            },
            "colorscale": [
             [
              0,
              "#0d0887"
             ],
             [
              0.1111111111111111,
              "#46039f"
             ],
             [
              0.2222222222222222,
              "#7201a8"
             ],
             [
              0.3333333333333333,
              "#9c179e"
             ],
             [
              0.4444444444444444,
              "#bd3786"
             ],
             [
              0.5555555555555556,
              "#d8576b"
             ],
             [
              0.6666666666666666,
              "#ed7953"
             ],
             [
              0.7777777777777778,
              "#fb9f3a"
             ],
             [
              0.8888888888888888,
              "#fdca26"
             ],
             [
              1,
              "#f0f921"
             ]
            ],
            "type": "contour"
           }
          ],
          "contourcarpet": [
           {
            "colorbar": {
             "outlinewidth": 0,
             "ticks": ""
            },
            "type": "contourcarpet"
           }
          ],
          "heatmap": [
           {
            "colorbar": {
             "outlinewidth": 0,
             "ticks": ""
            },
            "colorscale": [
             [
              0,
              "#0d0887"
             ],
             [
              0.1111111111111111,
              "#46039f"
             ],
             [
              0.2222222222222222,
              "#7201a8"
             ],
             [
              0.3333333333333333,
              "#9c179e"
             ],
             [
              0.4444444444444444,
              "#bd3786"
             ],
             [
              0.5555555555555556,
              "#d8576b"
             ],
             [
              0.6666666666666666,
              "#ed7953"
             ],
             [
              0.7777777777777778,
              "#fb9f3a"
             ],
             [
              0.8888888888888888,
              "#fdca26"
             ],
             [
              1,
              "#f0f921"
             ]
            ],
            "type": "heatmap"
           }
          ],
          "heatmapgl": [
           {
            "colorbar": {
             "outlinewidth": 0,
             "ticks": ""
            },
            "colorscale": [
             [
              0,
              "#0d0887"
             ],
             [
              0.1111111111111111,
              "#46039f"
             ],
             [
              0.2222222222222222,
              "#7201a8"
             ],
             [
              0.3333333333333333,
              "#9c179e"
             ],
             [
              0.4444444444444444,
              "#bd3786"
             ],
             [
              0.5555555555555556,
              "#d8576b"
             ],
             [
              0.6666666666666666,
              "#ed7953"
             ],
             [
              0.7777777777777778,
              "#fb9f3a"
             ],
             [
              0.8888888888888888,
              "#fdca26"
             ],
             [
              1,
              "#f0f921"
             ]
            ],
            "type": "heatmapgl"
           }
          ],
          "histogram": [
           {
            "marker": {
             "pattern": {
              "fillmode": "overlay",
              "size": 10,
              "solidity": 0.2
             }
            },
            "type": "histogram"
           }
          ],
          "histogram2d": [
           {
            "colorbar": {
             "outlinewidth": 0,
             "ticks": ""
            },
            "colorscale": [
             [
              0,
              "#0d0887"
             ],
             [
              0.1111111111111111,
              "#46039f"
             ],
             [
              0.2222222222222222,
              "#7201a8"
             ],
             [
              0.3333333333333333,
              "#9c179e"
             ],
             [
              0.4444444444444444,
              "#bd3786"
             ],
             [
              0.5555555555555556,
              "#d8576b"
             ],
             [
              0.6666666666666666,
              "#ed7953"
             ],
             [
              0.7777777777777778,
              "#fb9f3a"
             ],
             [
              0.8888888888888888,
              "#fdca26"
             ],
             [
              1,
              "#f0f921"
             ]
            ],
            "type": "histogram2d"
           }
          ],
          "histogram2dcontour": [
           {
            "colorbar": {
             "outlinewidth": 0,
             "ticks": ""
            },
            "colorscale": [
             [
              0,
              "#0d0887"
             ],
             [
              0.1111111111111111,
              "#46039f"
             ],
             [
              0.2222222222222222,
              "#7201a8"
             ],
             [
              0.3333333333333333,
              "#9c179e"
             ],
             [
              0.4444444444444444,
              "#bd3786"
             ],
             [
              0.5555555555555556,
              "#d8576b"
             ],
             [
              0.6666666666666666,
              "#ed7953"
             ],
             [
              0.7777777777777778,
              "#fb9f3a"
             ],
             [
              0.8888888888888888,
              "#fdca26"
             ],
             [
              1,
              "#f0f921"
             ]
            ],
            "type": "histogram2dcontour"
           }
          ],
          "mesh3d": [
           {
            "colorbar": {
             "outlinewidth": 0,
             "ticks": ""
            },
            "type": "mesh3d"
           }
          ],
          "parcoords": [
           {
            "line": {
             "colorbar": {
              "outlinewidth": 0,
              "ticks": ""
             }
            },
            "type": "parcoords"
           }
          ],
          "pie": [
           {
            "automargin": true,
            "type": "pie"
           }
          ],
          "scatter": [
           {
            "marker": {
             "colorbar": {
              "outlinewidth": 0,
              "ticks": ""
             }
            },
            "type": "scatter"
           }
          ],
          "scatter3d": [
           {
            "line": {
             "colorbar": {
              "outlinewidth": 0,
              "ticks": ""
             }
            },
            "marker": {
             "colorbar": {
              "outlinewidth": 0,
              "ticks": ""
             }
            },
            "type": "scatter3d"
           }
          ],
          "scattercarpet": [
           {
            "marker": {
             "colorbar": {
              "outlinewidth": 0,
              "ticks": ""
             }
            },
            "type": "scattercarpet"
           }
          ],
          "scattergeo": [
           {
            "marker": {
             "colorbar": {
              "outlinewidth": 0,
              "ticks": ""
             }
            },
            "type": "scattergeo"
           }
          ],
          "scattergl": [
           {
            "marker": {
             "colorbar": {
              "outlinewidth": 0,
              "ticks": ""
             }
            },
            "type": "scattergl"
           }
          ],
          "scattermapbox": [
           {
            "marker": {
             "colorbar": {
              "outlinewidth": 0,
              "ticks": ""
             }
            },
            "type": "scattermapbox"
           }
          ],
          "scatterpolar": [
           {
            "marker": {
             "colorbar": {
              "outlinewidth": 0,
              "ticks": ""
             }
            },
            "type": "scatterpolar"
           }
          ],
          "scatterpolargl": [
           {
            "marker": {
             "colorbar": {
              "outlinewidth": 0,
              "ticks": ""
             }
            },
            "type": "scatterpolargl"
           }
          ],
          "scatterternary": [
           {
            "marker": {
             "colorbar": {
              "outlinewidth": 0,
              "ticks": ""
             }
            },
            "type": "scatterternary"
           }
          ],
          "surface": [
           {
            "colorbar": {
             "outlinewidth": 0,
             "ticks": ""
            },
            "colorscale": [
             [
              0,
              "#0d0887"
             ],
             [
              0.1111111111111111,
              "#46039f"
             ],
             [
              0.2222222222222222,
              "#7201a8"
             ],
             [
              0.3333333333333333,
              "#9c179e"
             ],
             [
              0.4444444444444444,
              "#bd3786"
             ],
             [
              0.5555555555555556,
              "#d8576b"
             ],
             [
              0.6666666666666666,
              "#ed7953"
             ],
             [
              0.7777777777777778,
              "#fb9f3a"
             ],
             [
              0.8888888888888888,
              "#fdca26"
             ],
             [
              1,
              "#f0f921"
             ]
            ],
            "type": "surface"
           }
          ],
          "table": [
           {
            "cells": {
             "fill": {
              "color": "#EBF0F8"
             },
             "line": {
              "color": "white"
             }
            },
            "header": {
             "fill": {
              "color": "#C8D4E3"
             },
             "line": {
              "color": "white"
             }
            },
            "type": "table"
           }
          ]
         },
         "layout": {
          "annotationdefaults": {
           "arrowcolor": "#2a3f5f",
           "arrowhead": 0,
           "arrowwidth": 1
          },
          "autotypenumbers": "strict",
          "coloraxis": {
           "colorbar": {
            "outlinewidth": 0,
            "ticks": ""
           }
          },
          "colorscale": {
           "diverging": [
            [
             0,
             "#8e0152"
            ],
            [
             0.1,
             "#c51b7d"
            ],
            [
             0.2,
             "#de77ae"
            ],
            [
             0.3,
             "#f1b6da"
            ],
            [
             0.4,
             "#fde0ef"
            ],
            [
             0.5,
             "#f7f7f7"
            ],
            [
             0.6,
             "#e6f5d0"
            ],
            [
             0.7,
             "#b8e186"
            ],
            [
             0.8,
             "#7fbc41"
            ],
            [
             0.9,
             "#4d9221"
            ],
            [
             1,
             "#276419"
            ]
           ],
           "sequential": [
            [
             0,
             "#0d0887"
            ],
            [
             0.1111111111111111,
             "#46039f"
            ],
            [
             0.2222222222222222,
             "#7201a8"
            ],
            [
             0.3333333333333333,
             "#9c179e"
            ],
            [
             0.4444444444444444,
             "#bd3786"
            ],
            [
             0.5555555555555556,
             "#d8576b"
            ],
            [
             0.6666666666666666,
             "#ed7953"
            ],
            [
             0.7777777777777778,
             "#fb9f3a"
            ],
            [
             0.8888888888888888,
             "#fdca26"
            ],
            [
             1,
             "#f0f921"
            ]
           ],
           "sequentialminus": [
            [
             0,
             "#0d0887"
            ],
            [
             0.1111111111111111,
             "#46039f"
            ],
            [
             0.2222222222222222,
             "#7201a8"
            ],
            [
             0.3333333333333333,
             "#9c179e"
            ],
            [
             0.4444444444444444,
             "#bd3786"
            ],
            [
             0.5555555555555556,
             "#d8576b"
            ],
            [
             0.6666666666666666,
             "#ed7953"
            ],
            [
             0.7777777777777778,
             "#fb9f3a"
            ],
            [
             0.8888888888888888,
             "#fdca26"
            ],
            [
             1,
             "#f0f921"
            ]
           ]
          },
          "colorway": [
           "#636efa",
           "#EF553B",
           "#00cc96",
           "#ab63fa",
           "#FFA15A",
           "#19d3f3",
           "#FF6692",
           "#B6E880",
           "#FF97FF",
           "#FECB52"
          ],
          "font": {
           "color": "#2a3f5f"
          },
          "geo": {
           "bgcolor": "white",
           "lakecolor": "white",
           "landcolor": "#E5ECF6",
           "showlakes": true,
           "showland": true,
           "subunitcolor": "white"
          },
          "hoverlabel": {
           "align": "left"
          },
          "hovermode": "closest",
          "mapbox": {
           "style": "light"
          },
          "paper_bgcolor": "white",
          "plot_bgcolor": "#E5ECF6",
          "polar": {
           "angularaxis": {
            "gridcolor": "white",
            "linecolor": "white",
            "ticks": ""
           },
           "bgcolor": "#E5ECF6",
           "radialaxis": {
            "gridcolor": "white",
            "linecolor": "white",
            "ticks": ""
           }
          },
          "scene": {
           "xaxis": {
            "backgroundcolor": "#E5ECF6",
            "gridcolor": "white",
            "gridwidth": 2,
            "linecolor": "white",
            "showbackground": true,
            "ticks": "",
            "zerolinecolor": "white"
           },
           "yaxis": {
            "backgroundcolor": "#E5ECF6",
            "gridcolor": "white",
            "gridwidth": 2,
            "linecolor": "white",
            "showbackground": true,
            "ticks": "",
            "zerolinecolor": "white"
           },
           "zaxis": {
            "backgroundcolor": "#E5ECF6",
            "gridcolor": "white",
            "gridwidth": 2,
            "linecolor": "white",
            "showbackground": true,
            "ticks": "",
            "zerolinecolor": "white"
           }
          },
          "shapedefaults": {
           "line": {
            "color": "#2a3f5f"
           }
          },
          "ternary": {
           "aaxis": {
            "gridcolor": "white",
            "linecolor": "white",
            "ticks": ""
           },
           "baxis": {
            "gridcolor": "white",
            "linecolor": "white",
            "ticks": ""
           },
           "bgcolor": "#E5ECF6",
           "caxis": {
            "gridcolor": "white",
            "linecolor": "white",
            "ticks": ""
           }
          },
          "title": {
           "x": 0.05
          },
          "xaxis": {
           "automargin": true,
           "gridcolor": "white",
           "linecolor": "white",
           "ticks": "",
           "title": {
            "standoff": 15
           },
           "zerolinecolor": "white",
           "zerolinewidth": 2
          },
          "yaxis": {
           "automargin": true,
           "gridcolor": "white",
           "linecolor": "white",
           "ticks": "",
           "title": {
            "standoff": 15
           },
           "zerolinecolor": "white",
           "zerolinewidth": 2
          }
         }
        },
        "title": {
         "text": "Parallel Coordinate Plot"
        }
       }
      }
     },
     "metadata": {},
     "output_type": "display_data"
    }
   ],
   "source": [
    "optuna.visualization.plot_parallel_coordinate(study)"
   ]
  }
 ],
 "metadata": {
  "kernelspec": {
   "display_name": "Python 3.9.12 ('base')",
   "language": "python",
   "name": "python3"
  },
  "language_info": {
   "codemirror_mode": {
    "name": "ipython",
    "version": 3
   },
   "file_extension": ".py",
   "mimetype": "text/x-python",
   "name": "python",
   "nbconvert_exporter": "python",
   "pygments_lexer": "ipython3",
   "version": "3.9.12"
  },
  "orig_nbformat": 4,
  "vscode": {
   "interpreter": {
    "hash": "68756eb6c044f31c46e3e1f38723aea1f0146198488dd3d60c0e4241eb6f7dd0"
   }
  }
 },
 "nbformat": 4,
 "nbformat_minor": 2
}
