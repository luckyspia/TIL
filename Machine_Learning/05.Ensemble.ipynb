{
 "cells": [
  {
   "cell_type": "code",
   "execution_count": 1,
   "metadata": {},
   "outputs": [],
   "source": [
    "import pandas as pd\n",
    "import numpy as np\n",
    "import matplotlib.pyplot as plt\n",
    "import seaborn as sns\n",
    "%matplotlib inline"
   ]
  },
  {
   "cell_type": "code",
   "execution_count": 2,
   "metadata": {},
   "outputs": [
    {
     "data": {
      "text/html": [
       "<div>\n",
       "<style scoped>\n",
       "    .dataframe tbody tr th:only-of-type {\n",
       "        vertical-align: middle;\n",
       "    }\n",
       "\n",
       "    .dataframe tbody tr th {\n",
       "        vertical-align: top;\n",
       "    }\n",
       "\n",
       "    .dataframe thead th {\n",
       "        text-align: right;\n",
       "    }\n",
       "</style>\n",
       "<table border=\"1\" class=\"dataframe\">\n",
       "  <thead>\n",
       "    <tr style=\"text-align: right;\">\n",
       "      <th></th>\n",
       "      <th>CreditScore</th>\n",
       "      <th>Gender</th>\n",
       "      <th>Age</th>\n",
       "      <th>Tenure</th>\n",
       "      <th>Balance</th>\n",
       "      <th>NumOfProducts</th>\n",
       "      <th>HasCrCard</th>\n",
       "      <th>IsActiveMember</th>\n",
       "      <th>EstimatedSalary</th>\n",
       "      <th>Exited</th>\n",
       "    </tr>\n",
       "  </thead>\n",
       "  <tbody>\n",
       "    <tr>\n",
       "      <th>0</th>\n",
       "      <td>619</td>\n",
       "      <td>0</td>\n",
       "      <td>42</td>\n",
       "      <td>2</td>\n",
       "      <td>0.00</td>\n",
       "      <td>1</td>\n",
       "      <td>1</td>\n",
       "      <td>1</td>\n",
       "      <td>101348.88</td>\n",
       "      <td>1</td>\n",
       "    </tr>\n",
       "    <tr>\n",
       "      <th>1</th>\n",
       "      <td>608</td>\n",
       "      <td>0</td>\n",
       "      <td>41</td>\n",
       "      <td>1</td>\n",
       "      <td>83807.86</td>\n",
       "      <td>1</td>\n",
       "      <td>0</td>\n",
       "      <td>1</td>\n",
       "      <td>112542.58</td>\n",
       "      <td>0</td>\n",
       "    </tr>\n",
       "    <tr>\n",
       "      <th>2</th>\n",
       "      <td>502</td>\n",
       "      <td>0</td>\n",
       "      <td>42</td>\n",
       "      <td>8</td>\n",
       "      <td>159660.80</td>\n",
       "      <td>3</td>\n",
       "      <td>1</td>\n",
       "      <td>0</td>\n",
       "      <td>113931.57</td>\n",
       "      <td>1</td>\n",
       "    </tr>\n",
       "    <tr>\n",
       "      <th>3</th>\n",
       "      <td>699</td>\n",
       "      <td>0</td>\n",
       "      <td>39</td>\n",
       "      <td>1</td>\n",
       "      <td>0.00</td>\n",
       "      <td>2</td>\n",
       "      <td>0</td>\n",
       "      <td>0</td>\n",
       "      <td>93826.63</td>\n",
       "      <td>0</td>\n",
       "    </tr>\n",
       "    <tr>\n",
       "      <th>4</th>\n",
       "      <td>850</td>\n",
       "      <td>0</td>\n",
       "      <td>43</td>\n",
       "      <td>2</td>\n",
       "      <td>125510.82</td>\n",
       "      <td>1</td>\n",
       "      <td>1</td>\n",
       "      <td>1</td>\n",
       "      <td>79084.10</td>\n",
       "      <td>0</td>\n",
       "    </tr>\n",
       "  </tbody>\n",
       "</table>\n",
       "</div>"
      ],
      "text/plain": [
       "   CreditScore  Gender  Age  Tenure    Balance  NumOfProducts  HasCrCard  \\\n",
       "0          619       0   42       2       0.00              1          1   \n",
       "1          608       0   41       1   83807.86              1          0   \n",
       "2          502       0   42       8  159660.80              3          1   \n",
       "3          699       0   39       1       0.00              2          0   \n",
       "4          850       0   43       2  125510.82              1          1   \n",
       "\n",
       "   IsActiveMember  EstimatedSalary  Exited  \n",
       "0               1        101348.88       1  \n",
       "1               1        112542.58       0  \n",
       "2               0        113931.57       1  \n",
       "3               0         93826.63       0  \n",
       "4               1         79084.10       0  "
      ]
     },
     "execution_count": 2,
     "metadata": {},
     "output_type": "execute_result"
    }
   ],
   "source": [
    "churn = pd.read_csv('./data/churn.csv')\n",
    "churn.head()"
   ]
  },
  {
   "cell_type": "code",
   "execution_count": 3,
   "metadata": {},
   "outputs": [
    {
     "name": "stdout",
     "output_type": "stream",
     "text": [
      "<class 'pandas.core.frame.DataFrame'>\n",
      "RangeIndex: 10000 entries, 0 to 9999\n",
      "Data columns (total 10 columns):\n",
      " #   Column           Non-Null Count  Dtype  \n",
      "---  ------           --------------  -----  \n",
      " 0   CreditScore      10000 non-null  int64  \n",
      " 1   Gender           10000 non-null  int64  \n",
      " 2   Age              10000 non-null  int64  \n",
      " 3   Tenure           10000 non-null  int64  \n",
      " 4   Balance          10000 non-null  float64\n",
      " 5   NumOfProducts    10000 non-null  int64  \n",
      " 6   HasCrCard        10000 non-null  int64  \n",
      " 7   IsActiveMember   10000 non-null  int64  \n",
      " 8   EstimatedSalary  10000 non-null  float64\n",
      " 9   Exited           10000 non-null  int64  \n",
      "dtypes: float64(2), int64(8)\n",
      "memory usage: 781.4 KB\n"
     ]
    }
   ],
   "source": [
    "churn.info()"
   ]
  },
  {
   "cell_type": "code",
   "execution_count": 4,
   "metadata": {},
   "outputs": [
    {
     "data": {
      "text/plain": [
       "0    7963\n",
       "1    2037\n",
       "Name: Exited, dtype: int64"
      ]
     },
     "execution_count": 4,
     "metadata": {},
     "output_type": "execute_result"
    }
   ],
   "source": [
    "churn.Exited.value_counts() #목표변수에 대한 분포 확인"
   ]
  },
  {
   "cell_type": "code",
   "execution_count": 5,
   "metadata": {},
   "outputs": [],
   "source": [
    "np.random.seed(2022)\n",
    "target = churn.Exited\n",
    "churn = churn.drop(columns='Exited')"
   ]
  },
  {
   "cell_type": "markdown",
   "metadata": {},
   "source": [
    "### Voting"
   ]
  },
  {
   "cell_type": "code",
   "execution_count": 6,
   "metadata": {},
   "outputs": [
    {
     "data": {
      "text/plain": [
       "DecisionTreeClassifier()"
      ]
     },
     "execution_count": 6,
     "metadata": {},
     "output_type": "execute_result"
    }
   ],
   "source": [
    "from sklearn.model_selection import train_test_split\n",
    "from sklearn.linear_model import LogisticRegression\n",
    "from sklearn.neighbors import KNeighborsClassifier\n",
    "from sklearn.tree import DecisionTreeClassifier\n",
    "\n",
    "x_train, x_test, y_train, y_test = train_test_split(churn, target, test_size=0.3, stratify=target)\n",
    "# train, test set 을 나눌 때 target의 비율을 맞추는 옵션, stratify(층하추출)\n",
    "\n",
    "lr = LogisticRegression()\n",
    "knn = KNeighborsClassifier()\n",
    "dt = DecisionTreeClassifier()\n",
    "\n",
    "lr.fit(x_train, y_train)\n",
    "knn.fit(x_train, y_train)\n",
    "dt.fit(x_train, y_train)"
   ]
  },
  {
   "cell_type": "code",
   "execution_count": 7,
   "metadata": {},
   "outputs": [
    {
     "data": {
      "text/plain": [
       "CreditScore       -0.004947\n",
       "IsActiveMember    -0.001484\n",
       "Tenure            -0.001136\n",
       "Gender            -0.001008\n",
       "NumOfProducts     -0.000539\n",
       "HasCrCard         -0.000167\n",
       "EstimatedSalary   -0.000001\n",
       "Balance            0.000003\n",
       "Age                0.043028\n",
       "dtype: float64"
      ]
     },
     "execution_count": 7,
     "metadata": {},
     "output_type": "execute_result"
    }
   ],
   "source": [
    "lr.coef_ # 로지스틱의 계수추출\n",
    "pd.Series(lr.coef_[0], index=x_train.columns).sort_values() # 계수 추출 후 시리즈로 만듦\n",
    "# 데이터의 스케일을 맞추지 않았기 때문에, 그대로 받아들이기보단 방향성 정도만 파악하는 것이 좋음"
   ]
  },
  {
   "cell_type": "code",
   "execution_count": 8,
   "metadata": {},
   "outputs": [
    {
     "data": {
      "text/plain": [
       "HasCrCard          0.015338\n",
       "Gender             0.018054\n",
       "IsActiveMember     0.058785\n",
       "Tenure             0.080518\n",
       "NumOfProducts      0.110115\n",
       "Balance            0.141309\n",
       "CreditScore        0.159064\n",
       "EstimatedSalary    0.181505\n",
       "Age                0.235311\n",
       "dtype: float64"
      ]
     },
     "execution_count": 8,
     "metadata": {},
     "output_type": "execute_result"
    }
   ],
   "source": [
    "# 변수중요도 파악\n",
    "pd.Series(dt.feature_importances_, index=x_train.columns).sort_values()"
   ]
  },
  {
   "cell_type": "code",
   "execution_count": 9,
   "metadata": {},
   "outputs": [
    {
     "data": {
      "text/plain": [
       "array([0, 0, 0, ..., 0, 0, 0])"
      ]
     },
     "execution_count": 9,
     "metadata": {},
     "output_type": "execute_result"
    }
   ],
   "source": [
    "# Hard Voting \n",
    "# Scartch Code\n",
    "((lr.predict(x_test) + dt.predict(x_test) + knn.predict(x_test)) >= 2).astype('int') #2 이상이면 1, 아니면 0"
   ]
  },
  {
   "cell_type": "code",
   "execution_count": 10,
   "metadata": {},
   "outputs": [
    {
     "data": {
      "text/plain": [
       "array([0.32144481, 0.04380319, 0.03387368, ..., 0.61350975, 0.01859872,\n",
       "       0.02837519])"
      ]
     },
     "execution_count": 10,
     "metadata": {},
     "output_type": "execute_result"
    }
   ],
   "source": [
    "# Soft Voting \n",
    "# Scratch Code\n",
    "(lr.predict_proba(x_test)[:,1] + dt.predict_proba(x_test)[:,1] + knn.predict_proba(x_test)[:,1])/3 #1 일 때의 확률값"
   ]
  },
  {
   "cell_type": "code",
   "execution_count": 11,
   "metadata": {},
   "outputs": [
    {
     "data": {
      "text/plain": [
       "VotingClassifier(estimators=[('LR', LogisticRegression()),\n",
       "                             ('DT', DecisionTreeClassifier()),\n",
       "                             ('KNN', KNeighborsClassifier())],\n",
       "                 voting='soft')"
      ]
     },
     "execution_count": 11,
     "metadata": {},
     "output_type": "execute_result"
    }
   ],
   "source": [
    "from sklearn.ensemble import VotingClassifier\n",
    "models = [('LR',lr),\n",
    "         ('DT',dt),\n",
    "         ('KNN',knn)] #모델을 튜플형태로 리스트로 저장\n",
    "hard_vot = VotingClassifier(estimators=models, voting='hard')\n",
    "soft_vot = VotingClassifier(estimators=models, voting='soft')\n",
    "\n",
    "hard_vot.fit(x_train, y_train)\n",
    "soft_vot.fit(x_train, y_train)"
   ]
  },
  {
   "cell_type": "code",
   "execution_count": 12,
   "metadata": {},
   "outputs": [
    {
     "name": "stdout",
     "output_type": "stream",
     "text": [
      "LogisticRegression ROC-AUC SCORE: 0.6728\n",
      "DecisionTreeClassifier ROC-AUC SCORE: 0.6580\n",
      "KNeighborsClassifier ROC-AUC SCORE: 0.5323\n",
      "VotingClassifier ROC-AUC SCORE: 0.5379\n",
      "VotingClassifier ROC-AUC SCORE: 0.7011\n"
     ]
    }
   ],
   "source": [
    "# ROC_AUC score를 통한 성능 측정 \n",
    "# accuracy score 로는 balance가 맞지 않기 때문에 측정하기 쉽지 않음\n",
    "from sklearn.metrics import roc_auc_score\n",
    "\n",
    "my_models = [lr, dt, knn, hard_vot, soft_vot]\n",
    "for m in my_models:\n",
    "    try:\n",
    "        pred = m.predict_proba(x_test)[:,1]\n",
    "    except:\n",
    "        pred = m.predict(x_test)\n",
    "    name= m.__class__.__name__\n",
    "    score = roc_auc_score(y_test, pred)\n",
    "    print('{0} ROC-AUC SCORE: {1:.4f}'.format(name,score))\n",
    "# .4f = 소수점 4자리까지 출력\n",
    "# hard voting은 class를 결정하는 것이기 때문에 확률값이 나오지 않으므로 proba 불가능\n",
    "# try-except 를 통해서 오류가 발생할 경우, predict 진행하도록 코딩"
   ]
  },
  {
   "cell_type": "markdown",
   "metadata": {},
   "source": [
    "### Random Forest"
   ]
  },
  {
   "cell_type": "code",
   "execution_count": 13,
   "metadata": {},
   "outputs": [],
   "source": [
    "# 트리기반 앙상블 모델 'Random Forest'\n",
    "# 랜덤포레스트는 bagging의 한 기법, 데이터의 일부 변수를 선택해 모델을 여러개 만들어나가는 기법\n",
    "# bagging 이란 데이터set의 일부를 샘플링해서 여러 개 set을 만들어나가는 기법\n",
    "from sklearn.ensemble import RandomForestClassifier\n",
    "\n",
    "rf = RandomForestClassifier(n_estimators=100, max_depth=10)"
   ]
  },
  {
   "cell_type": "code",
   "execution_count": 14,
   "metadata": {},
   "outputs": [
    {
     "data": {
      "text/plain": [
       "RandomForestClassifier(max_depth=10)"
      ]
     },
     "execution_count": 14,
     "metadata": {},
     "output_type": "execute_result"
    }
   ],
   "source": [
    "rf.fit(x_train, y_train)"
   ]
  },
  {
   "cell_type": "code",
   "execution_count": 15,
   "metadata": {},
   "outputs": [
    {
     "name": "stdout",
     "output_type": "stream",
     "text": [
      "LogisticRegression ROC-AUC SCORE: 0.6728\n",
      "DecisionTreeClassifier ROC-AUC SCORE: 0.6580\n",
      "VotingClassifier ROC-AUC SCORE: 0.7011\n",
      "RandomForestClassifier ROC-AUC SCORE: 0.8532\n",
      "VotingClassifier ROC-AUC SCORE: 0.8086\n"
     ]
    }
   ],
   "source": [
    "models = [('LR',lr),\n",
    "         ('DT',dt),\n",
    "         ('RF',rf)] #모델을 튜플형태로 리스트로 저장\n",
    "         \n",
    "soft_vot_sum = VotingClassifier(estimators=models, voting='soft')\n",
    "soft_vot_sum.fit(x_train, y_train)\n",
    "\n",
    "my_models = [lr, dt, soft_vot, rf, soft_vot_sum]\n",
    "for m in my_models:\n",
    "    pred = m.predict_proba(x_test)[:,1]\n",
    "    name= m.__class__.__name__\n",
    "    score = roc_auc_score(y_test, pred)\n",
    "    print('{0} ROC-AUC SCORE: {1:.4f}'.format(name,score))\n",
    "# knn 성능이 너무 안좋으므로 빼면, 성능이 더 오름"
   ]
  },
  {
   "cell_type": "code",
   "execution_count": 16,
   "metadata": {},
   "outputs": [
    {
     "data": {
      "text/plain": [
       "<matplotlib.axes._subplots.AxesSubplot at 0x22134cb08e0>"
      ]
     },
     "execution_count": 16,
     "metadata": {},
     "output_type": "execute_result"
    },
    {
     "data": {
      "image/png": "[encoded data removed]",
      "text/plain": [
       "<Figure size 432x288 with 1 Axes>"
      ]
     },
     "metadata": {
      "needs_background": "light"
     },
     "output_type": "display_data"
    }
   ],
   "source": [
    "#RandomForest가 설명력은 낮지만, Feature importance는 뽑을 수 있음\n",
    "sns.barplot(x=rf.feature_importances_, y=x_train.columns)"
   ]
  },
  {
   "cell_type": "code",
   "execution_count": 17,
   "metadata": {},
   "outputs": [
    {
     "data": {
      "image/png": "[encoded data removed]",
      "text/plain": [
       "<Figure size 1296x432 with 2 Axes>"
      ]
     },
     "metadata": {
      "needs_background": "light"
     },
     "output_type": "display_data"
    }
   ],
   "source": [
    "# Decision Tree, RandomForest 의 Feature Importance\n",
    "fig, ax = plt.subplots(ncols=2, figsize=(18,6));\n",
    "sns.barplot(x=dt.feature_importances_, y=x_train.columns, ax=ax[0]);\n",
    "sns.barplot(x=rf.feature_importances_, y=x_train.columns, ax=ax[1]);"
   ]
  },
  {
   "cell_type": "markdown",
   "metadata": {},
   "source": [
    "### 아다부스팅(AdaBoosting)\n",
    "- 데이터에서 하나의 모델을 만든 뒤, 못 맞춘 부분에 가중치를 둬서, 맞춘 부분과 함께 두 번째 모델을 만들고, 과정의 반복\n",
    "- 부스팅을 할 베이스 모델을 지정해줘야함 (base_estimator), prodict_proba를 제공하는 모델만 가능하며 Tree계열이 높은 성능을 보임\n",
    "- 랜덤포레스트를 사용할 경우 Overfitting 발생, 간단한 모델을 제공하는 것이 좋음\n",
    "- 모형의 갯수를 많이 쓰면 복잡한 모형이 만들어져서 Over-fitting이 발생할 확률이 높아서 조절해줘야함, 보통 50개 정도\n",
    "- 학습률(learning_rate)이 크면 클수록 전혀 다른 모델을 만들려고 함 -> 못 맞춘 부분에만 집중해서 전혀 다른 모델을 만들려고 함, 학습률이 높을수록 복잡한 모델이 만들어짐\n",
    "- 학습률과 n_estimator의 갯수는 trade-off하게 설정해야함\n",
    "\n",
    "### 그래디언트부스팅(GBM)\n",
    "- 모델을 점점 더 복잡하게 만들면서, 과적합을 만들어서, 점점 fitting 되게 기울기(오차를 계산하는 식)를 낮춰가는 방식\n",
    "- 경사하강법에서 사용할 loss function을 지정해줘야함\n",
    "- 분류문제에선 friedman_mes, 추정문제에선 mae나 mse 사용"
   ]
  },
  {
   "cell_type": "code",
   "execution_count": 18,
   "metadata": {},
   "outputs": [
    {
     "data": {
      "text/plain": [
       "AdaBoostClassifier(base_estimator=DecisionTreeClassifier(), learning_rate=0.3)"
      ]
     },
     "execution_count": 18,
     "metadata": {},
     "output_type": "execute_result"
    }
   ],
   "source": [
    "from sklearn.ensemble import AdaBoostClassifier\n",
    "\n",
    "ada = AdaBoostClassifier(base_estimator = dt, learning_rate=0.3) #fitting한 모델을 주며, dt가 보통 좋다고 알려져 있음\n",
    "ada.fit(x_train, y_train)"
   ]
  },
  {
   "cell_type": "code",
   "execution_count": 19,
   "metadata": {},
   "outputs": [
    {
     "name": "stdout",
     "output_type": "stream",
     "text": [
      "LogisticRegression ROC-AUC SCORE: 0.6728\n",
      "DecisionTreeClassifier ROC-AUC SCORE: 0.6580\n",
      "VotingClassifier ROC-AUC SCORE: 0.7011\n",
      "RandomForestClassifier ROC-AUC SCORE: 0.8532\n",
      "VotingClassifier ROC-AUC SCORE: 0.8043\n",
      "AdaBoostClassifier ROC-AUC SCORE: 0.6491\n"
     ]
    }
   ],
   "source": [
    "models = [('LR',lr),\n",
    "         ('DT',dt),\n",
    "         ('RF',rf),\n",
    "         ('ADA',ada)] #모델을 튜플형태로 리스트로 저장\n",
    "soft_vot_sum = VotingClassifier(estimators=models, voting='soft')\n",
    "soft_vot_sum.fit(x_train, y_train)\n",
    "my_models = [lr, dt, soft_vot, rf, soft_vot_sum,ada]\n",
    "for m in my_models:\n",
    "    pred = m.predict_proba(x_test)[:,1]\n",
    "    name= m.__class__.__name__\n",
    "    score = roc_auc_score(y_test, pred)\n",
    "    print('{0} ROC-AUC SCORE: {1:.4f}'.format(name,score))"
   ]
  },
  {
   "cell_type": "code",
   "execution_count": 20,
   "metadata": {},
   "outputs": [
    {
     "name": "stdout",
     "output_type": "stream",
     "text": [
      "LogisticRegression ROC-AUC SCORE: 0.6728\n",
      "DecisionTreeClassifier ROC-AUC SCORE: 0.6580\n",
      "VotingClassifier ROC-AUC SCORE: 0.7011\n",
      "RandomForestClassifier ROC-AUC SCORE: 0.8532\n",
      "VotingClassifier ROC-AUC SCORE: 0.8605\n",
      "AdaBoostClassifier ROC-AUC SCORE: 0.6491\n",
      "GradientBoostingClassifier ROC-AUC SCORE: 0.8605\n"
     ]
    }
   ],
   "source": [
    "from sklearn.ensemble import GradientBoostingClassifier\n",
    "gbm = GradientBoostingClassifier()\n",
    "gbm.fit(x_train,y_train)\n",
    "\n",
    "models = [('RF',rf),\n",
    "         ('GBM',gbm)] #모델을 튜플형태로 리스트로 저장\n",
    "soft_vot_sum = VotingClassifier(estimators=models, voting='soft')\n",
    "soft_vot_sum.fit(x_train, y_train)\n",
    "my_models = [lr, dt, soft_vot, rf, soft_vot_sum,ada,gbm]\n",
    "for m in my_models:\n",
    "    pred = m.predict_proba(x_test)[:,1]\n",
    "    name= m.__class__.__name__\n",
    "    score = roc_auc_score(y_test, pred)\n",
    "    print('{0} ROC-AUC SCORE: {1:.4f}'.format(name,score))"
   ]
  },
  {
   "cell_type": "markdown",
   "metadata": {},
   "source": [
    "### XGBoost, LGBM"
   ]
  },
  {
   "cell_type": "code",
   "execution_count": null,
   "metadata": {},
   "outputs": [],
   "source": [
    "import xgboost as XGB\n",
    "from xgboost import XGBClassifier\n",
    "\n",
    "xgb = XGBClassifier(n_estimators=300, objective='binary:logistic',\n",
    "                   learning_rate=0.1, max_depth=8)\n",
    "evals = [(x_test, y_test)] #list 안에 tuble 형태로 성능평가로 사용"
   ]
  },
  {
   "cell_type": "code",
   "execution_count": null,
   "metadata": {},
   "outputs": [
    {
     "name": "stdout",
     "output_type": "stream",
     "text": [
      "[0]\tvalidation_0-auc:0.83369\n",
      "[1]\tvalidation_0-auc:0.83441\n",
      "[2]\tvalidation_0-auc:0.83526\n",
      "[3]\tvalidation_0-auc:0.83717\n",
      "[4]\tvalidation_0-auc:0.83846\n",
      "[5]\tvalidation_0-auc:0.83923\n",
      "[6]\tvalidation_0-auc:0.84149\n",
      "[7]\tvalidation_0-auc:0.84246\n",
      "[8]\tvalidation_0-auc:0.84112\n",
      "[9]\tvalidation_0-auc:0.84118\n",
      "[10]\tvalidation_0-auc:0.84144\n",
      "[11]\tvalidation_0-auc:0.84134\n",
      "[12]\tvalidation_0-auc:0.84182\n",
      "[13]\tvalidation_0-auc:0.84146\n",
      "[14]\tvalidation_0-auc:0.84309\n",
      "[15]\tvalidation_0-auc:0.84315\n",
      "[16]\tvalidation_0-auc:0.84432\n",
      "[17]\tvalidation_0-auc:0.84428\n",
      "[18]\tvalidation_0-auc:0.84458\n",
      "[19]\tvalidation_0-auc:0.84439\n",
      "[20]\tvalidation_0-auc:0.84430\n",
      "[21]\tvalidation_0-auc:0.84414\n",
      "[22]\tvalidation_0-auc:0.84453\n",
      "[23]\tvalidation_0-auc:0.84458\n",
      "[24]\tvalidation_0-auc:0.84371\n",
      "[25]\tvalidation_0-auc:0.84401\n",
      "[26]\tvalidation_0-auc:0.84405\n",
      "[27]\tvalidation_0-auc:0.84402\n",
      "[28]\tvalidation_0-auc:0.84453\n",
      "[29]\tvalidation_0-auc:0.84480\n",
      "[30]\tvalidation_0-auc:0.84444\n",
      "[31]\tvalidation_0-auc:0.84413\n",
      "[32]\tvalidation_0-auc:0.84393\n",
      "[33]\tvalidation_0-auc:0.84423\n",
      "[34]\tvalidation_0-auc:0.84362\n",
      "[35]\tvalidation_0-auc:0.84422\n",
      "[36]\tvalidation_0-auc:0.84467\n",
      "[37]\tvalidation_0-auc:0.84519\n",
      "[38]\tvalidation_0-auc:0.84533\n",
      "[39]\tvalidation_0-auc:0.84555\n",
      "[40]\tvalidation_0-auc:0.84608\n",
      "[41]\tvalidation_0-auc:0.84640\n",
      "[42]\tvalidation_0-auc:0.84651\n",
      "[43]\tvalidation_0-auc:0.84656\n",
      "[44]\tvalidation_0-auc:0.84676\n",
      "[45]\tvalidation_0-auc:0.84669\n",
      "[46]\tvalidation_0-auc:0.84699\n",
      "[47]\tvalidation_0-auc:0.84686\n",
      "[48]\tvalidation_0-auc:0.84686\n",
      "[49]\tvalidation_0-auc:0.84679\n",
      "[50]\tvalidation_0-auc:0.84652\n",
      "[51]\tvalidation_0-auc:0.84664\n",
      "[52]\tvalidation_0-auc:0.84660\n",
      "[53]\tvalidation_0-auc:0.84617\n",
      "[54]\tvalidation_0-auc:0.84586\n",
      "[55]\tvalidation_0-auc:0.84535\n",
      "[56]\tvalidation_0-auc:0.84540\n",
      "[57]\tvalidation_0-auc:0.84523\n",
      "[58]\tvalidation_0-auc:0.84529\n",
      "[59]\tvalidation_0-auc:0.84547\n",
      "[60]\tvalidation_0-auc:0.84541\n",
      "[61]\tvalidation_0-auc:0.84513\n",
      "[62]\tvalidation_0-auc:0.84509\n",
      "[63]\tvalidation_0-auc:0.84501\n",
      "[64]\tvalidation_0-auc:0.84492\n",
      "[65]\tvalidation_0-auc:0.84469\n",
      "[66]\tvalidation_0-auc:0.84442\n",
      "[67]\tvalidation_0-auc:0.84435\n",
      "[68]\tvalidation_0-auc:0.84403\n",
      "[69]\tvalidation_0-auc:0.84408\n",
      "[70]\tvalidation_0-auc:0.84386\n",
      "[71]\tvalidation_0-auc:0.84382\n",
      "[72]\tvalidation_0-auc:0.84383\n",
      "[73]\tvalidation_0-auc:0.84391\n",
      "[74]\tvalidation_0-auc:0.84395\n",
      "[75]\tvalidation_0-auc:0.84405\n",
      "[76]\tvalidation_0-auc:0.84411\n",
      "[77]\tvalidation_0-auc:0.84409\n",
      "[78]\tvalidation_0-auc:0.84418\n",
      "[79]\tvalidation_0-auc:0.84429\n",
      "[80]\tvalidation_0-auc:0.84432\n",
      "[81]\tvalidation_0-auc:0.84435\n",
      "[82]\tvalidation_0-auc:0.84433\n",
      "[83]\tvalidation_0-auc:0.84410\n",
      "[84]\tvalidation_0-auc:0.84421\n",
      "[85]\tvalidation_0-auc:0.84425\n",
      "[86]\tvalidation_0-auc:0.84402\n",
      "[87]\tvalidation_0-auc:0.84400\n",
      "[88]\tvalidation_0-auc:0.84351\n",
      "[89]\tvalidation_0-auc:0.84357\n",
      "[90]\tvalidation_0-auc:0.84361\n",
      "[91]\tvalidation_0-auc:0.84349\n",
      "[92]\tvalidation_0-auc:0.84331\n",
      "[93]\tvalidation_0-auc:0.84334\n",
      "[94]\tvalidation_0-auc:0.84342\n",
      "[95]\tvalidation_0-auc:0.84297\n",
      "[96]\tvalidation_0-auc:0.84297\n",
      "[97]\tvalidation_0-auc:0.84285\n",
      "[98]\tvalidation_0-auc:0.84269\n",
      "[99]\tvalidation_0-auc:0.84245\n",
      "[100]\tvalidation_0-auc:0.84232\n",
      "[101]\tvalidation_0-auc:0.84233\n",
      "[102]\tvalidation_0-auc:0.84227\n",
      "[103]\tvalidation_0-auc:0.84214\n",
      "[104]\tvalidation_0-auc:0.84214\n",
      "[105]\tvalidation_0-auc:0.84257\n",
      "[106]\tvalidation_0-auc:0.84259\n",
      "[107]\tvalidation_0-auc:0.84249\n",
      "[108]\tvalidation_0-auc:0.84216\n",
      "[109]\tvalidation_0-auc:0.84200\n",
      "[110]\tvalidation_0-auc:0.84178\n",
      "[111]\tvalidation_0-auc:0.84177\n",
      "[112]\tvalidation_0-auc:0.84165\n",
      "[113]\tvalidation_0-auc:0.84153\n",
      "[114]\tvalidation_0-auc:0.84152\n",
      "[115]\tvalidation_0-auc:0.84147\n",
      "[116]\tvalidation_0-auc:0.84116\n",
      "[117]\tvalidation_0-auc:0.84125\n",
      "[118]\tvalidation_0-auc:0.84089\n",
      "[119]\tvalidation_0-auc:0.84063\n",
      "[120]\tvalidation_0-auc:0.84027\n",
      "[121]\tvalidation_0-auc:0.84015\n",
      "[122]\tvalidation_0-auc:0.84016\n",
      "[123]\tvalidation_0-auc:0.84016\n",
      "[124]\tvalidation_0-auc:0.84000\n",
      "[125]\tvalidation_0-auc:0.83977\n",
      "[126]\tvalidation_0-auc:0.83960\n",
      "[127]\tvalidation_0-auc:0.83956\n",
      "[128]\tvalidation_0-auc:0.83955\n",
      "[129]\tvalidation_0-auc:0.83967\n",
      "[130]\tvalidation_0-auc:0.83918\n",
      "[131]\tvalidation_0-auc:0.83913\n",
      "[132]\tvalidation_0-auc:0.83891\n",
      "[133]\tvalidation_0-auc:0.83894\n",
      "[134]\tvalidation_0-auc:0.83875\n",
      "[135]\tvalidation_0-auc:0.83894\n",
      "[136]\tvalidation_0-auc:0.83868\n",
      "[137]\tvalidation_0-auc:0.83826\n",
      "[138]\tvalidation_0-auc:0.83832\n",
      "[139]\tvalidation_0-auc:0.83836\n",
      "[140]\tvalidation_0-auc:0.83836\n",
      "[141]\tvalidation_0-auc:0.83826\n",
      "[142]\tvalidation_0-auc:0.83838\n",
      "[143]\tvalidation_0-auc:0.83837\n",
      "[144]\tvalidation_0-auc:0.83839\n",
      "[145]\tvalidation_0-auc:0.83833\n",
      "[146]\tvalidation_0-auc:0.83821\n"
     ]
    },
    {
     "data": {
      "text/plain": [
       "XGBClassifier(base_score=0.5, booster='gbtree', callbacks=None,\n",
       "              colsample_bylevel=1, colsample_bynode=1, colsample_bytree=1,\n",
       "              early_stopping_rounds=None, enable_categorical=False,\n",
       "              eval_metric=None, gamma=0, gpu_id=-1, grow_policy='depthwise',\n",
       "              importance_type=None, interaction_constraints='',\n",
       "              learning_rate=0.1, max_bin=256, max_cat_to_onehot=4,\n",
       "              max_delta_step=0, max_depth=8, max_leaves=0, min_child_weight=1,\n",
       "              missing=nan, monotone_constraints='()', n_estimators=300,\n",
       "              n_jobs=0, num_parallel_tree=1, predictor='auto', random_state=0,\n",
       "              reg_alpha=0, reg_lambda=1, ...)"
      ]
     },
     "metadata": {},
     "output_type": "display_data"
    }
   ],
   "source": [
    "# 100 실행 후 개선 되지 않았으면 stop, 개선되면 진행\n",
    "# Verbose -> 모델을 피팅하면서 결과들을 추출\n",
    "xgb.fit(x_train, y_train, eval_metric='auc', eval_set=evals, early_stopping_rounds=100, verbose=True) "
   ]
  },
  {
   "cell_type": "code",
   "execution_count": null,
   "metadata": {},
   "outputs": [
    {
     "data": {
      "text/plain": [
       "0.8469882761894909"
      ]
     },
     "metadata": {},
     "output_type": "display_data"
    }
   ],
   "source": [
    "from sklearn.metrics import roc_auc_score\n",
    "\n",
    "pred = xgb.predict_proba(x_test)[:,1]\n",
    "roc_auc_score(y_test, pred)"
   ]
  },
  {
   "cell_type": "code",
   "execution_count": null,
   "metadata": {},
   "outputs": [
    {
     "data": {
      "image/png": "[encoded data removed]",
      "text/plain": [
       "<Figure size 720x864 with 1 Axes>"
      ]
     },
     "metadata": {},
     "output_type": "display_data"
    }
   ],
   "source": [
    "from xgboost import plot_importance\n",
    "\n",
    "fig, ax = plt.subplots(figsize=(10,12))\n",
    "plot_importance(xgb, ax=ax);"
   ]
  },
  {
   "cell_type": "code",
   "execution_count": null,
   "metadata": {},
   "outputs": [
    {
     "name": "stdout",
     "output_type": "stream",
     "text": [
      "[1]\tvalid_0's auc: 0.83859\tvalid_0's binary_logloss: 0.474169\n",
      "[2]\tvalid_0's auc: 0.844464\tvalid_0's binary_logloss: 0.451983\n",
      "[3]\tvalid_0's auc: 0.848001\tvalid_0's binary_logloss: 0.434838\n",
      "[4]\tvalid_0's auc: 0.849073\tvalid_0's binary_logloss: 0.421429\n",
      "[5]\tvalid_0's auc: 0.848033\tvalid_0's binary_logloss: 0.410564\n",
      "[6]\tvalid_0's auc: 0.849317\tvalid_0's binary_logloss: 0.401329\n",
      "[7]\tvalid_0's auc: 0.849667\tvalid_0's binary_logloss: 0.39361\n",
      "[8]\tvalid_0's auc: 0.848862\tvalid_0's binary_logloss: 0.387315\n",
      "[9]\tvalid_0's auc: 0.84925\tvalid_0's binary_logloss: 0.381697\n",
      "[10]\tvalid_0's auc: 0.849524\tvalid_0's binary_logloss: 0.376973\n",
      "[11]\tvalid_0's auc: 0.85017\tvalid_0's binary_logloss: 0.37277\n",
      "[12]\tvalid_0's auc: 0.8514\tvalid_0's binary_logloss: 0.369044\n",
      "[13]\tvalid_0's auc: 0.851538\tvalid_0's binary_logloss: 0.366123\n",
      "[14]\tvalid_0's auc: 0.851481\tvalid_0's binary_logloss: 0.363839\n",
      "[15]\tvalid_0's auc: 0.851674\tvalid_0's binary_logloss: 0.361461\n",
      "[16]\tvalid_0's auc: 0.852343\tvalid_0's binary_logloss: 0.359361\n",
      "[17]\tvalid_0's auc: 0.85247\tvalid_0's binary_logloss: 0.357801\n",
      "[18]\tvalid_0's auc: 0.852063\tvalid_0's binary_logloss: 0.356608\n",
      "[19]\tvalid_0's auc: 0.852583\tvalid_0's binary_logloss: 0.354933\n",
      "[20]\tvalid_0's auc: 0.853453\tvalid_0's binary_logloss: 0.353898\n",
      "[21]\tvalid_0's auc: 0.853459\tvalid_0's binary_logloss: 0.352862\n",
      "[22]\tvalid_0's auc: 0.853684\tvalid_0's binary_logloss: 0.352251\n",
      "[23]\tvalid_0's auc: 0.853578\tvalid_0's binary_logloss: 0.351854\n",
      "[24]\tvalid_0's auc: 0.853909\tvalid_0's binary_logloss: 0.351417\n",
      "[25]\tvalid_0's auc: 0.85362\tvalid_0's binary_logloss: 0.351241\n",
      "[26]\tvalid_0's auc: 0.853704\tvalid_0's binary_logloss: 0.350669\n",
      "[27]\tvalid_0's auc: 0.853781\tvalid_0's binary_logloss: 0.350104\n",
      "[28]\tvalid_0's auc: 0.853889\tvalid_0's binary_logloss: 0.349863\n",
      "[29]\tvalid_0's auc: 0.853801\tvalid_0's binary_logloss: 0.349393\n",
      "[30]\tvalid_0's auc: 0.853284\tvalid_0's binary_logloss: 0.349124\n",
      "[31]\tvalid_0's auc: 0.853912\tvalid_0's binary_logloss: 0.34835\n",
      "[32]\tvalid_0's auc: 0.854067\tvalid_0's binary_logloss: 0.347941\n",
      "[33]\tvalid_0's auc: 0.854342\tvalid_0's binary_logloss: 0.347464\n",
      "[34]\tvalid_0's auc: 0.854069\tvalid_0's binary_logloss: 0.347359\n",
      "[35]\tvalid_0's auc: 0.854193\tvalid_0's binary_logloss: 0.34723\n",
      "[36]\tvalid_0's auc: 0.854075\tvalid_0's binary_logloss: 0.347148\n",
      "[37]\tvalid_0's auc: 0.853835\tvalid_0's binary_logloss: 0.347043\n",
      "[38]\tvalid_0's auc: 0.853244\tvalid_0's binary_logloss: 0.347489\n",
      "[39]\tvalid_0's auc: 0.852943\tvalid_0's binary_logloss: 0.347478\n",
      "[40]\tvalid_0's auc: 0.852202\tvalid_0's binary_logloss: 0.347844\n",
      "[41]\tvalid_0's auc: 0.852279\tvalid_0's binary_logloss: 0.347833\n",
      "[42]\tvalid_0's auc: 0.85172\tvalid_0's binary_logloss: 0.348189\n",
      "[43]\tvalid_0's auc: 0.851604\tvalid_0's binary_logloss: 0.348264\n",
      "[44]\tvalid_0's auc: 0.851381\tvalid_0's binary_logloss: 0.348452\n",
      "[45]\tvalid_0's auc: 0.850882\tvalid_0's binary_logloss: 0.348971\n",
      "[46]\tvalid_0's auc: 0.850968\tvalid_0's binary_logloss: 0.348816\n",
      "[47]\tvalid_0's auc: 0.850862\tvalid_0's binary_logloss: 0.348742\n",
      "[48]\tvalid_0's auc: 0.850396\tvalid_0's binary_logloss: 0.349118\n",
      "[49]\tvalid_0's auc: 0.850255\tvalid_0's binary_logloss: 0.349284\n",
      "[50]\tvalid_0's auc: 0.850668\tvalid_0's binary_logloss: 0.348937\n",
      "[51]\tvalid_0's auc: 0.851038\tvalid_0's binary_logloss: 0.348621\n",
      "[52]\tvalid_0's auc: 0.85113\tvalid_0's binary_logloss: 0.348644\n",
      "[53]\tvalid_0's auc: 0.851089\tvalid_0's binary_logloss: 0.348682\n",
      "[54]\tvalid_0's auc: 0.850652\tvalid_0's binary_logloss: 0.349217\n",
      "[55]\tvalid_0's auc: 0.850019\tvalid_0's binary_logloss: 0.349751\n",
      "[56]\tvalid_0's auc: 0.85049\tvalid_0's binary_logloss: 0.349346\n",
      "[57]\tvalid_0's auc: 0.850202\tvalid_0's binary_logloss: 0.349558\n",
      "[58]\tvalid_0's auc: 0.850393\tvalid_0's binary_logloss: 0.349378\n",
      "[59]\tvalid_0's auc: 0.850265\tvalid_0's binary_logloss: 0.349676\n",
      "[60]\tvalid_0's auc: 0.849932\tvalid_0's binary_logloss: 0.349936\n",
      "[61]\tvalid_0's auc: 0.849604\tvalid_0's binary_logloss: 0.350368\n",
      "[62]\tvalid_0's auc: 0.849625\tvalid_0's binary_logloss: 0.350451\n",
      "[63]\tvalid_0's auc: 0.8497\tvalid_0's binary_logloss: 0.350579\n",
      "[64]\tvalid_0's auc: 0.849209\tvalid_0's binary_logloss: 0.350873\n",
      "[65]\tvalid_0's auc: 0.849001\tvalid_0's binary_logloss: 0.351009\n",
      "[66]\tvalid_0's auc: 0.848794\tvalid_0's binary_logloss: 0.35122\n",
      "[67]\tvalid_0's auc: 0.848602\tvalid_0's binary_logloss: 0.351447\n",
      "[68]\tvalid_0's auc: 0.847808\tvalid_0's binary_logloss: 0.352247\n",
      "[69]\tvalid_0's auc: 0.847708\tvalid_0's binary_logloss: 0.352418\n",
      "[70]\tvalid_0's auc: 0.847784\tvalid_0's binary_logloss: 0.352342\n",
      "[71]\tvalid_0's auc: 0.847233\tvalid_0's binary_logloss: 0.352991\n",
      "[72]\tvalid_0's auc: 0.847188\tvalid_0's binary_logloss: 0.353112\n",
      "[73]\tvalid_0's auc: 0.847362\tvalid_0's binary_logloss: 0.35301\n",
      "[74]\tvalid_0's auc: 0.847441\tvalid_0's binary_logloss: 0.352967\n",
      "[75]\tvalid_0's auc: 0.847217\tvalid_0's binary_logloss: 0.3532\n",
      "[76]\tvalid_0's auc: 0.847126\tvalid_0's binary_logloss: 0.353433\n",
      "[77]\tvalid_0's auc: 0.847108\tvalid_0's binary_logloss: 0.353565\n",
      "[78]\tvalid_0's auc: 0.846758\tvalid_0's binary_logloss: 0.35407\n",
      "[79]\tvalid_0's auc: 0.846745\tvalid_0's binary_logloss: 0.354115\n",
      "[80]\tvalid_0's auc: 0.846802\tvalid_0's binary_logloss: 0.354157\n",
      "[81]\tvalid_0's auc: 0.846691\tvalid_0's binary_logloss: 0.354256\n",
      "[82]\tvalid_0's auc: 0.846403\tvalid_0's binary_logloss: 0.354593\n",
      "[83]\tvalid_0's auc: 0.846615\tvalid_0's binary_logloss: 0.354513\n",
      "[84]\tvalid_0's auc: 0.846494\tvalid_0's binary_logloss: 0.354677\n",
      "[85]\tvalid_0's auc: 0.846481\tvalid_0's binary_logloss: 0.354779\n",
      "[86]\tvalid_0's auc: 0.846369\tvalid_0's binary_logloss: 0.354884\n",
      "[87]\tvalid_0's auc: 0.846126\tvalid_0's binary_logloss: 0.355258\n",
      "[88]\tvalid_0's auc: 0.846125\tvalid_0's binary_logloss: 0.355492\n",
      "[89]\tvalid_0's auc: 0.845776\tvalid_0's binary_logloss: 0.356027\n",
      "[90]\tvalid_0's auc: 0.845672\tvalid_0's binary_logloss: 0.356242\n",
      "[91]\tvalid_0's auc: 0.845611\tvalid_0's binary_logloss: 0.356352\n",
      "[92]\tvalid_0's auc: 0.84492\tvalid_0's binary_logloss: 0.357113\n",
      "[93]\tvalid_0's auc: 0.844865\tvalid_0's binary_logloss: 0.357355\n",
      "[94]\tvalid_0's auc: 0.845044\tvalid_0's binary_logloss: 0.357389\n",
      "[95]\tvalid_0's auc: 0.844774\tvalid_0's binary_logloss: 0.35765\n",
      "[96]\tvalid_0's auc: 0.844836\tvalid_0's binary_logloss: 0.357689\n",
      "[97]\tvalid_0's auc: 0.844691\tvalid_0's binary_logloss: 0.357902\n",
      "[98]\tvalid_0's auc: 0.844642\tvalid_0's binary_logloss: 0.357968\n",
      "[99]\tvalid_0's auc: 0.844863\tvalid_0's binary_logloss: 0.357837\n",
      "[100]\tvalid_0's auc: 0.844912\tvalid_0's binary_logloss: 0.357871\n",
      "[101]\tvalid_0's auc: 0.844733\tvalid_0's binary_logloss: 0.358136\n",
      "[102]\tvalid_0's auc: 0.844214\tvalid_0's binary_logloss: 0.358726\n",
      "[103]\tvalid_0's auc: 0.843665\tvalid_0's binary_logloss: 0.359151\n",
      "[104]\tvalid_0's auc: 0.843318\tvalid_0's binary_logloss: 0.359617\n",
      "[105]\tvalid_0's auc: 0.84293\tvalid_0's binary_logloss: 0.360131\n",
      "[106]\tvalid_0's auc: 0.842707\tvalid_0's binary_logloss: 0.360471\n",
      "[107]\tvalid_0's auc: 0.842561\tvalid_0's binary_logloss: 0.360723\n",
      "[108]\tvalid_0's auc: 0.84264\tvalid_0's binary_logloss: 0.360779\n",
      "[109]\tvalid_0's auc: 0.842509\tvalid_0's binary_logloss: 0.361046\n",
      "[110]\tvalid_0's auc: 0.8426\tvalid_0's binary_logloss: 0.361065\n",
      "[111]\tvalid_0's auc: 0.842408\tvalid_0's binary_logloss: 0.361444\n",
      "[112]\tvalid_0's auc: 0.842427\tvalid_0's binary_logloss: 0.361527\n",
      "[113]\tvalid_0's auc: 0.842455\tvalid_0's binary_logloss: 0.36162\n",
      "[114]\tvalid_0's auc: 0.842143\tvalid_0's binary_logloss: 0.3621\n",
      "[115]\tvalid_0's auc: 0.841721\tvalid_0's binary_logloss: 0.362543\n",
      "[116]\tvalid_0's auc: 0.841597\tvalid_0's binary_logloss: 0.362601\n",
      "[117]\tvalid_0's auc: 0.841426\tvalid_0's binary_logloss: 0.362837\n",
      "[118]\tvalid_0's auc: 0.841417\tvalid_0's binary_logloss: 0.3631\n",
      "[119]\tvalid_0's auc: 0.841406\tvalid_0's binary_logloss: 0.363084\n",
      "[120]\tvalid_0's auc: 0.841488\tvalid_0's binary_logloss: 0.363069\n",
      "[121]\tvalid_0's auc: 0.841574\tvalid_0's binary_logloss: 0.363284\n",
      "[122]\tvalid_0's auc: 0.841314\tvalid_0's binary_logloss: 0.363559\n",
      "[123]\tvalid_0's auc: 0.841254\tvalid_0's binary_logloss: 0.363754\n",
      "[124]\tvalid_0's auc: 0.841025\tvalid_0's binary_logloss: 0.364211\n",
      "[125]\tvalid_0's auc: 0.840628\tvalid_0's binary_logloss: 0.3647\n",
      "[126]\tvalid_0's auc: 0.840554\tvalid_0's binary_logloss: 0.364806\n",
      "[127]\tvalid_0's auc: 0.840164\tvalid_0's binary_logloss: 0.365095\n",
      "[128]\tvalid_0's auc: 0.839981\tvalid_0's binary_logloss: 0.365302\n",
      "[129]\tvalid_0's auc: 0.839796\tvalid_0's binary_logloss: 0.365512\n",
      "[130]\tvalid_0's auc: 0.839604\tvalid_0's binary_logloss: 0.365964\n",
      "[131]\tvalid_0's auc: 0.839311\tvalid_0's binary_logloss: 0.36623\n",
      "[132]\tvalid_0's auc: 0.839189\tvalid_0's binary_logloss: 0.366463\n",
      "[133]\tvalid_0's auc: 0.839261\tvalid_0's binary_logloss: 0.366431\n"
     ]
    },
    {
     "data": {
      "text/plain": [
       "0.8543419477844101"
      ]
     },
     "metadata": {},
     "output_type": "display_data"
    }
   ],
   "source": [
    "from lightgbm import LGBMClassifier\n",
    "\n",
    "lgbm = LGBMClassifier(n_estimators=300, objective='binary',learning_rate=0.1,max_depth=8)\n",
    "lgbm.fit(x_train, y_train, eval_metric='auc', eval_set=evals, early_stopping_rounds=100, verbose=True)\n",
    "\n",
    "pred = lgbm.predict_proba(x_test)[:,1]\n",
    "roc_auc_score(y_test,pred)"
   ]
  },
  {
   "cell_type": "code",
   "execution_count": null,
   "metadata": {},
   "outputs": [
    {
     "data": {
      "image/png": "[encoded data removed]",
      "text/plain": [
       "<Figure size 720x864 with 1 Axes>"
      ]
     },
     "metadata": {},
     "output_type": "display_data"
    }
   ],
   "source": [
    "from lightgbm import plot_importance\n",
    "\n",
    "fig, ax = plt.subplots(figsize=(10,12))\n",
    "plot_importance(lgbm, ax=ax);"
   ]
  }
 ],
 "metadata": {
  "kernelspec": {
   "display_name": "Python 3.9.6 64-bit",
   "language": "python",
   "name": "python3"
  },
  "language_info": {
   "codemirror_mode": {
    "name": "ipython",
    "version": 3
   },
   "file_extension": ".py",
   "mimetype": "text/x-python",
   "name": "python",
   "nbconvert_exporter": "python",
   "pygments_lexer": "ipython3",
   "version": "3.9.6"
  },
  "orig_nbformat": 4,
  "vscode": {
   "interpreter": {
    "hash": "0c25dbacbdd954288292924d55d999b1212c7c7979e3b31ce91a91bb44b0533b"
   }
  }
 },
 "nbformat": 4,
 "nbformat_minor": 2
}
