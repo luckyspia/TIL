{
 "cells": [
  {
   "cell_type": "code",
   "execution_count": 1,
   "metadata": {},
   "outputs": [],
   "source": [
    "import pandas as pd\n",
    "import numpy as np\n",
    "import matplotlib.pyplot as plt\n",
    "import seaborn as sns\n",
    "%matplotlib inline"
   ]
  },
  {
   "cell_type": "code",
   "execution_count": 2,
   "metadata": {},
   "outputs": [
    {
     "data": {
      "text/html": [
       "<div>\n",
       "<style scoped>\n",
       "    .dataframe tbody tr th:only-of-type {\n",
       "        vertical-align: middle;\n",
       "    }\n",
       "\n",
       "    .dataframe tbody tr th {\n",
       "        vertical-align: top;\n",
       "    }\n",
       "\n",
       "    .dataframe thead th {\n",
       "        text-align: right;\n",
       "    }\n",
       "</style>\n",
       "<table border=\"1\" class=\"dataframe\">\n",
       "  <thead>\n",
       "    <tr style=\"text-align: right;\">\n",
       "      <th></th>\n",
       "      <th>CreditScore</th>\n",
       "      <th>Gender</th>\n",
       "      <th>Age</th>\n",
       "      <th>Tenure</th>\n",
       "      <th>Balance</th>\n",
       "      <th>NumOfProducts</th>\n",
       "      <th>HasCrCard</th>\n",
       "      <th>IsActiveMember</th>\n",
       "      <th>EstimatedSalary</th>\n",
       "      <th>Exited</th>\n",
       "    </tr>\n",
       "  </thead>\n",
       "  <tbody>\n",
       "    <tr>\n",
       "      <th>0</th>\n",
       "      <td>619</td>\n",
       "      <td>0</td>\n",
       "      <td>42</td>\n",
       "      <td>2</td>\n",
       "      <td>0.00</td>\n",
       "      <td>1</td>\n",
       "      <td>1</td>\n",
       "      <td>1</td>\n",
       "      <td>101348.88</td>\n",
       "      <td>1</td>\n",
       "    </tr>\n",
       "    <tr>\n",
       "      <th>1</th>\n",
       "      <td>608</td>\n",
       "      <td>0</td>\n",
       "      <td>41</td>\n",
       "      <td>1</td>\n",
       "      <td>83807.86</td>\n",
       "      <td>1</td>\n",
       "      <td>0</td>\n",
       "      <td>1</td>\n",
       "      <td>112542.58</td>\n",
       "      <td>0</td>\n",
       "    </tr>\n",
       "    <tr>\n",
       "      <th>2</th>\n",
       "      <td>502</td>\n",
       "      <td>0</td>\n",
       "      <td>42</td>\n",
       "      <td>8</td>\n",
       "      <td>159660.80</td>\n",
       "      <td>3</td>\n",
       "      <td>1</td>\n",
       "      <td>0</td>\n",
       "      <td>113931.57</td>\n",
       "      <td>1</td>\n",
       "    </tr>\n",
       "    <tr>\n",
       "      <th>3</th>\n",
       "      <td>699</td>\n",
       "      <td>0</td>\n",
       "      <td>39</td>\n",
       "      <td>1</td>\n",
       "      <td>0.00</td>\n",
       "      <td>2</td>\n",
       "      <td>0</td>\n",
       "      <td>0</td>\n",
       "      <td>93826.63</td>\n",
       "      <td>0</td>\n",
       "    </tr>\n",
       "    <tr>\n",
       "      <th>4</th>\n",
       "      <td>850</td>\n",
       "      <td>0</td>\n",
       "      <td>43</td>\n",
       "      <td>2</td>\n",
       "      <td>125510.82</td>\n",
       "      <td>1</td>\n",
       "      <td>1</td>\n",
       "      <td>1</td>\n",
       "      <td>79084.10</td>\n",
       "      <td>0</td>\n",
       "    </tr>\n",
       "  </tbody>\n",
       "</table>\n",
       "</div>"
      ],
      "text/plain": [
       "   CreditScore  Gender  Age  Tenure    Balance  NumOfProducts  HasCrCard  \\\n",
       "0          619       0   42       2       0.00              1          1   \n",
       "1          608       0   41       1   83807.86              1          0   \n",
       "2          502       0   42       8  159660.80              3          1   \n",
       "3          699       0   39       1       0.00              2          0   \n",
       "4          850       0   43       2  125510.82              1          1   \n",
       "\n",
       "   IsActiveMember  EstimatedSalary  Exited  \n",
       "0               1        101348.88       1  \n",
       "1               1        112542.58       0  \n",
       "2               0        113931.57       1  \n",
       "3               0         93826.63       0  \n",
       "4               1         79084.10       0  "
      ]
     },
     "execution_count": 2,
     "metadata": {},
     "output_type": "execute_result"
    }
   ],
   "source": [
    "churn = pd.read_csv('./data/churn.csv')\n",
    "churn.head()"
   ]
  },
  {
   "cell_type": "code",
   "execution_count": 3,
   "metadata": {},
   "outputs": [
    {
     "name": "stdout",
     "output_type": "stream",
     "text": [
      "<class 'pandas.core.frame.DataFrame'>\n",
      "RangeIndex: 10000 entries, 0 to 9999\n",
      "Data columns (total 10 columns):\n",
      " #   Column           Non-Null Count  Dtype  \n",
      "---  ------           --------------  -----  \n",
      " 0   CreditScore      10000 non-null  int64  \n",
      " 1   Gender           10000 non-null  int64  \n",
      " 2   Age              10000 non-null  int64  \n",
      " 3   Tenure           10000 non-null  int64  \n",
      " 4   Balance          10000 non-null  float64\n",
      " 5   NumOfProducts    10000 non-null  int64  \n",
      " 6   HasCrCard        10000 non-null  int64  \n",
      " 7   IsActiveMember   10000 non-null  int64  \n",
      " 8   EstimatedSalary  10000 non-null  float64\n",
      " 9   Exited           10000 non-null  int64  \n",
      "dtypes: float64(2), int64(8)\n",
      "memory usage: 781.4 KB\n"
     ]
    }
   ],
   "source": [
    "churn.info()"
   ]
  },
  {
   "cell_type": "code",
   "execution_count": 4,
   "metadata": {},
   "outputs": [
    {
     "data": {
      "text/plain": [
       "0    7963\n",
       "1    2037\n",
       "Name: Exited, dtype: int64"
      ]
     },
     "execution_count": 4,
     "metadata": {},
     "output_type": "execute_result"
    }
   ],
   "source": [
    "churn.Exited.value_counts() #목표변수에 대한 분포 확인"
   ]
  },
  {
   "cell_type": "code",
   "execution_count": 5,
   "metadata": {},
   "outputs": [],
   "source": [
    "np.random.seed(2022)\n",
    "target = churn.Exited\n",
    "churn = churn.drop(columns='Exited')"
   ]
  },
  {
   "cell_type": "markdown",
   "metadata": {},
   "source": [
    "### Voting"
   ]
  },
  {
   "cell_type": "code",
   "execution_count": 6,
   "metadata": {},
   "outputs": [
    {
     "data": {
      "text/plain": [
       "DecisionTreeClassifier()"
      ]
     },
     "execution_count": 6,
     "metadata": {},
     "output_type": "execute_result"
    }
   ],
   "source": [
    "from sklearn.model_selection import train_test_split\n",
    "from sklearn.linear_model import LogisticRegression\n",
    "from sklearn.neighbors import KNeighborsClassifier\n",
    "from sklearn.tree import DecisionTreeClassifier\n",
    "\n",
    "x_train, x_test, y_train, y_test = train_test_split(churn, target, test_size=0.3, stratify=target)\n",
    "# train, test set 을 나눌 때 target의 비율을 맞추는 옵션, stratify(층하추출)\n",
    "\n",
    "lr = LogisticRegression()\n",
    "knn = KNeighborsClassifier()\n",
    "dt = DecisionTreeClassifier()\n",
    "\n",
    "lr.fit(x_train, y_train)\n",
    "knn.fit(x_train, y_train)\n",
    "dt.fit(x_train, y_train)"
   ]
  },
  {
   "cell_type": "code",
   "execution_count": 7,
   "metadata": {},
   "outputs": [
    {
     "data": {
      "text/plain": [
       "CreditScore       -0.004947\n",
       "IsActiveMember    -0.001484\n",
       "Tenure            -0.001136\n",
       "Gender            -0.001008\n",
       "NumOfProducts     -0.000539\n",
       "HasCrCard         -0.000167\n",
       "EstimatedSalary   -0.000001\n",
       "Balance            0.000003\n",
       "Age                0.043028\n",
       "dtype: float64"
      ]
     },
     "execution_count": 7,
     "metadata": {},
     "output_type": "execute_result"
    }
   ],
   "source": [
    "lr.coef_ # 로지스틱의 계수추출\n",
    "pd.Series(lr.coef_[0], index=x_train.columns).sort_values() # 계수 추출 후 시리즈로 만듦\n",
    "# 데이터의 스케일을 맞추지 않았기 때문에, 그대로 받아들이기보단 방향성 정도만 파악하는 것이 좋음"
   ]
  },
  {
   "cell_type": "code",
   "execution_count": 8,
   "metadata": {},
   "outputs": [
    {
     "data": {
      "text/plain": [
       "HasCrCard          0.015338\n",
       "Gender             0.018054\n",
       "IsActiveMember     0.058785\n",
       "Tenure             0.080518\n",
       "NumOfProducts      0.110115\n",
       "Balance            0.141309\n",
       "CreditScore        0.159064\n",
       "EstimatedSalary    0.181505\n",
       "Age                0.235311\n",
       "dtype: float64"
      ]
     },
     "execution_count": 8,
     "metadata": {},
     "output_type": "execute_result"
    }
   ],
   "source": [
    "# 변수중요도 파악\n",
    "pd.Series(dt.feature_importances_, index=x_train.columns).sort_values()"
   ]
  },
  {
   "cell_type": "code",
   "execution_count": 9,
   "metadata": {},
   "outputs": [
    {
     "data": {
      "text/plain": [
       "array([0, 0, 0, ..., 0, 0, 0])"
      ]
     },
     "execution_count": 9,
     "metadata": {},
     "output_type": "execute_result"
    }
   ],
   "source": [
    "# Hard Voting \n",
    "# Scartch Code\n",
    "((lr.predict(x_test) + dt.predict(x_test) + knn.predict(x_test)) >= 2).astype('int') #2 이상이면 1, 아니면 0"
   ]
  },
  {
   "cell_type": "code",
   "execution_count": 10,
   "metadata": {},
   "outputs": [
    {
     "data": {
      "text/plain": [
       "array([0.32144481, 0.04380319, 0.03387368, ..., 0.61350975, 0.01859872,\n",
       "       0.02837519])"
      ]
     },
     "execution_count": 10,
     "metadata": {},
     "output_type": "execute_result"
    }
   ],
   "source": [
    "# Soft Voting \n",
    "# Scratch Code\n",
    "(lr.predict_proba(x_test)[:,1] + dt.predict_proba(x_test)[:,1] + knn.predict_proba(x_test)[:,1])/3 #1 일 때의 확률값"
   ]
  },
  {
   "cell_type": "code",
   "execution_count": 11,
   "metadata": {},
   "outputs": [
    {
     "data": {
      "text/plain": [
       "VotingClassifier(estimators=[('LR', LogisticRegression()),\n",
       "                             ('DT', DecisionTreeClassifier()),\n",
       "                             ('KNN', KNeighborsClassifier())],\n",
       "                 voting='soft')"
      ]
     },
     "execution_count": 11,
     "metadata": {},
     "output_type": "execute_result"
    }
   ],
   "source": [
    "from sklearn.ensemble import VotingClassifier\n",
    "models = [('LR',lr),\n",
    "         ('DT',dt),\n",
    "         ('KNN',knn)] #모델을 튜플형태로 리스트로 저장\n",
    "hard_vot = VotingClassifier(estimators=models, voting='hard')\n",
    "soft_vot = VotingClassifier(estimators=models, voting='soft')\n",
    "\n",
    "hard_vot.fit(x_train, y_train)\n",
    "soft_vot.fit(x_train, y_train)"
   ]
  },
  {
   "cell_type": "code",
   "execution_count": 12,
   "metadata": {},
   "outputs": [
    {
     "name": "stdout",
     "output_type": "stream",
     "text": [
      "LogisticRegression ROC-AUC SCORE: 0.6728\n",
      "DecisionTreeClassifier ROC-AUC SCORE: 0.6580\n",
      "KNeighborsClassifier ROC-AUC SCORE: 0.5323\n",
      "VotingClassifier ROC-AUC SCORE: 0.5379\n",
      "VotingClassifier ROC-AUC SCORE: 0.7011\n"
     ]
    }
   ],
   "source": [
    "# ROC_AUC score를 통한 성능 측정 \n",
    "# accuracy score 로는 balance가 맞지 않기 때문에 측정하기 쉽지 않음\n",
    "from sklearn.metrics import roc_auc_score\n",
    "\n",
    "my_models = [lr, dt, knn, hard_vot, soft_vot]\n",
    "for m in my_models:\n",
    "    try:\n",
    "        pred = m.predict_proba(x_test)[:,1]\n",
    "    except:\n",
    "        pred = m.predict(x_test)\n",
    "    name= m.__class__.__name__\n",
    "    score = roc_auc_score(y_test, pred)\n",
    "    print('{0} ROC-AUC SCORE: {1:.4f}'.format(name,score))\n",
    "# .4f = 소수점 4자리까지 출력\n",
    "# hard voting은 class를 결정하는 것이기 때문에 확률값이 나오지 않으므로 proba 불가능\n",
    "# try-except 를 통해서 오류가 발생할 경우, predict 진행하도록 코딩"
   ]
  },
  {
   "cell_type": "markdown",
   "metadata": {},
   "source": [
    "### Random Forest"
   ]
  },
  {
   "cell_type": "code",
   "execution_count": 13,
   "metadata": {},
   "outputs": [],
   "source": [
    "# 트리기반 앙상블 모델 'Random Forest'\n",
    "# 랜덤포레스트는 bagging의 한 기법, 데이터의 일부 변수를 선택해 모델을 여러개 만들어나가는 기법\n",
    "# bagging 이란 데이터set의 일부를 샘플링해서 여러 개 set을 만들어나가는 기법\n",
    "from sklearn.ensemble import RandomForestClassifier\n",
    "\n",
    "rf = RandomForestClassifier(n_estimators=100, max_depth=10)"
   ]
  },
  {
   "cell_type": "code",
   "execution_count": 14,
   "metadata": {},
   "outputs": [
    {
     "data": {
      "text/plain": [
       "RandomForestClassifier(max_depth=10)"
      ]
     },
     "execution_count": 14,
     "metadata": {},
     "output_type": "execute_result"
    }
   ],
   "source": [
    "rf.fit(x_train, y_train)"
   ]
  },
  {
   "cell_type": "code",
   "execution_count": 15,
   "metadata": {},
   "outputs": [
    {
     "name": "stdout",
     "output_type": "stream",
     "text": [
      "LogisticRegression ROC-AUC SCORE: 0.6728\n",
      "DecisionTreeClassifier ROC-AUC SCORE: 0.6580\n",
      "VotingClassifier ROC-AUC SCORE: 0.7011\n",
      "RandomForestClassifier ROC-AUC SCORE: 0.8532\n",
      "VotingClassifier ROC-AUC SCORE: 0.8086\n"
     ]
    }
   ],
   "source": [
    "models = [('LR',lr),\n",
    "         ('DT',dt),\n",
    "         ('RF',rf)] #모델을 튜플형태로 리스트로 저장\n",
    "         \n",
    "soft_vot_sum = VotingClassifier(estimators=models, voting='soft')\n",
    "soft_vot_sum.fit(x_train, y_train)\n",
    "\n",
    "my_models = [lr, dt, soft_vot, rf, soft_vot_sum]\n",
    "for m in my_models:\n",
    "    pred = m.predict_proba(x_test)[:,1]\n",
    "    name= m.__class__.__name__\n",
    "    score = roc_auc_score(y_test, pred)\n",
    "    print('{0} ROC-AUC SCORE: {1:.4f}'.format(name,score))\n",
    "# knn 성능이 너무 안좋으므로 빼면, 성능이 더 오름"
   ]
  },
  {
   "cell_type": "code",
   "execution_count": 16,
   "metadata": {},
   "outputs": [
    {
     "data": {
      "text/plain": [
       "<matplotlib.axes._subplots.AxesSubplot at 0x22134cb08e0>"
      ]
     },
     "execution_count": 16,
     "metadata": {},
     "output_type": "execute_result"
    },
    {
     "data": {
      "image/png": "[encoded data removed]",
      "text/plain": [
       "<Figure size 432x288 with 1 Axes>"
      ]
     },
     "metadata": {
      "needs_background": "light"
     },
     "output_type": "display_data"
    }
   ],
   "source": [
    "#RandomForest가 설명력은 낮지만, Feature importance는 뽑을 수 있음\n",
    "sns.barplot(x=rf.feature_importances_, y=x_train.columns)"
   ]
  },
  {
   "cell_type": "code",
   "execution_count": 17,
   "metadata": {},
   "outputs": [
    {
     "data": {
      "image/png": "[encoded data removed]",
      "text/plain": [
       "<Figure size 1296x432 with 2 Axes>"
      ]
     },
     "metadata": {
      "needs_background": "light"
     },
     "output_type": "display_data"
    }
   ],
   "source": [
    "# Decision Tree, RandomForest 의 Feature Importance\n",
    "fig, ax = plt.subplots(ncols=2, figsize=(18,6));\n",
    "sns.barplot(x=dt.feature_importances_, y=x_train.columns, ax=ax[0]);\n",
    "sns.barplot(x=rf.feature_importances_, y=x_train.columns, ax=ax[1]);"
   ]
  },
  {
   "cell_type": "markdown",
   "metadata": {},
   "source": [
    "### 아다부스팅(AdaBoosting)\n",
    "- 데이터에서 하나의 모델을 만든 뒤, 못 맞춘 부분에 가중치를 둬서, 맞춘 부분과 함께 두 번째 모델을 만들고, 과정의 반복\n",
    "- 부스팅을 할 베이스 모델을 지정해줘야함 (base_estimator), prodict_proba를 제공하는 모델만 가능하며 Tree계열이 높은 성능을 보임\n",
    "- 랜덤포레스트를 사용할 경우 Overfitting 발생, 간단한 모델을 제공하는 것이 좋음\n",
    "- 모형의 갯수를 많이 쓰면 복잡한 모형이 만들어져서 Over-fitting이 발생할 확률이 높아서 조절해줘야함, 보통 50개 정도\n",
    "- 학습률(learning_rate)이 크면 클수록 전혀 다른 모델을 만들려고 함 -> 못 맞춘 부분에만 집중해서 전혀 다른 모델을 만들려고 함, 학습률이 높을수록 복잡한 모델이 만들어짐\n",
    "- 학습률과 n_estimator의 갯수는 trade-off하게 설정해야함\n",
    "\n",
    "### 그래디언트부스팅(GBM)\n",
    "- 모델을 점점 더 복잡하게 만들면서, 과적합을 만들어서, 점점 fitting 되게 기울기(오차를 계산하는 식)를 낮춰가는 방식\n",
    "- 경사하강법에서 사용할 loss function을 지정해줘야함\n",
    "- 분류문제에선 friedman_mes, 추정문제에선 mae나 mse 사용"
   ]
  },
  {
   "cell_type": "code",
   "execution_count": 18,
   "metadata": {},
   "outputs": [
    {
     "data": {
      "text/plain": [
       "AdaBoostClassifier(base_estimator=DecisionTreeClassifier(), learning_rate=0.3)"
      ]
     },
     "execution_count": 18,
     "metadata": {},
     "output_type": "execute_result"
    }
   ],
   "source": [
    "from sklearn.ensemble import AdaBoostClassifier\n",
    "\n",
    "ada = AdaBoostClassifier(base_estimator = dt, learning_rate=0.3) #fitting한 모델을 주며, dt가 보통 좋다고 알려져 있음\n",
    "ada.fit(x_train, y_train)"
   ]
  },
  {
   "cell_type": "code",
   "execution_count": 19,
   "metadata": {},
   "outputs": [
    {
     "name": "stdout",
     "output_type": "stream",
     "text": [
      "LogisticRegression ROC-AUC SCORE: 0.6728\n",
      "DecisionTreeClassifier ROC-AUC SCORE: 0.6580\n",
      "VotingClassifier ROC-AUC SCORE: 0.7011\n",
      "RandomForestClassifier ROC-AUC SCORE: 0.8532\n",
      "VotingClassifier ROC-AUC SCORE: 0.8043\n",
      "AdaBoostClassifier ROC-AUC SCORE: 0.6491\n"
     ]
    }
   ],
   "source": [
    "models = [('LR',lr),\n",
    "         ('DT',dt),\n",
    "         ('RF',rf),\n",
    "         ('ADA',ada)] #모델을 튜플형태로 리스트로 저장\n",
    "soft_vot_sum = VotingClassifier(estimators=models, voting='soft')\n",
    "soft_vot_sum.fit(x_train, y_train)\n",
    "my_models = [lr, dt, soft_vot, rf, soft_vot_sum,ada]\n",
    "for m in my_models:\n",
    "    pred = m.predict_proba(x_test)[:,1]\n",
    "    name= m.__class__.__name__\n",
    "    score = roc_auc_score(y_test, pred)\n",
    "    print('{0} ROC-AUC SCORE: {1:.4f}'.format(name,score))"
   ]
  },
  {
   "cell_type": "code",
   "execution_count": 20,
   "metadata": {},
   "outputs": [
    {
     "name": "stdout",
     "output_type": "stream",
     "text": [
      "LogisticRegression ROC-AUC SCORE: 0.6728\n",
      "DecisionTreeClassifier ROC-AUC SCORE: 0.6580\n",
      "VotingClassifier ROC-AUC SCORE: 0.7011\n",
      "RandomForestClassifier ROC-AUC SCORE: 0.8532\n",
      "VotingClassifier ROC-AUC SCORE: 0.8605\n",
      "AdaBoostClassifier ROC-AUC SCORE: 0.6491\n",
      "GradientBoostingClassifier ROC-AUC SCORE: 0.8605\n"
     ]
    }
   ],
   "source": [
    "from sklearn.ensemble import GradientBoostingClassifier\n",
    "gbm = GradientBoostingClassifier()\n",
    "gbm.fit(x_train,y_train)\n",
    "\n",
    "models = [('RF',rf),\n",
    "         ('GBM',gbm)] #모델을 튜플형태로 리스트로 저장\n",
    "soft_vot_sum = VotingClassifier(estimators=models, voting='soft')\n",
    "soft_vot_sum.fit(x_train, y_train)\n",
    "my_models = [lr, dt, soft_vot, rf, soft_vot_sum,ada,gbm]\n",
    "for m in my_models:\n",
    "    pred = m.predict_proba(x_test)[:,1]\n",
    "    name= m.__class__.__name__\n",
    "    score = roc_auc_score(y_test, pred)\n",
    "    print('{0} ROC-AUC SCORE: {1:.4f}'.format(name,score))"
   ]
  },
  {
   "cell_type": "code",
   "execution_count": null,
   "metadata": {},
   "outputs": [],
   "source": []
  }
 ],
 "metadata": {
  "kernelspec": {
   "display_name": "Python 3.9.12 ('base')",
   "language": "python",
   "name": "python3"
  },
  "language_info": {
   "codemirror_mode": {
    "name": "ipython",
    "version": 3
   },
   "file_extension": ".py",
   "mimetype": "text/x-python",
   "name": "python",
   "nbconvert_exporter": "python",
   "pygments_lexer": "ipython3",
   "version": "3.9.12"
  },
  "orig_nbformat": 4,
  "vscode": {
   "interpreter": {
    "hash": "68756eb6c044f31c46e3e1f38723aea1f0146198488dd3d60c0e4241eb6f7dd0"
   }
  }
 },
 "nbformat": 4,
 "nbformat_minor": 2
}
