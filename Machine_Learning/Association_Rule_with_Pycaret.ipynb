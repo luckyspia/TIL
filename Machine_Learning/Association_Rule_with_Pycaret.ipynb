{
 "cells": [
  {
   "cell_type": "markdown",
   "metadata": {},
   "source": [
    "<font color=\"#CC3D3D\"><p>\n",
    "# Exercise: Association Rule Mining with Pycaret"
   ]
  },
  {
   "cell_type": "markdown",
   "metadata": {},
   "source": [
    "### 1. Getting the Data"
   ]
  },
  {
   "cell_type": "code",
   "execution_count": 1,
   "metadata": {},
   "outputs": [
    {
     "data": {
      "text/html": [
       "<div>\n",
       "<style scoped>\n",
       "    .dataframe tbody tr th:only-of-type {\n",
       "        vertical-align: middle;\n",
       "    }\n",
       "\n",
       "    .dataframe tbody tr th {\n",
       "        vertical-align: top;\n",
       "    }\n",
       "\n",
       "    .dataframe thead th {\n",
       "        text-align: right;\n",
       "    }\n",
       "</style>\n",
       "<table border=\"1\" class=\"dataframe\">\n",
       "  <thead>\n",
       "    <tr style=\"text-align: right;\">\n",
       "      <th></th>\n",
       "      <th>InvoiceNo</th>\n",
       "      <th>StockCode</th>\n",
       "      <th>Description</th>\n",
       "      <th>Quantity</th>\n",
       "      <th>InvoiceDate</th>\n",
       "      <th>UnitPrice</th>\n",
       "      <th>CustomerID</th>\n",
       "      <th>Country</th>\n",
       "    </tr>\n",
       "  </thead>\n",
       "  <tbody>\n",
       "    <tr>\n",
       "      <th>0</th>\n",
       "      <td>536370</td>\n",
       "      <td>22728</td>\n",
       "      <td>ALARM CLOCK BAKELIKE PINK</td>\n",
       "      <td>24</td>\n",
       "      <td>12/1/2010 8:45</td>\n",
       "      <td>3.75</td>\n",
       "      <td>12583.0</td>\n",
       "      <td>France</td>\n",
       "    </tr>\n",
       "    <tr>\n",
       "      <th>1</th>\n",
       "      <td>536370</td>\n",
       "      <td>22727</td>\n",
       "      <td>ALARM CLOCK BAKELIKE RED</td>\n",
       "      <td>24</td>\n",
       "      <td>12/1/2010 8:45</td>\n",
       "      <td>3.75</td>\n",
       "      <td>12583.0</td>\n",
       "      <td>France</td>\n",
       "    </tr>\n",
       "    <tr>\n",
       "      <th>2</th>\n",
       "      <td>536370</td>\n",
       "      <td>22726</td>\n",
       "      <td>ALARM CLOCK BAKELIKE GREEN</td>\n",
       "      <td>12</td>\n",
       "      <td>12/1/2010 8:45</td>\n",
       "      <td>3.75</td>\n",
       "      <td>12583.0</td>\n",
       "      <td>France</td>\n",
       "    </tr>\n",
       "    <tr>\n",
       "      <th>3</th>\n",
       "      <td>536370</td>\n",
       "      <td>21724</td>\n",
       "      <td>PANDA AND BUNNIES STICKER SHEET</td>\n",
       "      <td>12</td>\n",
       "      <td>12/1/2010 8:45</td>\n",
       "      <td>0.85</td>\n",
       "      <td>12583.0</td>\n",
       "      <td>France</td>\n",
       "    </tr>\n",
       "    <tr>\n",
       "      <th>4</th>\n",
       "      <td>536370</td>\n",
       "      <td>21883</td>\n",
       "      <td>STARS GIFT TAPE</td>\n",
       "      <td>24</td>\n",
       "      <td>12/1/2010 8:45</td>\n",
       "      <td>0.65</td>\n",
       "      <td>12583.0</td>\n",
       "      <td>France</td>\n",
       "    </tr>\n",
       "  </tbody>\n",
       "</table>\n",
       "</div>"
      ],
      "text/plain": [
       "  InvoiceNo StockCode                      Description  Quantity  \\\n",
       "0    536370     22728        ALARM CLOCK BAKELIKE PINK        24   \n",
       "1    536370     22727        ALARM CLOCK BAKELIKE RED         24   \n",
       "2    536370     22726       ALARM CLOCK BAKELIKE GREEN        12   \n",
       "3    536370     21724  PANDA AND BUNNIES STICKER SHEET        12   \n",
       "4    536370     21883                 STARS GIFT TAPE         24   \n",
       "\n",
       "      InvoiceDate  UnitPrice  CustomerID Country  \n",
       "0  12/1/2010 8:45       3.75     12583.0  France  \n",
       "1  12/1/2010 8:45       3.75     12583.0  France  \n",
       "2  12/1/2010 8:45       3.75     12583.0  France  \n",
       "3  12/1/2010 8:45       0.85     12583.0  France  \n",
       "4  12/1/2010 8:45       0.65     12583.0  France  "
      ]
     },
     "metadata": {},
     "output_type": "display_data"
    }
   ],
   "source": [
    "# For this exercise we will use a small sample from UCI dataset called Online Retail Dataset. \n",
    "# This is a transactional dataset which contains transactions occurring between 01/12/2010 and 09/12/2011 \n",
    "# for a UK-based and registered non-store online retail. \n",
    "# The company mainly sells unique all-occasion gifts. Many customers of the company are wholesalers. \n",
    "\n",
    "from pycaret.datasets import get_data\n",
    "data = get_data('france')"
   ]
  },
  {
   "cell_type": "code",
   "execution_count": 2,
   "metadata": {},
   "outputs": [
    {
     "data": {
      "text/plain": [
       "(8557, 8)"
      ]
     },
     "execution_count": 2,
     "metadata": {},
     "output_type": "execute_result"
    }
   ],
   "source": [
    "data.shape"
   ]
  },
  {
   "cell_type": "markdown",
   "metadata": {},
   "source": [
    "### 2. Setting up Environment in PyCaret"
   ]
  },
  {
   "cell_type": "markdown",
   "metadata": {},
   "source": [
    "`setup()` function initializes the environment in PyCaret and transforms the transactional dataset into a shape that is acceptable to Apriori algorithm. It requires three mandatory parameters: pandas dataframe, `transaction_id` which is the name of column representing transaction id and will be used to pivot the matrix; and `item_id` which is the name of the column used for creation of rules. Normally, this will be the variable of interest. You can also pass an optional parameter `ignore_items` to ignore certain values for creation of rule."
   ]
  },
  {
   "cell_type": "code",
   "execution_count": 3,
   "metadata": {},
   "outputs": [],
   "source": [
    "from pycaret.arules import *"
   ]
  },
  {
   "cell_type": "code",
   "execution_count": 4,
   "metadata": {},
   "outputs": [
    {
     "data": {
      "text/html": [
       "<style type=\"text/css\">\n",
       "</style>\n",
       "<table id=\"T_a4205\">\n",
       "  <thead>\n",
       "    <tr>\n",
       "      <th id=\"T_a4205_level0_col0\" class=\"col_heading level0 col0\" >Description</th>\n",
       "      <th id=\"T_a4205_level0_col1\" class=\"col_heading level0 col1\" >Value</th>\n",
       "    </tr>\n",
       "  </thead>\n",
       "  <tbody>\n",
       "    <tr>\n",
       "      <td id=\"T_a4205_row0_col0\" class=\"data row0 col0\" >session_id</td>\n",
       "      <td id=\"T_a4205_row0_col1\" class=\"data row0 col1\" >5405</td>\n",
       "    </tr>\n",
       "    <tr>\n",
       "      <td id=\"T_a4205_row1_col0\" class=\"data row1 col0\" ># Transactions</td>\n",
       "      <td id=\"T_a4205_row1_col1\" class=\"data row1 col1\" >461</td>\n",
       "    </tr>\n",
       "    <tr>\n",
       "      <td id=\"T_a4205_row2_col0\" class=\"data row2 col0\" ># Items</td>\n",
       "      <td id=\"T_a4205_row2_col1\" class=\"data row2 col1\" >1565</td>\n",
       "    </tr>\n",
       "    <tr>\n",
       "      <td id=\"T_a4205_row3_col0\" class=\"data row3 col0\" >Ignore Items</td>\n",
       "      <td id=\"T_a4205_row3_col1\" class=\"data row3 col1\" >None</td>\n",
       "    </tr>\n",
       "  </tbody>\n",
       "</table>\n"
      ],
      "text/plain": [
       "<pandas.io.formats.style.Styler at 0x1cbcfa5bee0>"
      ]
     },
     "metadata": {},
     "output_type": "display_data"
    }
   ],
   "source": [
    "from pycaret.arules import *\n",
    "from pycaret.arules import *\n",
    "exp_arm = setup(data = data, \n",
    "                    transaction_id = 'InvoiceNo',\n",
    "                    item_id = 'Description') "
   ]
  },
  {
   "cell_type": "markdown",
   "metadata": {},
   "source": [
    "### 3. Create a Model"
   ]
  },
  {
   "cell_type": "markdown",
   "metadata": {},
   "source": [
    "Creating an association rule model is simple. `create_model()` requires no mandatory parameters. It has 4 optional parameters which are as follows:\n",
    "\n",
    "- **metric:** Metric to evaluate if a rule is of interest. Default is set to confidence. Other available metrics include 'support', 'lift', 'leverage', 'conviction'.\n",
    "- **threshold:** Minimal threshold for the evaluation metric, via the `metric` parameter, to decide whether a candidate rule is of interest. Default is set to `0.5`.\n",
    "- **min_support:** A float between 0 and 1 for minumum support of the itemsets returned. The support is computed as the fraction `transactions_where_item(s)_occur / total_transactions`. Default is set to `0.05`.\n",
    "- **round:** Number of decimal places metrics in score grid will be rounded to."
   ]
  },
  {
   "cell_type": "code",
   "execution_count": 5,
   "metadata": {},
   "outputs": [],
   "source": [
    "model1 = create_model() "
   ]
  },
  {
   "cell_type": "code",
   "execution_count": 6,
   "metadata": {},
   "outputs": [
    {
     "name": "stdout",
     "output_type": "stream",
     "text": [
      "(141, 9)\n"
     ]
    }
   ],
   "source": [
    "print(model1.shape) "
   ]
  },
  {
   "cell_type": "code",
   "execution_count": 7,
   "metadata": {},
   "outputs": [
    {
     "data": {
      "text/html": [
       "<div>\n",
       "<style scoped>\n",
       "    .dataframe tbody tr th:only-of-type {\n",
       "        vertical-align: middle;\n",
       "    }\n",
       "\n",
       "    .dataframe tbody tr th {\n",
       "        vertical-align: top;\n",
       "    }\n",
       "\n",
       "    .dataframe thead th {\n",
       "        text-align: right;\n",
       "    }\n",
       "</style>\n",
       "<table border=\"1\" class=\"dataframe\">\n",
       "  <thead>\n",
       "    <tr style=\"text-align: right;\">\n",
       "      <th></th>\n",
       "      <th>antecedents</th>\n",
       "      <th>consequents</th>\n",
       "      <th>antecedent support</th>\n",
       "      <th>consequent support</th>\n",
       "      <th>support</th>\n",
       "      <th>confidence</th>\n",
       "      <th>lift</th>\n",
       "      <th>leverage</th>\n",
       "      <th>conviction</th>\n",
       "    </tr>\n",
       "  </thead>\n",
       "  <tbody>\n",
       "    <tr>\n",
       "      <th>0</th>\n",
       "      <td>(JUMBO BAG WOODLAND ANIMALS)</td>\n",
       "      <td>(POSTAGE)</td>\n",
       "      <td>0.0651</td>\n",
       "      <td>0.6746</td>\n",
       "      <td>0.0651</td>\n",
       "      <td>1.0000</td>\n",
       "      <td>1.4823</td>\n",
       "      <td>0.0212</td>\n",
       "      <td>inf</td>\n",
       "    </tr>\n",
       "    <tr>\n",
       "      <th>1</th>\n",
       "      <td>(SET/6 RED SPOTTY PAPER CUPS, SET/20 RED RETRO...</td>\n",
       "      <td>(SET/6 RED SPOTTY PAPER PLATES)</td>\n",
       "      <td>0.0868</td>\n",
       "      <td>0.1085</td>\n",
       "      <td>0.0846</td>\n",
       "      <td>0.9750</td>\n",
       "      <td>8.9895</td>\n",
       "      <td>0.0752</td>\n",
       "      <td>35.6616</td>\n",
       "    </tr>\n",
       "    <tr>\n",
       "      <th>2</th>\n",
       "      <td>(SET/20 RED RETROSPOT PAPER NAPKINS , SET/6 RE...</td>\n",
       "      <td>(SET/6 RED SPOTTY PAPER CUPS)</td>\n",
       "      <td>0.0868</td>\n",
       "      <td>0.1171</td>\n",
       "      <td>0.0846</td>\n",
       "      <td>0.9750</td>\n",
       "      <td>8.3236</td>\n",
       "      <td>0.0744</td>\n",
       "      <td>35.3145</td>\n",
       "    </tr>\n",
       "    <tr>\n",
       "      <th>3</th>\n",
       "      <td>(SET/20 RED RETROSPOT PAPER NAPKINS , POSTAGE,...</td>\n",
       "      <td>(SET/6 RED SPOTTY PAPER CUPS)</td>\n",
       "      <td>0.0716</td>\n",
       "      <td>0.1171</td>\n",
       "      <td>0.0694</td>\n",
       "      <td>0.9697</td>\n",
       "      <td>8.2783</td>\n",
       "      <td>0.0610</td>\n",
       "      <td>29.1345</td>\n",
       "    </tr>\n",
       "    <tr>\n",
       "      <th>4</th>\n",
       "      <td>(SET/6 RED SPOTTY PAPER CUPS, SET/20 RED RETRO...</td>\n",
       "      <td>(SET/6 RED SPOTTY PAPER PLATES)</td>\n",
       "      <td>0.0716</td>\n",
       "      <td>0.1085</td>\n",
       "      <td>0.0694</td>\n",
       "      <td>0.9697</td>\n",
       "      <td>8.9406</td>\n",
       "      <td>0.0617</td>\n",
       "      <td>29.4208</td>\n",
       "    </tr>\n",
       "  </tbody>\n",
       "</table>\n",
       "</div>"
      ],
      "text/plain": [
       "                                         antecedents  \\\n",
       "0                       (JUMBO BAG WOODLAND ANIMALS)   \n",
       "1  (SET/6 RED SPOTTY PAPER CUPS, SET/20 RED RETRO...   \n",
       "2  (SET/20 RED RETROSPOT PAPER NAPKINS , SET/6 RE...   \n",
       "3  (SET/20 RED RETROSPOT PAPER NAPKINS , POSTAGE,...   \n",
       "4  (SET/6 RED SPOTTY PAPER CUPS, SET/20 RED RETRO...   \n",
       "\n",
       "                       consequents  antecedent support  consequent support  \\\n",
       "0                        (POSTAGE)              0.0651              0.6746   \n",
       "1  (SET/6 RED SPOTTY PAPER PLATES)              0.0868              0.1085   \n",
       "2    (SET/6 RED SPOTTY PAPER CUPS)              0.0868              0.1171   \n",
       "3    (SET/6 RED SPOTTY PAPER CUPS)              0.0716              0.1171   \n",
       "4  (SET/6 RED SPOTTY PAPER PLATES)              0.0716              0.1085   \n",
       "\n",
       "   support  confidence    lift  leverage  conviction  \n",
       "0   0.0651      1.0000  1.4823    0.0212         inf  \n",
       "1   0.0846      0.9750  8.9895    0.0752     35.6616  \n",
       "2   0.0846      0.9750  8.3236    0.0744     35.3145  \n",
       "3   0.0694      0.9697  8.2783    0.0610     29.1345  \n",
       "4   0.0694      0.9697  8.9406    0.0617     29.4208  "
      ]
     },
     "execution_count": 7,
     "metadata": {},
     "output_type": "execute_result"
    }
   ],
   "source": [
    "model1.head()"
   ]
  },
  {
   "cell_type": "markdown",
   "metadata": {},
   "source": [
    "#### Setup with `ignore_items`"
   ]
  },
  {
   "cell_type": "code",
   "execution_count": 8,
   "metadata": {},
   "outputs": [
    {
     "data": {
      "text/html": [
       "<style type=\"text/css\">\n",
       "</style>\n",
       "<table id=\"T_75a0b\">\n",
       "  <thead>\n",
       "    <tr>\n",
       "      <th id=\"T_75a0b_level0_col0\" class=\"col_heading level0 col0\" >Description</th>\n",
       "      <th id=\"T_75a0b_level0_col1\" class=\"col_heading level0 col1\" >Value</th>\n",
       "    </tr>\n",
       "  </thead>\n",
       "  <tbody>\n",
       "    <tr>\n",
       "      <td id=\"T_75a0b_row0_col0\" class=\"data row0 col0\" >session_id</td>\n",
       "      <td id=\"T_75a0b_row0_col1\" class=\"data row0 col1\" >1696</td>\n",
       "    </tr>\n",
       "    <tr>\n",
       "      <td id=\"T_75a0b_row1_col0\" class=\"data row1 col0\" ># Transactions</td>\n",
       "      <td id=\"T_75a0b_row1_col1\" class=\"data row1 col1\" >461</td>\n",
       "    </tr>\n",
       "    <tr>\n",
       "      <td id=\"T_75a0b_row2_col0\" class=\"data row2 col0\" ># Items</td>\n",
       "      <td id=\"T_75a0b_row2_col1\" class=\"data row2 col1\" >1565</td>\n",
       "    </tr>\n",
       "    <tr>\n",
       "      <td id=\"T_75a0b_row3_col0\" class=\"data row3 col0\" >Ignore Items</td>\n",
       "      <td id=\"T_75a0b_row3_col1\" class=\"data row3 col1\" >['POSTAGE']</td>\n",
       "    </tr>\n",
       "  </tbody>\n",
       "</table>\n"
      ],
      "text/plain": [
       "<pandas.io.formats.style.Styler at 0x1cbaee07430>"
      ]
     },
     "metadata": {},
     "output_type": "display_data"
    }
   ],
   "source": [
    "exp_aru = setup(data = data, \n",
    "                    transaction_id = 'InvoiceNo',\n",
    "                    item_id = 'Description',\n",
    "                    ignore_items = ['POSTAGE'])"
   ]
  },
  {
   "cell_type": "code",
   "execution_count": 9,
   "metadata": {},
   "outputs": [],
   "source": [
    "model2 = create_model()"
   ]
  },
  {
   "cell_type": "code",
   "execution_count": 10,
   "metadata": {},
   "outputs": [
    {
     "name": "stdout",
     "output_type": "stream",
     "text": [
      "(45, 9)\n"
     ]
    }
   ],
   "source": [
    "print(model2.shape)"
   ]
  },
  {
   "cell_type": "code",
   "execution_count": 11,
   "metadata": {},
   "outputs": [
    {
     "data": {
      "text/html": [
       "<div>\n",
       "<style scoped>\n",
       "    .dataframe tbody tr th:only-of-type {\n",
       "        vertical-align: middle;\n",
       "    }\n",
       "\n",
       "    .dataframe tbody tr th {\n",
       "        vertical-align: top;\n",
       "    }\n",
       "\n",
       "    .dataframe thead th {\n",
       "        text-align: right;\n",
       "    }\n",
       "</style>\n",
       "<table border=\"1\" class=\"dataframe\">\n",
       "  <thead>\n",
       "    <tr style=\"text-align: right;\">\n",
       "      <th></th>\n",
       "      <th>antecedents</th>\n",
       "      <th>consequents</th>\n",
       "      <th>antecedent support</th>\n",
       "      <th>consequent support</th>\n",
       "      <th>support</th>\n",
       "      <th>confidence</th>\n",
       "      <th>lift</th>\n",
       "      <th>leverage</th>\n",
       "      <th>conviction</th>\n",
       "    </tr>\n",
       "  </thead>\n",
       "  <tbody>\n",
       "    <tr>\n",
       "      <th>0</th>\n",
       "      <td>(SET/20 RED RETROSPOT PAPER NAPKINS , SET/6 RE...</td>\n",
       "      <td>(SET/6 RED SPOTTY PAPER CUPS)</td>\n",
       "      <td>0.0868</td>\n",
       "      <td>0.1171</td>\n",
       "      <td>0.0846</td>\n",
       "      <td>0.9750</td>\n",
       "      <td>8.3236</td>\n",
       "      <td>0.0744</td>\n",
       "      <td>35.3145</td>\n",
       "    </tr>\n",
       "    <tr>\n",
       "      <th>1</th>\n",
       "      <td>(SET/6 RED SPOTTY PAPER CUPS, SET/20 RED RETRO...</td>\n",
       "      <td>(SET/6 RED SPOTTY PAPER PLATES)</td>\n",
       "      <td>0.0868</td>\n",
       "      <td>0.1085</td>\n",
       "      <td>0.0846</td>\n",
       "      <td>0.9750</td>\n",
       "      <td>8.9895</td>\n",
       "      <td>0.0752</td>\n",
       "      <td>35.6616</td>\n",
       "    </tr>\n",
       "    <tr>\n",
       "      <th>2</th>\n",
       "      <td>(SET/6 RED SPOTTY PAPER PLATES)</td>\n",
       "      <td>(SET/6 RED SPOTTY PAPER CUPS)</td>\n",
       "      <td>0.1085</td>\n",
       "      <td>0.1171</td>\n",
       "      <td>0.1041</td>\n",
       "      <td>0.9600</td>\n",
       "      <td>8.1956</td>\n",
       "      <td>0.0914</td>\n",
       "      <td>22.0716</td>\n",
       "    </tr>\n",
       "    <tr>\n",
       "      <th>3</th>\n",
       "      <td>(CHILDRENS CUTLERY SPACEBOY )</td>\n",
       "      <td>(CHILDRENS CUTLERY DOLLY GIRL )</td>\n",
       "      <td>0.0586</td>\n",
       "      <td>0.0629</td>\n",
       "      <td>0.0542</td>\n",
       "      <td>0.9259</td>\n",
       "      <td>14.7190</td>\n",
       "      <td>0.0505</td>\n",
       "      <td>12.6508</td>\n",
       "    </tr>\n",
       "    <tr>\n",
       "      <th>4</th>\n",
       "      <td>(SET/6 RED SPOTTY PAPER CUPS)</td>\n",
       "      <td>(SET/6 RED SPOTTY PAPER PLATES)</td>\n",
       "      <td>0.1171</td>\n",
       "      <td>0.1085</td>\n",
       "      <td>0.1041</td>\n",
       "      <td>0.8889</td>\n",
       "      <td>8.1956</td>\n",
       "      <td>0.0914</td>\n",
       "      <td>8.0239</td>\n",
       "    </tr>\n",
       "  </tbody>\n",
       "</table>\n",
       "</div>"
      ],
      "text/plain": [
       "                                         antecedents  \\\n",
       "0  (SET/20 RED RETROSPOT PAPER NAPKINS , SET/6 RE...   \n",
       "1  (SET/6 RED SPOTTY PAPER CUPS, SET/20 RED RETRO...   \n",
       "2                    (SET/6 RED SPOTTY PAPER PLATES)   \n",
       "3                      (CHILDRENS CUTLERY SPACEBOY )   \n",
       "4                      (SET/6 RED SPOTTY PAPER CUPS)   \n",
       "\n",
       "                       consequents  antecedent support  consequent support  \\\n",
       "0    (SET/6 RED SPOTTY PAPER CUPS)              0.0868              0.1171   \n",
       "1  (SET/6 RED SPOTTY PAPER PLATES)              0.0868              0.1085   \n",
       "2    (SET/6 RED SPOTTY PAPER CUPS)              0.1085              0.1171   \n",
       "3  (CHILDRENS CUTLERY DOLLY GIRL )              0.0586              0.0629   \n",
       "4  (SET/6 RED SPOTTY PAPER PLATES)              0.1171              0.1085   \n",
       "\n",
       "   support  confidence     lift  leverage  conviction  \n",
       "0   0.0846      0.9750   8.3236    0.0744     35.3145  \n",
       "1   0.0846      0.9750   8.9895    0.0752     35.6616  \n",
       "2   0.1041      0.9600   8.1956    0.0914     22.0716  \n",
       "3   0.0542      0.9259  14.7190    0.0505     12.6508  \n",
       "4   0.1041      0.8889   8.1956    0.0914      8.0239  "
      ]
     },
     "execution_count": 11,
     "metadata": {},
     "output_type": "execute_result"
    }
   ],
   "source": [
    "model2.head()"
   ]
  },
  {
   "cell_type": "markdown",
   "metadata": {},
   "source": [
    "### 4. Plot Model"
   ]
  },
  {
   "cell_type": "code",
   "execution_count": 12,
   "metadata": {},
   "outputs": [
    {
     "data": {
      "text/html": [
       "        <script type=\"text/javascript\">\n",
       "        window.PlotlyConfig = {MathJaxConfig: 'local'};\n",
       "        if (window.MathJax && window.MathJax.Hub && window.MathJax.Hub.Config) {window.MathJax.Hub.Config({SVG: {font: \"STIX-Web\"}});}\n",
       "        if (typeof require !== 'undefined') {\n",
       "        require.undef(\"plotly\");\n",
       "        requirejs.config({\n",
       "            paths: {\n",
       "                'plotly': ['https://cdn.plot.ly/plotly-2.14.0.min']\n",
       "            }\n",
       "        });\n",
       "        require(['plotly'], function(Plotly) {\n",
       "            window._Plotly = Plotly;\n",
       "        });\n",
       "        }\n",
       "        </script>\n",
       "        "
      ]
     },
     "metadata": {},
     "output_type": "display_data"
    },
    {
     "data": {
      "application/vnd.plotly.v1+json": {
       "config": {
        "plotlyServerURL": "https://plot.ly"
       },
       "data": [
        {
         "customdata": [
          [
           [
            "SET/20 RED RETROSPOT PAPER NAPKINS ",
            "SET/6 RED SPOTTY PAPER PLATES"
           ],
           [
            "SET/6 RED SPOTTY PAPER CUPS"
           ]
          ],
          [
           [
            "SET/6 RED SPOTTY PAPER CUPS",
            "SET/20 RED RETROSPOT PAPER NAPKINS "
           ],
           [
            "SET/6 RED SPOTTY PAPER PLATES"
           ]
          ],
          [
           [
            "SET/6 RED SPOTTY PAPER PLATES"
           ],
           [
            "SET/6 RED SPOTTY PAPER CUPS"
           ]
          ],
          [
           [
            "CHILDRENS CUTLERY SPACEBOY "
           ],
           [
            "CHILDRENS CUTLERY DOLLY GIRL "
           ]
          ],
          [
           [
            "SET/6 RED SPOTTY PAPER CUPS"
           ],
           [
            "SET/6 RED SPOTTY PAPER PLATES"
           ]
          ],
          [
           [
            "CHILDRENS CUTLERY DOLLY GIRL "
           ],
           [
            "CHILDRENS CUTLERY SPACEBOY "
           ]
          ],
          [
           [
            "ALARM CLOCK BAKELIKE PINK",
            "ALARM CLOCK BAKELIKE GREEN"
           ],
           [
            "ALARM CLOCK BAKELIKE RED "
           ]
          ],
          [
           [
            "ALARM CLOCK BAKELIKE PINK",
            "ALARM CLOCK BAKELIKE RED "
           ],
           [
            "ALARM CLOCK BAKELIKE GREEN"
           ]
          ],
          [
           [
            "ALARM CLOCK BAKELIKE RED "
           ],
           [
            "ALARM CLOCK BAKELIKE GREEN"
           ]
          ],
          [
           [
            "SET/6 RED SPOTTY PAPER CUPS",
            "SET/6 RED SPOTTY PAPER PLATES"
           ],
           [
            "SET/20 RED RETROSPOT PAPER NAPKINS "
           ]
          ],
          [
           [
            "ALARM CLOCK BAKELIKE RED ",
            "ALARM CLOCK BAKELIKE GREEN"
           ],
           [
            "ALARM CLOCK BAKELIKE PINK"
           ]
          ],
          [
           [
            "SET/6 RED SPOTTY PAPER PLATES"
           ],
           [
            "SET/20 RED RETROSPOT PAPER NAPKINS "
           ]
          ],
          [
           [
            "ALARM CLOCK BAKELIKE GREEN"
           ],
           [
            "ALARM CLOCK BAKELIKE RED "
           ]
          ],
          [
           [
            "ALARM CLOCK BAKELIKE RED "
           ],
           [
            "ALARM CLOCK BAKELIKE PINK"
           ]
          ],
          [
           [
            "SET/6 RED SPOTTY PAPER PLATES"
           ],
           [
            "SET/6 RED SPOTTY PAPER CUPS",
            "SET/20 RED RETROSPOT PAPER NAPKINS "
           ]
          ],
          [
           [
            "SET/20 RED RETROSPOT PAPER NAPKINS "
           ],
           [
            "SET/6 RED SPOTTY PAPER CUPS"
           ]
          ],
          [
           [
            "SET/20 RED RETROSPOT PAPER NAPKINS "
           ],
           [
            "SET/6 RED SPOTTY PAPER PLATES"
           ]
          ],
          [
           [
            "PLASTERS IN TIN CIRCUS PARADE ",
            "PLASTERS IN TIN SPACEBOY"
           ],
           [
            "PLASTERS IN TIN WOODLAND ANIMALS"
           ]
          ],
          [
           [
            "SET/20 RED RETROSPOT PAPER NAPKINS "
           ],
           [
            "SET/6 RED SPOTTY PAPER CUPS",
            "SET/6 RED SPOTTY PAPER PLATES"
           ]
          ],
          [
           [
            "PLASTERS IN TIN SPACEBOY"
           ],
           [
            "PLASTERS IN TIN WOODLAND ANIMALS"
           ]
          ],
          [
           [
            "ALARM CLOCK BAKELIKE GREEN"
           ],
           [
            "ALARM CLOCK BAKELIKE PINK"
           ]
          ],
          [
           [
            "SET/6 RED SPOTTY PAPER CUPS"
           ],
           [
            "SET/20 RED RETROSPOT PAPER NAPKINS "
           ]
          ],
          [
           [
            "ALARM CLOCK BAKELIKE PINK"
           ],
           [
            "ALARM CLOCK BAKELIKE GREEN"
           ]
          ],
          [
           [
            "ALARM CLOCK BAKELIKE PINK"
           ],
           [
            "ALARM CLOCK BAKELIKE RED "
           ]
          ],
          [
           [
            "SET/6 RED SPOTTY PAPER CUPS"
           ],
           [
            "SET/20 RED RETROSPOT PAPER NAPKINS ",
            "SET/6 RED SPOTTY PAPER PLATES"
           ]
          ],
          [
           [
            "DOLLY GIRL LUNCH BOX"
           ],
           [
            "SPACEBOY LUNCH BOX "
           ]
          ],
          [
           [
            "ALARM CLOCK BAKELIKE RED "
           ],
           [
            "ALARM CLOCK BAKELIKE PINK",
            "ALARM CLOCK BAKELIKE GREEN"
           ]
          ],
          [
           [
            "PLASTERS IN TIN CIRCUS PARADE ",
            "PLASTERS IN TIN WOODLAND ANIMALS"
           ],
           [
            "PLASTERS IN TIN SPACEBOY"
           ]
          ],
          [
           [
            "PLASTERS IN TIN SPACEBOY",
            "PLASTERS IN TIN WOODLAND ANIMALS"
           ],
           [
            "PLASTERS IN TIN CIRCUS PARADE "
           ]
          ],
          [
           [
            "PLASTERS IN TIN SPACEBOY"
           ],
           [
            "PLASTERS IN TIN CIRCUS PARADE "
           ]
          ],
          [
           [
            "ALARM CLOCK BAKELIKE GREEN"
           ],
           [
            "ALARM CLOCK BAKELIKE PINK",
            "ALARM CLOCK BAKELIKE RED "
           ]
          ],
          [
           [
            "ALARM CLOCK BAKELIKE PINK"
           ],
           [
            "ALARM CLOCK BAKELIKE RED ",
            "ALARM CLOCK BAKELIKE GREEN"
           ]
          ],
          [
           [
            "PLASTERS IN TIN WOODLAND ANIMALS"
           ],
           [
            "PLASTERS IN TIN SPACEBOY"
           ]
          ],
          [
           [
            "PLASTERS IN TIN WOODLAND ANIMALS"
           ],
           [
            "PLASTERS IN TIN CIRCUS PARADE "
           ]
          ],
          [
           [
            "PLASTERS IN TIN CIRCUS PARADE "
           ],
           [
            "PLASTERS IN TIN WOODLAND ANIMALS"
           ]
          ],
          [
           [
            "ROUND SNACK BOXES SET OF 4 FRUITS "
           ],
           [
            "ROUND SNACK BOXES SET OF4 WOODLAND "
           ]
          ],
          [
           [
            "SPACEBOY LUNCH BOX "
           ],
           [
            "DOLLY GIRL LUNCH BOX"
           ]
          ],
          [
           [
            "LUNCH BAG WOODLAND"
           ],
           [
            "LUNCH BAG SPACEBOY DESIGN "
           ]
          ],
          [
           [
            "LUNCH BAG SPACEBOY DESIGN "
           ],
           [
            "LUNCH BAG RED RETROSPOT"
           ]
          ],
          [
           [
            "LUNCH BAG SPACEBOY DESIGN "
           ],
           [
            "LUNCH BAG APPLE DESIGN"
           ]
          ],
          [
           [
            "LUNCH BAG SPACEBOY DESIGN "
           ],
           [
            "LUNCH BAG WOODLAND"
           ]
          ],
          [
           [
            "PLASTERS IN TIN CIRCUS PARADE "
           ],
           [
            "PLASTERS IN TIN SPACEBOY"
           ]
          ],
          [
           [
            "STRAWBERRY LUNCH BOX WITH CUTLERY"
           ],
           [
            "LUNCH BOX WITH CUTLERY RETROSPOT "
           ]
          ],
          [
           [
            "LUNCH BAG APPLE DESIGN"
           ],
           [
            "LUNCH BAG SPACEBOY DESIGN "
           ]
          ],
          [
           [
            "LUNCH BAG APPLE DESIGN"
           ],
           [
            "LUNCH BAG RED RETROSPOT"
           ]
          ]
         ],
         "hovertemplate": "support=%{x}<br>confidence=%{y}<br>antecedents_short=%{text}<br>antecedents=%{customdata[0]}<br>consequents=%{customdata[1]}<br>lift=%{marker.color}<extra></extra>",
         "legendgroup": "",
         "marker": {
          "color": [
           8.3236,
           8.9895,
           8.1956,
           14.719,
           8.1956,
           14.719,
           10.7409,
           10.1901,
           9.9037,
           7.2031,
           9.2944,
           7.0923,
           9.9037,
           9.0331,
           8.9895,
           6.567,
           7.0923,
           5.1604,
           7.2031,
           5.1292,
           8.5699,
           6.567,
           8.5699,
           9.0331,
           8.3236,
           6.5857,
           10.7409,
           5.6577,
           4.4645,
           4.4374,
           10.1901,
           9.2944,
           5.1292,
           4.0474,
           4.0474,
           4.1879,
           6.5857,
           5.3129,
           4.0936,
           4.9942,
           5.3129,
           4.4374,
           4.2124,
           4.9942,
           3.9298
          ],
          "coloraxis": "coloraxis",
          "opacity": 0.5,
          "symbol": "circle"
         },
         "mode": "markers+text",
         "name": "",
         "orientation": "v",
         "showlegend": false,
         "text": [
          [
           "SET/20 RED RETROSPOT PAPER NAPKINS ",
           "SET/6 RED SPOTTY PAPER PLATES"
          ],
          [
           "SET/6 RED SPOTTY PAPER CUPS",
           "SET/20 RED RETROSPOT PAPER NAPKINS "
          ],
          [
           "SET/6 RED SPOTTY PAPER PLATES"
          ],
          [
           "CHILDRENS CUTLERY SPACEBOY "
          ],
          [
           "SET/6 RED SPOTTY PAPER CUPS"
          ],
          [
           "CHILDRENS CUTLERY DOLLY GIRL "
          ],
          [
           "ALARM CLOCK BAKELIKE PINK",
           "ALARM CLOCK BAKELIKE GREEN"
          ],
          [
           "ALARM CLOCK BAKELIKE PINK",
           "ALARM CLOCK BAKELIKE RED "
          ],
          [
           "ALARM CLOCK BAKELIKE RED "
          ],
          [
           "SET/6 RED SPOTTY PAPER CUPS",
           "SET/6 RED SPOTTY PAPER PLATES"
          ],
          [
           "ALARM CLOCK BAKELIKE RED ",
           "ALARM CLOCK BAKELIKE GREEN"
          ],
          [
           "SET/6 RED SPOTTY PAPER PLATES"
          ],
          [
           "ALARM CLOCK BAKELIKE GREEN"
          ],
          [
           "ALARM CLOCK BAKELIKE RED "
          ],
          [
           "SET/6 RED SPOTTY PAPER PLATES"
          ],
          [
           "SET/20 RED RETROSPOT PAPER NAPKINS "
          ],
          [
           "SET/20 RED RETROSPOT PAPER NAPKINS "
          ],
          [
           "PLASTERS IN TIN CIRCUS PARADE ",
           "PLASTERS IN TIN SPACEBOY"
          ],
          [
           "SET/20 RED RETROSPOT PAPER NAPKINS "
          ],
          [
           "PLASTERS IN TIN SPACEBOY"
          ],
          [
           "ALARM CLOCK BAKELIKE GREEN"
          ],
          [
           "SET/6 RED SPOTTY PAPER CUPS"
          ],
          [
           "ALARM CLOCK BAKELIKE PINK"
          ],
          [
           "ALARM CLOCK BAKELIKE PINK"
          ],
          [
           "SET/6 RED SPOTTY PAPER CUPS"
          ],
          [
           "DOLLY GIRL LUNCH BOX"
          ],
          [
           "ALARM CLOCK BAKELIKE RED "
          ],
          [
           "PLASTERS IN TIN CIRCUS PARADE ",
           "PLASTERS IN TIN WOODLAND ANIMALS"
          ],
          [
           "PLASTERS IN TIN SPACEBOY",
           "PLASTERS IN TIN WOODLAND ANIMALS"
          ],
          [
           "PLASTERS IN TIN SPACEBOY"
          ],
          [
           "ALARM CLOCK BAKELIKE GREEN"
          ],
          [
           "ALARM CLOCK BAKELIKE PINK"
          ],
          [
           "PLASTERS IN TIN WOODLAND ANIMALS"
          ],
          [
           "PLASTERS IN TIN WOODLAND ANIMALS"
          ],
          [
           "PLASTERS IN TIN CIRCUS PARADE "
          ],
          [
           "ROUND SNACK BOXES SET OF 4 FRUITS "
          ],
          [
           "SPACEBOY LUNCH BOX "
          ],
          [
           "LUNCH BAG WOODLAND"
          ],
          [
           "LUNCH BAG SPACEBOY DESIGN "
          ],
          [
           "LUNCH BAG SPACEBOY DESIGN "
          ],
          [
           "LUNCH BAG SPACEBOY DESIGN "
          ],
          [
           "PLASTERS IN TIN CIRCUS PARADE "
          ],
          [
           "STRAWBERRY LUNCH BOX WITH CUTLERY"
          ],
          [
           "LUNCH BAG APPLE DESIGN"
          ],
          [
           "LUNCH BAG APPLE DESIGN"
          ]
         ],
         "textposition": "top center",
         "type": "scatter",
         "x": [
          0.0846,
          0.0846,
          0.1041,
          0.0542,
          0.1041,
          0.0542,
          0.0542,
          0.0542,
          0.0672,
          0.0846,
          0.0542,
          0.0868,
          0.0672,
          0.0629,
          0.0846,
          0.0868,
          0.0868,
          0.0586,
          0.0846,
          0.0889,
          0.0629,
          0.0868,
          0.0629,
          0.0629,
          0.0846,
          0.0607,
          0.0542,
          0.0586,
          0.0586,
          0.0781,
          0.0542,
          0.0542,
          0.0889,
          0.0868,
          0.0868,
          0.0542,
          0.0607,
          0.0564,
          0.0564,
          0.0564,
          0.0564,
          0.0781,
          0.0542,
          0.0564,
          0.0564
         ],
         "xaxis": "x",
         "y": [
          0.975,
          0.975,
          0.96,
          0.9259,
          0.8889,
          0.8621,
          0.8621,
          0.8621,
          0.8378,
          0.8125,
          0.8065,
          0.8,
          0.7949,
          0.7838,
          0.78,
          0.7692,
          0.7692,
          0.75,
          0.75,
          0.7455,
          0.7436,
          0.7407,
          0.725,
          0.725,
          0.7222,
          0.7,
          0.6757,
          0.675,
          0.6585,
          0.6545,
          0.641,
          0.625,
          0.6119,
          0.597,
          0.5882,
          0.5814,
          0.5714,
          0.5532,
          0.5417,
          0.5417,
          0.5417,
          0.5294,
          0.5208,
          0.52,
          0.52
         ],
         "yaxis": "y"
        }
       ],
       "layout": {
        "coloraxis": {
         "colorbar": {
          "title": {
           "text": "lift"
          }
         },
         "colorscale": [
          [
           0,
           "#0d0887"
          ],
          [
           0.1111111111111111,
           "#46039f"
          ],
          [
           0.2222222222222222,
           "#7201a8"
          ],
          [
           0.3333333333333333,
           "#9c179e"
          ],
          [
           0.4444444444444444,
           "#bd3786"
          ],
          [
           0.5555555555555556,
           "#d8576b"
          ],
          [
           0.6666666666666666,
           "#ed7953"
          ],
          [
           0.7777777777777778,
           "#fb9f3a"
          ],
          [
           0.8888888888888888,
           "#fdca26"
          ],
          [
           1,
           "#f0f921"
          ]
         ]
        },
        "height": 800,
        "legend": {
         "tracegroupgap": 0
        },
        "margin": {
         "t": 60
        },
        "plot_bgcolor": "rgb(240,240,240)",
        "template": {
         "data": {
          "bar": [
           {
            "error_x": {
             "color": "#2a3f5f"
            },
            "error_y": {
             "color": "#2a3f5f"
            },
            "marker": {
             "line": {
              "color": "#E5ECF6",
              "width": 0.5
             },
             "pattern": {
              "fillmode": "overlay",
              "size": 10,
              "solidity": 0.2
             }
            },
            "type": "bar"
           }
          ],
          "barpolar": [
           {
            "marker": {
             "line": {
              "color": "#E5ECF6",
              "width": 0.5
             },
             "pattern": {
              "fillmode": "overlay",
              "size": 10,
              "solidity": 0.2
             }
            },
            "type": "barpolar"
           }
          ],
          "carpet": [
           {
            "aaxis": {
             "endlinecolor": "#2a3f5f",
             "gridcolor": "white",
             "linecolor": "white",
             "minorgridcolor": "white",
             "startlinecolor": "#2a3f5f"
            },
            "baxis": {
             "endlinecolor": "#2a3f5f",
             "gridcolor": "white",
             "linecolor": "white",
             "minorgridcolor": "white",
             "startlinecolor": "#2a3f5f"
            },
            "type": "carpet"
           }
          ],
          "choropleth": [
           {
            "colorbar": {
             "outlinewidth": 0,
             "ticks": ""
            },
            "type": "choropleth"
           }
          ],
          "contour": [
           {
            "colorbar": {
             "outlinewidth": 0,
             "ticks": ""
            },
            "colorscale": [
             [
              0,
              "#0d0887"
             ],
             [
              0.1111111111111111,
              "#46039f"
             ],
             [
              0.2222222222222222,
              "#7201a8"
             ],
             [
              0.3333333333333333,
              "#9c179e"
             ],
             [
              0.4444444444444444,
              "#bd3786"
             ],
             [
              0.5555555555555556,
              "#d8576b"
             ],
             [
              0.6666666666666666,
              "#ed7953"
             ],
             [
              0.7777777777777778,
              "#fb9f3a"
             ],
             [
              0.8888888888888888,
              "#fdca26"
             ],
             [
              1,
              "#f0f921"
             ]
            ],
            "type": "contour"
           }
          ],
          "contourcarpet": [
           {
            "colorbar": {
             "outlinewidth": 0,
             "ticks": ""
            },
            "type": "contourcarpet"
           }
          ],
          "heatmap": [
           {
            "colorbar": {
             "outlinewidth": 0,
             "ticks": ""
            },
            "colorscale": [
             [
              0,
              "#0d0887"
             ],
             [
              0.1111111111111111,
              "#46039f"
             ],
             [
              0.2222222222222222,
              "#7201a8"
             ],
             [
              0.3333333333333333,
              "#9c179e"
             ],
             [
              0.4444444444444444,
              "#bd3786"
             ],
             [
              0.5555555555555556,
              "#d8576b"
             ],
             [
              0.6666666666666666,
              "#ed7953"
             ],
             [
              0.7777777777777778,
              "#fb9f3a"
             ],
             [
              0.8888888888888888,
              "#fdca26"
             ],
             [
              1,
              "#f0f921"
             ]
            ],
            "type": "heatmap"
           }
          ],
          "heatmapgl": [
           {
            "colorbar": {
             "outlinewidth": 0,
             "ticks": ""
            },
            "colorscale": [
             [
              0,
              "#0d0887"
             ],
             [
              0.1111111111111111,
              "#46039f"
             ],
             [
              0.2222222222222222,
              "#7201a8"
             ],
             [
              0.3333333333333333,
              "#9c179e"
             ],
             [
              0.4444444444444444,
              "#bd3786"
             ],
             [
              0.5555555555555556,
              "#d8576b"
             ],
             [
              0.6666666666666666,
              "#ed7953"
             ],
             [
              0.7777777777777778,
              "#fb9f3a"
             ],
             [
              0.8888888888888888,
              "#fdca26"
             ],
             [
              1,
              "#f0f921"
             ]
            ],
            "type": "heatmapgl"
           }
          ],
          "histogram": [
           {
            "marker": {
             "pattern": {
              "fillmode": "overlay",
              "size": 10,
              "solidity": 0.2
             }
            },
            "type": "histogram"
           }
          ],
          "histogram2d": [
           {
            "colorbar": {
             "outlinewidth": 0,
             "ticks": ""
            },
            "colorscale": [
             [
              0,
              "#0d0887"
             ],
             [
              0.1111111111111111,
              "#46039f"
             ],
             [
              0.2222222222222222,
              "#7201a8"
             ],
             [
              0.3333333333333333,
              "#9c179e"
             ],
             [
              0.4444444444444444,
              "#bd3786"
             ],
             [
              0.5555555555555556,
              "#d8576b"
             ],
             [
              0.6666666666666666,
              "#ed7953"
             ],
             [
              0.7777777777777778,
              "#fb9f3a"
             ],
             [
              0.8888888888888888,
              "#fdca26"
             ],
             [
              1,
              "#f0f921"
             ]
            ],
            "type": "histogram2d"
           }
          ],
          "histogram2dcontour": [
           {
            "colorbar": {
             "outlinewidth": 0,
             "ticks": ""
            },
            "colorscale": [
             [
              0,
              "#0d0887"
             ],
             [
              0.1111111111111111,
              "#46039f"
             ],
             [
              0.2222222222222222,
              "#7201a8"
             ],
             [
              0.3333333333333333,
              "#9c179e"
             ],
             [
              0.4444444444444444,
              "#bd3786"
             ],
             [
              0.5555555555555556,
              "#d8576b"
             ],
             [
              0.6666666666666666,
              "#ed7953"
             ],
             [
              0.7777777777777778,
              "#fb9f3a"
             ],
             [
              0.8888888888888888,
              "#fdca26"
             ],
             [
              1,
              "#f0f921"
             ]
            ],
            "type": "histogram2dcontour"
           }
          ],
          "mesh3d": [
           {
            "colorbar": {
             "outlinewidth": 0,
             "ticks": ""
            },
            "type": "mesh3d"
           }
          ],
          "parcoords": [
           {
            "line": {
             "colorbar": {
              "outlinewidth": 0,
              "ticks": ""
             }
            },
            "type": "parcoords"
           }
          ],
          "pie": [
           {
            "automargin": true,
            "type": "pie"
           }
          ],
          "scatter": [
           {
            "fillpattern": {
             "fillmode": "overlay",
             "size": 10,
             "solidity": 0.2
            },
            "type": "scatter"
           }
          ],
          "scatter3d": [
           {
            "line": {
             "colorbar": {
              "outlinewidth": 0,
              "ticks": ""
             }
            },
            "marker": {
             "colorbar": {
              "outlinewidth": 0,
              "ticks": ""
             }
            },
            "type": "scatter3d"
           }
          ],
          "scattercarpet": [
           {
            "marker": {
             "colorbar": {
              "outlinewidth": 0,
              "ticks": ""
             }
            },
            "type": "scattercarpet"
           }
          ],
          "scattergeo": [
           {
            "marker": {
             "colorbar": {
              "outlinewidth": 0,
              "ticks": ""
             }
            },
            "type": "scattergeo"
           }
          ],
          "scattergl": [
           {
            "marker": {
             "colorbar": {
              "outlinewidth": 0,
              "ticks": ""
             }
            },
            "type": "scattergl"
           }
          ],
          "scattermapbox": [
           {
            "marker": {
             "colorbar": {
              "outlinewidth": 0,
              "ticks": ""
             }
            },
            "type": "scattermapbox"
           }
          ],
          "scatterpolar": [
           {
            "marker": {
             "colorbar": {
              "outlinewidth": 0,
              "ticks": ""
             }
            },
            "type": "scatterpolar"
           }
          ],
          "scatterpolargl": [
           {
            "marker": {
             "colorbar": {
              "outlinewidth": 0,
              "ticks": ""
             }
            },
            "type": "scatterpolargl"
           }
          ],
          "scatterternary": [
           {
            "marker": {
             "colorbar": {
              "outlinewidth": 0,
              "ticks": ""
             }
            },
            "type": "scatterternary"
           }
          ],
          "surface": [
           {
            "colorbar": {
             "outlinewidth": 0,
             "ticks": ""
            },
            "colorscale": [
             [
              0,
              "#0d0887"
             ],
             [
              0.1111111111111111,
              "#46039f"
             ],
             [
              0.2222222222222222,
              "#7201a8"
             ],
             [
              0.3333333333333333,
              "#9c179e"
             ],
             [
              0.4444444444444444,
              "#bd3786"
             ],
             [
              0.5555555555555556,
              "#d8576b"
             ],
             [
              0.6666666666666666,
              "#ed7953"
             ],
             [
              0.7777777777777778,
              "#fb9f3a"
             ],
             [
              0.8888888888888888,
              "#fdca26"
             ],
             [
              1,
              "#f0f921"
             ]
            ],
            "type": "surface"
           }
          ],
          "table": [
           {
            "cells": {
             "fill": {
              "color": "#EBF0F8"
             },
             "line": {
              "color": "white"
             }
            },
            "header": {
             "fill": {
              "color": "#C8D4E3"
             },
             "line": {
              "color": "white"
             }
            },
            "type": "table"
           }
          ]
         },
         "layout": {
          "annotationdefaults": {
           "arrowcolor": "#2a3f5f",
           "arrowhead": 0,
           "arrowwidth": 1
          },
          "autotypenumbers": "strict",
          "coloraxis": {
           "colorbar": {
            "outlinewidth": 0,
            "ticks": ""
           }
          },
          "colorscale": {
           "diverging": [
            [
             0,
             "#8e0152"
            ],
            [
             0.1,
             "#c51b7d"
            ],
            [
             0.2,
             "#de77ae"
            ],
            [
             0.3,
             "#f1b6da"
            ],
            [
             0.4,
             "#fde0ef"
            ],
            [
             0.5,
             "#f7f7f7"
            ],
            [
             0.6,
             "#e6f5d0"
            ],
            [
             0.7,
             "#b8e186"
            ],
            [
             0.8,
             "#7fbc41"
            ],
            [
             0.9,
             "#4d9221"
            ],
            [
             1,
             "#276419"
            ]
           ],
           "sequential": [
            [
             0,
             "#0d0887"
            ],
            [
             0.1111111111111111,
             "#46039f"
            ],
            [
             0.2222222222222222,
             "#7201a8"
            ],
            [
             0.3333333333333333,
             "#9c179e"
            ],
            [
             0.4444444444444444,
             "#bd3786"
            ],
            [
             0.5555555555555556,
             "#d8576b"
            ],
            [
             0.6666666666666666,
             "#ed7953"
            ],
            [
             0.7777777777777778,
             "#fb9f3a"
            ],
            [
             0.8888888888888888,
             "#fdca26"
            ],
            [
             1,
             "#f0f921"
            ]
           ],
           "sequentialminus": [
            [
             0,
             "#0d0887"
            ],
            [
             0.1111111111111111,
             "#46039f"
            ],
            [
             0.2222222222222222,
             "#7201a8"
            ],
            [
             0.3333333333333333,
             "#9c179e"
            ],
            [
             0.4444444444444444,
             "#bd3786"
            ],
            [
             0.5555555555555556,
             "#d8576b"
            ],
            [
             0.6666666666666666,
             "#ed7953"
            ],
            [
             0.7777777777777778,
             "#fb9f3a"
            ],
            [
             0.8888888888888888,
             "#fdca26"
            ],
            [
             1,
             "#f0f921"
            ]
           ]
          },
          "colorway": [
           "#636efa",
           "#EF553B",
           "#00cc96",
           "#ab63fa",
           "#FFA15A",
           "#19d3f3",
           "#FF6692",
           "#B6E880",
           "#FF97FF",
           "#FECB52"
          ],
          "font": {
           "color": "#2a3f5f"
          },
          "geo": {
           "bgcolor": "white",
           "lakecolor": "white",
           "landcolor": "#E5ECF6",
           "showlakes": true,
           "showland": true,
           "subunitcolor": "white"
          },
          "hoverlabel": {
           "align": "left"
          },
          "hovermode": "closest",
          "mapbox": {
           "style": "light"
          },
          "paper_bgcolor": "white",
          "plot_bgcolor": "#E5ECF6",
          "polar": {
           "angularaxis": {
            "gridcolor": "white",
            "linecolor": "white",
            "ticks": ""
           },
           "bgcolor": "#E5ECF6",
           "radialaxis": {
            "gridcolor": "white",
            "linecolor": "white",
            "ticks": ""
           }
          },
          "scene": {
           "xaxis": {
            "backgroundcolor": "#E5ECF6",
            "gridcolor": "white",
            "gridwidth": 2,
            "linecolor": "white",
            "showbackground": true,
            "ticks": "",
            "zerolinecolor": "white"
           },
           "yaxis": {
            "backgroundcolor": "#E5ECF6",
            "gridcolor": "white",
            "gridwidth": 2,
            "linecolor": "white",
            "showbackground": true,
            "ticks": "",
            "zerolinecolor": "white"
           },
           "zaxis": {
            "backgroundcolor": "#E5ECF6",
            "gridcolor": "white",
            "gridwidth": 2,
            "linecolor": "white",
            "showbackground": true,
            "ticks": "",
            "zerolinecolor": "white"
           }
          },
          "shapedefaults": {
           "line": {
            "color": "#2a3f5f"
           }
          },
          "ternary": {
           "aaxis": {
            "gridcolor": "white",
            "linecolor": "white",
            "ticks": ""
           },
           "baxis": {
            "gridcolor": "white",
            "linecolor": "white",
            "ticks": ""
           },
           "bgcolor": "#E5ECF6",
           "caxis": {
            "gridcolor": "white",
            "linecolor": "white",
            "ticks": ""
           }
          },
          "title": {
           "x": 0.05
          },
          "xaxis": {
           "automargin": true,
           "gridcolor": "white",
           "linecolor": "white",
           "ticks": "",
           "title": {
            "standoff": 15
           },
           "zerolinecolor": "white",
           "zerolinewidth": 2
          },
          "yaxis": {
           "automargin": true,
           "gridcolor": "white",
           "linecolor": "white",
           "ticks": "",
           "title": {
            "standoff": 15
           },
           "zerolinecolor": "white",
           "zerolinewidth": 2
          }
         }
        },
        "title": {
         "text": "2D Plot of Support, Confidence and Lift"
        },
        "xaxis": {
         "anchor": "y",
         "domain": [
          0,
          1
         ],
         "title": {
          "text": "support"
         },
         "type": "log"
        },
        "yaxis": {
         "anchor": "x",
         "domain": [
          0,
          1
         ],
         "title": {
          "text": "confidence"
         }
        }
       }
      },
      "text/html": [
       "<div>                            <div id=\"53825d7f-885c-47b8-9bed-8c9113ad7f13\" class=\"plotly-graph-div\" style=\"height:800px; width:100%;\"></div>            <script type=\"text/javascript\">                require([\"plotly\"], function(Plotly) {                    window.PLOTLYENV=window.PLOTLYENV || {};                                    if (document.getElementById(\"53825d7f-885c-47b8-9bed-8c9113ad7f13\")) {                    Plotly.newPlot(                        \"53825d7f-885c-47b8-9bed-8c9113ad7f13\",                        [{\"customdata\":[[[\"SET/20 RED RETROSPOT PAPER NAPKINS \",\"SET/6 RED SPOTTY PAPER PLATES\"],[\"SET/6 RED SPOTTY PAPER CUPS\"]],[[\"SET/6 RED SPOTTY PAPER CUPS\",\"SET/20 RED RETROSPOT PAPER NAPKINS \"],[\"SET/6 RED SPOTTY PAPER PLATES\"]],[[\"SET/6 RED SPOTTY PAPER PLATES\"],[\"SET/6 RED SPOTTY PAPER CUPS\"]],[[\"CHILDRENS CUTLERY SPACEBOY \"],[\"CHILDRENS CUTLERY DOLLY GIRL \"]],[[\"SET/6 RED SPOTTY PAPER CUPS\"],[\"SET/6 RED SPOTTY PAPER PLATES\"]],[[\"CHILDRENS CUTLERY DOLLY GIRL \"],[\"CHILDRENS CUTLERY SPACEBOY \"]],[[\"ALARM CLOCK BAKELIKE PINK\",\"ALARM CLOCK BAKELIKE GREEN\"],[\"ALARM CLOCK BAKELIKE RED \"]],[[\"ALARM CLOCK BAKELIKE PINK\",\"ALARM CLOCK BAKELIKE RED \"],[\"ALARM CLOCK BAKELIKE GREEN\"]],[[\"ALARM CLOCK BAKELIKE RED \"],[\"ALARM CLOCK BAKELIKE GREEN\"]],[[\"SET/6 RED SPOTTY PAPER CUPS\",\"SET/6 RED SPOTTY PAPER PLATES\"],[\"SET/20 RED RETROSPOT PAPER NAPKINS \"]],[[\"ALARM CLOCK BAKELIKE RED \",\"ALARM CLOCK BAKELIKE GREEN\"],[\"ALARM CLOCK BAKELIKE PINK\"]],[[\"SET/6 RED SPOTTY PAPER PLATES\"],[\"SET/20 RED RETROSPOT PAPER NAPKINS \"]],[[\"ALARM CLOCK BAKELIKE GREEN\"],[\"ALARM CLOCK BAKELIKE RED \"]],[[\"ALARM CLOCK BAKELIKE RED \"],[\"ALARM CLOCK BAKELIKE PINK\"]],[[\"SET/6 RED SPOTTY PAPER PLATES\"],[\"SET/6 RED SPOTTY PAPER CUPS\",\"SET/20 RED RETROSPOT PAPER NAPKINS \"]],[[\"SET/20 RED RETROSPOT PAPER NAPKINS \"],[\"SET/6 RED SPOTTY PAPER CUPS\"]],[[\"SET/20 RED RETROSPOT PAPER NAPKINS \"],[\"SET/6 RED SPOTTY PAPER PLATES\"]],[[\"PLASTERS IN TIN CIRCUS PARADE \",\"PLASTERS IN TIN SPACEBOY\"],[\"PLASTERS IN TIN WOODLAND ANIMALS\"]],[[\"SET/20 RED RETROSPOT PAPER NAPKINS \"],[\"SET/6 RED SPOTTY PAPER CUPS\",\"SET/6 RED SPOTTY PAPER PLATES\"]],[[\"PLASTERS IN TIN SPACEBOY\"],[\"PLASTERS IN TIN WOODLAND ANIMALS\"]],[[\"ALARM CLOCK BAKELIKE GREEN\"],[\"ALARM CLOCK BAKELIKE PINK\"]],[[\"SET/6 RED SPOTTY PAPER CUPS\"],[\"SET/20 RED RETROSPOT PAPER NAPKINS \"]],[[\"ALARM CLOCK BAKELIKE PINK\"],[\"ALARM CLOCK BAKELIKE GREEN\"]],[[\"ALARM CLOCK BAKELIKE PINK\"],[\"ALARM CLOCK BAKELIKE RED \"]],[[\"SET/6 RED SPOTTY PAPER CUPS\"],[\"SET/20 RED RETROSPOT PAPER NAPKINS \",\"SET/6 RED SPOTTY PAPER PLATES\"]],[[\"DOLLY GIRL LUNCH BOX\"],[\"SPACEBOY LUNCH BOX \"]],[[\"ALARM CLOCK BAKELIKE RED \"],[\"ALARM CLOCK BAKELIKE PINK\",\"ALARM CLOCK BAKELIKE GREEN\"]],[[\"PLASTERS IN TIN CIRCUS PARADE \",\"PLASTERS IN TIN WOODLAND ANIMALS\"],[\"PLASTERS IN TIN SPACEBOY\"]],[[\"PLASTERS IN TIN SPACEBOY\",\"PLASTERS IN TIN WOODLAND ANIMALS\"],[\"PLASTERS IN TIN CIRCUS PARADE \"]],[[\"PLASTERS IN TIN SPACEBOY\"],[\"PLASTERS IN TIN CIRCUS PARADE \"]],[[\"ALARM CLOCK BAKELIKE GREEN\"],[\"ALARM CLOCK BAKELIKE PINK\",\"ALARM CLOCK BAKELIKE RED \"]],[[\"ALARM CLOCK BAKELIKE PINK\"],[\"ALARM CLOCK BAKELIKE RED \",\"ALARM CLOCK BAKELIKE GREEN\"]],[[\"PLASTERS IN TIN WOODLAND ANIMALS\"],[\"PLASTERS IN TIN SPACEBOY\"]],[[\"PLASTERS IN TIN WOODLAND ANIMALS\"],[\"PLASTERS IN TIN CIRCUS PARADE \"]],[[\"PLASTERS IN TIN CIRCUS PARADE \"],[\"PLASTERS IN TIN WOODLAND ANIMALS\"]],[[\"ROUND SNACK BOXES SET OF 4 FRUITS \"],[\"ROUND SNACK BOXES SET OF4 WOODLAND \"]],[[\"SPACEBOY LUNCH BOX \"],[\"DOLLY GIRL LUNCH BOX\"]],[[\"LUNCH BAG WOODLAND\"],[\"LUNCH BAG SPACEBOY DESIGN \"]],[[\"LUNCH BAG SPACEBOY DESIGN \"],[\"LUNCH BAG RED RETROSPOT\"]],[[\"LUNCH BAG SPACEBOY DESIGN \"],[\"LUNCH BAG APPLE DESIGN\"]],[[\"LUNCH BAG SPACEBOY DESIGN \"],[\"LUNCH BAG WOODLAND\"]],[[\"PLASTERS IN TIN CIRCUS PARADE \"],[\"PLASTERS IN TIN SPACEBOY\"]],[[\"STRAWBERRY LUNCH BOX WITH CUTLERY\"],[\"LUNCH BOX WITH CUTLERY RETROSPOT \"]],[[\"LUNCH BAG APPLE DESIGN\"],[\"LUNCH BAG SPACEBOY DESIGN \"]],[[\"LUNCH BAG APPLE DESIGN\"],[\"LUNCH BAG RED RETROSPOT\"]]],\"hovertemplate\":\"support=%{x}<br>confidence=%{y}<br>antecedents_short=%{text}<br>antecedents=%{customdata[0]}<br>consequents=%{customdata[1]}<br>lift=%{marker.color}<extra></extra>\",\"legendgroup\":\"\",\"marker\":{\"color\":[8.3236,8.9895,8.1956,14.719,8.1956,14.719,10.7409,10.1901,9.9037,7.2031,9.2944,7.0923,9.9037,9.0331,8.9895,6.567,7.0923,5.1604,7.2031,5.1292,8.5699,6.567,8.5699,9.0331,8.3236,6.5857,10.7409,5.6577,4.4645,4.4374,10.1901,9.2944,5.1292,4.0474,4.0474,4.1879,6.5857,5.3129,4.0936,4.9942,5.3129,4.4374,4.2124,4.9942,3.9298],\"coloraxis\":\"coloraxis\",\"opacity\":0.5,\"symbol\":\"circle\"},\"mode\":\"markers+text\",\"name\":\"\",\"orientation\":\"v\",\"showlegend\":false,\"text\":[[\"SET/20 RED RETROSPOT PAPER NAPKINS \",\"SET/6 RED SPOTTY PAPER PLATES\"],[\"SET/6 RED SPOTTY PAPER CUPS\",\"SET/20 RED RETROSPOT PAPER NAPKINS \"],[\"SET/6 RED SPOTTY PAPER PLATES\"],[\"CHILDRENS CUTLERY SPACEBOY \"],[\"SET/6 RED SPOTTY PAPER CUPS\"],[\"CHILDRENS CUTLERY DOLLY GIRL \"],[\"ALARM CLOCK BAKELIKE PINK\",\"ALARM CLOCK BAKELIKE GREEN\"],[\"ALARM CLOCK BAKELIKE PINK\",\"ALARM CLOCK BAKELIKE RED \"],[\"ALARM CLOCK BAKELIKE RED \"],[\"SET/6 RED SPOTTY PAPER CUPS\",\"SET/6 RED SPOTTY PAPER PLATES\"],[\"ALARM CLOCK BAKELIKE RED \",\"ALARM CLOCK BAKELIKE GREEN\"],[\"SET/6 RED SPOTTY PAPER PLATES\"],[\"ALARM CLOCK BAKELIKE GREEN\"],[\"ALARM CLOCK BAKELIKE RED \"],[\"SET/6 RED SPOTTY PAPER PLATES\"],[\"SET/20 RED RETROSPOT PAPER NAPKINS \"],[\"SET/20 RED RETROSPOT PAPER NAPKINS \"],[\"PLASTERS IN TIN CIRCUS PARADE \",\"PLASTERS IN TIN SPACEBOY\"],[\"SET/20 RED RETROSPOT PAPER NAPKINS \"],[\"PLASTERS IN TIN SPACEBOY\"],[\"ALARM CLOCK BAKELIKE GREEN\"],[\"SET/6 RED SPOTTY PAPER CUPS\"],[\"ALARM CLOCK BAKELIKE PINK\"],[\"ALARM CLOCK BAKELIKE PINK\"],[\"SET/6 RED SPOTTY PAPER CUPS\"],[\"DOLLY GIRL LUNCH BOX\"],[\"ALARM CLOCK BAKELIKE RED \"],[\"PLASTERS IN TIN CIRCUS PARADE \",\"PLASTERS IN TIN WOODLAND ANIMALS\"],[\"PLASTERS IN TIN SPACEBOY\",\"PLASTERS IN TIN WOODLAND ANIMALS\"],[\"PLASTERS IN TIN SPACEBOY\"],[\"ALARM CLOCK BAKELIKE GREEN\"],[\"ALARM CLOCK BAKELIKE PINK\"],[\"PLASTERS IN TIN WOODLAND ANIMALS\"],[\"PLASTERS IN TIN WOODLAND ANIMALS\"],[\"PLASTERS IN TIN CIRCUS PARADE \"],[\"ROUND SNACK BOXES SET OF 4 FRUITS \"],[\"SPACEBOY LUNCH BOX \"],[\"LUNCH BAG WOODLAND\"],[\"LUNCH BAG SPACEBOY DESIGN \"],[\"LUNCH BAG SPACEBOY DESIGN \"],[\"LUNCH BAG SPACEBOY DESIGN \"],[\"PLASTERS IN TIN CIRCUS PARADE \"],[\"STRAWBERRY LUNCH BOX WITH CUTLERY\"],[\"LUNCH BAG APPLE DESIGN\"],[\"LUNCH BAG APPLE DESIGN\"]],\"x\":[0.0846,0.0846,0.1041,0.0542,0.1041,0.0542,0.0542,0.0542,0.0672,0.0846,0.0542,0.0868,0.0672,0.0629,0.0846,0.0868,0.0868,0.0586,0.0846,0.0889,0.0629,0.0868,0.0629,0.0629,0.0846,0.0607,0.0542,0.0586,0.0586,0.0781,0.0542,0.0542,0.0889,0.0868,0.0868,0.0542,0.0607,0.0564,0.0564,0.0564,0.0564,0.0781,0.0542,0.0564,0.0564],\"xaxis\":\"x\",\"y\":[0.975,0.975,0.96,0.9259,0.8889,0.8621,0.8621,0.8621,0.8378,0.8125,0.8065,0.8,0.7949,0.7838,0.78,0.7692,0.7692,0.75,0.75,0.7455,0.7436,0.7407,0.725,0.725,0.7222,0.7,0.6757,0.675,0.6585,0.6545,0.641,0.625,0.6119,0.597,0.5882,0.5814,0.5714,0.5532,0.5417,0.5417,0.5417,0.5294,0.5208,0.52,0.52],\"yaxis\":\"y\",\"type\":\"scatter\",\"textposition\":\"top center\"}],                        {\"template\":{\"data\":{\"histogram2dcontour\":[{\"type\":\"histogram2dcontour\",\"colorbar\":{\"outlinewidth\":0,\"ticks\":\"\"},\"colorscale\":[[0.0,\"#0d0887\"],[0.1111111111111111,\"#46039f\"],[0.2222222222222222,\"#7201a8\"],[0.3333333333333333,\"#9c179e\"],[0.4444444444444444,\"#bd3786\"],[0.5555555555555556,\"#d8576b\"],[0.6666666666666666,\"#ed7953\"],[0.7777777777777778,\"#fb9f3a\"],[0.8888888888888888,\"#fdca26\"],[1.0,\"#f0f921\"]]}],\"choropleth\":[{\"type\":\"choropleth\",\"colorbar\":{\"outlinewidth\":0,\"ticks\":\"\"}}],\"histogram2d\":[{\"type\":\"histogram2d\",\"colorbar\":{\"outlinewidth\":0,\"ticks\":\"\"},\"colorscale\":[[0.0,\"#0d0887\"],[0.1111111111111111,\"#46039f\"],[0.2222222222222222,\"#7201a8\"],[0.3333333333333333,\"#9c179e\"],[0.4444444444444444,\"#bd3786\"],[0.5555555555555556,\"#d8576b\"],[0.6666666666666666,\"#ed7953\"],[0.7777777777777778,\"#fb9f3a\"],[0.8888888888888888,\"#fdca26\"],[1.0,\"#f0f921\"]]}],\"heatmap\":[{\"type\":\"heatmap\",\"colorbar\":{\"outlinewidth\":0,\"ticks\":\"\"},\"colorscale\":[[0.0,\"#0d0887\"],[0.1111111111111111,\"#46039f\"],[0.2222222222222222,\"#7201a8\"],[0.3333333333333333,\"#9c179e\"],[0.4444444444444444,\"#bd3786\"],[0.5555555555555556,\"#d8576b\"],[0.6666666666666666,\"#ed7953\"],[0.7777777777777778,\"#fb9f3a\"],[0.8888888888888888,\"#fdca26\"],[1.0,\"#f0f921\"]]}],\"heatmapgl\":[{\"type\":\"heatmapgl\",\"colorbar\":{\"outlinewidth\":0,\"ticks\":\"\"},\"colorscale\":[[0.0,\"#0d0887\"],[0.1111111111111111,\"#46039f\"],[0.2222222222222222,\"#7201a8\"],[0.3333333333333333,\"#9c179e\"],[0.4444444444444444,\"#bd3786\"],[0.5555555555555556,\"#d8576b\"],[0.6666666666666666,\"#ed7953\"],[0.7777777777777778,\"#fb9f3a\"],[0.8888888888888888,\"#fdca26\"],[1.0,\"#f0f921\"]]}],\"contourcarpet\":[{\"type\":\"contourcarpet\",\"colorbar\":{\"outlinewidth\":0,\"ticks\":\"\"}}],\"contour\":[{\"type\":\"contour\",\"colorbar\":{\"outlinewidth\":0,\"ticks\":\"\"},\"colorscale\":[[0.0,\"#0d0887\"],[0.1111111111111111,\"#46039f\"],[0.2222222222222222,\"#7201a8\"],[0.3333333333333333,\"#9c179e\"],[0.4444444444444444,\"#bd3786\"],[0.5555555555555556,\"#d8576b\"],[0.6666666666666666,\"#ed7953\"],[0.7777777777777778,\"#fb9f3a\"],[0.8888888888888888,\"#fdca26\"],[1.0,\"#f0f921\"]]}],\"surface\":[{\"type\":\"surface\",\"colorbar\":{\"outlinewidth\":0,\"ticks\":\"\"},\"colorscale\":[[0.0,\"#0d0887\"],[0.1111111111111111,\"#46039f\"],[0.2222222222222222,\"#7201a8\"],[0.3333333333333333,\"#9c179e\"],[0.4444444444444444,\"#bd3786\"],[0.5555555555555556,\"#d8576b\"],[0.6666666666666666,\"#ed7953\"],[0.7777777777777778,\"#fb9f3a\"],[0.8888888888888888,\"#fdca26\"],[1.0,\"#f0f921\"]]}],\"mesh3d\":[{\"type\":\"mesh3d\",\"colorbar\":{\"outlinewidth\":0,\"ticks\":\"\"}}],\"scatter\":[{\"fillpattern\":{\"fillmode\":\"overlay\",\"size\":10,\"solidity\":0.2},\"type\":\"scatter\"}],\"parcoords\":[{\"type\":\"parcoords\",\"line\":{\"colorbar\":{\"outlinewidth\":0,\"ticks\":\"\"}}}],\"scatterpolargl\":[{\"type\":\"scatterpolargl\",\"marker\":{\"colorbar\":{\"outlinewidth\":0,\"ticks\":\"\"}}}],\"bar\":[{\"error_x\":{\"color\":\"#2a3f5f\"},\"error_y\":{\"color\":\"#2a3f5f\"},\"marker\":{\"line\":{\"color\":\"#E5ECF6\",\"width\":0.5},\"pattern\":{\"fillmode\":\"overlay\",\"size\":10,\"solidity\":0.2}},\"type\":\"bar\"}],\"scattergeo\":[{\"type\":\"scattergeo\",\"marker\":{\"colorbar\":{\"outlinewidth\":0,\"ticks\":\"\"}}}],\"scatterpolar\":[{\"type\":\"scatterpolar\",\"marker\":{\"colorbar\":{\"outlinewidth\":0,\"ticks\":\"\"}}}],\"histogram\":[{\"marker\":{\"pattern\":{\"fillmode\":\"overlay\",\"size\":10,\"solidity\":0.2}},\"type\":\"histogram\"}],\"scattergl\":[{\"type\":\"scattergl\",\"marker\":{\"colorbar\":{\"outlinewidth\":0,\"ticks\":\"\"}}}],\"scatter3d\":[{\"type\":\"scatter3d\",\"line\":{\"colorbar\":{\"outlinewidth\":0,\"ticks\":\"\"}},\"marker\":{\"colorbar\":{\"outlinewidth\":0,\"ticks\":\"\"}}}],\"scattermapbox\":[{\"type\":\"scattermapbox\",\"marker\":{\"colorbar\":{\"outlinewidth\":0,\"ticks\":\"\"}}}],\"scatterternary\":[{\"type\":\"scatterternary\",\"marker\":{\"colorbar\":{\"outlinewidth\":0,\"ticks\":\"\"}}}],\"scattercarpet\":[{\"type\":\"scattercarpet\",\"marker\":{\"colorbar\":{\"outlinewidth\":0,\"ticks\":\"\"}}}],\"carpet\":[{\"aaxis\":{\"endlinecolor\":\"#2a3f5f\",\"gridcolor\":\"white\",\"linecolor\":\"white\",\"minorgridcolor\":\"white\",\"startlinecolor\":\"#2a3f5f\"},\"baxis\":{\"endlinecolor\":\"#2a3f5f\",\"gridcolor\":\"white\",\"linecolor\":\"white\",\"minorgridcolor\":\"white\",\"startlinecolor\":\"#2a3f5f\"},\"type\":\"carpet\"}],\"table\":[{\"cells\":{\"fill\":{\"color\":\"#EBF0F8\"},\"line\":{\"color\":\"white\"}},\"header\":{\"fill\":{\"color\":\"#C8D4E3\"},\"line\":{\"color\":\"white\"}},\"type\":\"table\"}],\"barpolar\":[{\"marker\":{\"line\":{\"color\":\"#E5ECF6\",\"width\":0.5},\"pattern\":{\"fillmode\":\"overlay\",\"size\":10,\"solidity\":0.2}},\"type\":\"barpolar\"}],\"pie\":[{\"automargin\":true,\"type\":\"pie\"}]},\"layout\":{\"autotypenumbers\":\"strict\",\"colorway\":[\"#636efa\",\"#EF553B\",\"#00cc96\",\"#ab63fa\",\"#FFA15A\",\"#19d3f3\",\"#FF6692\",\"#B6E880\",\"#FF97FF\",\"#FECB52\"],\"font\":{\"color\":\"#2a3f5f\"},\"hovermode\":\"closest\",\"hoverlabel\":{\"align\":\"left\"},\"paper_bgcolor\":\"white\",\"plot_bgcolor\":\"#E5ECF6\",\"polar\":{\"bgcolor\":\"#E5ECF6\",\"angularaxis\":{\"gridcolor\":\"white\",\"linecolor\":\"white\",\"ticks\":\"\"},\"radialaxis\":{\"gridcolor\":\"white\",\"linecolor\":\"white\",\"ticks\":\"\"}},\"ternary\":{\"bgcolor\":\"#E5ECF6\",\"aaxis\":{\"gridcolor\":\"white\",\"linecolor\":\"white\",\"ticks\":\"\"},\"baxis\":{\"gridcolor\":\"white\",\"linecolor\":\"white\",\"ticks\":\"\"},\"caxis\":{\"gridcolor\":\"white\",\"linecolor\":\"white\",\"ticks\":\"\"}},\"coloraxis\":{\"colorbar\":{\"outlinewidth\":0,\"ticks\":\"\"}},\"colorscale\":{\"sequential\":[[0.0,\"#0d0887\"],[0.1111111111111111,\"#46039f\"],[0.2222222222222222,\"#7201a8\"],[0.3333333333333333,\"#9c179e\"],[0.4444444444444444,\"#bd3786\"],[0.5555555555555556,\"#d8576b\"],[0.6666666666666666,\"#ed7953\"],[0.7777777777777778,\"#fb9f3a\"],[0.8888888888888888,\"#fdca26\"],[1.0,\"#f0f921\"]],\"sequentialminus\":[[0.0,\"#0d0887\"],[0.1111111111111111,\"#46039f\"],[0.2222222222222222,\"#7201a8\"],[0.3333333333333333,\"#9c179e\"],[0.4444444444444444,\"#bd3786\"],[0.5555555555555556,\"#d8576b\"],[0.6666666666666666,\"#ed7953\"],[0.7777777777777778,\"#fb9f3a\"],[0.8888888888888888,\"#fdca26\"],[1.0,\"#f0f921\"]],\"diverging\":[[0,\"#8e0152\"],[0.1,\"#c51b7d\"],[0.2,\"#de77ae\"],[0.3,\"#f1b6da\"],[0.4,\"#fde0ef\"],[0.5,\"#f7f7f7\"],[0.6,\"#e6f5d0\"],[0.7,\"#b8e186\"],[0.8,\"#7fbc41\"],[0.9,\"#4d9221\"],[1,\"#276419\"]]},\"xaxis\":{\"gridcolor\":\"white\",\"linecolor\":\"white\",\"ticks\":\"\",\"title\":{\"standoff\":15},\"zerolinecolor\":\"white\",\"automargin\":true,\"zerolinewidth\":2},\"yaxis\":{\"gridcolor\":\"white\",\"linecolor\":\"white\",\"ticks\":\"\",\"title\":{\"standoff\":15},\"zerolinecolor\":\"white\",\"automargin\":true,\"zerolinewidth\":2},\"scene\":{\"xaxis\":{\"backgroundcolor\":\"#E5ECF6\",\"gridcolor\":\"white\",\"linecolor\":\"white\",\"showbackground\":true,\"ticks\":\"\",\"zerolinecolor\":\"white\",\"gridwidth\":2},\"yaxis\":{\"backgroundcolor\":\"#E5ECF6\",\"gridcolor\":\"white\",\"linecolor\":\"white\",\"showbackground\":true,\"ticks\":\"\",\"zerolinecolor\":\"white\",\"gridwidth\":2},\"zaxis\":{\"backgroundcolor\":\"#E5ECF6\",\"gridcolor\":\"white\",\"linecolor\":\"white\",\"showbackground\":true,\"ticks\":\"\",\"zerolinecolor\":\"white\",\"gridwidth\":2}},\"shapedefaults\":{\"line\":{\"color\":\"#2a3f5f\"}},\"annotationdefaults\":{\"arrowcolor\":\"#2a3f5f\",\"arrowhead\":0,\"arrowwidth\":1},\"geo\":{\"bgcolor\":\"white\",\"landcolor\":\"#E5ECF6\",\"subunitcolor\":\"white\",\"showland\":true,\"showlakes\":true,\"lakecolor\":\"white\"},\"title\":{\"x\":0.05},\"mapbox\":{\"style\":\"light\"}}},\"xaxis\":{\"anchor\":\"y\",\"domain\":[0.0,1.0],\"title\":{\"text\":\"support\"},\"type\":\"log\"},\"yaxis\":{\"anchor\":\"x\",\"domain\":[0.0,1.0],\"title\":{\"text\":\"confidence\"}},\"coloraxis\":{\"colorbar\":{\"title\":{\"text\":\"lift\"}},\"colorscale\":[[0.0,\"#0d0887\"],[0.1111111111111111,\"#46039f\"],[0.2222222222222222,\"#7201a8\"],[0.3333333333333333,\"#9c179e\"],[0.4444444444444444,\"#bd3786\"],[0.5555555555555556,\"#d8576b\"],[0.6666666666666666,\"#ed7953\"],[0.7777777777777778,\"#fb9f3a\"],[0.8888888888888888,\"#fdca26\"],[1.0,\"#f0f921\"]]},\"legend\":{\"tracegroupgap\":0},\"margin\":{\"t\":60},\"plot_bgcolor\":\"rgb(240,240,240)\",\"title\":{\"text\":\"2D Plot of Support, Confidence and Lift\"},\"height\":800},                        {\"responsive\": true}                    ).then(function(){\n",
       "                            \n",
       "var gd = document.getElementById('53825d7f-885c-47b8-9bed-8c9113ad7f13');\n",
       "var x = new MutationObserver(function (mutations, observer) {{\n",
       "        var display = window.getComputedStyle(gd).display;\n",
       "        if (!display || display === 'none') {{\n",
       "            console.log([gd, 'removed!']);\n",
       "            Plotly.purge(gd);\n",
       "            observer.disconnect();\n",
       "        }}\n",
       "}});\n",
       "\n",
       "// Listen for the removal of the full notebook cells\n",
       "var notebookContainer = gd.closest('#notebook-container');\n",
       "if (notebookContainer) {{\n",
       "    x.observe(notebookContainer, {childList: true});\n",
       "}}\n",
       "\n",
       "// Listen for the clearing of the current output cell\n",
       "var outputEl = gd.closest('.output');\n",
       "if (outputEl) {{\n",
       "    x.observe(outputEl, {childList: true});\n",
       "}}\n",
       "\n",
       "                        })                };                });            </script>        </div>"
      ]
     },
     "metadata": {},
     "output_type": "display_data"
    }
   ],
   "source": [
    "plot_model(model2)"
   ]
  },
  {
   "cell_type": "code",
   "execution_count": 13,
   "metadata": {},
   "outputs": [
    {
     "data": {
      "text/html": [
       "        <script type=\"text/javascript\">\n",
       "        window.PlotlyConfig = {MathJaxConfig: 'local'};\n",
       "        if (window.MathJax && window.MathJax.Hub && window.MathJax.Hub.Config) {window.MathJax.Hub.Config({SVG: {font: \"STIX-Web\"}});}\n",
       "        if (typeof require !== 'undefined') {\n",
       "        require.undef(\"plotly\");\n",
       "        requirejs.config({\n",
       "            paths: {\n",
       "                'plotly': ['https://cdn.plot.ly/plotly-2.14.0.min']\n",
       "            }\n",
       "        });\n",
       "        require(['plotly'], function(Plotly) {\n",
       "            window._Plotly = Plotly;\n",
       "        });\n",
       "        }\n",
       "        </script>\n",
       "        "
      ]
     },
     "metadata": {},
     "output_type": "display_data"
    },
    {
     "data": {
      "application/vnd.plotly.v1+json": {
       "config": {
        "plotlyServerURL": "https://plot.ly"
       },
       "data": [
        {
         "customdata": [
          [
           [
            "SET/20 RED RETROSPOT PAPER NAPKINS ",
            "SET/6 RED SPOTTY PAPER PLATES"
           ],
           [
            "SET/6 RED SPOTTY PAPER CUPS"
           ]
          ],
          [
           [
            "SET/6 RED SPOTTY PAPER CUPS",
            "SET/20 RED RETROSPOT PAPER NAPKINS "
           ],
           [
            "SET/6 RED SPOTTY PAPER PLATES"
           ]
          ],
          [
           [
            "SET/6 RED SPOTTY PAPER PLATES"
           ],
           [
            "SET/6 RED SPOTTY PAPER CUPS"
           ]
          ],
          [
           [
            "CHILDRENS CUTLERY SPACEBOY "
           ],
           [
            "CHILDRENS CUTLERY DOLLY GIRL "
           ]
          ],
          [
           [
            "SET/6 RED SPOTTY PAPER CUPS"
           ],
           [
            "SET/6 RED SPOTTY PAPER PLATES"
           ]
          ],
          [
           [
            "CHILDRENS CUTLERY DOLLY GIRL "
           ],
           [
            "CHILDRENS CUTLERY SPACEBOY "
           ]
          ],
          [
           [
            "ALARM CLOCK BAKELIKE PINK",
            "ALARM CLOCK BAKELIKE GREEN"
           ],
           [
            "ALARM CLOCK BAKELIKE RED "
           ]
          ],
          [
           [
            "ALARM CLOCK BAKELIKE PINK",
            "ALARM CLOCK BAKELIKE RED "
           ],
           [
            "ALARM CLOCK BAKELIKE GREEN"
           ]
          ],
          [
           [
            "ALARM CLOCK BAKELIKE RED "
           ],
           [
            "ALARM CLOCK BAKELIKE GREEN"
           ]
          ],
          [
           [
            "SET/6 RED SPOTTY PAPER CUPS",
            "SET/6 RED SPOTTY PAPER PLATES"
           ],
           [
            "SET/20 RED RETROSPOT PAPER NAPKINS "
           ]
          ],
          [
           [
            "ALARM CLOCK BAKELIKE RED ",
            "ALARM CLOCK BAKELIKE GREEN"
           ],
           [
            "ALARM CLOCK BAKELIKE PINK"
           ]
          ],
          [
           [
            "SET/6 RED SPOTTY PAPER PLATES"
           ],
           [
            "SET/20 RED RETROSPOT PAPER NAPKINS "
           ]
          ],
          [
           [
            "ALARM CLOCK BAKELIKE GREEN"
           ],
           [
            "ALARM CLOCK BAKELIKE RED "
           ]
          ],
          [
           [
            "ALARM CLOCK BAKELIKE RED "
           ],
           [
            "ALARM CLOCK BAKELIKE PINK"
           ]
          ],
          [
           [
            "SET/6 RED SPOTTY PAPER PLATES"
           ],
           [
            "SET/6 RED SPOTTY PAPER CUPS",
            "SET/20 RED RETROSPOT PAPER NAPKINS "
           ]
          ],
          [
           [
            "SET/20 RED RETROSPOT PAPER NAPKINS "
           ],
           [
            "SET/6 RED SPOTTY PAPER CUPS"
           ]
          ],
          [
           [
            "SET/20 RED RETROSPOT PAPER NAPKINS "
           ],
           [
            "SET/6 RED SPOTTY PAPER PLATES"
           ]
          ],
          [
           [
            "PLASTERS IN TIN CIRCUS PARADE ",
            "PLASTERS IN TIN SPACEBOY"
           ],
           [
            "PLASTERS IN TIN WOODLAND ANIMALS"
           ]
          ],
          [
           [
            "SET/20 RED RETROSPOT PAPER NAPKINS "
           ],
           [
            "SET/6 RED SPOTTY PAPER CUPS",
            "SET/6 RED SPOTTY PAPER PLATES"
           ]
          ],
          [
           [
            "PLASTERS IN TIN SPACEBOY"
           ],
           [
            "PLASTERS IN TIN WOODLAND ANIMALS"
           ]
          ],
          [
           [
            "ALARM CLOCK BAKELIKE GREEN"
           ],
           [
            "ALARM CLOCK BAKELIKE PINK"
           ]
          ],
          [
           [
            "SET/6 RED SPOTTY PAPER CUPS"
           ],
           [
            "SET/20 RED RETROSPOT PAPER NAPKINS "
           ]
          ],
          [
           [
            "ALARM CLOCK BAKELIKE PINK"
           ],
           [
            "ALARM CLOCK BAKELIKE GREEN"
           ]
          ],
          [
           [
            "ALARM CLOCK BAKELIKE PINK"
           ],
           [
            "ALARM CLOCK BAKELIKE RED "
           ]
          ],
          [
           [
            "SET/6 RED SPOTTY PAPER CUPS"
           ],
           [
            "SET/20 RED RETROSPOT PAPER NAPKINS ",
            "SET/6 RED SPOTTY PAPER PLATES"
           ]
          ],
          [
           [
            "DOLLY GIRL LUNCH BOX"
           ],
           [
            "SPACEBOY LUNCH BOX "
           ]
          ],
          [
           [
            "ALARM CLOCK BAKELIKE RED "
           ],
           [
            "ALARM CLOCK BAKELIKE PINK",
            "ALARM CLOCK BAKELIKE GREEN"
           ]
          ],
          [
           [
            "PLASTERS IN TIN CIRCUS PARADE ",
            "PLASTERS IN TIN WOODLAND ANIMALS"
           ],
           [
            "PLASTERS IN TIN SPACEBOY"
           ]
          ],
          [
           [
            "PLASTERS IN TIN SPACEBOY",
            "PLASTERS IN TIN WOODLAND ANIMALS"
           ],
           [
            "PLASTERS IN TIN CIRCUS PARADE "
           ]
          ],
          [
           [
            "PLASTERS IN TIN SPACEBOY"
           ],
           [
            "PLASTERS IN TIN CIRCUS PARADE "
           ]
          ],
          [
           [
            "ALARM CLOCK BAKELIKE GREEN"
           ],
           [
            "ALARM CLOCK BAKELIKE PINK",
            "ALARM CLOCK BAKELIKE RED "
           ]
          ],
          [
           [
            "ALARM CLOCK BAKELIKE PINK"
           ],
           [
            "ALARM CLOCK BAKELIKE RED ",
            "ALARM CLOCK BAKELIKE GREEN"
           ]
          ],
          [
           [
            "PLASTERS IN TIN WOODLAND ANIMALS"
           ],
           [
            "PLASTERS IN TIN SPACEBOY"
           ]
          ],
          [
           [
            "PLASTERS IN TIN WOODLAND ANIMALS"
           ],
           [
            "PLASTERS IN TIN CIRCUS PARADE "
           ]
          ],
          [
           [
            "PLASTERS IN TIN CIRCUS PARADE "
           ],
           [
            "PLASTERS IN TIN WOODLAND ANIMALS"
           ]
          ],
          [
           [
            "ROUND SNACK BOXES SET OF 4 FRUITS "
           ],
           [
            "ROUND SNACK BOXES SET OF4 WOODLAND "
           ]
          ],
          [
           [
            "SPACEBOY LUNCH BOX "
           ],
           [
            "DOLLY GIRL LUNCH BOX"
           ]
          ],
          [
           [
            "LUNCH BAG WOODLAND"
           ],
           [
            "LUNCH BAG SPACEBOY DESIGN "
           ]
          ],
          [
           [
            "LUNCH BAG SPACEBOY DESIGN "
           ],
           [
            "LUNCH BAG RED RETROSPOT"
           ]
          ],
          [
           [
            "LUNCH BAG SPACEBOY DESIGN "
           ],
           [
            "LUNCH BAG APPLE DESIGN"
           ]
          ],
          [
           [
            "LUNCH BAG SPACEBOY DESIGN "
           ],
           [
            "LUNCH BAG WOODLAND"
           ]
          ],
          [
           [
            "PLASTERS IN TIN CIRCUS PARADE "
           ],
           [
            "PLASTERS IN TIN SPACEBOY"
           ]
          ],
          [
           [
            "STRAWBERRY LUNCH BOX WITH CUTLERY"
           ],
           [
            "LUNCH BOX WITH CUTLERY RETROSPOT "
           ]
          ],
          [
           [
            "LUNCH BAG APPLE DESIGN"
           ],
           [
            "LUNCH BAG SPACEBOY DESIGN "
           ]
          ],
          [
           [
            "LUNCH BAG APPLE DESIGN"
           ],
           [
            "LUNCH BAG RED RETROSPOT"
           ]
          ]
         ],
         "hovertemplate": "support=%{x}<br>confidence=%{y}<br>lift=%{z}<br>antecedents=%{customdata[0]}<br>consequents=%{customdata[1]}<br>antecedent support=%{marker.color}<extra></extra>",
         "legendgroup": "",
         "marker": {
          "color": [
           0.0868,
           0.0868,
           0.1085,
           0.0586,
           0.1171,
           0.0629,
           0.0629,
           0.0629,
           0.0803,
           0.1041,
           0.0672,
           0.1085,
           0.0846,
           0.0803,
           0.1085,
           0.1128,
           0.1128,
           0.0781,
           0.1128,
           0.1193,
           0.0846,
           0.1171,
           0.0868,
           0.0868,
           0.1171,
           0.0868,
           0.0803,
           0.0868,
           0.0889,
           0.1193,
           0.0846,
           0.0868,
           0.1453,
           0.1453,
           0.1475,
           0.0933,
           0.1063,
           0.102,
           0.1041,
           0.1041,
           0.1041,
           0.1475,
           0.1041,
           0.1085,
           0.1085
          ],
          "coloraxis": "coloraxis",
          "opacity": 0.7,
          "symbol": "circle"
         },
         "mode": "markers",
         "name": "",
         "scene": "scene",
         "showlegend": false,
         "type": "scatter3d",
         "x": [
          0.0846,
          0.0846,
          0.1041,
          0.0542,
          0.1041,
          0.0542,
          0.0542,
          0.0542,
          0.0672,
          0.0846,
          0.0542,
          0.0868,
          0.0672,
          0.0629,
          0.0846,
          0.0868,
          0.0868,
          0.0586,
          0.0846,
          0.0889,
          0.0629,
          0.0868,
          0.0629,
          0.0629,
          0.0846,
          0.0607,
          0.0542,
          0.0586,
          0.0586,
          0.0781,
          0.0542,
          0.0542,
          0.0889,
          0.0868,
          0.0868,
          0.0542,
          0.0607,
          0.0564,
          0.0564,
          0.0564,
          0.0564,
          0.0781,
          0.0542,
          0.0564,
          0.0564
         ],
         "y": [
          0.975,
          0.975,
          0.96,
          0.9259,
          0.8889,
          0.8621,
          0.8621,
          0.8621,
          0.8378,
          0.8125,
          0.8065,
          0.8,
          0.7949,
          0.7838,
          0.78,
          0.7692,
          0.7692,
          0.75,
          0.75,
          0.7455,
          0.7436,
          0.7407,
          0.725,
          0.725,
          0.7222,
          0.7,
          0.6757,
          0.675,
          0.6585,
          0.6545,
          0.641,
          0.625,
          0.6119,
          0.597,
          0.5882,
          0.5814,
          0.5714,
          0.5532,
          0.5417,
          0.5417,
          0.5417,
          0.5294,
          0.5208,
          0.52,
          0.52
         ],
         "z": [
          8.3236,
          8.9895,
          8.1956,
          14.719,
          8.1956,
          14.719,
          10.7409,
          10.1901,
          9.9037,
          7.2031,
          9.2944,
          7.0923,
          9.9037,
          9.0331,
          8.9895,
          6.567,
          7.0923,
          5.1604,
          7.2031,
          5.1292,
          8.5699,
          6.567,
          8.5699,
          9.0331,
          8.3236,
          6.5857,
          10.7409,
          5.6577,
          4.4645,
          4.4374,
          10.1901,
          9.2944,
          5.1292,
          4.0474,
          4.0474,
          4.1879,
          6.5857,
          5.3129,
          4.0936,
          4.9942,
          5.3129,
          4.4374,
          4.2124,
          4.9942,
          3.9298
         ]
        }
       ],
       "layout": {
        "coloraxis": {
         "colorbar": {
          "title": {
           "text": "antecedent support"
          }
         },
         "colorscale": [
          [
           0,
           "#0d0887"
          ],
          [
           0.1111111111111111,
           "#46039f"
          ],
          [
           0.2222222222222222,
           "#7201a8"
          ],
          [
           0.3333333333333333,
           "#9c179e"
          ],
          [
           0.4444444444444444,
           "#bd3786"
          ],
          [
           0.5555555555555556,
           "#d8576b"
          ],
          [
           0.6666666666666666,
           "#ed7953"
          ],
          [
           0.7777777777777778,
           "#fb9f3a"
          ],
          [
           0.8888888888888888,
           "#fdca26"
          ],
          [
           1,
           "#f0f921"
          ]
         ]
        },
        "height": 800,
        "legend": {
         "tracegroupgap": 0
        },
        "scene": {
         "domain": {
          "x": [
           0,
           1
          ],
          "y": [
           0,
           1
          ]
         },
         "xaxis": {
          "title": {
           "text": "support"
          }
         },
         "yaxis": {
          "title": {
           "text": "confidence"
          }
         },
         "zaxis": {
          "title": {
           "text": "lift"
          }
         }
        },
        "template": {
         "data": {
          "bar": [
           {
            "error_x": {
             "color": "#2a3f5f"
            },
            "error_y": {
             "color": "#2a3f5f"
            },
            "marker": {
             "line": {
              "color": "#E5ECF6",
              "width": 0.5
             },
             "pattern": {
              "fillmode": "overlay",
              "size": 10,
              "solidity": 0.2
             }
            },
            "type": "bar"
           }
          ],
          "barpolar": [
           {
            "marker": {
             "line": {
              "color": "#E5ECF6",
              "width": 0.5
             },
             "pattern": {
              "fillmode": "overlay",
              "size": 10,
              "solidity": 0.2
             }
            },
            "type": "barpolar"
           }
          ],
          "carpet": [
           {
            "aaxis": {
             "endlinecolor": "#2a3f5f",
             "gridcolor": "white",
             "linecolor": "white",
             "minorgridcolor": "white",
             "startlinecolor": "#2a3f5f"
            },
            "baxis": {
             "endlinecolor": "#2a3f5f",
             "gridcolor": "white",
             "linecolor": "white",
             "minorgridcolor": "white",
             "startlinecolor": "#2a3f5f"
            },
            "type": "carpet"
           }
          ],
          "choropleth": [
           {
            "colorbar": {
             "outlinewidth": 0,
             "ticks": ""
            },
            "type": "choropleth"
           }
          ],
          "contour": [
           {
            "colorbar": {
             "outlinewidth": 0,
             "ticks": ""
            },
            "colorscale": [
             [
              0,
              "#0d0887"
             ],
             [
              0.1111111111111111,
              "#46039f"
             ],
             [
              0.2222222222222222,
              "#7201a8"
             ],
             [
              0.3333333333333333,
              "#9c179e"
             ],
             [
              0.4444444444444444,
              "#bd3786"
             ],
             [
              0.5555555555555556,
              "#d8576b"
             ],
             [
              0.6666666666666666,
              "#ed7953"
             ],
             [
              0.7777777777777778,
              "#fb9f3a"
             ],
             [
              0.8888888888888888,
              "#fdca26"
             ],
             [
              1,
              "#f0f921"
             ]
            ],
            "type": "contour"
           }
          ],
          "contourcarpet": [
           {
            "colorbar": {
             "outlinewidth": 0,
             "ticks": ""
            },
            "type": "contourcarpet"
           }
          ],
          "heatmap": [
           {
            "colorbar": {
             "outlinewidth": 0,
             "ticks": ""
            },
            "colorscale": [
             [
              0,
              "#0d0887"
             ],
             [
              0.1111111111111111,
              "#46039f"
             ],
             [
              0.2222222222222222,
              "#7201a8"
             ],
             [
              0.3333333333333333,
              "#9c179e"
             ],
             [
              0.4444444444444444,
              "#bd3786"
             ],
             [
              0.5555555555555556,
              "#d8576b"
             ],
             [
              0.6666666666666666,
              "#ed7953"
             ],
             [
              0.7777777777777778,
              "#fb9f3a"
             ],
             [
              0.8888888888888888,
              "#fdca26"
             ],
             [
              1,
              "#f0f921"
             ]
            ],
            "type": "heatmap"
           }
          ],
          "heatmapgl": [
           {
            "colorbar": {
             "outlinewidth": 0,
             "ticks": ""
            },
            "colorscale": [
             [
              0,
              "#0d0887"
             ],
             [
              0.1111111111111111,
              "#46039f"
             ],
             [
              0.2222222222222222,
              "#7201a8"
             ],
             [
              0.3333333333333333,
              "#9c179e"
             ],
             [
              0.4444444444444444,
              "#bd3786"
             ],
             [
              0.5555555555555556,
              "#d8576b"
             ],
             [
              0.6666666666666666,
              "#ed7953"
             ],
             [
              0.7777777777777778,
              "#fb9f3a"
             ],
             [
              0.8888888888888888,
              "#fdca26"
             ],
             [
              1,
              "#f0f921"
             ]
            ],
            "type": "heatmapgl"
           }
          ],
          "histogram": [
           {
            "marker": {
             "pattern": {
              "fillmode": "overlay",
              "size": 10,
              "solidity": 0.2
             }
            },
            "type": "histogram"
           }
          ],
          "histogram2d": [
           {
            "colorbar": {
             "outlinewidth": 0,
             "ticks": ""
            },
            "colorscale": [
             [
              0,
              "#0d0887"
             ],
             [
              0.1111111111111111,
              "#46039f"
             ],
             [
              0.2222222222222222,
              "#7201a8"
             ],
             [
              0.3333333333333333,
              "#9c179e"
             ],
             [
              0.4444444444444444,
              "#bd3786"
             ],
             [
              0.5555555555555556,
              "#d8576b"
             ],
             [
              0.6666666666666666,
              "#ed7953"
             ],
             [
              0.7777777777777778,
              "#fb9f3a"
             ],
             [
              0.8888888888888888,
              "#fdca26"
             ],
             [
              1,
              "#f0f921"
             ]
            ],
            "type": "histogram2d"
           }
          ],
          "histogram2dcontour": [
           {
            "colorbar": {
             "outlinewidth": 0,
             "ticks": ""
            },
            "colorscale": [
             [
              0,
              "#0d0887"
             ],
             [
              0.1111111111111111,
              "#46039f"
             ],
             [
              0.2222222222222222,
              "#7201a8"
             ],
             [
              0.3333333333333333,
              "#9c179e"
             ],
             [
              0.4444444444444444,
              "#bd3786"
             ],
             [
              0.5555555555555556,
              "#d8576b"
             ],
             [
              0.6666666666666666,
              "#ed7953"
             ],
             [
              0.7777777777777778,
              "#fb9f3a"
             ],
             [
              0.8888888888888888,
              "#fdca26"
             ],
             [
              1,
              "#f0f921"
             ]
            ],
            "type": "histogram2dcontour"
           }
          ],
          "mesh3d": [
           {
            "colorbar": {
             "outlinewidth": 0,
             "ticks": ""
            },
            "type": "mesh3d"
           }
          ],
          "parcoords": [
           {
            "line": {
             "colorbar": {
              "outlinewidth": 0,
              "ticks": ""
             }
            },
            "type": "parcoords"
           }
          ],
          "pie": [
           {
            "automargin": true,
            "type": "pie"
           }
          ],
          "scatter": [
           {
            "fillpattern": {
             "fillmode": "overlay",
             "size": 10,
             "solidity": 0.2
            },
            "type": "scatter"
           }
          ],
          "scatter3d": [
           {
            "line": {
             "colorbar": {
              "outlinewidth": 0,
              "ticks": ""
             }
            },
            "marker": {
             "colorbar": {
              "outlinewidth": 0,
              "ticks": ""
             }
            },
            "type": "scatter3d"
           }
          ],
          "scattercarpet": [
           {
            "marker": {
             "colorbar": {
              "outlinewidth": 0,
              "ticks": ""
             }
            },
            "type": "scattercarpet"
           }
          ],
          "scattergeo": [
           {
            "marker": {
             "colorbar": {
              "outlinewidth": 0,
              "ticks": ""
             }
            },
            "type": "scattergeo"
           }
          ],
          "scattergl": [
           {
            "marker": {
             "colorbar": {
              "outlinewidth": 0,
              "ticks": ""
             }
            },
            "type": "scattergl"
           }
          ],
          "scattermapbox": [
           {
            "marker": {
             "colorbar": {
              "outlinewidth": 0,
              "ticks": ""
             }
            },
            "type": "scattermapbox"
           }
          ],
          "scatterpolar": [
           {
            "marker": {
             "colorbar": {
              "outlinewidth": 0,
              "ticks": ""
             }
            },
            "type": "scatterpolar"
           }
          ],
          "scatterpolargl": [
           {
            "marker": {
             "colorbar": {
              "outlinewidth": 0,
              "ticks": ""
             }
            },
            "type": "scatterpolargl"
           }
          ],
          "scatterternary": [
           {
            "marker": {
             "colorbar": {
              "outlinewidth": 0,
              "ticks": ""
             }
            },
            "type": "scatterternary"
           }
          ],
          "surface": [
           {
            "colorbar": {
             "outlinewidth": 0,
             "ticks": ""
            },
            "colorscale": [
             [
              0,
              "#0d0887"
             ],
             [
              0.1111111111111111,
              "#46039f"
             ],
             [
              0.2222222222222222,
              "#7201a8"
             ],
             [
              0.3333333333333333,
              "#9c179e"
             ],
             [
              0.4444444444444444,
              "#bd3786"
             ],
             [
              0.5555555555555556,
              "#d8576b"
             ],
             [
              0.6666666666666666,
              "#ed7953"
             ],
             [
              0.7777777777777778,
              "#fb9f3a"
             ],
             [
              0.8888888888888888,
              "#fdca26"
             ],
             [
              1,
              "#f0f921"
             ]
            ],
            "type": "surface"
           }
          ],
          "table": [
           {
            "cells": {
             "fill": {
              "color": "#EBF0F8"
             },
             "line": {
              "color": "white"
             }
            },
            "header": {
             "fill": {
              "color": "#C8D4E3"
             },
             "line": {
              "color": "white"
             }
            },
            "type": "table"
           }
          ]
         },
         "layout": {
          "annotationdefaults": {
           "arrowcolor": "#2a3f5f",
           "arrowhead": 0,
           "arrowwidth": 1
          },
          "autotypenumbers": "strict",
          "coloraxis": {
           "colorbar": {
            "outlinewidth": 0,
            "ticks": ""
           }
          },
          "colorscale": {
           "diverging": [
            [
             0,
             "#8e0152"
            ],
            [
             0.1,
             "#c51b7d"
            ],
            [
             0.2,
             "#de77ae"
            ],
            [
             0.3,
             "#f1b6da"
            ],
            [
             0.4,
             "#fde0ef"
            ],
            [
             0.5,
             "#f7f7f7"
            ],
            [
             0.6,
             "#e6f5d0"
            ],
            [
             0.7,
             "#b8e186"
            ],
            [
             0.8,
             "#7fbc41"
            ],
            [
             0.9,
             "#4d9221"
            ],
            [
             1,
             "#276419"
            ]
           ],
           "sequential": [
            [
             0,
             "#0d0887"
            ],
            [
             0.1111111111111111,
             "#46039f"
            ],
            [
             0.2222222222222222,
             "#7201a8"
            ],
            [
             0.3333333333333333,
             "#9c179e"
            ],
            [
             0.4444444444444444,
             "#bd3786"
            ],
            [
             0.5555555555555556,
             "#d8576b"
            ],
            [
             0.6666666666666666,
             "#ed7953"
            ],
            [
             0.7777777777777778,
             "#fb9f3a"
            ],
            [
             0.8888888888888888,
             "#fdca26"
            ],
            [
             1,
             "#f0f921"
            ]
           ],
           "sequentialminus": [
            [
             0,
             "#0d0887"
            ],
            [
             0.1111111111111111,
             "#46039f"
            ],
            [
             0.2222222222222222,
             "#7201a8"
            ],
            [
             0.3333333333333333,
             "#9c179e"
            ],
            [
             0.4444444444444444,
             "#bd3786"
            ],
            [
             0.5555555555555556,
             "#d8576b"
            ],
            [
             0.6666666666666666,
             "#ed7953"
            ],
            [
             0.7777777777777778,
             "#fb9f3a"
            ],
            [
             0.8888888888888888,
             "#fdca26"
            ],
            [
             1,
             "#f0f921"
            ]
           ]
          },
          "colorway": [
           "#636efa",
           "#EF553B",
           "#00cc96",
           "#ab63fa",
           "#FFA15A",
           "#19d3f3",
           "#FF6692",
           "#B6E880",
           "#FF97FF",
           "#FECB52"
          ],
          "font": {
           "color": "#2a3f5f"
          },
          "geo": {
           "bgcolor": "white",
           "lakecolor": "white",
           "landcolor": "#E5ECF6",
           "showlakes": true,
           "showland": true,
           "subunitcolor": "white"
          },
          "hoverlabel": {
           "align": "left"
          },
          "hovermode": "closest",
          "mapbox": {
           "style": "light"
          },
          "paper_bgcolor": "white",
          "plot_bgcolor": "#E5ECF6",
          "polar": {
           "angularaxis": {
            "gridcolor": "white",
            "linecolor": "white",
            "ticks": ""
           },
           "bgcolor": "#E5ECF6",
           "radialaxis": {
            "gridcolor": "white",
            "linecolor": "white",
            "ticks": ""
           }
          },
          "scene": {
           "xaxis": {
            "backgroundcolor": "#E5ECF6",
            "gridcolor": "white",
            "gridwidth": 2,
            "linecolor": "white",
            "showbackground": true,
            "ticks": "",
            "zerolinecolor": "white"
           },
           "yaxis": {
            "backgroundcolor": "#E5ECF6",
            "gridcolor": "white",
            "gridwidth": 2,
            "linecolor": "white",
            "showbackground": true,
            "ticks": "",
            "zerolinecolor": "white"
           },
           "zaxis": {
            "backgroundcolor": "#E5ECF6",
            "gridcolor": "white",
            "gridwidth": 2,
            "linecolor": "white",
            "showbackground": true,
            "ticks": "",
            "zerolinecolor": "white"
           }
          },
          "shapedefaults": {
           "line": {
            "color": "#2a3f5f"
           }
          },
          "ternary": {
           "aaxis": {
            "gridcolor": "white",
            "linecolor": "white",
            "ticks": ""
           },
           "baxis": {
            "gridcolor": "white",
            "linecolor": "white",
            "ticks": ""
           },
           "bgcolor": "#E5ECF6",
           "caxis": {
            "gridcolor": "white",
            "linecolor": "white",
            "ticks": ""
           }
          },
          "title": {
           "x": 0.05
          },
          "xaxis": {
           "automargin": true,
           "gridcolor": "white",
           "linecolor": "white",
           "ticks": "",
           "title": {
            "standoff": 15
           },
           "zerolinecolor": "white",
           "zerolinewidth": 2
          },
          "yaxis": {
           "automargin": true,
           "gridcolor": "white",
           "linecolor": "white",
           "ticks": "",
           "title": {
            "standoff": 15
           },
           "zerolinecolor": "white",
           "zerolinewidth": 2
          }
         }
        },
        "title": {
         "text": "3d Plot for Rule Mining"
        },
        "width": 900
       }
      },
      "text/html": [
       "<div>                            <div id=\"84159e08-0492-48bf-b814-d7a34f941a91\" class=\"plotly-graph-div\" style=\"height:800px; width:900px;\"></div>            <script type=\"text/javascript\">                require([\"plotly\"], function(Plotly) {                    window.PLOTLYENV=window.PLOTLYENV || {};                                    if (document.getElementById(\"84159e08-0492-48bf-b814-d7a34f941a91\")) {                    Plotly.newPlot(                        \"84159e08-0492-48bf-b814-d7a34f941a91\",                        [{\"customdata\":[[[\"SET/20 RED RETROSPOT PAPER NAPKINS \",\"SET/6 RED SPOTTY PAPER PLATES\"],[\"SET/6 RED SPOTTY PAPER CUPS\"]],[[\"SET/6 RED SPOTTY PAPER CUPS\",\"SET/20 RED RETROSPOT PAPER NAPKINS \"],[\"SET/6 RED SPOTTY PAPER PLATES\"]],[[\"SET/6 RED SPOTTY PAPER PLATES\"],[\"SET/6 RED SPOTTY PAPER CUPS\"]],[[\"CHILDRENS CUTLERY SPACEBOY \"],[\"CHILDRENS CUTLERY DOLLY GIRL \"]],[[\"SET/6 RED SPOTTY PAPER CUPS\"],[\"SET/6 RED SPOTTY PAPER PLATES\"]],[[\"CHILDRENS CUTLERY DOLLY GIRL \"],[\"CHILDRENS CUTLERY SPACEBOY \"]],[[\"ALARM CLOCK BAKELIKE PINK\",\"ALARM CLOCK BAKELIKE GREEN\"],[\"ALARM CLOCK BAKELIKE RED \"]],[[\"ALARM CLOCK BAKELIKE PINK\",\"ALARM CLOCK BAKELIKE RED \"],[\"ALARM CLOCK BAKELIKE GREEN\"]],[[\"ALARM CLOCK BAKELIKE RED \"],[\"ALARM CLOCK BAKELIKE GREEN\"]],[[\"SET/6 RED SPOTTY PAPER CUPS\",\"SET/6 RED SPOTTY PAPER PLATES\"],[\"SET/20 RED RETROSPOT PAPER NAPKINS \"]],[[\"ALARM CLOCK BAKELIKE RED \",\"ALARM CLOCK BAKELIKE GREEN\"],[\"ALARM CLOCK BAKELIKE PINK\"]],[[\"SET/6 RED SPOTTY PAPER PLATES\"],[\"SET/20 RED RETROSPOT PAPER NAPKINS \"]],[[\"ALARM CLOCK BAKELIKE GREEN\"],[\"ALARM CLOCK BAKELIKE RED \"]],[[\"ALARM CLOCK BAKELIKE RED \"],[\"ALARM CLOCK BAKELIKE PINK\"]],[[\"SET/6 RED SPOTTY PAPER PLATES\"],[\"SET/6 RED SPOTTY PAPER CUPS\",\"SET/20 RED RETROSPOT PAPER NAPKINS \"]],[[\"SET/20 RED RETROSPOT PAPER NAPKINS \"],[\"SET/6 RED SPOTTY PAPER CUPS\"]],[[\"SET/20 RED RETROSPOT PAPER NAPKINS \"],[\"SET/6 RED SPOTTY PAPER PLATES\"]],[[\"PLASTERS IN TIN CIRCUS PARADE \",\"PLASTERS IN TIN SPACEBOY\"],[\"PLASTERS IN TIN WOODLAND ANIMALS\"]],[[\"SET/20 RED RETROSPOT PAPER NAPKINS \"],[\"SET/6 RED SPOTTY PAPER CUPS\",\"SET/6 RED SPOTTY PAPER PLATES\"]],[[\"PLASTERS IN TIN SPACEBOY\"],[\"PLASTERS IN TIN WOODLAND ANIMALS\"]],[[\"ALARM CLOCK BAKELIKE GREEN\"],[\"ALARM CLOCK BAKELIKE PINK\"]],[[\"SET/6 RED SPOTTY PAPER CUPS\"],[\"SET/20 RED RETROSPOT PAPER NAPKINS \"]],[[\"ALARM CLOCK BAKELIKE PINK\"],[\"ALARM CLOCK BAKELIKE GREEN\"]],[[\"ALARM CLOCK BAKELIKE PINK\"],[\"ALARM CLOCK BAKELIKE RED \"]],[[\"SET/6 RED SPOTTY PAPER CUPS\"],[\"SET/20 RED RETROSPOT PAPER NAPKINS \",\"SET/6 RED SPOTTY PAPER PLATES\"]],[[\"DOLLY GIRL LUNCH BOX\"],[\"SPACEBOY LUNCH BOX \"]],[[\"ALARM CLOCK BAKELIKE RED \"],[\"ALARM CLOCK BAKELIKE PINK\",\"ALARM CLOCK BAKELIKE GREEN\"]],[[\"PLASTERS IN TIN CIRCUS PARADE \",\"PLASTERS IN TIN WOODLAND ANIMALS\"],[\"PLASTERS IN TIN SPACEBOY\"]],[[\"PLASTERS IN TIN SPACEBOY\",\"PLASTERS IN TIN WOODLAND ANIMALS\"],[\"PLASTERS IN TIN CIRCUS PARADE \"]],[[\"PLASTERS IN TIN SPACEBOY\"],[\"PLASTERS IN TIN CIRCUS PARADE \"]],[[\"ALARM CLOCK BAKELIKE GREEN\"],[\"ALARM CLOCK BAKELIKE PINK\",\"ALARM CLOCK BAKELIKE RED \"]],[[\"ALARM CLOCK BAKELIKE PINK\"],[\"ALARM CLOCK BAKELIKE RED \",\"ALARM CLOCK BAKELIKE GREEN\"]],[[\"PLASTERS IN TIN WOODLAND ANIMALS\"],[\"PLASTERS IN TIN SPACEBOY\"]],[[\"PLASTERS IN TIN WOODLAND ANIMALS\"],[\"PLASTERS IN TIN CIRCUS PARADE \"]],[[\"PLASTERS IN TIN CIRCUS PARADE \"],[\"PLASTERS IN TIN WOODLAND ANIMALS\"]],[[\"ROUND SNACK BOXES SET OF 4 FRUITS \"],[\"ROUND SNACK BOXES SET OF4 WOODLAND \"]],[[\"SPACEBOY LUNCH BOX \"],[\"DOLLY GIRL LUNCH BOX\"]],[[\"LUNCH BAG WOODLAND\"],[\"LUNCH BAG SPACEBOY DESIGN \"]],[[\"LUNCH BAG SPACEBOY DESIGN \"],[\"LUNCH BAG RED RETROSPOT\"]],[[\"LUNCH BAG SPACEBOY DESIGN \"],[\"LUNCH BAG APPLE DESIGN\"]],[[\"LUNCH BAG SPACEBOY DESIGN \"],[\"LUNCH BAG WOODLAND\"]],[[\"PLASTERS IN TIN CIRCUS PARADE \"],[\"PLASTERS IN TIN SPACEBOY\"]],[[\"STRAWBERRY LUNCH BOX WITH CUTLERY\"],[\"LUNCH BOX WITH CUTLERY RETROSPOT \"]],[[\"LUNCH BAG APPLE DESIGN\"],[\"LUNCH BAG SPACEBOY DESIGN \"]],[[\"LUNCH BAG APPLE DESIGN\"],[\"LUNCH BAG RED RETROSPOT\"]]],\"hovertemplate\":\"support=%{x}<br>confidence=%{y}<br>lift=%{z}<br>antecedents=%{customdata[0]}<br>consequents=%{customdata[1]}<br>antecedent support=%{marker.color}<extra></extra>\",\"legendgroup\":\"\",\"marker\":{\"color\":[0.0868,0.0868,0.1085,0.0586,0.1171,0.0629,0.0629,0.0629,0.0803,0.1041,0.0672,0.1085,0.0846,0.0803,0.1085,0.1128,0.1128,0.0781,0.1128,0.1193,0.0846,0.1171,0.0868,0.0868,0.1171,0.0868,0.0803,0.0868,0.0889,0.1193,0.0846,0.0868,0.1453,0.1453,0.1475,0.0933,0.1063,0.102,0.1041,0.1041,0.1041,0.1475,0.1041,0.1085,0.1085],\"coloraxis\":\"coloraxis\",\"opacity\":0.7,\"symbol\":\"circle\"},\"mode\":\"markers\",\"name\":\"\",\"scene\":\"scene\",\"showlegend\":false,\"x\":[0.0846,0.0846,0.1041,0.0542,0.1041,0.0542,0.0542,0.0542,0.0672,0.0846,0.0542,0.0868,0.0672,0.0629,0.0846,0.0868,0.0868,0.0586,0.0846,0.0889,0.0629,0.0868,0.0629,0.0629,0.0846,0.0607,0.0542,0.0586,0.0586,0.0781,0.0542,0.0542,0.0889,0.0868,0.0868,0.0542,0.0607,0.0564,0.0564,0.0564,0.0564,0.0781,0.0542,0.0564,0.0564],\"y\":[0.975,0.975,0.96,0.9259,0.8889,0.8621,0.8621,0.8621,0.8378,0.8125,0.8065,0.8,0.7949,0.7838,0.78,0.7692,0.7692,0.75,0.75,0.7455,0.7436,0.7407,0.725,0.725,0.7222,0.7,0.6757,0.675,0.6585,0.6545,0.641,0.625,0.6119,0.597,0.5882,0.5814,0.5714,0.5532,0.5417,0.5417,0.5417,0.5294,0.5208,0.52,0.52],\"z\":[8.3236,8.9895,8.1956,14.719,8.1956,14.719,10.7409,10.1901,9.9037,7.2031,9.2944,7.0923,9.9037,9.0331,8.9895,6.567,7.0923,5.1604,7.2031,5.1292,8.5699,6.567,8.5699,9.0331,8.3236,6.5857,10.7409,5.6577,4.4645,4.4374,10.1901,9.2944,5.1292,4.0474,4.0474,4.1879,6.5857,5.3129,4.0936,4.9942,5.3129,4.4374,4.2124,4.9942,3.9298],\"type\":\"scatter3d\"}],                        {\"template\":{\"data\":{\"histogram2dcontour\":[{\"type\":\"histogram2dcontour\",\"colorbar\":{\"outlinewidth\":0,\"ticks\":\"\"},\"colorscale\":[[0.0,\"#0d0887\"],[0.1111111111111111,\"#46039f\"],[0.2222222222222222,\"#7201a8\"],[0.3333333333333333,\"#9c179e\"],[0.4444444444444444,\"#bd3786\"],[0.5555555555555556,\"#d8576b\"],[0.6666666666666666,\"#ed7953\"],[0.7777777777777778,\"#fb9f3a\"],[0.8888888888888888,\"#fdca26\"],[1.0,\"#f0f921\"]]}],\"choropleth\":[{\"type\":\"choropleth\",\"colorbar\":{\"outlinewidth\":0,\"ticks\":\"\"}}],\"histogram2d\":[{\"type\":\"histogram2d\",\"colorbar\":{\"outlinewidth\":0,\"ticks\":\"\"},\"colorscale\":[[0.0,\"#0d0887\"],[0.1111111111111111,\"#46039f\"],[0.2222222222222222,\"#7201a8\"],[0.3333333333333333,\"#9c179e\"],[0.4444444444444444,\"#bd3786\"],[0.5555555555555556,\"#d8576b\"],[0.6666666666666666,\"#ed7953\"],[0.7777777777777778,\"#fb9f3a\"],[0.8888888888888888,\"#fdca26\"],[1.0,\"#f0f921\"]]}],\"heatmap\":[{\"type\":\"heatmap\",\"colorbar\":{\"outlinewidth\":0,\"ticks\":\"\"},\"colorscale\":[[0.0,\"#0d0887\"],[0.1111111111111111,\"#46039f\"],[0.2222222222222222,\"#7201a8\"],[0.3333333333333333,\"#9c179e\"],[0.4444444444444444,\"#bd3786\"],[0.5555555555555556,\"#d8576b\"],[0.6666666666666666,\"#ed7953\"],[0.7777777777777778,\"#fb9f3a\"],[0.8888888888888888,\"#fdca26\"],[1.0,\"#f0f921\"]]}],\"heatmapgl\":[{\"type\":\"heatmapgl\",\"colorbar\":{\"outlinewidth\":0,\"ticks\":\"\"},\"colorscale\":[[0.0,\"#0d0887\"],[0.1111111111111111,\"#46039f\"],[0.2222222222222222,\"#7201a8\"],[0.3333333333333333,\"#9c179e\"],[0.4444444444444444,\"#bd3786\"],[0.5555555555555556,\"#d8576b\"],[0.6666666666666666,\"#ed7953\"],[0.7777777777777778,\"#fb9f3a\"],[0.8888888888888888,\"#fdca26\"],[1.0,\"#f0f921\"]]}],\"contourcarpet\":[{\"type\":\"contourcarpet\",\"colorbar\":{\"outlinewidth\":0,\"ticks\":\"\"}}],\"contour\":[{\"type\":\"contour\",\"colorbar\":{\"outlinewidth\":0,\"ticks\":\"\"},\"colorscale\":[[0.0,\"#0d0887\"],[0.1111111111111111,\"#46039f\"],[0.2222222222222222,\"#7201a8\"],[0.3333333333333333,\"#9c179e\"],[0.4444444444444444,\"#bd3786\"],[0.5555555555555556,\"#d8576b\"],[0.6666666666666666,\"#ed7953\"],[0.7777777777777778,\"#fb9f3a\"],[0.8888888888888888,\"#fdca26\"],[1.0,\"#f0f921\"]]}],\"surface\":[{\"type\":\"surface\",\"colorbar\":{\"outlinewidth\":0,\"ticks\":\"\"},\"colorscale\":[[0.0,\"#0d0887\"],[0.1111111111111111,\"#46039f\"],[0.2222222222222222,\"#7201a8\"],[0.3333333333333333,\"#9c179e\"],[0.4444444444444444,\"#bd3786\"],[0.5555555555555556,\"#d8576b\"],[0.6666666666666666,\"#ed7953\"],[0.7777777777777778,\"#fb9f3a\"],[0.8888888888888888,\"#fdca26\"],[1.0,\"#f0f921\"]]}],\"mesh3d\":[{\"type\":\"mesh3d\",\"colorbar\":{\"outlinewidth\":0,\"ticks\":\"\"}}],\"scatter\":[{\"fillpattern\":{\"fillmode\":\"overlay\",\"size\":10,\"solidity\":0.2},\"type\":\"scatter\"}],\"parcoords\":[{\"type\":\"parcoords\",\"line\":{\"colorbar\":{\"outlinewidth\":0,\"ticks\":\"\"}}}],\"scatterpolargl\":[{\"type\":\"scatterpolargl\",\"marker\":{\"colorbar\":{\"outlinewidth\":0,\"ticks\":\"\"}}}],\"bar\":[{\"error_x\":{\"color\":\"#2a3f5f\"},\"error_y\":{\"color\":\"#2a3f5f\"},\"marker\":{\"line\":{\"color\":\"#E5ECF6\",\"width\":0.5},\"pattern\":{\"fillmode\":\"overlay\",\"size\":10,\"solidity\":0.2}},\"type\":\"bar\"}],\"scattergeo\":[{\"type\":\"scattergeo\",\"marker\":{\"colorbar\":{\"outlinewidth\":0,\"ticks\":\"\"}}}],\"scatterpolar\":[{\"type\":\"scatterpolar\",\"marker\":{\"colorbar\":{\"outlinewidth\":0,\"ticks\":\"\"}}}],\"histogram\":[{\"marker\":{\"pattern\":{\"fillmode\":\"overlay\",\"size\":10,\"solidity\":0.2}},\"type\":\"histogram\"}],\"scattergl\":[{\"type\":\"scattergl\",\"marker\":{\"colorbar\":{\"outlinewidth\":0,\"ticks\":\"\"}}}],\"scatter3d\":[{\"type\":\"scatter3d\",\"line\":{\"colorbar\":{\"outlinewidth\":0,\"ticks\":\"\"}},\"marker\":{\"colorbar\":{\"outlinewidth\":0,\"ticks\":\"\"}}}],\"scattermapbox\":[{\"type\":\"scattermapbox\",\"marker\":{\"colorbar\":{\"outlinewidth\":0,\"ticks\":\"\"}}}],\"scatterternary\":[{\"type\":\"scatterternary\",\"marker\":{\"colorbar\":{\"outlinewidth\":0,\"ticks\":\"\"}}}],\"scattercarpet\":[{\"type\":\"scattercarpet\",\"marker\":{\"colorbar\":{\"outlinewidth\":0,\"ticks\":\"\"}}}],\"carpet\":[{\"aaxis\":{\"endlinecolor\":\"#2a3f5f\",\"gridcolor\":\"white\",\"linecolor\":\"white\",\"minorgridcolor\":\"white\",\"startlinecolor\":\"#2a3f5f\"},\"baxis\":{\"endlinecolor\":\"#2a3f5f\",\"gridcolor\":\"white\",\"linecolor\":\"white\",\"minorgridcolor\":\"white\",\"startlinecolor\":\"#2a3f5f\"},\"type\":\"carpet\"}],\"table\":[{\"cells\":{\"fill\":{\"color\":\"#EBF0F8\"},\"line\":{\"color\":\"white\"}},\"header\":{\"fill\":{\"color\":\"#C8D4E3\"},\"line\":{\"color\":\"white\"}},\"type\":\"table\"}],\"barpolar\":[{\"marker\":{\"line\":{\"color\":\"#E5ECF6\",\"width\":0.5},\"pattern\":{\"fillmode\":\"overlay\",\"size\":10,\"solidity\":0.2}},\"type\":\"barpolar\"}],\"pie\":[{\"automargin\":true,\"type\":\"pie\"}]},\"layout\":{\"autotypenumbers\":\"strict\",\"colorway\":[\"#636efa\",\"#EF553B\",\"#00cc96\",\"#ab63fa\",\"#FFA15A\",\"#19d3f3\",\"#FF6692\",\"#B6E880\",\"#FF97FF\",\"#FECB52\"],\"font\":{\"color\":\"#2a3f5f\"},\"hovermode\":\"closest\",\"hoverlabel\":{\"align\":\"left\"},\"paper_bgcolor\":\"white\",\"plot_bgcolor\":\"#E5ECF6\",\"polar\":{\"bgcolor\":\"#E5ECF6\",\"angularaxis\":{\"gridcolor\":\"white\",\"linecolor\":\"white\",\"ticks\":\"\"},\"radialaxis\":{\"gridcolor\":\"white\",\"linecolor\":\"white\",\"ticks\":\"\"}},\"ternary\":{\"bgcolor\":\"#E5ECF6\",\"aaxis\":{\"gridcolor\":\"white\",\"linecolor\":\"white\",\"ticks\":\"\"},\"baxis\":{\"gridcolor\":\"white\",\"linecolor\":\"white\",\"ticks\":\"\"},\"caxis\":{\"gridcolor\":\"white\",\"linecolor\":\"white\",\"ticks\":\"\"}},\"coloraxis\":{\"colorbar\":{\"outlinewidth\":0,\"ticks\":\"\"}},\"colorscale\":{\"sequential\":[[0.0,\"#0d0887\"],[0.1111111111111111,\"#46039f\"],[0.2222222222222222,\"#7201a8\"],[0.3333333333333333,\"#9c179e\"],[0.4444444444444444,\"#bd3786\"],[0.5555555555555556,\"#d8576b\"],[0.6666666666666666,\"#ed7953\"],[0.7777777777777778,\"#fb9f3a\"],[0.8888888888888888,\"#fdca26\"],[1.0,\"#f0f921\"]],\"sequentialminus\":[[0.0,\"#0d0887\"],[0.1111111111111111,\"#46039f\"],[0.2222222222222222,\"#7201a8\"],[0.3333333333333333,\"#9c179e\"],[0.4444444444444444,\"#bd3786\"],[0.5555555555555556,\"#d8576b\"],[0.6666666666666666,\"#ed7953\"],[0.7777777777777778,\"#fb9f3a\"],[0.8888888888888888,\"#fdca26\"],[1.0,\"#f0f921\"]],\"diverging\":[[0,\"#8e0152\"],[0.1,\"#c51b7d\"],[0.2,\"#de77ae\"],[0.3,\"#f1b6da\"],[0.4,\"#fde0ef\"],[0.5,\"#f7f7f7\"],[0.6,\"#e6f5d0\"],[0.7,\"#b8e186\"],[0.8,\"#7fbc41\"],[0.9,\"#4d9221\"],[1,\"#276419\"]]},\"xaxis\":{\"gridcolor\":\"white\",\"linecolor\":\"white\",\"ticks\":\"\",\"title\":{\"standoff\":15},\"zerolinecolor\":\"white\",\"automargin\":true,\"zerolinewidth\":2},\"yaxis\":{\"gridcolor\":\"white\",\"linecolor\":\"white\",\"ticks\":\"\",\"title\":{\"standoff\":15},\"zerolinecolor\":\"white\",\"automargin\":true,\"zerolinewidth\":2},\"scene\":{\"xaxis\":{\"backgroundcolor\":\"#E5ECF6\",\"gridcolor\":\"white\",\"linecolor\":\"white\",\"showbackground\":true,\"ticks\":\"\",\"zerolinecolor\":\"white\",\"gridwidth\":2},\"yaxis\":{\"backgroundcolor\":\"#E5ECF6\",\"gridcolor\":\"white\",\"linecolor\":\"white\",\"showbackground\":true,\"ticks\":\"\",\"zerolinecolor\":\"white\",\"gridwidth\":2},\"zaxis\":{\"backgroundcolor\":\"#E5ECF6\",\"gridcolor\":\"white\",\"linecolor\":\"white\",\"showbackground\":true,\"ticks\":\"\",\"zerolinecolor\":\"white\",\"gridwidth\":2}},\"shapedefaults\":{\"line\":{\"color\":\"#2a3f5f\"}},\"annotationdefaults\":{\"arrowcolor\":\"#2a3f5f\",\"arrowhead\":0,\"arrowwidth\":1},\"geo\":{\"bgcolor\":\"white\",\"landcolor\":\"#E5ECF6\",\"subunitcolor\":\"white\",\"showland\":true,\"showlakes\":true,\"lakecolor\":\"white\"},\"title\":{\"x\":0.05},\"mapbox\":{\"style\":\"light\"}}},\"scene\":{\"domain\":{\"x\":[0.0,1.0],\"y\":[0.0,1.0]},\"xaxis\":{\"title\":{\"text\":\"support\"}},\"yaxis\":{\"title\":{\"text\":\"confidence\"}},\"zaxis\":{\"title\":{\"text\":\"lift\"}}},\"coloraxis\":{\"colorbar\":{\"title\":{\"text\":\"antecedent support\"}},\"colorscale\":[[0.0,\"#0d0887\"],[0.1111111111111111,\"#46039f\"],[0.2222222222222222,\"#7201a8\"],[0.3333333333333333,\"#9c179e\"],[0.4444444444444444,\"#bd3786\"],[0.5555555555555556,\"#d8576b\"],[0.6666666666666666,\"#ed7953\"],[0.7777777777777778,\"#fb9f3a\"],[0.8888888888888888,\"#fdca26\"],[1.0,\"#f0f921\"]]},\"legend\":{\"tracegroupgap\":0},\"title\":{\"text\":\"3d Plot for Rule Mining\"},\"height\":800,\"width\":900},                        {\"responsive\": true}                    ).then(function(){\n",
       "                            \n",
       "var gd = document.getElementById('84159e08-0492-48bf-b814-d7a34f941a91');\n",
       "var x = new MutationObserver(function (mutations, observer) {{\n",
       "        var display = window.getComputedStyle(gd).display;\n",
       "        if (!display || display === 'none') {{\n",
       "            console.log([gd, 'removed!']);\n",
       "            Plotly.purge(gd);\n",
       "            observer.disconnect();\n",
       "        }}\n",
       "}});\n",
       "\n",
       "// Listen for the removal of the full notebook cells\n",
       "var notebookContainer = gd.closest('#notebook-container');\n",
       "if (notebookContainer) {{\n",
       "    x.observe(notebookContainer, {childList: true});\n",
       "}}\n",
       "\n",
       "// Listen for the clearing of the current output cell\n",
       "var outputEl = gd.closest('.output');\n",
       "if (outputEl) {{\n",
       "    x.observe(outputEl, {childList: true});\n",
       "}}\n",
       "\n",
       "                        })                };                });            </script>        </div>"
      ]
     },
     "metadata": {},
     "output_type": "display_data"
    }
   ],
   "source": [
    "plot_model(model2, plot = '3d')"
   ]
  },
  {
   "cell_type": "code",
   "execution_count": null,
   "metadata": {},
   "outputs": [],
   "source": []
  }
 ],
 "metadata": {
  "kernelspec": {
   "display_name": "Python 3.8.13 ('pycaret')",
   "language": "python",
   "name": "python3"
  },
  "language_info": {
   "codemirror_mode": {
    "name": "ipython",
    "version": 3
   },
   "file_extension": ".py",
   "mimetype": "text/x-python",
   "name": "python",
   "nbconvert_exporter": "python",
   "pygments_lexer": "ipython3",
   "version": "3.8.13"
  },
  "orig_nbformat": 4,
  "vscode": {
   "interpreter": {
    "hash": "17aefc1b3500b4c50d722eb3a8d4ce383d649f72eb05e39436bc99b8a91936d1"
   }
  }
 },
 "nbformat": 4,
 "nbformat_minor": 2
}
