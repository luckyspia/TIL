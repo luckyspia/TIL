{
 "cells": [
  {
   "cell_type": "markdown",
   "metadata": {},
   "source": [
    "## <span style=\"color:red\"> How to Build Neural Networks using Keras</span>"
   ]
  },
  {
   "cell_type": "markdown",
   "metadata": {},
   "source": [
    "### Import Modules"
   ]
  },
  {
   "cell_type": "code",
   "execution_count": 2,
   "metadata": {},
   "outputs": [
    {
     "name": "stdout",
     "output_type": "stream",
     "text": [
      "2.11.0\n"
     ]
    }
   ],
   "source": [
    "import pandas as pd\n",
    "import numpy as np\n",
    "import os\n",
    "import random\n",
    "import pickle\n",
    "import gc\n",
    "from IPython.display import Image\n",
    "import warnings; warnings.filterwarnings(\"ignore\")\n",
    "import seaborn as sns\n",
    "import matplotlib.pylab as plt\n",
    "from matplotlib import font_manager, rc\n",
    "%matplotlib inline\n",
    "\n",
    "import tensorflow as tf\n",
    "from tensorflow import keras\n",
    "print(tf.__version__)"
   ]
  },
  {
   "cell_type": "markdown",
   "metadata": {},
   "source": [
    "### Set Random seeds to make your results reproducible"
   ]
  },
  {
   "cell_type": "code",
   "execution_count": 3,
   "metadata": {},
   "outputs": [
    {
     "name": "stdout",
     "output_type": "stream",
     "text": [
      "RANDOM SEEDS RESET\n"
     ]
    }
   ],
   "source": [
    "# 매번 모델링을 할 때마다 동일한 결과를 얻으려면 아래 코드를 실행해야 함.\n",
    "\n",
    "def reset_seeds(reset_graph_with_backend=None):\n",
    "    if reset_graph_with_backend is not None:\n",
    "        K = reset_graph_with_backend\n",
    "        K.clear_session()\n",
    "        tf.compat.v1.reset_default_graph()\n",
    "        print(\"KERAS AND TENSORFLOW GRAPHS RESET\")  # optional\n",
    "\n",
    "    np.random.seed(1)\n",
    "    random.seed(2)\n",
    "    tf.compat.v1.set_random_seed(3)\n",
    "    os.environ['CUDA_VISIBLE_DEVICES'] = ''  # for GPU\n",
    "    print(\"RANDOM SEEDS RESET\")  # optional\n",
    "   \n",
    "reset_seeds()"
   ]
  },
  {
   "cell_type": "markdown",
   "metadata": {},
   "source": [
    "### Step 1 : Load and Process the data"
   ]
  },
  {
   "cell_type": "code",
   "execution_count": 4,
   "metadata": {},
   "outputs": [],
   "source": [
    "# Read Data\n",
    "X_train = pd.read_csv('./data/X_train.csv', encoding='cp949')\n",
    "y_train = pd.read_csv('./data/y_train.csv').gender\n",
    "X_test = pd.read_csv('./data/X_test.csv', encoding='cp949')\n",
    "\n",
    "# submission을 만들 때 사용하기 위해 ID 저정\n",
    "ID_test = X_test.cust_id"
   ]
  },
  {
   "cell_type": "markdown",
   "metadata": {},
   "source": [
    "#### Explore data"
   ]
  },
  {
   "cell_type": "code",
   "execution_count": 5,
   "metadata": {},
   "outputs": [
    {
     "name": "stdout",
     "output_type": "stream",
     "text": [
      "<class 'pandas.core.frame.DataFrame'>\n",
      "RangeIndex: 3500 entries, 0 to 3499\n",
      "Data columns (total 68 columns):\n",
      " #   Column              Non-Null Count  Dtype  \n",
      "---  ------              --------------  -----  \n",
      " 0   cust_id             3500 non-null   int64  \n",
      " 1   총구매액                3500 non-null   int64  \n",
      " 2   구매건수                3500 non-null   int64  \n",
      " 3   평균구매액               3500 non-null   int64  \n",
      " 4   최대구매액               3500 non-null   int64  \n",
      " 5   구매상품종류1             3500 non-null   int64  \n",
      " 6   내점일수                3500 non-null   int64  \n",
      " 7   구매주기                3500 non-null   int64  \n",
      " 8   봄-구매비율              3500 non-null   float64\n",
      " 9   여름-구매비율             3500 non-null   float64\n",
      " 10  가을-구매비율             3500 non-null   float64\n",
      " 11  겨울-구매비율             3500 non-null   float64\n",
      " 12  환불금액                1205 non-null   float64\n",
      " 13  환불건수                1205 non-null   float64\n",
      " 14  내점당구매액              3500 non-null   float64\n",
      " 15  내점당구매건수             3500 non-null   float64\n",
      " 16  주구매상품               3500 non-null   object \n",
      " 17  주구매지점               3500 non-null   object \n",
      " 18  구매 추세 기울기           3500 non-null   float64\n",
      " 19  화장품구매주기             1614 non-null   float64\n",
      " 20  식료품구매액비율            3493 non-null   float64\n",
      " 21  평균식료품구매액분위          2525 non-null   float64\n",
      " 22  고가상품구매율             3500 non-null   float64\n",
      " 23  베스트셀러구매비율           3500 non-null   float64\n",
      " 24  환불비율                3500 non-null   float64\n",
      " 25  스타킹구매건수             385 non-null    float64\n",
      " 26  고객등급                3500 non-null   object \n",
      " 27  평일방문비율              3500 non-null   float64\n",
      " 28  평균대비구매비중            3500 non-null   float64\n",
      " 29  주환불상품               1205 non-null   object \n",
      " 30  남성포함상품구매건수          1077 non-null   float64\n",
      " 31  여성키워드상품구매건수         2089 non-null   float64\n",
      " 32  다양한 매장 방문           3500 non-null   int64  \n",
      " 33  가격선호도               3494 non-null   float64\n",
      " 34  라이프 스타일(평균)         3500 non-null   object \n",
      " 35  라이프 스타일(건수)         3500 non-null   object \n",
      " 36  주구매 요일              3500 non-null   object \n",
      " 37  선호방문계절              3500 non-null   object \n",
      " 38  선호방문월               3500 non-null   int64  \n",
      " 39  행사상품구매수             1589 non-null   float64\n",
      " 40  저가상품구매율             3500 non-null   float64\n",
      " 41  요일 간 구매건수 편차        3500 non-null   float64\n",
      " 42  충동지수                3493 non-null   float64\n",
      " 43  남성용품구매건수            3500 non-null   int64  \n",
      " 44  여성용품구매건수            3500 non-null   int64  \n",
      " 45  하루 최고 구매 건수         3500 non-null   int64  \n",
      " 46  만족도 떨어지는 제품 총 구입금액  1230 non-null   float64\n",
      " 47  만족도 떨어지는 제품 총 구매건수  3500 non-null   int64  \n",
      " 48  가성비 제품 총 구입금액       3192 non-null   float64\n",
      " 49  휴면일수                3500 non-null   int64  \n",
      " 50  취미용품 구매비율           3499 non-null   float64\n",
      " 51  아동용품 구매건수           3499 non-null   float64\n",
      " 52  명절식품비용              3500 non-null   int64  \n",
      " 53  발렌타인                3500 non-null   int64  \n",
      " 54  화이트                 3500 non-null   int64  \n",
      " 55  단독상품군구매율            3500 non-null   float64\n",
      " 56  구매액표준편차             3181 non-null   float64\n",
      " 57  중복구매배수              3500 non-null   float64\n",
      " 58  의류_거래율(의류+식품+생활잡화)  3500 non-null   float64\n",
      " 59  패션_대비_남성상품_거래율      3500 non-null   float64\n",
      " 60  패션_대비_여성상품_거래율      3500 non-null   float64\n",
      " 61  전체방문_중_환불방문(표준화)    3500 non-null   float64\n",
      " 62  월_재방문율              3500 non-null   float64\n",
      " 63  시즌 마감 방문비율          3500 non-null   float64\n",
      " 64  상반기 구매비율            3500 non-null   float64\n",
      " 65  구매 추세               3500 non-null   float64\n",
      " 66  주구매지점재방문률           3500 non-null   float64\n",
      " 67  내점시마다 구매액의 일관성      3500 non-null   float64\n",
      "dtypes: float64(42), int64(18), object(8)\n",
      "memory usage: 1.8+ MB\n"
     ]
    }
   ],
   "source": [
    "# 결측값 존재여부와 범주형 feature 확인\n",
    "X_train.info()"
   ]
  },
  {
   "cell_type": "code",
   "execution_count": 6,
   "metadata": {},
   "outputs": [],
   "source": [
    "# 범주형 변수와 수치형 변수를 분리\n",
    "cat_features = X_train.select_dtypes(include=['object']).columns.to_list()\n",
    "num_features = list(set(X_train.columns) - set(cat_features))"
   ]
  },
  {
   "cell_type": "markdown",
   "metadata": {},
   "source": [
    "Impute Missing Values"
   ]
  },
  {
   "cell_type": "code",
   "execution_count": 7,
   "metadata": {},
   "outputs": [],
   "source": [
    "from sklearn.impute import SimpleImputer \n",
    "\n",
    "if len(num_features) > 0:\n",
    "    imp = SimpleImputer(strategy='mean')\n",
    "    X_train[num_features] = imp.fit_transform(X_train[num_features])\n",
    "    X_test[num_features] = imp.transform(X_test[num_features])\n",
    "if len(cat_features) > 0:  \n",
    "    imp = SimpleImputer(strategy=\"most_frequent\")\n",
    "    X_train[cat_features] = imp.fit_transform(X_train[cat_features])\n",
    "    X_test[cat_features] = imp.transform(X_test[cat_features])"
   ]
  },
  {
   "cell_type": "markdown",
   "metadata": {},
   "source": [
    "#### Transform features (Feature Scaling)"
   ]
  },
  {
   "cell_type": "code",
   "execution_count": 9,
   "metadata": {},
   "outputs": [],
   "source": [
    "# DNN 모델링에서는 StandardScaler을 주로 사용\n",
    "from sklearn.preprocessing import StandardScaler\n",
    "\n",
    "scaler = StandardScaler()\n",
    "X_train[num_features] = scaler.fit_transform(X_train[num_features])\n",
    "X_test[num_features] = scaler.transform(X_test[num_features])"
   ]
  },
  {
   "cell_type": "markdown",
   "metadata": {},
   "source": [
    "#### Encode Categorical Variabels"
   ]
  },
  {
   "cell_type": "code",
   "execution_count": 11,
   "metadata": {},
   "outputs": [],
   "source": [
    "df_encoded = pd.get_dummies(pd.concat([X_train, X_test]), columns=cat_features)\n",
    "X_train = df_encoded[:X_train.shape[0]]\n",
    "X_test = df_encoded[X_train.shape[0]:]"
   ]
  },
  {
   "cell_type": "markdown",
   "metadata": {},
   "source": [
    "#### Select Features"
   ]
  },
  {
   "cell_type": "code",
   "execution_count": 13,
   "metadata": {},
   "outputs": [
    {
     "data": {
      "application/vnd.jupyter.widget-view+json": {
       "model_id": "d5b5f11f00a0468596b9daa85d9c94c4",
       "version_major": 2,
       "version_minor": 0
      },
      "text/plain": [
       "  0%|          | 0/95 [00:00<?, ?it/s]"
      ]
     },
     "metadata": {},
     "output_type": "display_data"
    },
    {
     "name": "stdout",
     "output_type": "stream",
     "text": [
      "(46, 0.736715940840205)\n"
     ]
    },
    {
     "data": {
      "image/png": "[encoded data removed]",
      "text/plain": [
       "<Figure size 432x288 with 1 Axes>"
      ]
     },
     "metadata": {
      "needs_background": "light"
     },
     "output_type": "display_data"
    }
   ],
   "source": [
    "from sklearn.linear_model import LogisticRegression\n",
    "from sklearn.feature_selection import SelectPercentile\n",
    "from sklearn.model_selection import cross_val_score\n",
    "from tqdm import tqdm, tqdm_notebook\n",
    "\n",
    "# 사용할 모델 설정 \n",
    "model = LogisticRegression(random_state=0)\n",
    "\n",
    "# 각 특성과 타깃(class) 사이에 유의한 통계적 관계가 있는지 계산하여 특성을 선택하는 방법 \n",
    "cv_scores = []\n",
    "for p in tqdm_notebook(range(5,100,1)):\n",
    "    X_new = SelectPercentile(percentile=p).fit_transform(X_train, y_train)    \n",
    "    cv_score = cross_val_score(model, X_new, y_train, scoring='roc_auc', cv=5).mean()\n",
    "    cv_scores.append((p,cv_score))\n",
    "\n",
    "# Print the best percentile\n",
    "best_score = cv_scores[np.argmax([score for _, score in cv_scores])]\n",
    "print(best_score)\n",
    "\n",
    "# Plot the performance change with p\n",
    "plt.plot([k for k, _ in cv_scores], [score for _, score in cv_scores])\n",
    "plt.xlabel('Percent of features')\n",
    "plt.grid()"
   ]
  },
  {
   "cell_type": "code",
   "execution_count": 14,
   "metadata": {},
   "outputs": [
    {
     "name": "stdout",
     "output_type": "stream",
     "text": [
      "(3500, 147)\n"
     ]
    }
   ],
   "source": [
    "fs = SelectPercentile(percentile=best_score[0]).fit(X_train, y_train)\n",
    "X_train = fs.transform(X_train)\n",
    "X_test = fs.transform(X_test)\n",
    "\n",
    "print(X_train.shape)"
   ]
  },
  {
   "cell_type": "markdown",
   "metadata": {},
   "source": [
    "#### Split Data into Train & Validation Set"
   ]
  },
  {
   "cell_type": "code",
   "execution_count": 16,
   "metadata": {},
   "outputs": [],
   "source": [
    "# DNN은 학습과정에서 과적합여부를 확인하는 것이 매우 중요하기 때문에 \n",
    "# 학습데이터를 Train/Validation 나누고 학습을 진행함.\n",
    "i = int(round(X_train.shape[0] * 0.6,0))\n",
    "X_valid, y_valid = X_train[i:], y_train[i:]\n",
    "X_train, y_train = X_train[:i], y_train[:i]"
   ]
  },
  {
   "cell_type": "markdown",
   "metadata": {},
   "source": [
    "#### Save all the preprocessed data"
   ]
  },
  {
   "cell_type": "code",
   "execution_count": 18,
   "metadata": {},
   "outputs": [],
   "source": [
    "# pickle 형식으로 저장\n",
    "with open('./data/preprocessed_data.pkl', 'wb') as f:\n",
    "    pickle.dump((X_train, y_train, X_valid, y_valid, X_test, ID_test), f)\n",
    "\n",
    "# 추후 저장한 모형 불러올 때: \n",
    "# X_train, y_train, X_valid, y_valid, X_test, ID_test = pd.read_pickle('preprocessed_data.pkl')"
   ]
  },
  {
   "cell_type": "markdown",
   "metadata": {},
   "source": [
    "### Step 2 : Define the model architecture\n",
    "#### Stack layers from input to output"
   ]
  },
  {
   "cell_type": "markdown",
   "metadata": {},
   "source": [
    "|모듈|사용 예 및 종류|\n",
    "|---|:---:|\n",
    "|Initializer| Dense(16, kernel_initializer='he_normal')|\n",
    "|Regularizer| Dense(16, kernel_regularizer=l2(0.01))|\n",
    "|Activation|relu / elu / selu / softmax / tanh / sigmoid / linear|"
   ]
  },
  {
   "cell_type": "code",
   "execution_count": 19,
   "metadata": {},
   "outputs": [],
   "source": [
    "# Input => Dense + Dense + ... => output\n",
    "# Model(input, output)\n",
    "\n",
    "input = keras.Input(shape=(X_train.shape[1],))"
   ]
  },
  {
   "cell_type": "code",
   "execution_count": 20,
   "metadata": {},
   "outputs": [],
   "source": [
    "x = keras.layers.Dense(16, activation='relu')(input)\n",
    "x = keras.layers.Dense(8, activation='relu')(x)\n",
    "output = keras.layers.Dense(1, activation='sigmoid')(x)\n",
    "model = keras.Model(input, output)"
   ]
  },
  {
   "cell_type": "markdown",
   "metadata": {},
   "source": [
    "*Keras Sequential API*\n",
    "```\n",
    "model = Sequential([\n",
    "  keras.layers.Dense(16, activation='relu', input_shape=(X_train.shape[1],)),\n",
    "  keras.layers.Dense(8),\n",
    "  keras.layers.Dense(1, activation='sigmoid')\n",
    "])\n",
    "```"
   ]
  },
  {
   "cell_type": "markdown",
   "metadata": {},
   "source": [
    "#### Summarize & Visualize the model"
   ]
  },
  {
   "cell_type": "code",
   "execution_count": 22,
   "metadata": {
    "scrolled": true
   },
   "outputs": [
    {
     "name": "stdout",
     "output_type": "stream",
     "text": [
      "Model: \"model\"\n",
      "_________________________________________________________________\n",
      " Layer (type)                Output Shape              Param #   \n",
      "=================================================================\n",
      " input_1 (InputLayer)        [(None, 147)]             0         \n",
      "                                                                 \n",
      " dense (Dense)               (None, 16)                2368      \n",
      "                                                                 \n",
      " dense_1 (Dense)             (None, 8)                 136       \n",
      "                                                                 \n",
      " dense_2 (Dense)             (None, 1)                 9         \n",
      "                                                                 \n",
      "=================================================================\n",
      "Total params: 2,513\n",
      "Trainable params: 2,513\n",
      "Non-trainable params: 0\n",
      "_________________________________________________________________\n"
     ]
    }
   ],
   "source": [
    "model.summary()\n",
    "#Image(keras.utils.model_to_dot(model,show_shapes=True,show_layer_names=False, dpi=100) \\\n",
    "#      .create(prog='dot', format='png'))"
   ]
  },
  {
   "cell_type": "markdown",
   "metadata": {},
   "source": [
    "### Step 3: Choose the optimizer and the cost function\n",
    "<img align='left' src='http://drive.google.com/uc?export=view&id=1xybqHMvcDDfUYSN3FLQ6Y1708QkiZSJt' style=\"width: 70%\">"
   ]
  },
  {
   "cell_type": "markdown",
   "metadata": {},
   "source": [
    "*Optimizer의 예:*\n",
    "- keras.optimizers.SGD(lr=0.01, momentum=0.9)\n",
    "- keras.optimizers.RMSprop(lr=0.001, rho=0.9)\n",
    "- keras.optimizers.Adagrad(lr=0.01)\n",
    "- keras.optimizers.Adam(lr=0.001, beta_1=0.9, beta_2=0.999)"
   ]
  },
  {
   "cell_type": "code",
   "execution_count": 23,
   "metadata": {},
   "outputs": [],
   "source": [
    "# loss, optimizer, metrics 설정\n",
    "model.compile(loss='binary_crossentropy', optimizer='adam', metrics=['acc', keras.metrics.AUC()])"
   ]
  },
  {
   "cell_type": "markdown",
   "metadata": {},
   "source": [
    "### Step 4: Train the model\n",
    "#### Set learning conditions & fit the model "
   ]
  },
  {
   "cell_type": "code",
   "execution_count": 24,
   "metadata": {},
   "outputs": [
    {
     "name": "stdout",
     "output_type": "stream",
     "text": [
      "Epoch 1/50\n",
      "5/5 - 2s - loss: 0.7978 - acc: 0.3862 - auc: 0.4530 - val_loss: 0.7790 - val_acc: 0.3943 - val_auc: 0.4650 - 2s/epoch - 434ms/step\n",
      "Epoch 2/50\n",
      "5/5 - 0s - loss: 0.7626 - acc: 0.3957 - auc: 0.4887 - val_loss: 0.7496 - val_acc: 0.4121 - val_auc: 0.5015 - 60ms/epoch - 12ms/step\n",
      "Epoch 3/50\n",
      "5/5 - 0s - loss: 0.7362 - acc: 0.4171 - auc: 0.5226 - val_loss: 0.7276 - val_acc: 0.4564 - val_auc: 0.5370 - 59ms/epoch - 12ms/step\n",
      "Epoch 4/50\n",
      "5/5 - 0s - loss: 0.7165 - acc: 0.4629 - auc: 0.5533 - val_loss: 0.7103 - val_acc: 0.5250 - val_auc: 0.5620 - 59ms/epoch - 12ms/step\n",
      "Epoch 5/50\n",
      "5/5 - 0s - loss: 0.7010 - acc: 0.5205 - auc: 0.5778 - val_loss: 0.6963 - val_acc: 0.5550 - val_auc: 0.5837 - 66ms/epoch - 13ms/step\n",
      "Epoch 6/50\n",
      "5/5 - 0s - loss: 0.6880 - acc: 0.5690 - auc: 0.5990 - val_loss: 0.6845 - val_acc: 0.5850 - val_auc: 0.6001 - 61ms/epoch - 12ms/step\n",
      "Epoch 7/50\n",
      "5/5 - 0s - loss: 0.6768 - acc: 0.6138 - auc: 0.6176 - val_loss: 0.6741 - val_acc: 0.6021 - val_auc: 0.6142 - 56ms/epoch - 11ms/step\n",
      "Epoch 8/50\n",
      "5/5 - 0s - loss: 0.6667 - acc: 0.6295 - auc: 0.6340 - val_loss: 0.6644 - val_acc: 0.6193 - val_auc: 0.6284 - 65ms/epoch - 13ms/step\n",
      "Epoch 9/50\n",
      "5/5 - 0s - loss: 0.6574 - acc: 0.6443 - auc: 0.6486 - val_loss: 0.6556 - val_acc: 0.6321 - val_auc: 0.6399 - 58ms/epoch - 12ms/step\n",
      "Epoch 10/50\n",
      "5/5 - 0s - loss: 0.6489 - acc: 0.6643 - auc: 0.6597 - val_loss: 0.6477 - val_acc: 0.6429 - val_auc: 0.6502 - 48ms/epoch - 10ms/step\n",
      "Epoch 11/50\n",
      "5/5 - 0s - loss: 0.6410 - acc: 0.6710 - auc: 0.6706 - val_loss: 0.6404 - val_acc: 0.6464 - val_auc: 0.6600 - 45ms/epoch - 9ms/step\n",
      "Epoch 12/50\n",
      "5/5 - 0s - loss: 0.6334 - acc: 0.6767 - auc: 0.6808 - val_loss: 0.6337 - val_acc: 0.6536 - val_auc: 0.6682 - 55ms/epoch - 11ms/step\n",
      "Epoch 13/50\n",
      "5/5 - 0s - loss: 0.6263 - acc: 0.6738 - auc: 0.6894 - val_loss: 0.6278 - val_acc: 0.6593 - val_auc: 0.6738 - 52ms/epoch - 10ms/step\n",
      "Epoch 14/50\n",
      "5/5 - 0s - loss: 0.6196 - acc: 0.6795 - auc: 0.6975 - val_loss: 0.6227 - val_acc: 0.6621 - val_auc: 0.6794 - 47ms/epoch - 9ms/step\n",
      "Epoch 15/50\n",
      "5/5 - 0s - loss: 0.6133 - acc: 0.6838 - auc: 0.7046 - val_loss: 0.6184 - val_acc: 0.6614 - val_auc: 0.6833 - 45ms/epoch - 9ms/step\n",
      "Epoch 16/50\n",
      "5/5 - 0s - loss: 0.6075 - acc: 0.6876 - auc: 0.7111 - val_loss: 0.6148 - val_acc: 0.6586 - val_auc: 0.6873 - 45ms/epoch - 9ms/step\n",
      "Epoch 17/50\n",
      "5/5 - 0s - loss: 0.6022 - acc: 0.6910 - auc: 0.7165 - val_loss: 0.6117 - val_acc: 0.6593 - val_auc: 0.6907 - 63ms/epoch - 13ms/step\n",
      "Epoch 18/50\n",
      "5/5 - 0s - loss: 0.5975 - acc: 0.6914 - auc: 0.7221 - val_loss: 0.6092 - val_acc: 0.6621 - val_auc: 0.6939 - 77ms/epoch - 15ms/step\n",
      "Epoch 19/50\n",
      "5/5 - 0s - loss: 0.5930 - acc: 0.6943 - auc: 0.7271 - val_loss: 0.6070 - val_acc: 0.6643 - val_auc: 0.6962 - 54ms/epoch - 11ms/step\n",
      "Epoch 20/50\n",
      "5/5 - 0s - loss: 0.5889 - acc: 0.6981 - auc: 0.7317 - val_loss: 0.6050 - val_acc: 0.6679 - val_auc: 0.6992 - 61ms/epoch - 12ms/step\n",
      "Epoch 21/50\n",
      "5/5 - 0s - loss: 0.5850 - acc: 0.7014 - auc: 0.7363 - val_loss: 0.6032 - val_acc: 0.6729 - val_auc: 0.7017 - 55ms/epoch - 11ms/step\n",
      "Epoch 22/50\n",
      "5/5 - 0s - loss: 0.5814 - acc: 0.7043 - auc: 0.7403 - val_loss: 0.6016 - val_acc: 0.6714 - val_auc: 0.7048 - 63ms/epoch - 13ms/step\n",
      "Epoch 23/50\n",
      "5/5 - 0s - loss: 0.5781 - acc: 0.7038 - auc: 0.7442 - val_loss: 0.6002 - val_acc: 0.6736 - val_auc: 0.7068 - 56ms/epoch - 11ms/step\n",
      "Epoch 24/50\n",
      "5/5 - 0s - loss: 0.5750 - acc: 0.7081 - auc: 0.7477 - val_loss: 0.5990 - val_acc: 0.6743 - val_auc: 0.7083 - 62ms/epoch - 12ms/step\n",
      "Epoch 25/50\n",
      "5/5 - 0s - loss: 0.5720 - acc: 0.7129 - auc: 0.7511 - val_loss: 0.5978 - val_acc: 0.6807 - val_auc: 0.7102 - 61ms/epoch - 12ms/step\n",
      "Epoch 26/50\n",
      "5/5 - 0s - loss: 0.5691 - acc: 0.7162 - auc: 0.7541 - val_loss: 0.5967 - val_acc: 0.6829 - val_auc: 0.7120 - 58ms/epoch - 12ms/step\n",
      "Epoch 27/50\n",
      "5/5 - 0s - loss: 0.5665 - acc: 0.7190 - auc: 0.7573 - val_loss: 0.5958 - val_acc: 0.6814 - val_auc: 0.7137 - 54ms/epoch - 11ms/step\n",
      "Epoch 28/50\n",
      "5/5 - 0s - loss: 0.5639 - acc: 0.7205 - auc: 0.7600 - val_loss: 0.5950 - val_acc: 0.6807 - val_auc: 0.7150 - 59ms/epoch - 12ms/step\n",
      "Epoch 29/50\n",
      "5/5 - 0s - loss: 0.5616 - acc: 0.7195 - auc: 0.7624 - val_loss: 0.5942 - val_acc: 0.6771 - val_auc: 0.7167 - 67ms/epoch - 13ms/step\n",
      "Epoch 30/50\n",
      "5/5 - 0s - loss: 0.5593 - acc: 0.7205 - auc: 0.7648 - val_loss: 0.5936 - val_acc: 0.6757 - val_auc: 0.7177 - 62ms/epoch - 12ms/step\n",
      "Epoch 31/50\n",
      "5/5 - 0s - loss: 0.5571 - acc: 0.7248 - auc: 0.7671 - val_loss: 0.5931 - val_acc: 0.6800 - val_auc: 0.7184 - 63ms/epoch - 13ms/step\n",
      "Epoch 32/50\n",
      "5/5 - 0s - loss: 0.5550 - acc: 0.7252 - auc: 0.7694 - val_loss: 0.5926 - val_acc: 0.6800 - val_auc: 0.7199 - 75ms/epoch - 15ms/step\n",
      "Epoch 33/50\n",
      "5/5 - 0s - loss: 0.5530 - acc: 0.7281 - auc: 0.7713 - val_loss: 0.5921 - val_acc: 0.6786 - val_auc: 0.7208 - 56ms/epoch - 11ms/step\n",
      "Epoch 34/50\n",
      "5/5 - 0s - loss: 0.5510 - acc: 0.7295 - auc: 0.7735 - val_loss: 0.5918 - val_acc: 0.6800 - val_auc: 0.7218 - 50ms/epoch - 10ms/step\n",
      "Epoch 35/50\n",
      "5/5 - 0s - loss: 0.5492 - acc: 0.7305 - auc: 0.7757 - val_loss: 0.5916 - val_acc: 0.6800 - val_auc: 0.7221 - 52ms/epoch - 10ms/step\n",
      "Epoch 36/50\n",
      "5/5 - 0s - loss: 0.5474 - acc: 0.7305 - auc: 0.7773 - val_loss: 0.5914 - val_acc: 0.6807 - val_auc: 0.7226 - 44ms/epoch - 9ms/step\n",
      "Epoch 37/50\n",
      "5/5 - 0s - loss: 0.5457 - acc: 0.7305 - auc: 0.7788 - val_loss: 0.5913 - val_acc: 0.6786 - val_auc: 0.7229 - 44ms/epoch - 9ms/step\n",
      "Epoch 38/50\n",
      "5/5 - 0s - loss: 0.5440 - acc: 0.7319 - auc: 0.7804 - val_loss: 0.5913 - val_acc: 0.6800 - val_auc: 0.7231 - 47ms/epoch - 9ms/step\n",
      "Epoch 39/50\n",
      "5/5 - 0s - loss: 0.5423 - acc: 0.7314 - auc: 0.7823 - val_loss: 0.5912 - val_acc: 0.6800 - val_auc: 0.7232 - 44ms/epoch - 9ms/step\n",
      "Epoch 40/50\n",
      "5/5 - 0s - loss: 0.5406 - acc: 0.7338 - auc: 0.7838 - val_loss: 0.5912 - val_acc: 0.6800 - val_auc: 0.7239 - 45ms/epoch - 9ms/step\n",
      "Epoch 41/50\n",
      "5/5 - 0s - loss: 0.5389 - acc: 0.7367 - auc: 0.7854 - val_loss: 0.5912 - val_acc: 0.6807 - val_auc: 0.7245 - 44ms/epoch - 9ms/step\n",
      "Epoch 42/50\n",
      "5/5 - 0s - loss: 0.5373 - acc: 0.7381 - auc: 0.7869 - val_loss: 0.5913 - val_acc: 0.6786 - val_auc: 0.7249 - 54ms/epoch - 11ms/step\n",
      "Epoch 43/50\n",
      "5/5 - 0s - loss: 0.5358 - acc: 0.7376 - auc: 0.7886 - val_loss: 0.5914 - val_acc: 0.6786 - val_auc: 0.7250 - 63ms/epoch - 13ms/step\n",
      "Epoch 44/50\n",
      "5/5 - 0s - loss: 0.5343 - acc: 0.7376 - auc: 0.7899 - val_loss: 0.5916 - val_acc: 0.6771 - val_auc: 0.7254 - 58ms/epoch - 12ms/step\n",
      "Epoch 45/50\n",
      "5/5 - 0s - loss: 0.5328 - acc: 0.7357 - auc: 0.7913 - val_loss: 0.5917 - val_acc: 0.6757 - val_auc: 0.7256 - 65ms/epoch - 13ms/step\n"
     ]
    }
   ],
   "source": [
    "# batch size, epoch, 조기종료조건 등 설정\n",
    "callbacks = [keras.callbacks.EarlyStopping(monitor='val_loss', patience=5),]\n",
    "# keras.callbacks.ModelCheckpoint(filepath='best_nn_model.h5', monitor='val_loss', save_best_only=True)]\n",
    "\n",
    "hist = model.fit(X_train, y_train, validation_data=(X_valid, y_valid), \n",
    "                 batch_size=512, epochs=50, callbacks=callbacks, shuffle=False, verbose=2)"
   ]
  },
  {
   "cell_type": "markdown",
   "metadata": {},
   "source": [
    "##### Visualize training history "
   ]
  },
  {
   "cell_type": "code",
   "execution_count": 25,
   "metadata": {
    "scrolled": true
   },
   "outputs": [
    {
     "data": {
      "image/png": "[encoded data removed]",
      "text/plain": [
       "<Figure size 432x288 with 1 Axes>"
      ]
     },
     "metadata": {
      "needs_background": "light"
     },
     "output_type": "display_data"
    },
    {
     "data": {
      "image/png": "[encoded data removed]",
      "text/plain": [
       "<Figure size 432x288 with 1 Axes>"
      ]
     },
     "metadata": {
      "needs_background": "light"
     },
     "output_type": "display_data"
    }
   ],
   "source": [
    "# Loss\n",
    "plt.plot(hist.history[\"loss\"], label=\"train\")\n",
    "plt.plot(hist.history[\"val_loss\"], label=\"validation\")\n",
    "plt.legend()\n",
    "plt.xlabel('epoch')\n",
    "plt.title(\"Loss\")\n",
    "plt.show()\n",
    "\n",
    "# ROC-AUC\n",
    "plt.plot(hist.history[\"auc\"], label=\"train\")\n",
    "plt.plot(hist.history[\"val_auc\"], label=\"validation\")\n",
    "plt.legend()\n",
    "plt.xlabel('epoch')\n",
    "plt.title(\"ROC-AUC\")\n",
    "plt.show()"
   ]
  },
  {
   "cell_type": "markdown",
   "metadata": {},
   "source": [
    "### Step 5: Evaluate the model performance"
   ]
  },
  {
   "cell_type": "code",
   "execution_count": 26,
   "metadata": {},
   "outputs": [
    {
     "name": "stdout",
     "output_type": "stream",
     "text": [
      "44/44 [==============================] - 0s 2ms/step - loss: 0.5917 - acc: 0.6757 - auc: 0.7256\n"
     ]
    },
    {
     "data": {
      "text/plain": [
       "[0.5917451977729797, 0.6757143139839172, 0.7256353497505188]"
      ]
     },
     "execution_count": 26,
     "metadata": {},
     "output_type": "execute_result"
    }
   ],
   "source": [
    "# Loss, Accuracy & ROC-AUC\n",
    "model.evaluate(X_valid, y_valid)"
   ]
  },
  {
   "cell_type": "markdown",
   "metadata": {},
   "source": [
    "### Step 6: Predict unseen data"
   ]
  },
  {
   "cell_type": "code",
   "execution_count": 27,
   "metadata": {},
   "outputs": [
    {
     "name": "stdout",
     "output_type": "stream",
     "text": [
      "78/78 [==============================] - 0s 2ms/step\n"
     ]
    },
    {
     "data": {
      "text/plain": [
       "array([0.5983922 , 0.14894284, 0.32919255, ..., 0.7445351 , 0.5807363 ,\n",
       "       0.49491963], dtype=float32)"
      ]
     },
     "execution_count": 27,
     "metadata": {},
     "output_type": "execute_result"
    }
   ],
   "source": [
    "# Generates output predictions for the input samples\n",
    "model.predict(X_test).flatten()"
   ]
  },
  {
   "cell_type": "code",
   "execution_count": 28,
   "metadata": {},
   "outputs": [
    {
     "name": "stdout",
     "output_type": "stream",
     "text": [
      "78/78 [==============================] - 0s 2ms/step\n"
     ]
    },
    {
     "data": {
      "text/plain": [
       "array([1, 0, 0, ..., 1, 1, 0])"
      ]
     },
     "execution_count": 28,
     "metadata": {},
     "output_type": "execute_result"
    }
   ],
   "source": [
    "# Get class labels\n",
    "np.where(model.predict(X_test) > 0.5, 1, 0).flatten()"
   ]
  },
  {
   "cell_type": "code",
   "execution_count": 29,
   "metadata": {},
   "outputs": [
    {
     "name": "stdout",
     "output_type": "stream",
     "text": [
      "78/78 [==============================] - 0s 1ms/step\n",
      "'dnn_submission_11252151.csv' is ready to submit.\n"
     ]
    }
   ],
   "source": [
    "# Make submissions\n",
    "t = pd.Timestamp.now()\n",
    "fname = f\"dnn_submission_{t.month:02}{t.day:02}{t.hour:02}{t.minute:02}.csv\"\n",
    "pd.DataFrame({'ID': ID_test, 'gender': model.predict(X_test).flatten()}).to_csv(fname, index=False)\n",
    "print(f\"'{fname}' is ready to submit.\")"
   ]
  },
  {
   "cell_type": "markdown",
   "metadata": {},
   "source": [
    "###  Step 7: Save the model for future use"
   ]
  },
  {
   "cell_type": "code",
   "execution_count": 30,
   "metadata": {},
   "outputs": [],
   "source": [
    "# pickle 형식으로 저장\n",
    "# with open('nn_model.pkl', 'wb') as f:\n",
    "#    pickle.dump(model, f)\n",
    "\n",
    "# 추후 저장한 모형 불러올 때: \n",
    "# model = pd.read_pickle('nn_model.pkl')"
   ]
  },
  {
   "cell_type": "code",
   "execution_count": 31,
   "metadata": {},
   "outputs": [],
   "source": [
    "# h5 형식으로 저장\n",
    "# model.save('nn_model.h5')\n",
    "\n",
    "# 추후 저장한 모형 불러올 때: \n",
    "# model = load_model('nn_model.h5')"
   ]
  },
  {
   "cell_type": "markdown",
   "metadata": {},
   "source": [
    "<font color='tomato'><font color=\"#CC3D3D\"><p>\n",
    "# Automated Hyperparameter Tuning with Keras Tuner \n",
    "https://www.tensorflow.org/tutorials/keras/keras_tuner?hl=ko "
   ]
  },
  {
   "cell_type": "code",
   "execution_count": 32,
   "metadata": {},
   "outputs": [],
   "source": [
    "# keras tuner 설치\n",
    "#!pip install -q -U keras-tuner\n",
    "import kerastuner as kt"
   ]
  },
  {
   "cell_type": "markdown",
   "metadata": {},
   "source": [
    "### Step 1 : Load the Data"
   ]
  },
  {
   "cell_type": "code",
   "execution_count": 34,
   "metadata": {},
   "outputs": [
    {
     "data": {
      "text/plain": [
       "((2100, 147), (1400, 147), (2482, 147))"
      ]
     },
     "execution_count": 34,
     "metadata": {},
     "output_type": "execute_result"
    }
   ],
   "source": [
    "# 앞 단계(Feature Enginnering)에서 저장했던 훈련/평가/적용 데이터를 읽어온다.\n",
    "# 아래과 같이 pickle 형식으로 저장하였음:\n",
    "\n",
    "# with open('preprocessed_data.pkl', 'wb') as f:\n",
    "#     pickle.dump((X_train, y_train, X_valid, y_valid, X_test, ID_Test), f)\n",
    "\n",
    "X_train, y_train, X_valid, y_valid, X_test, ID_test = pd.read_pickle('./data/preprocessed_data.pkl')\n",
    "\n",
    "# 모델링에 사용되는 최종 학습 및 평가 데이터 확인\n",
    "X_train.shape, X_valid.shape, X_test.shape"
   ]
  },
  {
   "cell_type": "markdown",
   "metadata": {},
   "source": [
    "### Step 2 : Define the hyper-model"
   ]
  },
  {
   "cell_type": "code",
   "execution_count": 35,
   "metadata": {},
   "outputs": [],
   "source": [
    "def model_fn(hp):\n",
    "    inputs = keras.Input(shape=(X_train.shape[1],))\n",
    "    x = keras.layers.Dense(hp.Int('unit', 8, 16, step=8), hp.Choice('activation', ['relu', 'elu']))(inputs)\n",
    "    x = keras.layers.Dropout(hp.Float('dropout', 0, 0.25, step=0.25, default=0.25))(x)\n",
    "    outputs = keras.layers.Dense(1, activation='sigmoid')(x)\n",
    "    model = keras.Model(inputs, outputs)\n",
    "    model.compile(loss='binary_crossentropy', \n",
    "                  optimizer=tf.keras.optimizers.Adam(hp.Choice('learning_rate', [1e-2, 1e-3])), \n",
    "                  metrics=[keras.metrics.AUC()])\n",
    "    return model"
   ]
  },
  {
   "cell_type": "code",
   "execution_count": null,
   "metadata": {},
   "outputs": [],
   "source": [
    "\"\"\"\n",
    "best_hps = tuner.get_best_hyperparameters(1)[0]\n",
    "model = tuner.hypermodel.build(best_hps)\n",
    "\n",
    "callbacks = [keras.callbacks.EarlyStopping(monitor='val_loss', patience=3),]\n",
    "hist = model.fit(X_train, y_train, validation_data=(X_valid, y_valid), \n",
    "                 batch_size=1024, epochs=50, callbacks=callbacks, shuffle=False, verbose=2)\n",
    "\n",
    "# Loss\n",
    "plt.plot(hist.history[\"loss\"], label=\"train\")\n",
    "plt.plot(hist.history[\"val_loss\"], label=\"validation\")\n",
    "plt.legend()\n",
    "plt.xlabel('epoch')\n",
    "plt.title(\"Loss\")\n",
    "plt.show()\n",
    "\"\"\""
   ]
  },
  {
   "cell_type": "markdown",
   "metadata": {},
   "source": [
    "### Step 3 : Perform the hyper-tuning"
   ]
  },
  {
   "cell_type": "code",
   "execution_count": 37,
   "metadata": {},
   "outputs": [
    {
     "name": "stdout",
     "output_type": "stream",
     "text": [
      "Trial 19 Complete [00h 00m 03s]\n",
      "val_auc: 0.7252895832061768\n",
      "\n",
      "Best val_auc So Far: 0.7334313988685608\n",
      "Total elapsed time: 00h 00m 43s\n",
      "INFO:tensorflow:Oracle triggered exit\n"
     ]
    }
   ],
   "source": [
    "tuner = kt.Hyperband(model_fn,\n",
    "                     objective=kt.Objective('val_auc', direction=\"max\"), \n",
    "                     max_epochs=5,\n",
    "                     hyperband_iterations=2,\n",
    "                     overwrite=True,\n",
    "                     directory='dnn_tuning')\n",
    "\n",
    "tuner.search(X_train, y_train, validation_data=(X_valid, y_valid), \n",
    "             callbacks=[tf.keras.callbacks.EarlyStopping(patience=1)])"
   ]
  },
  {
   "cell_type": "markdown",
   "metadata": {},
   "source": [
    "### Step 4 : Build the model\n",
    "#### Get the best model"
   ]
  },
  {
   "cell_type": "code",
   "execution_count": 38,
   "metadata": {},
   "outputs": [
    {
     "name": "stdout",
     "output_type": "stream",
     "text": [
      "Model: \"model\"\n",
      "_________________________________________________________________\n",
      " Layer (type)                Output Shape              Param #   \n",
      "=================================================================\n",
      " input_1 (InputLayer)        [(None, 147)]             0         \n",
      "                                                                 \n",
      " dense (Dense)               (None, 16)                2368      \n",
      "                                                                 \n",
      " dropout (Dropout)           (None, 16)                0         \n",
      "                                                                 \n",
      " dense_1 (Dense)             (None, 1)                 17        \n",
      "                                                                 \n",
      "=================================================================\n",
      "Total params: 2,385\n",
      "Trainable params: 2,385\n",
      "Non-trainable params: 0\n",
      "_________________________________________________________________\n"
     ]
    }
   ],
   "source": [
    "model = tuner.get_best_models(1)[0]\n",
    "model.summary()"
   ]
  },
  {
   "cell_type": "code",
   "execution_count": 39,
   "metadata": {},
   "outputs": [
    {
     "name": "stdout",
     "output_type": "stream",
     "text": [
      "Results summary\n",
      "Results in dnn_tuning\\untitled_project\n",
      "Showing 1 best trials\n",
      "<keras_tuner.engine.objective.Objective object at 0x000001DCED2B4460>\n",
      "Trial summary\n",
      "Hyperparameters:\n",
      "unit: 16\n",
      "activation: relu\n",
      "dropout: 0.0\n",
      "learning_rate: 0.01\n",
      "tuner/epochs: 5\n",
      "tuner/initial_epoch: 0\n",
      "tuner/bracket: 0\n",
      "tuner/round: 0\n",
      "Score: 0.7334313988685608\n"
     ]
    }
   ],
   "source": [
    "tuner.results_summary(1)"
   ]
  },
  {
   "cell_type": "markdown",
   "metadata": {},
   "source": [
    "#### Build the model with the optimal hyperparameters and train it on data"
   ]
  },
  {
   "cell_type": "code",
   "execution_count": null,
   "metadata": {},
   "outputs": [],
   "source": [
    "\"\"\"\n",
    "best_hps = tuner.get_best_hyperparameters(1)[0]\n",
    "model = tuner.hypermodel.build(best_hps)\n",
    "\n",
    "callbacks = [keras.callbacks.EarlyStopping(monitor='val_loss', patience=3),]\n",
    "hist = model.fit(X_train, y_train, validation_data=(X_valid, y_valid), \n",
    "                 batch_size=1024, epochs=50, callbacks=callbacks, shuffle=False, verbose=2)\n",
    "\n",
    "# Loss\n",
    "plt.plot(hist.history[\"loss\"], label=\"train\")\n",
    "plt.plot(hist.history[\"val_loss\"], label=\"validation\")\n",
    "plt.legend()\n",
    "plt.xlabel('epoch')\n",
    "plt.title(\"Loss\")\n",
    "plt.show()\n",
    "\"\"\""
   ]
  },
  {
   "cell_type": "markdown",
   "metadata": {},
   "source": [
    "### Step 5 : Make a Submission"
   ]
  },
  {
   "cell_type": "code",
   "execution_count": null,
   "metadata": {},
   "outputs": [],
   "source": [
    "t = pd.Timestamp.now()\n",
    "fname = f\"dnn_tuned_submission_{t.month:02}{t.day:02}{t.hour:02}{t.minute:02}.csv\"\n",
    "pd.DataFrame({'ID': ID_test, 'gender': model.predict(X_test).flatten()}).to_csv(fname, index=False)\n",
    "print(f\"'{fname}' is ready to submit.\")"
   ]
  }
 ],
 "metadata": {
  "kernelspec": {
   "display_name": "Python 3 (ipykernel)",
   "language": "python",
   "name": "python3"
  },
  "language_info": {
   "codemirror_mode": {
    "name": "ipython",
    "version": 3
   },
   "file_extension": ".py",
   "mimetype": "text/x-python",
   "name": "python",
   "nbconvert_exporter": "python",
   "pygments_lexer": "ipython3",
   "version": "3.9.12"
  },
  "vscode": {
   "interpreter": {
    "hash": "68756eb6c044f31c46e3e1f38723aea1f0146198488dd3d60c0e4241eb6f7dd0"
   }
  }
 },
 "nbformat": 4,
 "nbformat_minor": 2
}
