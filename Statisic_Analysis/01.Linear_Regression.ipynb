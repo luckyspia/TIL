{
 "cells": [
  {
   "cell_type": "code",
   "execution_count": 1,
   "metadata": {},
   "outputs": [],
   "source": [
    "from pathlib import Path\n",
    "import random\n",
    "\n",
    "import pandas as pd\n",
    "import numpy as np\n",
    "import pylab\n",
    "from scipy import stats\n",
    "import statsmodels.api as sm\n",
    "import statsmodels.formula.api as smf\n",
    "from statsmodels.stats import weightstats\n",
    "from statsmodels.stats import proportion\n",
    "from statsmodels.stats.outliers_influence import OLSInfluence\n",
    "from scipy.stats import t\n",
    "\n",
    "import matplotlib.pyplot as plt\n",
    "%matplotlib inline"
   ]
  },
  {
   "attachments": {},
   "cell_type": "markdown",
   "metadata": {},
   "source": [
    "### Session Time (Mean) Estimation"
   ]
  },
  {
   "cell_type": "code",
   "execution_count": 5,
   "metadata": {},
   "outputs": [
    {
     "data": {
      "text/html": [
       "<div>\n",
       "<style scoped>\n",
       "    .dataframe tbody tr th:only-of-type {\n",
       "        vertical-align: middle;\n",
       "    }\n",
       "\n",
       "    .dataframe tbody tr th {\n",
       "        vertical-align: top;\n",
       "    }\n",
       "\n",
       "    .dataframe thead th {\n",
       "        text-align: right;\n",
       "    }\n",
       "</style>\n",
       "<table border=\"1\" class=\"dataframe\">\n",
       "  <thead>\n",
       "    <tr style=\"text-align: right;\">\n",
       "      <th></th>\n",
       "      <th>Page</th>\n",
       "      <th>Time</th>\n",
       "    </tr>\n",
       "  </thead>\n",
       "  <tbody>\n",
       "    <tr>\n",
       "      <th>0</th>\n",
       "      <td>Page A</td>\n",
       "      <td>21.0</td>\n",
       "    </tr>\n",
       "    <tr>\n",
       "      <th>1</th>\n",
       "      <td>Page B</td>\n",
       "      <td>253.0</td>\n",
       "    </tr>\n",
       "    <tr>\n",
       "      <th>2</th>\n",
       "      <td>Page A</td>\n",
       "      <td>35.0</td>\n",
       "    </tr>\n",
       "    <tr>\n",
       "      <th>3</th>\n",
       "      <td>Page B</td>\n",
       "      <td>71.0</td>\n",
       "    </tr>\n",
       "    <tr>\n",
       "      <th>4</th>\n",
       "      <td>Page A</td>\n",
       "      <td>67.0</td>\n",
       "    </tr>\n",
       "  </tbody>\n",
       "</table>\n",
       "</div>"
      ],
      "text/plain": [
       "     Page   Time\n",
       "0  Page A   21.0\n",
       "1  Page B  253.0\n",
       "2  Page A   35.0\n",
       "3  Page B   71.0\n",
       "4  Page A   67.0"
      ]
     },
     "execution_count": 5,
     "metadata": {},
     "output_type": "execute_result"
    }
   ],
   "source": [
    "# 평균 session time이 길어야 160초이고, 이를 늘리기 위해 새로운 웹 프레젠테이션이 필요하다고 주장한다면?\n",
    "\n",
    "data_path = './data/'\n",
    "\n",
    "session_times = pd.read_csv(data_path + 'web_page_data.csv')\n",
    "session_times.Time = 100 * session_times.Time # 초 단위로 변환\n",
    "\n",
    "session_times.head()"
   ]
  },
  {
   "cell_type": "code",
   "execution_count": 6,
   "metadata": {},
   "outputs": [
    {
     "data": {
      "text/plain": [
       "(141.19444444444446, 94.24067045736659)"
      ]
     },
     "execution_count": 6,
     "metadata": {},
     "output_type": "execute_result"
    }
   ],
   "source": [
    "session_times.Time.mean(), session_times.Time.std()"
   ]
  },
  {
   "cell_type": "code",
   "execution_count": 7,
   "metadata": {},
   "outputs": [
    {
     "data": {
      "text/plain": [
       "(109.30798906792316, 173.08089982096575)"
      ]
     },
     "execution_count": 7,
     "metadata": {},
     "output_type": "execute_result"
    }
   ],
   "source": [
    "# confidence interval = t분포 하의 신뢰구간 (유의수준 설정)\n",
    "stat = weightstats.DescrStatsW(session_times.Time)\n",
    "stat.tconfint_mean(alpha=0.05)"
   ]
  },
  {
   "cell_type": "markdown",
   "metadata": {},
   "source": [
    "### 가설검정"
   ]
  },
  {
   "cell_type": "code",
   "execution_count": 9,
   "metadata": {},
   "outputs": [
    {
     "data": {
      "image/png": "[encoded data removed]",
      "text/plain": [
       "<Figure size 432x288 with 1 Axes>"
      ]
     },
     "metadata": {
      "needs_background": "light"
     },
     "output_type": "display_data"
    }
   ],
   "source": [
    "# One sample t-test를 위한 가정 체크\n",
    "# → 자료가 정규분포를 따른다거나, 심하게 편중되거나 극단치가 포함되는 경우, 표본 수가 50(혹은 30)개 이상\n",
    "\n",
    "session_times.Time.hist()\n",
    "plt.show()"
   ]
  },
  {
   "cell_type": "markdown",
   "metadata": {},
   "source": [
    "#### 검정통계량과 P-value의 계산  \n",
    "    - 귀무가설이 참이라고 가정할 때 아래의 T-통계량은 자유도 n-1을 가지는 t분포를 따름  \n",
    "$$ T-statistics =\\frac{\\bar x - \\mu_0 }{s/\\sqrt n } \\sim t_{n-1}$$  "
   ]
  },
  {
   "cell_type": "code",
   "execution_count": 10,
   "metadata": {},
   "outputs": [
    {
     "name": "stdout",
     "output_type": "stream",
     "text": [
      "T_statistics: -1.197, p-value: 0.120, degrees of freedom: 35\n"
     ]
    }
   ],
   "source": [
    "# One Sample T-test\n",
    "# 귀무가설이 참이라고 가정할 때, T 통계량은 자유도 n-1을 갖는 T 분포를 따름\n",
    "\n",
    "t_result = stat.ttest_mean(value = 160, alternative='smaller')\n",
    "print('T_statistics: %.3f, p-value: %.3f, degrees of freedom: %i' %(t_result))"
   ]
  },
  {
   "cell_type": "code",
   "execution_count": 11,
   "metadata": {},
   "outputs": [
    {
     "data": {
      "text/html": [
       "<div>\n",
       "<style scoped>\n",
       "    .dataframe tbody tr th:only-of-type {\n",
       "        vertical-align: middle;\n",
       "    }\n",
       "\n",
       "    .dataframe tbody tr th {\n",
       "        vertical-align: top;\n",
       "    }\n",
       "\n",
       "    .dataframe thead th {\n",
       "        text-align: right;\n",
       "    }\n",
       "</style>\n",
       "<table border=\"1\" class=\"dataframe\">\n",
       "  <thead>\n",
       "    <tr style=\"text-align: right;\">\n",
       "      <th></th>\n",
       "      <th>Unnamed: 0</th>\n",
       "      <th>TV</th>\n",
       "      <th>Radio</th>\n",
       "      <th>Newspaper</th>\n",
       "      <th>Sales</th>\n",
       "    </tr>\n",
       "  </thead>\n",
       "  <tbody>\n",
       "    <tr>\n",
       "      <th>0</th>\n",
       "      <td>1</td>\n",
       "      <td>230.1</td>\n",
       "      <td>37.8</td>\n",
       "      <td>69.2</td>\n",
       "      <td>22.1</td>\n",
       "    </tr>\n",
       "    <tr>\n",
       "      <th>1</th>\n",
       "      <td>2</td>\n",
       "      <td>44.5</td>\n",
       "      <td>39.3</td>\n",
       "      <td>45.1</td>\n",
       "      <td>10.4</td>\n",
       "    </tr>\n",
       "    <tr>\n",
       "      <th>2</th>\n",
       "      <td>3</td>\n",
       "      <td>17.2</td>\n",
       "      <td>45.9</td>\n",
       "      <td>69.3</td>\n",
       "      <td>9.3</td>\n",
       "    </tr>\n",
       "    <tr>\n",
       "      <th>3</th>\n",
       "      <td>4</td>\n",
       "      <td>151.5</td>\n",
       "      <td>41.3</td>\n",
       "      <td>58.5</td>\n",
       "      <td>18.5</td>\n",
       "    </tr>\n",
       "    <tr>\n",
       "      <th>4</th>\n",
       "      <td>5</td>\n",
       "      <td>180.8</td>\n",
       "      <td>10.8</td>\n",
       "      <td>58.4</td>\n",
       "      <td>12.9</td>\n",
       "    </tr>\n",
       "  </tbody>\n",
       "</table>\n",
       "</div>"
      ],
      "text/plain": [
       "   Unnamed: 0     TV  Radio  Newspaper  Sales\n",
       "0           1  230.1   37.8       69.2   22.1\n",
       "1           2   44.5   39.3       45.1   10.4\n",
       "2           3   17.2   45.9       69.3    9.3\n",
       "3           4  151.5   41.3       58.5   18.5\n",
       "4           5  180.8   10.8       58.4   12.9"
      ]
     },
     "execution_count": 11,
     "metadata": {},
     "output_type": "execute_result"
    }
   ],
   "source": [
    "ad = pd.read_csv(data_path + 'Advertising.csv')\n",
    "ad.head()"
   ]
  },
  {
   "cell_type": "code",
   "execution_count": 12,
   "metadata": {},
   "outputs": [
    {
     "data": {
      "image/png": "[encoded data removed]",
      "text/plain": [
       "<Figure size 864x216 with 3 Axes>"
      ]
     },
     "metadata": {
      "needs_background": "light"
     },
     "output_type": "display_data"
    }
   ],
   "source": [
    "fig, axes = plt.subplots(1, 3, figsize=(12, 3))\n",
    "ad.plot.scatter('TV', 'Sales', ax = axes[0])\n",
    "ad.plot.scatter('Radio', 'Sales', ax = axes[1])\n",
    "ad.plot.scatter('Newspaper', 'Sales', ax = axes[2])\n",
    "plt.show()"
   ]
  },
  {
   "cell_type": "markdown",
   "metadata": {},
   "source": [
    "### 상관분석 vs 회귀분석\n",
    "- 상관분석\n",
    "    - 두 변수 간의 선형관계의 강도 측정\n",
    "    - 인과관계 없음\n",
    "    - False 상관관계 유의\n",
    "    \n",
    "- 회귀분석\n",
    "    - 원인이 되는 변수 (설명변수)에 따른 종속변수의 결과 예측 (의존적 관계) \n",
    "    - 둘 이상의 변수들 간의 관계 \n",
    "    - 상관관계 포함\n",
    "    - 인과관계는 통계학의 범주를 넘어서서 이론적인 선험적인 고려가 선행되어야 한다. "
   ]
  },
  {
   "cell_type": "markdown",
   "metadata": {},
   "source": [
    "### 1.2.1 단순 선형회귀 모형 \n",
    "#### Example: Advertisement \n",
    "- TV 광고예산과 판매량의 관계를 선형식으로 표현\n",
    "$$ Sales \\approx \\beta_0 + \\beta_1 \\times TV $$\n",
    "\n",
    "#### 단순 선형회귀 모형\n",
    "$$ y_i = \\beta_0 + \\beta_1 x_i + \\epsilon_i,~~~ i=1,2,\\ldots,n $$\n",
    "\n",
    "- $\\beta_0$: 절편 (모수)\n",
    "- $\\beta_1$: 기울기 (모수)\n",
    "- $\\epsilon_i$: 오차항 (확률변수: 평균 0, 분산 $\\sigma^2$)\n",
    "\n",
    "#### 추정된 회귀식 \n",
    "$$ \\hat y_i = \\hat \\beta_0 + \\hat \\beta_1 x_i $$\n",
    "\n",
    "- $\\hat y_i$: $x_i$ 값에 대한  $y_i$의 예측값 \n",
    "\n",
    "- $\\hat \\beta_0, \\hat \\beta_1$: 계수추정치 "
   ]
  },
  {
   "cell_type": "markdown",
   "metadata": {},
   "source": [
    "#### 선형회귀모형의 가정 \n",
    "\n",
    "- $y$와 $x$는 선형관계이다.\n",
    "- 오차항은 서로 독립이다. \n",
    "- 오차항 분산은 동일하다\n",
    "- 오차항은  정규분포를 따른다. "
   ]
  },
  {
   "cell_type": "markdown",
   "metadata": {},
   "source": [
    "### 1.2.2 회귀계수의 추정\n",
    "\n",
    "- n개의 관측치 쌍이 주어진 상황\n",
    "$$(x_1, y_1), (x_2, y_2), \\ldots, (x_n, y_n) $$\n",
    "\n",
    "- 어떤 $\\hat y_i = \\hat \\beta_0 + \\hat \\beta_1 x$가 좋은 추정치인가?\n",
    "\n",
    "<img src='http://drive.google.com/uc?export=view&id=1djl6jmwfZM5OHn6MrH3jv_Erz5YYdXhR' width=500 /><br>"
   ]
  },
  {
   "cell_type": "markdown",
   "metadata": {},
   "source": [
    "#### 최소제곱법(Least Square Estimation; LSE) \n",
    "- 잔차(residual)\n",
    "$$e_i=y_i -\\hat y_i$$\n",
    "    - 잔차를 줄이는 회귀선이 좋음.\n",
    "- 잔차제곱합(Residual Sum of Square; RSS)\n",
    "$$RSS=e_1^2 +e_2^2 + \\cdots + e_n^2 $$\n",
    "\n",
    "- 최소제곱법\n",
    "    - RSS를 최소화 하는 $\\hat \\beta_0,\\hat \\beta_1$을 선택 \n",
    "    \n",
    "    $$ \\hat \\beta_1= \\frac{\\sum_{i=1}^n (x_i-\\bar x)(y_i -\\bar y)}{\\sum_{i=1}^n (x_i -\\bar x)^2 }$$\n",
    "    $$\\hat \\beta_0=\\bar y - \\hat \\beta_1 \\bar x $$"
   ]
  },
  {
   "cell_type": "code",
   "execution_count": 13,
   "metadata": {},
   "outputs": [
    {
     "data": {
      "text/html": [
       "<table class=\"simpletable\">\n",
       "<caption>OLS Regression Results</caption>\n",
       "<tr>\n",
       "  <th>Dep. Variable:</th>          <td>Sales</td>      <th>  R-squared:         </th> <td>   0.612</td>\n",
       "</tr>\n",
       "<tr>\n",
       "  <th>Model:</th>                   <td>OLS</td>       <th>  Adj. R-squared:    </th> <td>   0.610</td>\n",
       "</tr>\n",
       "<tr>\n",
       "  <th>Method:</th>             <td>Least Squares</td>  <th>  F-statistic:       </th> <td>   312.1</td>\n",
       "</tr>\n",
       "<tr>\n",
       "  <th>Date:</th>             <td>Sun, 13 Nov 2022</td> <th>  Prob (F-statistic):</th> <td>1.47e-42</td>\n",
       "</tr>\n",
       "<tr>\n",
       "  <th>Time:</th>                 <td>20:49:03</td>     <th>  Log-Likelihood:    </th> <td> -519.05</td>\n",
       "</tr>\n",
       "<tr>\n",
       "  <th>No. Observations:</th>      <td>   200</td>      <th>  AIC:               </th> <td>   1042.</td>\n",
       "</tr>\n",
       "<tr>\n",
       "  <th>Df Residuals:</th>          <td>   198</td>      <th>  BIC:               </th> <td>   1049.</td>\n",
       "</tr>\n",
       "<tr>\n",
       "  <th>Df Model:</th>              <td>     1</td>      <th>                     </th>     <td> </td>   \n",
       "</tr>\n",
       "<tr>\n",
       "  <th>Covariance Type:</th>      <td>nonrobust</td>    <th>                     </th>     <td> </td>   \n",
       "</tr>\n",
       "</table>\n",
       "<table class=\"simpletable\">\n",
       "<tr>\n",
       "      <td></td>         <th>coef</th>     <th>std err</th>      <th>t</th>      <th>P>|t|</th>  <th>[0.025</th>    <th>0.975]</th>  \n",
       "</tr>\n",
       "<tr>\n",
       "  <th>Intercept</th> <td>    7.0326</td> <td>    0.458</td> <td>   15.360</td> <td> 0.000</td> <td>    6.130</td> <td>    7.935</td>\n",
       "</tr>\n",
       "<tr>\n",
       "  <th>TV</th>        <td>    0.0475</td> <td>    0.003</td> <td>   17.668</td> <td> 0.000</td> <td>    0.042</td> <td>    0.053</td>\n",
       "</tr>\n",
       "</table>\n",
       "<table class=\"simpletable\">\n",
       "<tr>\n",
       "  <th>Omnibus:</th>       <td> 0.531</td> <th>  Durbin-Watson:     </th> <td>   1.935</td>\n",
       "</tr>\n",
       "<tr>\n",
       "  <th>Prob(Omnibus):</th> <td> 0.767</td> <th>  Jarque-Bera (JB):  </th> <td>   0.669</td>\n",
       "</tr>\n",
       "<tr>\n",
       "  <th>Skew:</th>          <td>-0.089</td> <th>  Prob(JB):          </th> <td>   0.716</td>\n",
       "</tr>\n",
       "<tr>\n",
       "  <th>Kurtosis:</th>      <td> 2.779</td> <th>  Cond. No.          </th> <td>    338.</td>\n",
       "</tr>\n",
       "</table><br/><br/>Notes:<br/>[1] Standard Errors assume that the covariance matrix of the errors is correctly specified."
      ],
      "text/plain": [
       "<class 'statsmodels.iolib.summary.Summary'>\n",
       "\"\"\"\n",
       "                            OLS Regression Results                            \n",
       "==============================================================================\n",
       "Dep. Variable:                  Sales   R-squared:                       0.612\n",
       "Model:                            OLS   Adj. R-squared:                  0.610\n",
       "Method:                 Least Squares   F-statistic:                     312.1\n",
       "Date:                Sun, 13 Nov 2022   Prob (F-statistic):           1.47e-42\n",
       "Time:                        20:49:03   Log-Likelihood:                -519.05\n",
       "No. Observations:                 200   AIC:                             1042.\n",
       "Df Residuals:                     198   BIC:                             1049.\n",
       "Df Model:                           1                                         \n",
       "Covariance Type:            nonrobust                                         \n",
       "==============================================================================\n",
       "                 coef    std err          t      P>|t|      [0.025      0.975]\n",
       "------------------------------------------------------------------------------\n",
       "Intercept      7.0326      0.458     15.360      0.000       6.130       7.935\n",
       "TV             0.0475      0.003     17.668      0.000       0.042       0.053\n",
       "==============================================================================\n",
       "Omnibus:                        0.531   Durbin-Watson:                   1.935\n",
       "Prob(Omnibus):                  0.767   Jarque-Bera (JB):                0.669\n",
       "Skew:                          -0.089   Prob(JB):                        0.716\n",
       "Kurtosis:                       2.779   Cond. No.                         338.\n",
       "==============================================================================\n",
       "\n",
       "Notes:\n",
       "[1] Standard Errors assume that the covariance matrix of the errors is correctly specified.\n",
       "\"\"\""
      ]
     },
     "execution_count": 13,
     "metadata": {},
     "output_type": "execute_result"
    }
   ],
   "source": [
    "# 최소제곱법(LSE)을 활용한 회귀선 적합과 통계량 확인\n",
    "\n",
    "model = smf.ols('Sales ~ TV', data = ad).fit()\n",
    "model.summary()"
   ]
  },
  {
   "cell_type": "markdown",
   "metadata": {},
   "source": [
    "#### 회귀계수의 해석\n",
    "- 추정된 회귀식\n",
    "$$ \\hat y = 7.033 + 0.0475 x$$\n",
    "- $\\hat \\beta_1$: TV광고 투자가 매 1천달러 증가할 경우 판매량은 47.5 유닛만큼 증가한다.\n",
    "    \n",
    "- $\\hat \\beta_0$: TV광고 투자가 0달러 일때 판매량은  7033 유닛이다(?!)  \n",
    "    - $\\beta_0$의 해석은 주의해야 함. 0이 데이터의 범위 안에 포함되는지 확인. "
   ]
  },
  {
   "cell_type": "markdown",
   "metadata": {},
   "source": [
    "### 1.2.3 계수 추정값의 정확도 평가\n",
    "- $\\hat \\beta_1$의 해석 중 \"47.5 유닛\"이 얼마나 정확할까?\n",
    "    - 다른 표본을 사용한다면? \n",
    "    - 1000개의 서로 다른 표본을 사용하여 회귀계수를 계산하였을 때 그 값의 평균과 표준편차는?\n",
    "- 모회귀선과 최소제곱선\n",
    "\n",
    "<img src='http://drive.google.com/uc?export=view&id=1imTLmKdnTwMUFfO_TPZDK9oXgmn1kAox' width=500/><br>"
   ]
  },
  {
   "cell_type": "markdown",
   "metadata": {},
   "source": [
    "- 최소제곱선의 평균 \n",
    " $$E(\\hat \\beta_0)=\\beta_0,~~E(\\hat \\beta_1)=\\beta_1 $$\n",
    "\n",
    "  - 특정 데이터셋에 대해 계산한 $\\hat \\beta_0, \\hat \\beta_1$은  $\\beta_0, \\beta_1$과 정확히 일치하지 않음 \n",
    "  - 많은 수의 데이터 셋에 대해 얻은 여러 $\\hat \\beta_0, \\hat \\beta_1$을 평균하면 $\\beta_0, \\beta_1$와 일치 &rarr; **비편향 추정량(Unbiased estimator)**\n",
    "\n",
    "- 최소제곱선의 표준오차 (standard error)\n",
    "    - 하나의 추정값 $\\hat \\beta_0, \\hat \\beta_1$은 $\\beta_0, \\beta_1$과 얼마나 다를 것인가? \n",
    "    $$SE(\\hat \\beta_0)^2 = \\sigma^2 \\left[ \\frac 1 n + \\frac{\\bar x^2 }{ \\sum_{i=1}^n (x_i - \\bar x)^2 }\\right],~~SE(\\hat \\beta_1)^2 = \\frac {\\sigma^2 }{\\sum_{i=1}^n (x_i - \\bar x)^2}  $$\n",
    "    - $\\hat \\sigma^2 = RSS/(n-2)$ 사용하여 SE를 추정 "
   ]
  },
  {
   "cell_type": "markdown",
   "metadata": {},
   "source": [
    "#### 회귀계수에 대한 95% 신뢰구간\n",
    "$$\\hat \\beta_1 \\pm 2\\cdot SE(\\hat \\beta_1),~~  \\hat \\beta_0 \\pm 2\\cdot SE(\\hat \\beta_0)$$"
   ]
  },
  {
   "cell_type": "code",
   "execution_count": 14,
   "metadata": {},
   "outputs": [
    {
     "data": {
      "text/html": [
       "<div>\n",
       "<style scoped>\n",
       "    .dataframe tbody tr th:only-of-type {\n",
       "        vertical-align: middle;\n",
       "    }\n",
       "\n",
       "    .dataframe tbody tr th {\n",
       "        vertical-align: top;\n",
       "    }\n",
       "\n",
       "    .dataframe thead th {\n",
       "        text-align: right;\n",
       "    }\n",
       "</style>\n",
       "<table border=\"1\" class=\"dataframe\">\n",
       "  <thead>\n",
       "    <tr style=\"text-align: right;\">\n",
       "      <th></th>\n",
       "      <th>0</th>\n",
       "      <th>1</th>\n",
       "    </tr>\n",
       "  </thead>\n",
       "  <tbody>\n",
       "    <tr>\n",
       "      <th>Intercept</th>\n",
       "      <td>6.129719</td>\n",
       "      <td>7.935468</td>\n",
       "    </tr>\n",
       "    <tr>\n",
       "      <th>TV</th>\n",
       "      <td>0.042231</td>\n",
       "      <td>0.052843</td>\n",
       "    </tr>\n",
       "  </tbody>\n",
       "</table>\n",
       "</div>"
      ],
      "text/plain": [
       "                  0         1\n",
       "Intercept  6.129719  7.935468\n",
       "TV         0.042231  0.052843"
      ]
     },
     "execution_count": 14,
     "metadata": {},
     "output_type": "execute_result"
    }
   ],
   "source": [
    "# 유의수준 0.05 아래에서 회귀계수에 대한 95% 신뢰구간\n",
    "\n",
    "model.conf_int(alpha=0.05)"
   ]
  },
  {
   "cell_type": "markdown",
   "metadata": {},
   "source": [
    "-  광고를 전혀 하지 않으면 평균 판매량은 [6130, 7940] 사이의 값으로 떨어진다 \n",
    "- TV광고 투자가 매 1천달러 증가할 경우 판매량은 평균 [42, 53] 사이의 값만큼 증가한다.\n",
    "&nbsp;"
   ]
  },
  {
   "cell_type": "markdown",
   "metadata": {},
   "source": [
    "#### 회귀계수에 대한 가설검정\n",
    "- 귀무가설, 대립가설\n",
    " $$H_0: \\beta_1=0$$\n",
    " $$H_1: \\beta_1\\neq0$$\n",
    " \n",
    "- 검정통계량\n",
    "$$t=\\frac{\\hat \\beta_1}{ SE(\\hat \\beta_1)}$$\n",
    "\n",
    "- $H_0$가 사실일 때  $t ~ t_{n-2}$ 분포를 따른다.\n",
    "\n",
    "  \n",
    "- p-value\n",
    "    - $H_0$가 사실일 때 어떤 값이 $|t|$와 같거나 큰 경우를 관측할 확률 \n",
    "    - 실질적인 상관성이 없는데도 우연히 의미있는 상관성이 예측될 확률 \n",
    "    - p-value가 충분히 작으면 상관성이 있다고 결론 ($H_0$  기각)"
   ]
  },
  {
   "cell_type": "markdown",
   "metadata": {},
   "source": [
    "- 회귀계수 해석의 주의점\n",
    "    - 귀무가설 $H_0: \\beta_1=0$  기각하여 x와 y의 관계가   유의하다고 하더라도 x와 y 간에 원인-결과 관계가 존재한다고 결론 내릴 수는 없다.\n",
    "    \n",
    "    - $H0: \\beta_1=0$을 기각하고 통계적 유의성만 검정할 수 있기 때문에 x와 y의 관계가 선형이라고 결론내릴 수 없다. \n",
    "    \n",
    "    - $\\hat \\beta_0$에 대한 해석은 설명변수 자료의 범위가 0을 포함할 때만 의미가 있다. "
   ]
  },
  {
   "cell_type": "markdown",
   "metadata": {},
   "source": [
    "### 1.2.4 모델의 정확도 평가\n",
    "- 모델이 데이터에 얼마나 적합한가? \n",
    "\n",
    "#### 결정계수 $R^2$\n",
    "- 비율로 표현되는 적합도 측도\n",
    "$$R^2 = \\frac{TSS-RSS}{TSS} = 1-\\frac{RSS}{TSS} $$\n",
    "$TSS=\\sum(y_i-\\bar y)^2$: 총 제곱합 (회귀분석 수행 전 $Y$안에 내재된 변동량)\n",
    "\n",
    "$TSS-RSS=\\sum(\\hat y_i-\\bar y)^2$: 회귀를 수행함으로써 설명된 Y의 변동량 \n",
    "\n",
    "$RSS=\\sum(y_i-\\hat y)^2$: 회귀식에 의해 설명되지 않는 Y의 변동량 "
   ]
  },
  {
   "cell_type": "markdown",
   "metadata": {},
   "source": [
    "- $0\\leq R^2 \\leq 1$\n",
    "- X를 사용하여 설명될 수 있는 Y의 변동 비율(proportion of variability)\n",
    "    - $R^2 \\approx 1$: $Y$의 변동 중 많은 부분이 회귀식에 의해 설명\n",
    "    - $R^2 \\approx 0$: $Y$의 변동 중 대부분이 회귀식에 의해 설명되지 않음 "
   ]
  },
  {
   "cell_type": "code",
   "execution_count": 15,
   "metadata": {},
   "outputs": [
    {
     "data": {
      "text/plain": [
       "0.611875050850071"
      ]
     },
     "execution_count": 15,
     "metadata": {},
     "output_type": "execute_result"
    }
   ],
   "source": [
    "# 회귀 모형의 설명력 확인을 위한 통계치\n",
    "model.rsquared"
   ]
  },
  {
   "cell_type": "markdown",
   "metadata": {},
   "source": [
    "- sales의 변동 중 61%가 TV에 대한 선형회귀에 의해 설명된다. \n",
    "- 단순선형회귀에서는 $R^2$는 피어슨 상관계수의 제곱과 같다."
   ]
  },
  {
   "cell_type": "code",
   "execution_count": 16,
   "metadata": {},
   "outputs": [
    {
     "data": {
      "text/plain": [
       "0.6118750508500709"
      ]
     },
     "execution_count": 16,
     "metadata": {},
     "output_type": "execute_result"
    }
   ],
   "source": [
    "# Sales와 TV의 선형회귀에 따른 상관계수\n",
    "stats.pearsonr(ad.Sales,ad.TV)[0]**2"
   ]
  },
  {
   "cell_type": "markdown",
   "metadata": {},
   "source": [
    "### 1.2.5 예측\n",
    "- 주어진 독립변수에 대한 종속변수의 값을 추정된 회귀식에 의해 예측한다.\n",
    "\n",
    "$$\\hat y= \\hat \\beta_0 + \\hat \\beta_1 x^*  $$"
   ]
  },
  {
   "cell_type": "code",
   "execution_count": 17,
   "metadata": {},
   "outputs": [
    {
     "data": {
      "text/html": [
       "<div>\n",
       "<style scoped>\n",
       "    .dataframe tbody tr th:only-of-type {\n",
       "        vertical-align: middle;\n",
       "    }\n",
       "\n",
       "    .dataframe tbody tr th {\n",
       "        vertical-align: top;\n",
       "    }\n",
       "\n",
       "    .dataframe thead th {\n",
       "        text-align: right;\n",
       "    }\n",
       "</style>\n",
       "<table border=\"1\" class=\"dataframe\">\n",
       "  <thead>\n",
       "    <tr style=\"text-align: right;\">\n",
       "      <th></th>\n",
       "      <th>mean</th>\n",
       "      <th>mean_se</th>\n",
       "      <th>mean_ci_lower</th>\n",
       "      <th>mean_ci_upper</th>\n",
       "      <th>obs_ci_lower</th>\n",
       "      <th>obs_ci_upper</th>\n",
       "    </tr>\n",
       "  </thead>\n",
       "  <tbody>\n",
       "    <tr>\n",
       "      <th>0</th>\n",
       "      <td>11.786258</td>\n",
       "      <td>0.262897</td>\n",
       "      <td>11.26782</td>\n",
       "      <td>12.304695</td>\n",
       "      <td>5.339251</td>\n",
       "      <td>18.233264</td>\n",
       "    </tr>\n",
       "  </tbody>\n",
       "</table>\n",
       "</div>"
      ],
      "text/plain": [
       "        mean   mean_se  ...  obs_ci_lower  obs_ci_upper\n",
       "0  11.786258  0.262897  ...      5.339251     18.233264\n",
       "\n",
       "[1 rows x 6 columns]"
      ]
     },
     "execution_count": 17,
     "metadata": {},
     "output_type": "execute_result"
    }
   ],
   "source": [
    "# 새로운 독립변수에 대한 예측치\n",
    "pred = model.get_prediction(exog = dict(TV=100))\n",
    "pred.summary_frame(alpha = 0.05)"
   ]
  },
  {
   "cell_type": "markdown",
   "metadata": {},
   "source": [
    "#### 신뢰구간 \n",
    "- 수많은 도시에 대한 **평균** 판매량을 둘러싼 불확실성을 수량화\n",
    "- TV광고에 10만달러를 지출한다면 판매량의 평균은 11268개와 12305개 사이일 것으로 95% 확신함\n",
    "\n",
    "\n",
    "#### 예측구간\n",
    "- **특정** 도시의 판매량에 대한 불확실성을 수량화\n",
    "- TV광고에 10만달러를 지출한 도시에서 판매량은 5339개와 18233개 사이일 것으로 95% 확신함  \n",
    "\n",
    "- 회귀식은 가지고 있는 data 범위 밖에서 예측은 주의!! (Extrapolation 문제)"
   ]
  },
  {
   "cell_type": "markdown",
   "metadata": {},
   "source": [
    "## Multiple Linear Regression"
   ]
  },
  {
   "cell_type": "code",
   "execution_count": 2,
   "metadata": {},
   "outputs": [],
   "source": [
    "data_path = \"./data/\"\n",
    "ad = pd.read_csv(data_path + \"Advertising.csv\")"
   ]
  },
  {
   "cell_type": "markdown",
   "metadata": {},
   "source": [
    "### Example: Advertising \n",
    "- TV광고 외에 라디오와 신문광고에 대한 지출도 활용하여 sales를 설명하고 싶음 \n",
    "- 설명변수 각각을 사용하여 3개의 단순회귀분석 사용??  (No!)\n",
    "    - 서로 다른 광고매체의 예산은 다른 회귀방정식과 연관 \n",
    "$$ y_i= \\beta_0 + \\beta_1 x_{1i} + \\beta_2 x_{2i} + \\cdots + \\beta_p x_{pi} +\\epsilon_i $$"
   ]
  },
  {
   "cell_type": "markdown",
   "metadata": {},
   "source": [
    "## 2.1 회귀계수의 추정 \n",
    "- 추정된 회귀식\n",
    "$$ \\hat y_i = \\hat  \\beta_0 + \\hat\\beta_1 x_{1i} + \\hat\\beta_2 x_{2i} + \\cdots +\\hat \\beta_p x_{pi} $$\n",
    "\n",
    "- RSS를 최소화 하는 최소제곱법 사용 \n",
    "$$ RSS=\\sum (y_i - \\hat y)^2 = \\sum (y_i - \\hat \\beta_0 - \\hat \\beta_1 x_{i1} - \\cdots - \\hat \\beta_p x_{ip})^2 $$\n",
    "\n",
    "<img src='http://drive.google.com/uc?export=view&id=1aXBr2nn7CYgchvqbIr_MsvDV5jiGCvE-' width=50%/><br>"
   ]
  },
  {
   "cell_type": "code",
   "execution_count": 3,
   "metadata": {},
   "outputs": [
    {
     "data": {
      "text/html": [
       "<table class=\"simpletable\">\n",
       "<caption>OLS Regression Results</caption>\n",
       "<tr>\n",
       "  <th>Dep. Variable:</th>          <td>Sales</td>      <th>  R-squared:         </th> <td>   0.897</td>\n",
       "</tr>\n",
       "<tr>\n",
       "  <th>Model:</th>                   <td>OLS</td>       <th>  Adj. R-squared:    </th> <td>   0.896</td>\n",
       "</tr>\n",
       "<tr>\n",
       "  <th>Method:</th>             <td>Least Squares</td>  <th>  F-statistic:       </th> <td>   570.3</td>\n",
       "</tr>\n",
       "<tr>\n",
       "  <th>Date:</th>             <td>Sun, 13 Nov 2022</td> <th>  Prob (F-statistic):</th> <td>1.58e-96</td>\n",
       "</tr>\n",
       "<tr>\n",
       "  <th>Time:</th>                 <td>20:59:29</td>     <th>  Log-Likelihood:    </th> <td> -386.18</td>\n",
       "</tr>\n",
       "<tr>\n",
       "  <th>No. Observations:</th>      <td>   200</td>      <th>  AIC:               </th> <td>   780.4</td>\n",
       "</tr>\n",
       "<tr>\n",
       "  <th>Df Residuals:</th>          <td>   196</td>      <th>  BIC:               </th> <td>   793.6</td>\n",
       "</tr>\n",
       "<tr>\n",
       "  <th>Df Model:</th>              <td>     3</td>      <th>                     </th>     <td> </td>   \n",
       "</tr>\n",
       "<tr>\n",
       "  <th>Covariance Type:</th>      <td>nonrobust</td>    <th>                     </th>     <td> </td>   \n",
       "</tr>\n",
       "</table>\n",
       "<table class=\"simpletable\">\n",
       "<tr>\n",
       "      <td></td>         <th>coef</th>     <th>std err</th>      <th>t</th>      <th>P>|t|</th>  <th>[0.025</th>    <th>0.975]</th>  \n",
       "</tr>\n",
       "<tr>\n",
       "  <th>Intercept</th> <td>    2.9389</td> <td>    0.312</td> <td>    9.422</td> <td> 0.000</td> <td>    2.324</td> <td>    3.554</td>\n",
       "</tr>\n",
       "<tr>\n",
       "  <th>Radio</th>     <td>    0.1885</td> <td>    0.009</td> <td>   21.893</td> <td> 0.000</td> <td>    0.172</td> <td>    0.206</td>\n",
       "</tr>\n",
       "<tr>\n",
       "  <th>Newspaper</th> <td>   -0.0010</td> <td>    0.006</td> <td>   -0.177</td> <td> 0.860</td> <td>   -0.013</td> <td>    0.011</td>\n",
       "</tr>\n",
       "<tr>\n",
       "  <th>TV</th>        <td>    0.0458</td> <td>    0.001</td> <td>   32.809</td> <td> 0.000</td> <td>    0.043</td> <td>    0.049</td>\n",
       "</tr>\n",
       "</table>\n",
       "<table class=\"simpletable\">\n",
       "<tr>\n",
       "  <th>Omnibus:</th>       <td>60.414</td> <th>  Durbin-Watson:     </th> <td>   2.084</td>\n",
       "</tr>\n",
       "<tr>\n",
       "  <th>Prob(Omnibus):</th> <td> 0.000</td> <th>  Jarque-Bera (JB):  </th> <td> 151.241</td>\n",
       "</tr>\n",
       "<tr>\n",
       "  <th>Skew:</th>          <td>-1.327</td> <th>  Prob(JB):          </th> <td>1.44e-33</td>\n",
       "</tr>\n",
       "<tr>\n",
       "  <th>Kurtosis:</th>      <td> 6.332</td> <th>  Cond. No.          </th> <td>    454.</td>\n",
       "</tr>\n",
       "</table><br/><br/>Notes:<br/>[1] Standard Errors assume that the covariance matrix of the errors is correctly specified."
      ],
      "text/plain": [
       "<class 'statsmodels.iolib.summary.Summary'>\n",
       "\"\"\"\n",
       "                            OLS Regression Results                            \n",
       "==============================================================================\n",
       "Dep. Variable:                  Sales   R-squared:                       0.897\n",
       "Model:                            OLS   Adj. R-squared:                  0.896\n",
       "Method:                 Least Squares   F-statistic:                     570.3\n",
       "Date:                Sun, 13 Nov 2022   Prob (F-statistic):           1.58e-96\n",
       "Time:                        20:59:29   Log-Likelihood:                -386.18\n",
       "No. Observations:                 200   AIC:                             780.4\n",
       "Df Residuals:                     196   BIC:                             793.6\n",
       "Df Model:                           3                                         \n",
       "Covariance Type:            nonrobust                                         \n",
       "==============================================================================\n",
       "                 coef    std err          t      P>|t|      [0.025      0.975]\n",
       "------------------------------------------------------------------------------\n",
       "Intercept      2.9389      0.312      9.422      0.000       2.324       3.554\n",
       "Radio          0.1885      0.009     21.893      0.000       0.172       0.206\n",
       "Newspaper     -0.0010      0.006     -0.177      0.860      -0.013       0.011\n",
       "TV             0.0458      0.001     32.809      0.000       0.043       0.049\n",
       "==============================================================================\n",
       "Omnibus:                       60.414   Durbin-Watson:                   2.084\n",
       "Prob(Omnibus):                  0.000   Jarque-Bera (JB):              151.241\n",
       "Skew:                          -1.327   Prob(JB):                     1.44e-33\n",
       "Kurtosis:                       6.332   Cond. No.                         454.\n",
       "==============================================================================\n",
       "\n",
       "Notes:\n",
       "[1] Standard Errors assume that the covariance matrix of the errors is correctly specified.\n",
       "\"\"\""
      ]
     },
     "execution_count": 3,
     "metadata": {},
     "output_type": "execute_result"
    }
   ],
   "source": [
    "model = smf.ols('Sales ~ Radio + Newspaper + TV', data = ad).fit()\n",
    "model.summary()"
   ]
  },
  {
   "cell_type": "markdown",
   "metadata": {},
   "source": [
    "## 2.2 모델의 유의성 평가: F 검정 \n",
    "- $Y$와 $X$들 사이에 상관관계가 있는가? \n",
    "$$ H_0: \\beta_1=\\beta_2 =\\cdots =\\beta_p=0$$\n",
    "$$ H_1: 적어도\\ 하나의 \\beta_j 는\\ 0이\\ 아니다.$$\n",
    "\n",
    "- F  통계량 \n",
    "    $$F=\\frac{(TSS-RSS)/p}{RSS/(n-p-1)} \\sim F_{p, n-p-1}$$\n",
    "    - $H_0$가 사실이면 $F=1$ \n",
    "    - F=570에 대한 p-value가 0에 가까움: 광고매채 중 적어도 하나는 판매량 증가와 상관관계가 있다는 아주 강한 증거 "
   ]
  },
  {
   "cell_type": "markdown",
   "metadata": {},
   "source": [
    "## 2.3  회귀계수의 검정: T 검정\n",
    "- 다른 설명변수의 효과를 조정했을 때 $X_i$가 Y와 상관관계가 있는가?\n",
    "$$ H_0: \\beta_i=0$$\n",
    "$$ H_1: \\beta_i \\neq 0$$ \n",
    "\n",
    "- t  통계량 \n",
    "$$ \\frac{\\hat \\beta_i }{SE(\\hat \\beta_i)} \\sim t_{n-p-1}$$\n",
    "- TV와 radio의 p-value<0.05: sales를 설명하는데 유의하다.\n",
    "- Newspaper의 p-value>0.05: sales를 설명하는데 유의하지 않다.\n",
    "    - **TV와 라디오 광고가 모형에 포함되어 있을 경우** 신문 광고는 sales와 상관성이 있다는 증거가 없다고 결론\n",
    "    - 왜? 라디오 광고에 지출을 많이 하는 마켓일 수록 신문 광고에도 더 많이 지출하는 경향이 있음\n",
    "    - 그렇다면 Newspaper와 Sale의 단순 회귀모형의 결과는 어떨까?\n"
   ]
  },
  {
   "cell_type": "code",
   "execution_count": 4,
   "metadata": {},
   "outputs": [
    {
     "data": {
      "text/html": [
       "<table class=\"simpletable\">\n",
       "<tr>\n",
       "      <td></td>         <th>coef</th>     <th>std err</th>      <th>t</th>      <th>P>|t|</th>  <th>[0.025</th>    <th>0.975]</th>  \n",
       "</tr>\n",
       "<tr>\n",
       "  <th>Intercept</th> <td>   12.3514</td> <td>    0.621</td> <td>   19.876</td> <td> 0.000</td> <td>   11.126</td> <td>   13.577</td>\n",
       "</tr>\n",
       "<tr>\n",
       "  <th>Newspaper</th> <td>    0.0547</td> <td>    0.017</td> <td>    3.300</td> <td> 0.001</td> <td>    0.022</td> <td>    0.087</td>\n",
       "</tr>\n",
       "</table>"
      ],
      "text/plain": [
       "<class 'statsmodels.iolib.table.SimpleTable'>"
      ]
     },
     "execution_count": 4,
     "metadata": {},
     "output_type": "execute_result"
    }
   ],
   "source": [
    "# 회귀 계수의 적합성 판단\n",
    "\n",
    "model_2 = smf.ols('Sales ~ Newspaper', data = ad).fit()\n",
    "model_2.summary().tables[1]"
   ]
  },
  {
   "cell_type": "markdown",
   "metadata": {},
   "source": [
    "- Newspaper와 sales의 단순회귀모형에서는 회귀계수가 유의하다는 결과가 나온다.\n",
    "- 신문광고에 의한 판매량이라고 보이는 것이 실제로는 라디오 광고에 의한 것"
   ]
  },
  {
   "cell_type": "markdown",
   "metadata": {},
   "source": [
    "#### 회귀계수의 해석 \n",
    "- $\\beta_i$는 _**모든 다른 독립변수가 일정할 때**_ $x_i$의 1단위 변화에 대한 $y$값 변화의 추정치\n",
    "\n",
    "- 다른 매체에 대한 광고지출액이 일정할 때 TV광고에 1000달러 지출을 증가시키면 판매량은  45.8 unit 증가할 것이다.\n",
    "\n",
    "- 다른 매체에 대한 광고지출액이 일정할 때 Radio광고에 1000달러 지출을 증가시키면 판매량은 188.5 unit  증가할 것이다."
   ]
  },
  {
   "cell_type": "markdown",
   "metadata": {},
   "source": [
    "## 2.4 예측\n",
    "- 추정된 회귀식에 의해 예측 \n",
    "$$\\hat Y= \\hat \\beta_0 + \\hat \\beta_1 X_1 + \\cdots + \\hat \\beta_p X_p $$"
   ]
  },
  {
   "cell_type": "code",
   "execution_count": 5,
   "metadata": {},
   "outputs": [
    {
     "data": {
      "text/html": [
       "<table class=\"simpletable\">\n",
       "<tr>\n",
       "      <td></td>         <th>coef</th>     <th>std err</th>      <th>t</th>      <th>P>|t|</th>  <th>[0.025</th>    <th>0.975]</th>  \n",
       "</tr>\n",
       "<tr>\n",
       "  <th>Intercept</th> <td>    2.9211</td> <td>    0.294</td> <td>    9.919</td> <td> 0.000</td> <td>    2.340</td> <td>    3.502</td>\n",
       "</tr>\n",
       "<tr>\n",
       "  <th>Radio</th>     <td>    0.1880</td> <td>    0.008</td> <td>   23.382</td> <td> 0.000</td> <td>    0.172</td> <td>    0.204</td>\n",
       "</tr>\n",
       "<tr>\n",
       "  <th>TV</th>        <td>    0.0458</td> <td>    0.001</td> <td>   32.909</td> <td> 0.000</td> <td>    0.043</td> <td>    0.048</td>\n",
       "</tr>\n",
       "</table>"
      ],
      "text/plain": [
       "<class 'statsmodels.iolib.table.SimpleTable'>"
      ]
     },
     "execution_count": 5,
     "metadata": {},
     "output_type": "execute_result"
    }
   ],
   "source": [
    "model_3 = smf.ols('Sales ~ Radio + TV', data = ad).fit()\n",
    "model_3.summary().tables[1]"
   ]
  },
  {
   "cell_type": "code",
   "execution_count": 6,
   "metadata": {},
   "outputs": [
    {
     "data": {
      "text/html": [
       "<div>\n",
       "<style scoped>\n",
       "    .dataframe tbody tr th:only-of-type {\n",
       "        vertical-align: middle;\n",
       "    }\n",
       "\n",
       "    .dataframe tbody tr th {\n",
       "        vertical-align: top;\n",
       "    }\n",
       "\n",
       "    .dataframe thead th {\n",
       "        text-align: right;\n",
       "    }\n",
       "</style>\n",
       "<table border=\"1\" class=\"dataframe\">\n",
       "  <thead>\n",
       "    <tr style=\"text-align: right;\">\n",
       "      <th></th>\n",
       "      <th>mean</th>\n",
       "      <th>mean_se</th>\n",
       "      <th>mean_ci_lower</th>\n",
       "      <th>mean_ci_upper</th>\n",
       "      <th>obs_ci_lower</th>\n",
       "      <th>obs_ci_upper</th>\n",
       "    </tr>\n",
       "  </thead>\n",
       "  <tbody>\n",
       "    <tr>\n",
       "      <th>0</th>\n",
       "      <td>11.256466</td>\n",
       "      <td>0.137526</td>\n",
       "      <td>10.985254</td>\n",
       "      <td>11.527677</td>\n",
       "      <td>7.929616</td>\n",
       "      <td>14.583316</td>\n",
       "    </tr>\n",
       "  </tbody>\n",
       "</table>\n",
       "</div>"
      ],
      "text/plain": [
       "        mean   mean_se  mean_ci_lower  mean_ci_upper  obs_ci_lower  \\\n",
       "0  11.256466  0.137526      10.985254      11.527677      7.929616   \n",
       "\n",
       "   obs_ci_upper  \n",
       "0     14.583316  "
      ]
     },
     "execution_count": 6,
     "metadata": {},
     "output_type": "execute_result"
    }
   ],
   "source": [
    "pred = model_3.get_prediction(exog = dict(TV=100, Radio=20))\n",
    "pred.summary_frame(alpha = 0.05)"
   ]
  },
  {
   "cell_type": "markdown",
   "metadata": {},
   "source": [
    "- 신뢰구간 \n",
    "    - 수많은 도시에 대한 평균 판매량을 둘러싼 불확실성을 수량화\n",
    "    - TV광고에 10만달러, Radio광고에 2만달러를 지출한다면 판매량의 평균은 10985개와 11528개 사이일 것으로 95% 확신함\n",
    "\n",
    "- 예측구간\n",
    "    - 특정 도시의 판매량에 대한 불확실성을 수량화\n",
    "    - TV광고에 10만달러, Radio광고에 2만달러를 지출한 도시에서 판매량은 7930개와 14583개 사이일 것으로 95% 확신함  "
   ]
  },
  {
   "cell_type": "markdown",
   "metadata": {},
   "source": [
    "## 2.5 회귀모형의 잠재적 문제: 회귀진단 \n",
    "### 2.5.1   데이터의 비선형성 \n",
    "- 잔차그래프의 확인 \n",
    "    - $e_i=y_i - \\hat y_i$ vs. $x_i$ 의 그래프를 확인\n",
    "    - 모델이 이상적이라면 인지할만한 패턴이 존재하지 않는다.\n",
    "    - 잔차 그래프가 비선형 상관성이 있다면 $\\log X, \\sqrt X, X^2$과 같이 설명변수들을 비선형적으로 변환하여 회귀모델에 적용하는 것이 간단한 접근법 "
   ]
  },
  {
   "cell_type": "code",
   "execution_count": 7,
   "metadata": {},
   "outputs": [
    {
     "data": {
      "text/html": [
       "<div>\n",
       "<style scoped>\n",
       "    .dataframe tbody tr th:only-of-type {\n",
       "        vertical-align: middle;\n",
       "    }\n",
       "\n",
       "    .dataframe tbody tr th {\n",
       "        vertical-align: top;\n",
       "    }\n",
       "\n",
       "    .dataframe thead th {\n",
       "        text-align: right;\n",
       "    }\n",
       "</style>\n",
       "<table border=\"1\" class=\"dataframe\">\n",
       "  <thead>\n",
       "    <tr style=\"text-align: right;\">\n",
       "      <th></th>\n",
       "      <th>mpg</th>\n",
       "      <th>cylinders</th>\n",
       "      <th>displacement</th>\n",
       "      <th>horsepower</th>\n",
       "      <th>weight</th>\n",
       "      <th>acceleration</th>\n",
       "      <th>year</th>\n",
       "      <th>origin</th>\n",
       "      <th>name</th>\n",
       "    </tr>\n",
       "  </thead>\n",
       "  <tbody>\n",
       "    <tr>\n",
       "      <th>0</th>\n",
       "      <td>18.0</td>\n",
       "      <td>8</td>\n",
       "      <td>307.0</td>\n",
       "      <td>130</td>\n",
       "      <td>3504</td>\n",
       "      <td>12.0</td>\n",
       "      <td>70</td>\n",
       "      <td>1</td>\n",
       "      <td>chevrolet chevelle malibu</td>\n",
       "    </tr>\n",
       "    <tr>\n",
       "      <th>1</th>\n",
       "      <td>15.0</td>\n",
       "      <td>8</td>\n",
       "      <td>350.0</td>\n",
       "      <td>165</td>\n",
       "      <td>3693</td>\n",
       "      <td>11.5</td>\n",
       "      <td>70</td>\n",
       "      <td>1</td>\n",
       "      <td>buick skylark 320</td>\n",
       "    </tr>\n",
       "    <tr>\n",
       "      <th>2</th>\n",
       "      <td>18.0</td>\n",
       "      <td>8</td>\n",
       "      <td>318.0</td>\n",
       "      <td>150</td>\n",
       "      <td>3436</td>\n",
       "      <td>11.0</td>\n",
       "      <td>70</td>\n",
       "      <td>1</td>\n",
       "      <td>plymouth satellite</td>\n",
       "    </tr>\n",
       "    <tr>\n",
       "      <th>3</th>\n",
       "      <td>16.0</td>\n",
       "      <td>8</td>\n",
       "      <td>304.0</td>\n",
       "      <td>150</td>\n",
       "      <td>3433</td>\n",
       "      <td>12.0</td>\n",
       "      <td>70</td>\n",
       "      <td>1</td>\n",
       "      <td>amc rebel sst</td>\n",
       "    </tr>\n",
       "    <tr>\n",
       "      <th>4</th>\n",
       "      <td>17.0</td>\n",
       "      <td>8</td>\n",
       "      <td>302.0</td>\n",
       "      <td>140</td>\n",
       "      <td>3449</td>\n",
       "      <td>10.5</td>\n",
       "      <td>70</td>\n",
       "      <td>1</td>\n",
       "      <td>ford torino</td>\n",
       "    </tr>\n",
       "  </tbody>\n",
       "</table>\n",
       "</div>"
      ],
      "text/plain": [
       "    mpg  cylinders  displacement  horsepower  weight  acceleration  year  \\\n",
       "0  18.0          8         307.0         130    3504          12.0    70   \n",
       "1  15.0          8         350.0         165    3693          11.5    70   \n",
       "2  18.0          8         318.0         150    3436          11.0    70   \n",
       "3  16.0          8         304.0         150    3433          12.0    70   \n",
       "4  17.0          8         302.0         140    3449          10.5    70   \n",
       "\n",
       "   origin                       name  \n",
       "0       1  chevrolet chevelle malibu  \n",
       "1       1          buick skylark 320  \n",
       "2       1         plymouth satellite  \n",
       "3       1              amc rebel sst  \n",
       "4       1                ford torino  "
      ]
     },
     "execution_count": 7,
     "metadata": {},
     "output_type": "execute_result"
    }
   ],
   "source": [
    "auto = pd.read_csv(data_path +\"Auto.csv\")\n",
    "auto.head()"
   ]
  },
  {
   "cell_type": "code",
   "execution_count": 8,
   "metadata": {},
   "outputs": [
    {
     "data": {
      "text/html": [
       "<table class=\"simpletable\">\n",
       "<tr>\n",
       "       <td></td>         <th>coef</th>     <th>std err</th>      <th>t</th>      <th>P>|t|</th>  <th>[0.025</th>    <th>0.975]</th>  \n",
       "</tr>\n",
       "<tr>\n",
       "  <th>Intercept</th>  <td>   39.9359</td> <td>    0.717</td> <td>   55.660</td> <td> 0.000</td> <td>   38.525</td> <td>   41.347</td>\n",
       "</tr>\n",
       "<tr>\n",
       "  <th>horsepower</th> <td>   -0.1578</td> <td>    0.006</td> <td>  -24.489</td> <td> 0.000</td> <td>   -0.171</td> <td>   -0.145</td>\n",
       "</tr>\n",
       "</table>"
      ],
      "text/plain": [
       "<class 'statsmodels.iolib.table.SimpleTable'>"
      ]
     },
     "execution_count": 8,
     "metadata": {},
     "output_type": "execute_result"
    }
   ],
   "source": [
    "model_auto = smf.ols('mpg~horsepower', data = auto).fit()\n",
    "model_auto.summary().tables[1]"
   ]
  },
  {
   "cell_type": "code",
   "execution_count": 9,
   "metadata": {},
   "outputs": [
    {
     "data": {
      "image/png": "[encoded data removed]",
      "text/plain": [
       "<Figure size 432x288 with 1 Axes>"
      ]
     },
     "metadata": {
      "needs_background": "light"
     },
     "output_type": "display_data"
    }
   ],
   "source": [
    "plt.scatter(auto.horsepower,model_auto.resid)\n",
    "plt.xlabel('Horsepower')\n",
    "plt.ylabel('Residuals')\n",
    "plt.show()"
   ]
  },
  {
   "cell_type": "code",
   "execution_count": 10,
   "metadata": {},
   "outputs": [
    {
     "data": {
      "text/html": [
       "<table class=\"simpletable\">\n",
       "<tr>\n",
       "            <td></td>               <th>coef</th>     <th>std err</th>      <th>t</th>      <th>P>|t|</th>  <th>[0.025</th>    <th>0.975]</th>  \n",
       "</tr>\n",
       "<tr>\n",
       "  <th>Intercept</th>             <td>   56.9001</td> <td>    1.800</td> <td>   31.604</td> <td> 0.000</td> <td>   53.360</td> <td>   60.440</td>\n",
       "</tr>\n",
       "<tr>\n",
       "  <th>horsepower</th>            <td>   -0.4662</td> <td>    0.031</td> <td>  -14.978</td> <td> 0.000</td> <td>   -0.527</td> <td>   -0.405</td>\n",
       "</tr>\n",
       "<tr>\n",
       "  <th>np.square(horsepower)</th> <td>    0.0012</td> <td>    0.000</td> <td>   10.080</td> <td> 0.000</td> <td>    0.001</td> <td>    0.001</td>\n",
       "</tr>\n",
       "</table>"
      ],
      "text/plain": [
       "<class 'statsmodels.iolib.table.SimpleTable'>"
      ]
     },
     "execution_count": 10,
     "metadata": {},
     "output_type": "execute_result"
    }
   ],
   "source": [
    "model_auto_2 = smf.ols('mpg~horsepower+np.square(horsepower)', data = auto).fit()\n",
    "model_auto_2.summary().tables[1]"
   ]
  },
  {
   "cell_type": "code",
   "execution_count": 12,
   "metadata": {},
   "outputs": [
    {
     "data": {
      "image/png": "[encoded data removed]",
      "text/plain": [
       "<Figure size 720x216 with 2 Axes>"
      ]
     },
     "metadata": {
      "needs_background": "light"
     },
     "output_type": "display_data"
    }
   ],
   "source": [
    "plt.figure(figsize=(10, 3))\n",
    "\n",
    "plt.title('mpg~horsepower')\n",
    "plt.subplot(1,2,1)\n",
    "plt.scatter(model_auto.fittedvalues, model_auto.resid)\n",
    "plt.xlabel('Fitted values')\n",
    "plt.ylabel('Residuals')\n",
    "plt.title('mpg~horsepower')\n",
    "\n",
    "plt.subplot(1,2,2)\n",
    "plt.scatter(model_auto_2.fittedvalues, model_auto_2.resid)\n",
    "plt.xlabel('Fitted values')\n",
    "plt.ylabel('Residuals')\n",
    "plt.title('mpg~horsepower+np.square(horsepower)')\n",
    "plt.show()\n",
    "\n",
    "#Polynomial regression 을 사용할 때, x의 n승을 사용한다면, 그 아래 차수까지 들어가는 x의 n승도 모두 포함해야 한다.\n",
    "#log 변환은 log x1 - log x0 = log x1/x0 가 되므로, 증가율에 대한 식으로 해석할 수 있기 때문에 log 변환은 해석의 무리가 없다"
   ]
  },
  {
   "cell_type": "markdown",
   "metadata": {},
   "source": [
    "### 2.5.2 오차항의 상관성 \n",
    "- 선형모델의 가정: 오차항 $\\epsilon_1, \\epsilon_2, \\ldots, \\epsilon_n$이 서로 상관되어 있지 않다는 것 \n",
    "- 오차항 사이에 상관성이 있으면 추정된 표준오차는 실제 표준오차를 과소추정하는 경향이 발생한다.\n",
    "    - 계산된 95% 신뢰구간과 예측구간이 실제 모수를 포함할 가능성이 95%보다 낮을 수 있다. \n",
    "    - 모수가 통계적으로 유의하다 잘못된 결론을 내릴 수 있다.\n",
    "\n",
    "- 시계열 데이터에서 자주 발생 \n",
    "    - 잔차를 시간의 함수로 그렸을 때 인지할 만한 패턴이 없어야 한다."
   ]
  },
  {
   "cell_type": "markdown",
   "metadata": {},
   "source": [
    "<img src='http://drive.google.com/uc?export=view&id=1ZjwmNStYGnMiw9WEuzFBuBPTwC_ZJ0MH' width=500/><br> "
   ]
  },
  {
   "cell_type": "markdown",
   "metadata": {},
   "source": [
    "#### Durbin-Watson 통계량 \n",
    "$$ D = \\frac{\\sum_t (e_t-e_{t-1})^2}{\\sum_t e_t^2} \\approx 2(1-r)$$ \n",
    "- $r$: sample autocorrelation\n",
    "- $0<D<4$\n",
    "- $D \\approx 2$ : no autocorrelation\n",
    "- $D \\approx 0$ : positive serial correlation\n",
    "- $D \\approx 4$ : negative serial correlation"
   ]
  },
  {
   "cell_type": "code",
   "execution_count": 13,
   "metadata": {},
   "outputs": [
    {
     "name": "stdout",
     "output_type": "stream",
     "text": [
      "Durbin-Watson statistics for x_t: 1.8489620962998075\n",
      "Durbin-Watson statistics for y_t: 0.019439672981243664\n"
     ]
    }
   ],
   "source": [
    "x_t = np.random.normal(0, 1, 200) # 독립표본\n",
    "x_t[0] = 0\n",
    "y_t = np.zeros(200)\n",
    "for i in range(1, 200):\n",
    "    y_t[i] = np.random.normal(y_t[i - 1], 1) # 자기상관이 있는 표본\n",
    "\n",
    "from statsmodels.stats.stattools import durbin_watson\n",
    "print('Durbin-Watson statistics for x_t:', durbin_watson(x_t))\n",
    "print('Durbin-Watson statistics for y_t:', durbin_watson(y_t))\n",
    "\n",
    "#자기 상관에 발생할 수 밖에 없는 요인을 설명변수에 넣어주게 되면, 잔차는 설명이 되지 않은 부분이기 때문에 잔차의 자기 상관성이 남아 있지 않게 된다"
   ]
  },
  {
   "cell_type": "code",
   "execution_count": 14,
   "metadata": {},
   "outputs": [
    {
     "data": {
      "text/plain": [
       "1.078213938713128"
      ]
     },
     "execution_count": 14,
     "metadata": {},
     "output_type": "execute_result"
    }
   ],
   "source": [
    "durbin_watson(model_auto_2.resid)"
   ]
  },
  {
   "cell_type": "markdown",
   "metadata": {},
   "source": [
    "### 2.5.3 오차항의 이분산성(heteroscedasticity)\n",
    "- 선형모델의 가정: $Var(\\epsilon_i)= \\sigma^2$\n",
    "- 잔차그래프에 깔때기 형태가 있는지 보고 식별 \n",
    "\n",
    "#### 종속변수의 변환\n",
    "- 예를 들면, $log(y)$한 뒤 회귀식을 적합\n",
    "\n",
    "<img src='http://drive.google.com/uc?export=view&id=1qWMJojwzeKfbWmlayeeJogaIk46es9QD' width=500 /><br>"
   ]
  },
  {
   "cell_type": "code",
   "execution_count": 15,
   "metadata": {},
   "outputs": [
    {
     "data": {
      "image/png": "[encoded data removed]",
      "text/plain": [
       "<Figure size 720x216 with 2 Axes>"
      ]
     },
     "metadata": {
      "needs_background": "light"
     },
     "output_type": "display_data"
    }
   ],
   "source": [
    "model_auto_3 = smf.ols('np.log(mpg)~horsepower+np.square(horsepower)', data = auto).fit()\n",
    "# print(model_auto3.summary())\n",
    "\n",
    "plt.figure(figsize=(10, 3))\n",
    "plt.subplot(1,2,1)\n",
    "plt.scatter(model_auto_2.fittedvalues, model_auto_2.resid)\n",
    "plt.xlabel('Fitted values')\n",
    "plt.ylabel('Residuals')\n",
    "plt.title('mpg~horsepower+np.square(horsepower)')\n",
    "plt.subplot(1,2,2)\n",
    "plt.scatter(model_auto_3.fittedvalues, model_auto_3.resid)\n",
    "plt.xlabel('Fitted values')\n",
    "plt.ylabel('Residuals')\n",
    "plt.title('np.log(mpg)~horsepower+np.square(horsepower)')\n",
    "plt.show()"
   ]
  },
  {
   "cell_type": "markdown",
   "metadata": {},
   "source": [
    "#### 가중최소제곱(weighted least squares; WLS) 방법\n",
    "\n",
    "$$ Y_i = \\beta_0 + \\beta_1 X_i + \\epsilon_i, ~~Var(\\epsilon_i) = \\sigma\n",
    "_i^2, i=1,2,\\cdots, n$$\n",
    "\n",
    "- $1/\\sigma_i^2$을 가중치로 하는 WLS 모형을 적합한다. \n",
    "- $\\sigma_i^2$을 어떻게 계산하는가? \n",
    "    - 이론에 의해 알고 있는 경우 \n",
    "    - 특정 변수에 따라 잔차의 분산이 커지는 경우 해당 변수의 역수(혹은 역수의 제곱)을 weight로 사용 \n",
    "    - 잔차의 절대값을 종속변수로, fitted value를 설명변수로 하는 선형모형을 적합하여 그 모형의 적합값을 활용하여 weight로 설정"
   ]
  },
  {
   "cell_type": "markdown",
   "metadata": {},
   "source": [
    "### 2.5.4 이상치(outlier)\n",
    "- 모델이 예측한 값과 $y_i$가 크게 다른 점\n",
    "\n",
    "<img src='http://drive.google.com/uc?export=view&id=1QpVG726vEZi2VhugMzaIe2Zpg5CGmphZ' /><br>\n",
    "\n",
    "- 이 경우 이상치를 제거하는 것이 최소제곱선에 거의 영향을 주지 않음 \n",
    "\n",
    "- 얼마나 커야 이상치라고 결정?\n",
    "    - **스튜던트화 잔차(studentized residual)**: 잔차/추정표준오차 \n",
    "    - $|스튜던트화 잔차 |>3$이면 이상치라고 판정"
   ]
  },
  {
   "cell_type": "code",
   "execution_count": 17,
   "metadata": {},
   "outputs": [
    {
     "data": {
      "image/png": "[encoded data removed]",
      "text/plain": [
       "<Figure size 720x216 with 2 Axes>"
      ]
     },
     "metadata": {
      "needs_background": "light"
     },
     "output_type": "display_data"
    }
   ],
   "source": [
    "inf_3 = OLSInfluence(model_auto_3)\n",
    "# inf3.summary_frame()\n",
    "fig, ax = plt.subplots(1,2, figsize=(10, 3))\n",
    "ax[0].scatter(auto.index,model_auto_3.resid)\n",
    "ax[0].set_xlabel('Observation')\n",
    "ax[0].set_ylabel('Residuals')\n",
    "inf_3.plot_index('resid',threshold=3, ax = ax[1])\n",
    "plt.show()"
   ]
  },
  {
   "cell_type": "markdown",
   "metadata": {},
   "source": [
    "- 이상치 처리?\n",
    "    - 이상치가 수집 또는 기록에 의한 오류에 의해 발생하였다면 관측치를 제외\n",
    "    - 필요 설명변수가 없는 것과 같은 모델의 결함을 나타낼 수 있으므로 주의 "
   ]
  },
  {
   "cell_type": "markdown",
   "metadata": {},
   "source": [
    "### 2.5.5 영향점 (Influential points) \n",
    "- 이상치: 주어진 $x_i$값에 대해 $y_i$ 값이 보통 수준과 다른 관측치\n",
    "- 영향점: 추정회귀선에 영향을 많이 주는 관측치 \n",
    "\n",
    "<img src='http://drive.google.com/uc?export=view&id=1MRJWP9beO9Leh6OAWaQj22LiF8ezJGYC' /><br>"
   ]
  },
  {
   "cell_type": "markdown",
   "metadata": {},
   "source": [
    "#### 레버리지(leverage) 통계량\n",
    "- 단순회귀분석의 경우 \n",
    "$$ h_i = \\frac 1 n + \\frac {(x_i - \\bar x)^2 }{\\sum_{i'} (x_{i'} - \\bar x )^2 }$$\n",
    "-  $x_i$값이 $\\bar x$에서 멀리 떨어져 있을 수록 레버리지 값이 크다.\n",
    "- $h_i$의 평균은 $(p+1)/n$\n",
    "- 레버리지와 residual이 동시에 크면 추정회귀선에 큰 영향을 준다"
   ]
  },
  {
   "cell_type": "code",
   "execution_count": 18,
   "metadata": {},
   "outputs": [
    {
     "data": {
      "image/png": "[encoded data removed]",
      "text/plain": [
       "<Figure size 432x288 with 1 Axes>"
      ]
     },
     "metadata": {
      "needs_background": "light"
     },
     "output_type": "display_data"
    }
   ],
   "source": [
    "inf_3.plot_influence()\n",
    "plt.show()"
   ]
  },
  {
   "cell_type": "markdown",
   "metadata": {},
   "source": [
    "#### Cook's distance \n",
    "\n",
    "$$ D_i = \\frac{(y_i - \\hat y_i )^2}{p\\cdot MSE} \\frac{h_i}{(1-h_{ii})^2}$$"
   ]
  },
  {
   "cell_type": "code",
   "execution_count": 19,
   "metadata": {},
   "outputs": [
    {
     "data": {
      "image/png": "[encoded data removed]",
      "text/plain": [
       "<Figure size 432x288 with 1 Axes>"
      ]
     },
     "metadata": {
      "needs_background": "light"
     },
     "output_type": "display_data"
    }
   ],
   "source": [
    "inf_3.plot_index('cook',threshold=4/(model_auto_3.nobs-2-1))\n",
    "plt.show()\n",
    "# 4/(n-p-1) 또는 4/n; n은 관측치의 갯수, p는 변수의 갯수"
   ]
  },
  {
   "cell_type": "markdown",
   "metadata": {},
   "source": [
    "### 2.5.6 다중공선성(multicollinearity)\n",
    "- 두 개 또는 그 이상의 설명변수들이 서로 밀접하게 상관되어 있는 경우 \n",
    "- Credit 데이터"
   ]
  },
  {
   "cell_type": "code",
   "execution_count": 20,
   "metadata": {},
   "outputs": [
    {
     "data": {
      "text/html": [
       "<div>\n",
       "<style scoped>\n",
       "    .dataframe tbody tr th:only-of-type {\n",
       "        vertical-align: middle;\n",
       "    }\n",
       "\n",
       "    .dataframe tbody tr th {\n",
       "        vertical-align: top;\n",
       "    }\n",
       "\n",
       "    .dataframe thead th {\n",
       "        text-align: right;\n",
       "    }\n",
       "</style>\n",
       "<table border=\"1\" class=\"dataframe\">\n",
       "  <thead>\n",
       "    <tr style=\"text-align: right;\">\n",
       "      <th></th>\n",
       "      <th>Income</th>\n",
       "      <th>Limit</th>\n",
       "      <th>Rating</th>\n",
       "      <th>Cards</th>\n",
       "      <th>Age</th>\n",
       "      <th>Education</th>\n",
       "      <th>Gender</th>\n",
       "      <th>Student</th>\n",
       "      <th>Married</th>\n",
       "      <th>Ethnicity</th>\n",
       "      <th>Balance</th>\n",
       "    </tr>\n",
       "  </thead>\n",
       "  <tbody>\n",
       "    <tr>\n",
       "      <th>1</th>\n",
       "      <td>14.891</td>\n",
       "      <td>3606</td>\n",
       "      <td>283</td>\n",
       "      <td>2</td>\n",
       "      <td>34</td>\n",
       "      <td>11</td>\n",
       "      <td>Male</td>\n",
       "      <td>No</td>\n",
       "      <td>Yes</td>\n",
       "      <td>Caucasian</td>\n",
       "      <td>333</td>\n",
       "    </tr>\n",
       "    <tr>\n",
       "      <th>2</th>\n",
       "      <td>106.025</td>\n",
       "      <td>6645</td>\n",
       "      <td>483</td>\n",
       "      <td>3</td>\n",
       "      <td>82</td>\n",
       "      <td>15</td>\n",
       "      <td>Female</td>\n",
       "      <td>Yes</td>\n",
       "      <td>Yes</td>\n",
       "      <td>Asian</td>\n",
       "      <td>903</td>\n",
       "    </tr>\n",
       "    <tr>\n",
       "      <th>3</th>\n",
       "      <td>104.593</td>\n",
       "      <td>7075</td>\n",
       "      <td>514</td>\n",
       "      <td>4</td>\n",
       "      <td>71</td>\n",
       "      <td>11</td>\n",
       "      <td>Male</td>\n",
       "      <td>No</td>\n",
       "      <td>No</td>\n",
       "      <td>Asian</td>\n",
       "      <td>580</td>\n",
       "    </tr>\n",
       "    <tr>\n",
       "      <th>4</th>\n",
       "      <td>148.924</td>\n",
       "      <td>9504</td>\n",
       "      <td>681</td>\n",
       "      <td>3</td>\n",
       "      <td>36</td>\n",
       "      <td>11</td>\n",
       "      <td>Female</td>\n",
       "      <td>No</td>\n",
       "      <td>No</td>\n",
       "      <td>Asian</td>\n",
       "      <td>964</td>\n",
       "    </tr>\n",
       "    <tr>\n",
       "      <th>5</th>\n",
       "      <td>55.882</td>\n",
       "      <td>4897</td>\n",
       "      <td>357</td>\n",
       "      <td>2</td>\n",
       "      <td>68</td>\n",
       "      <td>16</td>\n",
       "      <td>Male</td>\n",
       "      <td>No</td>\n",
       "      <td>Yes</td>\n",
       "      <td>Caucasian</td>\n",
       "      <td>331</td>\n",
       "    </tr>\n",
       "  </tbody>\n",
       "</table>\n",
       "</div>"
      ],
      "text/plain": [
       "    Income  Limit  Rating  Cards  Age  Education  Gender Student Married  \\\n",
       "1   14.891   3606     283      2   34         11    Male      No     Yes   \n",
       "2  106.025   6645     483      3   82         15  Female     Yes     Yes   \n",
       "3  104.593   7075     514      4   71         11    Male      No      No   \n",
       "4  148.924   9504     681      3   36         11  Female      No      No   \n",
       "5   55.882   4897     357      2   68         16    Male      No     Yes   \n",
       "\n",
       "   Ethnicity  Balance  \n",
       "1  Caucasian      333  \n",
       "2      Asian      903  \n",
       "3      Asian      580  \n",
       "4      Asian      964  \n",
       "5  Caucasian      331  "
      ]
     },
     "execution_count": 20,
     "metadata": {},
     "output_type": "execute_result"
    }
   ],
   "source": [
    "credit = pd.read_csv(data_path+\"Credit.csv\", index_col=0)\n",
    "credit.head()"
   ]
  },
  {
   "cell_type": "markdown",
   "metadata": {},
   "source": [
    "<img src='http://drive.google.com/uc?export=view&id=1f4dN4KMJud7AmJ7P-dKH71A_TSD_yaE2' /><br>"
   ]
  },
  {
   "cell_type": "markdown",
   "metadata": {},
   "source": [
    "- 공선성의 존재가 일으키는 문제\n",
    "    - 각 변수들의 개별효과를 분리하기 어려움\n",
    "    - 계수 추정치의 불확실성 증가: $\\hat \\beta_j$의 표준오차 증가, 가설검정 능력의 저하 \n",
    "\n",
    "<img src='http://drive.google.com/uc?export=view&id=1YVjwE-A_2wU6FAZbW2YwTt5swtpsZ_b7' /><br>"
   ]
  },
  {
   "cell_type": "code",
   "execution_count": 21,
   "metadata": {},
   "outputs": [
    {
     "data": {
      "text/html": [
       "<table class=\"simpletable\">\n",
       "<tr>\n",
       "      <td></td>         <th>coef</th>     <th>std err</th>      <th>t</th>      <th>P>|t|</th>  <th>[0.025</th>    <th>0.975]</th>  \n",
       "</tr>\n",
       "<tr>\n",
       "  <th>Intercept</th> <td> -173.4109</td> <td>   43.828</td> <td>   -3.957</td> <td> 0.000</td> <td> -259.576</td> <td>  -87.246</td>\n",
       "</tr>\n",
       "<tr>\n",
       "  <th>Age</th>       <td>   -2.2915</td> <td>    0.672</td> <td>   -3.407</td> <td> 0.001</td> <td>   -3.614</td> <td>   -0.969</td>\n",
       "</tr>\n",
       "<tr>\n",
       "  <th>Limit</th>     <td>    0.1734</td> <td>    0.005</td> <td>   34.496</td> <td> 0.000</td> <td>    0.163</td> <td>    0.183</td>\n",
       "</tr>\n",
       "</table>"
      ],
      "text/plain": [
       "<class 'statsmodels.iolib.table.SimpleTable'>"
      ]
     },
     "execution_count": 21,
     "metadata": {},
     "output_type": "execute_result"
    }
   ],
   "source": [
    "model_credit = smf.ols('Balance~Age+Limit', data = credit).fit()\n",
    "model_credit.summary().tables[1]"
   ]
  },
  {
   "cell_type": "code",
   "execution_count": 22,
   "metadata": {},
   "outputs": [
    {
     "data": {
      "text/html": [
       "<table class=\"simpletable\">\n",
       "<tr>\n",
       "      <td></td>         <th>coef</th>     <th>std err</th>      <th>t</th>      <th>P>|t|</th>  <th>[0.025</th>    <th>0.975]</th>  \n",
       "</tr>\n",
       "<tr>\n",
       "  <th>Intercept</th> <td> -377.5368</td> <td>   45.254</td> <td>   -8.343</td> <td> 0.000</td> <td> -466.505</td> <td> -288.569</td>\n",
       "</tr>\n",
       "<tr>\n",
       "  <th>Rating</th>    <td>    2.2017</td> <td>    0.952</td> <td>    2.312</td> <td> 0.021</td> <td>    0.330</td> <td>    4.074</td>\n",
       "</tr>\n",
       "<tr>\n",
       "  <th>Limit</th>     <td>    0.0245</td> <td>    0.064</td> <td>    0.384</td> <td> 0.701</td> <td>   -0.101</td> <td>    0.150</td>\n",
       "</tr>\n",
       "</table>"
      ],
      "text/plain": [
       "<class 'statsmodels.iolib.table.SimpleTable'>"
      ]
     },
     "execution_count": 22,
     "metadata": {},
     "output_type": "execute_result"
    }
   ],
   "source": [
    "model_credit_2 = smf.ols('Balance~Rating+Limit', data = credit).fit()\n",
    "model_credit_2.summary().tables[1]"
   ]
  },
  {
   "cell_type": "markdown",
   "metadata": {},
   "source": [
    "- 공선성 검출 방법\n",
    "    - 설명변수들의 상관계수 행렬 관찰 \n",
    "        - 상관계수의 절대값이 크면 공선성 발생 가능\n",
    "        - 모든 공선성 문제가 상관계수 행렬에 의해 발견 가능하지 않음\n",
    "        - 다중공선성(multicollinearity): 세 개 또는 그 이상의 변수들 사이에 공선성 존재 가능\n",
    "    - 분산팽창인수(VIF; variance inflation factor) 계산 \n",
    "        $$ VIF(\\hat \\beta_j) = \\frac {1}{1-R^2_{X_j | X_{-j}}}$$\n",
    "        - $R^2_{X_j | X_{-j}}$: $X_j$를 다른 모든 설명변수들에 적합한 회귀모델의 $R^2$\n",
    "        - 가능한 가장 작은 값=1: 공선성이 전혀 없음\n",
    "        - VIF가 5 또는 10을 초과하면 공선성 존재한다고 경험적으로 판단 "
   ]
  },
  {
   "cell_type": "code",
   "execution_count": 23,
   "metadata": {},
   "outputs": [
    {
     "name": "stdout",
     "output_type": "stream",
     "text": [
      "VIF of Intercept : 23.80295451367821\n",
      "VIF of Age : 1.0113846860681328\n",
      "VIF of Rating : 160.66830095856935\n",
      "VIF of Limit : 160.59287978597942\n"
     ]
    }
   ],
   "source": [
    "model_credit_3 = smf.ols('Balance~Age+Rating+Limit', data = credit).fit()\n",
    "import patsy\n",
    "y, X = patsy.dmatrices('Balance~Age+Rating+Limit', credit, return_type='matrix')\n",
    "\n",
    "from statsmodels.stats.outliers_influence import variance_inflation_factor\n",
    "for i, x in enumerate(X.design_info.column_names):\n",
    "    print( 'VIF of', x, ':', variance_inflation_factor(X, i))"
   ]
  },
  {
   "cell_type": "markdown",
   "metadata": {},
   "source": [
    "- 공선성의 해결\n",
    "    - 문제가 있는 변수들 중의 하나를 제거 \n",
    "        - 회귀적합에 별로 나쁜 영향을 주지 않음 \n",
    "    - 변수선택 방법 사용 \n",
    "    - 공선성 변수들을 단일 설명변수로 결합 \n",
    "        - 새로운 변수 생성\n",
    "        - 주성분분석 활용 "
   ]
  }
 ],
 "metadata": {
  "kernelspec": {
   "display_name": "Python 3.9.12 ('base')",
   "language": "python",
   "name": "python3"
  },
  "language_info": {
   "codemirror_mode": {
    "name": "ipython",
    "version": 3
   },
   "file_extension": ".py",
   "mimetype": "text/x-python",
   "name": "python",
   "nbconvert_exporter": "python",
   "pygments_lexer": "ipython3",
   "version": "3.9.12"
  },
  "orig_nbformat": 4,
  "vscode": {
   "interpreter": {
    "hash": "68756eb6c044f31c46e3e1f38723aea1f0146198488dd3d60c0e4241eb6f7dd0"
   }
  }
 },
 "nbformat": 4,
 "nbformat_minor": 2
}
