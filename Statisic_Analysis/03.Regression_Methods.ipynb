{
 "cells": [
  {
   "attachments": {},
   "cell_type": "markdown",
   "metadata": {},
   "source": [
    "## Quantative Predictors And Interaction Terms"
   ]
  },
  {
   "cell_type": "code",
   "execution_count": 1,
   "metadata": {},
   "outputs": [],
   "source": [
    "import pandas as pd\n",
    "import numpy as np\n",
    "import matplotlib.pylab as plt\n",
    "import scipy.stats as stats\n",
    "import statsmodels.api as sm\n",
    "import statsmodels.formula.api as smf\n",
    "from statsmodels.stats.outliers_influence import OLSInfluence\n",
    "\n",
    "data_path = \"./data/\"\n",
    "credit = pd.read_csv(data_path+\"Credit.csv\", index_col=0)"
   ]
  },
  {
   "attachments": {},
   "cell_type": "markdown",
   "metadata": {},
   "source": [
    "#### 범주가 2개인 범주형 변수"
   ]
  },
  {
   "cell_type": "code",
   "execution_count": 2,
   "metadata": {},
   "outputs": [
    {
     "data": {
      "text/html": [
       "<table class=\"simpletable\">\n",
       "<caption>OLS Regression Results</caption>\n",
       "<tr>\n",
       "  <th>Dep. Variable:</th>         <td>Balance</td>     <th>  R-squared:         </th> <td>   0.067</td>\n",
       "</tr>\n",
       "<tr>\n",
       "  <th>Model:</th>                   <td>OLS</td>       <th>  Adj. R-squared:    </th> <td>   0.065</td>\n",
       "</tr>\n",
       "<tr>\n",
       "  <th>Method:</th>             <td>Least Squares</td>  <th>  F-statistic:       </th> <td>   28.62</td>\n",
       "</tr>\n",
       "<tr>\n",
       "  <th>Date:</th>             <td>Thu, 02 Feb 2023</td> <th>  Prob (F-statistic):</th> <td>1.49e-07</td>\n",
       "</tr>\n",
       "<tr>\n",
       "  <th>Time:</th>                 <td>19:25:49</td>     <th>  Log-Likelihood:    </th> <td> -3005.5</td>\n",
       "</tr>\n",
       "<tr>\n",
       "  <th>No. Observations:</th>      <td>   400</td>      <th>  AIC:               </th> <td>   6015.</td>\n",
       "</tr>\n",
       "<tr>\n",
       "  <th>Df Residuals:</th>          <td>   398</td>      <th>  BIC:               </th> <td>   6023.</td>\n",
       "</tr>\n",
       "<tr>\n",
       "  <th>Df Model:</th>              <td>     1</td>      <th>                     </th>     <td> </td>   \n",
       "</tr>\n",
       "<tr>\n",
       "  <th>Covariance Type:</th>      <td>nonrobust</td>    <th>                     </th>     <td> </td>   \n",
       "</tr>\n",
       "</table>\n",
       "<table class=\"simpletable\">\n",
       "<tr>\n",
       "         <td></td>           <th>coef</th>     <th>std err</th>      <th>t</th>      <th>P>|t|</th>  <th>[0.025</th>    <th>0.975]</th>  \n",
       "</tr>\n",
       "<tr>\n",
       "  <th>Intercept</th>      <td>  480.3694</td> <td>   23.434</td> <td>   20.499</td> <td> 0.000</td> <td>  434.300</td> <td>  526.439</td>\n",
       "</tr>\n",
       "<tr>\n",
       "  <th>Student[T.Yes]</th> <td>  396.4556</td> <td>   74.104</td> <td>    5.350</td> <td> 0.000</td> <td>  250.771</td> <td>  542.140</td>\n",
       "</tr>\n",
       "</table>\n",
       "<table class=\"simpletable\">\n",
       "<tr>\n",
       "  <th>Omnibus:</th>       <td>20.866</td> <th>  Durbin-Watson:     </th> <td>   1.950</td>\n",
       "</tr>\n",
       "<tr>\n",
       "  <th>Prob(Omnibus):</th> <td> 0.000</td> <th>  Jarque-Bera (JB):  </th> <td>  21.920</td>\n",
       "</tr>\n",
       "<tr>\n",
       "  <th>Skew:</th>          <td> 0.544</td> <th>  Prob(JB):          </th> <td>1.74e-05</td>\n",
       "</tr>\n",
       "<tr>\n",
       "  <th>Kurtosis:</th>      <td> 2.637</td> <th>  Cond. No.          </th> <td>    3.37</td>\n",
       "</tr>\n",
       "</table><br/><br/>Notes:<br/>[1] Standard Errors assume that the covariance matrix of the errors is correctly specified."
      ],
      "text/plain": [
       "<class 'statsmodels.iolib.summary.Summary'>\n",
       "\"\"\"\n",
       "                            OLS Regression Results                            \n",
       "==============================================================================\n",
       "Dep. Variable:                Balance   R-squared:                       0.067\n",
       "Model:                            OLS   Adj. R-squared:                  0.065\n",
       "Method:                 Least Squares   F-statistic:                     28.62\n",
       "Date:                Thu, 02 Feb 2023   Prob (F-statistic):           1.49e-07\n",
       "Time:                        19:25:49   Log-Likelihood:                -3005.5\n",
       "No. Observations:                 400   AIC:                             6015.\n",
       "Df Residuals:                     398   BIC:                             6023.\n",
       "Df Model:                           1                                         \n",
       "Covariance Type:            nonrobust                                         \n",
       "==================================================================================\n",
       "                     coef    std err          t      P>|t|      [0.025      0.975]\n",
       "----------------------------------------------------------------------------------\n",
       "Intercept        480.3694     23.434     20.499      0.000     434.300     526.439\n",
       "Student[T.Yes]   396.4556     74.104      5.350      0.000     250.771     542.140\n",
       "==============================================================================\n",
       "Omnibus:                       20.866   Durbin-Watson:                   1.950\n",
       "Prob(Omnibus):                  0.000   Jarque-Bera (JB):               21.920\n",
       "Skew:                           0.544   Prob(JB):                     1.74e-05\n",
       "Kurtosis:                       2.637   Cond. No.                         3.37\n",
       "==============================================================================\n",
       "\n",
       "Notes:\n",
       "[1] Standard Errors assume that the covariance matrix of the errors is correctly specified.\n",
       "\"\"\""
      ]
     },
     "execution_count": 2,
     "metadata": {},
     "output_type": "execute_result"
    }
   ],
   "source": [
    "model = smf.ols('Balance ~ Student', data = credit).fit()\n",
    "model.summary()"
   ]
  },
  {
   "cell_type": "code",
   "execution_count": 3,
   "metadata": {},
   "outputs": [
    {
     "data": {
      "text/html": [
       "<div>\n",
       "<style scoped>\n",
       "    .dataframe tbody tr th:only-of-type {\n",
       "        vertical-align: middle;\n",
       "    }\n",
       "\n",
       "    .dataframe tbody tr th {\n",
       "        vertical-align: top;\n",
       "    }\n",
       "\n",
       "    .dataframe thead th {\n",
       "        text-align: right;\n",
       "    }\n",
       "</style>\n",
       "<table border=\"1\" class=\"dataframe\">\n",
       "  <thead>\n",
       "    <tr style=\"text-align: right;\">\n",
       "      <th></th>\n",
       "      <th>Intercept</th>\n",
       "      <th>Student[T.Yes]</th>\n",
       "    </tr>\n",
       "  </thead>\n",
       "  <tbody>\n",
       "    <tr>\n",
       "      <th>1</th>\n",
       "      <td>1.0</td>\n",
       "      <td>0.0</td>\n",
       "    </tr>\n",
       "    <tr>\n",
       "      <th>2</th>\n",
       "      <td>1.0</td>\n",
       "      <td>1.0</td>\n",
       "    </tr>\n",
       "    <tr>\n",
       "      <th>3</th>\n",
       "      <td>1.0</td>\n",
       "      <td>0.0</td>\n",
       "    </tr>\n",
       "    <tr>\n",
       "      <th>4</th>\n",
       "      <td>1.0</td>\n",
       "      <td>0.0</td>\n",
       "    </tr>\n",
       "    <tr>\n",
       "      <th>5</th>\n",
       "      <td>1.0</td>\n",
       "      <td>0.0</td>\n",
       "    </tr>\n",
       "  </tbody>\n",
       "</table>\n",
       "</div>"
      ],
      "text/plain": [
       "   Intercept  Student[T.Yes]\n",
       "1        1.0             0.0\n",
       "2        1.0             1.0\n",
       "3        1.0             0.0\n",
       "4        1.0             0.0\n",
       "5        1.0             0.0"
      ]
     },
     "execution_count": 3,
     "metadata": {},
     "output_type": "execute_result"
    }
   ],
   "source": [
    "# design matrix 생성\n",
    "import patsy\n",
    "y, X = patsy.dmatrices('Balance ~ Student', data = credit, return_type='dataframe')\n",
    "X.head()"
   ]
  },
  {
   "attachments": {},
   "cell_type": "markdown",
   "metadata": {},
   "source": [
    "#### 범주가 3개 이상인 범주형 변수"
   ]
  },
  {
   "cell_type": "code",
   "execution_count": 4,
   "metadata": {},
   "outputs": [
    {
     "data": {
      "text/html": [
       "<table class=\"simpletable\">\n",
       "<tr>\n",
       "             <td></td>               <th>coef</th>     <th>std err</th>      <th>t</th>      <th>P>|t|</th>  <th>[0.025</th>    <th>0.975]</th>  \n",
       "</tr>\n",
       "<tr>\n",
       "  <th>Intercept</th>              <td>  531.0000</td> <td>   46.319</td> <td>   11.464</td> <td> 0.000</td> <td>  439.939</td> <td>  622.061</td>\n",
       "</tr>\n",
       "<tr>\n",
       "  <th>Ethnicity[T.Asian]</th>     <td>  -18.6863</td> <td>   65.021</td> <td>   -0.287</td> <td> 0.774</td> <td> -146.515</td> <td>  109.142</td>\n",
       "</tr>\n",
       "<tr>\n",
       "  <th>Ethnicity[T.Caucasian]</th> <td>  -12.5025</td> <td>   56.681</td> <td>   -0.221</td> <td> 0.826</td> <td> -123.935</td> <td>   98.930</td>\n",
       "</tr>\n",
       "</table>"
      ],
      "text/plain": [
       "<class 'statsmodels.iolib.table.SimpleTable'>"
      ]
     },
     "execution_count": 4,
     "metadata": {},
     "output_type": "execute_result"
    }
   ],
   "source": [
    "model2 = smf.ols('Balance ~ Ethnicity ', data = credit).fit()\n",
    "model2.summary().tables[1]"
   ]
  },
  {
   "attachments": {},
   "cell_type": "markdown",
   "metadata": {},
   "source": [
    "#### 기준 레벨(referecne level) 변경"
   ]
  },
  {
   "cell_type": "code",
   "execution_count": 5,
   "metadata": {},
   "outputs": [
    {
     "data": {
      "text/html": [
       "<table class=\"simpletable\">\n",
       "<tr>\n",
       "                                 <td></td>                                   <th>coef</th>     <th>std err</th>      <th>t</th>      <th>P>|t|</th>  <th>[0.025</th>    <th>0.975]</th>  \n",
       "</tr>\n",
       "<tr>\n",
       "  <th>Intercept</th>                                                      <td>  512.3137</td> <td>   45.632</td> <td>   11.227</td> <td> 0.000</td> <td>  422.602</td> <td>  602.025</td>\n",
       "</tr>\n",
       "<tr>\n",
       "  <th>C(Ethnicity, Treatment(reference=\"Asian\"))[T.African American]</th> <td>   18.6863</td> <td>   65.021</td> <td>    0.287</td> <td> 0.774</td> <td> -109.142</td> <td>  146.515</td>\n",
       "</tr>\n",
       "<tr>\n",
       "  <th>C(Ethnicity, Treatment(reference=\"Asian\"))[T.Caucasian]</th>        <td>    6.1838</td> <td>   56.122</td> <td>    0.110</td> <td> 0.912</td> <td> -104.149</td> <td>  116.517</td>\n",
       "</tr>\n",
       "</table>"
      ],
      "text/plain": [
       "<class 'statsmodels.iolib.table.SimpleTable'>"
      ]
     },
     "execution_count": 5,
     "metadata": {},
     "output_type": "execute_result"
    }
   ],
   "source": [
    "model3 = smf.ols('Balance ~ C(Ethnicity, Treatment(reference = \"Asian\")) ', data = credit).fit()\n",
    "model3.summary().tables[1]"
   ]
  },
  {
   "cell_type": "code",
   "execution_count": 6,
   "metadata": {},
   "outputs": [],
   "source": [
    "# Design Matrix 생성\n",
    "y, X1 = patsy.dmatrices('Balance ~ Ethnicity', data = credit, return_type = \"dataframe\")\n",
    "y, X2 = patsy.dmatrices('Balance ~ C(Ethnicity, Treatment(reference = \"Asian\")) ', data = credit, return_type=\"dataframe\")"
   ]
  },
  {
   "cell_type": "code",
   "execution_count": 7,
   "metadata": {},
   "outputs": [
    {
     "data": {
      "text/html": [
       "<div>\n",
       "<style scoped>\n",
       "    .dataframe tbody tr th:only-of-type {\n",
       "        vertical-align: middle;\n",
       "    }\n",
       "\n",
       "    .dataframe tbody tr th {\n",
       "        vertical-align: top;\n",
       "    }\n",
       "\n",
       "    .dataframe thead th {\n",
       "        text-align: right;\n",
       "    }\n",
       "</style>\n",
       "<table border=\"1\" class=\"dataframe\">\n",
       "  <thead>\n",
       "    <tr style=\"text-align: right;\">\n",
       "      <th></th>\n",
       "      <th>Intercept</th>\n",
       "      <th>Ethnicity[T.Asian]</th>\n",
       "      <th>Ethnicity[T.Caucasian]</th>\n",
       "    </tr>\n",
       "  </thead>\n",
       "  <tbody>\n",
       "    <tr>\n",
       "      <th>1</th>\n",
       "      <td>1.0</td>\n",
       "      <td>0.0</td>\n",
       "      <td>1.0</td>\n",
       "    </tr>\n",
       "    <tr>\n",
       "      <th>2</th>\n",
       "      <td>1.0</td>\n",
       "      <td>1.0</td>\n",
       "      <td>0.0</td>\n",
       "    </tr>\n",
       "    <tr>\n",
       "      <th>3</th>\n",
       "      <td>1.0</td>\n",
       "      <td>1.0</td>\n",
       "      <td>0.0</td>\n",
       "    </tr>\n",
       "    <tr>\n",
       "      <th>4</th>\n",
       "      <td>1.0</td>\n",
       "      <td>1.0</td>\n",
       "      <td>0.0</td>\n",
       "    </tr>\n",
       "    <tr>\n",
       "      <th>5</th>\n",
       "      <td>1.0</td>\n",
       "      <td>0.0</td>\n",
       "      <td>1.0</td>\n",
       "    </tr>\n",
       "  </tbody>\n",
       "</table>\n",
       "</div>"
      ],
      "text/plain": [
       "   Intercept  Ethnicity[T.Asian]  Ethnicity[T.Caucasian]\n",
       "1        1.0                 0.0                     1.0\n",
       "2        1.0                 1.0                     0.0\n",
       "3        1.0                 1.0                     0.0\n",
       "4        1.0                 1.0                     0.0\n",
       "5        1.0                 0.0                     1.0"
      ]
     },
     "execution_count": 7,
     "metadata": {},
     "output_type": "execute_result"
    }
   ],
   "source": [
    "X1.head()"
   ]
  },
  {
   "cell_type": "code",
   "execution_count": 8,
   "metadata": {},
   "outputs": [
    {
     "data": {
      "text/html": [
       "<div>\n",
       "<style scoped>\n",
       "    .dataframe tbody tr th:only-of-type {\n",
       "        vertical-align: middle;\n",
       "    }\n",
       "\n",
       "    .dataframe tbody tr th {\n",
       "        vertical-align: top;\n",
       "    }\n",
       "\n",
       "    .dataframe thead th {\n",
       "        text-align: right;\n",
       "    }\n",
       "</style>\n",
       "<table border=\"1\" class=\"dataframe\">\n",
       "  <thead>\n",
       "    <tr style=\"text-align: right;\">\n",
       "      <th></th>\n",
       "      <th>Intercept</th>\n",
       "      <th>C(Ethnicity, Treatment(reference=\"Asian\"))[T.African American]</th>\n",
       "      <th>C(Ethnicity, Treatment(reference=\"Asian\"))[T.Caucasian]</th>\n",
       "    </tr>\n",
       "  </thead>\n",
       "  <tbody>\n",
       "    <tr>\n",
       "      <th>1</th>\n",
       "      <td>1.0</td>\n",
       "      <td>0.0</td>\n",
       "      <td>1.0</td>\n",
       "    </tr>\n",
       "    <tr>\n",
       "      <th>2</th>\n",
       "      <td>1.0</td>\n",
       "      <td>0.0</td>\n",
       "      <td>0.0</td>\n",
       "    </tr>\n",
       "    <tr>\n",
       "      <th>3</th>\n",
       "      <td>1.0</td>\n",
       "      <td>0.0</td>\n",
       "      <td>0.0</td>\n",
       "    </tr>\n",
       "    <tr>\n",
       "      <th>4</th>\n",
       "      <td>1.0</td>\n",
       "      <td>0.0</td>\n",
       "      <td>0.0</td>\n",
       "    </tr>\n",
       "    <tr>\n",
       "      <th>5</th>\n",
       "      <td>1.0</td>\n",
       "      <td>0.0</td>\n",
       "      <td>1.0</td>\n",
       "    </tr>\n",
       "  </tbody>\n",
       "</table>\n",
       "</div>"
      ],
      "text/plain": [
       "   Intercept  C(Ethnicity, Treatment(reference=\"Asian\"))[T.African American]  \\\n",
       "1        1.0                                                0.0                \n",
       "2        1.0                                                0.0                \n",
       "3        1.0                                                0.0                \n",
       "4        1.0                                                0.0                \n",
       "5        1.0                                                0.0                \n",
       "\n",
       "   C(Ethnicity, Treatment(reference=\"Asian\"))[T.Caucasian]  \n",
       "1                                                1.0        \n",
       "2                                                0.0        \n",
       "3                                                0.0        \n",
       "4                                                0.0        \n",
       "5                                                1.0        "
      ]
     },
     "execution_count": 8,
     "metadata": {},
     "output_type": "execute_result"
    }
   ],
   "source": [
    "X2.head()"
   ]
  },
  {
   "attachments": {},
   "cell_type": "markdown",
   "metadata": {},
   "source": [
    "#### 범주형 설명변수와 연속형 설명변수"
   ]
  },
  {
   "cell_type": "code",
   "execution_count": 9,
   "metadata": {},
   "outputs": [
    {
     "data": {
      "text/html": [
       "<table class=\"simpletable\">\n",
       "<tr>\n",
       "         <td></td>           <th>coef</th>     <th>std err</th>      <th>t</th>      <th>P>|t|</th>  <th>[0.025</th>    <th>0.975]</th>  \n",
       "</tr>\n",
       "<tr>\n",
       "  <th>Intercept</th>      <td>  211.1430</td> <td>   32.457</td> <td>    6.505</td> <td> 0.000</td> <td>  147.333</td> <td>  274.952</td>\n",
       "</tr>\n",
       "<tr>\n",
       "  <th>Student[T.Yes]</th> <td>  382.6705</td> <td>   65.311</td> <td>    5.859</td> <td> 0.000</td> <td>  254.272</td> <td>  511.069</td>\n",
       "</tr>\n",
       "<tr>\n",
       "  <th>Income</th>         <td>    5.9843</td> <td>    0.557</td> <td>   10.751</td> <td> 0.000</td> <td>    4.890</td> <td>    7.079</td>\n",
       "</tr>\n",
       "</table>"
      ],
      "text/plain": [
       "<class 'statsmodels.iolib.table.SimpleTable'>"
      ]
     },
     "execution_count": 9,
     "metadata": {},
     "output_type": "execute_result"
    }
   ],
   "source": [
    "model4 = smf.ols('Balance ~ Income + Student ', data = credit).fit()\n",
    "model4.summary().tables[1]"
   ]
  },
  {
   "cell_type": "code",
   "execution_count": 10,
   "metadata": {},
   "outputs": [
    {
     "data": {
      "image/png": "[encoded data removed]",
      "text/plain": [
       "<Figure size 1080x504 with 1 Axes>"
      ]
     },
     "metadata": {
      "needs_background": "light"
     },
     "output_type": "display_data"
    }
   ],
   "source": [
    "credit['fitted'] = model4.fittedvalues\n",
    "\n",
    "import seaborn as sns\n",
    "fig, ax = plt.subplots(figsize=(15,7))\n",
    "\n",
    "credit.groupby('Student').plot(x='Income', y='fitted', \n",
    "                               ax=ax, legend=False)\n",
    "sns.scatterplot(x= \"Income\", y=\"Balance\", data=credit, hue=\"Student\")\n",
    "plt.show()"
   ]
  },
  {
   "cell_type": "code",
   "execution_count": 11,
   "metadata": {},
   "outputs": [
    {
     "data": {
      "text/html": [
       "<div>\n",
       "<style scoped>\n",
       "    .dataframe tbody tr th:only-of-type {\n",
       "        vertical-align: middle;\n",
       "    }\n",
       "\n",
       "    .dataframe tbody tr th {\n",
       "        vertical-align: top;\n",
       "    }\n",
       "\n",
       "    .dataframe thead th {\n",
       "        text-align: right;\n",
       "    }\n",
       "</style>\n",
       "<table border=\"1\" class=\"dataframe\">\n",
       "  <thead>\n",
       "    <tr style=\"text-align: right;\">\n",
       "      <th></th>\n",
       "      <th>df_resid</th>\n",
       "      <th>ssr</th>\n",
       "      <th>df_diff</th>\n",
       "      <th>ss_diff</th>\n",
       "      <th>F</th>\n",
       "      <th>Pr(&gt;F)</th>\n",
       "    </tr>\n",
       "  </thead>\n",
       "  <tbody>\n",
       "    <tr>\n",
       "      <th>0</th>\n",
       "      <td>397.0</td>\n",
       "      <td>6.093905e+07</td>\n",
       "      <td>0.0</td>\n",
       "      <td>NaN</td>\n",
       "      <td>NaN</td>\n",
       "      <td>NaN</td>\n",
       "    </tr>\n",
       "    <tr>\n",
       "      <th>1</th>\n",
       "      <td>395.0</td>\n",
       "      <td>6.090901e+07</td>\n",
       "      <td>2.0</td>\n",
       "      <td>30047.507138</td>\n",
       "      <td>0.09743</td>\n",
       "      <td>0.907187</td>\n",
       "    </tr>\n",
       "  </tbody>\n",
       "</table>\n",
       "</div>"
      ],
      "text/plain": [
       "   df_resid           ssr  df_diff       ss_diff        F    Pr(>F)\n",
       "0     397.0  6.093905e+07      0.0           NaN      NaN       NaN\n",
       "1     395.0  6.090901e+07      2.0  30047.507138  0.09743  0.907187"
      ]
     },
     "execution_count": 11,
     "metadata": {},
     "output_type": "execute_result"
    }
   ],
   "source": [
    "# 부분 F 검정\n",
    "from statsmodels.stats.anova import anova_lm\n",
    "model5 = smf.ols('Balance ~ Income + Student + Ethnicity ', data = credit).fit()\n",
    "model5.summary().tables[1]\n",
    "\n",
    "# Model 4 : Reduced Model, RSS0\n",
    "# Model 5 : Full Model, RSS\n",
    "anova_lm(model4, model5)"
   ]
  },
  {
   "attachments": {},
   "cell_type": "markdown",
   "metadata": {},
   "source": [
    "#### Effect coding"
   ]
  },
  {
   "cell_type": "code",
   "execution_count": 12,
   "metadata": {},
   "outputs": [
    {
     "data": {
      "text/html": [
       "<div>\n",
       "<style scoped>\n",
       "    .dataframe tbody tr th:only-of-type {\n",
       "        vertical-align: middle;\n",
       "    }\n",
       "\n",
       "    .dataframe tbody tr th {\n",
       "        vertical-align: top;\n",
       "    }\n",
       "\n",
       "    .dataframe thead th {\n",
       "        text-align: right;\n",
       "    }\n",
       "</style>\n",
       "<table border=\"1\" class=\"dataframe\">\n",
       "  <thead>\n",
       "    <tr style=\"text-align: right;\">\n",
       "      <th></th>\n",
       "      <th>Intercept</th>\n",
       "      <th>C(Student, Sum)[S.No]</th>\n",
       "      <th>Income</th>\n",
       "    </tr>\n",
       "  </thead>\n",
       "  <tbody>\n",
       "    <tr>\n",
       "      <th>1</th>\n",
       "      <td>1.0</td>\n",
       "      <td>1.0</td>\n",
       "      <td>14.891</td>\n",
       "    </tr>\n",
       "    <tr>\n",
       "      <th>2</th>\n",
       "      <td>1.0</td>\n",
       "      <td>-1.0</td>\n",
       "      <td>106.025</td>\n",
       "    </tr>\n",
       "    <tr>\n",
       "      <th>3</th>\n",
       "      <td>1.0</td>\n",
       "      <td>1.0</td>\n",
       "      <td>104.593</td>\n",
       "    </tr>\n",
       "    <tr>\n",
       "      <th>4</th>\n",
       "      <td>1.0</td>\n",
       "      <td>1.0</td>\n",
       "      <td>148.924</td>\n",
       "    </tr>\n",
       "    <tr>\n",
       "      <th>5</th>\n",
       "      <td>1.0</td>\n",
       "      <td>1.0</td>\n",
       "      <td>55.882</td>\n",
       "    </tr>\n",
       "  </tbody>\n",
       "</table>\n",
       "</div>"
      ],
      "text/plain": [
       "   Intercept  C(Student, Sum)[S.No]   Income\n",
       "1        1.0                    1.0   14.891\n",
       "2        1.0                   -1.0  106.025\n",
       "3        1.0                    1.0  104.593\n",
       "4        1.0                    1.0  148.924\n",
       "5        1.0                    1.0   55.882"
      ]
     },
     "execution_count": 12,
     "metadata": {},
     "output_type": "execute_result"
    }
   ],
   "source": [
    "model5 = smf.ols('Balance ~ Income + C(Student, Sum)', data = credit).fit()\n",
    "model5.summary().tables[1]\n",
    "\n",
    "y, X = patsy.dmatrices('Balance ~ Income + C(Student, Sum)', data=credit, return_type = \"dataframe\")\n",
    "X.head()"
   ]
  },
  {
   "attachments": {},
   "cell_type": "markdown",
   "metadata": {},
   "source": [
    "#### 교호작용 효과"
   ]
  },
  {
   "cell_type": "code",
   "execution_count": 13,
   "metadata": {},
   "outputs": [
    {
     "data": {
      "text/html": [
       "<table class=\"simpletable\">\n",
       "<tr>\n",
       "      <td></td>         <th>coef</th>     <th>std err</th>      <th>t</th>      <th>P>|t|</th>  <th>[0.025</th>    <th>0.975]</th>  \n",
       "</tr>\n",
       "<tr>\n",
       "  <th>Intercept</th> <td>    6.7502</td> <td>    0.248</td> <td>   27.233</td> <td> 0.000</td> <td>    6.261</td> <td>    7.239</td>\n",
       "</tr>\n",
       "<tr>\n",
       "  <th>TV</th>        <td>    0.0191</td> <td>    0.002</td> <td>   12.699</td> <td> 0.000</td> <td>    0.016</td> <td>    0.022</td>\n",
       "</tr>\n",
       "<tr>\n",
       "  <th>Radio</th>     <td>    0.0289</td> <td>    0.009</td> <td>    3.241</td> <td> 0.001</td> <td>    0.011</td> <td>    0.046</td>\n",
       "</tr>\n",
       "<tr>\n",
       "  <th>TV:Radio</th>  <td>    0.0011</td> <td> 5.24e-05</td> <td>   20.727</td> <td> 0.000</td> <td>    0.001</td> <td>    0.001</td>\n",
       "</tr>\n",
       "</table>"
      ],
      "text/plain": [
       "<class 'statsmodels.iolib.table.SimpleTable'>"
      ]
     },
     "execution_count": 13,
     "metadata": {},
     "output_type": "execute_result"
    }
   ],
   "source": [
    "ad=pd.read_csv(data_path + \"Advertising.csv\")\n",
    "model_ad = smf.ols('Sales~TV+Radio+TV*Radio', data = ad).fit()\n",
    "model_ad.summary().tables[1]"
   ]
  },
  {
   "attachments": {},
   "cell_type": "markdown",
   "metadata": {},
   "source": [
    "#### 범주형 변수와 연속형 변수 사이의 교호작용"
   ]
  },
  {
   "cell_type": "code",
   "execution_count": 14,
   "metadata": {},
   "outputs": [
    {
     "data": {
      "text/html": [
       "<table class=\"simpletable\">\n",
       "<tr>\n",
       "            <td></td>               <th>coef</th>     <th>std err</th>      <th>t</th>      <th>P>|t|</th>  <th>[0.025</th>    <th>0.975]</th>  \n",
       "</tr>\n",
       "<tr>\n",
       "  <th>Intercept</th>             <td>  200.6232</td> <td>   33.698</td> <td>    5.953</td> <td> 0.000</td> <td>  134.373</td> <td>  266.873</td>\n",
       "</tr>\n",
       "<tr>\n",
       "  <th>Student[T.Yes]</th>        <td>  476.6758</td> <td>  104.351</td> <td>    4.568</td> <td> 0.000</td> <td>  271.524</td> <td>  681.827</td>\n",
       "</tr>\n",
       "<tr>\n",
       "  <th>Income</th>                <td>    6.2182</td> <td>    0.592</td> <td>   10.502</td> <td> 0.000</td> <td>    5.054</td> <td>    7.382</td>\n",
       "</tr>\n",
       "<tr>\n",
       "  <th>Income:Student[T.Yes]</th> <td>   -1.9992</td> <td>    1.731</td> <td>   -1.155</td> <td> 0.249</td> <td>   -5.403</td> <td>    1.404</td>\n",
       "</tr>\n",
       "</table>"
      ],
      "text/plain": [
       "<class 'statsmodels.iolib.table.SimpleTable'>"
      ]
     },
     "execution_count": 14,
     "metadata": {},
     "output_type": "execute_result"
    }
   ],
   "source": [
    "model6 = smf.ols('Balance~(Income+Student)**2', data = credit).fit()\n",
    "model6.summary().tables[1]"
   ]
  },
  {
   "attachments": {},
   "cell_type": "markdown",
   "metadata": {},
   "source": [
    "#### 범주형 변수 처리 실습"
   ]
  },
  {
   "attachments": {},
   "cell_type": "markdown",
   "metadata": {},
   "source": [
    "1. Allen Cognitive Level (ACL) Study를 진행하는 연구자들은 ACL test 점수와 정신병리학적 수준과의 관계를 알아보기 위해 아래의 변수들을 측정하였다.\n",
    "\n",
    "Response y = ACL test score  \n",
    "Predictor x1 = vocabulary (Vocab) score on the Shipley Institute of Living Scale  \n",
    "Predictor x2 = abstraction (Abstract) score on the Shipley Institute of Living Scale  \n",
    "Predictor x3 = score on the Symbol-Digit Modalities Test (SDMT)"
   ]
  },
  {
   "attachments": {},
   "cell_type": "markdown",
   "metadata": {},
   "source": [
    "1-a. 23명의 환자들에 대한 데이터인 `allentestn23.txt`를 사용하여 Scatterplot matrix를 그리고 회귀모형을 적합하기에 적당한지 확인하시오. 어떤 문제가 발생할 것으로 예상되는가?"
   ]
  },
  {
   "cell_type": "code",
   "execution_count": 15,
   "metadata": {},
   "outputs": [
    {
     "data": {
      "text/html": [
       "<div>\n",
       "<style scoped>\n",
       "    .dataframe tbody tr th:only-of-type {\n",
       "        vertical-align: middle;\n",
       "    }\n",
       "\n",
       "    .dataframe tbody tr th {\n",
       "        vertical-align: top;\n",
       "    }\n",
       "\n",
       "    .dataframe thead th {\n",
       "        text-align: right;\n",
       "    }\n",
       "</style>\n",
       "<table border=\"1\" class=\"dataframe\">\n",
       "  <thead>\n",
       "    <tr style=\"text-align: right;\">\n",
       "      <th></th>\n",
       "      <th>ACL</th>\n",
       "      <th>SDMT</th>\n",
       "      <th>Vocab</th>\n",
       "      <th>Abstract</th>\n",
       "    </tr>\n",
       "    <tr>\n",
       "      <th>Subj</th>\n",
       "      <th></th>\n",
       "      <th></th>\n",
       "      <th></th>\n",
       "      <th></th>\n",
       "    </tr>\n",
       "  </thead>\n",
       "  <tbody>\n",
       "    <tr>\n",
       "      <th>6</th>\n",
       "      <td>4.5</td>\n",
       "      <td>23</td>\n",
       "      <td>24</td>\n",
       "      <td>24</td>\n",
       "    </tr>\n",
       "    <tr>\n",
       "      <th>8</th>\n",
       "      <td>5.9</td>\n",
       "      <td>50</td>\n",
       "      <td>18</td>\n",
       "      <td>14</td>\n",
       "    </tr>\n",
       "    <tr>\n",
       "      <th>10</th>\n",
       "      <td>4.8</td>\n",
       "      <td>27</td>\n",
       "      <td>14</td>\n",
       "      <td>8</td>\n",
       "    </tr>\n",
       "    <tr>\n",
       "      <th>15</th>\n",
       "      <td>4.5</td>\n",
       "      <td>26</td>\n",
       "      <td>15</td>\n",
       "      <td>10</td>\n",
       "    </tr>\n",
       "    <tr>\n",
       "      <th>17</th>\n",
       "      <td>5.9</td>\n",
       "      <td>42</td>\n",
       "      <td>30</td>\n",
       "      <td>32</td>\n",
       "    </tr>\n",
       "  </tbody>\n",
       "</table>\n",
       "</div>"
      ],
      "text/plain": [
       "      ACL  SDMT  Vocab  Abstract\n",
       "Subj                            \n",
       "6     4.5    23     24        24\n",
       "8     5.9    50     18        14\n",
       "10    4.8    27     14         8\n",
       "15    4.5    26     15        10\n",
       "17    5.9    42     30        32"
      ]
     },
     "execution_count": 15,
     "metadata": {},
     "output_type": "execute_result"
    }
   ],
   "source": [
    "test23 = pd.read_table(data_path+'allentestn23.txt', sep=\"\\t\", index_col=0)\n",
    "test23.head()"
   ]
  },
  {
   "cell_type": "code",
   "execution_count": 16,
   "metadata": {},
   "outputs": [
    {
     "data": {
      "image/png": "[encoded data removed]",
      "text/plain": [
       "<Figure size 720x720 with 20 Axes>"
      ]
     },
     "metadata": {
      "needs_background": "light"
     },
     "output_type": "display_data"
    }
   ],
   "source": [
    "sns.pairplot(test23)\n",
    "plt.show()"
   ]
  },
  {
   "attachments": {},
   "cell_type": "markdown",
   "metadata": {},
   "source": [
    "1-b. `allentestn23.txt`데이터로 회귀모형을 적합하고 다중공선성의 문제가 발생하는지 파악하시오. 어느 변수들 간의 문제가 발생하는가?"
   ]
  },
  {
   "cell_type": "code",
   "execution_count": 17,
   "metadata": {},
   "outputs": [
    {
     "name": "stdout",
     "output_type": "stream",
     "text": [
      "VIF of Intercept : 76.84316917575055\n",
      "VIF of SDMT : 1.7261852740005994\n",
      "VIF of Vocab : 49.286238682129245\n",
      "VIF of Abstract : 50.60308486118107\n"
     ]
    }
   ],
   "source": [
    "model = smf.ols('ACL~SDMT+Vocab+Abstract',data=test23).fit()\n",
    "\n",
    "import patsy\n",
    "y, X = patsy.dmatrices('ACL~SDMT+Vocab+Abstract', test23, return_type='matrix')\n",
    "\n",
    "from statsmodels.stats.outliers_influence import variance_inflation_factor\n",
    "for i, x in enumerate(X.design_info.column_names):\n",
    "    print( 'VIF of', x, ':', variance_inflation_factor(X, i))"
   ]
  },
  {
   "attachments": {},
   "cell_type": "markdown",
   "metadata": {},
   "source": [
    "1-3. 본 연구에서는 위에서 문제가 된 두 변수를 모형에 포함시켜야 하는 과학적 이유가 존재하여 데이터를 더 모으기로 결정하였다. `allentest.txt` 데이터를 사용하여 위의 과정을 반복하고 다중공선성 문제가 해소되었는지 확인하시오."
   ]
  },
  {
   "cell_type": "code",
   "execution_count": 18,
   "metadata": {},
   "outputs": [
    {
     "data": {
      "image/png": "[encoded data removed]",
      "text/plain": [
       "<Figure size 900x900 with 30 Axes>"
      ]
     },
     "metadata": {
      "needs_background": "light"
     },
     "output_type": "display_data"
    }
   ],
   "source": [
    "test = pd.read_table(data_path + 'allentest.txt', sep=\"\\t\")\n",
    "sns.pairplot(test)\n",
    "plt.show()"
   ]
  },
  {
   "cell_type": "code",
   "execution_count": 19,
   "metadata": {},
   "outputs": [
    {
     "name": "stdout",
     "output_type": "stream",
     "text": [
      "VIF of Intercept : 16.670443334584185\n",
      "VIF of SDMT : 1.6096624348013036\n",
      "VIF of Vocab : 2.0932972330713193\n",
      "VIF of Abstract : 2.1674284112401403\n"
     ]
    }
   ],
   "source": [
    "model = smf.ols('ACL~SDMT+Vocab+Abstract',data=test).fit()\n",
    "\n",
    "import patsy\n",
    "y, X = patsy.dmatrices('ACL~SDMT+Vocab+Abstract', test, return_type='matrix')\n",
    "\n",
    "from statsmodels.stats.outliers_influence import variance_inflation_factor\n",
    "for i, x in enumerate(X.design_info.column_names):\n",
    "    print( 'VIF of', x, ':', variance_inflation_factor(X, i))"
   ]
  },
  {
   "attachments": {},
   "cell_type": "markdown",
   "metadata": {},
   "source": [
    "## Variable Selection And Shrinkage Method"
   ]
  },
  {
   "attachments": {},
   "cell_type": "markdown",
   "metadata": {},
   "source": [
    "#### 변수 선택"
   ]
  },
  {
   "cell_type": "code",
   "execution_count": 32,
   "metadata": {},
   "outputs": [
    {
     "data": {
      "text/html": [
       "<div>\n",
       "<style scoped>\n",
       "    .dataframe tbody tr th:only-of-type {\n",
       "        vertical-align: middle;\n",
       "    }\n",
       "\n",
       "    .dataframe tbody tr th {\n",
       "        vertical-align: top;\n",
       "    }\n",
       "\n",
       "    .dataframe thead th {\n",
       "        text-align: right;\n",
       "    }\n",
       "</style>\n",
       "<table border=\"1\" class=\"dataframe\">\n",
       "  <thead>\n",
       "    <tr style=\"text-align: right;\">\n",
       "      <th></th>\n",
       "      <th>Intercept</th>\n",
       "      <th>Gender[T.Female]</th>\n",
       "      <th>Student[T.Yes]</th>\n",
       "      <th>Married[T.Yes]</th>\n",
       "      <th>Ethnicity[T.Asian]</th>\n",
       "      <th>Ethnicity[T.Caucasian]</th>\n",
       "      <th>Income</th>\n",
       "      <th>Limit</th>\n",
       "      <th>Rating</th>\n",
       "      <th>Cards</th>\n",
       "      <th>Age</th>\n",
       "      <th>Education</th>\n",
       "    </tr>\n",
       "  </thead>\n",
       "  <tbody>\n",
       "    <tr>\n",
       "      <th>1</th>\n",
       "      <td>1.0</td>\n",
       "      <td>0.0</td>\n",
       "      <td>0.0</td>\n",
       "      <td>1.0</td>\n",
       "      <td>0.0</td>\n",
       "      <td>1.0</td>\n",
       "      <td>14.891</td>\n",
       "      <td>3606.0</td>\n",
       "      <td>283.0</td>\n",
       "      <td>2.0</td>\n",
       "      <td>34.0</td>\n",
       "      <td>11.0</td>\n",
       "    </tr>\n",
       "    <tr>\n",
       "      <th>2</th>\n",
       "      <td>1.0</td>\n",
       "      <td>1.0</td>\n",
       "      <td>1.0</td>\n",
       "      <td>1.0</td>\n",
       "      <td>1.0</td>\n",
       "      <td>0.0</td>\n",
       "      <td>106.025</td>\n",
       "      <td>6645.0</td>\n",
       "      <td>483.0</td>\n",
       "      <td>3.0</td>\n",
       "      <td>82.0</td>\n",
       "      <td>15.0</td>\n",
       "    </tr>\n",
       "    <tr>\n",
       "      <th>3</th>\n",
       "      <td>1.0</td>\n",
       "      <td>0.0</td>\n",
       "      <td>0.0</td>\n",
       "      <td>0.0</td>\n",
       "      <td>1.0</td>\n",
       "      <td>0.0</td>\n",
       "      <td>104.593</td>\n",
       "      <td>7075.0</td>\n",
       "      <td>514.0</td>\n",
       "      <td>4.0</td>\n",
       "      <td>71.0</td>\n",
       "      <td>11.0</td>\n",
       "    </tr>\n",
       "    <tr>\n",
       "      <th>4</th>\n",
       "      <td>1.0</td>\n",
       "      <td>1.0</td>\n",
       "      <td>0.0</td>\n",
       "      <td>0.0</td>\n",
       "      <td>1.0</td>\n",
       "      <td>0.0</td>\n",
       "      <td>148.924</td>\n",
       "      <td>9504.0</td>\n",
       "      <td>681.0</td>\n",
       "      <td>3.0</td>\n",
       "      <td>36.0</td>\n",
       "      <td>11.0</td>\n",
       "    </tr>\n",
       "    <tr>\n",
       "      <th>5</th>\n",
       "      <td>1.0</td>\n",
       "      <td>0.0</td>\n",
       "      <td>0.0</td>\n",
       "      <td>1.0</td>\n",
       "      <td>0.0</td>\n",
       "      <td>1.0</td>\n",
       "      <td>55.882</td>\n",
       "      <td>4897.0</td>\n",
       "      <td>357.0</td>\n",
       "      <td>2.0</td>\n",
       "      <td>68.0</td>\n",
       "      <td>16.0</td>\n",
       "    </tr>\n",
       "  </tbody>\n",
       "</table>\n",
       "</div>"
      ],
      "text/plain": [
       "   Intercept  Gender[T.Female]  Student[T.Yes]  Married[T.Yes]  \\\n",
       "1        1.0               0.0             0.0             1.0   \n",
       "2        1.0               1.0             1.0             1.0   \n",
       "3        1.0               0.0             0.0             0.0   \n",
       "4        1.0               1.0             0.0             0.0   \n",
       "5        1.0               0.0             0.0             1.0   \n",
       "\n",
       "   Ethnicity[T.Asian]  Ethnicity[T.Caucasian]   Income   Limit  Rating  Cards  \\\n",
       "1                 0.0                     1.0   14.891  3606.0   283.0    2.0   \n",
       "2                 1.0                     0.0  106.025  6645.0   483.0    3.0   \n",
       "3                 1.0                     0.0  104.593  7075.0   514.0    4.0   \n",
       "4                 1.0                     0.0  148.924  9504.0   681.0    3.0   \n",
       "5                 0.0                     1.0   55.882  4897.0   357.0    2.0   \n",
       "\n",
       "    Age  Education  \n",
       "1  34.0       11.0  \n",
       "2  82.0       15.0  \n",
       "3  71.0       11.0  \n",
       "4  36.0       11.0  \n",
       "5  68.0       16.0  "
      ]
     },
     "execution_count": 32,
     "metadata": {},
     "output_type": "execute_result"
    }
   ],
   "source": [
    "import patsy\n",
    "y, X = patsy.dmatrices('Balance~'+\"+\".join(credit.columns[:-2]), data = credit, return_type='dataframe')\n",
    "X.head()"
   ]
  },
  {
   "cell_type": "code",
   "execution_count": 33,
   "metadata": {},
   "outputs": [
    {
     "data": {
      "text/html": [
       "<div>\n",
       "<style scoped>\n",
       "    .dataframe tbody tr th:only-of-type {\n",
       "        vertical-align: middle;\n",
       "    }\n",
       "\n",
       "    .dataframe tbody tr th {\n",
       "        vertical-align: top;\n",
       "    }\n",
       "\n",
       "    .dataframe thead th {\n",
       "        text-align: right;\n",
       "    }\n",
       "</style>\n",
       "<table border=\"1\" class=\"dataframe\">\n",
       "  <thead>\n",
       "    <tr style=\"text-align: right;\">\n",
       "      <th></th>\n",
       "      <th>Balance</th>\n",
       "    </tr>\n",
       "  </thead>\n",
       "  <tbody>\n",
       "    <tr>\n",
       "      <th>1</th>\n",
       "      <td>333.0</td>\n",
       "    </tr>\n",
       "    <tr>\n",
       "      <th>2</th>\n",
       "      <td>903.0</td>\n",
       "    </tr>\n",
       "    <tr>\n",
       "      <th>3</th>\n",
       "      <td>580.0</td>\n",
       "    </tr>\n",
       "    <tr>\n",
       "      <th>4</th>\n",
       "      <td>964.0</td>\n",
       "    </tr>\n",
       "    <tr>\n",
       "      <th>5</th>\n",
       "      <td>331.0</td>\n",
       "    </tr>\n",
       "  </tbody>\n",
       "</table>\n",
       "</div>"
      ],
      "text/plain": [
       "   Balance\n",
       "1    333.0\n",
       "2    903.0\n",
       "3    580.0\n",
       "4    964.0\n",
       "5    331.0"
      ]
     },
     "execution_count": 33,
     "metadata": {},
     "output_type": "execute_result"
    }
   ],
   "source": [
    "y.head()"
   ]
  },
  {
   "cell_type": "code",
   "execution_count": 34,
   "metadata": {},
   "outputs": [],
   "source": [
    "# Best subset selection을 위한 코드 \n",
    "# Source: http://www.science.smith.edu/~jcrouser/SDS293/labs/lab8-py.html\n",
    "# Modified by Yeojin Chung\n",
    "\n",
    "import itertools\n",
    "import time\n",
    "import statsmodels.api as sm\n",
    "\n",
    "def processSubset(feature_set):\n",
    "    # Fit model on feature_set and calculate RSS\n",
    "    X_model = X[list(('Intercept',)+feature_set)]\n",
    "    model = sm.OLS(y, X_model)\n",
    "    regr = model.fit()\n",
    "    RSS = (regr.resid ** 2).sum()\n",
    "    return {\"model\":regr, \"RSS\":RSS, \"AIC\": regr.aic, \n",
    "            \"BIC\": regr.bic, \"adj_r2\": regr.rsquared_adj,\n",
    "           \"r2\":regr.rsquared }\n",
    "\n",
    "def getBest(k, best = \"AIC\"):\n",
    "    \n",
    "    tic = time.time()   \n",
    "    results = []\n",
    "    \n",
    "    for combo in itertools.combinations(X.columns[1:], k):\n",
    "        results.append(processSubset(combo))\n",
    "    \n",
    "    # Wrap everything up in a nice dataframe\n",
    "    models = pd.DataFrame(results)\n",
    "    \n",
    "    # Choose the model with the highest RSS\n",
    "    if best==\"adj_r2\" or best==\"r2\":\n",
    "        best_model = models.loc[models[best].argmax()]\n",
    "    else: \n",
    "        best_model = models.loc[models[best].argmin()]\n",
    "    \n",
    "    toc = time.time()\n",
    "    print(\"Processed\", models.shape[0], \"models on\", k, \"predictors in\", (toc-tic), \"seconds.\")\n",
    "    \n",
    "    # Return the best model, along with some other useful information about the model\n",
    "    return best_model"
   ]
  },
  {
   "cell_type": "code",
   "execution_count": 35,
   "metadata": {},
   "outputs": [
    {
     "name": "stdout",
     "output_type": "stream",
     "text": [
      "Processed 11 models on 1 predictors in 0.01099705696105957 seconds.\n",
      "Processed 55 models on 2 predictors in 0.05300164222717285 seconds.\n",
      "Processed 165 models on 3 predictors in 0.1719982624053955 seconds.\n",
      "Processed 330 models on 4 predictors in 0.3260021209716797 seconds.\n",
      "Processed 462 models on 5 predictors in 0.4530017375946045 seconds.\n",
      "Processed 462 models on 6 predictors in 0.5219995975494385 seconds.\n",
      "Processed 330 models on 7 predictors in 0.3640878200531006 seconds.\n",
      "Processed 165 models on 8 predictors in 0.17699980735778809 seconds.\n",
      "Processed 55 models on 9 predictors in 0.06099820137023926 seconds.\n",
      "Processed 11 models on 10 predictors in 0.012002229690551758 seconds.\n"
     ]
    },
    {
     "data": {
      "text/html": [
       "<div>\n",
       "<style scoped>\n",
       "    .dataframe tbody tr th:only-of-type {\n",
       "        vertical-align: middle;\n",
       "    }\n",
       "\n",
       "    .dataframe tbody tr th {\n",
       "        vertical-align: top;\n",
       "    }\n",
       "\n",
       "    .dataframe thead th {\n",
       "        text-align: right;\n",
       "    }\n",
       "</style>\n",
       "<table border=\"1\" class=\"dataframe\">\n",
       "  <thead>\n",
       "    <tr style=\"text-align: right;\">\n",
       "      <th></th>\n",
       "      <th>model</th>\n",
       "      <th>RSS</th>\n",
       "      <th>AIC</th>\n",
       "      <th>BIC</th>\n",
       "      <th>adj_r2</th>\n",
       "      <th>r2</th>\n",
       "    </tr>\n",
       "  </thead>\n",
       "  <tbody>\n",
       "    <tr>\n",
       "      <th>1</th>\n",
       "      <td>&lt;statsmodels.regression.linear_model.Regressio...</td>\n",
       "      <td>2.143512e+07</td>\n",
       "      <td>5494.781548</td>\n",
       "      <td>5502.764477</td>\n",
       "      <td>0.745210</td>\n",
       "      <td>0.745848</td>\n",
       "    </tr>\n",
       "    <tr>\n",
       "      <th>2</th>\n",
       "      <td>&lt;statsmodels.regression.linear_model.Regressio...</td>\n",
       "      <td>1.053254e+07</td>\n",
       "      <td>5212.557085</td>\n",
       "      <td>5224.531479</td>\n",
       "      <td>0.874489</td>\n",
       "      <td>0.875118</td>\n",
       "    </tr>\n",
       "    <tr>\n",
       "      <th>3</th>\n",
       "      <td>&lt;statsmodels.regression.linear_model.Regressio...</td>\n",
       "      <td>4.227219e+06</td>\n",
       "      <td>4849.386992</td>\n",
       "      <td>4865.352851</td>\n",
       "      <td>0.949499</td>\n",
       "      <td>0.949879</td>\n",
       "    </tr>\n",
       "    <tr>\n",
       "      <th>4</th>\n",
       "      <td>&lt;statsmodels.regression.linear_model.Regressio...</td>\n",
       "      <td>3.915058e+06</td>\n",
       "      <td>4820.701337</td>\n",
       "      <td>4840.658660</td>\n",
       "      <td>0.953110</td>\n",
       "      <td>0.953580</td>\n",
       "    </tr>\n",
       "    <tr>\n",
       "      <th>5</th>\n",
       "      <td>&lt;statsmodels.regression.linear_model.Regressio...</td>\n",
       "      <td>3.866091e+06</td>\n",
       "      <td>4817.666820</td>\n",
       "      <td>4841.615607</td>\n",
       "      <td>0.953579</td>\n",
       "      <td>0.954161</td>\n",
       "    </tr>\n",
       "    <tr>\n",
       "      <th>6</th>\n",
       "      <td>&lt;statsmodels.regression.linear_model.Regressio...</td>\n",
       "      <td>3.821620e+06</td>\n",
       "      <td>4815.038963</td>\n",
       "      <td>4842.979215</td>\n",
       "      <td>0.953996</td>\n",
       "      <td>0.954688</td>\n",
       "    </tr>\n",
       "    <tr>\n",
       "      <th>7</th>\n",
       "      <td>&lt;statsmodels.regression.linear_model.Regressio...</td>\n",
       "      <td>3.810759e+06</td>\n",
       "      <td>4815.900560</td>\n",
       "      <td>4847.832276</td>\n",
       "      <td>0.954010</td>\n",
       "      <td>0.954817</td>\n",
       "    </tr>\n",
       "    <tr>\n",
       "      <th>8</th>\n",
       "      <td>&lt;statsmodels.regression.linear_model.Regressio...</td>\n",
       "      <td>3.804746e+06</td>\n",
       "      <td>4817.268900</td>\n",
       "      <td>4853.192081</td>\n",
       "      <td>0.953965</td>\n",
       "      <td>0.954888</td>\n",
       "    </tr>\n",
       "    <tr>\n",
       "      <th>9</th>\n",
       "      <td>&lt;statsmodels.regression.linear_model.Regressio...</td>\n",
       "      <td>3.798367e+06</td>\n",
       "      <td>4818.597738</td>\n",
       "      <td>4858.512384</td>\n",
       "      <td>0.953924</td>\n",
       "      <td>0.954964</td>\n",
       "    </tr>\n",
       "    <tr>\n",
       "      <th>10</th>\n",
       "      <td>&lt;statsmodels.regression.linear_model.Regressio...</td>\n",
       "      <td>3.791345e+06</td>\n",
       "      <td>4819.857603</td>\n",
       "      <td>4863.763713</td>\n",
       "      <td>0.953891</td>\n",
       "      <td>0.955047</td>\n",
       "    </tr>\n",
       "  </tbody>\n",
       "</table>\n",
       "</div>"
      ],
      "text/plain": [
       "                                                model           RSS  \\\n",
       "1   <statsmodels.regression.linear_model.Regressio...  2.143512e+07   \n",
       "2   <statsmodels.regression.linear_model.Regressio...  1.053254e+07   \n",
       "3   <statsmodels.regression.linear_model.Regressio...  4.227219e+06   \n",
       "4   <statsmodels.regression.linear_model.Regressio...  3.915058e+06   \n",
       "5   <statsmodels.regression.linear_model.Regressio...  3.866091e+06   \n",
       "6   <statsmodels.regression.linear_model.Regressio...  3.821620e+06   \n",
       "7   <statsmodels.regression.linear_model.Regressio...  3.810759e+06   \n",
       "8   <statsmodels.regression.linear_model.Regressio...  3.804746e+06   \n",
       "9   <statsmodels.regression.linear_model.Regressio...  3.798367e+06   \n",
       "10  <statsmodels.regression.linear_model.Regressio...  3.791345e+06   \n",
       "\n",
       "            AIC          BIC    adj_r2        r2  \n",
       "1   5494.781548  5502.764477  0.745210  0.745848  \n",
       "2   5212.557085  5224.531479  0.874489  0.875118  \n",
       "3   4849.386992  4865.352851  0.949499  0.949879  \n",
       "4   4820.701337  4840.658660  0.953110  0.953580  \n",
       "5   4817.666820  4841.615607  0.953579  0.954161  \n",
       "6   4815.038963  4842.979215  0.953996  0.954688  \n",
       "7   4815.900560  4847.832276  0.954010  0.954817  \n",
       "8   4817.268900  4853.192081  0.953965  0.954888  \n",
       "9   4818.597738  4858.512384  0.953924  0.954964  \n",
       "10  4819.857603  4863.763713  0.953891  0.955047  "
      ]
     },
     "execution_count": 35,
     "metadata": {},
     "output_type": "execute_result"
    }
   ],
   "source": [
    "models_best = pd.DataFrame(columns=[\"model\", \"RSS\",\"AIC\",\"BIC\",\"adj_r2\", \"r2\"])\n",
    "\n",
    "for i in range(1,X.shape[1]-1):\n",
    "    models_best.loc[i] = getBest(i, best = \"AIC\")\n",
    "\n",
    "models_best"
   ]
  },
  {
   "cell_type": "code",
   "execution_count": 36,
   "metadata": {},
   "outputs": [
    {
     "data": {
      "image/png": "[encoded data removed]",
      "text/plain": [
       "<Figure size 432x288 with 1 Axes>"
      ]
     },
     "metadata": {
      "needs_background": "light"
     },
     "output_type": "display_data"
    }
   ],
   "source": [
    "plt.plot(models_best['adj_r2'])\n",
    "plt.show()"
   ]
  },
  {
   "cell_type": "code",
   "execution_count": 37,
   "metadata": {},
   "outputs": [
    {
     "data": {
      "text/html": [
       "<table class=\"simpletable\">\n",
       "<caption>OLS Regression Results</caption>\n",
       "<tr>\n",
       "  <th>Dep. Variable:</th>         <td>Balance</td>     <th>  R-squared:         </th> <td>   0.955</td> \n",
       "</tr>\n",
       "<tr>\n",
       "  <th>Model:</th>                   <td>OLS</td>       <th>  Adj. R-squared:    </th> <td>   0.954</td> \n",
       "</tr>\n",
       "<tr>\n",
       "  <th>Method:</th>             <td>Least Squares</td>  <th>  F-statistic:       </th> <td>   1183.</td> \n",
       "</tr>\n",
       "<tr>\n",
       "  <th>Date:</th>             <td>Thu, 02 Feb 2023</td> <th>  Prob (F-statistic):</th> <td>3.50e-259</td>\n",
       "</tr>\n",
       "<tr>\n",
       "  <th>Time:</th>                 <td>19:28:54</td>     <th>  Log-Likelihood:    </th> <td> -2400.0</td> \n",
       "</tr>\n",
       "<tr>\n",
       "  <th>No. Observations:</th>      <td>   400</td>      <th>  AIC:               </th> <td>   4816.</td> \n",
       "</tr>\n",
       "<tr>\n",
       "  <th>Df Residuals:</th>          <td>   392</td>      <th>  BIC:               </th> <td>   4848.</td> \n",
       "</tr>\n",
       "<tr>\n",
       "  <th>Df Model:</th>              <td>     7</td>      <th>                     </th>     <td> </td>    \n",
       "</tr>\n",
       "<tr>\n",
       "  <th>Covariance Type:</th>      <td>nonrobust</td>    <th>                     </th>     <td> </td>    \n",
       "</tr>\n",
       "</table>\n",
       "<table class=\"simpletable\">\n",
       "<tr>\n",
       "          <td></td>            <th>coef</th>     <th>std err</th>      <th>t</th>      <th>P>|t|</th>  <th>[0.025</th>    <th>0.975]</th>  \n",
       "</tr>\n",
       "<tr>\n",
       "  <th>Intercept</th>        <td> -488.6159</td> <td>   25.289</td> <td>  -19.321</td> <td> 0.000</td> <td> -538.335</td> <td> -438.897</td>\n",
       "</tr>\n",
       "<tr>\n",
       "  <th>Gender[T.Female]</th> <td>  -10.4532</td> <td>    9.890</td> <td>   -1.057</td> <td> 0.291</td> <td>  -29.896</td> <td>    8.990</td>\n",
       "</tr>\n",
       "<tr>\n",
       "  <th>Student[T.Yes]</th>   <td>  426.5813</td> <td>   16.533</td> <td>   25.802</td> <td> 0.000</td> <td>  394.077</td> <td>  459.085</td>\n",
       "</tr>\n",
       "<tr>\n",
       "  <th>Income</th>           <td>   -7.8036</td> <td>    0.234</td> <td>  -33.417</td> <td> 0.000</td> <td>   -8.263</td> <td>   -7.345</td>\n",
       "</tr>\n",
       "<tr>\n",
       "  <th>Limit</th>            <td>    0.1936</td> <td>    0.032</td> <td>    5.980</td> <td> 0.000</td> <td>    0.130</td> <td>    0.257</td>\n",
       "</tr>\n",
       "<tr>\n",
       "  <th>Rating</th>           <td>    1.0940</td> <td>    0.485</td> <td>    2.257</td> <td> 0.025</td> <td>    0.141</td> <td>    2.047</td>\n",
       "</tr>\n",
       "<tr>\n",
       "  <th>Cards</th>            <td>   18.1092</td> <td>    4.319</td> <td>    4.193</td> <td> 0.000</td> <td>    9.618</td> <td>   26.601</td>\n",
       "</tr>\n",
       "<tr>\n",
       "  <th>Age</th>              <td>   -0.6207</td> <td>    0.292</td> <td>   -2.127</td> <td> 0.034</td> <td>   -1.194</td> <td>   -0.047</td>\n",
       "</tr>\n",
       "</table>\n",
       "<table class=\"simpletable\">\n",
       "<tr>\n",
       "  <th>Omnibus:</th>       <td>34.049</td> <th>  Durbin-Watson:     </th> <td>   1.955</td>\n",
       "</tr>\n",
       "<tr>\n",
       "  <th>Prob(Omnibus):</th> <td> 0.000</td> <th>  Jarque-Bera (JB):  </th> <td>  40.600</td>\n",
       "</tr>\n",
       "<tr>\n",
       "  <th>Skew:</th>          <td> 0.773</td> <th>  Prob(JB):          </th> <td>1.53e-09</td>\n",
       "</tr>\n",
       "<tr>\n",
       "  <th>Kurtosis:</th>      <td> 3.211</td> <th>  Cond. No.          </th> <td>2.72e+04</td>\n",
       "</tr>\n",
       "</table><br/><br/>Notes:<br/>[1] Standard Errors assume that the covariance matrix of the errors is correctly specified.<br/>[2] The condition number is large, 2.72e+04. This might indicate that there are<br/>strong multicollinearity or other numerical problems."
      ],
      "text/plain": [
       "<class 'statsmodels.iolib.summary.Summary'>\n",
       "\"\"\"\n",
       "                            OLS Regression Results                            \n",
       "==============================================================================\n",
       "Dep. Variable:                Balance   R-squared:                       0.955\n",
       "Model:                            OLS   Adj. R-squared:                  0.954\n",
       "Method:                 Least Squares   F-statistic:                     1183.\n",
       "Date:                Thu, 02 Feb 2023   Prob (F-statistic):          3.50e-259\n",
       "Time:                        19:28:54   Log-Likelihood:                -2400.0\n",
       "No. Observations:                 400   AIC:                             4816.\n",
       "Df Residuals:                     392   BIC:                             4848.\n",
       "Df Model:                           7                                         \n",
       "Covariance Type:            nonrobust                                         \n",
       "====================================================================================\n",
       "                       coef    std err          t      P>|t|      [0.025      0.975]\n",
       "------------------------------------------------------------------------------------\n",
       "Intercept         -488.6159     25.289    -19.321      0.000    -538.335    -438.897\n",
       "Gender[T.Female]   -10.4532      9.890     -1.057      0.291     -29.896       8.990\n",
       "Student[T.Yes]     426.5813     16.533     25.802      0.000     394.077     459.085\n",
       "Income              -7.8036      0.234    -33.417      0.000      -8.263      -7.345\n",
       "Limit                0.1936      0.032      5.980      0.000       0.130       0.257\n",
       "Rating               1.0940      0.485      2.257      0.025       0.141       2.047\n",
       "Cards               18.1092      4.319      4.193      0.000       9.618      26.601\n",
       "Age                 -0.6207      0.292     -2.127      0.034      -1.194      -0.047\n",
       "==============================================================================\n",
       "Omnibus:                       34.049   Durbin-Watson:                   1.955\n",
       "Prob(Omnibus):                  0.000   Jarque-Bera (JB):               40.600\n",
       "Skew:                           0.773   Prob(JB):                     1.53e-09\n",
       "Kurtosis:                       3.211   Cond. No.                     2.72e+04\n",
       "==============================================================================\n",
       "\n",
       "Notes:\n",
       "[1] Standard Errors assume that the covariance matrix of the errors is correctly specified.\n",
       "[2] The condition number is large, 2.72e+04. This might indicate that there are\n",
       "strong multicollinearity or other numerical problems.\n",
       "\"\"\""
      ]
     },
     "execution_count": 37,
     "metadata": {},
     "output_type": "execute_result"
    }
   ],
   "source": [
    "model_final = models_best.iloc[models_best['adj_r2'].argmax(),0]\n",
    "model_final.summary()"
   ]
  },
  {
   "attachments": {},
   "cell_type": "markdown",
   "metadata": {},
   "source": [
    "#### 회귀 모형 수축"
   ]
  },
  {
   "cell_type": "code",
   "execution_count": 38,
   "metadata": {},
   "outputs": [
    {
     "data": {
      "text/plain": [
       "array([[ 0.00000000e+00, -1.01531108e+01,  4.13899860e+02,\n",
       "        -9.12155389e+00,  1.67728726e+01,  9.66826039e+00,\n",
       "        -7.79613765e+00,  1.88633083e-01,  1.16935286e+00,\n",
       "         1.74952276e+01, -6.22845855e-01, -1.00749787e+00]])"
      ]
     },
     "execution_count": 38,
     "metadata": {},
     "output_type": "execute_result"
    }
   ],
   "source": [
    "from sklearn.linear_model import Ridge\n",
    "ridge_reg = Ridge()\n",
    "ridge_reg.fit(X, y)\n",
    "y_pred = ridge_reg.predict(X)\n",
    "\n",
    "ridge_reg.coef_"
   ]
  },
  {
   "cell_type": "code",
   "execution_count": 39,
   "metadata": {},
   "outputs": [
    {
     "name": "stderr",
     "output_type": "stream",
     "text": [
      "c:\\Users\\lucky\\anaconda3\\lib\\site-packages\\sklearn\\linear_model\\_coordinate_descent.py:648: ConvergenceWarning: Objective did not converge. You might want to increase the number of iterations, check the scale of the features or consider increasing regularisation. Duality gap: 1.894e+06, tolerance: 8.434e+03\n",
      "  model = cd_fast.enet_coordinate_descent(\n"
     ]
    },
    {
     "data": {
      "text/plain": [
       "array([ 0.00000000e+00, -1.06082218e+01,  4.25689009e+02, -8.45041224e+00,\n",
       "        1.66497454e+01,  9.99657462e+00, -7.80320873e+00,  1.91959216e-01,\n",
       "        1.12083024e+00,  1.77952880e+01, -6.13858939e-01, -1.10161563e+00])"
      ]
     },
     "execution_count": 39,
     "metadata": {},
     "output_type": "execute_result"
    }
   ],
   "source": [
    "from sklearn.linear_model import Lasso\n",
    "lasso_reg = Lasso(alpha=0.01)\n",
    "lasso_reg.fit(X, y)\n",
    "\n",
    "y_pred = lasso_reg.predict(X)\n",
    "\n",
    "lasso_reg.coef_"
   ]
  },
  {
   "attachments": {},
   "cell_type": "markdown",
   "metadata": {},
   "source": [
    "#### 변수 선택 및 회귀 모형 수축 실습문제"
   ]
  },
  {
   "attachments": {},
   "cell_type": "markdown",
   "metadata": {},
   "source": [
    "[1-3] `Infection.csv`는 병원에서의 감염위험에 대한 데이터이다. 아래의 변수들을 사용하여 회귀분석을 시행하고자 한다.\n",
    "  \n",
    "Y = InfctRsk: infection risk in hospital  \n",
    "X1 = Stay: average length of patient’s stay (in days)  \n",
    "X2 = Xray: a measure of frequency of giving X-rays  \n",
    "X3 = Region: indication in which of 4 U.S. regions the hospital is located: north-east(1), north-central(2), south(3), west(4)."
   ]
  },
  {
   "cell_type": "code",
   "execution_count": 40,
   "metadata": {},
   "outputs": [],
   "source": [
    "data = pd.read_csv(data_path + \"infection.csv\", index_col=0)"
   ]
  },
  {
   "attachments": {},
   "cell_type": "markdown",
   "metadata": {},
   "source": [
    "1. 고려하고 있는 네 개의 변수 간의 산점도행렬을 확인하여라. 이상치가 발견되는가? Stay 변수를 기준으로 가장 큰 두 관측치를 제외하고 아래의 분석을 진행하기로 한다."
   ]
  },
  {
   "cell_type": "code",
   "execution_count": 41,
   "metadata": {},
   "outputs": [
    {
     "data": {
      "text/html": [
       "<div>\n",
       "<style scoped>\n",
       "    .dataframe tbody tr th:only-of-type {\n",
       "        vertical-align: middle;\n",
       "    }\n",
       "\n",
       "    .dataframe tbody tr th {\n",
       "        vertical-align: top;\n",
       "    }\n",
       "\n",
       "    .dataframe thead th {\n",
       "        text-align: right;\n",
       "    }\n",
       "</style>\n",
       "<table border=\"1\" class=\"dataframe\">\n",
       "  <thead>\n",
       "    <tr style=\"text-align: right;\">\n",
       "      <th></th>\n",
       "      <th>Stay</th>\n",
       "      <th>Age</th>\n",
       "      <th>InfctRsk</th>\n",
       "      <th>Culture</th>\n",
       "      <th>Xray</th>\n",
       "      <th>Beds</th>\n",
       "      <th>MedSchool</th>\n",
       "      <th>Region</th>\n",
       "      <th>Census</th>\n",
       "      <th>Nurses</th>\n",
       "      <th>Facilities</th>\n",
       "    </tr>\n",
       "    <tr>\n",
       "      <th>ID</th>\n",
       "      <th></th>\n",
       "      <th></th>\n",
       "      <th></th>\n",
       "      <th></th>\n",
       "      <th></th>\n",
       "      <th></th>\n",
       "      <th></th>\n",
       "      <th></th>\n",
       "      <th></th>\n",
       "      <th></th>\n",
       "      <th></th>\n",
       "    </tr>\n",
       "  </thead>\n",
       "  <tbody>\n",
       "    <tr>\n",
       "      <th>1</th>\n",
       "      <td>7.13</td>\n",
       "      <td>55.7</td>\n",
       "      <td>4.1</td>\n",
       "      <td>9.0</td>\n",
       "      <td>39.6</td>\n",
       "      <td>279</td>\n",
       "      <td>2</td>\n",
       "      <td>4</td>\n",
       "      <td>207</td>\n",
       "      <td>241</td>\n",
       "      <td>60.0</td>\n",
       "    </tr>\n",
       "    <tr>\n",
       "      <th>2</th>\n",
       "      <td>8.82</td>\n",
       "      <td>58.2</td>\n",
       "      <td>1.6</td>\n",
       "      <td>3.8</td>\n",
       "      <td>51.7</td>\n",
       "      <td>80</td>\n",
       "      <td>2</td>\n",
       "      <td>2</td>\n",
       "      <td>51</td>\n",
       "      <td>52</td>\n",
       "      <td>40.0</td>\n",
       "    </tr>\n",
       "    <tr>\n",
       "      <th>3</th>\n",
       "      <td>8.34</td>\n",
       "      <td>56.9</td>\n",
       "      <td>2.7</td>\n",
       "      <td>8.1</td>\n",
       "      <td>74.0</td>\n",
       "      <td>107</td>\n",
       "      <td>2</td>\n",
       "      <td>3</td>\n",
       "      <td>82</td>\n",
       "      <td>54</td>\n",
       "      <td>20.0</td>\n",
       "    </tr>\n",
       "    <tr>\n",
       "      <th>4</th>\n",
       "      <td>8.95</td>\n",
       "      <td>53.7</td>\n",
       "      <td>5.6</td>\n",
       "      <td>18.9</td>\n",
       "      <td>122.8</td>\n",
       "      <td>147</td>\n",
       "      <td>2</td>\n",
       "      <td>4</td>\n",
       "      <td>53</td>\n",
       "      <td>148</td>\n",
       "      <td>40.0</td>\n",
       "    </tr>\n",
       "    <tr>\n",
       "      <th>5</th>\n",
       "      <td>11.20</td>\n",
       "      <td>56.5</td>\n",
       "      <td>5.7</td>\n",
       "      <td>34.5</td>\n",
       "      <td>88.9</td>\n",
       "      <td>180</td>\n",
       "      <td>2</td>\n",
       "      <td>1</td>\n",
       "      <td>134</td>\n",
       "      <td>151</td>\n",
       "      <td>40.0</td>\n",
       "    </tr>\n",
       "  </tbody>\n",
       "</table>\n",
       "</div>"
      ],
      "text/plain": [
       "     Stay   Age  InfctRsk  Culture   Xray  Beds  MedSchool  Region  Census  \\\n",
       "ID                                                                           \n",
       "1    7.13  55.7       4.1      9.0   39.6   279          2       4     207   \n",
       "2    8.82  58.2       1.6      3.8   51.7    80          2       2      51   \n",
       "3    8.34  56.9       2.7      8.1   74.0   107          2       3      82   \n",
       "4    8.95  53.7       5.6     18.9  122.8   147          2       4      53   \n",
       "5   11.20  56.5       5.7     34.5   88.9   180          2       1     134   \n",
       "\n",
       "    Nurses  Facilities  \n",
       "ID                      \n",
       "1      241        60.0  \n",
       "2       52        40.0  \n",
       "3       54        20.0  \n",
       "4      148        40.0  \n",
       "5      151        40.0  "
      ]
     },
     "execution_count": 41,
     "metadata": {},
     "output_type": "execute_result"
    }
   ],
   "source": [
    "data.head()"
   ]
  },
  {
   "cell_type": "code",
   "execution_count": 42,
   "metadata": {},
   "outputs": [
    {
     "data": {
      "image/png": "[encoded data removed]",
      "text/plain": [
       "<Figure size 720x720 with 20 Axes>"
      ]
     },
     "metadata": {
      "needs_background": "light"
     },
     "output_type": "display_data"
    }
   ],
   "source": [
    "# Region은 범주형 변수이기 때문에 사실은 Scatter plot에 적합하지 않음\n",
    "sns.pairplot(data, vars=['InfctRsk','Stay','Xray','Region'])\n",
    "plt.show()"
   ]
  },
  {
   "cell_type": "code",
   "execution_count": 43,
   "metadata": {},
   "outputs": [
    {
     "data": {
      "image/png": "[encoded data removed]",
      "text/plain": [
       "<Figure size 720x720 with 20 Axes>"
      ]
     },
     "metadata": {
      "needs_background": "light"
     },
     "output_type": "display_data"
    }
   ],
   "source": [
    "data2 = data.loc[data.Stay<15,:].copy()\n",
    "sns.pairplot(data2, vars=['InfctRsk','Stay','Xray','Region'])\n",
    "plt.show()"
   ]
  },
  {
   "attachments": {},
   "cell_type": "markdown",
   "metadata": {},
   "source": [
    "2. Infection risk를 나머지 세 변수로 셜명하는 모형을 적합하여라. 각 회귀계수의 유의성을 테스트 하고 유의한 계수의 의미를 해석하시오."
   ]
  },
  {
   "cell_type": "code",
   "execution_count": 44,
   "metadata": {},
   "outputs": [
    {
     "data": {
      "text/html": [
       "<table class=\"simpletable\">\n",
       "<caption>OLS Regression Results</caption>\n",
       "<tr>\n",
       "  <th>Dep. Variable:</th>        <td>InfctRsk</td>     <th>  R-squared:         </th> <td>   0.388</td>\n",
       "</tr>\n",
       "<tr>\n",
       "  <th>Model:</th>                   <td>OLS</td>       <th>  Adj. R-squared:    </th> <td>   0.371</td>\n",
       "</tr>\n",
       "<tr>\n",
       "  <th>Method:</th>             <td>Least Squares</td>  <th>  F-statistic:       </th> <td>   22.64</td>\n",
       "</tr>\n",
       "<tr>\n",
       "  <th>Date:</th>             <td>Thu, 02 Feb 2023</td> <th>  Prob (F-statistic):</th> <td>1.99e-11</td>\n",
       "</tr>\n",
       "<tr>\n",
       "  <th>Time:</th>                 <td>19:31:36</td>     <th>  Log-Likelihood:    </th> <td> -161.29</td>\n",
       "</tr>\n",
       "<tr>\n",
       "  <th>No. Observations:</th>      <td>   111</td>      <th>  AIC:               </th> <td>   330.6</td>\n",
       "</tr>\n",
       "<tr>\n",
       "  <th>Df Residuals:</th>          <td>   107</td>      <th>  BIC:               </th> <td>   341.4</td>\n",
       "</tr>\n",
       "<tr>\n",
       "  <th>Df Model:</th>              <td>     3</td>      <th>                     </th>     <td> </td>   \n",
       "</tr>\n",
       "<tr>\n",
       "  <th>Covariance Type:</th>      <td>nonrobust</td>    <th>                     </th>     <td> </td>   \n",
       "</tr>\n",
       "</table>\n",
       "<table class=\"simpletable\">\n",
       "<tr>\n",
       "      <td></td>         <th>coef</th>     <th>std err</th>      <th>t</th>      <th>P>|t|</th>  <th>[0.025</th>    <th>0.975]</th>  \n",
       "</tr>\n",
       "<tr>\n",
       "  <th>Intercept</th> <td>   -2.4089</td> <td>    0.960</td> <td>   -2.510</td> <td> 0.014</td> <td>   -4.311</td> <td>   -0.507</td>\n",
       "</tr>\n",
       "<tr>\n",
       "  <th>Stay</th>      <td>    0.4790</td> <td>    0.082</td> <td>    5.839</td> <td> 0.000</td> <td>    0.316</td> <td>    0.642</td>\n",
       "</tr>\n",
       "<tr>\n",
       "  <th>Xray</th>      <td>    0.0199</td> <td>    0.006</td> <td>    3.505</td> <td> 0.001</td> <td>    0.009</td> <td>    0.031</td>\n",
       "</tr>\n",
       "<tr>\n",
       "  <th>Region</th>    <td>    0.2405</td> <td>    0.117</td> <td>    2.064</td> <td> 0.041</td> <td>    0.010</td> <td>    0.471</td>\n",
       "</tr>\n",
       "</table>\n",
       "<table class=\"simpletable\">\n",
       "<tr>\n",
       "  <th>Omnibus:</th>       <td> 0.250</td> <th>  Durbin-Watson:     </th> <td>   1.829</td>\n",
       "</tr>\n",
       "<tr>\n",
       "  <th>Prob(Omnibus):</th> <td> 0.882</td> <th>  Jarque-Bera (JB):  </th> <td>   0.368</td>\n",
       "</tr>\n",
       "<tr>\n",
       "  <th>Skew:</th>          <td>-0.103</td> <th>  Prob(JB):          </th> <td>   0.832</td>\n",
       "</tr>\n",
       "<tr>\n",
       "  <th>Kurtosis:</th>      <td> 2.807</td> <th>  Cond. No.          </th> <td>    811.</td>\n",
       "</tr>\n",
       "</table><br/><br/>Notes:<br/>[1] Standard Errors assume that the covariance matrix of the errors is correctly specified."
      ],
      "text/plain": [
       "<class 'statsmodels.iolib.summary.Summary'>\n",
       "\"\"\"\n",
       "                            OLS Regression Results                            \n",
       "==============================================================================\n",
       "Dep. Variable:               InfctRsk   R-squared:                       0.388\n",
       "Model:                            OLS   Adj. R-squared:                  0.371\n",
       "Method:                 Least Squares   F-statistic:                     22.64\n",
       "Date:                Thu, 02 Feb 2023   Prob (F-statistic):           1.99e-11\n",
       "Time:                        19:31:36   Log-Likelihood:                -161.29\n",
       "No. Observations:                 111   AIC:                             330.6\n",
       "Df Residuals:                     107   BIC:                             341.4\n",
       "Df Model:                           3                                         \n",
       "Covariance Type:            nonrobust                                         \n",
       "==============================================================================\n",
       "                 coef    std err          t      P>|t|      [0.025      0.975]\n",
       "------------------------------------------------------------------------------\n",
       "Intercept     -2.4089      0.960     -2.510      0.014      -4.311      -0.507\n",
       "Stay           0.4790      0.082      5.839      0.000       0.316       0.642\n",
       "Xray           0.0199      0.006      3.505      0.001       0.009       0.031\n",
       "Region         0.2405      0.117      2.064      0.041       0.010       0.471\n",
       "==============================================================================\n",
       "Omnibus:                        0.250   Durbin-Watson:                   1.829\n",
       "Prob(Omnibus):                  0.882   Jarque-Bera (JB):                0.368\n",
       "Skew:                          -0.103   Prob(JB):                        0.832\n",
       "Kurtosis:                       2.807   Cond. No.                         811.\n",
       "==============================================================================\n",
       "\n",
       "Notes:\n",
       "[1] Standard Errors assume that the covariance matrix of the errors is correctly specified.\n",
       "\"\"\""
      ]
     },
     "execution_count": 44,
     "metadata": {},
     "output_type": "execute_result"
    }
   ],
   "source": [
    "data2['Region_c'] = data2['Region'].astype('category')\n",
    "model = smf.ols('InfctRsk~Stay+Xray+Region',data2).fit()\n",
    "model.summary()\n",
    "# Region의 해석을 어떻게 할 것인가? Region은 순서를 갖지도 않은 범주형이므로, 1 증가할 때 0.2405만큼 지역이 변한다는 해석은 X"
   ]
  },
  {
   "cell_type": "code",
   "execution_count": 45,
   "metadata": {},
   "outputs": [
    {
     "data": {
      "text/html": [
       "<table class=\"simpletable\">\n",
       "<caption>OLS Regression Results</caption>\n",
       "<tr>\n",
       "  <th>Dep. Variable:</th>        <td>InfctRsk</td>     <th>  R-squared:         </th> <td>   0.420</td>\n",
       "</tr>\n",
       "<tr>\n",
       "  <th>Model:</th>                   <td>OLS</td>       <th>  Adj. R-squared:    </th> <td>   0.392</td>\n",
       "</tr>\n",
       "<tr>\n",
       "  <th>Method:</th>             <td>Least Squares</td>  <th>  F-statistic:       </th> <td>   15.19</td>\n",
       "</tr>\n",
       "<tr>\n",
       "  <th>Date:</th>             <td>Thu, 02 Feb 2023</td> <th>  Prob (F-statistic):</th> <td>3.24e-11</td>\n",
       "</tr>\n",
       "<tr>\n",
       "  <th>Time:</th>                 <td>19:31:44</td>     <th>  Log-Likelihood:    </th> <td> -158.35</td>\n",
       "</tr>\n",
       "<tr>\n",
       "  <th>No. Observations:</th>      <td>   111</td>      <th>  AIC:               </th> <td>   328.7</td>\n",
       "</tr>\n",
       "<tr>\n",
       "  <th>Df Residuals:</th>          <td>   105</td>      <th>  BIC:               </th> <td>   345.0</td>\n",
       "</tr>\n",
       "<tr>\n",
       "  <th>Df Model:</th>              <td>     5</td>      <th>                     </th>     <td> </td>   \n",
       "</tr>\n",
       "<tr>\n",
       "  <th>Covariance Type:</th>      <td>nonrobust</td>    <th>                     </th>     <td> </td>   \n",
       "</tr>\n",
       "</table>\n",
       "<table class=\"simpletable\">\n",
       "<tr>\n",
       "        <td></td>           <th>coef</th>     <th>std err</th>      <th>t</th>      <th>P>|t|</th>  <th>[0.025</th>    <th>0.975]</th>  \n",
       "</tr>\n",
       "<tr>\n",
       "  <th>Intercept</th>     <td>   -2.1343</td> <td>    0.877</td> <td>   -2.433</td> <td> 0.017</td> <td>   -3.874</td> <td>   -0.395</td>\n",
       "</tr>\n",
       "<tr>\n",
       "  <th>Region_c[T.2]</th> <td>    0.1713</td> <td>    0.281</td> <td>    0.609</td> <td> 0.544</td> <td>   -0.387</td> <td>    0.729</td>\n",
       "</tr>\n",
       "<tr>\n",
       "  <th>Region_c[T.3]</th> <td>    0.0955</td> <td>    0.289</td> <td>    0.330</td> <td> 0.742</td> <td>   -0.477</td> <td>    0.668</td>\n",
       "</tr>\n",
       "<tr>\n",
       "  <th>Region_c[T.4]</th> <td>    1.0578</td> <td>    0.378</td> <td>    2.798</td> <td> 0.006</td> <td>    0.308</td> <td>    1.807</td>\n",
       "</tr>\n",
       "<tr>\n",
       "  <th>Stay</th>          <td>    0.5054</td> <td>    0.081</td> <td>    6.205</td> <td> 0.000</td> <td>    0.344</td> <td>    0.667</td>\n",
       "</tr>\n",
       "<tr>\n",
       "  <th>Xray</th>          <td>    0.0176</td> <td>    0.006</td> <td>    3.113</td> <td> 0.002</td> <td>    0.006</td> <td>    0.029</td>\n",
       "</tr>\n",
       "</table>\n",
       "<table class=\"simpletable\">\n",
       "<tr>\n",
       "  <th>Omnibus:</th>       <td> 0.341</td> <th>  Durbin-Watson:     </th> <td>   1.945</td>\n",
       "</tr>\n",
       "<tr>\n",
       "  <th>Prob(Omnibus):</th> <td> 0.843</td> <th>  Jarque-Bera (JB):  </th> <td>   0.134</td>\n",
       "</tr>\n",
       "<tr>\n",
       "  <th>Skew:</th>          <td>-0.078</td> <th>  Prob(JB):          </th> <td>   0.935</td>\n",
       "</tr>\n",
       "<tr>\n",
       "  <th>Kurtosis:</th>      <td> 3.070</td> <th>  Cond. No.          </th> <td>    800.</td>\n",
       "</tr>\n",
       "</table><br/><br/>Notes:<br/>[1] Standard Errors assume that the covariance matrix of the errors is correctly specified."
      ],
      "text/plain": [
       "<class 'statsmodels.iolib.summary.Summary'>\n",
       "\"\"\"\n",
       "                            OLS Regression Results                            \n",
       "==============================================================================\n",
       "Dep. Variable:               InfctRsk   R-squared:                       0.420\n",
       "Model:                            OLS   Adj. R-squared:                  0.392\n",
       "Method:                 Least Squares   F-statistic:                     15.19\n",
       "Date:                Thu, 02 Feb 2023   Prob (F-statistic):           3.24e-11\n",
       "Time:                        19:31:44   Log-Likelihood:                -158.35\n",
       "No. Observations:                 111   AIC:                             328.7\n",
       "Df Residuals:                     105   BIC:                             345.0\n",
       "Df Model:                           5                                         \n",
       "Covariance Type:            nonrobust                                         \n",
       "=================================================================================\n",
       "                    coef    std err          t      P>|t|      [0.025      0.975]\n",
       "---------------------------------------------------------------------------------\n",
       "Intercept        -2.1343      0.877     -2.433      0.017      -3.874      -0.395\n",
       "Region_c[T.2]     0.1713      0.281      0.609      0.544      -0.387       0.729\n",
       "Region_c[T.3]     0.0955      0.289      0.330      0.742      -0.477       0.668\n",
       "Region_c[T.4]     1.0578      0.378      2.798      0.006       0.308       1.807\n",
       "Stay              0.5054      0.081      6.205      0.000       0.344       0.667\n",
       "Xray              0.0176      0.006      3.113      0.002       0.006       0.029\n",
       "==============================================================================\n",
       "Omnibus:                        0.341   Durbin-Watson:                   1.945\n",
       "Prob(Omnibus):                  0.843   Jarque-Bera (JB):                0.134\n",
       "Skew:                          -0.078   Prob(JB):                        0.935\n",
       "Kurtosis:                       3.070   Cond. No.                         800.\n",
       "==============================================================================\n",
       "\n",
       "Notes:\n",
       "[1] Standard Errors assume that the covariance matrix of the errors is correctly specified.\n",
       "\"\"\""
      ]
     },
     "execution_count": 45,
     "metadata": {},
     "output_type": "execute_result"
    }
   ],
   "source": [
    "# 범주형 변수에 대한 인식 완료\n",
    "model = smf.ols('InfctRsk~Stay+Xray+Region_c',data2).fit()\n",
    "model.summary()"
   ]
  },
  {
   "cell_type": "code",
   "execution_count": 46,
   "metadata": {},
   "outputs": [],
   "source": [
    "# 범주형 변수에 대한 이름 변경\n",
    "data2['Region_c'] = data2.Region_c.cat.rename_categories(['north-east','north-central','south','west'])"
   ]
  },
  {
   "cell_type": "code",
   "execution_count": 47,
   "metadata": {},
   "outputs": [
    {
     "data": {
      "text/html": [
       "<table class=\"simpletable\">\n",
       "<caption>OLS Regression Results</caption>\n",
       "<tr>\n",
       "  <th>Dep. Variable:</th>        <td>InfctRsk</td>     <th>  R-squared:         </th> <td>   0.420</td>\n",
       "</tr>\n",
       "<tr>\n",
       "  <th>Model:</th>                   <td>OLS</td>       <th>  Adj. R-squared:    </th> <td>   0.392</td>\n",
       "</tr>\n",
       "<tr>\n",
       "  <th>Method:</th>             <td>Least Squares</td>  <th>  F-statistic:       </th> <td>   15.19</td>\n",
       "</tr>\n",
       "<tr>\n",
       "  <th>Date:</th>             <td>Thu, 02 Feb 2023</td> <th>  Prob (F-statistic):</th> <td>3.24e-11</td>\n",
       "</tr>\n",
       "<tr>\n",
       "  <th>Time:</th>                 <td>19:32:22</td>     <th>  Log-Likelihood:    </th> <td> -158.35</td>\n",
       "</tr>\n",
       "<tr>\n",
       "  <th>No. Observations:</th>      <td>   111</td>      <th>  AIC:               </th> <td>   328.7</td>\n",
       "</tr>\n",
       "<tr>\n",
       "  <th>Df Residuals:</th>          <td>   105</td>      <th>  BIC:               </th> <td>   345.0</td>\n",
       "</tr>\n",
       "<tr>\n",
       "  <th>Df Model:</th>              <td>     5</td>      <th>                     </th>     <td> </td>   \n",
       "</tr>\n",
       "<tr>\n",
       "  <th>Covariance Type:</th>      <td>nonrobust</td>    <th>                     </th>     <td> </td>   \n",
       "</tr>\n",
       "</table>\n",
       "<table class=\"simpletable\">\n",
       "<tr>\n",
       "              <td></td>                 <th>coef</th>     <th>std err</th>      <th>t</th>      <th>P>|t|</th>  <th>[0.025</th>    <th>0.975]</th>  \n",
       "</tr>\n",
       "<tr>\n",
       "  <th>Intercept</th>                 <td>   -2.1343</td> <td>    0.877</td> <td>   -2.433</td> <td> 0.017</td> <td>   -3.874</td> <td>   -0.395</td>\n",
       "</tr>\n",
       "<tr>\n",
       "  <th>Region_c[T.north-central]</th> <td>    0.1713</td> <td>    0.281</td> <td>    0.609</td> <td> 0.544</td> <td>   -0.387</td> <td>    0.729</td>\n",
       "</tr>\n",
       "<tr>\n",
       "  <th>Region_c[T.south]</th>         <td>    0.0955</td> <td>    0.289</td> <td>    0.330</td> <td> 0.742</td> <td>   -0.477</td> <td>    0.668</td>\n",
       "</tr>\n",
       "<tr>\n",
       "  <th>Region_c[T.west]</th>          <td>    1.0578</td> <td>    0.378</td> <td>    2.798</td> <td> 0.006</td> <td>    0.308</td> <td>    1.807</td>\n",
       "</tr>\n",
       "<tr>\n",
       "  <th>Stay</th>                      <td>    0.5054</td> <td>    0.081</td> <td>    6.205</td> <td> 0.000</td> <td>    0.344</td> <td>    0.667</td>\n",
       "</tr>\n",
       "<tr>\n",
       "  <th>Xray</th>                      <td>    0.0176</td> <td>    0.006</td> <td>    3.113</td> <td> 0.002</td> <td>    0.006</td> <td>    0.029</td>\n",
       "</tr>\n",
       "</table>\n",
       "<table class=\"simpletable\">\n",
       "<tr>\n",
       "  <th>Omnibus:</th>       <td> 0.341</td> <th>  Durbin-Watson:     </th> <td>   1.945</td>\n",
       "</tr>\n",
       "<tr>\n",
       "  <th>Prob(Omnibus):</th> <td> 0.843</td> <th>  Jarque-Bera (JB):  </th> <td>   0.134</td>\n",
       "</tr>\n",
       "<tr>\n",
       "  <th>Skew:</th>          <td>-0.078</td> <th>  Prob(JB):          </th> <td>   0.935</td>\n",
       "</tr>\n",
       "<tr>\n",
       "  <th>Kurtosis:</th>      <td> 3.070</td> <th>  Cond. No.          </th> <td>    800.</td>\n",
       "</tr>\n",
       "</table><br/><br/>Notes:<br/>[1] Standard Errors assume that the covariance matrix of the errors is correctly specified."
      ],
      "text/plain": [
       "<class 'statsmodels.iolib.summary.Summary'>\n",
       "\"\"\"\n",
       "                            OLS Regression Results                            \n",
       "==============================================================================\n",
       "Dep. Variable:               InfctRsk   R-squared:                       0.420\n",
       "Model:                            OLS   Adj. R-squared:                  0.392\n",
       "Method:                 Least Squares   F-statistic:                     15.19\n",
       "Date:                Thu, 02 Feb 2023   Prob (F-statistic):           3.24e-11\n",
       "Time:                        19:32:22   Log-Likelihood:                -158.35\n",
       "No. Observations:                 111   AIC:                             328.7\n",
       "Df Residuals:                     105   BIC:                             345.0\n",
       "Df Model:                           5                                         \n",
       "Covariance Type:            nonrobust                                         \n",
       "=============================================================================================\n",
       "                                coef    std err          t      P>|t|      [0.025      0.975]\n",
       "---------------------------------------------------------------------------------------------\n",
       "Intercept                    -2.1343      0.877     -2.433      0.017      -3.874      -0.395\n",
       "Region_c[T.north-central]     0.1713      0.281      0.609      0.544      -0.387       0.729\n",
       "Region_c[T.south]             0.0955      0.289      0.330      0.742      -0.477       0.668\n",
       "Region_c[T.west]              1.0578      0.378      2.798      0.006       0.308       1.807\n",
       "Stay                          0.5054      0.081      6.205      0.000       0.344       0.667\n",
       "Xray                          0.0176      0.006      3.113      0.002       0.006       0.029\n",
       "==============================================================================\n",
       "Omnibus:                        0.341   Durbin-Watson:                   1.945\n",
       "Prob(Omnibus):                  0.843   Jarque-Bera (JB):                0.134\n",
       "Skew:                          -0.078   Prob(JB):                        0.935\n",
       "Kurtosis:                       3.070   Cond. No.                         800.\n",
       "==============================================================================\n",
       "\n",
       "Notes:\n",
       "[1] Standard Errors assume that the covariance matrix of the errors is correctly specified.\n",
       "\"\"\""
      ]
     },
     "execution_count": 47,
     "metadata": {},
     "output_type": "execute_result"
    }
   ],
   "source": [
    "# 현재 reference level이 north-east (현재 보이지 않는 범주형 변수)\n",
    "# 계수해석; west만 유의하다; Stay와 Xray가 일정한 수준일 때 (동일할 때), north-east에 비해 west 지역의 병원의 InfctRisk가 1.0578만큼 크며, 통계적으로 의미가 있다\n",
    "#          그에 반해 나머지(south, north-central)는 north-east 대비, Stay와 Xray가 일정할 때 차이가 유의하지 않다\n",
    "model = smf.ols('InfctRsk~Stay+Xray+Region_c',data2).fit()\n",
    "model.summary()"
   ]
  },
  {
   "attachments": {},
   "cell_type": "markdown",
   "metadata": {},
   "source": [
    "3. Region이 west인 지역을 reference level로 사용하여 모형을 다시 적합하고 유의한 회귀계수의 의미를 해석하시오. B의 결과와 어떻게 다른가?"
   ]
  },
  {
   "cell_type": "code",
   "execution_count": 49,
   "metadata": {},
   "outputs": [
    {
     "data": {
      "text/html": [
       "<table class=\"simpletable\">\n",
       "<caption>OLS Regression Results</caption>\n",
       "<tr>\n",
       "  <th>Dep. Variable:</th>        <td>InfctRsk</td>     <th>  R-squared:         </th> <td>   0.420</td>\n",
       "</tr>\n",
       "<tr>\n",
       "  <th>Model:</th>                   <td>OLS</td>       <th>  Adj. R-squared:    </th> <td>   0.392</td>\n",
       "</tr>\n",
       "<tr>\n",
       "  <th>Method:</th>             <td>Least Squares</td>  <th>  F-statistic:       </th> <td>   15.19</td>\n",
       "</tr>\n",
       "<tr>\n",
       "  <th>Date:</th>             <td>Thu, 02 Feb 2023</td> <th>  Prob (F-statistic):</th> <td>3.24e-11</td>\n",
       "</tr>\n",
       "<tr>\n",
       "  <th>Time:</th>                 <td>19:32:41</td>     <th>  Log-Likelihood:    </th> <td> -158.35</td>\n",
       "</tr>\n",
       "<tr>\n",
       "  <th>No. Observations:</th>      <td>   111</td>      <th>  AIC:               </th> <td>   328.7</td>\n",
       "</tr>\n",
       "<tr>\n",
       "  <th>Df Residuals:</th>          <td>   105</td>      <th>  BIC:               </th> <td>   345.0</td>\n",
       "</tr>\n",
       "<tr>\n",
       "  <th>Df Model:</th>              <td>     5</td>      <th>                     </th>     <td> </td>   \n",
       "</tr>\n",
       "<tr>\n",
       "  <th>Covariance Type:</th>      <td>nonrobust</td>    <th>                     </th>     <td> </td>   \n",
       "</tr>\n",
       "</table>\n",
       "<table class=\"simpletable\">\n",
       "<tr>\n",
       "                              <td></td>                                 <th>coef</th>     <th>std err</th>      <th>t</th>      <th>P>|t|</th>  <th>[0.025</th>    <th>0.975]</th>  \n",
       "</tr>\n",
       "<tr>\n",
       "  <th>Intercept</th>                                                 <td>   -1.0764</td> <td>    0.721</td> <td>   -1.492</td> <td> 0.139</td> <td>   -2.507</td> <td>    0.354</td>\n",
       "</tr>\n",
       "<tr>\n",
       "  <th>C(Region_c, Treatment(reference=\"west\"))[T.north-east]</th>    <td>   -1.0578</td> <td>    0.378</td> <td>   -2.798</td> <td> 0.006</td> <td>   -1.807</td> <td>   -0.308</td>\n",
       "</tr>\n",
       "<tr>\n",
       "  <th>C(Region_c, Treatment(reference=\"west\"))[T.north-central]</th> <td>   -0.8866</td> <td>    0.340</td> <td>   -2.608</td> <td> 0.010</td> <td>   -1.560</td> <td>   -0.213</td>\n",
       "</tr>\n",
       "<tr>\n",
       "  <th>C(Region_c, Treatment(reference=\"west\"))[T.south]</th>         <td>   -0.9624</td> <td>    0.323</td> <td>   -2.976</td> <td> 0.004</td> <td>   -1.604</td> <td>   -0.321</td>\n",
       "</tr>\n",
       "<tr>\n",
       "  <th>Stay</th>                                                      <td>    0.5054</td> <td>    0.081</td> <td>    6.205</td> <td> 0.000</td> <td>    0.344</td> <td>    0.667</td>\n",
       "</tr>\n",
       "<tr>\n",
       "  <th>Xray</th>                                                      <td>    0.0176</td> <td>    0.006</td> <td>    3.113</td> <td> 0.002</td> <td>    0.006</td> <td>    0.029</td>\n",
       "</tr>\n",
       "</table>\n",
       "<table class=\"simpletable\">\n",
       "<tr>\n",
       "  <th>Omnibus:</th>       <td> 0.341</td> <th>  Durbin-Watson:     </th> <td>   1.945</td>\n",
       "</tr>\n",
       "<tr>\n",
       "  <th>Prob(Omnibus):</th> <td> 0.843</td> <th>  Jarque-Bera (JB):  </th> <td>   0.134</td>\n",
       "</tr>\n",
       "<tr>\n",
       "  <th>Skew:</th>          <td>-0.078</td> <th>  Prob(JB):          </th> <td>   0.935</td>\n",
       "</tr>\n",
       "<tr>\n",
       "  <th>Kurtosis:</th>      <td> 3.070</td> <th>  Cond. No.          </th> <td>    624.</td>\n",
       "</tr>\n",
       "</table><br/><br/>Notes:<br/>[1] Standard Errors assume that the covariance matrix of the errors is correctly specified."
      ],
      "text/plain": [
       "<class 'statsmodels.iolib.summary.Summary'>\n",
       "\"\"\"\n",
       "                            OLS Regression Results                            \n",
       "==============================================================================\n",
       "Dep. Variable:               InfctRsk   R-squared:                       0.420\n",
       "Model:                            OLS   Adj. R-squared:                  0.392\n",
       "Method:                 Least Squares   F-statistic:                     15.19\n",
       "Date:                Thu, 02 Feb 2023   Prob (F-statistic):           3.24e-11\n",
       "Time:                        19:32:41   Log-Likelihood:                -158.35\n",
       "No. Observations:                 111   AIC:                             328.7\n",
       "Df Residuals:                     105   BIC:                             345.0\n",
       "Df Model:                           5                                         \n",
       "Covariance Type:            nonrobust                                         \n",
       "=============================================================================================================================\n",
       "                                                                coef    std err          t      P>|t|      [0.025      0.975]\n",
       "-----------------------------------------------------------------------------------------------------------------------------\n",
       "Intercept                                                    -1.0764      0.721     -1.492      0.139      -2.507       0.354\n",
       "C(Region_c, Treatment(reference=\"west\"))[T.north-east]       -1.0578      0.378     -2.798      0.006      -1.807      -0.308\n",
       "C(Region_c, Treatment(reference=\"west\"))[T.north-central]    -0.8866      0.340     -2.608      0.010      -1.560      -0.213\n",
       "C(Region_c, Treatment(reference=\"west\"))[T.south]            -0.9624      0.323     -2.976      0.004      -1.604      -0.321\n",
       "Stay                                                          0.5054      0.081      6.205      0.000       0.344       0.667\n",
       "Xray                                                          0.0176      0.006      3.113      0.002       0.006       0.029\n",
       "==============================================================================\n",
       "Omnibus:                        0.341   Durbin-Watson:                   1.945\n",
       "Prob(Omnibus):                  0.843   Jarque-Bera (JB):                0.134\n",
       "Skew:                          -0.078   Prob(JB):                        0.935\n",
       "Kurtosis:                       3.070   Cond. No.                         624.\n",
       "==============================================================================\n",
       "\n",
       "Notes:\n",
       "[1] Standard Errors assume that the covariance matrix of the errors is correctly specified.\n",
       "\"\"\""
      ]
     },
     "execution_count": 49,
     "metadata": {},
     "output_type": "execute_result"
    }
   ],
   "source": [
    "# west 지역이 다른 지역들보다 감염 위험이 높다 (타지역 계수가 모두 음수이므로, west 대비 감소한다고 확인되며 통계적으로 유의)\n",
    "model2 = smf.ols('InfctRsk~Stay+Xray+C(Region_c, Treatment(reference=\"west\"))',data2).fit()\n",
    "model2.summary()"
   ]
  },
  {
   "cell_type": "code",
   "execution_count": 50,
   "metadata": {},
   "outputs": [
    {
     "data": {
      "text/html": [
       "<table class=\"simpletable\">\n",
       "<caption>OLS Regression Results</caption>\n",
       "<tr>\n",
       "  <th>Dep. Variable:</th>        <td>InfctRsk</td>     <th>  R-squared:         </th> <td>   0.420</td>\n",
       "</tr>\n",
       "<tr>\n",
       "  <th>Model:</th>                   <td>OLS</td>       <th>  Adj. R-squared:    </th> <td>   0.392</td>\n",
       "</tr>\n",
       "<tr>\n",
       "  <th>Method:</th>             <td>Least Squares</td>  <th>  F-statistic:       </th> <td>   15.19</td>\n",
       "</tr>\n",
       "<tr>\n",
       "  <th>Date:</th>             <td>Thu, 02 Feb 2023</td> <th>  Prob (F-statistic):</th> <td>3.24e-11</td>\n",
       "</tr>\n",
       "<tr>\n",
       "  <th>Time:</th>                 <td>19:32:50</td>     <th>  Log-Likelihood:    </th> <td> -158.35</td>\n",
       "</tr>\n",
       "<tr>\n",
       "  <th>No. Observations:</th>      <td>   111</td>      <th>  AIC:               </th> <td>   328.7</td>\n",
       "</tr>\n",
       "<tr>\n",
       "  <th>Df Residuals:</th>          <td>   105</td>      <th>  BIC:               </th> <td>   345.0</td>\n",
       "</tr>\n",
       "<tr>\n",
       "  <th>Df Model:</th>              <td>     5</td>      <th>                     </th>     <td> </td>   \n",
       "</tr>\n",
       "<tr>\n",
       "  <th>Covariance Type:</th>      <td>nonrobust</td>    <th>                     </th>     <td> </td>   \n",
       "</tr>\n",
       "</table>\n",
       "<table class=\"simpletable\">\n",
       "<tr>\n",
       "         <td></td>           <th>coef</th>     <th>std err</th>      <th>t</th>      <th>P>|t|</th>  <th>[0.025</th>    <th>0.975]</th>  \n",
       "</tr>\n",
       "<tr>\n",
       "  <th>Intercept</th>      <td>   -2.1343</td> <td>    0.877</td> <td>   -2.433</td> <td> 0.017</td> <td>   -3.874</td> <td>   -0.395</td>\n",
       "</tr>\n",
       "<tr>\n",
       "  <th>C(Region)[T.2]</th> <td>    0.1713</td> <td>    0.281</td> <td>    0.609</td> <td> 0.544</td> <td>   -0.387</td> <td>    0.729</td>\n",
       "</tr>\n",
       "<tr>\n",
       "  <th>C(Region)[T.3]</th> <td>    0.0955</td> <td>    0.289</td> <td>    0.330</td> <td> 0.742</td> <td>   -0.477</td> <td>    0.668</td>\n",
       "</tr>\n",
       "<tr>\n",
       "  <th>C(Region)[T.4]</th> <td>    1.0578</td> <td>    0.378</td> <td>    2.798</td> <td> 0.006</td> <td>    0.308</td> <td>    1.807</td>\n",
       "</tr>\n",
       "<tr>\n",
       "  <th>Stay</th>           <td>    0.5054</td> <td>    0.081</td> <td>    6.205</td> <td> 0.000</td> <td>    0.344</td> <td>    0.667</td>\n",
       "</tr>\n",
       "<tr>\n",
       "  <th>Xray</th>           <td>    0.0176</td> <td>    0.006</td> <td>    3.113</td> <td> 0.002</td> <td>    0.006</td> <td>    0.029</td>\n",
       "</tr>\n",
       "</table>\n",
       "<table class=\"simpletable\">\n",
       "<tr>\n",
       "  <th>Omnibus:</th>       <td> 0.341</td> <th>  Durbin-Watson:     </th> <td>   1.945</td>\n",
       "</tr>\n",
       "<tr>\n",
       "  <th>Prob(Omnibus):</th> <td> 0.843</td> <th>  Jarque-Bera (JB):  </th> <td>   0.134</td>\n",
       "</tr>\n",
       "<tr>\n",
       "  <th>Skew:</th>          <td>-0.078</td> <th>  Prob(JB):          </th> <td>   0.935</td>\n",
       "</tr>\n",
       "<tr>\n",
       "  <th>Kurtosis:</th>      <td> 3.070</td> <th>  Cond. No.          </th> <td>    800.</td>\n",
       "</tr>\n",
       "</table><br/><br/>Notes:<br/>[1] Standard Errors assume that the covariance matrix of the errors is correctly specified."
      ],
      "text/plain": [
       "<class 'statsmodels.iolib.summary.Summary'>\n",
       "\"\"\"\n",
       "                            OLS Regression Results                            \n",
       "==============================================================================\n",
       "Dep. Variable:               InfctRsk   R-squared:                       0.420\n",
       "Model:                            OLS   Adj. R-squared:                  0.392\n",
       "Method:                 Least Squares   F-statistic:                     15.19\n",
       "Date:                Thu, 02 Feb 2023   Prob (F-statistic):           3.24e-11\n",
       "Time:                        19:32:50   Log-Likelihood:                -158.35\n",
       "No. Observations:                 111   AIC:                             328.7\n",
       "Df Residuals:                     105   BIC:                             345.0\n",
       "Df Model:                           5                                         \n",
       "Covariance Type:            nonrobust                                         \n",
       "==================================================================================\n",
       "                     coef    std err          t      P>|t|      [0.025      0.975]\n",
       "----------------------------------------------------------------------------------\n",
       "Intercept         -2.1343      0.877     -2.433      0.017      -3.874      -0.395\n",
       "C(Region)[T.2]     0.1713      0.281      0.609      0.544      -0.387       0.729\n",
       "C(Region)[T.3]     0.0955      0.289      0.330      0.742      -0.477       0.668\n",
       "C(Region)[T.4]     1.0578      0.378      2.798      0.006       0.308       1.807\n",
       "Stay               0.5054      0.081      6.205      0.000       0.344       0.667\n",
       "Xray               0.0176      0.006      3.113      0.002       0.006       0.029\n",
       "==============================================================================\n",
       "Omnibus:                        0.341   Durbin-Watson:                   1.945\n",
       "Prob(Omnibus):                  0.843   Jarque-Bera (JB):                0.134\n",
       "Skew:                          -0.078   Prob(JB):                        0.935\n",
       "Kurtosis:                       3.070   Cond. No.                         800.\n",
       "==============================================================================\n",
       "\n",
       "Notes:\n",
       "[1] Standard Errors assume that the covariance matrix of the errors is correctly specified.\n",
       "\"\"\""
      ]
     },
     "execution_count": 50,
     "metadata": {},
     "output_type": "execute_result"
    }
   ],
   "source": [
    "# rename이 필요없다면, 간편하게 범주형 변수 변환 가능\n",
    "model3 = smf.ols('InfctRsk~Stay+Xray+C(Region)',data2).fit()\n",
    "model3.summary()"
   ]
  },
  {
   "attachments": {},
   "cell_type": "markdown",
   "metadata": {},
   "source": [
    "[4-6] 5개의 설명변수를 가진 자료가 있다. 종속변수는 졸업 후의 초봉(단위:1천달러)이다. 설명변수와 그 계수추정값은 아래와 같다.\n",
    "\n",
    "|     변수           |     설명                     |     계수추정치    |\n",
    "|--------------------|------------------------------|-------------------|\n",
    "|     (intercept)    |                              |     50            |\n",
    "|     X1             |     GPA                      |     20            |\n",
    "|     X2             |     IQ                       |     0.07          |\n",
    "|     X3             |     성별(여성=1, 남성=0)     |     35            |\n",
    "|     X4             |     GPA와 IQ의 교호작용      |     0.01          |\n",
    "|     X5             |     GPA와 성별의 교호작용    |     -10           |"
   ]
  },
  {
   "attachments": {},
   "cell_type": "markdown",
   "metadata": {},
   "source": [
    "4. 아래 설명 중 어느것이 옳은 답이고, 그 이유는 무엇인가?\n",
    "    1. 고정된 값의 IQ와 GPA에 대해, 남성이 여성보다 평균적으로 수입이 더 많다. \n",
    "    2. 고정된 값의 IQ와 GPA에 대해, 여성이 남성보다 평균적으로 수입이 더 많다.\n",
    "    3. 고정된 값의 IQ와 GPA에 대해, GPA가 충분히 높다면 남성이 여성보다 평균적으로 수입이 더 많다. \n",
    "    4. 고정된 값의 IQ와 GPA에 대해, GPA가 충분히 높다면 여성이 남성보다 평균적으로 수입이 더 많다."
   ]
  },
  {
   "cell_type": "code",
   "execution_count": null,
   "metadata": {},
   "outputs": [],
   "source": [
    "# 답: C\n",
    "# y^ = 50 + 20*GPA + 0.07*IQ + 35*Gender + 0.01*GPA*IQ - 10*GPA*Gender\n",
    "# = 50 + 20*GPA + 0.07*IQ + 0.01*GPA*IQ + (35-10*GPA)*Gender\n",
    "# → 35-10*GPA >0 : 여자 > 남자, < 0: 여자<남자\n",
    "# → 35-10*GPA >0 -> GPA < 3.5\n",
    "# GPA가 3.5보다 크다면 남성이 크다"
   ]
  },
  {
   "attachments": {},
   "cell_type": "markdown",
   "metadata": {},
   "source": [
    "5. IQ가 110이고 GPA가 4.0인 여성의 급여를 예측하라."
   ]
  },
  {
   "cell_type": "code",
   "execution_count": 51,
   "metadata": {},
   "outputs": [
    {
     "data": {
      "text/plain": [
       "147.1"
      ]
     },
     "execution_count": 51,
     "metadata": {},
     "output_type": "execute_result"
    }
   ],
   "source": [
    "50+20*4+0.07*110+45+0.01*(4*110)-10*(4*1)"
   ]
  },
  {
   "attachments": {},
   "cell_type": "markdown",
   "metadata": {},
   "source": [
    "6. GPA/IQ 교호작용 항에 대한 계수가 아주 작으므로 교호작용 효과가 있다는 증거는 거의 없다. 참인가 거짓인가? 답에 대한 근거를 설명하여라."
   ]
  },
  {
   "cell_type": "code",
   "execution_count": null,
   "metadata": {},
   "outputs": [],
   "source": [
    "# 거짓\n",
    "# 변수들이 표준화되어 있지 않기 때문에, 계수의 절대적인 값을 갖고 판단하면 안 된다\n",
    "# P-value를 통해 판단해야함"
   ]
  }
 ],
 "metadata": {
  "kernelspec": {
   "display_name": "base",
   "language": "python",
   "name": "python3"
  },
  "language_info": {
   "codemirror_mode": {
    "name": "ipython",
    "version": 3
   },
   "file_extension": ".py",
   "mimetype": "text/x-python",
   "name": "python",
   "nbconvert_exporter": "python",
   "pygments_lexer": "ipython3",
   "version": "3.9.12"
  },
  "orig_nbformat": 4,
  "vscode": {
   "interpreter": {
    "hash": "68756eb6c044f31c46e3e1f38723aea1f0146198488dd3d60c0e4241eb6f7dd0"
   }
  }
 },
 "nbformat": 4,
 "nbformat_minor": 2
}
