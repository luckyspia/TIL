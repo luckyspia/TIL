{
 "cells": [
  {
   "cell_type": "markdown",
   "metadata": {},
   "source": [
    "## Chapter 04. Reinforcement Learning"
   ]
  },
  {
   "cell_type": "markdown",
   "metadata": {
    "id": "0vw0dL4SjNBc"
   },
   "source": [
    "Gym 실습 (1) 환경"
   ]
  },
  {
   "cell_type": "code",
   "execution_count": 1,
   "metadata": {
    "colab": {
     "base_uri": "https://localhost:8080/"
    },
    "id": "a3dxFqj-jPE9",
    "outputId": "ba3e0b40-4f4f-49a1-8e36-0606d5834eaf"
   },
   "outputs": [
    {
     "name": "stdout",
     "output_type": "stream",
     "text": [
      "Requirement already satisfied: gym in /usr/local/lib/python3.7/dist-packages (0.17.3)\n",
      "Requirement already satisfied: pyglet<=1.5.0,>=1.4.0 in /usr/local/lib/python3.7/dist-packages (from gym) (1.5.0)\n",
      "Requirement already satisfied: scipy in /usr/local/lib/python3.7/dist-packages (from gym) (1.4.1)\n",
      "Requirement already satisfied: numpy>=1.10.4 in /usr/local/lib/python3.7/dist-packages (from gym) (1.19.5)\n",
      "Requirement already satisfied: cloudpickle<1.7.0,>=1.2.0 in /usr/local/lib/python3.7/dist-packages (from gym) (1.3.0)\n",
      "Requirement already satisfied: future in /usr/local/lib/python3.7/dist-packages (from pyglet<=1.5.0,>=1.4.0->gym) (0.16.0)\n"
     ]
    }
   ],
   "source": [
    "!pip install gym\n",
    "# gym 설치"
   ]
  },
  {
   "cell_type": "code",
   "execution_count": 2,
   "metadata": {
    "id": "PFLOEHvxjPwQ"
   },
   "outputs": [],
   "source": [
    "import gym\n",
    "# gym 호출"
   ]
  },
  {
   "cell_type": "code",
   "execution_count": 3,
   "metadata": {
    "colab": {
     "base_uri": "https://localhost:8080/"
    },
    "id": "8eYkXFjmjPzP",
    "outputId": "bc523d78-e0f5-4802-c6aa-54e3f81d7a0f"
   },
   "outputs": [
    {
     "name": "stderr",
     "output_type": "stream",
     "text": [
      "/usr/local/lib/python3.7/dist-packages/gym/logger.py:30: UserWarning: \u001b[33mWARN: Box bound precision lowered by casting to float32\u001b[0m\n",
      "  warnings.warn(colorize('%s: %s'%('WARN', msg % args), 'yellow'))\n"
     ]
    }
   ],
   "source": [
    "env = gym.make('HotterColder-v0')\n",
    "# gym에서 사용할 환경의 이름을 작성"
   ]
  },
  {
   "cell_type": "code",
   "execution_count": 4,
   "metadata": {
    "colab": {
     "base_uri": "https://localhost:8080/"
    },
    "id": "OLuJDMdkjS4Z",
    "outputId": "41fdf105-302a-4eab-efbd-729fd53e3c34"
   },
   "outputs": [
    {
     "data": {
      "text/plain": [
       "0"
      ]
     },
     "execution_count": 4,
     "metadata": {
      "tags": []
     },
     "output_type": "execute_result"
    }
   ],
   "source": [
    "env.reset()\n",
    "# 환경 초기화 (상호작용할 준비, 초기 상태 0)\n",
    "# -1000 ~ 1000 의 숫자를 찍어서 맞추기"
   ]
  },
  {
   "cell_type": "code",
   "execution_count": 5,
   "metadata": {
    "id": "BaGYc7qWjS6q"
   },
   "outputs": [],
   "source": [
    "import numpy as np"
   ]
  },
  {
   "cell_type": "code",
   "execution_count": 6,
   "metadata": {
    "id": "pu1m2NxAjS8-"
   },
   "outputs": [],
   "source": [
    "action = 0.0"
   ]
  },
  {
   "cell_type": "code",
   "execution_count": 7,
   "metadata": {
    "id": "XJDS5hNzjS_k"
   },
   "outputs": [],
   "source": [
    "observation, reward, done, info = env.step(np.array([action]))\n",
    "# step을 통해 입력을 받아 다음의 상태를 확인\n",
    "# np.array 형태로 action을 입력 (리스트 형태로 입력)\n",
    "# observation: 정답보다 큰지 작은지 (환경에서 주어지는 정보)\n",
    "# reward: 보상 (수식에 따른 계산값)\n",
    "# done: 게임이 끝났는지 아닌지 (True면 게임 종료)\n",
    "# info: 부가 정보 (강화 학습에 직접 사용X, 디버깅용)"
   ]
  },
  {
   "cell_type": "code",
   "execution_count": 8,
   "metadata": {
    "colab": {
     "base_uri": "https://localhost:8080/"
    },
    "id": "m5CR8fCzjTBu",
    "outputId": "a694ca36-0cb2-402e-e5bc-f7f79feb8635"
   },
   "outputs": [
    {
     "data": {
      "text/plain": [
       "1"
      ]
     },
     "execution_count": 8,
     "metadata": {
      "tags": []
     },
     "output_type": "execute_result"
    }
   ],
   "source": [
    "observation"
   ]
  },
  {
   "cell_type": "code",
   "execution_count": 9,
   "metadata": {
    "colab": {
     "base_uri": "https://localhost:8080/"
    },
    "id": "fIBybR7kjTEH",
    "outputId": "2437928c-2892-4cc6-df14-04eab75adf11"
   },
   "outputs": [
    {
     "data": {
      "text/plain": [
       "0.5035605273488385"
      ]
     },
     "execution_count": 9,
     "metadata": {
      "tags": []
     },
     "output_type": "execute_result"
    }
   ],
   "source": [
    "reward"
   ]
  },
  {
   "cell_type": "code",
   "execution_count": 10,
   "metadata": {
    "colab": {
     "base_uri": "https://localhost:8080/"
    },
    "id": "pM74osMfjTGn",
    "outputId": "d5587f1e-a334-43c7-b79d-056dd6c191c5"
   },
   "outputs": [
    {
     "data": {
      "text/plain": [
       "False"
      ]
     },
     "execution_count": 10,
     "metadata": {
      "tags": []
     },
     "output_type": "execute_result"
    }
   ],
   "source": [
    "done"
   ]
  },
  {
   "cell_type": "code",
   "execution_count": 11,
   "metadata": {
    "colab": {
     "base_uri": "https://localhost:8080/"
    },
    "id": "f5KomV5XjP9P",
    "outputId": "6841e7b3-b2f7-4d77-b665-e101fc9163af"
   },
   "outputs": [
    {
     "data": {
      "text/plain": [
       "{'guesses': 1, 'number': 818.40990087821}"
      ]
     },
     "execution_count": 11,
     "metadata": {
      "tags": []
     },
     "output_type": "execute_result"
    }
   ],
   "source": [
    "info\n",
    "# 한 번 예측했으며, number는 정답\n",
    "\n",
    "# 200번을 반복하게 되면 하나의 에피소드 완성"
   ]
  },
  {
   "cell_type": "markdown",
   "metadata": {
    "id": "Uz8B__Y8jXvd"
   },
   "source": [
    "Gym 실습 (2) 에피소드"
   ]
  },
  {
   "cell_type": "code",
   "execution_count": 15,
   "metadata": {
    "id": "W0-sSHCGjZSa"
   },
   "outputs": [],
   "source": [
    "import tensorflow as tf\n",
    "model = tf.keras.Sequential([\n",
    "    tf.keras.layers.Dense(2, input_shape=(1,))\n",
    "])\n",
    "# 하나의 에피소드를 수행하기 위해선, 하나의 모델을 만들어야 함\n",
    "# 하나의 입력값을 받아 2가지 출력값을 내는 간단한 모델 구성"
   ]
  },
  {
   "cell_type": "code",
   "execution_count": 18,
   "metadata": {
    "id": "NwntxehslqqA"
   },
   "outputs": [],
   "source": [
    "x = np.array([[1.0 if observation == 1 else -1.0]]) # 모델에 입력 (0,1,2,3) 4 가지가 입력되지만 0과 2는 없다고 판단 (0은 시작 값, 2는 정답)\n",
    "# observation 이 1이면 1.0 아니면 -1.0 출력"
   ]
  },
  {
   "cell_type": "code",
   "execution_count": 19,
   "metadata": {
    "colab": {
     "base_uri": "https://localhost:8080/"
    },
    "id": "4k5ilHPamAQ3",
    "outputId": "b0af17b8-75ed-43f5-bd51-ce9f039091a6"
   },
   "outputs": [
    {
     "data": {
      "text/plain": [
       "<tf.Tensor: shape=(1, 2), dtype=float32, numpy=array([[1.2041706, 1.3209976]], dtype=float32)>"
      ]
     },
     "execution_count": 19,
     "metadata": {
      "tags": []
     },
     "output_type": "execute_result"
    }
   ],
   "source": [
    "logits = model(x)\n",
    "logits\n",
    "# up 에 해당하는 값 = 1.2041706\n",
    "# down 에 해당하는 값 = 1.3209976\n",
    "# softmax 함수에 넣으면 확률로 변환"
   ]
  },
  {
   "cell_type": "code",
   "execution_count": 20,
   "metadata": {
    "colab": {
     "base_uri": "https://localhost:8080/"
    },
    "id": "ZuXk3ZU4mGBg",
    "outputId": "6c353838-2e17-47e4-c495-3cf1d5f9eb39"
   },
   "outputs": [
    {
     "data": {
      "text/plain": [
       "<tf.Tensor: shape=(1, 2), dtype=float32, numpy=array([[0.47082645, 0.52917355]], dtype=float32)>"
      ]
     },
     "execution_count": 20,
     "metadata": {
      "tags": []
     },
     "output_type": "execute_result"
    }
   ],
   "source": [
    "tf.nn.softmax(logits)\n",
    "# 모형에 activation = softmax 를 하지 않고 따로 처리\n",
    "# tensorflow의 많은 함수들이 activation이 안 되어 있고, logits으로 받아 처리하는 함수들이 많음\n",
    "# 확률적 정책이기 때문에 확률에 따라 랜덤하게 업다운을 진행"
   ]
  },
  {
   "cell_type": "code",
   "execution_count": 22,
   "metadata": {
    "id": "734lDwALmzx_"
   },
   "outputs": [],
   "source": [
    "index = tf.random.categorical(logits, num_samples=1)\n",
    "# logits 값을 이용해 내부적으로 softmax 함수를 적용해 확률로 바꾼 뒤, 확률에 비율에 따라 랜덤하게 생성"
   ]
  },
  {
   "cell_type": "code",
   "execution_count": 23,
   "metadata": {
    "colab": {
     "base_uri": "https://localhost:8080/"
    },
    "id": "8cujg2zanH0d",
    "outputId": "1d743077-603d-42fa-87d6-9014ba0e96ab"
   },
   "outputs": [
    {
     "data": {
      "text/plain": [
       "<tf.Tensor: shape=(1,), dtype=float32, numpy=array([0.6364388], dtype=float32)>"
      ]
     },
     "execution_count": 23,
     "metadata": {
      "tags": []
     },
     "output_type": "execute_result"
    }
   ],
   "source": [
    "# 지금까지는, index 변수와 0 번째 확률을 실현시킨 것\n",
    "# REINFORCE 알고리즘을 적용하기 위해서\n",
    "index = index[:, 0]\n",
    "logprob = tf.nn.sparse_softmax_cross_entropy_with_logits(index, logits) # 확률의 로그 값 (교차 엔트로피 식을 인덱스를 맞춰 사용), 랜덤하게 뽑은 쪽의 확률에 로그 씌우기 가능\n",
    "# 이후 경사를 구하기 위해 GradientTape를 사용하는 함수를 정의"
   ]
  },
  {
   "cell_type": "code",
   "execution_count": 24,
   "metadata": {
    "id": "05wuOOjfjaUq"
   },
   "outputs": [],
   "source": [
    "def play(env, model):\n",
    "    step = 100 # +- 100 단위로 움직이게 설정\n",
    "    env.reset()\n",
    "    action = 0.0\n",
    "    \n",
    "    # 학습을 위한 기록\n",
    "    grads = [] # 파라미터 업데이트를 위한 경사 기록\n",
    "    rewards = []\n",
    "    actions = []\n",
    "\n",
    "    for i in range(200): # 200번 제한횟수만큼 반복\n",
    "        observation, reward, done, info = env.step(np.array([action]))\n",
    "        rewards.append(reward)\n",
    "\n",
    "        if done:\n",
    "            break\n",
    "\n",
    "        x = np.array([[1.0 if observation == 1 else -1.0]])\n",
    "        with tf.GradientTape() as tape:\n",
    "            logits = model(x)\n",
    "            index = tf.random.categorical(logits, num_samples=1)\n",
    "            index = index[:, 0]\n",
    "            logprob = tf.nn.sparse_softmax_cross_entropy_with_logits(index, logits)\n",
    "        grad = tape.gradient(logprob, model.trainable_weights) # logprob을 model의 파라미터로 미분 = 경사 구하기\n",
    "        grads.append(grad)\n",
    "        \n",
    "        if index.numpy()[0] == 0: # index가 0이면 down\n",
    "            action -= step\n",
    "        else:\n",
    "            action += step        # index가 1이면 up\n",
    "\n",
    "        if action > 1000:         # action의 범위를 제한\n",
    "            action = 1000\n",
    "        if action < -1000:\n",
    "            action = -1000\n",
    "        actions.append(action)\n",
    "\n",
    "    return {\n",
    "        'actions': actions,\n",
    "        'rewards': rewards,\n",
    "        'grads': grads,\n",
    "        'target': info['number']\n",
    "    }"
   ]
  },
  {
   "cell_type": "code",
   "execution_count": 30,
   "metadata": {
    "colab": {
     "base_uri": "https://localhost:8080/"
    },
    "id": "K092g6gyjaW7",
    "outputId": "964a7122-42f0-43a9-ca09-6f444a1da036"
   },
   "outputs": [
    {
     "data": {
      "text/plain": [
       "{'actions': [-100.0,\n",
       "  0.0,\n",
       "  100.0,\n",
       "  0.0,\n",
       "  -100.0,\n",
       "  0.0,\n",
       "  -100.0,\n",
       "  -200.0,\n",
       "  -300.0,\n",
       "  -200.0,\n",
       "  -300.0,\n",
       "  -400.0,\n",
       "  -300.0,\n",
       "  -200.0,\n",
       "  -300.0,\n",
       "  -400.0,\n",
       "  -500.0,\n",
       "  -600.0,\n",
       "  -500.0,\n",
       "  -600.0,\n",
       "  -500.0,\n",
       "  -600.0,\n",
       "  -700.0,\n",
       "  -600.0,\n",
       "  -500.0,\n",
       "  -600.0,\n",
       "  -500.0,\n",
       "  -600.0,\n",
       "  -500.0,\n",
       "  -600.0,\n",
       "  -700.0,\n",
       "  -600.0,\n",
       "  -700.0,\n",
       "  -600.0,\n",
       "  -700.0,\n",
       "  -800.0,\n",
       "  -700.0,\n",
       "  -800.0,\n",
       "  -900.0,\n",
       "  -1000.0,\n",
       "  -900.0,\n",
       "  -1000.0,\n",
       "  -1000,\n",
       "  -1000,\n",
       "  -900,\n",
       "  -1000,\n",
       "  -900,\n",
       "  -800,\n",
       "  -700,\n",
       "  -800,\n",
       "  -900,\n",
       "  -800,\n",
       "  -900,\n",
       "  -800,\n",
       "  -900,\n",
       "  -800,\n",
       "  -900,\n",
       "  -1000,\n",
       "  -900,\n",
       "  -800,\n",
       "  -700,\n",
       "  -800,\n",
       "  -900,\n",
       "  -800,\n",
       "  -900,\n",
       "  -1000,\n",
       "  -1000,\n",
       "  -1000,\n",
       "  -900,\n",
       "  -1000,\n",
       "  -1000,\n",
       "  -900,\n",
       "  -800,\n",
       "  -700,\n",
       "  -600,\n",
       "  -500,\n",
       "  -600,\n",
       "  -700,\n",
       "  -800,\n",
       "  -900,\n",
       "  -800,\n",
       "  -700,\n",
       "  -800,\n",
       "  -700,\n",
       "  -600,\n",
       "  -700,\n",
       "  -800,\n",
       "  -700,\n",
       "  -800,\n",
       "  -700,\n",
       "  -600,\n",
       "  -700,\n",
       "  -800,\n",
       "  -900,\n",
       "  -800,\n",
       "  -900,\n",
       "  -1000,\n",
       "  -900,\n",
       "  -1000,\n",
       "  -1000,\n",
       "  -900,\n",
       "  -1000,\n",
       "  -1000,\n",
       "  -1000,\n",
       "  -1000,\n",
       "  -900,\n",
       "  -800,\n",
       "  -900,\n",
       "  -1000,\n",
       "  -900,\n",
       "  -1000,\n",
       "  -900,\n",
       "  -1000,\n",
       "  -900,\n",
       "  -800,\n",
       "  -700,\n",
       "  -800,\n",
       "  -900,\n",
       "  -800,\n",
       "  -900,\n",
       "  -1000,\n",
       "  -1000,\n",
       "  -900,\n",
       "  -1000,\n",
       "  -900,\n",
       "  -1000,\n",
       "  -900,\n",
       "  -1000,\n",
       "  -900,\n",
       "  -1000,\n",
       "  -1000,\n",
       "  -900,\n",
       "  -1000,\n",
       "  -900,\n",
       "  -1000,\n",
       "  -1000,\n",
       "  -900,\n",
       "  -800,\n",
       "  -700,\n",
       "  -800,\n",
       "  -900,\n",
       "  -1000,\n",
       "  -1000,\n",
       "  -1000,\n",
       "  -1000,\n",
       "  -1000,\n",
       "  -900,\n",
       "  -1000,\n",
       "  -1000,\n",
       "  -900,\n",
       "  -800,\n",
       "  -700,\n",
       "  -800,\n",
       "  -900,\n",
       "  -1000,\n",
       "  -1000,\n",
       "  -1000,\n",
       "  -900,\n",
       "  -800,\n",
       "  -900,\n",
       "  -800,\n",
       "  -900,\n",
       "  -800,\n",
       "  -900,\n",
       "  -1000,\n",
       "  -1000,\n",
       "  -1000,\n",
       "  -1000,\n",
       "  -1000,\n",
       "  -900,\n",
       "  -800,\n",
       "  -900,\n",
       "  -1000,\n",
       "  -900,\n",
       "  -1000,\n",
       "  -900,\n",
       "  -800,\n",
       "  -900,\n",
       "  -800,\n",
       "  -900,\n",
       "  -800,\n",
       "  -700,\n",
       "  -800,\n",
       "  -900,\n",
       "  -800,\n",
       "  -700,\n",
       "  -600,\n",
       "  -500,\n",
       "  -600,\n",
       "  -700,\n",
       "  -800,\n",
       "  -700,\n",
       "  -800,\n",
       "  -900,\n",
       "  -1000,\n",
       "  -900,\n",
       "  -1000,\n",
       "  -900,\n",
       "  -800],\n",
       " 'grads': [[<tf.Tensor: shape=(1, 2), dtype=float32, numpy=array([[ 0.47082645, -0.47082645]], dtype=float32)>,\n",
       "   <tf.Tensor: shape=(2,), dtype=float32, numpy=array([-0.47082645,  0.47082645], dtype=float32)>],\n",
       "  [<tf.Tensor: shape=(1, 2), dtype=float32, numpy=array([[-0.52917355,  0.52917355]], dtype=float32)>,\n",
       "   <tf.Tensor: shape=(2,), dtype=float32, numpy=array([ 0.52917355, -0.52917355], dtype=float32)>],\n",
       "  [<tf.Tensor: shape=(1, 2), dtype=float32, numpy=array([[-0.52917355,  0.52917355]], dtype=float32)>,\n",
       "   <tf.Tensor: shape=(2,), dtype=float32, numpy=array([ 0.52917355, -0.52917355], dtype=float32)>],\n",
       "  [<tf.Tensor: shape=(1, 2), dtype=float32, numpy=array([[ 0.47082645, -0.47082645]], dtype=float32)>,\n",
       "   <tf.Tensor: shape=(2,), dtype=float32, numpy=array([-0.47082645,  0.47082645], dtype=float32)>],\n",
       "  [<tf.Tensor: shape=(1, 2), dtype=float32, numpy=array([[ 0.47082645, -0.47082645]], dtype=float32)>,\n",
       "   <tf.Tensor: shape=(2,), dtype=float32, numpy=array([-0.47082645,  0.47082645], dtype=float32)>],\n",
       "  [<tf.Tensor: shape=(1, 2), dtype=float32, numpy=array([[-0.52917355,  0.52917355]], dtype=float32)>,\n",
       "   <tf.Tensor: shape=(2,), dtype=float32, numpy=array([ 0.52917355, -0.52917355], dtype=float32)>],\n",
       "  [<tf.Tensor: shape=(1, 2), dtype=float32, numpy=array([[ 0.47082645, -0.47082645]], dtype=float32)>,\n",
       "   <tf.Tensor: shape=(2,), dtype=float32, numpy=array([-0.47082645,  0.47082645], dtype=float32)>],\n",
       "  [<tf.Tensor: shape=(1, 2), dtype=float32, numpy=array([[ 0.47082645, -0.47082645]], dtype=float32)>,\n",
       "   <tf.Tensor: shape=(2,), dtype=float32, numpy=array([-0.47082645,  0.47082645], dtype=float32)>],\n",
       "  [<tf.Tensor: shape=(1, 2), dtype=float32, numpy=array([[ 0.47082645, -0.47082645]], dtype=float32)>,\n",
       "   <tf.Tensor: shape=(2,), dtype=float32, numpy=array([-0.47082645,  0.47082645], dtype=float32)>],\n",
       "  [<tf.Tensor: shape=(1, 2), dtype=float32, numpy=array([[-0.52917355,  0.52917355]], dtype=float32)>,\n",
       "   <tf.Tensor: shape=(2,), dtype=float32, numpy=array([ 0.52917355, -0.52917355], dtype=float32)>],\n",
       "  [<tf.Tensor: shape=(1, 2), dtype=float32, numpy=array([[ 0.47082645, -0.47082645]], dtype=float32)>,\n",
       "   <tf.Tensor: shape=(2,), dtype=float32, numpy=array([-0.47082645,  0.47082645], dtype=float32)>],\n",
       "  [<tf.Tensor: shape=(1, 2), dtype=float32, numpy=array([[ 0.47082645, -0.47082645]], dtype=float32)>,\n",
       "   <tf.Tensor: shape=(2,), dtype=float32, numpy=array([-0.47082645,  0.47082645], dtype=float32)>],\n",
       "  [<tf.Tensor: shape=(1, 2), dtype=float32, numpy=array([[-0.52917355,  0.52917355]], dtype=float32)>,\n",
       "   <tf.Tensor: shape=(2,), dtype=float32, numpy=array([ 0.52917355, -0.52917355], dtype=float32)>],\n",
       "  [<tf.Tensor: shape=(1, 2), dtype=float32, numpy=array([[-0.52917355,  0.52917355]], dtype=float32)>,\n",
       "   <tf.Tensor: shape=(2,), dtype=float32, numpy=array([ 0.52917355, -0.52917355], dtype=float32)>],\n",
       "  [<tf.Tensor: shape=(1, 2), dtype=float32, numpy=array([[ 0.47082645, -0.47082645]], dtype=float32)>,\n",
       "   <tf.Tensor: shape=(2,), dtype=float32, numpy=array([-0.47082645,  0.47082645], dtype=float32)>],\n",
       "  [<tf.Tensor: shape=(1, 2), dtype=float32, numpy=array([[ 0.47082645, -0.47082645]], dtype=float32)>,\n",
       "   <tf.Tensor: shape=(2,), dtype=float32, numpy=array([-0.47082645,  0.47082645], dtype=float32)>],\n",
       "  [<tf.Tensor: shape=(1, 2), dtype=float32, numpy=array([[ 0.47082645, -0.47082645]], dtype=float32)>,\n",
       "   <tf.Tensor: shape=(2,), dtype=float32, numpy=array([-0.47082645,  0.47082645], dtype=float32)>],\n",
       "  [<tf.Tensor: shape=(1, 2), dtype=float32, numpy=array([[ 0.47082645, -0.47082645]], dtype=float32)>,\n",
       "   <tf.Tensor: shape=(2,), dtype=float32, numpy=array([-0.47082645,  0.47082645], dtype=float32)>],\n",
       "  [<tf.Tensor: shape=(1, 2), dtype=float32, numpy=array([[-0.52917355,  0.52917355]], dtype=float32)>,\n",
       "   <tf.Tensor: shape=(2,), dtype=float32, numpy=array([ 0.52917355, -0.52917355], dtype=float32)>],\n",
       "  [<tf.Tensor: shape=(1, 2), dtype=float32, numpy=array([[ 0.47082645, -0.47082645]], dtype=float32)>,\n",
       "   <tf.Tensor: shape=(2,), dtype=float32, numpy=array([-0.47082645,  0.47082645], dtype=float32)>],\n",
       "  [<tf.Tensor: shape=(1, 2), dtype=float32, numpy=array([[-0.52917355,  0.52917355]], dtype=float32)>,\n",
       "   <tf.Tensor: shape=(2,), dtype=float32, numpy=array([ 0.52917355, -0.52917355], dtype=float32)>],\n",
       "  [<tf.Tensor: shape=(1, 2), dtype=float32, numpy=array([[ 0.47082645, -0.47082645]], dtype=float32)>,\n",
       "   <tf.Tensor: shape=(2,), dtype=float32, numpy=array([-0.47082645,  0.47082645], dtype=float32)>],\n",
       "  [<tf.Tensor: shape=(1, 2), dtype=float32, numpy=array([[ 0.47082645, -0.47082645]], dtype=float32)>,\n",
       "   <tf.Tensor: shape=(2,), dtype=float32, numpy=array([-0.47082645,  0.47082645], dtype=float32)>],\n",
       "  [<tf.Tensor: shape=(1, 2), dtype=float32, numpy=array([[ 0.47082645, -0.47082645]], dtype=float32)>,\n",
       "   <tf.Tensor: shape=(2,), dtype=float32, numpy=array([ 0.47082645, -0.47082645], dtype=float32)>],\n",
       "  [<tf.Tensor: shape=(1, 2), dtype=float32, numpy=array([[-0.52917355,  0.52917355]], dtype=float32)>,\n",
       "   <tf.Tensor: shape=(2,), dtype=float32, numpy=array([ 0.52917355, -0.52917355], dtype=float32)>],\n",
       "  [<tf.Tensor: shape=(1, 2), dtype=float32, numpy=array([[ 0.47082645, -0.47082645]], dtype=float32)>,\n",
       "   <tf.Tensor: shape=(2,), dtype=float32, numpy=array([-0.47082645,  0.47082645], dtype=float32)>],\n",
       "  [<tf.Tensor: shape=(1, 2), dtype=float32, numpy=array([[-0.52917355,  0.52917355]], dtype=float32)>,\n",
       "   <tf.Tensor: shape=(2,), dtype=float32, numpy=array([ 0.52917355, -0.52917355], dtype=float32)>],\n",
       "  [<tf.Tensor: shape=(1, 2), dtype=float32, numpy=array([[ 0.47082645, -0.47082645]], dtype=float32)>,\n",
       "   <tf.Tensor: shape=(2,), dtype=float32, numpy=array([-0.47082645,  0.47082645], dtype=float32)>],\n",
       "  [<tf.Tensor: shape=(1, 2), dtype=float32, numpy=array([[-0.52917355,  0.52917355]], dtype=float32)>,\n",
       "   <tf.Tensor: shape=(2,), dtype=float32, numpy=array([ 0.52917355, -0.52917355], dtype=float32)>],\n",
       "  [<tf.Tensor: shape=(1, 2), dtype=float32, numpy=array([[ 0.47082645, -0.47082645]], dtype=float32)>,\n",
       "   <tf.Tensor: shape=(2,), dtype=float32, numpy=array([-0.47082645,  0.47082645], dtype=float32)>],\n",
       "  [<tf.Tensor: shape=(1, 2), dtype=float32, numpy=array([[ 0.47082645, -0.47082645]], dtype=float32)>,\n",
       "   <tf.Tensor: shape=(2,), dtype=float32, numpy=array([-0.47082645,  0.47082645], dtype=float32)>],\n",
       "  [<tf.Tensor: shape=(1, 2), dtype=float32, numpy=array([[ 0.47082645, -0.47082645]], dtype=float32)>,\n",
       "   <tf.Tensor: shape=(2,), dtype=float32, numpy=array([ 0.47082645, -0.47082645], dtype=float32)>],\n",
       "  [<tf.Tensor: shape=(1, 2), dtype=float32, numpy=array([[ 0.47082645, -0.47082645]], dtype=float32)>,\n",
       "   <tf.Tensor: shape=(2,), dtype=float32, numpy=array([-0.47082645,  0.47082645], dtype=float32)>],\n",
       "  [<tf.Tensor: shape=(1, 2), dtype=float32, numpy=array([[ 0.47082645, -0.47082645]], dtype=float32)>,\n",
       "   <tf.Tensor: shape=(2,), dtype=float32, numpy=array([ 0.47082645, -0.47082645], dtype=float32)>],\n",
       "  [<tf.Tensor: shape=(1, 2), dtype=float32, numpy=array([[ 0.47082645, -0.47082645]], dtype=float32)>,\n",
       "   <tf.Tensor: shape=(2,), dtype=float32, numpy=array([-0.47082645,  0.47082645], dtype=float32)>],\n",
       "  [<tf.Tensor: shape=(1, 2), dtype=float32, numpy=array([[-0.52917355,  0.52917355]], dtype=float32)>,\n",
       "   <tf.Tensor: shape=(2,), dtype=float32, numpy=array([-0.52917355,  0.52917355], dtype=float32)>],\n",
       "  [<tf.Tensor: shape=(1, 2), dtype=float32, numpy=array([[ 0.47082645, -0.47082645]], dtype=float32)>,\n",
       "   <tf.Tensor: shape=(2,), dtype=float32, numpy=array([ 0.47082645, -0.47082645], dtype=float32)>],\n",
       "  [<tf.Tensor: shape=(1, 2), dtype=float32, numpy=array([[-0.52917355,  0.52917355]], dtype=float32)>,\n",
       "   <tf.Tensor: shape=(2,), dtype=float32, numpy=array([-0.52917355,  0.52917355], dtype=float32)>],\n",
       "  [<tf.Tensor: shape=(1, 2), dtype=float32, numpy=array([[-0.52917355,  0.52917355]], dtype=float32)>,\n",
       "   <tf.Tensor: shape=(2,), dtype=float32, numpy=array([-0.52917355,  0.52917355], dtype=float32)>],\n",
       "  [<tf.Tensor: shape=(1, 2), dtype=float32, numpy=array([[-0.52917355,  0.52917355]], dtype=float32)>,\n",
       "   <tf.Tensor: shape=(2,), dtype=float32, numpy=array([-0.52917355,  0.52917355], dtype=float32)>],\n",
       "  [<tf.Tensor: shape=(1, 2), dtype=float32, numpy=array([[ 0.47082645, -0.47082645]], dtype=float32)>,\n",
       "   <tf.Tensor: shape=(2,), dtype=float32, numpy=array([ 0.47082645, -0.47082645], dtype=float32)>],\n",
       "  [<tf.Tensor: shape=(1, 2), dtype=float32, numpy=array([[-0.52917355,  0.52917355]], dtype=float32)>,\n",
       "   <tf.Tensor: shape=(2,), dtype=float32, numpy=array([-0.52917355,  0.52917355], dtype=float32)>],\n",
       "  [<tf.Tensor: shape=(1, 2), dtype=float32, numpy=array([[-0.52917355,  0.52917355]], dtype=float32)>,\n",
       "   <tf.Tensor: shape=(2,), dtype=float32, numpy=array([-0.52917355,  0.52917355], dtype=float32)>],\n",
       "  [<tf.Tensor: shape=(1, 2), dtype=float32, numpy=array([[-0.52917355,  0.52917355]], dtype=float32)>,\n",
       "   <tf.Tensor: shape=(2,), dtype=float32, numpy=array([-0.52917355,  0.52917355], dtype=float32)>],\n",
       "  [<tf.Tensor: shape=(1, 2), dtype=float32, numpy=array([[ 0.47082645, -0.47082645]], dtype=float32)>,\n",
       "   <tf.Tensor: shape=(2,), dtype=float32, numpy=array([ 0.47082645, -0.47082645], dtype=float32)>],\n",
       "  [<tf.Tensor: shape=(1, 2), dtype=float32, numpy=array([[-0.52917355,  0.52917355]], dtype=float32)>,\n",
       "   <tf.Tensor: shape=(2,), dtype=float32, numpy=array([-0.52917355,  0.52917355], dtype=float32)>],\n",
       "  [<tf.Tensor: shape=(1, 2), dtype=float32, numpy=array([[ 0.47082645, -0.47082645]], dtype=float32)>,\n",
       "   <tf.Tensor: shape=(2,), dtype=float32, numpy=array([ 0.47082645, -0.47082645], dtype=float32)>],\n",
       "  [<tf.Tensor: shape=(1, 2), dtype=float32, numpy=array([[ 0.47082645, -0.47082645]], dtype=float32)>,\n",
       "   <tf.Tensor: shape=(2,), dtype=float32, numpy=array([ 0.47082645, -0.47082645], dtype=float32)>],\n",
       "  [<tf.Tensor: shape=(1, 2), dtype=float32, numpy=array([[ 0.47082645, -0.47082645]], dtype=float32)>,\n",
       "   <tf.Tensor: shape=(2,), dtype=float32, numpy=array([ 0.47082645, -0.47082645], dtype=float32)>],\n",
       "  [<tf.Tensor: shape=(1, 2), dtype=float32, numpy=array([[-0.52917355,  0.52917355]], dtype=float32)>,\n",
       "   <tf.Tensor: shape=(2,), dtype=float32, numpy=array([-0.52917355,  0.52917355], dtype=float32)>],\n",
       "  [<tf.Tensor: shape=(1, 2), dtype=float32, numpy=array([[-0.52917355,  0.52917355]], dtype=float32)>,\n",
       "   <tf.Tensor: shape=(2,), dtype=float32, numpy=array([-0.52917355,  0.52917355], dtype=float32)>],\n",
       "  [<tf.Tensor: shape=(1, 2), dtype=float32, numpy=array([[ 0.47082645, -0.47082645]], dtype=float32)>,\n",
       "   <tf.Tensor: shape=(2,), dtype=float32, numpy=array([ 0.47082645, -0.47082645], dtype=float32)>],\n",
       "  [<tf.Tensor: shape=(1, 2), dtype=float32, numpy=array([[-0.52917355,  0.52917355]], dtype=float32)>,\n",
       "   <tf.Tensor: shape=(2,), dtype=float32, numpy=array([-0.52917355,  0.52917355], dtype=float32)>],\n",
       "  [<tf.Tensor: shape=(1, 2), dtype=float32, numpy=array([[ 0.47082645, -0.47082645]], dtype=float32)>,\n",
       "   <tf.Tensor: shape=(2,), dtype=float32, numpy=array([ 0.47082645, -0.47082645], dtype=float32)>],\n",
       "  [<tf.Tensor: shape=(1, 2), dtype=float32, numpy=array([[-0.52917355,  0.52917355]], dtype=float32)>,\n",
       "   <tf.Tensor: shape=(2,), dtype=float32, numpy=array([-0.52917355,  0.52917355], dtype=float32)>],\n",
       "  [<tf.Tensor: shape=(1, 2), dtype=float32, numpy=array([[ 0.47082645, -0.47082645]], dtype=float32)>,\n",
       "   <tf.Tensor: shape=(2,), dtype=float32, numpy=array([ 0.47082645, -0.47082645], dtype=float32)>],\n",
       "  [<tf.Tensor: shape=(1, 2), dtype=float32, numpy=array([[-0.52917355,  0.52917355]], dtype=float32)>,\n",
       "   <tf.Tensor: shape=(2,), dtype=float32, numpy=array([-0.52917355,  0.52917355], dtype=float32)>],\n",
       "  [<tf.Tensor: shape=(1, 2), dtype=float32, numpy=array([[-0.52917355,  0.52917355]], dtype=float32)>,\n",
       "   <tf.Tensor: shape=(2,), dtype=float32, numpy=array([-0.52917355,  0.52917355], dtype=float32)>],\n",
       "  [<tf.Tensor: shape=(1, 2), dtype=float32, numpy=array([[ 0.47082645, -0.47082645]], dtype=float32)>,\n",
       "   <tf.Tensor: shape=(2,), dtype=float32, numpy=array([ 0.47082645, -0.47082645], dtype=float32)>],\n",
       "  [<tf.Tensor: shape=(1, 2), dtype=float32, numpy=array([[ 0.47082645, -0.47082645]], dtype=float32)>,\n",
       "   <tf.Tensor: shape=(2,), dtype=float32, numpy=array([ 0.47082645, -0.47082645], dtype=float32)>],\n",
       "  [<tf.Tensor: shape=(1, 2), dtype=float32, numpy=array([[ 0.47082645, -0.47082645]], dtype=float32)>,\n",
       "   <tf.Tensor: shape=(2,), dtype=float32, numpy=array([ 0.47082645, -0.47082645], dtype=float32)>],\n",
       "  [<tf.Tensor: shape=(1, 2), dtype=float32, numpy=array([[-0.52917355,  0.52917355]], dtype=float32)>,\n",
       "   <tf.Tensor: shape=(2,), dtype=float32, numpy=array([-0.52917355,  0.52917355], dtype=float32)>],\n",
       "  [<tf.Tensor: shape=(1, 2), dtype=float32, numpy=array([[-0.52917355,  0.52917355]], dtype=float32)>,\n",
       "   <tf.Tensor: shape=(2,), dtype=float32, numpy=array([-0.52917355,  0.52917355], dtype=float32)>],\n",
       "  [<tf.Tensor: shape=(1, 2), dtype=float32, numpy=array([[ 0.47082645, -0.47082645]], dtype=float32)>,\n",
       "   <tf.Tensor: shape=(2,), dtype=float32, numpy=array([ 0.47082645, -0.47082645], dtype=float32)>],\n",
       "  [<tf.Tensor: shape=(1, 2), dtype=float32, numpy=array([[-0.52917355,  0.52917355]], dtype=float32)>,\n",
       "   <tf.Tensor: shape=(2,), dtype=float32, numpy=array([-0.52917355,  0.52917355], dtype=float32)>],\n",
       "  [<tf.Tensor: shape=(1, 2), dtype=float32, numpy=array([[-0.52917355,  0.52917355]], dtype=float32)>,\n",
       "   <tf.Tensor: shape=(2,), dtype=float32, numpy=array([-0.52917355,  0.52917355], dtype=float32)>],\n",
       "  [<tf.Tensor: shape=(1, 2), dtype=float32, numpy=array([[-0.52917355,  0.52917355]], dtype=float32)>,\n",
       "   <tf.Tensor: shape=(2,), dtype=float32, numpy=array([-0.52917355,  0.52917355], dtype=float32)>],\n",
       "  [<tf.Tensor: shape=(1, 2), dtype=float32, numpy=array([[-0.52917355,  0.52917355]], dtype=float32)>,\n",
       "   <tf.Tensor: shape=(2,), dtype=float32, numpy=array([-0.52917355,  0.52917355], dtype=float32)>],\n",
       "  [<tf.Tensor: shape=(1, 2), dtype=float32, numpy=array([[ 0.47082645, -0.47082645]], dtype=float32)>,\n",
       "   <tf.Tensor: shape=(2,), dtype=float32, numpy=array([ 0.47082645, -0.47082645], dtype=float32)>],\n",
       "  [<tf.Tensor: shape=(1, 2), dtype=float32, numpy=array([[-0.52917355,  0.52917355]], dtype=float32)>,\n",
       "   <tf.Tensor: shape=(2,), dtype=float32, numpy=array([-0.52917355,  0.52917355], dtype=float32)>],\n",
       "  [<tf.Tensor: shape=(1, 2), dtype=float32, numpy=array([[-0.52917355,  0.52917355]], dtype=float32)>,\n",
       "   <tf.Tensor: shape=(2,), dtype=float32, numpy=array([-0.52917355,  0.52917355], dtype=float32)>],\n",
       "  [<tf.Tensor: shape=(1, 2), dtype=float32, numpy=array([[ 0.47082645, -0.47082645]], dtype=float32)>,\n",
       "   <tf.Tensor: shape=(2,), dtype=float32, numpy=array([ 0.47082645, -0.47082645], dtype=float32)>],\n",
       "  [<tf.Tensor: shape=(1, 2), dtype=float32, numpy=array([[ 0.47082645, -0.47082645]], dtype=float32)>,\n",
       "   <tf.Tensor: shape=(2,), dtype=float32, numpy=array([ 0.47082645, -0.47082645], dtype=float32)>],\n",
       "  [<tf.Tensor: shape=(1, 2), dtype=float32, numpy=array([[ 0.47082645, -0.47082645]], dtype=float32)>,\n",
       "   <tf.Tensor: shape=(2,), dtype=float32, numpy=array([ 0.47082645, -0.47082645], dtype=float32)>],\n",
       "  [<tf.Tensor: shape=(1, 2), dtype=float32, numpy=array([[ 0.47082645, -0.47082645]], dtype=float32)>,\n",
       "   <tf.Tensor: shape=(2,), dtype=float32, numpy=array([ 0.47082645, -0.47082645], dtype=float32)>],\n",
       "  [<tf.Tensor: shape=(1, 2), dtype=float32, numpy=array([[-0.52917355,  0.52917355]], dtype=float32)>,\n",
       "   <tf.Tensor: shape=(2,), dtype=float32, numpy=array([ 0.52917355, -0.52917355], dtype=float32)>],\n",
       "  [<tf.Tensor: shape=(1, 2), dtype=float32, numpy=array([[ 0.47082645, -0.47082645]], dtype=float32)>,\n",
       "   <tf.Tensor: shape=(2,), dtype=float32, numpy=array([-0.47082645,  0.47082645], dtype=float32)>],\n",
       "  [<tf.Tensor: shape=(1, 2), dtype=float32, numpy=array([[ 0.47082645, -0.47082645]], dtype=float32)>,\n",
       "   <tf.Tensor: shape=(2,), dtype=float32, numpy=array([-0.47082645,  0.47082645], dtype=float32)>],\n",
       "  [<tf.Tensor: shape=(1, 2), dtype=float32, numpy=array([[-0.52917355,  0.52917355]], dtype=float32)>,\n",
       "   <tf.Tensor: shape=(2,), dtype=float32, numpy=array([-0.52917355,  0.52917355], dtype=float32)>],\n",
       "  [<tf.Tensor: shape=(1, 2), dtype=float32, numpy=array([[-0.52917355,  0.52917355]], dtype=float32)>,\n",
       "   <tf.Tensor: shape=(2,), dtype=float32, numpy=array([-0.52917355,  0.52917355], dtype=float32)>],\n",
       "  [<tf.Tensor: shape=(1, 2), dtype=float32, numpy=array([[ 0.47082645, -0.47082645]], dtype=float32)>,\n",
       "   <tf.Tensor: shape=(2,), dtype=float32, numpy=array([ 0.47082645, -0.47082645], dtype=float32)>],\n",
       "  [<tf.Tensor: shape=(1, 2), dtype=float32, numpy=array([[ 0.47082645, -0.47082645]], dtype=float32)>,\n",
       "   <tf.Tensor: shape=(2,), dtype=float32, numpy=array([ 0.47082645, -0.47082645], dtype=float32)>],\n",
       "  [<tf.Tensor: shape=(1, 2), dtype=float32, numpy=array([[-0.52917355,  0.52917355]], dtype=float32)>,\n",
       "   <tf.Tensor: shape=(2,), dtype=float32, numpy=array([-0.52917355,  0.52917355], dtype=float32)>],\n",
       "  [<tf.Tensor: shape=(1, 2), dtype=float32, numpy=array([[ 0.47082645, -0.47082645]], dtype=float32)>,\n",
       "   <tf.Tensor: shape=(2,), dtype=float32, numpy=array([ 0.47082645, -0.47082645], dtype=float32)>],\n",
       "  [<tf.Tensor: shape=(1, 2), dtype=float32, numpy=array([[ 0.47082645, -0.47082645]], dtype=float32)>,\n",
       "   <tf.Tensor: shape=(2,), dtype=float32, numpy=array([ 0.47082645, -0.47082645], dtype=float32)>],\n",
       "  [<tf.Tensor: shape=(1, 2), dtype=float32, numpy=array([[ 0.47082645, -0.47082645]], dtype=float32)>,\n",
       "   <tf.Tensor: shape=(2,), dtype=float32, numpy=array([-0.47082645,  0.47082645], dtype=float32)>],\n",
       "  [<tf.Tensor: shape=(1, 2), dtype=float32, numpy=array([[-0.52917355,  0.52917355]], dtype=float32)>,\n",
       "   <tf.Tensor: shape=(2,), dtype=float32, numpy=array([-0.52917355,  0.52917355], dtype=float32)>],\n",
       "  [<tf.Tensor: shape=(1, 2), dtype=float32, numpy=array([[ 0.47082645, -0.47082645]], dtype=float32)>,\n",
       "   <tf.Tensor: shape=(2,), dtype=float32, numpy=array([ 0.47082645, -0.47082645], dtype=float32)>],\n",
       "  [<tf.Tensor: shape=(1, 2), dtype=float32, numpy=array([[-0.52917355,  0.52917355]], dtype=float32)>,\n",
       "   <tf.Tensor: shape=(2,), dtype=float32, numpy=array([-0.52917355,  0.52917355], dtype=float32)>],\n",
       "  [<tf.Tensor: shape=(1, 2), dtype=float32, numpy=array([[ 0.47082645, -0.47082645]], dtype=float32)>,\n",
       "   <tf.Tensor: shape=(2,), dtype=float32, numpy=array([ 0.47082645, -0.47082645], dtype=float32)>],\n",
       "  [<tf.Tensor: shape=(1, 2), dtype=float32, numpy=array([[ 0.47082645, -0.47082645]], dtype=float32)>,\n",
       "   <tf.Tensor: shape=(2,), dtype=float32, numpy=array([ 0.47082645, -0.47082645], dtype=float32)>],\n",
       "  [<tf.Tensor: shape=(1, 2), dtype=float32, numpy=array([[ 0.47082645, -0.47082645]], dtype=float32)>,\n",
       "   <tf.Tensor: shape=(2,), dtype=float32, numpy=array([-0.47082645,  0.47082645], dtype=float32)>],\n",
       "  [<tf.Tensor: shape=(1, 2), dtype=float32, numpy=array([[-0.52917355,  0.52917355]], dtype=float32)>,\n",
       "   <tf.Tensor: shape=(2,), dtype=float32, numpy=array([-0.52917355,  0.52917355], dtype=float32)>],\n",
       "  [<tf.Tensor: shape=(1, 2), dtype=float32, numpy=array([[-0.52917355,  0.52917355]], dtype=float32)>,\n",
       "   <tf.Tensor: shape=(2,), dtype=float32, numpy=array([-0.52917355,  0.52917355], dtype=float32)>],\n",
       "  [<tf.Tensor: shape=(1, 2), dtype=float32, numpy=array([[ 0.47082645, -0.47082645]], dtype=float32)>,\n",
       "   <tf.Tensor: shape=(2,), dtype=float32, numpy=array([ 0.47082645, -0.47082645], dtype=float32)>],\n",
       "  [<tf.Tensor: shape=(1, 2), dtype=float32, numpy=array([[-0.52917355,  0.52917355]], dtype=float32)>,\n",
       "   <tf.Tensor: shape=(2,), dtype=float32, numpy=array([-0.52917355,  0.52917355], dtype=float32)>],\n",
       "  [<tf.Tensor: shape=(1, 2), dtype=float32, numpy=array([[-0.52917355,  0.52917355]], dtype=float32)>,\n",
       "   <tf.Tensor: shape=(2,), dtype=float32, numpy=array([-0.52917355,  0.52917355], dtype=float32)>],\n",
       "  [<tf.Tensor: shape=(1, 2), dtype=float32, numpy=array([[ 0.47082645, -0.47082645]], dtype=float32)>,\n",
       "   <tf.Tensor: shape=(2,), dtype=float32, numpy=array([ 0.47082645, -0.47082645], dtype=float32)>],\n",
       "  [<tf.Tensor: shape=(1, 2), dtype=float32, numpy=array([[-0.52917355,  0.52917355]], dtype=float32)>,\n",
       "   <tf.Tensor: shape=(2,), dtype=float32, numpy=array([-0.52917355,  0.52917355], dtype=float32)>],\n",
       "  [<tf.Tensor: shape=(1, 2), dtype=float32, numpy=array([[-0.52917355,  0.52917355]], dtype=float32)>,\n",
       "   <tf.Tensor: shape=(2,), dtype=float32, numpy=array([-0.52917355,  0.52917355], dtype=float32)>],\n",
       "  [<tf.Tensor: shape=(1, 2), dtype=float32, numpy=array([[ 0.47082645, -0.47082645]], dtype=float32)>,\n",
       "   <tf.Tensor: shape=(2,), dtype=float32, numpy=array([ 0.47082645, -0.47082645], dtype=float32)>],\n",
       "  [<tf.Tensor: shape=(1, 2), dtype=float32, numpy=array([[-0.52917355,  0.52917355]], dtype=float32)>,\n",
       "   <tf.Tensor: shape=(2,), dtype=float32, numpy=array([-0.52917355,  0.52917355], dtype=float32)>],\n",
       "  [<tf.Tensor: shape=(1, 2), dtype=float32, numpy=array([[-0.52917355,  0.52917355]], dtype=float32)>,\n",
       "   <tf.Tensor: shape=(2,), dtype=float32, numpy=array([-0.52917355,  0.52917355], dtype=float32)>],\n",
       "  [<tf.Tensor: shape=(1, 2), dtype=float32, numpy=array([[-0.52917355,  0.52917355]], dtype=float32)>,\n",
       "   <tf.Tensor: shape=(2,), dtype=float32, numpy=array([-0.52917355,  0.52917355], dtype=float32)>],\n",
       "  [<tf.Tensor: shape=(1, 2), dtype=float32, numpy=array([[-0.52917355,  0.52917355]], dtype=float32)>,\n",
       "   <tf.Tensor: shape=(2,), dtype=float32, numpy=array([-0.52917355,  0.52917355], dtype=float32)>],\n",
       "  [<tf.Tensor: shape=(1, 2), dtype=float32, numpy=array([[ 0.47082645, -0.47082645]], dtype=float32)>,\n",
       "   <tf.Tensor: shape=(2,), dtype=float32, numpy=array([ 0.47082645, -0.47082645], dtype=float32)>],\n",
       "  [<tf.Tensor: shape=(1, 2), dtype=float32, numpy=array([[ 0.47082645, -0.47082645]], dtype=float32)>,\n",
       "   <tf.Tensor: shape=(2,), dtype=float32, numpy=array([ 0.47082645, -0.47082645], dtype=float32)>],\n",
       "  [<tf.Tensor: shape=(1, 2), dtype=float32, numpy=array([[-0.52917355,  0.52917355]], dtype=float32)>,\n",
       "   <tf.Tensor: shape=(2,), dtype=float32, numpy=array([-0.52917355,  0.52917355], dtype=float32)>],\n",
       "  [<tf.Tensor: shape=(1, 2), dtype=float32, numpy=array([[-0.52917355,  0.52917355]], dtype=float32)>,\n",
       "   <tf.Tensor: shape=(2,), dtype=float32, numpy=array([-0.52917355,  0.52917355], dtype=float32)>],\n",
       "  [<tf.Tensor: shape=(1, 2), dtype=float32, numpy=array([[ 0.47082645, -0.47082645]], dtype=float32)>,\n",
       "   <tf.Tensor: shape=(2,), dtype=float32, numpy=array([ 0.47082645, -0.47082645], dtype=float32)>],\n",
       "  [<tf.Tensor: shape=(1, 2), dtype=float32, numpy=array([[-0.52917355,  0.52917355]], dtype=float32)>,\n",
       "   <tf.Tensor: shape=(2,), dtype=float32, numpy=array([-0.52917355,  0.52917355], dtype=float32)>],\n",
       "  [<tf.Tensor: shape=(1, 2), dtype=float32, numpy=array([[ 0.47082645, -0.47082645]], dtype=float32)>,\n",
       "   <tf.Tensor: shape=(2,), dtype=float32, numpy=array([ 0.47082645, -0.47082645], dtype=float32)>],\n",
       "  [<tf.Tensor: shape=(1, 2), dtype=float32, numpy=array([[-0.52917355,  0.52917355]], dtype=float32)>,\n",
       "   <tf.Tensor: shape=(2,), dtype=float32, numpy=array([-0.52917355,  0.52917355], dtype=float32)>],\n",
       "  [<tf.Tensor: shape=(1, 2), dtype=float32, numpy=array([[ 0.47082645, -0.47082645]], dtype=float32)>,\n",
       "   <tf.Tensor: shape=(2,), dtype=float32, numpy=array([ 0.47082645, -0.47082645], dtype=float32)>],\n",
       "  [<tf.Tensor: shape=(1, 2), dtype=float32, numpy=array([[ 0.47082645, -0.47082645]], dtype=float32)>,\n",
       "   <tf.Tensor: shape=(2,), dtype=float32, numpy=array([ 0.47082645, -0.47082645], dtype=float32)>],\n",
       "  [<tf.Tensor: shape=(1, 2), dtype=float32, numpy=array([[ 0.47082645, -0.47082645]], dtype=float32)>,\n",
       "   <tf.Tensor: shape=(2,), dtype=float32, numpy=array([ 0.47082645, -0.47082645], dtype=float32)>],\n",
       "  [<tf.Tensor: shape=(1, 2), dtype=float32, numpy=array([[-0.52917355,  0.52917355]], dtype=float32)>,\n",
       "   <tf.Tensor: shape=(2,), dtype=float32, numpy=array([-0.52917355,  0.52917355], dtype=float32)>],\n",
       "  [<tf.Tensor: shape=(1, 2), dtype=float32, numpy=array([[-0.52917355,  0.52917355]], dtype=float32)>,\n",
       "   <tf.Tensor: shape=(2,), dtype=float32, numpy=array([-0.52917355,  0.52917355], dtype=float32)>],\n",
       "  [<tf.Tensor: shape=(1, 2), dtype=float32, numpy=array([[ 0.47082645, -0.47082645]], dtype=float32)>,\n",
       "   <tf.Tensor: shape=(2,), dtype=float32, numpy=array([ 0.47082645, -0.47082645], dtype=float32)>],\n",
       "  [<tf.Tensor: shape=(1, 2), dtype=float32, numpy=array([[-0.52917355,  0.52917355]], dtype=float32)>,\n",
       "   <tf.Tensor: shape=(2,), dtype=float32, numpy=array([-0.52917355,  0.52917355], dtype=float32)>],\n",
       "  [<tf.Tensor: shape=(1, 2), dtype=float32, numpy=array([[-0.52917355,  0.52917355]], dtype=float32)>,\n",
       "   <tf.Tensor: shape=(2,), dtype=float32, numpy=array([-0.52917355,  0.52917355], dtype=float32)>],\n",
       "  [<tf.Tensor: shape=(1, 2), dtype=float32, numpy=array([[-0.52917355,  0.52917355]], dtype=float32)>,\n",
       "   <tf.Tensor: shape=(2,), dtype=float32, numpy=array([-0.52917355,  0.52917355], dtype=float32)>],\n",
       "  [<tf.Tensor: shape=(1, 2), dtype=float32, numpy=array([[ 0.47082645, -0.47082645]], dtype=float32)>,\n",
       "   <tf.Tensor: shape=(2,), dtype=float32, numpy=array([ 0.47082645, -0.47082645], dtype=float32)>],\n",
       "  [<tf.Tensor: shape=(1, 2), dtype=float32, numpy=array([[-0.52917355,  0.52917355]], dtype=float32)>,\n",
       "   <tf.Tensor: shape=(2,), dtype=float32, numpy=array([-0.52917355,  0.52917355], dtype=float32)>],\n",
       "  [<tf.Tensor: shape=(1, 2), dtype=float32, numpy=array([[ 0.47082645, -0.47082645]], dtype=float32)>,\n",
       "   <tf.Tensor: shape=(2,), dtype=float32, numpy=array([ 0.47082645, -0.47082645], dtype=float32)>],\n",
       "  [<tf.Tensor: shape=(1, 2), dtype=float32, numpy=array([[-0.52917355,  0.52917355]], dtype=float32)>,\n",
       "   <tf.Tensor: shape=(2,), dtype=float32, numpy=array([-0.52917355,  0.52917355], dtype=float32)>],\n",
       "  [<tf.Tensor: shape=(1, 2), dtype=float32, numpy=array([[ 0.47082645, -0.47082645]], dtype=float32)>,\n",
       "   <tf.Tensor: shape=(2,), dtype=float32, numpy=array([ 0.47082645, -0.47082645], dtype=float32)>],\n",
       "  [<tf.Tensor: shape=(1, 2), dtype=float32, numpy=array([[-0.52917355,  0.52917355]], dtype=float32)>,\n",
       "   <tf.Tensor: shape=(2,), dtype=float32, numpy=array([-0.52917355,  0.52917355], dtype=float32)>],\n",
       "  [<tf.Tensor: shape=(1, 2), dtype=float32, numpy=array([[ 0.47082645, -0.47082645]], dtype=float32)>,\n",
       "   <tf.Tensor: shape=(2,), dtype=float32, numpy=array([ 0.47082645, -0.47082645], dtype=float32)>],\n",
       "  [<tf.Tensor: shape=(1, 2), dtype=float32, numpy=array([[-0.52917355,  0.52917355]], dtype=float32)>,\n",
       "   <tf.Tensor: shape=(2,), dtype=float32, numpy=array([-0.52917355,  0.52917355], dtype=float32)>],\n",
       "  [<tf.Tensor: shape=(1, 2), dtype=float32, numpy=array([[-0.52917355,  0.52917355]], dtype=float32)>,\n",
       "   <tf.Tensor: shape=(2,), dtype=float32, numpy=array([-0.52917355,  0.52917355], dtype=float32)>],\n",
       "  [<tf.Tensor: shape=(1, 2), dtype=float32, numpy=array([[ 0.47082645, -0.47082645]], dtype=float32)>,\n",
       "   <tf.Tensor: shape=(2,), dtype=float32, numpy=array([ 0.47082645, -0.47082645], dtype=float32)>],\n",
       "  [<tf.Tensor: shape=(1, 2), dtype=float32, numpy=array([[-0.52917355,  0.52917355]], dtype=float32)>,\n",
       "   <tf.Tensor: shape=(2,), dtype=float32, numpy=array([-0.52917355,  0.52917355], dtype=float32)>],\n",
       "  [<tf.Tensor: shape=(1, 2), dtype=float32, numpy=array([[ 0.47082645, -0.47082645]], dtype=float32)>,\n",
       "   <tf.Tensor: shape=(2,), dtype=float32, numpy=array([ 0.47082645, -0.47082645], dtype=float32)>],\n",
       "  [<tf.Tensor: shape=(1, 2), dtype=float32, numpy=array([[-0.52917355,  0.52917355]], dtype=float32)>,\n",
       "   <tf.Tensor: shape=(2,), dtype=float32, numpy=array([-0.52917355,  0.52917355], dtype=float32)>],\n",
       "  [<tf.Tensor: shape=(1, 2), dtype=float32, numpy=array([[-0.52917355,  0.52917355]], dtype=float32)>,\n",
       "   <tf.Tensor: shape=(2,), dtype=float32, numpy=array([-0.52917355,  0.52917355], dtype=float32)>],\n",
       "  [<tf.Tensor: shape=(1, 2), dtype=float32, numpy=array([[ 0.47082645, -0.47082645]], dtype=float32)>,\n",
       "   <tf.Tensor: shape=(2,), dtype=float32, numpy=array([ 0.47082645, -0.47082645], dtype=float32)>],\n",
       "  [<tf.Tensor: shape=(1, 2), dtype=float32, numpy=array([[ 0.47082645, -0.47082645]], dtype=float32)>,\n",
       "   <tf.Tensor: shape=(2,), dtype=float32, numpy=array([ 0.47082645, -0.47082645], dtype=float32)>],\n",
       "  [<tf.Tensor: shape=(1, 2), dtype=float32, numpy=array([[ 0.47082645, -0.47082645]], dtype=float32)>,\n",
       "   <tf.Tensor: shape=(2,), dtype=float32, numpy=array([ 0.47082645, -0.47082645], dtype=float32)>],\n",
       "  [<tf.Tensor: shape=(1, 2), dtype=float32, numpy=array([[-0.52917355,  0.52917355]], dtype=float32)>,\n",
       "   <tf.Tensor: shape=(2,), dtype=float32, numpy=array([-0.52917355,  0.52917355], dtype=float32)>],\n",
       "  [<tf.Tensor: shape=(1, 2), dtype=float32, numpy=array([[-0.52917355,  0.52917355]], dtype=float32)>,\n",
       "   <tf.Tensor: shape=(2,), dtype=float32, numpy=array([-0.52917355,  0.52917355], dtype=float32)>],\n",
       "  [<tf.Tensor: shape=(1, 2), dtype=float32, numpy=array([[-0.52917355,  0.52917355]], dtype=float32)>,\n",
       "   <tf.Tensor: shape=(2,), dtype=float32, numpy=array([-0.52917355,  0.52917355], dtype=float32)>],\n",
       "  [<tf.Tensor: shape=(1, 2), dtype=float32, numpy=array([[-0.52917355,  0.52917355]], dtype=float32)>,\n",
       "   <tf.Tensor: shape=(2,), dtype=float32, numpy=array([-0.52917355,  0.52917355], dtype=float32)>],\n",
       "  [<tf.Tensor: shape=(1, 2), dtype=float32, numpy=array([[-0.52917355,  0.52917355]], dtype=float32)>,\n",
       "   <tf.Tensor: shape=(2,), dtype=float32, numpy=array([-0.52917355,  0.52917355], dtype=float32)>],\n",
       "  [<tf.Tensor: shape=(1, 2), dtype=float32, numpy=array([[-0.52917355,  0.52917355]], dtype=float32)>,\n",
       "   <tf.Tensor: shape=(2,), dtype=float32, numpy=array([-0.52917355,  0.52917355], dtype=float32)>],\n",
       "  [<tf.Tensor: shape=(1, 2), dtype=float32, numpy=array([[-0.52917355,  0.52917355]], dtype=float32)>,\n",
       "   <tf.Tensor: shape=(2,), dtype=float32, numpy=array([-0.52917355,  0.52917355], dtype=float32)>],\n",
       "  [<tf.Tensor: shape=(1, 2), dtype=float32, numpy=array([[ 0.47082645, -0.47082645]], dtype=float32)>,\n",
       "   <tf.Tensor: shape=(2,), dtype=float32, numpy=array([ 0.47082645, -0.47082645], dtype=float32)>],\n",
       "  [<tf.Tensor: shape=(1, 2), dtype=float32, numpy=array([[-0.52917355,  0.52917355]], dtype=float32)>,\n",
       "   <tf.Tensor: shape=(2,), dtype=float32, numpy=array([-0.52917355,  0.52917355], dtype=float32)>],\n",
       "  [<tf.Tensor: shape=(1, 2), dtype=float32, numpy=array([[-0.52917355,  0.52917355]], dtype=float32)>,\n",
       "   <tf.Tensor: shape=(2,), dtype=float32, numpy=array([-0.52917355,  0.52917355], dtype=float32)>],\n",
       "  [<tf.Tensor: shape=(1, 2), dtype=float32, numpy=array([[ 0.47082645, -0.47082645]], dtype=float32)>,\n",
       "   <tf.Tensor: shape=(2,), dtype=float32, numpy=array([ 0.47082645, -0.47082645], dtype=float32)>],\n",
       "  [<tf.Tensor: shape=(1, 2), dtype=float32, numpy=array([[ 0.47082645, -0.47082645]], dtype=float32)>,\n",
       "   <tf.Tensor: shape=(2,), dtype=float32, numpy=array([ 0.47082645, -0.47082645], dtype=float32)>],\n",
       "  [<tf.Tensor: shape=(1, 2), dtype=float32, numpy=array([[ 0.47082645, -0.47082645]], dtype=float32)>,\n",
       "   <tf.Tensor: shape=(2,), dtype=float32, numpy=array([ 0.47082645, -0.47082645], dtype=float32)>],\n",
       "  [<tf.Tensor: shape=(1, 2), dtype=float32, numpy=array([[-0.52917355,  0.52917355]], dtype=float32)>,\n",
       "   <tf.Tensor: shape=(2,), dtype=float32, numpy=array([-0.52917355,  0.52917355], dtype=float32)>],\n",
       "  [<tf.Tensor: shape=(1, 2), dtype=float32, numpy=array([[-0.52917355,  0.52917355]], dtype=float32)>,\n",
       "   <tf.Tensor: shape=(2,), dtype=float32, numpy=array([-0.52917355,  0.52917355], dtype=float32)>],\n",
       "  [<tf.Tensor: shape=(1, 2), dtype=float32, numpy=array([[-0.52917355,  0.52917355]], dtype=float32)>,\n",
       "   <tf.Tensor: shape=(2,), dtype=float32, numpy=array([-0.52917355,  0.52917355], dtype=float32)>],\n",
       "  [<tf.Tensor: shape=(1, 2), dtype=float32, numpy=array([[-0.52917355,  0.52917355]], dtype=float32)>,\n",
       "   <tf.Tensor: shape=(2,), dtype=float32, numpy=array([-0.52917355,  0.52917355], dtype=float32)>],\n",
       "  [<tf.Tensor: shape=(1, 2), dtype=float32, numpy=array([[-0.52917355,  0.52917355]], dtype=float32)>,\n",
       "   <tf.Tensor: shape=(2,), dtype=float32, numpy=array([-0.52917355,  0.52917355], dtype=float32)>],\n",
       "  [<tf.Tensor: shape=(1, 2), dtype=float32, numpy=array([[ 0.47082645, -0.47082645]], dtype=float32)>,\n",
       "   <tf.Tensor: shape=(2,), dtype=float32, numpy=array([ 0.47082645, -0.47082645], dtype=float32)>],\n",
       "  [<tf.Tensor: shape=(1, 2), dtype=float32, numpy=array([[ 0.47082645, -0.47082645]], dtype=float32)>,\n",
       "   <tf.Tensor: shape=(2,), dtype=float32, numpy=array([ 0.47082645, -0.47082645], dtype=float32)>],\n",
       "  [<tf.Tensor: shape=(1, 2), dtype=float32, numpy=array([[-0.52917355,  0.52917355]], dtype=float32)>,\n",
       "   <tf.Tensor: shape=(2,), dtype=float32, numpy=array([-0.52917355,  0.52917355], dtype=float32)>],\n",
       "  [<tf.Tensor: shape=(1, 2), dtype=float32, numpy=array([[ 0.47082645, -0.47082645]], dtype=float32)>,\n",
       "   <tf.Tensor: shape=(2,), dtype=float32, numpy=array([ 0.47082645, -0.47082645], dtype=float32)>],\n",
       "  [<tf.Tensor: shape=(1, 2), dtype=float32, numpy=array([[-0.52917355,  0.52917355]], dtype=float32)>,\n",
       "   <tf.Tensor: shape=(2,), dtype=float32, numpy=array([-0.52917355,  0.52917355], dtype=float32)>],\n",
       "  [<tf.Tensor: shape=(1, 2), dtype=float32, numpy=array([[ 0.47082645, -0.47082645]], dtype=float32)>,\n",
       "   <tf.Tensor: shape=(2,), dtype=float32, numpy=array([ 0.47082645, -0.47082645], dtype=float32)>],\n",
       "  [<tf.Tensor: shape=(1, 2), dtype=float32, numpy=array([[-0.52917355,  0.52917355]], dtype=float32)>,\n",
       "   <tf.Tensor: shape=(2,), dtype=float32, numpy=array([-0.52917355,  0.52917355], dtype=float32)>],\n",
       "  [<tf.Tensor: shape=(1, 2), dtype=float32, numpy=array([[-0.52917355,  0.52917355]], dtype=float32)>,\n",
       "   <tf.Tensor: shape=(2,), dtype=float32, numpy=array([-0.52917355,  0.52917355], dtype=float32)>],\n",
       "  [<tf.Tensor: shape=(1, 2), dtype=float32, numpy=array([[-0.52917355,  0.52917355]], dtype=float32)>,\n",
       "   <tf.Tensor: shape=(2,), dtype=float32, numpy=array([-0.52917355,  0.52917355], dtype=float32)>],\n",
       "  [<tf.Tensor: shape=(1, 2), dtype=float32, numpy=array([[-0.52917355,  0.52917355]], dtype=float32)>,\n",
       "   <tf.Tensor: shape=(2,), dtype=float32, numpy=array([-0.52917355,  0.52917355], dtype=float32)>],\n",
       "  [<tf.Tensor: shape=(1, 2), dtype=float32, numpy=array([[-0.52917355,  0.52917355]], dtype=float32)>,\n",
       "   <tf.Tensor: shape=(2,), dtype=float32, numpy=array([-0.52917355,  0.52917355], dtype=float32)>],\n",
       "  [<tf.Tensor: shape=(1, 2), dtype=float32, numpy=array([[-0.52917355,  0.52917355]], dtype=float32)>,\n",
       "   <tf.Tensor: shape=(2,), dtype=float32, numpy=array([-0.52917355,  0.52917355], dtype=float32)>],\n",
       "  [<tf.Tensor: shape=(1, 2), dtype=float32, numpy=array([[ 0.47082645, -0.47082645]], dtype=float32)>,\n",
       "   <tf.Tensor: shape=(2,), dtype=float32, numpy=array([ 0.47082645, -0.47082645], dtype=float32)>],\n",
       "  [<tf.Tensor: shape=(1, 2), dtype=float32, numpy=array([[ 0.47082645, -0.47082645]], dtype=float32)>,\n",
       "   <tf.Tensor: shape=(2,), dtype=float32, numpy=array([ 0.47082645, -0.47082645], dtype=float32)>],\n",
       "  [<tf.Tensor: shape=(1, 2), dtype=float32, numpy=array([[-0.52917355,  0.52917355]], dtype=float32)>,\n",
       "   <tf.Tensor: shape=(2,), dtype=float32, numpy=array([-0.52917355,  0.52917355], dtype=float32)>],\n",
       "  [<tf.Tensor: shape=(1, 2), dtype=float32, numpy=array([[-0.52917355,  0.52917355]], dtype=float32)>,\n",
       "   <tf.Tensor: shape=(2,), dtype=float32, numpy=array([-0.52917355,  0.52917355], dtype=float32)>],\n",
       "  [<tf.Tensor: shape=(1, 2), dtype=float32, numpy=array([[ 0.47082645, -0.47082645]], dtype=float32)>,\n",
       "   <tf.Tensor: shape=(2,), dtype=float32, numpy=array([ 0.47082645, -0.47082645], dtype=float32)>],\n",
       "  [<tf.Tensor: shape=(1, 2), dtype=float32, numpy=array([[-0.52917355,  0.52917355]], dtype=float32)>,\n",
       "   <tf.Tensor: shape=(2,), dtype=float32, numpy=array([-0.52917355,  0.52917355], dtype=float32)>],\n",
       "  [<tf.Tensor: shape=(1, 2), dtype=float32, numpy=array([[ 0.47082645, -0.47082645]], dtype=float32)>,\n",
       "   <tf.Tensor: shape=(2,), dtype=float32, numpy=array([ 0.47082645, -0.47082645], dtype=float32)>],\n",
       "  [<tf.Tensor: shape=(1, 2), dtype=float32, numpy=array([[ 0.47082645, -0.47082645]], dtype=float32)>,\n",
       "   <tf.Tensor: shape=(2,), dtype=float32, numpy=array([ 0.47082645, -0.47082645], dtype=float32)>],\n",
       "  [<tf.Tensor: shape=(1, 2), dtype=float32, numpy=array([[-0.52917355,  0.52917355]], dtype=float32)>,\n",
       "   <tf.Tensor: shape=(2,), dtype=float32, numpy=array([-0.52917355,  0.52917355], dtype=float32)>],\n",
       "  [<tf.Tensor: shape=(1, 2), dtype=float32, numpy=array([[ 0.47082645, -0.47082645]], dtype=float32)>,\n",
       "   <tf.Tensor: shape=(2,), dtype=float32, numpy=array([ 0.47082645, -0.47082645], dtype=float32)>],\n",
       "  [<tf.Tensor: shape=(1, 2), dtype=float32, numpy=array([[-0.52917355,  0.52917355]], dtype=float32)>,\n",
       "   <tf.Tensor: shape=(2,), dtype=float32, numpy=array([-0.52917355,  0.52917355], dtype=float32)>],\n",
       "  [<tf.Tensor: shape=(1, 2), dtype=float32, numpy=array([[ 0.47082645, -0.47082645]], dtype=float32)>,\n",
       "   <tf.Tensor: shape=(2,), dtype=float32, numpy=array([ 0.47082645, -0.47082645], dtype=float32)>],\n",
       "  [<tf.Tensor: shape=(1, 2), dtype=float32, numpy=array([[ 0.47082645, -0.47082645]], dtype=float32)>,\n",
       "   <tf.Tensor: shape=(2,), dtype=float32, numpy=array([ 0.47082645, -0.47082645], dtype=float32)>],\n",
       "  [<tf.Tensor: shape=(1, 2), dtype=float32, numpy=array([[-0.52917355,  0.52917355]], dtype=float32)>,\n",
       "   <tf.Tensor: shape=(2,), dtype=float32, numpy=array([-0.52917355,  0.52917355], dtype=float32)>],\n",
       "  [<tf.Tensor: shape=(1, 2), dtype=float32, numpy=array([[-0.52917355,  0.52917355]], dtype=float32)>,\n",
       "   <tf.Tensor: shape=(2,), dtype=float32, numpy=array([-0.52917355,  0.52917355], dtype=float32)>],\n",
       "  [<tf.Tensor: shape=(1, 2), dtype=float32, numpy=array([[ 0.47082645, -0.47082645]], dtype=float32)>,\n",
       "   <tf.Tensor: shape=(2,), dtype=float32, numpy=array([ 0.47082645, -0.47082645], dtype=float32)>],\n",
       "  [<tf.Tensor: shape=(1, 2), dtype=float32, numpy=array([[ 0.47082645, -0.47082645]], dtype=float32)>,\n",
       "   <tf.Tensor: shape=(2,), dtype=float32, numpy=array([ 0.47082645, -0.47082645], dtype=float32)>],\n",
       "  [<tf.Tensor: shape=(1, 2), dtype=float32, numpy=array([[ 0.47082645, -0.47082645]], dtype=float32)>,\n",
       "   <tf.Tensor: shape=(2,), dtype=float32, numpy=array([ 0.47082645, -0.47082645], dtype=float32)>],\n",
       "  [<tf.Tensor: shape=(1, 2), dtype=float32, numpy=array([[-0.52917355,  0.52917355]], dtype=float32)>,\n",
       "   <tf.Tensor: shape=(2,), dtype=float32, numpy=array([ 0.52917355, -0.52917355], dtype=float32)>],\n",
       "  [<tf.Tensor: shape=(1, 2), dtype=float32, numpy=array([[ 0.47082645, -0.47082645]], dtype=float32)>,\n",
       "   <tf.Tensor: shape=(2,), dtype=float32, numpy=array([-0.47082645,  0.47082645], dtype=float32)>],\n",
       "  [<tf.Tensor: shape=(1, 2), dtype=float32, numpy=array([[ 0.47082645, -0.47082645]], dtype=float32)>,\n",
       "   <tf.Tensor: shape=(2,), dtype=float32, numpy=array([-0.47082645,  0.47082645], dtype=float32)>],\n",
       "  [<tf.Tensor: shape=(1, 2), dtype=float32, numpy=array([[-0.52917355,  0.52917355]], dtype=float32)>,\n",
       "   <tf.Tensor: shape=(2,), dtype=float32, numpy=array([-0.52917355,  0.52917355], dtype=float32)>],\n",
       "  [<tf.Tensor: shape=(1, 2), dtype=float32, numpy=array([[ 0.47082645, -0.47082645]], dtype=float32)>,\n",
       "   <tf.Tensor: shape=(2,), dtype=float32, numpy=array([ 0.47082645, -0.47082645], dtype=float32)>],\n",
       "  [<tf.Tensor: shape=(1, 2), dtype=float32, numpy=array([[-0.52917355,  0.52917355]], dtype=float32)>,\n",
       "   <tf.Tensor: shape=(2,), dtype=float32, numpy=array([-0.52917355,  0.52917355], dtype=float32)>],\n",
       "  [<tf.Tensor: shape=(1, 2), dtype=float32, numpy=array([[-0.52917355,  0.52917355]], dtype=float32)>,\n",
       "   <tf.Tensor: shape=(2,), dtype=float32, numpy=array([-0.52917355,  0.52917355], dtype=float32)>],\n",
       "  [<tf.Tensor: shape=(1, 2), dtype=float32, numpy=array([[-0.52917355,  0.52917355]], dtype=float32)>,\n",
       "   <tf.Tensor: shape=(2,), dtype=float32, numpy=array([-0.52917355,  0.52917355], dtype=float32)>],\n",
       "  [<tf.Tensor: shape=(1, 2), dtype=float32, numpy=array([[ 0.47082645, -0.47082645]], dtype=float32)>,\n",
       "   <tf.Tensor: shape=(2,), dtype=float32, numpy=array([ 0.47082645, -0.47082645], dtype=float32)>],\n",
       "  [<tf.Tensor: shape=(1, 2), dtype=float32, numpy=array([[-0.52917355,  0.52917355]], dtype=float32)>,\n",
       "   <tf.Tensor: shape=(2,), dtype=float32, numpy=array([-0.52917355,  0.52917355], dtype=float32)>],\n",
       "  [<tf.Tensor: shape=(1, 2), dtype=float32, numpy=array([[ 0.47082645, -0.47082645]], dtype=float32)>,\n",
       "   <tf.Tensor: shape=(2,), dtype=float32, numpy=array([ 0.47082645, -0.47082645], dtype=float32)>],\n",
       "  [<tf.Tensor: shape=(1, 2), dtype=float32, numpy=array([[ 0.47082645, -0.47082645]], dtype=float32)>,\n",
       "   <tf.Tensor: shape=(2,), dtype=float32, numpy=array([ 0.47082645, -0.47082645], dtype=float32)>]],\n",
       " 'rewards': [0.4575727424628989,\n",
       "  0.5070058088231567,\n",
       "  0.4575727424628989,\n",
       "  0.41503196595274283,\n",
       "  0.4575727424628989,\n",
       "  0.5070058088231567,\n",
       "  0.4575727424628989,\n",
       "  0.5070058088231567,\n",
       "  0.5649046203245667,\n",
       "  0.6333186746891335,\n",
       "  0.5649046203245667,\n",
       "  0.6333186746891335,\n",
       "  0.7149574100982797,\n",
       "  0.6333186746891335,\n",
       "  0.5649046203245667,\n",
       "  0.6333186746891335,\n",
       "  0.7149574100982797,\n",
       "  0.8134626532673759,\n",
       "  0.9338219233936713,\n",
       "  0.8134626532673759,\n",
       "  0.9338219233936713,\n",
       "  0.8134626532673759,\n",
       "  0.9338219233936713,\n",
       "  0.9233504551120791,\n",
       "  0.9338219233936713,\n",
       "  0.8134626532673759,\n",
       "  0.9338219233936713,\n",
       "  0.8134626532673759,\n",
       "  0.9338219233936713,\n",
       "  0.8134626532673759,\n",
       "  0.9338219233936713,\n",
       "  0.9233504551120791,\n",
       "  0.9338219233936713,\n",
       "  0.9233504551120791,\n",
       "  0.9338219233936713,\n",
       "  0.9233504551120791,\n",
       "  0.7867601511014166,\n",
       "  0.9233504551120791,\n",
       "  0.7867601511014166,\n",
       "  0.661097071411607,\n",
       "  0.5463612160426504,\n",
       "  0.661097071411607,\n",
       "  0.5463612160426504,\n",
       "  0.5463612160426504,\n",
       "  0.5463612160426504,\n",
       "  0.661097071411607,\n",
       "  0.5463612160426504,\n",
       "  0.661097071411607,\n",
       "  0.7867601511014166,\n",
       "  0.9233504551120791,\n",
       "  0.7867601511014166,\n",
       "  0.661097071411607,\n",
       "  0.7867601511014166,\n",
       "  0.661097071411607,\n",
       "  0.7867601511014166,\n",
       "  0.661097071411607,\n",
       "  0.7867601511014166,\n",
       "  0.661097071411607,\n",
       "  0.5463612160426504,\n",
       "  0.661097071411607,\n",
       "  0.7867601511014166,\n",
       "  0.9233504551120791,\n",
       "  0.7867601511014166,\n",
       "  0.661097071411607,\n",
       "  0.7867601511014166,\n",
       "  0.661097071411607,\n",
       "  0.5463612160426504,\n",
       "  0.5463612160426504,\n",
       "  0.5463612160426504,\n",
       "  0.661097071411607,\n",
       "  0.5463612160426504,\n",
       "  0.5463612160426504,\n",
       "  0.661097071411607,\n",
       "  0.7867601511014166,\n",
       "  0.9233504551120791,\n",
       "  0.9338219233936713,\n",
       "  0.8134626532673759,\n",
       "  0.9338219233936713,\n",
       "  0.9233504551120791,\n",
       "  0.7867601511014166,\n",
       "  0.661097071411607,\n",
       "  0.7867601511014166,\n",
       "  0.9233504551120791,\n",
       "  0.7867601511014166,\n",
       "  0.9233504551120791,\n",
       "  0.9338219233936713,\n",
       "  0.9233504551120791,\n",
       "  0.7867601511014166,\n",
       "  0.9233504551120791,\n",
       "  0.7867601511014166,\n",
       "  0.9233504551120791,\n",
       "  0.9338219233936713,\n",
       "  0.9233504551120791,\n",
       "  0.7867601511014166,\n",
       "  0.661097071411607,\n",
       "  0.7867601511014166,\n",
       "  0.661097071411607,\n",
       "  0.5463612160426504,\n",
       "  0.661097071411607,\n",
       "  0.5463612160426504,\n",
       "  0.5463612160426504,\n",
       "  0.661097071411607,\n",
       "  0.5463612160426504,\n",
       "  0.5463612160426504,\n",
       "  0.5463612160426504,\n",
       "  0.5463612160426504,\n",
       "  0.661097071411607,\n",
       "  0.7867601511014166,\n",
       "  0.661097071411607,\n",
       "  0.5463612160426504,\n",
       "  0.661097071411607,\n",
       "  0.5463612160426504,\n",
       "  0.661097071411607,\n",
       "  0.5463612160426504,\n",
       "  0.661097071411607,\n",
       "  0.7867601511014166,\n",
       "  0.9233504551120791,\n",
       "  0.7867601511014166,\n",
       "  0.661097071411607,\n",
       "  0.7867601511014166,\n",
       "  0.661097071411607,\n",
       "  0.5463612160426504,\n",
       "  0.5463612160426504,\n",
       "  0.661097071411607,\n",
       "  0.5463612160426504,\n",
       "  0.661097071411607,\n",
       "  0.5463612160426504,\n",
       "  0.661097071411607,\n",
       "  0.5463612160426504,\n",
       "  0.661097071411607,\n",
       "  0.5463612160426504,\n",
       "  0.5463612160426504,\n",
       "  0.661097071411607,\n",
       "  0.5463612160426504,\n",
       "  0.661097071411607,\n",
       "  0.5463612160426504,\n",
       "  0.5463612160426504,\n",
       "  0.661097071411607,\n",
       "  0.7867601511014166,\n",
       "  0.9233504551120791,\n",
       "  0.7867601511014166,\n",
       "  0.661097071411607,\n",
       "  0.5463612160426504,\n",
       "  0.5463612160426504,\n",
       "  0.5463612160426504,\n",
       "  0.5463612160426504,\n",
       "  0.5463612160426504,\n",
       "  0.661097071411607,\n",
       "  0.5463612160426504,\n",
       "  0.5463612160426504,\n",
       "  0.661097071411607,\n",
       "  0.7867601511014166,\n",
       "  0.9233504551120791,\n",
       "  0.7867601511014166,\n",
       "  0.661097071411607,\n",
       "  0.5463612160426504,\n",
       "  0.5463612160426504,\n",
       "  0.5463612160426504,\n",
       "  0.661097071411607,\n",
       "  0.7867601511014166,\n",
       "  0.661097071411607,\n",
       "  0.7867601511014166,\n",
       "  0.661097071411607,\n",
       "  0.7867601511014166,\n",
       "  0.661097071411607,\n",
       "  0.5463612160426504,\n",
       "  0.5463612160426504,\n",
       "  0.5463612160426504,\n",
       "  0.5463612160426504,\n",
       "  0.5463612160426504,\n",
       "  0.661097071411607,\n",
       "  0.7867601511014166,\n",
       "  0.661097071411607,\n",
       "  0.5463612160426504,\n",
       "  0.661097071411607,\n",
       "  0.5463612160426504,\n",
       "  0.661097071411607,\n",
       "  0.7867601511014166,\n",
       "  0.661097071411607,\n",
       "  0.7867601511014166,\n",
       "  0.661097071411607,\n",
       "  0.7867601511014166,\n",
       "  0.9233504551120791,\n",
       "  0.7867601511014166,\n",
       "  0.661097071411607,\n",
       "  0.7867601511014166,\n",
       "  0.9233504551120791,\n",
       "  0.9338219233936713,\n",
       "  0.8134626532673759,\n",
       "  0.9338219233936713,\n",
       "  0.9233504551120791,\n",
       "  0.7867601511014166,\n",
       "  0.9233504551120791,\n",
       "  0.7867601511014166,\n",
       "  0.661097071411607,\n",
       "  0.5463612160426504,\n",
       "  0.661097071411607,\n",
       "  0.5463612160426504,\n",
       "  0.661097071411607,\n",
       "  0.7867601511014166],\n",
       " 'target': -647.1175328759724}"
      ]
     },
     "execution_count": 30,
     "metadata": {
      "tags": []
     },
     "output_type": "execute_result"
    }
   ],
   "source": [
    "result = play(env, model)\n",
    "result"
   ]
  },
  {
   "cell_type": "code",
   "execution_count": 26,
   "metadata": {
    "id": "B0l2Zp23jaZq"
   },
   "outputs": [],
   "source": [
    "import matplotlib.pyplot as plt"
   ]
  },
  {
   "cell_type": "code",
   "execution_count": 27,
   "metadata": {
    "id": "HcE_hHEejab4"
   },
   "outputs": [],
   "source": [
    "actions = result['actions']\n",
    "target = result['target']"
   ]
  },
  {
   "cell_type": "code",
   "execution_count": 28,
   "metadata": {
    "id": "7cXyKCN1jaeU"
   },
   "outputs": [],
   "source": [
    "t = np.arange(len(actions))\n",
    "# episode의 길이 (가로축)"
   ]
  },
  {
   "cell_type": "code",
   "execution_count": 29,
   "metadata": {
    "colab": {
     "base_uri": "https://localhost:8080/",
     "height": 288
    },
    "id": "XIT9zkbPjags",
    "outputId": "25b98009-7931-4ca8-8ce8-c1c0328804da"
   },
   "outputs": [
    {
     "data": {
      "text/plain": [
       "(-1000.0, 1000.0)"
      ]
     },
     "execution_count": 29,
     "metadata": {
      "tags": []
     },
     "output_type": "execute_result"
    },
    {
     "data": {
      "image/png": "[encoded data removed]",
      "text/plain": [
       "<Figure size 432x288 with 1 Axes>"
      ]
     },
     "metadata": {
      "needs_background": "light",
      "tags": []
     },
     "output_type": "display_data"
    }
   ],
   "source": [
    "plt.plot(t, actions)\n",
    "plt.plot([0, 199], [target, target], linestyle='dashed', color='lightgrey') # 정답; 회색의 점선\n",
    "plt.ylim(-1000, 1000)"
   ]
  },
  {
   "cell_type": "markdown",
   "metadata": {
    "id": "ieZBInf8jubZ"
   },
   "source": [
    "Gym 실습 (3) REINFORCE 구현"
   ]
  },
  {
   "cell_type": "code",
   "execution_count": 31,
   "metadata": {
    "id": "OYuL0ZKRjai-"
   },
   "outputs": [],
   "source": [
    "optimizer = tf.keras.optimizers.SGD(learning_rate=0.05)\n",
    "# 경사상승법 알고리즘 SGD 사용\n",
    "# 경사상승법은 손실 함수에 - 붙히지만, 상승법에서는 그대로 사용"
   ]
  },
  {
   "cell_type": "code",
   "execution_count": 32,
   "metadata": {
    "id": "kahPpn5TjalP"
   },
   "outputs": [],
   "source": [
    "model = tf.keras.Sequential([\n",
    "    tf.keras.layers.Dense(2, input_shape=(1, ))                             \n",
    "])\n",
    "# 모델을 재사용하기 번거롭기 때문에, 다시 한 번 정의"
   ]
  },
  {
   "cell_type": "code",
   "execution_count": 33,
   "metadata": {
    "colab": {
     "base_uri": "https://localhost:8080/"
    },
    "id": "EtLZwqOijanq",
    "outputId": "6a75625d-bc77-4990-a8b2-030d887489f3"
   },
   "outputs": [
    {
     "data": {
      "text/plain": [
       "[<tf.Variable 'dense_1/kernel:0' shape=(1, 2) dtype=float32, numpy=array([[-1.0754551 , -0.91890883]], dtype=float32)>,\n",
       " <tf.Variable 'dense_1/bias:0' shape=(2,) dtype=float32, numpy=array([0., 0.], dtype=float32)>]"
      ]
     },
     "execution_count": 33,
     "metadata": {
      "tags": []
     },
     "output_type": "execute_result"
    }
   ],
   "source": [
    "model.trainable_weights\n",
    "# 두 종류의 출력\n",
    "# kernel : 입력값에 곱해지는 것\n",
    "# bias : 출력에 더해지는 부분\n",
    "# 출력의 종류가 늘어난다면?"
   ]
  },
  {
   "cell_type": "code",
   "execution_count": 39,
   "metadata": {
    "colab": {
     "base_uri": "https://localhost:8080/"
    },
    "id": "iMoHxJ4ntawf",
    "outputId": "9ae32e13-57c7-40a4-eb2e-e7579cdbf687"
   },
   "outputs": [
    {
     "data": {
      "text/plain": [
       "[<tf.Variable 'dense_2/kernel:0' shape=(1, 4) dtype=float32, numpy=\n",
       " array([[ 0.6995666 ,  0.30662537, -0.44211614,  0.18739927]],\n",
       "       dtype=float32)>,\n",
       " <tf.Variable 'dense_2/bias:0' shape=(4,) dtype=float32, numpy=array([0., 0., 0., 0.], dtype=float32)>]"
      ]
     },
     "execution_count": 39,
     "metadata": {
      "tags": []
     },
     "output_type": "execute_result"
    }
   ],
   "source": [
    "model2 = tf.keras.Sequential([\n",
    "    tf.keras.layers.Dense(4, input_shape=(1, ))                             \n",
    "])\n",
    "model2.trainable_weights"
   ]
  },
  {
   "cell_type": "code",
   "execution_count": 34,
   "metadata": {
    "colab": {
     "base_uri": "https://localhost:8080/"
    },
    "id": "YnhwAoZpjaqQ",
    "outputId": "efeeb475-074e-42ef-8dd0-7a2ab1ab4c69"
   },
   "outputs": [
    {
     "data": {
      "text/plain": [
       "<tf.Tensor: shape=(2, 2), dtype=float32, numpy=\n",
       "array([[0.46094316, 0.53905684],\n",
       "       [0.53905684, 0.46094316]], dtype=float32)>"
      ]
     },
     "execution_count": 34,
     "metadata": {
      "tags": []
     },
     "output_type": "execute_result"
    }
   ],
   "source": [
    "tf.nn.softmax(model(np.array([[1.0], [-1.0]])))\n",
    "# 작다고 나오면 53%의 확률로 올리고, 위의 행은 정답보다 작게 예측한 경우의 (내려가는 확률, 올라가는 확률)\n",
    "# 크다고 나오면 53%의 확률로 내림,   아래의 행은 정답보다 크게 예측한 경우의 (내려가는 확률, 올라가는 확률)"
   ]
  },
  {
   "cell_type": "code",
   "execution_count": 38,
   "metadata": {
    "colab": {
     "base_uri": "https://localhost:8080/",
     "height": 288
    },
    "id": "kCGRc0H0j0yu",
    "outputId": "ae5bd96b-1f97-43c2-d0ab-24529b5ae814"
   },
   "outputs": [
    {
     "data": {
      "text/plain": [
       "(-1000.0, 1000.0)"
      ]
     },
     "execution_count": 38,
     "metadata": {
      "tags": []
     },
     "output_type": "execute_result"
    },
    {
     "data": {
      "image/png": "[encoded data removed]",
      "text/plain": [
       "<Figure size 432x288 with 1 Axes>"
      ]
     },
     "metadata": {
      "needs_background": "light",
      "tags": []
     },
     "output_type": "display_data"
    }
   ],
   "source": [
    "result = play(env, model) \n",
    "# 별도의 학습이 없어도 초기값이 잘 잡혀있다면, 학습을 진행\n",
    "# 초기 값을 변환시키기 위해서 다시 모형을 설정하면 됨 (다른 방법은 없는가?)\n",
    "plt.plot(t, result['actions'])\n",
    "plt.plot([0, 199], [result['target'], result['target']], linestyle='dashed', color='lightgrey')\n",
    "plt.ylim(-1000, 1000)"
   ]
  },
  {
   "cell_type": "code",
   "execution_count": 36,
   "metadata": {
    "id": "xDP1QGsQj01G"
   },
   "outputs": [],
   "source": [
    "rewards = result['rewards'][1:]\n",
    "# 0으로 시작한 것의 reward까지 포함되어 있어서 gradient는 첫 번째는 고정이라 제외하고 199개이기 때문에 reward도 처음을 빼고 계산"
   ]
  },
  {
   "cell_type": "code",
   "execution_count": 37,
   "metadata": {
    "id": "D290VjGwj033"
   },
   "outputs": [],
   "source": [
    "# param <- param + G * gradient logprob\n",
    "# G 만 정해주면 됨 (rewards를 그대로 return 값으로 활용 등)\n",
    "# 할인이 0이라고 가정하면 return과 reward가 동일해짐\n",
    "for reward, grad in zip(rewards, result['grads']):\n",
    "    update = [(reward - 0.5) * g for g in grad] # grad는 하나의 입력을 받아 두 개의 출력을 나타내기 때문에, 계산을 두 번 해줘야함\n",
    "                                                # 확률이 반대로 되어 있을 경우, reward가 0~1 사이의 +이기 때문에 바깥쪽으로 벗어나도 보상이 + 이므로 학습이 불안정\n",
    "                                                # 학습을 안정화시키기 위해 기저선으로 0.5를 설정\n",
    "    optimizer.apply_gradients(zip(update, model.trainable_weights)) # 각각의 파라미터에 reward를 더해줌"
   ]
  },
  {
   "cell_type": "markdown",
   "metadata": {
    "id": "czGLkpnKj_5A"
   },
   "source": [
    "자연어 생성에 강화학습 적용"
   ]
  },
  {
   "cell_type": "code",
   "execution_count": 40,
   "metadata": {
    "colab": {
     "base_uri": "https://localhost:8080/"
    },
    "id": "vAA3yriwj06E",
    "outputId": "79e3c9f6-701a-4787-edea-d5ee5e6788c9"
   },
   "outputs": [
    {
     "name": "stdout",
     "output_type": "stream",
     "text": [
      "Collecting transformers\n",
      "\u001b[?25l  Downloading https://files.pythonhosted.org/packages/d5/43/cfe4ee779bbd6a678ac6a97c5a5cdeb03c35f9eaebbb9720b036680f9a2d/transformers-4.6.1-py3-none-any.whl (2.2MB)\n",
      "\u001b[K     |████████████████████████████████| 2.3MB 27.3MB/s \n",
      "\u001b[?25hRequirement already satisfied: tqdm>=4.27 in /usr/local/lib/python3.7/dist-packages (from transformers) (4.41.1)\n",
      "Requirement already satisfied: numpy>=1.17 in /usr/local/lib/python3.7/dist-packages (from transformers) (1.19.5)\n",
      "Collecting tokenizers<0.11,>=0.10.1\n",
      "\u001b[?25l  Downloading https://files.pythonhosted.org/packages/d4/e2/df3543e8ffdab68f5acc73f613de9c2b155ac47f162e725dcac87c521c11/tokenizers-0.10.3-cp37-cp37m-manylinux_2_5_x86_64.manylinux1_x86_64.manylinux_2_12_x86_64.manylinux2010_x86_64.whl (3.3MB)\n",
      "\u001b[K     |████████████████████████████████| 3.3MB 49.9MB/s \n",
      "\u001b[?25hRequirement already satisfied: regex!=2019.12.17 in /usr/local/lib/python3.7/dist-packages (from transformers) (2019.12.20)\n",
      "Requirement already satisfied: importlib-metadata; python_version < \"3.8\" in /usr/local/lib/python3.7/dist-packages (from transformers) (4.0.1)\n",
      "Requirement already satisfied: filelock in /usr/local/lib/python3.7/dist-packages (from transformers) (3.0.12)\n",
      "Requirement already satisfied: requests in /usr/local/lib/python3.7/dist-packages (from transformers) (2.23.0)\n",
      "Collecting sacremoses\n",
      "\u001b[?25l  Downloading https://files.pythonhosted.org/packages/75/ee/67241dc87f266093c533a2d4d3d69438e57d7a90abb216fa076e7d475d4a/sacremoses-0.0.45-py3-none-any.whl (895kB)\n",
      "\u001b[K     |████████████████████████████████| 901kB 44.6MB/s \n",
      "\u001b[?25hRequirement already satisfied: packaging in /usr/local/lib/python3.7/dist-packages (from transformers) (20.9)\n",
      "Collecting huggingface-hub==0.0.8\n",
      "  Downloading https://files.pythonhosted.org/packages/a1/88/7b1e45720ecf59c6c6737ff332f41c955963090a18e72acbcbeac6b25e86/huggingface_hub-0.0.8-py3-none-any.whl\n",
      "Requirement already satisfied: typing-extensions>=3.6.4; python_version < \"3.8\" in /usr/local/lib/python3.7/dist-packages (from importlib-metadata; python_version < \"3.8\"->transformers) (3.7.4.3)\n",
      "Requirement already satisfied: zipp>=0.5 in /usr/local/lib/python3.7/dist-packages (from importlib-metadata; python_version < \"3.8\"->transformers) (3.4.1)\n",
      "Requirement already satisfied: urllib3!=1.25.0,!=1.25.1,<1.26,>=1.21.1 in /usr/local/lib/python3.7/dist-packages (from requests->transformers) (1.24.3)\n",
      "Requirement already satisfied: chardet<4,>=3.0.2 in /usr/local/lib/python3.7/dist-packages (from requests->transformers) (3.0.4)\n",
      "Requirement already satisfied: certifi>=2017.4.17 in /usr/local/lib/python3.7/dist-packages (from requests->transformers) (2020.12.5)\n",
      "Requirement already satisfied: idna<3,>=2.5 in /usr/local/lib/python3.7/dist-packages (from requests->transformers) (2.10)\n",
      "Requirement already satisfied: six in /usr/local/lib/python3.7/dist-packages (from sacremoses->transformers) (1.15.0)\n",
      "Requirement already satisfied: joblib in /usr/local/lib/python3.7/dist-packages (from sacremoses->transformers) (1.0.1)\n",
      "Requirement already satisfied: click in /usr/local/lib/python3.7/dist-packages (from sacremoses->transformers) (7.1.2)\n",
      "Requirement already satisfied: pyparsing>=2.0.2 in /usr/local/lib/python3.7/dist-packages (from packaging->transformers) (2.4.7)\n",
      "Installing collected packages: tokenizers, sacremoses, huggingface-hub, transformers\n",
      "Successfully installed huggingface-hub-0.0.8 sacremoses-0.0.45 tokenizers-0.10.3 transformers-4.6.1\n"
     ]
    }
   ],
   "source": [
    "# GPT2를 이용한 자연어 생성에서 강화 학습을 통해 같은 단어가 반복되는 문제를 억제\n",
    "!pip install transformers"
   ]
  },
  {
   "cell_type": "code",
   "execution_count": 41,
   "metadata": {
    "id": "oX69nmD7j08h"
   },
   "outputs": [],
   "source": [
    "import tensorflow as tf\n",
    "from transformers import TFAutoModelForCausalLM, AutoTokenizer"
   ]
  },
  {
   "cell_type": "code",
   "execution_count": 42,
   "metadata": {
    "colab": {
     "base_uri": "https://localhost:8080/",
     "height": 365,
     "referenced_widgets": [
      "83e1f45c80834a18b2d6b10c2a92b5df",
      "9f96a75bbc4f4be78512b4ca83c1fae4",
      "44f9bd5794db49568b11661427b9c924",
      "500814699949415ead1950938d15cea4",
      "161f97425440430e842fca34e13ab687",
      "0aefa3070cdf4381a0aaec78ba70e7ef",
      "1583b92258dc43f0be269f3f5939ae1f",
      "33d2e6d5f24543828ffdc5475b37ed19",
      "97f777fad8eb46a78b48681192debce2",
      "4ac9fc85df9b45558d1b3671ca312cd5",
      "b3fc0fda8a344982bf1e902a5193f5a7",
      "915edc7edf094e16b5c44c8ecedd6d70",
      "618cd7ab6f044c6f9cfebb7e5d9828b1",
      "8216b92dcac049ecbfae83cffb06bfac",
      "10dcda1651ce49bd8923109e3952f336",
      "6e82e896d5ff4d7bb2d2affe89828701",
      "06bbc570d83b49e5bd7669c771106e5a",
      "3a29d6d6b985453783b0cba4d8fab8ac",
      "c546f3812a99452480481048671a0301",
      "45bcefeafd704d6c8a2eef7fa31d4f92",
      "404352b09ee848c583f246bd4fa5637d",
      "a3d1cc9e2619402b9c6d75bf70d6251f",
      "611b8ad09c2748afbfd2d1bf7e5da4e8",
      "ce01f90f05e84232bed0834e9ed6ef25",
      "73baebed5eb74c4cb0364237f301aec8",
      "8563d6f3413449c6b0121cd1bbd43ce7",
      "8493eaf0663047078ae7fd4dffaa337f",
      "08adb593c7644888b7a05f104c2eb02a",
      "799ebd4df8804051a878505cef5acc1d",
      "a426c91963054295ae2608c82de67f7b",
      "6a1dfc3d39874c3a82bff257fde020b5",
      "245b17e9f3a24a13942a91a8df243345",
      "089c5fd81751411b81971065f6aff55b",
      "26efa6195436407c84c345577e92b2ae",
      "f6e18d2f379541219ab586deca99503e",
      "390ef7d061aa4a228b354a98418a121b",
      "e5a0a7aa5aca4163a3437770b91ec7c6",
      "b4f93884ee804972b548fdd2d340a6c3",
      "03942e8503174336ad181be8f6f4fbf1",
      "65811f0d051a411eb4ccf333f05b1083"
     ]
    },
    "id": "jUP3Xuixj0-s",
    "outputId": "ea515be7-8e1a-463f-bb4f-ef7f7796a7b2"
   },
   "outputs": [
    {
     "data": {
      "application/vnd.jupyter.widget-view+json": {
       "model_id": "83e1f45c80834a18b2d6b10c2a92b5df",
       "version_major": 2,
       "version_minor": 0
      },
      "text/plain": [
       "HBox(children=(FloatProgress(value=0.0, description='Downloading', max=665.0, style=ProgressStyle(description_…"
      ]
     },
     "metadata": {
      "tags": []
     },
     "output_type": "display_data"
    },
    {
     "name": "stdout",
     "output_type": "stream",
     "text": [
      "\n"
     ]
    },
    {
     "data": {
      "application/vnd.jupyter.widget-view+json": {
       "model_id": "97f777fad8eb46a78b48681192debce2",
       "version_major": 2,
       "version_minor": 0
      },
      "text/plain": [
       "HBox(children=(FloatProgress(value=0.0, description='Downloading', max=1042301.0, style=ProgressStyle(descript…"
      ]
     },
     "metadata": {
      "tags": []
     },
     "output_type": "display_data"
    },
    {
     "name": "stdout",
     "output_type": "stream",
     "text": [
      "\n"
     ]
    },
    {
     "data": {
      "application/vnd.jupyter.widget-view+json": {
       "model_id": "06bbc570d83b49e5bd7669c771106e5a",
       "version_major": 2,
       "version_minor": 0
      },
      "text/plain": [
       "HBox(children=(FloatProgress(value=0.0, description='Downloading', max=456318.0, style=ProgressStyle(descripti…"
      ]
     },
     "metadata": {
      "tags": []
     },
     "output_type": "display_data"
    },
    {
     "name": "stdout",
     "output_type": "stream",
     "text": [
      "\n"
     ]
    },
    {
     "data": {
      "application/vnd.jupyter.widget-view+json": {
       "model_id": "73baebed5eb74c4cb0364237f301aec8",
       "version_major": 2,
       "version_minor": 0
      },
      "text/plain": [
       "HBox(children=(FloatProgress(value=0.0, description='Downloading', max=1355256.0, style=ProgressStyle(descript…"
      ]
     },
     "metadata": {
      "tags": []
     },
     "output_type": "display_data"
    },
    {
     "name": "stdout",
     "output_type": "stream",
     "text": [
      "\n"
     ]
    },
    {
     "data": {
      "application/vnd.jupyter.widget-view+json": {
       "model_id": "089c5fd81751411b81971065f6aff55b",
       "version_major": 2,
       "version_minor": 0
      },
      "text/plain": [
       "HBox(children=(FloatProgress(value=0.0, description='Downloading', max=497933648.0, style=ProgressStyle(descri…"
      ]
     },
     "metadata": {
      "tags": []
     },
     "output_type": "display_data"
    },
    {
     "name": "stdout",
     "output_type": "stream",
     "text": [
      "\n"
     ]
    },
    {
     "name": "stderr",
     "output_type": "stream",
     "text": [
      "All model checkpoint layers were used when initializing TFGPT2LMHeadModel.\n",
      "\n",
      "All the layers of TFGPT2LMHeadModel were initialized from the model checkpoint at gpt2.\n",
      "If your task is similar to the task the model of the checkpoint was trained on, you can already use TFGPT2LMHeadModel for predictions without further training.\n"
     ]
    }
   ],
   "source": [
    "tokenizer = AutoTokenizer.from_pretrained('gpt2')\n",
    "model = TFAutoModelForCausalLM.from_pretrained('gpt2')"
   ]
  },
  {
   "cell_type": "code",
   "execution_count": 43,
   "metadata": {
    "id": "sFK7lwCTj1BG"
   },
   "outputs": [],
   "source": [
    "input_ids = tokenizer.encode('I like this movie', return_tensors='tf')\n",
    "# 모형에 문장을 넣어, 이후에 나올 단어를 형성"
   ]
  },
  {
   "cell_type": "code",
   "execution_count": 44,
   "metadata": {
    "colab": {
     "base_uri": "https://localhost:8080/"
    },
    "id": "MCxENqydkDZ0",
    "outputId": "0300f366-79c1-4846-9c4e-bc3e7437dcd5"
   },
   "outputs": [
    {
     "name": "stderr",
     "output_type": "stream",
     "text": [
      "Setting `pad_token_id` to 50256 (first `eos_token_id`) to generate sequence\n"
     ]
    }
   ],
   "source": [
    "result = model.generate(input_ids, max_length=50)\n",
    "# 최대 길이 50으로 이어지는 문장을 생성\n",
    "# greedy method를 통해 생성하게 됨 (가장 확률이 높은 단어순으로 이어 붙히게 됨)"
   ]
  },
  {
   "cell_type": "code",
   "execution_count": 45,
   "metadata": {
    "colab": {
     "base_uri": "https://localhost:8080/",
     "height": 55
    },
    "id": "_hkhbLiakDcD",
    "outputId": "732e021e-5406-463d-ed42-f67e31d8c76e"
   },
   "outputs": [
    {
     "data": {
      "application/vnd.google.colaboratory.intrinsic+json": {
       "type": "string"
      },
      "text/plain": [
       "\"I like this movie. I like the way it's set up. I like the way it's set up. I like the way it's set up. I like the way it's set up. I like the way it's set up.\""
      ]
     },
     "execution_count": 45,
     "metadata": {
      "tags": []
     },
     "output_type": "execute_result"
    }
   ],
   "source": [
    "tokenizer.decode(result[0])\n",
    "# 결과를 문장 형태로 변환\n",
    "# 학습 단계에선 억제하기 어렵기 때문에, 생성 단계에서 대응하게 됨 (지도 학습)"
   ]
  },
  {
   "cell_type": "code",
   "execution_count": 46,
   "metadata": {
    "id": "pJ5YA7OEkDeX"
   },
   "outputs": [],
   "source": [
    "res = result[0]\n",
    "# 같은 표현이 얼마나 반복되는지 점수화를 해야함\n",
    "# 타겟 문장을 변수로 지정"
   ]
  },
  {
   "cell_type": "code",
   "execution_count": 47,
   "metadata": {
    "id": "LXQjvMwCkDgq"
   },
   "outputs": [],
   "source": [
    "from collections import Counter\n",
    "# 같은 단어의 반복보다 일정 표현의 반복이 문제가 큼 (tri-gram 등)\n",
    "# 같은 세 단어가 얼마나 나왔는가?\n",
    "# 갯수를 셀 때 사용할 수 있는 사전 (Counter) = 기본 값이 있어서 한 번 나올 때마다 Counter에 1씩 더해줌"
   ]
  },
  {
   "cell_type": "code",
   "execution_count": 48,
   "metadata": {
    "id": "Ax7TegmMkDix"
   },
   "outputs": [],
   "source": [
    "def score(res):\n",
    "    counter = Counter() # Counter 초기화\n",
    "    tokens = res.numpy() # tensor flow 형식을 numpy 형식으로 변환\n",
    "    for i in range(0, len(tokens) - 3): # 3 개 토큰을 단위로 측정하기 때문에 -3\n",
    "        trigram = tokens[i:i+3] # 0부터 3까지 기록하며 trigram 탐색\n",
    "        trigram = tuple(trigram) # dictionary에 입력하기 위해 튜플 형식으로 변환\n",
    "        counter[trigram] += 1 # 토큰의 번호와 반복 횟수를 기록 (counter 변수)\n",
    "    return len(counter) / sum(counter.values()) # 세 단어 조합의 종류 / 세 단어 조합의 총 갯수"
   ]
  },
  {
   "cell_type": "code",
   "execution_count": 49,
   "metadata": {
    "colab": {
     "base_uri": "https://localhost:8080/"
    },
    "id": "STGvHA98kGeQ",
    "outputId": "c506946a-77cd-4505-d2d3-259944a2ca75"
   },
   "outputs": [
    {
     "data": {
      "text/plain": [
       "0.2765957446808511"
      ]
     },
     "execution_count": 49,
     "metadata": {
      "tags": []
     },
     "output_type": "execute_result"
    }
   ],
   "source": [
    "score(res) # 14/47\n",
    "# 27%만 새로운 trigram 이며, 나머지는 반복\n",
    "# 이 점수를 높이도록 강화 학습 진행"
   ]
  },
  {
   "cell_type": "code",
   "execution_count": 50,
   "metadata": {
    "id": "2WBZ56ErkGhV"
   },
   "outputs": [],
   "source": [
    "with tf.GradientTape() as tape:\n",
    "    output = model(result, labels=result) # 내장된 교차엔트로피 계산 함수, 모델에 입력할 때 정답을 넣어주면 교차 엔트로피 계산, 정답이 따로 없기 때문에 자기 자신과 비교\n",
    "    s = score(result[0])\n",
    "    loss = (s - 0.5) * output[0] # 점수와 교차 엔트로피의 곱, 점수의 계산이 복잡하기 때문에 예제이므로 점수를 return 이라고 판단\n",
    "    # s가 문장의 반복을 고려하는데, 이러한 학습을 실제로 적용하면, 반복만 적게 되고 말이 안되는 문장을 고안할 수 있음\n",
    "    mean_loss = tf.reduce_mean(loss) # 손실의 평균을 구함"
   ]
  },
  {
   "cell_type": "code",
   "execution_count": 51,
   "metadata": {
    "id": "KYDXOFW4kH9y"
   },
   "outputs": [],
   "source": [
    "grads = tape.gradient(mean_loss, model.trainable_variables) # 경사를 구함"
   ]
  },
  {
   "cell_type": "code",
   "execution_count": 52,
   "metadata": {
    "id": "cIwuzaZ1kIBG"
   },
   "outputs": [],
   "source": [
    "opt = tf.keras.optimizers.Adam(learning_rate=5e-4, epsilon=1e-08) # 학습 알고리즘 설정"
   ]
  },
  {
   "cell_type": "code",
   "execution_count": 53,
   "metadata": {
    "colab": {
     "base_uri": "https://localhost:8080/"
    },
    "id": "vjrPQ8FxkIDR",
    "outputId": "0a7b483c-a05f-41ed-a350-0d0a691ec462"
   },
   "outputs": [
    {
     "data": {
      "text/plain": [
       "<tf.Variable 'UnreadVariable' shape=() dtype=int64, numpy=1>"
      ]
     },
     "execution_count": 53,
     "metadata": {
      "tags": []
     },
     "output_type": "execute_result"
    }
   ],
   "source": [
    "opt.apply_gradients(zip(grads, model.trainable_variables)) # 경사 적용"
   ]
  },
  {
   "cell_type": "code",
   "execution_count": 54,
   "metadata": {
    "colab": {
     "base_uri": "https://localhost:8080/"
    },
    "id": "Ic850VcMkIFz",
    "outputId": "dd3329e7-2153-4458-860b-3a2f8c058cce"
   },
   "outputs": [
    {
     "name": "stderr",
     "output_type": "stream",
     "text": [
      "Setting `pad_token_id` to 50256 (first `eos_token_id`) to generate sequence\n"
     ]
    }
   ],
   "source": [
    "result = model.generate(input_ids, max_length=50) # 문장 생성"
   ]
  },
  {
   "cell_type": "code",
   "execution_count": 55,
   "metadata": {
    "colab": {
     "base_uri": "https://localhost:8080/",
     "height": 55
    },
    "id": "9tWwl1ePkKa_",
    "outputId": "287124a6-f006-4dde-e262-5451a7ad1557"
   },
   "outputs": [
    {
     "data": {
      "application/vnd.google.colaboratory.intrinsic+json": {
       "type": "string"
      },
      "text/plain": [
       "'I like this movie:\\n\\n\"The first time I saw the video, I was shocked,\" said Mr. Karpinski, who was born in Moscow in 1991. \"It was a very beautiful moment.\"\\n\\nThe Russian government has been'"
      ]
     },
     "execution_count": 55,
     "metadata": {
      "tags": []
     },
     "output_type": "execute_result"
    }
   ],
   "source": [
    "tokenizer.decode(result[0]) # 생성된 문장 확인"
   ]
  },
  {
   "cell_type": "code",
   "execution_count": null,
   "metadata": {
    "id": "bQZ4oAVBtpdW"
   },
   "outputs": [],
   "source": []
  }
 ],
 "metadata": {
  "accelerator": "GPU",
  "colab": {
   "collapsed_sections": [],
   "name": "11. 강화학습.ipynb",
   "provenance": []
  },
  "kernelspec": {
   "display_name": "Python 3 (ipykernel)",
   "language": "python",
   "name": "python3"
  },
  "language_info": {
   "codemirror_mode": {
    "name": "ipython",
    "version": 3
   },
   "file_extension": ".py",
   "mimetype": "text/x-python",
   "name": "python",
   "nbconvert_exporter": "python",
   "pygments_lexer": "ipython3",
   "version": "3.9.12"
  },
  "widgets": {
   "application/vnd.jupyter.widget-state+json": {
    "03942e8503174336ad181be8f6f4fbf1": {
     "model_module": "@jupyter-widgets/controls",
     "model_name": "DescriptionStyleModel",
     "state": {
      "_model_module": "@jupyter-widgets/controls",
      "_model_module_version": "1.5.0",
      "_model_name": "DescriptionStyleModel",
      "_view_count": null,
      "_view_module": "@jupyter-widgets/base",
      "_view_module_version": "1.2.0",
      "_view_name": "StyleView",
      "description_width": ""
     }
    },
    "06bbc570d83b49e5bd7669c771106e5a": {
     "model_module": "@jupyter-widgets/controls",
     "model_name": "HBoxModel",
     "state": {
      "_dom_classes": [],
      "_model_module": "@jupyter-widgets/controls",
      "_model_module_version": "1.5.0",
      "_model_name": "HBoxModel",
      "_view_count": null,
      "_view_module": "@jupyter-widgets/controls",
      "_view_module_version": "1.5.0",
      "_view_name": "HBoxView",
      "box_style": "",
      "children": [
       "IPY_MODEL_c546f3812a99452480481048671a0301",
       "IPY_MODEL_45bcefeafd704d6c8a2eef7fa31d4f92"
      ],
      "layout": "IPY_MODEL_3a29d6d6b985453783b0cba4d8fab8ac"
     }
    },
    "089c5fd81751411b81971065f6aff55b": {
     "model_module": "@jupyter-widgets/controls",
     "model_name": "HBoxModel",
     "state": {
      "_dom_classes": [],
      "_model_module": "@jupyter-widgets/controls",
      "_model_module_version": "1.5.0",
      "_model_name": "HBoxModel",
      "_view_count": null,
      "_view_module": "@jupyter-widgets/controls",
      "_view_module_version": "1.5.0",
      "_view_name": "HBoxView",
      "box_style": "",
      "children": [
       "IPY_MODEL_f6e18d2f379541219ab586deca99503e",
       "IPY_MODEL_390ef7d061aa4a228b354a98418a121b"
      ],
      "layout": "IPY_MODEL_26efa6195436407c84c345577e92b2ae"
     }
    },
    "08adb593c7644888b7a05f104c2eb02a": {
     "model_module": "@jupyter-widgets/controls",
     "model_name": "HTMLModel",
     "state": {
      "_dom_classes": [],
      "_model_module": "@jupyter-widgets/controls",
      "_model_module_version": "1.5.0",
      "_model_name": "HTMLModel",
      "_view_count": null,
      "_view_module": "@jupyter-widgets/controls",
      "_view_module_version": "1.5.0",
      "_view_name": "HTMLView",
      "description": "",
      "description_tooltip": null,
      "layout": "IPY_MODEL_245b17e9f3a24a13942a91a8df243345",
      "placeholder": "​",
      "style": "IPY_MODEL_6a1dfc3d39874c3a82bff257fde020b5",
      "value": " 1.36M/1.36M [00:15&lt;00:00, 85.9kB/s]"
     }
    },
    "0aefa3070cdf4381a0aaec78ba70e7ef": {
     "model_module": "@jupyter-widgets/base",
     "model_name": "LayoutModel",
     "state": {
      "_model_module": "@jupyter-widgets/base",
      "_model_module_version": "1.2.0",
      "_model_name": "LayoutModel",
      "_view_count": null,
      "_view_module": "@jupyter-widgets/base",
      "_view_module_version": "1.2.0",
      "_view_name": "LayoutView",
      "align_content": null,
      "align_items": null,
      "align_self": null,
      "border": null,
      "bottom": null,
      "display": null,
      "flex": null,
      "flex_flow": null,
      "grid_area": null,
      "grid_auto_columns": null,
      "grid_auto_flow": null,
      "grid_auto_rows": null,
      "grid_column": null,
      "grid_gap": null,
      "grid_row": null,
      "grid_template_areas": null,
      "grid_template_columns": null,
      "grid_template_rows": null,
      "height": null,
      "justify_content": null,
      "justify_items": null,
      "left": null,
      "margin": null,
      "max_height": null,
      "max_width": null,
      "min_height": null,
      "min_width": null,
      "object_fit": null,
      "object_position": null,
      "order": null,
      "overflow": null,
      "overflow_x": null,
      "overflow_y": null,
      "padding": null,
      "right": null,
      "top": null,
      "visibility": null,
      "width": null
     }
    },
    "10dcda1651ce49bd8923109e3952f336": {
     "model_module": "@jupyter-widgets/controls",
     "model_name": "DescriptionStyleModel",
     "state": {
      "_model_module": "@jupyter-widgets/controls",
      "_model_module_version": "1.5.0",
      "_model_name": "DescriptionStyleModel",
      "_view_count": null,
      "_view_module": "@jupyter-widgets/base",
      "_view_module_version": "1.2.0",
      "_view_name": "StyleView",
      "description_width": ""
     }
    },
    "1583b92258dc43f0be269f3f5939ae1f": {
     "model_module": "@jupyter-widgets/controls",
     "model_name": "DescriptionStyleModel",
     "state": {
      "_model_module": "@jupyter-widgets/controls",
      "_model_module_version": "1.5.0",
      "_model_name": "DescriptionStyleModel",
      "_view_count": null,
      "_view_module": "@jupyter-widgets/base",
      "_view_module_version": "1.2.0",
      "_view_name": "StyleView",
      "description_width": ""
     }
    },
    "161f97425440430e842fca34e13ab687": {
     "model_module": "@jupyter-widgets/controls",
     "model_name": "ProgressStyleModel",
     "state": {
      "_model_module": "@jupyter-widgets/controls",
      "_model_module_version": "1.5.0",
      "_model_name": "ProgressStyleModel",
      "_view_count": null,
      "_view_module": "@jupyter-widgets/base",
      "_view_module_version": "1.2.0",
      "_view_name": "StyleView",
      "bar_color": null,
      "description_width": "initial"
     }
    },
    "245b17e9f3a24a13942a91a8df243345": {
     "model_module": "@jupyter-widgets/base",
     "model_name": "LayoutModel",
     "state": {
      "_model_module": "@jupyter-widgets/base",
      "_model_module_version": "1.2.0",
      "_model_name": "LayoutModel",
      "_view_count": null,
      "_view_module": "@jupyter-widgets/base",
      "_view_module_version": "1.2.0",
      "_view_name": "LayoutView",
      "align_content": null,
      "align_items": null,
      "align_self": null,
      "border": null,
      "bottom": null,
      "display": null,
      "flex": null,
      "flex_flow": null,
      "grid_area": null,
      "grid_auto_columns": null,
      "grid_auto_flow": null,
      "grid_auto_rows": null,
      "grid_column": null,
      "grid_gap": null,
      "grid_row": null,
      "grid_template_areas": null,
      "grid_template_columns": null,
      "grid_template_rows": null,
      "height": null,
      "justify_content": null,
      "justify_items": null,
      "left": null,
      "margin": null,
      "max_height": null,
      "max_width": null,
      "min_height": null,
      "min_width": null,
      "object_fit": null,
      "object_position": null,
      "order": null,
      "overflow": null,
      "overflow_x": null,
      "overflow_y": null,
      "padding": null,
      "right": null,
      "top": null,
      "visibility": null,
      "width": null
     }
    },
    "26efa6195436407c84c345577e92b2ae": {
     "model_module": "@jupyter-widgets/base",
     "model_name": "LayoutModel",
     "state": {
      "_model_module": "@jupyter-widgets/base",
      "_model_module_version": "1.2.0",
      "_model_name": "LayoutModel",
      "_view_count": null,
      "_view_module": "@jupyter-widgets/base",
      "_view_module_version": "1.2.0",
      "_view_name": "LayoutView",
      "align_content": null,
      "align_items": null,
      "align_self": null,
      "border": null,
      "bottom": null,
      "display": null,
      "flex": null,
      "flex_flow": null,
      "grid_area": null,
      "grid_auto_columns": null,
      "grid_auto_flow": null,
      "grid_auto_rows": null,
      "grid_column": null,
      "grid_gap": null,
      "grid_row": null,
      "grid_template_areas": null,
      "grid_template_columns": null,
      "grid_template_rows": null,
      "height": null,
      "justify_content": null,
      "justify_items": null,
      "left": null,
      "margin": null,
      "max_height": null,
      "max_width": null,
      "min_height": null,
      "min_width": null,
      "object_fit": null,
      "object_position": null,
      "order": null,
      "overflow": null,
      "overflow_x": null,
      "overflow_y": null,
      "padding": null,
      "right": null,
      "top": null,
      "visibility": null,
      "width": null
     }
    },
    "33d2e6d5f24543828ffdc5475b37ed19": {
     "model_module": "@jupyter-widgets/base",
     "model_name": "LayoutModel",
     "state": {
      "_model_module": "@jupyter-widgets/base",
      "_model_module_version": "1.2.0",
      "_model_name": "LayoutModel",
      "_view_count": null,
      "_view_module": "@jupyter-widgets/base",
      "_view_module_version": "1.2.0",
      "_view_name": "LayoutView",
      "align_content": null,
      "align_items": null,
      "align_self": null,
      "border": null,
      "bottom": null,
      "display": null,
      "flex": null,
      "flex_flow": null,
      "grid_area": null,
      "grid_auto_columns": null,
      "grid_auto_flow": null,
      "grid_auto_rows": null,
      "grid_column": null,
      "grid_gap": null,
      "grid_row": null,
      "grid_template_areas": null,
      "grid_template_columns": null,
      "grid_template_rows": null,
      "height": null,
      "justify_content": null,
      "justify_items": null,
      "left": null,
      "margin": null,
      "max_height": null,
      "max_width": null,
      "min_height": null,
      "min_width": null,
      "object_fit": null,
      "object_position": null,
      "order": null,
      "overflow": null,
      "overflow_x": null,
      "overflow_y": null,
      "padding": null,
      "right": null,
      "top": null,
      "visibility": null,
      "width": null
     }
    },
    "390ef7d061aa4a228b354a98418a121b": {
     "model_module": "@jupyter-widgets/controls",
     "model_name": "HTMLModel",
     "state": {
      "_dom_classes": [],
      "_model_module": "@jupyter-widgets/controls",
      "_model_module_version": "1.5.0",
      "_model_name": "HTMLModel",
      "_view_count": null,
      "_view_module": "@jupyter-widgets/controls",
      "_view_module_version": "1.5.0",
      "_view_name": "HTMLView",
      "description": "",
      "description_tooltip": null,
      "layout": "IPY_MODEL_65811f0d051a411eb4ccf333f05b1083",
      "placeholder": "​",
      "style": "IPY_MODEL_03942e8503174336ad181be8f6f4fbf1",
      "value": " 498M/498M [00:15&lt;00:00, 32.7MB/s]"
     }
    },
    "3a29d6d6b985453783b0cba4d8fab8ac": {
     "model_module": "@jupyter-widgets/base",
     "model_name": "LayoutModel",
     "state": {
      "_model_module": "@jupyter-widgets/base",
      "_model_module_version": "1.2.0",
      "_model_name": "LayoutModel",
      "_view_count": null,
      "_view_module": "@jupyter-widgets/base",
      "_view_module_version": "1.2.0",
      "_view_name": "LayoutView",
      "align_content": null,
      "align_items": null,
      "align_self": null,
      "border": null,
      "bottom": null,
      "display": null,
      "flex": null,
      "flex_flow": null,
      "grid_area": null,
      "grid_auto_columns": null,
      "grid_auto_flow": null,
      "grid_auto_rows": null,
      "grid_column": null,
      "grid_gap": null,
      "grid_row": null,
      "grid_template_areas": null,
      "grid_template_columns": null,
      "grid_template_rows": null,
      "height": null,
      "justify_content": null,
      "justify_items": null,
      "left": null,
      "margin": null,
      "max_height": null,
      "max_width": null,
      "min_height": null,
      "min_width": null,
      "object_fit": null,
      "object_position": null,
      "order": null,
      "overflow": null,
      "overflow_x": null,
      "overflow_y": null,
      "padding": null,
      "right": null,
      "top": null,
      "visibility": null,
      "width": null
     }
    },
    "404352b09ee848c583f246bd4fa5637d": {
     "model_module": "@jupyter-widgets/controls",
     "model_name": "ProgressStyleModel",
     "state": {
      "_model_module": "@jupyter-widgets/controls",
      "_model_module_version": "1.5.0",
      "_model_name": "ProgressStyleModel",
      "_view_count": null,
      "_view_module": "@jupyter-widgets/base",
      "_view_module_version": "1.2.0",
      "_view_name": "StyleView",
      "bar_color": null,
      "description_width": "initial"
     }
    },
    "44f9bd5794db49568b11661427b9c924": {
     "model_module": "@jupyter-widgets/controls",
     "model_name": "FloatProgressModel",
     "state": {
      "_dom_classes": [],
      "_model_module": "@jupyter-widgets/controls",
      "_model_module_version": "1.5.0",
      "_model_name": "FloatProgressModel",
      "_view_count": null,
      "_view_module": "@jupyter-widgets/controls",
      "_view_module_version": "1.5.0",
      "_view_name": "ProgressView",
      "bar_style": "success",
      "description": "Downloading: 100%",
      "description_tooltip": null,
      "layout": "IPY_MODEL_0aefa3070cdf4381a0aaec78ba70e7ef",
      "max": 665,
      "min": 0,
      "orientation": "horizontal",
      "style": "IPY_MODEL_161f97425440430e842fca34e13ab687",
      "value": 665
     }
    },
    "45bcefeafd704d6c8a2eef7fa31d4f92": {
     "model_module": "@jupyter-widgets/controls",
     "model_name": "HTMLModel",
     "state": {
      "_dom_classes": [],
      "_model_module": "@jupyter-widgets/controls",
      "_model_module_version": "1.5.0",
      "_model_name": "HTMLModel",
      "_view_count": null,
      "_view_module": "@jupyter-widgets/controls",
      "_view_module_version": "1.5.0",
      "_view_name": "HTMLView",
      "description": "",
      "description_tooltip": null,
      "layout": "IPY_MODEL_ce01f90f05e84232bed0834e9ed6ef25",
      "placeholder": "​",
      "style": "IPY_MODEL_611b8ad09c2748afbfd2d1bf7e5da4e8",
      "value": " 456k/456k [00:00&lt;00:00, 3.28MB/s]"
     }
    },
    "4ac9fc85df9b45558d1b3671ca312cd5": {
     "model_module": "@jupyter-widgets/base",
     "model_name": "LayoutModel",
     "state": {
      "_model_module": "@jupyter-widgets/base",
      "_model_module_version": "1.2.0",
      "_model_name": "LayoutModel",
      "_view_count": null,
      "_view_module": "@jupyter-widgets/base",
      "_view_module_version": "1.2.0",
      "_view_name": "LayoutView",
      "align_content": null,
      "align_items": null,
      "align_self": null,
      "border": null,
      "bottom": null,
      "display": null,
      "flex": null,
      "flex_flow": null,
      "grid_area": null,
      "grid_auto_columns": null,
      "grid_auto_flow": null,
      "grid_auto_rows": null,
      "grid_column": null,
      "grid_gap": null,
      "grid_row": null,
      "grid_template_areas": null,
      "grid_template_columns": null,
      "grid_template_rows": null,
      "height": null,
      "justify_content": null,
      "justify_items": null,
      "left": null,
      "margin": null,
      "max_height": null,
      "max_width": null,
      "min_height": null,
      "min_width": null,
      "object_fit": null,
      "object_position": null,
      "order": null,
      "overflow": null,
      "overflow_x": null,
      "overflow_y": null,
      "padding": null,
      "right": null,
      "top": null,
      "visibility": null,
      "width": null
     }
    },
    "500814699949415ead1950938d15cea4": {
     "model_module": "@jupyter-widgets/controls",
     "model_name": "HTMLModel",
     "state": {
      "_dom_classes": [],
      "_model_module": "@jupyter-widgets/controls",
      "_model_module_version": "1.5.0",
      "_model_name": "HTMLModel",
      "_view_count": null,
      "_view_module": "@jupyter-widgets/controls",
      "_view_module_version": "1.5.0",
      "_view_name": "HTMLView",
      "description": "",
      "description_tooltip": null,
      "layout": "IPY_MODEL_33d2e6d5f24543828ffdc5475b37ed19",
      "placeholder": "​",
      "style": "IPY_MODEL_1583b92258dc43f0be269f3f5939ae1f",
      "value": " 665/665 [00:00&lt;00:00, 8.13kB/s]"
     }
    },
    "611b8ad09c2748afbfd2d1bf7e5da4e8": {
     "model_module": "@jupyter-widgets/controls",
     "model_name": "DescriptionStyleModel",
     "state": {
      "_model_module": "@jupyter-widgets/controls",
      "_model_module_version": "1.5.0",
      "_model_name": "DescriptionStyleModel",
      "_view_count": null,
      "_view_module": "@jupyter-widgets/base",
      "_view_module_version": "1.2.0",
      "_view_name": "StyleView",
      "description_width": ""
     }
    },
    "618cd7ab6f044c6f9cfebb7e5d9828b1": {
     "model_module": "@jupyter-widgets/controls",
     "model_name": "ProgressStyleModel",
     "state": {
      "_model_module": "@jupyter-widgets/controls",
      "_model_module_version": "1.5.0",
      "_model_name": "ProgressStyleModel",
      "_view_count": null,
      "_view_module": "@jupyter-widgets/base",
      "_view_module_version": "1.2.0",
      "_view_name": "StyleView",
      "bar_color": null,
      "description_width": "initial"
     }
    },
    "65811f0d051a411eb4ccf333f05b1083": {
     "model_module": "@jupyter-widgets/base",
     "model_name": "LayoutModel",
     "state": {
      "_model_module": "@jupyter-widgets/base",
      "_model_module_version": "1.2.0",
      "_model_name": "LayoutModel",
      "_view_count": null,
      "_view_module": "@jupyter-widgets/base",
      "_view_module_version": "1.2.0",
      "_view_name": "LayoutView",
      "align_content": null,
      "align_items": null,
      "align_self": null,
      "border": null,
      "bottom": null,
      "display": null,
      "flex": null,
      "flex_flow": null,
      "grid_area": null,
      "grid_auto_columns": null,
      "grid_auto_flow": null,
      "grid_auto_rows": null,
      "grid_column": null,
      "grid_gap": null,
      "grid_row": null,
      "grid_template_areas": null,
      "grid_template_columns": null,
      "grid_template_rows": null,
      "height": null,
      "justify_content": null,
      "justify_items": null,
      "left": null,
      "margin": null,
      "max_height": null,
      "max_width": null,
      "min_height": null,
      "min_width": null,
      "object_fit": null,
      "object_position": null,
      "order": null,
      "overflow": null,
      "overflow_x": null,
      "overflow_y": null,
      "padding": null,
      "right": null,
      "top": null,
      "visibility": null,
      "width": null
     }
    },
    "6a1dfc3d39874c3a82bff257fde020b5": {
     "model_module": "@jupyter-widgets/controls",
     "model_name": "DescriptionStyleModel",
     "state": {
      "_model_module": "@jupyter-widgets/controls",
      "_model_module_version": "1.5.0",
      "_model_name": "DescriptionStyleModel",
      "_view_count": null,
      "_view_module": "@jupyter-widgets/base",
      "_view_module_version": "1.2.0",
      "_view_name": "StyleView",
      "description_width": ""
     }
    },
    "6e82e896d5ff4d7bb2d2affe89828701": {
     "model_module": "@jupyter-widgets/base",
     "model_name": "LayoutModel",
     "state": {
      "_model_module": "@jupyter-widgets/base",
      "_model_module_version": "1.2.0",
      "_model_name": "LayoutModel",
      "_view_count": null,
      "_view_module": "@jupyter-widgets/base",
      "_view_module_version": "1.2.0",
      "_view_name": "LayoutView",
      "align_content": null,
      "align_items": null,
      "align_self": null,
      "border": null,
      "bottom": null,
      "display": null,
      "flex": null,
      "flex_flow": null,
      "grid_area": null,
      "grid_auto_columns": null,
      "grid_auto_flow": null,
      "grid_auto_rows": null,
      "grid_column": null,
      "grid_gap": null,
      "grid_row": null,
      "grid_template_areas": null,
      "grid_template_columns": null,
      "grid_template_rows": null,
      "height": null,
      "justify_content": null,
      "justify_items": null,
      "left": null,
      "margin": null,
      "max_height": null,
      "max_width": null,
      "min_height": null,
      "min_width": null,
      "object_fit": null,
      "object_position": null,
      "order": null,
      "overflow": null,
      "overflow_x": null,
      "overflow_y": null,
      "padding": null,
      "right": null,
      "top": null,
      "visibility": null,
      "width": null
     }
    },
    "73baebed5eb74c4cb0364237f301aec8": {
     "model_module": "@jupyter-widgets/controls",
     "model_name": "HBoxModel",
     "state": {
      "_dom_classes": [],
      "_model_module": "@jupyter-widgets/controls",
      "_model_module_version": "1.5.0",
      "_model_name": "HBoxModel",
      "_view_count": null,
      "_view_module": "@jupyter-widgets/controls",
      "_view_module_version": "1.5.0",
      "_view_name": "HBoxView",
      "box_style": "",
      "children": [
       "IPY_MODEL_8493eaf0663047078ae7fd4dffaa337f",
       "IPY_MODEL_08adb593c7644888b7a05f104c2eb02a"
      ],
      "layout": "IPY_MODEL_8563d6f3413449c6b0121cd1bbd43ce7"
     }
    },
    "799ebd4df8804051a878505cef5acc1d": {
     "model_module": "@jupyter-widgets/controls",
     "model_name": "ProgressStyleModel",
     "state": {
      "_model_module": "@jupyter-widgets/controls",
      "_model_module_version": "1.5.0",
      "_model_name": "ProgressStyleModel",
      "_view_count": null,
      "_view_module": "@jupyter-widgets/base",
      "_view_module_version": "1.2.0",
      "_view_name": "StyleView",
      "bar_color": null,
      "description_width": "initial"
     }
    },
    "8216b92dcac049ecbfae83cffb06bfac": {
     "model_module": "@jupyter-widgets/base",
     "model_name": "LayoutModel",
     "state": {
      "_model_module": "@jupyter-widgets/base",
      "_model_module_version": "1.2.0",
      "_model_name": "LayoutModel",
      "_view_count": null,
      "_view_module": "@jupyter-widgets/base",
      "_view_module_version": "1.2.0",
      "_view_name": "LayoutView",
      "align_content": null,
      "align_items": null,
      "align_self": null,
      "border": null,
      "bottom": null,
      "display": null,
      "flex": null,
      "flex_flow": null,
      "grid_area": null,
      "grid_auto_columns": null,
      "grid_auto_flow": null,
      "grid_auto_rows": null,
      "grid_column": null,
      "grid_gap": null,
      "grid_row": null,
      "grid_template_areas": null,
      "grid_template_columns": null,
      "grid_template_rows": null,
      "height": null,
      "justify_content": null,
      "justify_items": null,
      "left": null,
      "margin": null,
      "max_height": null,
      "max_width": null,
      "min_height": null,
      "min_width": null,
      "object_fit": null,
      "object_position": null,
      "order": null,
      "overflow": null,
      "overflow_x": null,
      "overflow_y": null,
      "padding": null,
      "right": null,
      "top": null,
      "visibility": null,
      "width": null
     }
    },
    "83e1f45c80834a18b2d6b10c2a92b5df": {
     "model_module": "@jupyter-widgets/controls",
     "model_name": "HBoxModel",
     "state": {
      "_dom_classes": [],
      "_model_module": "@jupyter-widgets/controls",
      "_model_module_version": "1.5.0",
      "_model_name": "HBoxModel",
      "_view_count": null,
      "_view_module": "@jupyter-widgets/controls",
      "_view_module_version": "1.5.0",
      "_view_name": "HBoxView",
      "box_style": "",
      "children": [
       "IPY_MODEL_44f9bd5794db49568b11661427b9c924",
       "IPY_MODEL_500814699949415ead1950938d15cea4"
      ],
      "layout": "IPY_MODEL_9f96a75bbc4f4be78512b4ca83c1fae4"
     }
    },
    "8493eaf0663047078ae7fd4dffaa337f": {
     "model_module": "@jupyter-widgets/controls",
     "model_name": "FloatProgressModel",
     "state": {
      "_dom_classes": [],
      "_model_module": "@jupyter-widgets/controls",
      "_model_module_version": "1.5.0",
      "_model_name": "FloatProgressModel",
      "_view_count": null,
      "_view_module": "@jupyter-widgets/controls",
      "_view_module_version": "1.5.0",
      "_view_name": "ProgressView",
      "bar_style": "success",
      "description": "Downloading: 100%",
      "description_tooltip": null,
      "layout": "IPY_MODEL_a426c91963054295ae2608c82de67f7b",
      "max": 1355256,
      "min": 0,
      "orientation": "horizontal",
      "style": "IPY_MODEL_799ebd4df8804051a878505cef5acc1d",
      "value": 1355256
     }
    },
    "8563d6f3413449c6b0121cd1bbd43ce7": {
     "model_module": "@jupyter-widgets/base",
     "model_name": "LayoutModel",
     "state": {
      "_model_module": "@jupyter-widgets/base",
      "_model_module_version": "1.2.0",
      "_model_name": "LayoutModel",
      "_view_count": null,
      "_view_module": "@jupyter-widgets/base",
      "_view_module_version": "1.2.0",
      "_view_name": "LayoutView",
      "align_content": null,
      "align_items": null,
      "align_self": null,
      "border": null,
      "bottom": null,
      "display": null,
      "flex": null,
      "flex_flow": null,
      "grid_area": null,
      "grid_auto_columns": null,
      "grid_auto_flow": null,
      "grid_auto_rows": null,
      "grid_column": null,
      "grid_gap": null,
      "grid_row": null,
      "grid_template_areas": null,
      "grid_template_columns": null,
      "grid_template_rows": null,
      "height": null,
      "justify_content": null,
      "justify_items": null,
      "left": null,
      "margin": null,
      "max_height": null,
      "max_width": null,
      "min_height": null,
      "min_width": null,
      "object_fit": null,
      "object_position": null,
      "order": null,
      "overflow": null,
      "overflow_x": null,
      "overflow_y": null,
      "padding": null,
      "right": null,
      "top": null,
      "visibility": null,
      "width": null
     }
    },
    "915edc7edf094e16b5c44c8ecedd6d70": {
     "model_module": "@jupyter-widgets/controls",
     "model_name": "HTMLModel",
     "state": {
      "_dom_classes": [],
      "_model_module": "@jupyter-widgets/controls",
      "_model_module_version": "1.5.0",
      "_model_name": "HTMLModel",
      "_view_count": null,
      "_view_module": "@jupyter-widgets/controls",
      "_view_module_version": "1.5.0",
      "_view_name": "HTMLView",
      "description": "",
      "description_tooltip": null,
      "layout": "IPY_MODEL_6e82e896d5ff4d7bb2d2affe89828701",
      "placeholder": "​",
      "style": "IPY_MODEL_10dcda1651ce49bd8923109e3952f336",
      "value": " 1.04M/1.04M [00:00&lt;00:00, 3.92MB/s]"
     }
    },
    "97f777fad8eb46a78b48681192debce2": {
     "model_module": "@jupyter-widgets/controls",
     "model_name": "HBoxModel",
     "state": {
      "_dom_classes": [],
      "_model_module": "@jupyter-widgets/controls",
      "_model_module_version": "1.5.0",
      "_model_name": "HBoxModel",
      "_view_count": null,
      "_view_module": "@jupyter-widgets/controls",
      "_view_module_version": "1.5.0",
      "_view_name": "HBoxView",
      "box_style": "",
      "children": [
       "IPY_MODEL_b3fc0fda8a344982bf1e902a5193f5a7",
       "IPY_MODEL_915edc7edf094e16b5c44c8ecedd6d70"
      ],
      "layout": "IPY_MODEL_4ac9fc85df9b45558d1b3671ca312cd5"
     }
    },
    "9f96a75bbc4f4be78512b4ca83c1fae4": {
     "model_module": "@jupyter-widgets/base",
     "model_name": "LayoutModel",
     "state": {
      "_model_module": "@jupyter-widgets/base",
      "_model_module_version": "1.2.0",
      "_model_name": "LayoutModel",
      "_view_count": null,
      "_view_module": "@jupyter-widgets/base",
      "_view_module_version": "1.2.0",
      "_view_name": "LayoutView",
      "align_content": null,
      "align_items": null,
      "align_self": null,
      "border": null,
      "bottom": null,
      "display": null,
      "flex": null,
      "flex_flow": null,
      "grid_area": null,
      "grid_auto_columns": null,
      "grid_auto_flow": null,
      "grid_auto_rows": null,
      "grid_column": null,
      "grid_gap": null,
      "grid_row": null,
      "grid_template_areas": null,
      "grid_template_columns": null,
      "grid_template_rows": null,
      "height": null,
      "justify_content": null,
      "justify_items": null,
      "left": null,
      "margin": null,
      "max_height": null,
      "max_width": null,
      "min_height": null,
      "min_width": null,
      "object_fit": null,
      "object_position": null,
      "order": null,
      "overflow": null,
      "overflow_x": null,
      "overflow_y": null,
      "padding": null,
      "right": null,
      "top": null,
      "visibility": null,
      "width": null
     }
    },
    "a3d1cc9e2619402b9c6d75bf70d6251f": {
     "model_module": "@jupyter-widgets/base",
     "model_name": "LayoutModel",
     "state": {
      "_model_module": "@jupyter-widgets/base",
      "_model_module_version": "1.2.0",
      "_model_name": "LayoutModel",
      "_view_count": null,
      "_view_module": "@jupyter-widgets/base",
      "_view_module_version": "1.2.0",
      "_view_name": "LayoutView",
      "align_content": null,
      "align_items": null,
      "align_self": null,
      "border": null,
      "bottom": null,
      "display": null,
      "flex": null,
      "flex_flow": null,
      "grid_area": null,
      "grid_auto_columns": null,
      "grid_auto_flow": null,
      "grid_auto_rows": null,
      "grid_column": null,
      "grid_gap": null,
      "grid_row": null,
      "grid_template_areas": null,
      "grid_template_columns": null,
      "grid_template_rows": null,
      "height": null,
      "justify_content": null,
      "justify_items": null,
      "left": null,
      "margin": null,
      "max_height": null,
      "max_width": null,
      "min_height": null,
      "min_width": null,
      "object_fit": null,
      "object_position": null,
      "order": null,
      "overflow": null,
      "overflow_x": null,
      "overflow_y": null,
      "padding": null,
      "right": null,
      "top": null,
      "visibility": null,
      "width": null
     }
    },
    "a426c91963054295ae2608c82de67f7b": {
     "model_module": "@jupyter-widgets/base",
     "model_name": "LayoutModel",
     "state": {
      "_model_module": "@jupyter-widgets/base",
      "_model_module_version": "1.2.0",
      "_model_name": "LayoutModel",
      "_view_count": null,
      "_view_module": "@jupyter-widgets/base",
      "_view_module_version": "1.2.0",
      "_view_name": "LayoutView",
      "align_content": null,
      "align_items": null,
      "align_self": null,
      "border": null,
      "bottom": null,
      "display": null,
      "flex": null,
      "flex_flow": null,
      "grid_area": null,
      "grid_auto_columns": null,
      "grid_auto_flow": null,
      "grid_auto_rows": null,
      "grid_column": null,
      "grid_gap": null,
      "grid_row": null,
      "grid_template_areas": null,
      "grid_template_columns": null,
      "grid_template_rows": null,
      "height": null,
      "justify_content": null,
      "justify_items": null,
      "left": null,
      "margin": null,
      "max_height": null,
      "max_width": null,
      "min_height": null,
      "min_width": null,
      "object_fit": null,
      "object_position": null,
      "order": null,
      "overflow": null,
      "overflow_x": null,
      "overflow_y": null,
      "padding": null,
      "right": null,
      "top": null,
      "visibility": null,
      "width": null
     }
    },
    "b3fc0fda8a344982bf1e902a5193f5a7": {
     "model_module": "@jupyter-widgets/controls",
     "model_name": "FloatProgressModel",
     "state": {
      "_dom_classes": [],
      "_model_module": "@jupyter-widgets/controls",
      "_model_module_version": "1.5.0",
      "_model_name": "FloatProgressModel",
      "_view_count": null,
      "_view_module": "@jupyter-widgets/controls",
      "_view_module_version": "1.5.0",
      "_view_name": "ProgressView",
      "bar_style": "success",
      "description": "Downloading: 100%",
      "description_tooltip": null,
      "layout": "IPY_MODEL_8216b92dcac049ecbfae83cffb06bfac",
      "max": 1042301,
      "min": 0,
      "orientation": "horizontal",
      "style": "IPY_MODEL_618cd7ab6f044c6f9cfebb7e5d9828b1",
      "value": 1042301
     }
    },
    "b4f93884ee804972b548fdd2d340a6c3": {
     "model_module": "@jupyter-widgets/base",
     "model_name": "LayoutModel",
     "state": {
      "_model_module": "@jupyter-widgets/base",
      "_model_module_version": "1.2.0",
      "_model_name": "LayoutModel",
      "_view_count": null,
      "_view_module": "@jupyter-widgets/base",
      "_view_module_version": "1.2.0",
      "_view_name": "LayoutView",
      "align_content": null,
      "align_items": null,
      "align_self": null,
      "border": null,
      "bottom": null,
      "display": null,
      "flex": null,
      "flex_flow": null,
      "grid_area": null,
      "grid_auto_columns": null,
      "grid_auto_flow": null,
      "grid_auto_rows": null,
      "grid_column": null,
      "grid_gap": null,
      "grid_row": null,
      "grid_template_areas": null,
      "grid_template_columns": null,
      "grid_template_rows": null,
      "height": null,
      "justify_content": null,
      "justify_items": null,
      "left": null,
      "margin": null,
      "max_height": null,
      "max_width": null,
      "min_height": null,
      "min_width": null,
      "object_fit": null,
      "object_position": null,
      "order": null,
      "overflow": null,
      "overflow_x": null,
      "overflow_y": null,
      "padding": null,
      "right": null,
      "top": null,
      "visibility": null,
      "width": null
     }
    },
    "c546f3812a99452480481048671a0301": {
     "model_module": "@jupyter-widgets/controls",
     "model_name": "FloatProgressModel",
     "state": {
      "_dom_classes": [],
      "_model_module": "@jupyter-widgets/controls",
      "_model_module_version": "1.5.0",
      "_model_name": "FloatProgressModel",
      "_view_count": null,
      "_view_module": "@jupyter-widgets/controls",
      "_view_module_version": "1.5.0",
      "_view_name": "ProgressView",
      "bar_style": "success",
      "description": "Downloading: 100%",
      "description_tooltip": null,
      "layout": "IPY_MODEL_a3d1cc9e2619402b9c6d75bf70d6251f",
      "max": 456318,
      "min": 0,
      "orientation": "horizontal",
      "style": "IPY_MODEL_404352b09ee848c583f246bd4fa5637d",
      "value": 456318
     }
    },
    "ce01f90f05e84232bed0834e9ed6ef25": {
     "model_module": "@jupyter-widgets/base",
     "model_name": "LayoutModel",
     "state": {
      "_model_module": "@jupyter-widgets/base",
      "_model_module_version": "1.2.0",
      "_model_name": "LayoutModel",
      "_view_count": null,
      "_view_module": "@jupyter-widgets/base",
      "_view_module_version": "1.2.0",
      "_view_name": "LayoutView",
      "align_content": null,
      "align_items": null,
      "align_self": null,
      "border": null,
      "bottom": null,
      "display": null,
      "flex": null,
      "flex_flow": null,
      "grid_area": null,
      "grid_auto_columns": null,
      "grid_auto_flow": null,
      "grid_auto_rows": null,
      "grid_column": null,
      "grid_gap": null,
      "grid_row": null,
      "grid_template_areas": null,
      "grid_template_columns": null,
      "grid_template_rows": null,
      "height": null,
      "justify_content": null,
      "justify_items": null,
      "left": null,
      "margin": null,
      "max_height": null,
      "max_width": null,
      "min_height": null,
      "min_width": null,
      "object_fit": null,
      "object_position": null,
      "order": null,
      "overflow": null,
      "overflow_x": null,
      "overflow_y": null,
      "padding": null,
      "right": null,
      "top": null,
      "visibility": null,
      "width": null
     }
    },
    "e5a0a7aa5aca4163a3437770b91ec7c6": {
     "model_module": "@jupyter-widgets/controls",
     "model_name": "ProgressStyleModel",
     "state": {
      "_model_module": "@jupyter-widgets/controls",
      "_model_module_version": "1.5.0",
      "_model_name": "ProgressStyleModel",
      "_view_count": null,
      "_view_module": "@jupyter-widgets/base",
      "_view_module_version": "1.2.0",
      "_view_name": "StyleView",
      "bar_color": null,
      "description_width": "initial"
     }
    },
    "f6e18d2f379541219ab586deca99503e": {
     "model_module": "@jupyter-widgets/controls",
     "model_name": "FloatProgressModel",
     "state": {
      "_dom_classes": [],
      "_model_module": "@jupyter-widgets/controls",
      "_model_module_version": "1.5.0",
      "_model_name": "FloatProgressModel",
      "_view_count": null,
      "_view_module": "@jupyter-widgets/controls",
      "_view_module_version": "1.5.0",
      "_view_name": "ProgressView",
      "bar_style": "success",
      "description": "Downloading: 100%",
      "description_tooltip": null,
      "layout": "IPY_MODEL_b4f93884ee804972b548fdd2d340a6c3",
      "max": 497933648,
      "min": 0,
      "orientation": "horizontal",
      "style": "IPY_MODEL_e5a0a7aa5aca4163a3437770b91ec7c6",
      "value": 497933648
     }
    }
   }
  }
 },
 "nbformat": 4,
 "nbformat_minor": 1
}
