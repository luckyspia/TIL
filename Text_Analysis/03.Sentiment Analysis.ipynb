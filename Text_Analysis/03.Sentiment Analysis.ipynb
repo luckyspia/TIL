{
 "cells": [
  {
   "cell_type": "markdown",
   "metadata": {},
   "source": [
    "## Chapter 03. Sentiment Analysis"
   ]
  },
  {
   "cell_type": "markdown",
   "metadata": {},
   "source": [
    "#### with Tensorflow"
   ]
  },
  {
   "cell_type": "code",
   "execution_count": null,
   "metadata": {},
   "outputs": [],
   "source": [
    "# !pip install tensorflow\n",
    "# !pip install kiwipiepy"
   ]
  },
  {
   "cell_type": "code",
   "execution_count": null,
   "metadata": {},
   "outputs": [],
   "source": [
    "# 데이터 다운로드\n",
    "# !wget -c https://github.com/e9t/nsmc/raw/master/ratings_train.txt"
   ]
  },
  {
   "cell_type": "code",
   "execution_count": 2,
   "metadata": {},
   "outputs": [
    {
     "data": {
      "text/html": [
       "<div>\n",
       "<style scoped>\n",
       "    .dataframe tbody tr th:only-of-type {\n",
       "        vertical-align: middle;\n",
       "    }\n",
       "\n",
       "    .dataframe tbody tr th {\n",
       "        vertical-align: top;\n",
       "    }\n",
       "\n",
       "    .dataframe thead th {\n",
       "        text-align: right;\n",
       "    }\n",
       "</style>\n",
       "<table border=\"1\" class=\"dataframe\">\n",
       "  <thead>\n",
       "    <tr style=\"text-align: right;\">\n",
       "      <th></th>\n",
       "      <th>id</th>\n",
       "      <th>document</th>\n",
       "      <th>label</th>\n",
       "    </tr>\n",
       "  </thead>\n",
       "  <tbody>\n",
       "    <tr>\n",
       "      <th>0</th>\n",
       "      <td>9976970</td>\n",
       "      <td>아 더빙.. 진짜 짜증나네요 목소리</td>\n",
       "      <td>0</td>\n",
       "    </tr>\n",
       "    <tr>\n",
       "      <th>1</th>\n",
       "      <td>3819312</td>\n",
       "      <td>흠...포스터보고 초딩영화줄....오버연기조차 가볍지 않구나</td>\n",
       "      <td>1</td>\n",
       "    </tr>\n",
       "    <tr>\n",
       "      <th>2</th>\n",
       "      <td>10265843</td>\n",
       "      <td>너무재밓었다그래서보는것을추천한다</td>\n",
       "      <td>0</td>\n",
       "    </tr>\n",
       "    <tr>\n",
       "      <th>3</th>\n",
       "      <td>9045019</td>\n",
       "      <td>교도소 이야기구먼 ..솔직히 재미는 없다..평점 조정</td>\n",
       "      <td>0</td>\n",
       "    </tr>\n",
       "    <tr>\n",
       "      <th>4</th>\n",
       "      <td>6483659</td>\n",
       "      <td>사이몬페그의 익살스런 연기가 돋보였던 영화!스파이더맨에서 늙어보이기만 했던 커스틴 ...</td>\n",
       "      <td>1</td>\n",
       "    </tr>\n",
       "  </tbody>\n",
       "</table>\n",
       "</div>"
      ],
      "text/plain": [
       "         id                                           document  label\n",
       "0   9976970                                아 더빙.. 진짜 짜증나네요 목소리      0\n",
       "1   3819312                  흠...포스터보고 초딩영화줄....오버연기조차 가볍지 않구나      1\n",
       "2  10265843                                  너무재밓었다그래서보는것을추천한다      0\n",
       "3   9045019                      교도소 이야기구먼 ..솔직히 재미는 없다..평점 조정      0\n",
       "4   6483659  사이몬페그의 익살스런 연기가 돋보였던 영화!스파이더맨에서 늙어보이기만 했던 커스틴 ...      1"
      ]
     },
     "execution_count": 2,
     "metadata": {},
     "output_type": "execute_result"
    }
   ],
   "source": [
    "import pandas as pd\n",
    "nsmc = pd.read_csv('./data/ratings_train.txt', sep='\\t')\n",
    "nsmc.head()\n",
    "# 품사 추출 계획"
   ]
  },
  {
   "cell_type": "code",
   "execution_count": 4,
   "metadata": {},
   "outputs": [],
   "source": [
    "# 형태소 분석\n",
    "from kiwipiepy import Kiwi\n",
    "\n",
    "kiwi = Kiwi()"
   ]
  },
  {
   "cell_type": "code",
   "execution_count": 5,
   "metadata": {},
   "outputs": [],
   "source": [
    "# 단어와 품사 추출\n",
    "def extract_keywords(text):\n",
    "    result = kiwi.analyze(text)\n",
    "    for token, pos, _, _ in result[0][0]:\n",
    "        if pos[0] in 'NV':\n",
    "            yield f'{token}/{pos}'"
   ]
  },
  {
   "cell_type": "code",
   "execution_count": 6,
   "metadata": {},
   "outputs": [
    {
     "data": {
      "text/plain": [
       "['더빙/NNG', '짜증/NNG', '나/VV', '목소리/NNG']"
      ]
     },
     "execution_count": 6,
     "metadata": {},
     "output_type": "execute_result"
    }
   ],
   "source": [
    "list(extract_keywords(nsmc.document[0]))"
   ]
  },
  {
   "cell_type": "code",
   "execution_count": 9,
   "metadata": {},
   "outputs": [],
   "source": [
    "# 문서 단어 행렬\n",
    "from sklearn.feature_extraction.text import CountVectorizer, TfidfTransformer\n",
    "import warnings\n",
    "warnings.filterwarnings('ignore')\n",
    "\n",
    "cv = CountVectorizer(max_features=1000, tokenizer=extract_keywords)\n",
    "dtm = cv.fit_transform(nsmc.loc[0:1999, 'document'])\n",
    "\n",
    "# 감성 분석 시, 두 가지 방식을 병행해보고 성능이 좋은 쪽 선택\n",
    "trans = TfidfTransformer()\n",
    "dtm2 = trans.fit_transform(dtm)"
   ]
  },
  {
   "cell_type": "code",
   "execution_count": 8,
   "metadata": {},
   "outputs": [
    {
     "data": {
      "text/plain": [
       "(2000, 1000)"
      ]
     },
     "execution_count": 8,
     "metadata": {},
     "output_type": "execute_result"
    }
   ],
   "source": [
    "dtm.shape"
   ]
  },
  {
   "cell_type": "code",
   "execution_count": 10,
   "metadata": {},
   "outputs": [
    {
     "data": {
      "text/plain": [
       "array(['가/VV', '가/VX', '가능/NNG', '가볍/VA-I', '가슴/NNG', '가족/NNG', '가지/NNB',\n",
       "       '가지/VV', '가치/NNG', '각본/NNG', '간/NNB', '갈등/NNG', '감독/NNG', '감동/NNG',\n",
       "       '감사/NNG', '감상/NNG', '감성/NNG', '감정/NNG', '강요/NNG', '같/VA', '개/NNB',\n",
       "       '개/NNG', '개그/NNG', '개그맨/NNG', '개념/NNG', '개봉/NNG', '개뿔/NNG',\n",
       "       '개연/NNG', '개인/NNG', '개판/NNG', '거/NNB', '거기/NP', '거리/NNG', '거리/VV',\n",
       "       '거부/NNG', '거슬리/VV', '거장/NNG', '걱정/NNG', '걸리/VV', '걸작/NNG',\n",
       "       '검술/NNG', '것/NNB', '게이/NNG', '게임/NNG', '결국/NNG', '결말/NNG', '경/NNG',\n",
       "       '고추/NNG', '곳/NNG', '곳곳/NNG', '공감/NNG', '공감/NNP', '공부/NNG',\n",
       "       '공포/NNG', '공포물/NNG', '곽지민/NNP', '관객/NNG', '관계/NNG', '관람/NNG',\n",
       "       '관심/NNG', '괜찮/VA', '교훈/NNG', '구경/NNG', '구리/VA', '구성/NNG', '구하/VV',\n",
       "       '국민/NNG', '국산/NNG', '군/NNG', '군대/NNG', '굿/NNG', '궁금하/VA', '귀신/NNG',\n",
       "       '귀엽/VA-I', '그/NP', '그거/NP', '그것/NP', '그녀/NP', '그래픽/NNG', '그러/VV',\n",
       "       '그렇/VA', '그릇/NNG', '그리/VV', '그림/NNG', '그립/VA-I', '그지/NNG', '극/NNG',\n",
       "       '극장/NNG', '극장판/NNG', '글/NNG', '급/NNG', '기/NNG', '기대/NNG',\n",
       "       '기독교/NNG', '기분/NNG', '기억/NNG', '기존/NNG', '긴장/NNG', '긴장감/NNG',\n",
       "       '길/NNG', '길/VA', '김/NNP', '김치/NNG', '깊/VA', '까/VV', '깨/VV',\n",
       "       '깨닫/VV-I', '꺼/NNB', '꼴/NNG', '꿀/NNG', '꿈/NNG', '끌/VV', '끝/NNG',\n",
       "       '끝나/VV', '끝내주/VV', '끼/VV', '나/NNG', '나/NP', '나/VV', '나/VX',\n",
       "       '나가/VV', '나가/VX', '나라/NNG', '나름/NNB', '나머지/NNG', '나쁘/VA', '나오/VV',\n",
       "       '나오코/NNP', '나이/NNG', '나중/NNG', '나타나/VV', '날/NNG', '날리/VV', '남/NNG',\n",
       "       '남/VV', '남기/VV', '남녀/NNG', '남성/NNG', '남자/NNG', '남편/NNG', '납득/NNG',\n",
       "       '낫/VA-I', '낭비/NNG', '낮/VA', '내/NNB', '내/VV', '내/VX', '내놓/VV',\n",
       "       '내용/NNG', '내일/NNG', '너/NP', '넘/VV', '넘치/VV', '네이버/NNP', '년/NNB',\n",
       "       '년대/NNB', '년도/NNB', '노래/NNG', '노력/NNG', '노잼/NNG', '노출/NNG',\n",
       "       '놀라/VV', '놀랍/VA-I', '놀이/NNG', '놈/NNB', '높/VA', '놓/VV', '놓/VX',\n",
       "       '누구/NP', '눈/NNG', '눈물/NNG', '느끼/VV', '느낌/NNG', '느와르/NNG', '늑대/NNG',\n",
       "       '늘/VV', '늙/VV', '능력/NNG', '늦/VA', '님/NNG', '다니/VV', '다르/VA',\n",
       "       '다운/NNG', '다음/NNG', '다큐/NNG', '다행/NNG', '단순/NNG', '달/VV', '달인/NNG',\n",
       "       '닮/VV', '담/VV', '담기/VV', '담배/NNG', '답/NNG', '당대/NNG', '당시/NNG',\n",
       "       '당신/NP', '당하/VV', '닿/VV', '대/NNB', '대박/NNG', '대사/NNG', '대작/NNG',\n",
       "       '대하/VV', '대한민국/NNP', '댓글/NNG', '더럽/VA-I', '더빙/NNG', '덕분/NNG',\n",
       "       '데/NNB', '도/NNG', '도움/NNG', '도전/NNG', '독립/NNG', '돈/NNG', '돋/VV-R',\n",
       "       '돋보이/VV', '돌리/VV', '돌아가/VV', '돌아오/VV', '동생/NNG', '동시/NNG',\n",
       "       '동영상/NNG', '동호/NNP', '동화/NNG', '되/VV', '두/VV', '두/VX', '두근거리/VV',\n",
       "       '둘/NR', '뒤/NNG', '드라마/NNG', '드럽/VA-I', '드리/VV', '듣/VV-I', '들/VV',\n",
       "       '들/VX', '들어가/VV', '들어오/VV', '들이/VV', '듯/NNB', '등/NNB', '등장/NNG',\n",
       "       '따라가/VV', '따르/VV', '따위/NNB', '따지/VV', '딸/NNG', '땅/NNG', '때/NNG',\n",
       "       '때리/VV', '때문/NNB', '땜/NNB', '떠나/VV', '떠오르/VV', '떨/VV', '떨어지/VV',\n",
       "       '떼/VV', '똑같/VA', '똥/NNG', '뛰어나/VA', '뜨/VV', '뜬금없/VA', '뜻/NNG',\n",
       "       '레전드/NNG', '로맨스/NNG', '로봇/NNG', '리얼/NNG', '마디/NNG', '마을/NNG',\n",
       "       '마음/NNG', '마이너스/NNG', '마이클/NNP', '마지막/NNG', '막장/NNG', '만/NNB',\n",
       "       '만/NR', '만나/VV', '만드/VV', '만들/VV', '만족/NNG', '만큼/NNB', '만하/VX',\n",
       "       '만화/NNG', '많/VA', '말/NNG', '말/VV', '말/VX', '맘/NNG', '맛/NNG',\n",
       "       '망/NNG', '망치/VV', '망하/VV', '맞/VV', '맞추/VV', '매력/NNG', '머/NP',\n",
       "       '머리/NNG', '먹/VV', '먹먹하/VA', '멀/VA', '멋있/VA', '멋지/VA', '메시지/NNG',\n",
       "       '멜로/NNG', '면/NNG', '명/NNB', '명작/NNG', '명화/NNG', '모/NP', '모두/NNG',\n",
       "       '모르/VV', '모습/NNG', '목소리/NNG', '몬스터/NNP', '몰입/NNG', '몰입도/NNG',\n",
       "       '몸/NNG', '몸매/NNG', '못하/VX', '묘사/NNG', '무겁/VA-I', '무당/NNG',\n",
       "       '무덤/NNG', '무섭/VA-I', '무엇/NP', '문/NNG', '문제/NNG', '문화/NNG', '물/NNG',\n",
       "       '물건/NNG', '뭐/NP', '미/NNG', '미국/NNP', '미소/NNG', '미스/NNG',\n",
       "       '미스터리/NNG', '미안/NNG', '미치/VV', '미학/NNG', '미화/NNG', '미흡/NNG',\n",
       "       '믹스/NNG', '민간인/NNG', '민중/NNG', '믿/VV-R', '바/NNB', '바꾸/VV', '바뀌/VV',\n",
       "       '바둑/NNG', '바라/VV', '바라보/VV', '바람/NNG', '바래/VV', '바베트/NNG',\n",
       "       '바보/NNG', '바치/VV', '박/NNG', '박사/NNG', '박수/NNG', '박시환/NNP',\n",
       "       '박시후/NNP', '박진감/NNG', '반/NNG', '반갑/VA-I', '반복/NNG', '반전/NNG',\n",
       "       '받/VV-R', '발/NNG', '발견/NNG', '밝히/VV', '밥/NNG', '방/NNG', '방법/NNG',\n",
       "       '방송/NNG', '배/NNG', '배경/NNG', '배우/NNG', '버리/VV', '버리/VX', '번/NNB',\n",
       "       '범죄/NNG', '변태/NNG', '변하/VV', '별/NNG', '별거/NNG', '별점/NNG', '보/VV',\n",
       "       '보/VX', '보고/NNG', '보내/VV', '보이/VV', '복수/NNG', '본격/NNG', '본성/NNG',\n",
       "       '본인/NNG', '볼/NNG', '부르/VV', '부분/NNG', '부작/NNB', '부족/NNG', '북한/NNP',\n",
       "       '분/NNB', '분석/NNG', '분위기/NNG', '불가/NNG', '불륜/NNG', '불쾌/NNG',\n",
       "       '불편/NNG', '붙이/VV', '비교/NNG', '비디오/NNG', '비추/VV', '비하/VV', '빠지/VV',\n",
       "       '빨/VV', '빼/VV', '뻔/NNB', '뻔하/VA', '뿐/NNB', '사/VV', '사건/NNG',\n",
       "       '사극/NNG', '사기/NNG', '사람/NNG', '사랑/NNG', '사로잡/VV-R', '사실/NNG',\n",
       "       '사운드/NNG', '사진/NNG', '사촌/NNG', '사회/NNG', '산/NNG', '살/NNB', '살/VV',\n",
       "       '살리/VV', '살인/NNG', '삶/NNG', '삼/NR', '삼류/NNG', '삽/NNG', '상/NNG',\n",
       "       '상급/NNG', '상대/NNG', '상상/NNG', '상상력/NNG', '상술/NNG', '상업/NNG',\n",
       "       '상영/NNG', '상영관/NNG', '상태/NNG', '상황/NNG', '새롭/VA-I', '새벽/NNG',\n",
       "       '색다르/VA', '생/NNG', '생각/NNG', '생각나/VV', '생기/VV', '생명/NNG', '생애/NNG',\n",
       "       '서스펜스/NNG', '선생/NNG', '선택/NNG', '설득력/NNG', '설레/VV', '설명/NNG',\n",
       "       '설정/NNG', '성/NNG', '성공/NNG', '성룡/NNP', '성장/NNG', '세/NNB', '세계/NNG',\n",
       "       '세기/NNG', '세련/NNG', '세상/NNG', '섹시/NNG', '소녀/NNG', '소름/NNG',\n",
       "       '소리/NNG', '소설/NNG', '소재/NNG', '속/NNG', '속/VV', '속이/VV', '속편/NNG',\n",
       "       '손/NNG', '쇼/NNG', '수/NNB', '수/NNG', '수능/NNG', '수작/NNG', '수준/NNG',\n",
       "       '순간/NNG', '순수/NNG', '순위/NNG', '숨/VV', '쉽/VA-I', '스릴/NNG',\n",
       "       '스릴러/NNG', '스케일/NNG', '스타일/NNG', '스토리/NNG', '스파이더맨/NNP', '슬프/VA',\n",
       "       '슬픔/NNG', '습/NNG', '시간/NNG', '시나리오/NNG', '시대/NNG', '시도/NNG',\n",
       "       '시리즈/NNG', '시선/NNG', '시작/NNG', '시절/NNG', '시점/NNG', '시종일관/NNG',\n",
       "       '시즌/NNG', '시청/NNG', '식/NNB', '신/NNG', '신경/NNG', '신나/VV',\n",
       "       '신데렐라/NNP', '실력/NNG', '실망/NNG', '실제/NNG', '실험/NNG', '실화/NNG',\n",
       "       '싫/VA', '싫어하/VV', '심리/NNG', '심형래/NNP', '싶/VX', '싸/VA', '싸우/VV',\n",
       "       '써로게이트/NNP', '쏘/VV', '쓰/VV', '쓰래기/NNG', '쓰레기/NNG', '씨/NNB',\n",
       "       '씬/NNG', '아기/NNG', '아깝/VA-I', '아끼/VV', '아니/VCN', '아니/VCP',\n",
       "       '아들/NNG', '아름답/VA-I', '아무/NP', '아빠/NNG', '아쉽/VA-I', '아이/NNG',\n",
       "       '아저씨/NNG', '아줌마/NNG', '아픔/NNG', '아햏햏/NNP', '악역/NNG', '안/NNG',\n",
       "       '안타깝/VA-I', '않/VX', '알/NNG', '알/VV', '알리/VV', '알바/NNG', '압권/NNG',\n",
       "       '앞/NNG', '앞뒤/NNG', '애/NNG', '애니/NNG', '애니/NNP', '애니메이션/NNG',\n",
       "       '애쓰/VV', '액션/NNG', '약/NNG', '얘기/NNG', '어거지/NNG', '어디/NP', '어떻/VA',\n",
       "       '어렵/VA-I', '어루만지/VV', '어른/NNG', '어리/VA', '어린이/NNG', '어설프/VA',\n",
       "       '어울리/VV', '어이없/VA', '어쩌/VV', '어처구니/NNG', '억/NR', '억지/NNG',\n",
       "       '언니/NNG', '얻/VV-R', '얼굴/NNG', '엄마/NNG', '엄청나/VA', '업/NNG', '없/VA',\n",
       "       '엉망/NNG', '에피소드/NNG', '엔딩/NNG', '여기/NP', '여배우/NNG', '여성/NNG',\n",
       "       '여운/NNG', '여인/NNG', '여자/NNG', '여정/NNG', '여주/NNP', '여주인공/NNG',\n",
       "       '역/NNG', '역겹/VA-I', '역대/NNG', '역사/NNG', '연결/NNG', '연기/NNG',\n",
       "       '연기력/NNG', '연기자/NNG', '연예/NNG', '연예인/NNG', '연인/NNG', '연출/NNG',\n",
       "       '연출력/NNG', '열리/VV', '열정/NNG', '영상/NNG', '영상미/NNG', '영원/NNG',\n",
       "       '영화/NNG', '영화감독/NNG', '영화관/NNG', '예고편/NNG', '예쁘/VA', '예산/NNG',\n",
       "       '예술/NNG', '예전/NNG', '옛날/NNG', '오/NR', '오/VV', '오/VX', '오늘/NNG',\n",
       "       '오랜만/NNG', '오버/NNG', '올리/VV', '올해/NNG', '완벽/NNG', '완성/NNG',\n",
       "       '완전/NNG', '외/NNB', '외계인/NNG', '외국/NNG', '외화/NNG', '요소/NNG',\n",
       "       '요즘/NNG', '욕/NNG', '욕하/VV', '용/NNG', '우리/NP', '우리나라/NNG', '우울/NNG',\n",
       "       '우정/NNG', '울/VV', '웃/VV-R', '웃기/VV', '웃음/NNG', '원/NNG', '원작/NNG',\n",
       "       '월/NNG', '위하/VV', '유럽/NNP', '유리/NNG', '유명/NNG', '유치/NNG', '은희/NNP',\n",
       "       '음식/NNG', '음악/NNG', '의도/NNG', '의미/NNG', '의하/VV', '이/NP', '이/NR',\n",
       "       '이/VCP', '이거/NP', '이것/NP', '이기/NNG', '이기/VV', '이렇/VA', '이름/NNG',\n",
       "       '이번/NNG', '이쁘/VA', '이상/NNG', '이야기/NNG', '이유/NNG', '이제/NNG',\n",
       "       '이해/NNG', '이후/NNG', '인간/NNG', '인물/NNG', '인상/NNG', '인상깊/VA',\n",
       "       '인생/NNG', '인하/VV', '일/NNG', '일/NR', '일본/NNP', '일상/NNG', '일어나/VV',\n",
       "       '일품/NNG', '읽/VV', '잃/VV', '입/VV-R', '잇/VV-I', '잇/VX-R', '있/VA',\n",
       "       '있/VV', '있/VX', '잊/VV', '잊히/VV', '자/NNB', '자/NNG', '자/VV',\n",
       "       '자극/NNG', '자기/NP', '자르/VV', '자막/NNG', '자식/NNG', '자신/NNG', '자연/NNG',\n",
       "       '자위/NNG', '자유/NNG', '자체/NNG', '작/NNG', '작/VA', '작가/NNG', '작품/NNG',\n",
       "       '잔인/NNG', '잠/NNG', '잡/VV-R', '장난/NNG', '장르/NNG', '장면/NNG',\n",
       "       '장애/NNG', '재/VV', '재미/NNG', '재미없/VA', '재미있/VA', '재밌/VA', '재탕/NNG',\n",
       "       '잼/NNG', '저/NP', '저렇/VA', '저질/NNG', '적/NNB', '전/NNG', '전개/NNG',\n",
       "       '전달/NNG', '전설/NNG', '전작/NNG', '전쟁/NNG', '전체/NNG', '전하/VV',\n",
       "       '전형/NNG', '절제/NNG', '점/NNB', '점/NNG', '점수/NNG', '접하/VV', '정도/NNG',\n",
       "       '정신/NNG', '정작/NNG', '제니/NNP', '제목/NNG', '제시카/NNP', '제일/NNG',\n",
       "       '제작/NNG', '제작비/NNG', '조금/NNG', '조연/NNG', '조작/NNG', '조절/NNG',\n",
       "       '조폭/NNG', '존/NNG', '존재/NNG', '졸/VV', '졸작/NNG', '좀비/NNG', '좋/VA',\n",
       "       '좋아하/VV', '죄인/NNG', '주/NNG', '주/VV', '주/VX', '주연/NNG', '주인공/NNG',\n",
       "       '주제/NNG', '죽/VV', '죽/VX', '죽음/NNG', '죽이/VV', '줄/NNB', '줄/NNG',\n",
       "       '줄/VV', '줌/NNG', '중/NNB', '중/NNG', '중간/NNG', '중국/NNP', '중반/NNG',\n",
       "       '중심/NNG', '중요/NNG', '즐겁/VA-I', '즐기/VV', '지/NNB', '지/NP', '지/VV',\n",
       "       '지/VX', '지겹/VA-I', '지구/NNG', '지금/NNG', '지나/VV', '지루하/VA', '지키/VV',\n",
       "       '직전/NNG', '진/NNG', '진리/NNG', '진부하/VA', '진심/NNG', '진짜/NNG',\n",
       "       '진행/NNG', '질/NNG', '질리/VV', '짐승/NNG', '집/NNG', '짓/NNG', '짜임새/NNG',\n",
       "       '짜증/NNG', '짜집/VV-R', '짠하/VA', '짧/VA', '짬뽕/NNG', '짱/NNG', '쩔/VV',\n",
       "       '찌/VV', '찍/VV', '차/NNB', '차/NNG', '차/VV', '차리/VV', '차이/NNG',\n",
       "       '착하/VA', '찬사/NNG', '참/VV', '참고/NNG', '찾/VV', '채널/NNG', '채우/VV',\n",
       "       '책/NNG', '챙기/VV', '처음/NNG', '척/NNB', '천재/NNG', '철학/NNG', '첨/NNG',\n",
       "       '청춘/NNG', '초등/NNG', '초등학교/NNG', '초딩/NNG', '초반/NNG', '촌/NNG',\n",
       "       '총/NNG', '촬영/NNG', '최고/NNG', '최악/NNG', '최초/NNG', '쵝오/NNG',\n",
       "       '추억/NNG', '추천/NNG', '출연/NNG', '춤/NNG', '충격/NNG', '취향/NNG', '치/VV',\n",
       "       '친구/NNG', '카리스마/NNG', '캐릭터/NNG', '캐스팅/NNG', '커플/NNG', '케이블/NNG',\n",
       "       '코미디/NNG', '코믹/NNG', '콩/NNG', '퀄리티/NNG', '크/VA', '키/NNG', '키스/NNG',\n",
       "       '키아누/NNP', '킬링/NNP', '타/VV', '타란티노/NNP', '타임/NNG', '탄탄하/VA',\n",
       "       '탈출/NNG', '탑/NNG', '태어나/VV', '터/NNB', '터미네이터/NNP', '터지/VV',\n",
       "       '통하/VV', '특수/NNG', '특유/NNG', '특이/NNG', '특집/NNG', '틀/VV', '틀리/VA',\n",
       "       '티/NNG', '티비/NNG', '틱/NNG', '틴/NNG', '판/NNB', '판/NNG', '판타지/NNG',\n",
       "       '팔/NNG', '팔/NR', '팔/VV', '패러디/NNG', '패션/NNG', '패턴/NNG', '팬/NNG',\n",
       "       '편/NNB', '편/NNG', '편집/NNG', '평/NNB', '평/NNG', '평가/NNG', '평균/NNG',\n",
       "       '평론가/NNG', '평생/NNG', '평소/NNG', '평점/NNG', '포스/NNG', '포스터/NNG',\n",
       "       '표현/NNG', '풀/VV', '풍기/VV', '프랑스/NNP', '피/VV', '피해자/NNG', '필요/NNG',\n",
       "       '하/VV', '하/VX', '하나/NR', '하나님/NNG', '하늘/NNG', '학교/NNG', '학년/NNG',\n",
       "       '학살/NNG', '한국/NNP', '한마디/NNG', '한석규/NNP', '행동/NNG', '행복/NNG',\n",
       "       '향/NNG', '향수/NNG', '허/VV', '허무/NNG', '허접/NNG', '허준/NNP', '허풍/NNG',\n",
       "       '헐리우드/NNP', '헤어지/VV', '현실/NNG', '현실감/NNG', '형/NNG', '형사/NNG',\n",
       "       '형제/NNG', '호/NNG', '호화/NNG', '화/NNG', '화나/VV', '화면/NNG', '화이팅/NNG',\n",
       "       '회/NNB', '효과/NNG', '후/NNG', '후반부/NNG', '후속작/NNG', '후회/NNG',\n",
       "       '훈훈하/VA', '흐르/VV', '흑인/NNG', '흘리/VV', '흠/NNG', '흥미/NNG',\n",
       "       '흥미진진하/VA', '흥행/NNG', '희망/NNG', '힘/NNG', '힘들/VA'], dtype=object)"
      ]
     },
     "execution_count": 10,
     "metadata": {},
     "output_type": "execute_result"
    }
   ],
   "source": [
    "# 단어 목록\n",
    "words = cv.get_feature_names_out()\n",
    "words"
   ]
  },
  {
   "cell_type": "code",
   "execution_count": 11,
   "metadata": {},
   "outputs": [
    {
     "data": {
      "text/plain": [
       "['nsmc.pkl']"
      ]
     },
     "execution_count": 11,
     "metadata": {},
     "output_type": "execute_result"
    }
   ],
   "source": [
    "# 저장\n",
    "import joblib\n",
    "joblib.dump({'words': words, 'dtm': dtm, 'dtm2': dtm2}, 'nsmc.pkl')"
   ]
  },
  {
   "cell_type": "markdown",
   "metadata": {},
   "source": [
    "#### 데이터 분할"
   ]
  },
  {
   "cell_type": "code",
   "execution_count": 12,
   "metadata": {},
   "outputs": [],
   "source": [
    "# 불러오기\n",
    "import joblib\n",
    "data = joblib.load('nsmc.pkl')\n",
    "locals().update(data)\n",
    "# 지역 변수들을 사전 형태로 만들어줌 (data의 내용을 변수로 만들어줌)"
   ]
  },
  {
   "cell_type": "code",
   "execution_count": 13,
   "metadata": {},
   "outputs": [
    {
     "data": {
      "text/plain": [
       "<2000x1000 sparse matrix of type '<class 'numpy.int64'>'\n",
       "\twith 12527 stored elements in Compressed Sparse Row format>"
      ]
     },
     "execution_count": 13,
     "metadata": {},
     "output_type": "execute_result"
    }
   ],
   "source": [
    "dtm # words, dtm2 등도 가능"
   ]
  },
  {
   "cell_type": "code",
   "execution_count": 14,
   "metadata": {},
   "outputs": [],
   "source": [
    "import pandas as pd\n",
    "nsmc = pd.read_csv('./data/ratings_train.txt', sep='\\t')"
   ]
  },
  {
   "cell_type": "code",
   "execution_count": 15,
   "metadata": {},
   "outputs": [
    {
     "data": {
      "text/plain": [
       "numpy.ndarray"
      ]
     },
     "execution_count": 15,
     "metadata": {},
     "output_type": "execute_result"
    }
   ],
   "source": [
    "# 기계 학습을 위한 필수 전처리\n",
    "type(nsmc.label.values) # 기존 Series 형식을 numpy array 형식으로 변경"
   ]
  },
  {
   "cell_type": "code",
   "execution_count": 16,
   "metadata": {},
   "outputs": [],
   "source": [
    "# 데이터 분할\n",
    "from sklearn.model_selection import train_test_split\n",
    "x = dtm # 단어 문서 행렬\n",
    "y = nsmc.label.values[:2000]\n",
    "x_train, x_test, y_train, y_test = train_test_split(x, y, test_size=0.2, random_state=1984)"
   ]
  },
  {
   "cell_type": "markdown",
   "metadata": {},
   "source": [
    "#### 로지스틱 회귀 분석"
   ]
  },
  {
   "cell_type": "code",
   "execution_count": 17,
   "metadata": {},
   "outputs": [],
   "source": [
    "# 모형 정의\n",
    "import tensorflow as tf\n",
    "\n",
    "model = tf.keras.models.Sequential()\n",
    "# 모델의 구성요소를 순차적으로 삽입하는 모형\n",
    "model.add(tf.keras.layers.Dense(1, activation='sigmoid'))\n",
    "# Dense = 선형모형, 모든 종류의 입력에 일정한 가중치를 곱해줌\n",
    "# 출력은 1개, input_shape 의 입력 형태는 생략, activation 정의를 통해 연속적인 예측을 하는 선형 회귀 모형이 아닌 로지스틱 회귀 모형으로 설정정"
   ]
  },
  {
   "cell_type": "code",
   "execution_count": 18,
   "metadata": {},
   "outputs": [],
   "source": [
    "# 설정\n",
    "model.compile(optimizer='adam', loss='binary_crossentropy', metrics=['accuracy'])\n",
    "# optimizer = 모델의 학습의 방법, sgd (경사하강법) adam(최근 많이 사용하는 변형 형태)\n",
    "# loss = 손실함수, binary_crossentropy (이항 교차 엔트로피 계산)\n",
    "# metrics = 교차 엔트로피는 결과값을 보고 직관적인 이해가 힘드므로, 이해를 위한 보조 형태로 정확도 산출"
   ]
  },
  {
   "cell_type": "code",
   "execution_count": 19,
   "metadata": {},
   "outputs": [
    {
     "name": "stdout",
     "output_type": "stream",
     "text": [
      "Epoch 1/3\n",
      "50/50 [==============================] - 0s 1ms/step - loss: 0.6878 - accuracy: 0.5500\n",
      "Epoch 2/3\n",
      "50/50 [==============================] - 0s 989us/step - loss: 0.6711 - accuracy: 0.6519\n",
      "Epoch 3/3\n",
      "50/50 [==============================] - 0s 1ms/step - loss: 0.6559 - accuracy: 0.7169\n"
     ]
    },
    {
     "data": {
      "text/plain": [
       "<keras.src.callbacks.History at 0x268f8cdfc70>"
      ]
     },
     "execution_count": 19,
     "metadata": {},
     "output_type": "execute_result"
    }
   ],
   "source": [
    "# 훈련\n",
    "model.fit(x_train.A, y_train, epochs=3)\n",
    "# 현재 x_train은 압축되어 있는 형태이기 때문에 .A를 통해 압축을 풀어 입력\n",
    "# epochs = 학습의 횟수"
   ]
  },
  {
   "cell_type": "code",
   "execution_count": 20,
   "metadata": {},
   "outputs": [
    {
     "name": "stdout",
     "output_type": "stream",
     "text": [
      "13/13 [==============================] - 0s 1ms/step - loss: 0.6626 - accuracy: 0.6425\n"
     ]
    },
    {
     "data": {
      "text/plain": [
       "[0.6626058220863342, 0.6424999833106995]"
      ]
     },
     "execution_count": 20,
     "metadata": {},
     "output_type": "execute_result"
    }
   ],
   "source": [
    "# 테스트\n",
    "model.evaluate(x_test.A, y_test)"
   ]
  },
  {
   "cell_type": "code",
   "execution_count": 21,
   "metadata": {},
   "outputs": [
    {
     "name": "stdout",
     "output_type": "stream",
     "text": [
      "INFO:tensorflow:Assets written to: nsmc.krs\\assets\n"
     ]
    },
    {
     "name": "stderr",
     "output_type": "stream",
     "text": [
      "INFO:tensorflow:Assets written to: nsmc.krs\\assets\n"
     ]
    }
   ],
   "source": [
    "# 저장\n",
    "model.save('nsmc.krs')\n",
    "# 폴더에 모델 형성에 필요한 데이터들이 저장됨됨"
   ]
  },
  {
   "cell_type": "markdown",
   "metadata": {},
   "source": [
    "#### 가중치 분석"
   ]
  },
  {
   "cell_type": "code",
   "execution_count": 22,
   "metadata": {},
   "outputs": [],
   "source": [
    "# 모형 불러오기\n",
    "import tensorflow as tf\n",
    "model = tf.keras.models.load_model('nsmc.krs') # 모델 저장 폴더 이름 호출"
   ]
  },
  {
   "cell_type": "code",
   "execution_count": 23,
   "metadata": {},
   "outputs": [],
   "source": [
    "# 파라미터\n",
    "w, b = model.weights # 모델에 입력되어 있는 여러 파라미터를 호출(함수 형태에서 호출 가능)\n",
    "# w = 단어별 가중치 + 면 긍정, - 면 부정"
   ]
  },
  {
   "cell_type": "code",
   "execution_count": 24,
   "metadata": {},
   "outputs": [],
   "source": [
    "# 단어별 가중치 표\n",
    "import pandas as pd\n",
    "word_sent = pd.DataFrame({'토큰': words, '가중치': w.numpy().flat})\n",
    "# w 는 array 형태이기 때문에 데이터 프레임 형태로 만들어줌"
   ]
  },
  {
   "cell_type": "code",
   "execution_count": 25,
   "metadata": {},
   "outputs": [
    {
     "data": {
      "text/html": [
       "<div>\n",
       "<style scoped>\n",
       "    .dataframe tbody tr th:only-of-type {\n",
       "        vertical-align: middle;\n",
       "    }\n",
       "\n",
       "    .dataframe tbody tr th {\n",
       "        vertical-align: top;\n",
       "    }\n",
       "\n",
       "    .dataframe thead th {\n",
       "        text-align: right;\n",
       "    }\n",
       "</style>\n",
       "<table border=\"1\" class=\"dataframe\">\n",
       "  <thead>\n",
       "    <tr style=\"text-align: right;\">\n",
       "      <th></th>\n",
       "      <th>토큰</th>\n",
       "      <th>가중치</th>\n",
       "    </tr>\n",
       "  </thead>\n",
       "  <tbody>\n",
       "    <tr>\n",
       "      <th>746</th>\n",
       "      <td>재미없/VA</td>\n",
       "      <td>-0.153808</td>\n",
       "    </tr>\n",
       "    <tr>\n",
       "      <th>599</th>\n",
       "      <td>없/VA</td>\n",
       "      <td>-0.144478</td>\n",
       "    </tr>\n",
       "    <tr>\n",
       "      <th>165</th>\n",
       "      <td>높/VA</td>\n",
       "      <td>-0.142886</td>\n",
       "    </tr>\n",
       "    <tr>\n",
       "      <th>539</th>\n",
       "      <td>쓰/VV</td>\n",
       "      <td>-0.138577</td>\n",
       "    </tr>\n",
       "    <tr>\n",
       "      <th>287</th>\n",
       "      <td>말/VX</td>\n",
       "      <td>-0.123461</td>\n",
       "    </tr>\n",
       "  </tbody>\n",
       "</table>\n",
       "</div>"
      ],
      "text/plain": [
       "         토큰       가중치\n",
       "746  재미없/VA -0.153808\n",
       "599    없/VA -0.144478\n",
       "165    높/VA -0.142886\n",
       "539    쓰/VV -0.138577\n",
       "287    말/VX -0.123461"
      ]
     },
     "execution_count": 25,
     "metadata": {},
     "output_type": "execute_result"
    }
   ],
   "source": [
    "# 부정단어\n",
    "word_sent.sort_values('가중치').head()"
   ]
  },
  {
   "cell_type": "code",
   "execution_count": 26,
   "metadata": {},
   "outputs": [
    {
     "data": {
      "text/html": [
       "<div>\n",
       "<style scoped>\n",
       "    .dataframe tbody tr th:only-of-type {\n",
       "        vertical-align: middle;\n",
       "    }\n",
       "\n",
       "    .dataframe tbody tr th {\n",
       "        vertical-align: top;\n",
       "    }\n",
       "\n",
       "    .dataframe thead th {\n",
       "        text-align: right;\n",
       "    }\n",
       "</style>\n",
       "<table border=\"1\" class=\"dataframe\">\n",
       "  <thead>\n",
       "    <tr style=\"text-align: right;\">\n",
       "      <th></th>\n",
       "      <th>토큰</th>\n",
       "      <th>가중치</th>\n",
       "    </tr>\n",
       "  </thead>\n",
       "  <tbody>\n",
       "    <tr>\n",
       "      <th>117</th>\n",
       "      <td>나/NP</td>\n",
       "      <td>0.114791</td>\n",
       "    </tr>\n",
       "    <tr>\n",
       "      <th>606</th>\n",
       "      <td>여운/NNG</td>\n",
       "      <td>0.119385</td>\n",
       "    </tr>\n",
       "    <tr>\n",
       "      <th>128</th>\n",
       "      <td>나이/NNG</td>\n",
       "      <td>0.121989</td>\n",
       "    </tr>\n",
       "    <tr>\n",
       "      <th>700</th>\n",
       "      <td>인상/NNG</td>\n",
       "      <td>0.122878</td>\n",
       "    </tr>\n",
       "    <tr>\n",
       "      <th>307</th>\n",
       "      <td>명작/NNG</td>\n",
       "      <td>0.143099</td>\n",
       "    </tr>\n",
       "  </tbody>\n",
       "</table>\n",
       "</div>"
      ],
      "text/plain": [
       "         토큰       가중치\n",
       "117    나/NP  0.114791\n",
       "606  여운/NNG  0.119385\n",
       "128  나이/NNG  0.121989\n",
       "700  인상/NNG  0.122878\n",
       "307  명작/NNG  0.143099"
      ]
     },
     "execution_count": 26,
     "metadata": {},
     "output_type": "execute_result"
    }
   ],
   "source": [
    "# 긍정단어\n",
    "word_sent.sort_values('가중치').tail()"
   ]
  },
  {
   "cell_type": "markdown",
   "metadata": {},
   "source": [
    "#### 희소 행렬 변환 (SparseTensor)"
   ]
  },
  {
   "cell_type": "code",
   "execution_count": 27,
   "metadata": {},
   "outputs": [
    {
     "data": {
      "text/plain": [
       "<1600x1000 sparse matrix of type '<class 'numpy.int64'>'\n",
       "\twith 10015 stored elements in Compressed Sparse Row format>"
      ]
     },
     "execution_count": 27,
     "metadata": {},
     "output_type": "execute_result"
    }
   ],
   "source": [
    "# 문서 단어 행렬을 압축된 형태로 학습시키는 방법\n",
    "x_train\n",
    "# 데이터가 용량이 클 경우, 압축을 풀 경우 학습이 진행이 안 될수도 있음\n",
    "# 현재 scipy의 CSR 포맷이고 모델은 tensor flow 이기 때문에 형식이 맞지 않음"
   ]
  },
  {
   "cell_type": "code",
   "execution_count": 28,
   "metadata": {},
   "outputs": [],
   "source": [
    "# CSR 방식으로 압축된 문서 단어 행렬을 COO 방식으로 변환\n",
    "x_coo = x_train.tocoo()"
   ]
  },
  {
   "cell_type": "code",
   "execution_count": 29,
   "metadata": {},
   "outputs": [
    {
     "data": {
      "text/plain": [
       "array([   0,    0,    0, ..., 1599, 1599, 1599])"
      ]
     },
     "execution_count": 29,
     "metadata": {},
     "output_type": "execute_result"
    }
   ],
   "source": [
    "# 행 번호\n",
    "x_coo.row"
   ]
  },
  {
   "cell_type": "code",
   "execution_count": 30,
   "metadata": {},
   "outputs": [
    {
     "data": {
      "text/plain": [
       "array([683, 126,   0, ..., 465, 171, 375])"
      ]
     },
     "execution_count": 30,
     "metadata": {},
     "output_type": "execute_result"
    }
   ],
   "source": [
    "# 열 번호\n",
    "x_coo.col"
   ]
  },
  {
   "cell_type": "code",
   "execution_count": 31,
   "metadata": {},
   "outputs": [
    {
     "data": {
      "text/plain": [
       "array([3, 1, 1, ..., 1, 1, 1], dtype=int64)"
      ]
     },
     "execution_count": 31,
     "metadata": {},
     "output_type": "execute_result"
    }
   ],
   "source": [
    "# 내용\n",
    "x_coo.data"
   ]
  },
  {
   "cell_type": "code",
   "execution_count": 32,
   "metadata": {},
   "outputs": [
    {
     "data": {
      "text/plain": [
       "array([[   0,  683],\n",
       "       [   0,  126],\n",
       "       [   0,    0],\n",
       "       ...,\n",
       "       [1599,  465],\n",
       "       [1599,  171],\n",
       "       [1599,  375]])"
      ]
     },
     "execution_count": 32,
     "metadata": {},
     "output_type": "execute_result"
    }
   ],
   "source": [
    "# 행 번호와 열 번호를 칼럼으로 합친다\n",
    "import numpy as np\n",
    "index = np.column_stack([x_coo.row, x_coo.col])\n",
    "index"
   ]
  },
  {
   "cell_type": "code",
   "execution_count": 33,
   "metadata": {},
   "outputs": [
    {
     "data": {
      "text/plain": [
       "SparseTensor(indices=tf.Tensor(\n",
       "[[   0  683]\n",
       " [   0  126]\n",
       " [   0    0]\n",
       " ...\n",
       " [1599  465]\n",
       " [1599  171]\n",
       " [1599  375]], shape=(10015, 2), dtype=int64), values=tf.Tensor([3 1 1 ... 1 1 1], shape=(10015,), dtype=int64), dense_shape=tf.Tensor([1600 1000], shape=(2,), dtype=int64))"
      ]
     },
     "execution_count": 33,
     "metadata": {},
     "output_type": "execute_result"
    }
   ],
   "source": [
    "# 텐서플로의 SparseTensor로 변환\n",
    "x_train_sparse = tf.SparseTensor(index, x_coo.data, x_coo.shape)\n",
    "x_train_sparse"
   ]
  },
  {
   "cell_type": "code",
   "execution_count": 34,
   "metadata": {},
   "outputs": [
    {
     "data": {
      "text/plain": [
       "SparseTensor(indices=tf.Tensor(\n",
       "[[   0    0]\n",
       " [   0  126]\n",
       " [   0  148]\n",
       " ...\n",
       " [1599  742]\n",
       " [1599  951]\n",
       " [1599  952]], shape=(10015, 2), dtype=int64), values=tf.Tensor([1 1 1 ... 1 1 7], shape=(10015,), dtype=int64), dense_shape=tf.Tensor([1600 1000], shape=(2,), dtype=int64))"
      ]
     },
     "execution_count": 34,
     "metadata": {},
     "output_type": "execute_result"
    }
   ],
   "source": [
    "# 행과 열 번호를 정렬\n",
    "x_train_sparse = tf.sparse.reorder(x_train_sparse)\n",
    "x_train_sparse\n",
    "# 행 번호와 열 번호의 순서가 섞여있을 경우, 모델에 입력할 수 없음"
   ]
  },
  {
   "cell_type": "code",
   "execution_count": 35,
   "metadata": {},
   "outputs": [
    {
     "name": "stdout",
     "output_type": "stream",
     "text": [
      "50/50 [==============================] - 0s 1ms/step - loss: 0.6422 - accuracy: 0.7406\n"
     ]
    },
    {
     "data": {
      "text/plain": [
       "<keras.src.callbacks.History at 0x268f750d400>"
      ]
     },
     "execution_count": 35,
     "metadata": {},
     "output_type": "execute_result"
    }
   ],
   "source": [
    "# 모형 훈련에 사용\n",
    "model.fit(x_train_sparse, y_train, epochs=1)"
   ]
  },
  {
   "cell_type": "markdown",
   "metadata": {},
   "source": [
    "#### Early Stopping"
   ]
  },
  {
   "cell_type": "code",
   "execution_count": 36,
   "metadata": {},
   "outputs": [
    {
     "name": "stdout",
     "output_type": "stream",
     "text": [
      "Epoch 1/100\n",
      "45/45 [==============================] - 0s 4ms/step - loss: 0.6293 - accuracy: 0.7625 - val_loss: 0.6156 - val_accuracy: 0.8250\n",
      "Epoch 2/100\n",
      "45/45 [==============================] - 0s 2ms/step - loss: 0.6177 - accuracy: 0.7882 - val_loss: 0.6074 - val_accuracy: 0.8438\n",
      "Epoch 3/100\n",
      "45/45 [==============================] - 0s 2ms/step - loss: 0.6065 - accuracy: 0.8000 - val_loss: 0.5999 - val_accuracy: 0.8625\n",
      "Epoch 4/100\n",
      "45/45 [==============================] - 0s 2ms/step - loss: 0.5961 - accuracy: 0.8090 - val_loss: 0.5932 - val_accuracy: 0.8500\n"
     ]
    },
    {
     "data": {
      "text/plain": [
       "<keras.src.callbacks.History at 0x268f769bee0>"
      ]
     },
     "execution_count": 36,
     "metadata": {},
     "output_type": "execute_result"
    }
   ],
   "source": [
    "# validaiont_split 을 통해 중간 테스트에 사용할 validation data의 비율을 지정\n",
    "# callbacks에서 EarlyStopping을 추가하면 각 에포크 끝마다 성능을 테스트하여 중단 여부 결정\n",
    "model.fit(x_train.A, y_train, epochs=100, validation_split=0.1,\n",
    "          callbacks=[tf.keras.callbacks.EarlyStopping(monitor='val_accuracy')])\n",
    "# validation_loss가 더 이상 안 작아질 때 Early Stop\n",
    "# monitor = 옵션 지정을 통해 해당 옵션이 발전하지 않을 때 학습 중단 결정"
   ]
  },
  {
   "cell_type": "markdown",
   "metadata": {},
   "source": [
    "### Practice - kiwipiepy"
   ]
  },
  {
   "cell_type": "code",
   "execution_count": 37,
   "metadata": {},
   "outputs": [],
   "source": [
    "from kiwipiepy import Kiwi\n",
    "#형태소 분석기 초기화\n",
    "kiwi = Kiwi()\n",
    "text = '오늘은 자연어 처리를 배우기 좋은 날이다. 자연어 처리는 재미있다.'"
   ]
  },
  {
   "cell_type": "code",
   "execution_count": 38,
   "metadata": {},
   "outputs": [
    {
     "data": {
      "text/plain": [
       "[([Token(form='오늘', tag='NNG', start=0, len=2),\n",
       "   Token(form='은', tag='JX', start=2, len=1),\n",
       "   Token(form='자연어', tag='NNP', start=4, len=3),\n",
       "   Token(form='처리', tag='NNG', start=8, len=2),\n",
       "   Token(form='를', tag='JKO', start=10, len=1),\n",
       "   Token(form='배우', tag='VV', start=12, len=2),\n",
       "   Token(form='기', tag='ETN', start=14, len=1),\n",
       "   Token(form='좋', tag='VA', start=16, len=1),\n",
       "   Token(form='은', tag='ETM', start=17, len=1),\n",
       "   Token(form='날', tag='NNG', start=19, len=1),\n",
       "   Token(form='이', tag='VCP', start=20, len=1),\n",
       "   Token(form='다', tag='EF', start=21, len=1),\n",
       "   Token(form='.', tag='SF', start=22, len=1),\n",
       "   Token(form='자', tag='IC', start=24, len=1),\n",
       "   Token(form='연어', tag='NNG', start=25, len=2),\n",
       "   Token(form='처리', tag='NNG', start=28, len=2),\n",
       "   Token(form='는', tag='JX', start=30, len=1),\n",
       "   Token(form='재미있', tag='VA', start=32, len=3),\n",
       "   Token(form='다', tag='EF', start=35, len=1),\n",
       "   Token(form='.', tag='SF', start=36, len=1)],\n",
       "  -105.60535430908203)]"
      ]
     },
     "execution_count": 38,
     "metadata": {},
     "output_type": "execute_result"
    }
   ],
   "source": [
    "result = kiwi.analyze(text)\n",
    "result"
   ]
  },
  {
   "cell_type": "code",
   "execution_count": 39,
   "metadata": {},
   "outputs": [
    {
     "data": {
      "text/plain": [
       "[Token(form='오늘', tag='NNG', start=0, len=2),\n",
       " Token(form='은', tag='JX', start=2, len=1),\n",
       " Token(form='자연어', tag='NNP', start=4, len=3),\n",
       " Token(form='처리', tag='NNG', start=8, len=2),\n",
       " Token(form='를', tag='JKO', start=10, len=1),\n",
       " Token(form='배우', tag='VV', start=12, len=2),\n",
       " Token(form='기', tag='ETN', start=14, len=1),\n",
       " Token(form='좋', tag='VA', start=16, len=1),\n",
       " Token(form='은', tag='ETM', start=17, len=1),\n",
       " Token(form='날', tag='NNG', start=19, len=1),\n",
       " Token(form='이', tag='VCP', start=20, len=1),\n",
       " Token(form='다', tag='EF', start=21, len=1),\n",
       " Token(form='.', tag='SF', start=22, len=1),\n",
       " Token(form='자', tag='IC', start=24, len=1),\n",
       " Token(form='연어', tag='NNG', start=25, len=2),\n",
       " Token(form='처리', tag='NNG', start=28, len=2),\n",
       " Token(form='는', tag='JX', start=30, len=1),\n",
       " Token(form='재미있', tag='VA', start=32, len=3),\n",
       " Token(form='다', tag='EF', start=35, len=1),\n",
       " Token(form='.', tag='SF', start=36, len=1)]"
      ]
     },
     "execution_count": 39,
     "metadata": {},
     "output_type": "execute_result"
    }
   ],
   "source": [
    "result[0][0] # result만 출력시, 형태소 분석의 점수가 같이 출력, [0]을 출력 시 점수가 가장 높은 형태서 분석 결과를 출력\n",
    "# 형태소, 품사, 위치, 길이"
   ]
  },
  {
   "cell_type": "code",
   "execution_count": 40,
   "metadata": {},
   "outputs": [
    {
     "name": "stdout",
     "output_type": "stream",
     "text": [
      "오늘\n",
      "자연어\n",
      "처리\n",
      "날\n",
      "연어\n",
      "처리\n"
     ]
    }
   ],
   "source": [
    "# 명사만 추출하기\n",
    "for token, pos, _, _ in result[0][0]:\n",
    "    if pos.startswith('N'):\n",
    "        print(token)\n",
    "# for문 변수의 _ 처리는 받아서 사용하지 않는다면 _ 처리\n",
    "# startswith = N으로 시작한다는 조건 부여 "
   ]
  },
  {
   "cell_type": "code",
   "execution_count": 42,
   "metadata": {},
   "outputs": [],
   "source": [
    "#명사 추출 함수\n",
    "def extract_noun(text):\n",
    "    result = kiwi.analyze(text)\n",
    "    for token, pos, _, _ in result[0][0]:\n",
    "        if pos.startswith('N'):\n",
    "            yield token\n",
    "# if pos[0] in 'NV' ; 명사와 동사 동시 추출출명사 추출 함수\n",
    "def extract_noun(text):\n",
    "    result = kiwi.analyze(text)\n",
    "    for token, pos, _, _ in result[0][0]:\n",
    "            if pos.startswith('N'):\n",
    "                        yield token\n",
    "                        # if pos[0] in 'NV' ; 명사와 동사 동시 추출출"
   ]
  },
  {
   "cell_type": "code",
   "execution_count": 43,
   "metadata": {},
   "outputs": [
    {
     "data": {
      "text/plain": [
       "['어제', '홍차', '오늘', '커피']"
      ]
     },
     "execution_count": 43,
     "metadata": {},
     "output_type": "execute_result"
    }
   ],
   "source": [
    "list(extract_noun('어제는 홍차를 마시고, 오늘은 커피를 마셨다.'))"
   ]
  },
  {
   "cell_type": "markdown",
   "metadata": {},
   "source": [
    "#### Practice - Konlpy"
   ]
  },
  {
   "cell_type": "code",
   "execution_count": null,
   "metadata": {},
   "outputs": [],
   "source": [
    "# !conda install -y -c conda-forge jpype1\n",
    "# !pip install konlpy"
   ]
  },
  {
   "cell_type": "code",
   "execution_count": 44,
   "metadata": {},
   "outputs": [],
   "source": [
    "# 최신 형태소 분석기인 Komoran 사용\n",
    "from konlpy.tag import Komoran\n",
    "# 형태소 분석기 초기화\n",
    "tagger = Komoran()\n",
    "text = '오늘은 자연어 처리를 배우기 좋은 날이다. 자연어 처리는 재미있다.'"
   ]
  },
  {
   "cell_type": "code",
   "execution_count": 45,
   "metadata": {},
   "outputs": [
    {
     "data": {
      "text/plain": [
       "[('오늘', 'NNG'),\n",
       " ('은', 'JX'),\n",
       " ('자연어', 'NNP'),\n",
       " ('처리', 'NNG'),\n",
       " ('를', 'JKO'),\n",
       " ('배우', 'VV'),\n",
       " ('기', 'ETN'),\n",
       " ('좋은 날', 'NNP'),\n",
       " ('이', 'VCP'),\n",
       " ('다', 'EF'),\n",
       " ('.', 'SF'),\n",
       " ('자연어', 'NNP'),\n",
       " ('처리', 'NNG'),\n",
       " ('는', 'JX'),\n",
       " ('재미있', 'VA'),\n",
       " ('다', 'EF'),\n",
       " ('.', 'SF')]"
      ]
     },
     "execution_count": 45,
     "metadata": {},
     "output_type": "execute_result"
    }
   ],
   "source": [
    "tagger.pos(text)\n",
    "# 형태소, 품사"
   ]
  },
  {
   "cell_type": "code",
   "execution_count": 46,
   "metadata": {},
   "outputs": [
    {
     "data": {
      "text/plain": [
       "['오늘', '자연어', '처리', '좋은 날', '자연어', '처리']"
      ]
     },
     "execution_count": 46,
     "metadata": {},
     "output_type": "execute_result"
    }
   ],
   "source": [
    "# 명사 추출 함수\n",
    "tagger.nouns(text)"
   ]
  },
  {
   "cell_type": "markdown",
   "metadata": {},
   "source": [
    "#### Practice - stanza"
   ]
  },
  {
   "cell_type": "code",
   "execution_count": null,
   "metadata": {},
   "outputs": [],
   "source": [
    "# !conda install -y -c pytorch pytorch torchvision\n",
    "# !pip install stanza"
   ]
  },
  {
   "cell_type": "code",
   "execution_count": 47,
   "metadata": {},
   "outputs": [
    {
     "data": {
      "application/vnd.jupyter.widget-view+json": {
       "model_id": "acf8aab9cb884274b75ea24b1b5fe363",
       "version_major": 2,
       "version_minor": 0
      },
      "text/plain": [
       "Downloading https://raw.githubusercontent.com/stanfordnlp/stanza-resources/main/resources_1.6.0.json:   0%|   …"
      ]
     },
     "metadata": {},
     "output_type": "display_data"
    },
    {
     "name": "stderr",
     "output_type": "stream",
     "text": [
      "INFO:stanza:Downloading default packages for language: ko (Korean) ...\n"
     ]
    },
    {
     "data": {
      "application/vnd.jupyter.widget-view+json": {
       "model_id": "37b122ebe5334c199fabb546e9c58933",
       "version_major": 2,
       "version_minor": 0
      },
      "text/plain": [
       "Downloading https://huggingface.co/stanfordnlp/stanza-ko/resolve/v1.6.0/models/default.zip:   0%|          | 0…"
      ]
     },
     "metadata": {},
     "output_type": "display_data"
    },
    {
     "name": "stderr",
     "output_type": "stream",
     "text": [
      "INFO:stanza:Finished downloading models and saved to C:\\Users\\lucky\\stanza_resources.\n"
     ]
    }
   ],
   "source": [
    "import stanza\n",
    "# stanza는 기계학습 방식을 사용하므로, 한국어 데이터 학습된 모형이 필요\n",
    "# 모형 다운로드\n",
    "stanza.download('ko')"
   ]
  },
  {
   "cell_type": "code",
   "execution_count": 48,
   "metadata": {},
   "outputs": [
    {
     "name": "stderr",
     "output_type": "stream",
     "text": [
      "INFO:stanza:Checking for updates to resources.json in case models have been updated.  Note: this behavior can be turned off with download_method=None or download_method=DownloadMethod.REUSE_RESOURCES\n"
     ]
    },
    {
     "data": {
      "application/vnd.jupyter.widget-view+json": {
       "model_id": "4cdfbab3315b428c91fcc0a0b8c1f07b",
       "version_major": 2,
       "version_minor": 0
      },
      "text/plain": [
       "Downloading https://raw.githubusercontent.com/stanfordnlp/stanza-resources/main/resources_1.6.0.json:   0%|   …"
      ]
     },
     "metadata": {},
     "output_type": "display_data"
    },
    {
     "name": "stderr",
     "output_type": "stream",
     "text": [
      "INFO:stanza:Loading these models for language: ko (Korean):\n",
      "==============================\n",
      "| Processor | Package        |\n",
      "------------------------------\n",
      "| tokenize  | kaist          |\n",
      "| pos       | kaist_nocharlm |\n",
      "| lemma     | kaist_nocharlm |\n",
      "| depparse  | kaist_nocharlm |\n",
      "==============================\n",
      "\n",
      "INFO:stanza:Using device: cpu\n",
      "INFO:stanza:Loading: tokenize\n",
      "INFO:stanza:Loading: pos\n",
      "INFO:stanza:Loading: lemma\n",
      "INFO:stanza:Loading: depparse\n",
      "INFO:stanza:Done loading processors!\n"
     ]
    }
   ],
   "source": [
    "# 모형 호출\n",
    "nlp = stanza.Pipeline('ko')"
   ]
  },
  {
   "cell_type": "code",
   "execution_count": 49,
   "metadata": {},
   "outputs": [
    {
     "data": {
      "application/vnd.jupyter.widget-view+json": {
       "model_id": "afb585e615dc48e78fdd0daf6886ce3c",
       "version_major": 2,
       "version_minor": 0
      },
      "text/plain": [
       "Downloading https://raw.githubusercontent.com/stanfordnlp/stanza-resources/main/resources_1.6.0.json:   0%|   …"
      ]
     },
     "metadata": {},
     "output_type": "display_data"
    },
    {
     "name": "stderr",
     "output_type": "stream",
     "text": [
      "INFO:stanza:Downloading these customized packages for language: ko (Korean)...\n",
      "============================\n",
      "| Processor | Package      |\n",
      "----------------------------\n",
      "| tokenize  | gsd          |\n",
      "| pos       | gsd_nocharlm |\n",
      "| lemma     | gsd_nocharlm |\n",
      "| depparse  | gsd_nocharlm |\n",
      "| pretrain  | conll17      |\n",
      "============================\n",
      "\n"
     ]
    },
    {
     "data": {
      "application/vnd.jupyter.widget-view+json": {
       "model_id": "c4bc67d0eee54b6abd78d972f0096fa2",
       "version_major": 2,
       "version_minor": 0
      },
      "text/plain": [
       "Downloading https://huggingface.co/stanfordnlp/stanza-ko/resolve/v1.6.0/models/tokenize/gsd.pt:   0%|         …"
      ]
     },
     "metadata": {},
     "output_type": "display_data"
    },
    {
     "data": {
      "application/vnd.jupyter.widget-view+json": {
       "model_id": "5d82103228ae4723a0d00299cda2501c",
       "version_major": 2,
       "version_minor": 0
      },
      "text/plain": [
       "Downloading https://huggingface.co/stanfordnlp/stanza-ko/resolve/v1.6.0/models/pos/gsd_nocharlm.pt:   0%|     …"
      ]
     },
     "metadata": {},
     "output_type": "display_data"
    },
    {
     "data": {
      "application/vnd.jupyter.widget-view+json": {
       "model_id": "81a72fb0ab8f423fb06b825dfc9342d2",
       "version_major": 2,
       "version_minor": 0
      },
      "text/plain": [
       "Downloading https://huggingface.co/stanfordnlp/stanza-ko/resolve/v1.6.0/models/lemma/gsd_nocharlm.pt:   0%|   …"
      ]
     },
     "metadata": {},
     "output_type": "display_data"
    },
    {
     "data": {
      "application/vnd.jupyter.widget-view+json": {
       "model_id": "8d6017ffe84d426c91f54646d6fd2e4a",
       "version_major": 2,
       "version_minor": 0
      },
      "text/plain": [
       "Downloading https://huggingface.co/stanfordnlp/stanza-ko/resolve/v1.6.0/models/depparse/gsd_nocharlm.pt:   0%|…"
      ]
     },
     "metadata": {},
     "output_type": "display_data"
    },
    {
     "name": "stderr",
     "output_type": "stream",
     "text": [
      "INFO:stanza:File exists: C:\\Users\\lucky\\stanza_resources\\ko\\pretrain\\conll17.pt\n",
      "INFO:stanza:Finished downloading models and saved to C:\\Users\\lucky\\stanza_resources.\n",
      "INFO:stanza:Checking for updates to resources.json in case models have been updated.  Note: this behavior can be turned off with download_method=None or download_method=DownloadMethod.REUSE_RESOURCES\n"
     ]
    },
    {
     "data": {
      "application/vnd.jupyter.widget-view+json": {
       "model_id": "181e633b1c0b42a79f074ed8f95a77e6",
       "version_major": 2,
       "version_minor": 0
      },
      "text/plain": [
       "Downloading https://raw.githubusercontent.com/stanfordnlp/stanza-resources/main/resources_1.6.0.json:   0%|   …"
      ]
     },
     "metadata": {},
     "output_type": "display_data"
    },
    {
     "name": "stderr",
     "output_type": "stream",
     "text": [
      "INFO:stanza:Loading these models for language: ko (Korean):\n",
      "============================\n",
      "| Processor | Package      |\n",
      "----------------------------\n",
      "| tokenize  | gsd          |\n",
      "| pos       | gsd_nocharlm |\n",
      "| lemma     | gsd_nocharlm |\n",
      "| depparse  | gsd_nocharlm |\n",
      "============================\n",
      "\n",
      "INFO:stanza:Using device: cpu\n",
      "INFO:stanza:Loading: tokenize\n",
      "INFO:stanza:Loading: pos\n",
      "INFO:stanza:Loading: lemma\n",
      "INFO:stanza:Loading: depparse\n",
      "INFO:stanza:Done loading processors!\n"
     ]
    }
   ],
   "source": [
    "# 한국어 모형 'kaist'와 'gsd'가 있으며, 'kaist'가 기본\n",
    "# 'gsd' 패키지 사용 용법\n",
    "stanza.download('ko', package='gsd')\n",
    "nlp = stanza.Pipeline('ko', package='gsd')"
   ]
  },
  {
   "cell_type": "code",
   "execution_count": 50,
   "metadata": {},
   "outputs": [],
   "source": [
    "text = '오늘은 자연어 처리를 배우기 좋은 날이다. 자연어 처리는 재미있다.'"
   ]
  },
  {
   "cell_type": "code",
   "execution_count": 51,
   "metadata": {},
   "outputs": [
    {
     "data": {
      "text/plain": [
       "[\n",
       "  [\n",
       "    {\n",
       "      \"id\": 1,\n",
       "      \"text\": \"오늘은\",\n",
       "      \"lemma\": \"오늘+은\",\n",
       "      \"upos\": \"NOUN\",\n",
       "      \"xpos\": \"NNG+JX\",\n",
       "      \"head\": 6,\n",
       "      \"deprel\": \"nsubj\",\n",
       "      \"start_char\": 0,\n",
       "      \"end_char\": 3\n",
       "    },\n",
       "    {\n",
       "      \"id\": 2,\n",
       "      \"text\": \"자연어\",\n",
       "      \"lemma\": \"자연어\",\n",
       "      \"upos\": \"NOUN\",\n",
       "      \"xpos\": \"NNG\",\n",
       "      \"head\": 4,\n",
       "      \"deprel\": \"obj\",\n",
       "      \"start_char\": 4,\n",
       "      \"end_char\": 7\n",
       "    },\n",
       "    {\n",
       "      \"id\": 3,\n",
       "      \"text\": \"처리를\",\n",
       "      \"lemma\": \"처리+를\",\n",
       "      \"upos\": \"NOUN\",\n",
       "      \"xpos\": \"NNG+JKO\",\n",
       "      \"head\": 2,\n",
       "      \"deprel\": \"flat\",\n",
       "      \"start_char\": 8,\n",
       "      \"end_char\": 11\n",
       "    },\n",
       "    {\n",
       "      \"id\": 4,\n",
       "      \"text\": \"배우기\",\n",
       "      \"lemma\": \"배우+기\",\n",
       "      \"upos\": \"NOUN\",\n",
       "      \"xpos\": \"VV+ETN\",\n",
       "      \"head\": 5,\n",
       "      \"deprel\": \"nsubj\",\n",
       "      \"start_char\": 12,\n",
       "      \"end_char\": 15\n",
       "    },\n",
       "    {\n",
       "      \"id\": 5,\n",
       "      \"text\": \"좋은\",\n",
       "      \"lemma\": \"좋+은\",\n",
       "      \"upos\": \"VERB\",\n",
       "      \"xpos\": \"VA+ETM\",\n",
       "      \"head\": 6,\n",
       "      \"deprel\": \"acl:relcl\",\n",
       "      \"start_char\": 16,\n",
       "      \"end_char\": 18\n",
       "    },\n",
       "    {\n",
       "      \"id\": 6,\n",
       "      \"text\": \"날이다\",\n",
       "      \"lemma\": \"날+이+다\",\n",
       "      \"upos\": \"VERB\",\n",
       "      \"xpos\": \"NNG+VCP+EF\",\n",
       "      \"head\": 0,\n",
       "      \"deprel\": \"root\",\n",
       "      \"start_char\": 19,\n",
       "      \"end_char\": 22\n",
       "    },\n",
       "    {\n",
       "      \"id\": 7,\n",
       "      \"text\": \".\",\n",
       "      \"lemma\": \".\",\n",
       "      \"upos\": \"PUNCT\",\n",
       "      \"xpos\": \"SF\",\n",
       "      \"head\": 6,\n",
       "      \"deprel\": \"punct\",\n",
       "      \"start_char\": 22,\n",
       "      \"end_char\": 23\n",
       "    }\n",
       "  ],\n",
       "  [\n",
       "    {\n",
       "      \"id\": 1,\n",
       "      \"text\": \"자연어\",\n",
       "      \"lemma\": \"자연어\",\n",
       "      \"upos\": \"NOUN\",\n",
       "      \"xpos\": \"NNG\",\n",
       "      \"head\": 3,\n",
       "      \"deprel\": \"nsubj\",\n",
       "      \"start_char\": 24,\n",
       "      \"end_char\": 27\n",
       "    },\n",
       "    {\n",
       "      \"id\": 2,\n",
       "      \"text\": \"처리는\",\n",
       "      \"lemma\": \"처리+는\",\n",
       "      \"upos\": \"NOUN\",\n",
       "      \"xpos\": \"NNG+JX\",\n",
       "      \"head\": 1,\n",
       "      \"deprel\": \"flat\",\n",
       "      \"start_char\": 28,\n",
       "      \"end_char\": 31\n",
       "    },\n",
       "    {\n",
       "      \"id\": 3,\n",
       "      \"text\": \"재미있다\",\n",
       "      \"lemma\": \"재미있+다\",\n",
       "      \"upos\": \"ADJ\",\n",
       "      \"xpos\": \"VA+EF\",\n",
       "      \"head\": 0,\n",
       "      \"deprel\": \"root\",\n",
       "      \"start_char\": 32,\n",
       "      \"end_char\": 36\n",
       "    },\n",
       "    {\n",
       "      \"id\": 4,\n",
       "      \"text\": \".\",\n",
       "      \"lemma\": \".\",\n",
       "      \"upos\": \"PUNCT\",\n",
       "      \"xpos\": \"SF\",\n",
       "      \"head\": 3,\n",
       "      \"deprel\": \"punct\",\n",
       "      \"start_char\": 36,\n",
       "      \"end_char\": 37\n",
       "    }\n",
       "  ]\n",
       "]"
      ]
     },
     "execution_count": 51,
     "metadata": {},
     "output_type": "execute_result"
    }
   ],
   "source": [
    "# 문장 형태소 분석 후 doc 변수에 저장\n",
    "doc = nlp(text)\n",
    "doc"
   ]
  },
  {
   "cell_type": "code",
   "execution_count": 52,
   "metadata": {},
   "outputs": [
    {
     "data": {
      "text/plain": [
       "[\n",
       "  {\n",
       "    \"id\": 1,\n",
       "    \"text\": \"오늘은\",\n",
       "    \"lemma\": \"오늘+은\",\n",
       "    \"upos\": \"NOUN\",\n",
       "    \"xpos\": \"NNG+JX\",\n",
       "    \"head\": 6,\n",
       "    \"deprel\": \"nsubj\",\n",
       "    \"start_char\": 0,\n",
       "    \"end_char\": 3\n",
       "  },\n",
       "  {\n",
       "    \"id\": 2,\n",
       "    \"text\": \"자연어\",\n",
       "    \"lemma\": \"자연어\",\n",
       "    \"upos\": \"NOUN\",\n",
       "    \"xpos\": \"NNG\",\n",
       "    \"head\": 4,\n",
       "    \"deprel\": \"obj\",\n",
       "    \"start_char\": 4,\n",
       "    \"end_char\": 7\n",
       "  },\n",
       "  {\n",
       "    \"id\": 3,\n",
       "    \"text\": \"처리를\",\n",
       "    \"lemma\": \"처리+를\",\n",
       "    \"upos\": \"NOUN\",\n",
       "    \"xpos\": \"NNG+JKO\",\n",
       "    \"head\": 2,\n",
       "    \"deprel\": \"flat\",\n",
       "    \"start_char\": 8,\n",
       "    \"end_char\": 11\n",
       "  },\n",
       "  {\n",
       "    \"id\": 4,\n",
       "    \"text\": \"배우기\",\n",
       "    \"lemma\": \"배우+기\",\n",
       "    \"upos\": \"NOUN\",\n",
       "    \"xpos\": \"VV+ETN\",\n",
       "    \"head\": 5,\n",
       "    \"deprel\": \"nsubj\",\n",
       "    \"start_char\": 12,\n",
       "    \"end_char\": 15\n",
       "  },\n",
       "  {\n",
       "    \"id\": 5,\n",
       "    \"text\": \"좋은\",\n",
       "    \"lemma\": \"좋+은\",\n",
       "    \"upos\": \"VERB\",\n",
       "    \"xpos\": \"VA+ETM\",\n",
       "    \"head\": 6,\n",
       "    \"deprel\": \"acl:relcl\",\n",
       "    \"start_char\": 16,\n",
       "    \"end_char\": 18\n",
       "  },\n",
       "  {\n",
       "    \"id\": 6,\n",
       "    \"text\": \"날이다\",\n",
       "    \"lemma\": \"날+이+다\",\n",
       "    \"upos\": \"VERB\",\n",
       "    \"xpos\": \"NNG+VCP+EF\",\n",
       "    \"head\": 0,\n",
       "    \"deprel\": \"root\",\n",
       "    \"start_char\": 19,\n",
       "    \"end_char\": 22\n",
       "  },\n",
       "  {\n",
       "    \"id\": 7,\n",
       "    \"text\": \".\",\n",
       "    \"lemma\": \".\",\n",
       "    \"upos\": \"PUNCT\",\n",
       "    \"xpos\": \"SF\",\n",
       "    \"head\": 6,\n",
       "    \"deprel\": \"punct\",\n",
       "    \"start_char\": 22,\n",
       "    \"end_char\": 23\n",
       "  }\n",
       "]"
      ]
     },
     "execution_count": 52,
     "metadata": {},
     "output_type": "execute_result"
    }
   ],
   "source": [
    "# .sentences에 분석된 문장들이 리스트 형태로 저장\n",
    "sentence = doc.sentences[0]\n",
    "sentence"
   ]
  },
  {
   "cell_type": "code",
   "execution_count": 53,
   "metadata": {},
   "outputs": [
    {
     "data": {
      "text/plain": [
       "{\n",
       "  \"id\": 1,\n",
       "  \"text\": \"오늘은\",\n",
       "  \"lemma\": \"오늘+은\",\n",
       "  \"upos\": \"NOUN\",\n",
       "  \"xpos\": \"NNG+JX\",\n",
       "  \"head\": 6,\n",
       "  \"deprel\": \"nsubj\",\n",
       "  \"start_char\": 0,\n",
       "  \"end_char\": 3\n",
       "}"
      ]
     },
     "execution_count": 53,
     "metadata": {},
     "output_type": "execute_result"
    }
   ],
   "source": [
    "# .words에 분석된 어절들이 리스트 형태로 저장\n",
    "word = sentence.words[0]\n",
    "word"
   ]
  },
  {
   "cell_type": "code",
   "execution_count": 54,
   "metadata": {},
   "outputs": [
    {
     "data": {
      "text/plain": [
       "'오늘+은'"
      ]
     },
     "execution_count": 54,
     "metadata": {},
     "output_type": "execute_result"
    }
   ],
   "source": [
    "# 어절을 이루는 형태소의 표제어들을 보여줌; 형태소가 2개 이상인 경우 +표시로 구분 어절을 이루는 형태소의 표제어들을 보여줌; 형태소가 2개 이상인 경우 +표시로 구분\n",
    "word.lemma"
   ]
  },
  {
   "cell_type": "code",
   "execution_count": 55,
   "metadata": {},
   "outputs": [
    {
     "data": {
      "text/plain": [
       "'NNG+JX'"
      ]
     },
     "execution_count": 55,
     "metadata": {},
     "output_type": "execute_result"
    }
   ],
   "source": [
    "# 품사 정보\n",
    "word.xpos"
   ]
  },
  {
   "cell_type": "markdown",
   "metadata": {},
   "source": [
    "#### Practice - 단어와 품사 태그 짝짓기"
   ]
  },
  {
   "cell_type": "code",
   "execution_count": 56,
   "metadata": {},
   "outputs": [
    {
     "name": "stderr",
     "output_type": "stream",
     "text": [
      "INFO:stanza:Checking for updates to resources.json in case models have been updated.  Note: this behavior can be turned off with download_method=None or download_method=DownloadMethod.REUSE_RESOURCES\n"
     ]
    },
    {
     "data": {
      "application/vnd.jupyter.widget-view+json": {
       "model_id": "f51ae8c1fe694df5832f0ef6bd58dad3",
       "version_major": 2,
       "version_minor": 0
      },
      "text/plain": [
       "Downloading https://raw.githubusercontent.com/stanfordnlp/stanza-resources/main/resources_1.6.0.json:   0%|   …"
      ]
     },
     "metadata": {},
     "output_type": "display_data"
    },
    {
     "name": "stderr",
     "output_type": "stream",
     "text": [
      "INFO:stanza:Loading these models for language: ko (Korean):\n",
      "==============================\n",
      "| Processor | Package        |\n",
      "------------------------------\n",
      "| tokenize  | kaist          |\n",
      "| pos       | kaist_nocharlm |\n",
      "| lemma     | kaist_nocharlm |\n",
      "| depparse  | kaist_nocharlm |\n",
      "==============================\n",
      "\n",
      "INFO:stanza:Using device: cpu\n",
      "INFO:stanza:Loading: tokenize\n",
      "INFO:stanza:Loading: pos\n",
      "INFO:stanza:Loading: lemma\n",
      "INFO:stanza:Loading: depparse\n",
      "INFO:stanza:Done loading processors!\n"
     ]
    }
   ],
   "source": [
    "# stanza 는 한 어절에 형태소가 여러 개 있으면, 표제어와 품사가 +로 묶여서 나온다는 불편함이 존재; 해당 불편함을 해소하는 과정\n",
    "\n",
    "#import stanza\n",
    "nlp = stanza.Pipeline('ko')\n",
    "text = '오늘은 자연어 처리를 공부하기 좋은 날이다.'"
   ]
  },
  {
   "cell_type": "code",
   "execution_count": 57,
   "metadata": {},
   "outputs": [],
   "source": [
    "doc = nlp(text)"
   ]
  },
  {
   "cell_type": "code",
   "execution_count": 58,
   "metadata": {},
   "outputs": [
    {
     "data": {
      "text/plain": [
       "{\n",
       "  \"id\": 1,\n",
       "  \"text\": \"오늘은\",\n",
       "  \"lemma\": \"오늘+은\",\n",
       "  \"upos\": \"NOUN\",\n",
       "  \"xpos\": \"ncn+jxt\",\n",
       "  \"head\": 6,\n",
       "  \"deprel\": \"dislocated\",\n",
       "  \"start_char\": 0,\n",
       "  \"end_char\": 3\n",
       "}"
      ]
     },
     "execution_count": 58,
     "metadata": {},
     "output_type": "execute_result"
    }
   ],
   "source": [
    "word = doc.sentences[0].words[0]\n",
    "word"
   ]
  },
  {
   "cell_type": "code",
   "execution_count": 59,
   "metadata": {},
   "outputs": [
    {
     "data": {
      "text/plain": [
       "'오늘+은'"
      ]
     },
     "execution_count": 59,
     "metadata": {},
     "output_type": "execute_result"
    }
   ],
   "source": [
    "word.lemma"
   ]
  },
  {
   "cell_type": "code",
   "execution_count": 60,
   "metadata": {},
   "outputs": [
    {
     "data": {
      "text/plain": [
       "'ncn+jxt'"
      ]
     },
     "execution_count": 60,
     "metadata": {},
     "output_type": "execute_result"
    }
   ],
   "source": [
    "word.xpos"
   ]
  },
  {
   "cell_type": "code",
   "execution_count": 61,
   "metadata": {},
   "outputs": [
    {
     "data": {
      "text/plain": [
       "['오늘', '은']"
      ]
     },
     "execution_count": 61,
     "metadata": {},
     "output_type": "execute_result"
    }
   ],
   "source": [
    "# + 을 기준으로 분리\n",
    "word.lemma.split('+')"
   ]
  },
  {
   "cell_type": "code",
   "execution_count": 62,
   "metadata": {},
   "outputs": [
    {
     "data": {
      "text/plain": [
       "['ncn', 'jxt']"
      ]
     },
     "execution_count": 62,
     "metadata": {},
     "output_type": "execute_result"
    }
   ],
   "source": [
    "word.xpos.split('+')"
   ]
  },
  {
   "cell_type": "code",
   "execution_count": 63,
   "metadata": {},
   "outputs": [
    {
     "data": {
      "text/plain": [
       "[('오늘', 'ncn'), ('은', 'jxt')]"
      ]
     },
     "execution_count": 63,
     "metadata": {},
     "output_type": "execute_result"
    }
   ],
   "source": [
    "# zip 함수를 통해, 각 리스트의 번호끼리 짝지어 리스트로 반환\n",
    "list(zip(word.lemma.split('+'), word.xpos.split('+')))"
   ]
  },
  {
   "cell_type": "code",
   "execution_count": 64,
   "metadata": {},
   "outputs": [
    {
     "name": "stdout",
     "output_type": "stream",
     "text": [
      "오늘 ncn\n",
      "은 jxt\n",
      "자연어 ncn\n",
      "처리 ncpa\n",
      "를 jco\n",
      "공부 ncpa\n",
      "하 xsv\n",
      "기 etn\n",
      "좋 paa\n",
      "ㄴ etm\n",
      "날 ncn\n",
      "이 jp\n",
      "다 ef\n",
      ". sf\n"
     ]
    }
   ],
   "source": [
    "for word in doc.sentences[0].words:\n",
    "    lemma = word.lemma.split('+')\n",
    "    xpos = word.xpos.split('+')\n",
    "    for token, pos in zip(lemma, xpos):\n",
    "        print(token, pos)"
   ]
  },
  {
   "cell_type": "code",
   "execution_count": 65,
   "metadata": {},
   "outputs": [],
   "source": [
    "# 명사 추출\n",
    "text = '오늘 커피를 마셨다.'\n",
    "doc = nlp(text)"
   ]
  },
  {
   "cell_type": "code",
   "execution_count": 66,
   "metadata": {},
   "outputs": [
    {
     "name": "stdout",
     "output_type": "stream",
     "text": [
      "오늘\n",
      "커피\n"
     ]
    }
   ],
   "source": [
    "# 명사 표시는 n 으로 시작하므로, 해당하는 형태소만 출력 명사 표시는 n 으로 시작하므로, 해당하는 형태소만 출력\n",
    "for word in doc.sentences[0].words:\n",
    "    lemma = word.lemma.split('+')\n",
    "    xpos = word.xpos.split('+')\n",
    "\n",
    "    for tok, pos in zip(lemma, xpos):\n",
    "        if pos.startswith('n'):\n",
    "            print(tok)"
   ]
  },
  {
   "cell_type": "code",
   "execution_count": 67,
   "metadata": {},
   "outputs": [],
   "source": [
    "def extract_noun(text):\n",
    "    doc = nlp(text)\n",
    "    for sentence in doc.sentences:\n",
    "        for word in sentence.words:\n",
    "            lemma = word.lemma.split('+')\n",
    "            xpos = word.xpos.split('+')\n",
    "            for tok, pos in zip(lemma, xpos):\n",
    "                if pos.startswith('n'):\n",
    "                    yield tok\n",
    "# 결과가 나올 때마다(명사를 하나 만날 때마다) 반환; yield\n",
    "# list 로 묶어주면 결과값 출력\n",
    "# 빈 리스트를 만들어서 tok를 append 해주고, 마지막에 return 해주는 식으로도 함수 작성 가능"
   ]
  },
  {
   "cell_type": "code",
   "execution_count": 68,
   "metadata": {},
   "outputs": [
    {
     "data": {
      "text/plain": [
       "['편의점', '커피']"
      ]
     },
     "execution_count": 68,
     "metadata": {},
     "output_type": "execute_result"
    }
   ],
   "source": [
    "list(extract_noun('편의점에서 커피를 샀다.'))"
   ]
  },
  {
   "cell_type": "code",
   "execution_count": 69,
   "metadata": {},
   "outputs": [
    {
     "data": {
      "text/plain": [
       "['토끼', '당근']"
      ]
     },
     "execution_count": 69,
     "metadata": {},
     "output_type": "execute_result"
    }
   ],
   "source": [
    "list(extract_noun('토끼는 당근을 좋아할까?'))"
   ]
  },
  {
   "cell_type": "markdown",
   "metadata": {},
   "source": [
    "#### Practice - 한국어 단어 문서 행렬"
   ]
  },
  {
   "cell_type": "code",
   "execution_count": 70,
   "metadata": {},
   "outputs": [],
   "source": [
    "# 데이터 다운로드\n",
    "import requests\n",
    "\n",
    "res = requests.get('https://github.com/e9t/nsmc/raw/master/ratings_train.txt')\n",
    "\n",
    "with open('nsmc_train.csv', 'wb') as f:\n",
    "    f.write(res.content)"
   ]
  },
  {
   "cell_type": "code",
   "execution_count": 71,
   "metadata": {},
   "outputs": [
    {
     "data": {
      "text/html": [
       "<div>\n",
       "<style scoped>\n",
       "    .dataframe tbody tr th:only-of-type {\n",
       "        vertical-align: middle;\n",
       "    }\n",
       "\n",
       "    .dataframe tbody tr th {\n",
       "        vertical-align: top;\n",
       "    }\n",
       "\n",
       "    .dataframe thead th {\n",
       "        text-align: right;\n",
       "    }\n",
       "</style>\n",
       "<table border=\"1\" class=\"dataframe\">\n",
       "  <thead>\n",
       "    <tr style=\"text-align: right;\">\n",
       "      <th></th>\n",
       "      <th>id</th>\n",
       "      <th>document</th>\n",
       "      <th>label</th>\n",
       "    </tr>\n",
       "  </thead>\n",
       "  <tbody>\n",
       "    <tr>\n",
       "      <th>0</th>\n",
       "      <td>9976970</td>\n",
       "      <td>아 더빙.. 진짜 짜증나네요 목소리</td>\n",
       "      <td>0</td>\n",
       "    </tr>\n",
       "    <tr>\n",
       "      <th>1</th>\n",
       "      <td>3819312</td>\n",
       "      <td>흠...포스터보고 초딩영화줄....오버연기조차 가볍지 않구나</td>\n",
       "      <td>1</td>\n",
       "    </tr>\n",
       "    <tr>\n",
       "      <th>2</th>\n",
       "      <td>10265843</td>\n",
       "      <td>너무재밓었다그래서보는것을추천한다</td>\n",
       "      <td>0</td>\n",
       "    </tr>\n",
       "    <tr>\n",
       "      <th>3</th>\n",
       "      <td>9045019</td>\n",
       "      <td>교도소 이야기구먼 ..솔직히 재미는 없다..평점 조정</td>\n",
       "      <td>0</td>\n",
       "    </tr>\n",
       "    <tr>\n",
       "      <th>4</th>\n",
       "      <td>6483659</td>\n",
       "      <td>사이몬페그의 익살스런 연기가 돋보였던 영화!스파이더맨에서 늙어보이기만 했던 커스틴 ...</td>\n",
       "      <td>1</td>\n",
       "    </tr>\n",
       "  </tbody>\n",
       "</table>\n",
       "</div>"
      ],
      "text/plain": [
       "         id                                           document  label\n",
       "0   9976970                                아 더빙.. 진짜 짜증나네요 목소리      0\n",
       "1   3819312                  흠...포스터보고 초딩영화줄....오버연기조차 가볍지 않구나      1\n",
       "2  10265843                                  너무재밓었다그래서보는것을추천한다      0\n",
       "3   9045019                      교도소 이야기구먼 ..솔직히 재미는 없다..평점 조정      0\n",
       "4   6483659  사이몬페그의 익살스런 연기가 돋보였던 영화!스파이더맨에서 늙어보이기만 했던 커스틴 ...      1"
      ]
     },
     "execution_count": 71,
     "metadata": {},
     "output_type": "execute_result"
    }
   ],
   "source": [
    "# 데이터 불러오기\n",
    "import pandas as pd\n",
    "nsmc = pd.read_csv('nsmc_train.csv', sep='\\t')\n",
    "nsmc.head()"
   ]
  },
  {
   "cell_type": "code",
   "execution_count": 72,
   "metadata": {},
   "outputs": [],
   "source": [
    "# 명사 추출 함수\n",
    "def extract_nouns(text):\n",
    "    doc = nlp(text)\n",
    "    for sentence in doc.sentences:\n",
    "        for word in sentence.words:\n",
    "            lemma = word.lemma.split('+')\n",
    "            xpos = word.xpos.split('+')\n",
    "            for lem, pos in zip(lemma, xpos):\n",
    "                if pos.startswith('n'):\n",
    "                    yield lem"
   ]
  },
  {
   "cell_type": "code",
   "execution_count": 73,
   "metadata": {},
   "outputs": [
    {
     "data": {
      "text/plain": [
       "'교도소 이야기구먼 ..솔직히 재미는 없다..평점 조정'"
      ]
     },
     "execution_count": 73,
     "metadata": {},
     "output_type": "execute_result"
    }
   ],
   "source": [
    "nsmc.loc[3, 'document']"
   ]
  },
  {
   "cell_type": "code",
   "execution_count": 74,
   "metadata": {},
   "outputs": [
    {
     "data": {
      "text/plain": [
       "['교도소', '이야기', '재미', '평점', '조정']"
      ]
     },
     "execution_count": 74,
     "metadata": {},
     "output_type": "execute_result"
    }
   ],
   "source": [
    "list(extract_nouns(nsmc.loc[3, 'document']))"
   ]
  },
  {
   "cell_type": "code",
   "execution_count": 75,
   "metadata": {},
   "outputs": [],
   "source": [
    "# TDM 만들기\n",
    "from sklearn.feature_extraction.text import CountVectorizer\n",
    "cv = CountVectorizer(max_features=100, tokenizer=extract_nouns)\n",
    "# 추출할 단어 갯수 100개 설정, 빈도 순으로 최대 100 단어까지 포함, tokenizer 지정을 통해 한국어 명사만 추출해 TDM 생성"
   ]
  },
  {
   "cell_type": "code",
   "execution_count": 76,
   "metadata": {},
   "outputs": [
    {
     "data": {
      "text/plain": [
       "(101, 100)"
      ]
     },
     "execution_count": 76,
     "metadata": {},
     "output_type": "execute_result"
    }
   ],
   "source": [
    "# 101개의 영화평 분석 후 결과 tdm에 저장; 실습을 위해 적은 데이터만 사용\n",
    "tdm = cv.fit_transform(nsmc.loc[0:100, 'document'])\n",
    "tdm.shape"
   ]
  },
  {
   "cell_type": "code",
   "execution_count": 78,
   "metadata": {},
   "outputs": [],
   "source": [
    "word_count = pd.DataFrame({\n",
    "    '단어': cv.get_feature_names_out(),\n",
    "    '빈도': tdm.sum(axis=0).flat\n",
    "})"
   ]
  },
  {
   "cell_type": "code",
   "execution_count": 79,
   "metadata": {},
   "outputs": [
    {
     "data": {
      "text/html": [
       "<div>\n",
       "<style scoped>\n",
       "    .dataframe tbody tr th:only-of-type {\n",
       "        vertical-align: middle;\n",
       "    }\n",
       "\n",
       "    .dataframe tbody tr th {\n",
       "        vertical-align: top;\n",
       "    }\n",
       "\n",
       "    .dataframe thead th {\n",
       "        text-align: right;\n",
       "    }\n",
       "</style>\n",
       "<table border=\"1\" class=\"dataframe\">\n",
       "  <thead>\n",
       "    <tr style=\"text-align: right;\">\n",
       "      <th></th>\n",
       "      <th>단어</th>\n",
       "      <th>빈도</th>\n",
       "    </tr>\n",
       "  </thead>\n",
       "  <tbody>\n",
       "    <tr>\n",
       "      <th>50</th>\n",
       "      <td>영화</td>\n",
       "      <td>21</td>\n",
       "    </tr>\n",
       "    <tr>\n",
       "      <th>48</th>\n",
       "      <td>연기</td>\n",
       "      <td>7</td>\n",
       "    </tr>\n",
       "    <tr>\n",
       "      <th>98</th>\n",
       "      <td>평점</td>\n",
       "      <td>5</td>\n",
       "    </tr>\n",
       "    <tr>\n",
       "      <th>12</th>\n",
       "      <td>내용</td>\n",
       "      <td>5</td>\n",
       "    </tr>\n",
       "    <tr>\n",
       "      <th>91</th>\n",
       "      <td>진짜</td>\n",
       "      <td>4</td>\n",
       "    </tr>\n",
       "  </tbody>\n",
       "</table>\n",
       "</div>"
      ],
      "text/plain": [
       "    단어  빈도\n",
       "50  영화  21\n",
       "48  연기   7\n",
       "98  평점   5\n",
       "12  내용   5\n",
       "91  진짜   4"
      ]
     },
     "execution_count": 79,
     "metadata": {},
     "output_type": "execute_result"
    }
   ],
   "source": [
    "word_count.sort_values('빈도', ascending=False).head()"
   ]
  },
  {
   "cell_type": "code",
   "execution_count": 80,
   "metadata": {},
   "outputs": [],
   "source": [
    "# 빈도표 저장\n",
    "word_count.to_excel('nsmc-count.xlsx')"
   ]
  },
  {
   "cell_type": "code",
   "execution_count": 81,
   "metadata": {},
   "outputs": [
    {
     "data": {
      "text/html": [
       "<div>\n",
       "<style scoped>\n",
       "    .dataframe tbody tr th:only-of-type {\n",
       "        vertical-align: middle;\n",
       "    }\n",
       "\n",
       "    .dataframe tbody tr th {\n",
       "        vertical-align: top;\n",
       "    }\n",
       "\n",
       "    .dataframe thead th {\n",
       "        text-align: right;\n",
       "    }\n",
       "</style>\n",
       "<table border=\"1\" class=\"dataframe\">\n",
       "  <thead>\n",
       "    <tr style=\"text-align: right;\">\n",
       "      <th></th>\n",
       "      <th>Unnamed: 0</th>\n",
       "      <th>단어</th>\n",
       "      <th>빈도</th>\n",
       "    </tr>\n",
       "  </thead>\n",
       "  <tbody>\n",
       "    <tr>\n",
       "      <th>0</th>\n",
       "      <td>0</td>\n",
       "      <td>1</td>\n",
       "      <td>2</td>\n",
       "    </tr>\n",
       "    <tr>\n",
       "      <th>1</th>\n",
       "      <td>1</td>\n",
       "      <td>10</td>\n",
       "      <td>2</td>\n",
       "    </tr>\n",
       "    <tr>\n",
       "      <th>2</th>\n",
       "      <td>2</td>\n",
       "      <td>3</td>\n",
       "      <td>2</td>\n",
       "    </tr>\n",
       "    <tr>\n",
       "      <th>3</th>\n",
       "      <td>3</td>\n",
       "      <td>8</td>\n",
       "      <td>2</td>\n",
       "    </tr>\n",
       "    <tr>\n",
       "      <th>4</th>\n",
       "      <td>4</td>\n",
       "      <td>ㅋㅋㅋ</td>\n",
       "      <td>2</td>\n",
       "    </tr>\n",
       "    <tr>\n",
       "      <th>...</th>\n",
       "      <td>...</td>\n",
       "      <td>...</td>\n",
       "      <td>...</td>\n",
       "    </tr>\n",
       "    <tr>\n",
       "      <th>95</th>\n",
       "      <td>95</td>\n",
       "      <td>최고</td>\n",
       "      <td>4</td>\n",
       "    </tr>\n",
       "    <tr>\n",
       "      <th>96</th>\n",
       "      <td>96</td>\n",
       "      <td>캐릭터</td>\n",
       "      <td>2</td>\n",
       "    </tr>\n",
       "    <tr>\n",
       "      <th>97</th>\n",
       "      <td>97</td>\n",
       "      <td>평범</td>\n",
       "      <td>3</td>\n",
       "    </tr>\n",
       "    <tr>\n",
       "      <th>98</th>\n",
       "      <td>98</td>\n",
       "      <td>평점</td>\n",
       "      <td>5</td>\n",
       "    </tr>\n",
       "    <tr>\n",
       "      <th>99</th>\n",
       "      <td>99</td>\n",
       "      <td>하나</td>\n",
       "      <td>2</td>\n",
       "    </tr>\n",
       "  </tbody>\n",
       "</table>\n",
       "<p>100 rows × 3 columns</p>\n",
       "</div>"
      ],
      "text/plain": [
       "    Unnamed: 0   단어  빈도\n",
       "0            0    1   2\n",
       "1            1   10   2\n",
       "2            2    3   2\n",
       "3            3    8   2\n",
       "4            4  ㅋㅋㅋ   2\n",
       "..         ...  ...  ..\n",
       "95          95   최고   4\n",
       "96          96  캐릭터   2\n",
       "97          97   평범   3\n",
       "98          98   평점   5\n",
       "99          99   하나   2\n",
       "\n",
       "[100 rows x 3 columns]"
      ]
     },
     "execution_count": 81,
     "metadata": {},
     "output_type": "execute_result"
    }
   ],
   "source": [
    "# 한국어 단어 구름\n",
    "import pandas as pd\n",
    "word_count = pd.read_excel('nsmc-count.xlsx')\n",
    "word_count"
   ]
  },
  {
   "cell_type": "code",
   "execution_count": 82,
   "metadata": {},
   "outputs": [
    {
     "data": {
      "text/plain": [
       "{'1': 2,\n",
       " '10': 2,\n",
       " '3': 2,\n",
       " '8': 2,\n",
       " 'ㅋㅋㅋ': 2,\n",
       " '감동': 2,\n",
       " '것': 3,\n",
       " '관객': 2,\n",
       " '그것': 2,\n",
       " '기대': 2,\n",
       " '나': 2,\n",
       " '내': 2,\n",
       " '내용': 5,\n",
       " '년대': 2,\n",
       " '느끼': 2,\n",
       " '드라마': 3,\n",
       " '듯': 2,\n",
       " '만찬': 2,\n",
       " '물건': 2,\n",
       " '뭐': 2,\n",
       " '바베트': 2,\n",
       " '사람': 4,\n",
       " '사랑': 2,\n",
       " '생각': 2,\n",
       " '속': 2,\n",
       " '수': 2,\n",
       " '스토리': 2,\n",
       " '신문': 1,\n",
       " '신선': 1,\n",
       " '신카이': 1,\n",
       " '실력': 1,\n",
       " '실망': 1,\n",
       " '심심': 1,\n",
       " '심오': 1,\n",
       " '아..시간아': 1,\n",
       " '아쉽네요ㅠㅠ': 1,\n",
       " '아예안나오': 1,\n",
       " '아이돌': 1,\n",
       " '아햏햏': 3,\n",
       " '악역': 1,\n",
       " '안': 3,\n",
       " '안나': 1,\n",
       " '억지': 1,\n",
       " '언제': 2,\n",
       " '엄포스': 1,\n",
       " '엉망': 1,\n",
       " '에속': 1,\n",
       " '에피소드': 2,\n",
       " '연기': 7,\n",
       " '영혼': 1,\n",
       " '영화': 21,\n",
       " '영화!스파이더맨맨': 1,\n",
       " '예전': 1,\n",
       " '예측': 1,\n",
       " '오버연기': 1,\n",
       " '온몸': 1,\n",
       " '완전': 4,\n",
       " '윈투어': 1,\n",
       " '유령': 1,\n",
       " '윤제문': 1,\n",
       " '은은하': 1,\n",
       " '은희': 1,\n",
       " '음식': 3,\n",
       " '음악': 1,\n",
       " '의학상': 1,\n",
       " '이': 2,\n",
       " '이거': 4,\n",
       " '이드라마': 1,\n",
       " '이민기': 2,\n",
       " '이범수': 1,\n",
       " '이야기': 2,\n",
       " '이응경': 1,\n",
       " '이정': 1,\n",
       " '이틀': 1,\n",
       " '이해': 1,\n",
       " '익살': 1,\n",
       " '인것': 1,\n",
       " '인상': 1,\n",
       " '일': 1,\n",
       " '일본': 1,\n",
       " '자체': 2,\n",
       " '재미': 2,\n",
       " '전개': 3,\n",
       " '절대': 3,\n",
       " '점': 4,\n",
       " '정신': 4,\n",
       " '조금': 3,\n",
       " '조작': 2,\n",
       " '죄인': 2,\n",
       " '줄': 2,\n",
       " '지루': 2,\n",
       " '진짜': 4,\n",
       " '짜증': 2,\n",
       " '차': 2,\n",
       " '초반': 2,\n",
       " '최고': 4,\n",
       " '캐릭터': 2,\n",
       " '평범': 3,\n",
       " '평점': 5,\n",
       " '하나': 2}"
      ]
     },
     "execution_count": 82,
     "metadata": {},
     "output_type": "execute_result"
    }
   ],
   "source": [
    "# 표를 사전 형태로 변환 표를 사전 형태로 변환\n",
    "count_dic = word_count.set_index('단어')['빈도'].to_dict()\n",
    "count_dic"
   ]
  },
  {
   "cell_type": "code",
   "execution_count": 91,
   "metadata": {},
   "outputs": [],
   "source": [
    "from wordcloud import WordCloud\n",
    "# Windows 용 글꼴 지정\n",
    "wc = WordCloud(font_path='C:/Windows/Fonts/NanumBarunGothic.ttf',\n",
    "               background_color='white',\n",
    "               max_words=50,\n",
    "               width=400, height=300)"
   ]
  },
  {
   "cell_type": "code",
   "execution_count": 84,
   "metadata": {},
   "outputs": [],
   "source": [
    "# !apt install fonts-nanum # Colab 용 글꼴 설치\n",
    "# Colab 용\n",
    "wc = WordCloud(font_path='/usr/share/fonts/truetype/nanum/NanumGothic.ttf',\n",
    "               background_color='white',\n",
    "               max_words=50,\n",
    "               width=400, height=300)"
   ]
  },
  {
   "cell_type": "code",
   "execution_count": null,
   "metadata": {},
   "outputs": [],
   "source": [
    "cloud = wc.fit_words(count_dic)\n",
    "cloud.to_image()"
   ]
  }
 ],
 "metadata": {
  "kernelspec": {
   "display_name": "TEST",
   "language": "python",
   "name": "test"
  },
  "language_info": {
   "codemirror_mode": {
    "name": "ipython",
    "version": 3
   },
   "file_extension": ".py",
   "mimetype": "text/x-python",
   "name": "python",
   "nbconvert_exporter": "python",
   "pygments_lexer": "ipython3",
   "version": "3.9.18"
  }
 },
 "nbformat": 4,
 "nbformat_minor": 2
}
