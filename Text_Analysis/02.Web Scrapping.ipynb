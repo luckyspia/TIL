{
 "cells": [
  {
   "attachments": {},
   "cell_type": "markdown",
   "metadata": {},
   "source": [
    "## Chapter 02. Web Scrapping"
   ]
  },
  {
   "cell_type": "code",
   "execution_count": null,
   "metadata": {},
   "outputs": [],
   "source": [
    "# !pip install cssselect"
   ]
  },
  {
   "cell_type": "code",
   "execution_count": null,
   "metadata": {},
   "outputs": [],
   "source": [
    "import lxml.html\n",
    "import requests\n",
    "\n",
    "# 위키백과에 요청을 보내고 res 변수에 웹사이트 응답을 저장\n",
    "url = 'https://ko.wikipedia.org/wiki/HTML'\n",
    "res = requests.get(url)"
   ]
  },
  {
   "cell_type": "code",
   "execution_count": null,
   "metadata": {},
   "outputs": [],
   "source": [
    "# 응답코드 200은 해당 웹사이트에 대해 정상적으로 값을 받았다는 것을 의미\n",
    "# 301, 302, 30X... : 주소 이전\n",
    "# 40X : 에러(사용자의 잘못), 주소를 잘못 친 경우 등\n",
    "# 50X : 에러(서버의 잘못), 내부 에러 발생 등\n",
    "res.status_code"
   ]
  }
 ],
 "metadata": {
  "language_info": {
   "name": "python"
  },
  "orig_nbformat": 4
 },
 "nbformat": 4,
 "nbformat_minor": 2
}
