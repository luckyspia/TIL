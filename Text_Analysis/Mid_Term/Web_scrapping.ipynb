{
 "cells": [
  {
   "cell_type": "code",
   "execution_count": 1,
   "metadata": {},
   "outputs": [],
   "source": [
    "from selenium.webdriver import Chrome\n",
    "import requests\n",
    "import lxml.html\n",
    "from selenium.webdriver import ActionChains\n",
    "import time\n",
    "from tqdm import tqdm"
   ]
  },
  {
   "cell_type": "code",
   "execution_count": 2,
   "metadata": {},
   "outputs": [],
   "source": [
    "browser = Chrome()"
   ]
  },
  {
   "cell_type": "markdown",
   "metadata": {},
   "source": [
    "# 강남구 음식점 url 수집"
   ]
  },
  {
   "cell_type": "code",
   "execution_count": 3,
   "metadata": {},
   "outputs": [],
   "source": [
    "df = []\n",
    "rest_url_list = []\n",
    "for i in range(1,11) :\n",
    "    url = f'https://www.mangoplate.com/search/강남?keyword=강남&page={i}' # 페이지별로 url을 변경해가면서 수집\n",
    "    browser.get(url)\n",
    "    blocks = browser.find_elements_by_css_selector('body > main > article > div.column-wrapper > div > div > section > div.search-list-restaurants-inner-wrap > ul > li > div > figure > a')\n",
    "    for block in blocks:\n",
    "        rest_url_list.append(block.get_attribute('href'))\n",
    "\n",
    "    rest_url_list = list(set(rest_url_list)) # url 수집 결과 음식점이 중복되게 수집되므로 집합연산으로 중복제거\n"
   ]
  },
  {
   "cell_type": "markdown",
   "metadata": {},
   "source": [
    "store_nm = browser.find_element_by_css_selector('div.restaurant_title_wrap > span > h1').text\n",
    "browser.implicitly_wait(10)\n",
    "before_reviews = browser.find_elements_by_css_selector('body > main > article > div.column-wrapper > div.column-contents > div > section.RestaurantReviewList > ul > li > a')\n",
    "\n",
    "more = browser.find_element_by_xpath(\"/html/body/main/article/div[1]/div[1]/div/section[3]/div[2]\")\n",
    "action = ActionChains(browser)\n",
    "action.move_to_element(more).perform()\n",
    "browser.implicitly_wait(10)\n",
    "\n",
    "more.click()\n",
    "time.sleep(1)\n",
    "\n",
    "after_reviews = browser.find_elements_by_css_selector('body > main > article > div.column-wrapper > div.column-contents > div > section.RestaurantReviewList > ul > li > a')"
   ]
  },
  {
   "cell_type": "markdown",
   "metadata": {},
   "source": [
    "while 1:\n",
    "    if len(before_reviews) != len(after_reviews):\n",
    "        before_reviews = browser.find_elements_by_css_selector('body > main > article > div.column-wrapper > div.column-contents > div > section.RestaurantReviewList > ul > li > a')\n",
    "        more = browser.find_element_by_xpath(\"/html/body/main/article/div[1]/div[1]/div/section[3]/div[2]\")\n",
    "        action = ActionChains(browser)\n",
    "        action.move_to_element(more).perform()\n",
    "        browser.implicitly_wait(10)\n",
    "        more.click()\n",
    "        time.sleep(1)\n",
    "        after_reviews = browser.find_elements_by_css_selector('body > main > article > div.column-wrapper > div.column-contents > div > section.RestaurantReviewList > ul > li > a')\n",
    "    else:\n",
    "        break\n",
    "reviews = browser.find_elements_by_css_selector('body > main > article > div.column-wrapper > div.column-contents > div > section.RestaurantReviewList > ul > li > a')"
   ]
  },
  {
   "cell_type": "code",
   "execution_count": 4,
   "metadata": {},
   "outputs": [
    {
     "data": {
      "text/plain": [
       "200"
      ]
     },
     "execution_count": 4,
     "metadata": {},
     "output_type": "execute_result"
    }
   ],
   "source": [
    "len(rest_url_list)"
   ]
  },
  {
   "cell_type": "code",
   "execution_count": 17,
   "metadata": {},
   "outputs": [],
   "source": [
    "browser.get(rest_url_list[0])"
   ]
  },
  {
   "cell_type": "code",
   "execution_count": 5,
   "metadata": {
    "scrolled": true
   },
   "outputs": [
    {
     "name": "stderr",
     "output_type": "stream",
     "text": [
      "\n",
      "  0%|                                                                                          | 0/200 [00:00<?, ?it/s]\u001b[A"
     ]
    },
    {
     "name": "stdout",
     "output_type": "stream",
     "text": [
      "\n",
      "\n"
     ]
    },
    {
     "name": "stderr",
     "output_type": "stream",
     "text": [
      "\n",
      "  0%|▍                                                                               | 1/200 [00:48<2:42:12, 48.91s/it]\u001b[A"
     ]
    },
    {
     "name": "stdout",
     "output_type": "stream",
     "text": [
      "https://www.mangoplate.com/restaurants/f-0D3BHzwln6 90\n",
      "\n",
      "\n"
     ]
    },
    {
     "name": "stderr",
     "output_type": "stream",
     "text": [
      "\n",
      "  1%|▊                                                                               | 2/200 [01:57<3:00:29, 54.69s/it]\u001b[A"
     ]
    },
    {
     "name": "stdout",
     "output_type": "stream",
     "text": [
      "https://www.mangoplate.com/restaurants/JZM6HCHhwWoN 241\n",
      "\n",
      "\n"
     ]
    },
    {
     "name": "stderr",
     "output_type": "stream",
     "text": [
      "\n",
      "  2%|█▏                                                                              | 3/200 [02:41<2:49:08, 51.52s/it]\u001b[A"
     ]
    },
    {
     "name": "stdout",
     "output_type": "stream",
     "text": [
      "https://www.mangoplate.com/restaurants/jk-sIVEcwVtj 312\n",
      "\n",
      "\n"
     ]
    },
    {
     "name": "stderr",
     "output_type": "stream",
     "text": [
      "\n",
      "  2%|█▌                                                                              | 4/200 [03:15<2:31:42, 46.44s/it]\u001b[A"
     ]
    },
    {
     "name": "stdout",
     "output_type": "stream",
     "text": [
      "https://www.mangoplate.com/restaurants/8f9vatBlxS46 356\n",
      "\n",
      "\n"
     ]
    },
    {
     "name": "stderr",
     "output_type": "stream",
     "text": [
      "\n",
      "  2%|██                                                                              | 5/200 [03:41<2:11:09, 40.35s/it]\u001b[A"
     ]
    },
    {
     "name": "stdout",
     "output_type": "stream",
     "text": [
      "https://www.mangoplate.com/restaurants/TznMMYOSqMQK 371\n",
      "\n",
      "\n"
     ]
    },
    {
     "name": "stderr",
     "output_type": "stream",
     "text": [
      "\n",
      "  3%|██▍                                                                             | 6/200 [04:40<2:28:00, 45.78s/it]\u001b[A"
     ]
    },
    {
     "name": "stdout",
     "output_type": "stream",
     "text": [
      "https://www.mangoplate.com/restaurants/koJ-1vE9dB 489\n",
      "\n",
      "\n",
      "\n"
     ]
    },
    {
     "name": "stderr",
     "output_type": "stream",
     "text": [
      "\n",
      "  4%|██▊                                                                             | 7/200 [05:58<2:58:34, 55.51s/it]\u001b[A"
     ]
    },
    {
     "name": "stdout",
     "output_type": "stream",
     "text": [
      "https://www.mangoplate.com/restaurants/PalvouUA1j 674\n",
      "\n",
      "\n"
     ]
    },
    {
     "name": "stderr",
     "output_type": "stream",
     "text": [
      "\n",
      "  4%|███▏                                                                            | 8/200 [06:26<2:30:44, 47.11s/it]\u001b[A"
     ]
    },
    {
     "name": "stdout",
     "output_type": "stream",
     "text": [
      "https://www.mangoplate.com/restaurants/-ck3LyDmi2 690\n",
      "\n",
      "\n"
     ]
    },
    {
     "name": "stderr",
     "output_type": "stream",
     "text": [
      "\n",
      "  4%|███▌                                                                            | 9/200 [07:29<2:45:05, 51.86s/it]\u001b[A"
     ]
    },
    {
     "name": "stdout",
     "output_type": "stream",
     "text": [
      "https://www.mangoplate.com/restaurants/q20qRCRIIS 823\n",
      "\n",
      "\n",
      "\n"
     ]
    },
    {
     "name": "stderr",
     "output_type": "stream",
     "text": [
      "\n",
      "  5%|███▉                                                                           | 10/200 [07:53<2:18:12, 43.65s/it]\u001b[A"
     ]
    },
    {
     "name": "stdout",
     "output_type": "stream",
     "text": [
      "https://www.mangoplate.com/restaurants/7SfQFq6xnAuf 836\n",
      "\n",
      "\n"
     ]
    },
    {
     "name": "stderr",
     "output_type": "stream",
     "text": [
      "\n",
      "  6%|████▎                                                                          | 11/200 [08:35<2:16:01, 43.18s/it]\u001b[A"
     ]
    },
    {
     "name": "stdout",
     "output_type": "stream",
     "text": [
      "https://www.mangoplate.com/restaurants/Z1sk64-5wW 906\n",
      "\n",
      "\n",
      "\n"
     ]
    },
    {
     "name": "stderr",
     "output_type": "stream",
     "text": [
      "\n",
      "  6%|████▋                                                                          | 12/200 [09:07<2:04:32, 39.75s/it]\u001b[A"
     ]
    },
    {
     "name": "stdout",
     "output_type": "stream",
     "text": [
      "https://www.mangoplate.com/restaurants/UCEFAUNSZuZ1 945\n",
      "\n",
      "\n"
     ]
    },
    {
     "name": "stderr",
     "output_type": "stream",
     "text": [
      "\n",
      "  6%|█████▏                                                                         | 13/200 [10:11<2:26:30, 47.01s/it]\u001b[A"
     ]
    },
    {
     "name": "stdout",
     "output_type": "stream",
     "text": [
      "https://www.mangoplate.com/restaurants/a90jf3bwGo 1085\n",
      "\n",
      "\n"
     ]
    },
    {
     "name": "stderr",
     "output_type": "stream",
     "text": [
      "\n",
      "  7%|█████▌                                                                         | 14/200 [11:16<2:42:57, 52.57s/it]\u001b[A"
     ]
    },
    {
     "name": "stdout",
     "output_type": "stream",
     "text": [
      "https://www.mangoplate.com/restaurants/BJk2Z6emjA 1229\n",
      "\n",
      "\n",
      "\n"
     ]
    },
    {
     "name": "stderr",
     "output_type": "stream",
     "text": [
      "\n",
      "  8%|█████▉                                                                         | 15/200 [11:41<2:16:22, 44.23s/it]\u001b[A"
     ]
    },
    {
     "name": "stdout",
     "output_type": "stream",
     "text": [
      "https://www.mangoplate.com/restaurants/75FMNHFIy02x 1241\n",
      "\n",
      "\n"
     ]
    },
    {
     "name": "stderr",
     "output_type": "stream",
     "text": [
      "\n",
      "  8%|██████▎                                                                        | 16/200 [12:31<2:21:01, 45.99s/it]\u001b[A"
     ]
    },
    {
     "name": "stdout",
     "output_type": "stream",
     "text": [
      "https://www.mangoplate.com/restaurants/DtNd7lLzTLZU 1336\n",
      "\n",
      "\n"
     ]
    },
    {
     "name": "stderr",
     "output_type": "stream",
     "text": [
      "\n",
      "  8%|██████▋                                                                        | 17/200 [13:24<2:26:34, 48.06s/it]\u001b[A"
     ]
    },
    {
     "name": "stdout",
     "output_type": "stream",
     "text": [
      "https://www.mangoplate.com/restaurants/8HbnV3k0rX 1440\n",
      "\n",
      "\n"
     ]
    },
    {
     "name": "stderr",
     "output_type": "stream",
     "text": [
      "\n",
      "  9%|███████                                                                        | 18/200 [14:03<2:17:09, 45.22s/it]\u001b[A"
     ]
    },
    {
     "name": "stdout",
     "output_type": "stream",
     "text": [
      "https://www.mangoplate.com/restaurants/7Fcp_Gl_qj 1495\n",
      "\n",
      "\n"
     ]
    },
    {
     "name": "stderr",
     "output_type": "stream",
     "text": [
      "\n",
      " 10%|███████▌                                                                       | 19/200 [14:40<2:08:48, 42.70s/it]\u001b[A"
     ]
    },
    {
     "name": "stdout",
     "output_type": "stream",
     "text": [
      "https://www.mangoplate.com/restaurants/UFeL9KXKwjEs 1543\n",
      "\n",
      "\n",
      "\n"
     ]
    },
    {
     "name": "stderr",
     "output_type": "stream",
     "text": [
      "\n",
      " 10%|███████▉                                                                       | 20/200 [15:04<1:51:43, 37.24s/it]\u001b[A"
     ]
    },
    {
     "name": "stdout",
     "output_type": "stream",
     "text": [
      "https://www.mangoplate.com/restaurants/5h2OL8a5GlY_ 1555\n",
      "\n",
      "\n"
     ]
    },
    {
     "name": "stderr",
     "output_type": "stream",
     "text": [
      "\n",
      " 10%|████████▎                                                                      | 21/200 [15:30<1:40:39, 33.74s/it]\u001b[A"
     ]
    },
    {
     "name": "stdout",
     "output_type": "stream",
     "text": [
      "https://www.mangoplate.com/restaurants/W8_I2MxVwlDV 1570\n",
      "\n",
      "\n",
      "\n"
     ]
    },
    {
     "name": "stderr",
     "output_type": "stream",
     "text": [
      "\n",
      " 11%|████████▋                                                                      | 22/200 [16:42<2:14:34, 45.36s/it]\u001b[A"
     ]
    },
    {
     "name": "stdout",
     "output_type": "stream",
     "text": [
      "https://www.mangoplate.com/restaurants/xP22ZvBNB4 1735\n",
      "\n",
      "\n"
     ]
    },
    {
     "name": "stderr",
     "output_type": "stream",
     "text": [
      "\n",
      " 12%|█████████                                                                      | 23/200 [17:35<2:20:54, 47.77s/it]\u001b[A"
     ]
    },
    {
     "name": "stdout",
     "output_type": "stream",
     "text": [
      "https://www.mangoplate.com/restaurants/Biu1lGmnzh 1840\n",
      "\n",
      "\n"
     ]
    },
    {
     "name": "stderr",
     "output_type": "stream",
     "text": [
      "\n",
      " 12%|█████████▍                                                                     | 24/200 [18:06<2:04:34, 42.47s/it]\u001b[A"
     ]
    },
    {
     "name": "stdout",
     "output_type": "stream",
     "text": [
      "https://www.mangoplate.com/restaurants/WlCN9CJbEBwW 1868\n",
      "\n",
      "\n"
     ]
    },
    {
     "name": "stderr",
     "output_type": "stream",
     "text": [
      "\n",
      " 12%|█████████▉                                                                     | 25/200 [19:10<2:23:05, 49.06s/it]\u001b[A"
     ]
    },
    {
     "name": "stdout",
     "output_type": "stream",
     "text": [
      "https://www.mangoplate.com/restaurants/MIGi8MXfr_ 2004\n",
      "\n",
      "\n"
     ]
    },
    {
     "name": "stderr",
     "output_type": "stream",
     "text": [
      "\n",
      " 13%|██████████▎                                                                    | 26/200 [20:33<2:51:49, 59.25s/it]\u001b[A"
     ]
    },
    {
     "name": "stdout",
     "output_type": "stream",
     "text": [
      "https://www.mangoplate.com/restaurants/WlpGSOZmW- 2203\n",
      "\n",
      "\n"
     ]
    },
    {
     "name": "stderr",
     "output_type": "stream",
     "text": [
      "\n",
      " 14%|██████████▋                                                                    | 27/200 [21:19<2:39:08, 55.19s/it]\u001b[A"
     ]
    },
    {
     "name": "stdout",
     "output_type": "stream",
     "text": [
      "https://www.mangoplate.com/restaurants/b2e8xNAfG6 2283\n",
      "\n",
      "\n"
     ]
    },
    {
     "name": "stderr",
     "output_type": "stream",
     "text": [
      "\n",
      " 14%|███████████                                                                    | 28/200 [21:59<2:25:09, 50.63s/it]\u001b[A"
     ]
    },
    {
     "name": "stdout",
     "output_type": "stream",
     "text": [
      "https://www.mangoplate.com/restaurants/aXLEyV46Vtqj 2343\n",
      "\n",
      "\n",
      "\n"
     ]
    },
    {
     "name": "stderr",
     "output_type": "stream",
     "text": [
      "\n",
      " 14%|███████████▍                                                                   | 29/200 [22:34<2:10:51, 45.92s/it]\u001b[A"
     ]
    },
    {
     "name": "stdout",
     "output_type": "stream",
     "text": [
      "https://www.mangoplate.com/restaurants/jbb9pvem-WmM 2391\n",
      "\n",
      "\n",
      "\n"
     ]
    },
    {
     "name": "stderr",
     "output_type": "stream",
     "text": [
      "\n",
      " 15%|███████████▊                                                                   | 30/200 [23:30<2:18:56, 49.04s/it]\u001b[A"
     ]
    },
    {
     "name": "stdout",
     "output_type": "stream",
     "text": [
      "https://www.mangoplate.com/restaurants/xjS9hkbuSvmI 2507\n",
      "\n",
      "\n"
     ]
    },
    {
     "name": "stderr",
     "output_type": "stream",
     "text": [
      "\n",
      " 16%|████████████▏                                                                  | 31/200 [24:04<2:05:05, 44.41s/it]\u001b[A"
     ]
    },
    {
     "name": "stdout",
     "output_type": "stream",
     "text": [
      "https://www.mangoplate.com/restaurants/ZBmPlG7aqSSv 2543\n",
      "\n",
      "\n"
     ]
    },
    {
     "name": "stderr",
     "output_type": "stream",
     "text": [
      "\n",
      " 16%|████████████▋                                                                  | 32/200 [24:34<1:52:18, 40.11s/it]\u001b[A"
     ]
    },
    {
     "name": "stdout",
     "output_type": "stream",
     "text": [
      "https://www.mangoplate.com/restaurants/U1VsV7e2K2 2571\n",
      "\n",
      "\n"
     ]
    },
    {
     "name": "stderr",
     "output_type": "stream",
     "text": [
      "\n",
      " 16%|█████████████                                                                  | 33/200 [25:30<2:04:55, 44.88s/it]\u001b[A"
     ]
    },
    {
     "name": "stdout",
     "output_type": "stream",
     "text": [
      "https://www.mangoplate.com/restaurants/Qmjyzoyz2- 2685\n",
      "\n",
      "\n"
     ]
    },
    {
     "name": "stderr",
     "output_type": "stream",
     "text": [
      "\n",
      " 17%|█████████████▍                                                                 | 34/200 [26:55<2:38:05, 57.14s/it]\u001b[A"
     ]
    },
    {
     "name": "stdout",
     "output_type": "stream",
     "text": [
      "https://www.mangoplate.com/restaurants/MyeCz_JlSgan 2891\n",
      "\n",
      "\n",
      "\n"
     ]
    },
    {
     "name": "stderr",
     "output_type": "stream",
     "text": [
      "\n",
      " 18%|█████████████▊                                                                 | 35/200 [27:23<2:12:40, 48.25s/it]\u001b[A"
     ]
    },
    {
     "name": "stdout",
     "output_type": "stream",
     "text": [
      "https://www.mangoplate.com/restaurants/UUmxBt06ip 2910\n",
      "\n",
      "\n",
      "\n"
     ]
    },
    {
     "name": "stderr",
     "output_type": "stream",
     "text": [
      "\n",
      " 18%|██████████████▏                                                                | 36/200 [27:47<1:52:10, 41.04s/it]\u001b[A"
     ]
    },
    {
     "name": "stdout",
     "output_type": "stream",
     "text": [
      "https://www.mangoplate.com/restaurants/PsgSgblG4XdD 2921\n",
      "\n",
      "\n"
     ]
    },
    {
     "name": "stderr",
     "output_type": "stream",
     "text": [
      "\n",
      " 18%|██████████████▌                                                                | 37/200 [28:26<1:49:51, 40.44s/it]\u001b[A"
     ]
    },
    {
     "name": "stdout",
     "output_type": "stream",
     "text": [
      "https://www.mangoplate.com/restaurants/dbZtB1usggE2 2977\n",
      "\n",
      "\n",
      "\n"
     ]
    },
    {
     "name": "stderr",
     "output_type": "stream",
     "text": [
      "\n",
      " 19%|███████████████                                                                | 38/200 [28:51<1:36:44, 35.83s/it]\u001b[A"
     ]
    },
    {
     "name": "stdout",
     "output_type": "stream",
     "text": [
      "https://www.mangoplate.com/restaurants/_De8ifFLBDm1 2992\n",
      "\n",
      "\n"
     ]
    },
    {
     "name": "stderr",
     "output_type": "stream",
     "text": [
      "\n",
      " 20%|███████████████▍                                                               | 39/200 [30:11<2:11:41, 49.08s/it]\u001b[A"
     ]
    },
    {
     "name": "stdout",
     "output_type": "stream",
     "text": [
      "https://www.mangoplate.com/restaurants/w_Uk02YqcI9h 3181\n",
      "\n",
      "\n"
     ]
    },
    {
     "name": "stderr",
     "output_type": "stream",
     "text": [
      "\n",
      " 20%|███████████████▊                                                               | 40/200 [30:44<1:57:54, 44.21s/it]\u001b[A"
     ]
    },
    {
     "name": "stdout",
     "output_type": "stream",
     "text": [
      "https://www.mangoplate.com/restaurants/vOUcfm_6NzrC 3212\n",
      "\n",
      "\n"
     ]
    },
    {
     "name": "stderr",
     "output_type": "stream",
     "text": [
      "\n",
      " 20%|████████████████▏                                                              | 41/200 [31:43<2:08:57, 48.67s/it]\u001b[A"
     ]
    },
    {
     "name": "stdout",
     "output_type": "stream",
     "text": [
      "https://www.mangoplate.com/restaurants/z-4tCw3TKCKn 3336\n",
      "\n",
      "\n",
      "\n"
     ]
    },
    {
     "name": "stderr",
     "output_type": "stream",
     "text": [
      "\n",
      " 21%|████████████████▌                                                              | 42/200 [32:06<1:47:31, 40.83s/it]\u001b[A"
     ]
    },
    {
     "name": "stdout",
     "output_type": "stream",
     "text": [
      "https://www.mangoplate.com/restaurants/CkAjfohbdKuv 3342\n",
      "\n",
      "\n",
      "\n"
     ]
    },
    {
     "name": "stderr",
     "output_type": "stream",
     "text": [
      "\n",
      " 22%|████████████████▉                                                              | 43/200 [32:33<1:36:12, 36.77s/it]\u001b[A"
     ]
    },
    {
     "name": "stdout",
     "output_type": "stream",
     "text": [
      "https://www.mangoplate.com/restaurants/FFEi7Xv1EVal 3367\n",
      "\n",
      "\n"
     ]
    },
    {
     "name": "stderr",
     "output_type": "stream",
     "text": [
      "\n",
      " 22%|█████████████████▍                                                             | 44/200 [33:09<1:35:03, 36.56s/it]\u001b[A"
     ]
    },
    {
     "name": "stdout",
     "output_type": "stream",
     "text": [
      "https://www.mangoplate.com/restaurants/HcfgPb4E6D 3413\n",
      "\n",
      "\n",
      "\n"
     ]
    },
    {
     "name": "stderr",
     "output_type": "stream",
     "text": [
      "\n",
      " 22%|█████████████████▊                                                             | 45/200 [33:43<1:32:25, 35.78s/it]\u001b[A"
     ]
    },
    {
     "name": "stdout",
     "output_type": "stream",
     "text": [
      "https://www.mangoplate.com/restaurants/iMwOS45hgNv0 3454\n",
      "\n",
      "\n",
      "\n"
     ]
    },
    {
     "name": "stderr",
     "output_type": "stream",
     "text": [
      "\n",
      " 23%|██████████████████▏                                                            | 46/200 [34:21<1:33:32, 36.45s/it]\u001b[A"
     ]
    },
    {
     "name": "stdout",
     "output_type": "stream",
     "text": [
      "https://www.mangoplate.com/restaurants/hU6UwdjY44RN 3510\n",
      "\n",
      "\n"
     ]
    },
    {
     "name": "stderr",
     "output_type": "stream",
     "text": [
      "\n",
      " 24%|██████████████████▌                                                            | 47/200 [35:24<1:53:15, 44.41s/it]\u001b[A"
     ]
    },
    {
     "name": "stdout",
     "output_type": "stream",
     "text": [
      "https://www.mangoplate.com/restaurants/jOf_M6zFb2 3645\n",
      "\n",
      "\n"
     ]
    },
    {
     "name": "stderr",
     "output_type": "stream",
     "text": [
      "\n",
      " 24%|██████████████████▉                                                            | 48/200 [36:07<1:51:03, 43.84s/it]\u001b[A"
     ]
    },
    {
     "name": "stdout",
     "output_type": "stream",
     "text": [
      "https://www.mangoplate.com/restaurants/tHu1pa6I3E 3711\n",
      "\n"
     ]
    },
    {
     "name": "stderr",
     "output_type": "stream",
     "text": [
      "\n"
     ]
    },
    {
     "name": "stdout",
     "output_type": "stream",
     "text": [
      "\n",
      "\n",
      "https://www.mangoplate.com/restaurants/ewTZ9Le7U54q 3715\n"
     ]
    },
    {
     "name": "stderr",
     "output_type": "stream",
     "text": [
      " 24%|███████████████████▎                                                           | 49/200 [36:28<1:33:11, 37.03s/it]\u001b[A"
     ]
    },
    {
     "name": "stdout",
     "output_type": "stream",
     "text": [
      "\n",
      "\n"
     ]
    },
    {
     "name": "stderr",
     "output_type": "stream",
     "text": [
      "\n",
      " 25%|███████████████████▊                                                           | 50/200 [37:24<1:47:24, 42.96s/it]\u001b[A"
     ]
    },
    {
     "name": "stdout",
     "output_type": "stream",
     "text": [
      "https://www.mangoplate.com/restaurants/mfwd78vEtS 3829\n",
      "\n",
      "\n"
     ]
    },
    {
     "name": "stderr",
     "output_type": "stream",
     "text": [
      "\n",
      " 26%|████████████████████▏                                                          | 51/200 [38:01<1:41:55, 41.04s/it]\u001b[A"
     ]
    },
    {
     "name": "stdout",
     "output_type": "stream",
     "text": [
      "https://www.mangoplate.com/restaurants/ObDNYgbAYh_T 3875\n",
      "\n",
      "\n",
      "\n"
     ]
    },
    {
     "name": "stderr",
     "output_type": "stream",
     "text": [
      "\n",
      " 26%|████████████████████▌                                                          | 52/200 [38:34<1:35:08, 38.57s/it]\u001b[A"
     ]
    },
    {
     "name": "stdout",
     "output_type": "stream",
     "text": [
      "https://www.mangoplate.com/restaurants/ol9BImtmnFqo 3909\n",
      "\n",
      "\n"
     ]
    },
    {
     "name": "stderr",
     "output_type": "stream",
     "text": [
      "\n",
      " 26%|████████████████████▉                                                          | 53/200 [39:46<1:59:26, 48.75s/it]\u001b[A"
     ]
    },
    {
     "name": "stdout",
     "output_type": "stream",
     "text": [
      "https://www.mangoplate.com/restaurants/KfToFUSQwI 4072\n",
      "\n",
      "\n",
      "\n"
     ]
    },
    {
     "name": "stderr",
     "output_type": "stream",
     "text": [
      "\n",
      " 27%|█████████████████████▎                                                         | 54/200 [40:31<1:55:20, 47.40s/it]\u001b[A"
     ]
    },
    {
     "name": "stdout",
     "output_type": "stream",
     "text": [
      "https://www.mangoplate.com/restaurants/_lwTLhPuzfky 4142\n",
      "\n",
      "\n"
     ]
    },
    {
     "name": "stderr",
     "output_type": "stream",
     "text": [
      "\n",
      " 28%|█████████████████████▋                                                         | 55/200 [41:30<2:03:06, 50.94s/it]\u001b[A"
     ]
    },
    {
     "name": "stdout",
     "output_type": "stream",
     "text": [
      "https://www.mangoplate.com/restaurants/vcheyGIxPJ9D 4259\n",
      "\n",
      "\n",
      "\n"
     ]
    },
    {
     "name": "stderr",
     "output_type": "stream",
     "text": [
      "\n",
      " 28%|██████████████████████                                                         | 56/200 [42:05<1:50:46, 46.16s/it]\u001b[A"
     ]
    },
    {
     "name": "stdout",
     "output_type": "stream",
     "text": [
      "https://www.mangoplate.com/restaurants/NMH5sADODQ1h 4304\n",
      "\n",
      "\n",
      "\n"
     ]
    },
    {
     "name": "stderr",
     "output_type": "stream",
     "text": [
      "\n",
      " 28%|██████████████████████▌                                                        | 57/200 [42:28<1:33:31, 39.24s/it]\u001b[A"
     ]
    },
    {
     "name": "stdout",
     "output_type": "stream",
     "text": [
      "https://www.mangoplate.com/restaurants/1bytVrNWvrez 4311\n",
      "\n",
      "\n"
     ]
    },
    {
     "name": "stderr",
     "output_type": "stream",
     "text": [
      "\n",
      " 29%|██████████████████████▉                                                        | 58/200 [43:12<1:36:23, 40.73s/it]\u001b[A"
     ]
    },
    {
     "name": "stdout",
     "output_type": "stream",
     "text": [
      "https://www.mangoplate.com/restaurants/ZQt6lELwBj 4382\n",
      "\n",
      "\n",
      "\n"
     ]
    },
    {
     "name": "stderr",
     "output_type": "stream",
     "text": [
      "\n",
      " 30%|███████████████████████▎                                                       | 59/200 [43:35<1:23:02, 35.34s/it]\u001b[A"
     ]
    },
    {
     "name": "stdout",
     "output_type": "stream",
     "text": [
      "https://www.mangoplate.com/restaurants/3nqwru2YW4s5 4392\n",
      "\n"
     ]
    },
    {
     "name": "stderr",
     "output_type": "stream",
     "text": [
      "\n"
     ]
    },
    {
     "name": "stdout",
     "output_type": "stream",
     "text": [
      "\n",
      "\n",
      "https://www.mangoplate.com/restaurants/1uuzKojZK_mV 4396\n"
     ]
    },
    {
     "name": "stderr",
     "output_type": "stream",
     "text": [
      " 30%|███████████████████████▋                                                       | 60/200 [44:06<1:19:35, 34.11s/it]\u001b[A"
     ]
    },
    {
     "name": "stdout",
     "output_type": "stream",
     "text": [
      "\n",
      "\n"
     ]
    },
    {
     "name": "stderr",
     "output_type": "stream",
     "text": [
      "\n",
      " 30%|████████████████████████                                                       | 61/200 [45:22<1:48:18, 46.75s/it]\u001b[A"
     ]
    },
    {
     "name": "stdout",
     "output_type": "stream",
     "text": [
      "https://www.mangoplate.com/restaurants/2_sFMbsZC9HC 4574\n",
      "\n",
      "\n"
     ]
    },
    {
     "name": "stderr",
     "output_type": "stream",
     "text": [
      "\n",
      " 31%|████████████████████████▍                                                      | 62/200 [46:50<2:15:39, 58.98s/it]\u001b[A"
     ]
    },
    {
     "name": "stdout",
     "output_type": "stream",
     "text": [
      "https://www.mangoplate.com/restaurants/apRF6cwY8B 4787\n",
      "\n",
      "\n"
     ]
    },
    {
     "name": "stderr",
     "output_type": "stream",
     "text": [
      "\n",
      " 32%|████████████████████████▉                                                      | 63/200 [47:18<1:53:29, 49.70s/it]\u001b[A"
     ]
    },
    {
     "name": "stdout",
     "output_type": "stream",
     "text": [
      "https://www.mangoplate.com/restaurants/ozzOg8plVu4v 4804\n",
      "\n",
      "\n"
     ]
    },
    {
     "name": "stderr",
     "output_type": "stream",
     "text": [
      "\n",
      " 32%|█████████████████████████▎                                                     | 64/200 [47:55<1:43:58, 45.87s/it]\u001b[A"
     ]
    },
    {
     "name": "stdout",
     "output_type": "stream",
     "text": [
      "https://www.mangoplate.com/restaurants/EjLJK8Xn0oNN 4852\n",
      "\n",
      "\n"
     ]
    },
    {
     "name": "stderr",
     "output_type": "stream",
     "text": [
      "\n",
      " 32%|█████████████████████████▋                                                     | 65/200 [48:23<1:31:29, 40.67s/it]\u001b[A"
     ]
    },
    {
     "name": "stdout",
     "output_type": "stream",
     "text": [
      "https://www.mangoplate.com/restaurants/Ua8hgaePdWis 4876\n",
      "\n",
      "\n",
      "\n"
     ]
    },
    {
     "name": "stderr",
     "output_type": "stream",
     "text": [
      "\n",
      " 33%|██████████████████████████                                                     | 66/200 [49:06<1:32:05, 41.24s/it]\u001b[A"
     ]
    },
    {
     "name": "stdout",
     "output_type": "stream",
     "text": [
      "https://www.mangoplate.com/restaurants/aPr-R4FpbnHO 4949\n",
      "\n",
      "\n"
     ]
    },
    {
     "name": "stderr",
     "output_type": "stream",
     "text": [
      "\n",
      " 34%|██████████████████████████▍                                                    | 67/200 [49:46<1:30:32, 40.85s/it]\u001b[A"
     ]
    },
    {
     "name": "stdout",
     "output_type": "stream",
     "text": [
      "https://www.mangoplate.com/restaurants/KyJsLQGd64 5006\n",
      "\n",
      "\n",
      "\n"
     ]
    },
    {
     "name": "stderr",
     "output_type": "stream",
     "text": [
      "\n",
      " 34%|██████████████████████████▊                                                    | 68/200 [50:11<1:19:29, 36.14s/it]\u001b[A"
     ]
    },
    {
     "name": "stdout",
     "output_type": "stream",
     "text": [
      "https://www.mangoplate.com/restaurants/HmA2OLXpsoT_ 5017\n",
      "\n",
      "\n"
     ]
    },
    {
     "name": "stderr",
     "output_type": "stream",
     "text": [
      "\n",
      " 34%|███████████████████████████▎                                                   | 69/200 [50:56<1:24:22, 38.64s/it]\u001b[A"
     ]
    },
    {
     "name": "stdout",
     "output_type": "stream",
     "text": [
      "https://www.mangoplate.com/restaurants/btY7z88DBf 5092\n",
      "\n",
      "\n"
     ]
    },
    {
     "name": "stderr",
     "output_type": "stream",
     "text": [
      "\n",
      " 35%|███████████████████████████▋                                                   | 70/200 [51:59<1:40:04, 46.19s/it]\u001b[A"
     ]
    },
    {
     "name": "stdout",
     "output_type": "stream",
     "text": [
      "https://www.mangoplate.com/restaurants/2Tp-I0qkXYwS 5232\n",
      "\n",
      "\n"
     ]
    },
    {
     "name": "stderr",
     "output_type": "stream",
     "text": [
      "\n",
      " 36%|████████████████████████████                                                   | 71/200 [52:47<1:40:13, 46.62s/it]\u001b[A"
     ]
    },
    {
     "name": "stdout",
     "output_type": "stream",
     "text": [
      "https://www.mangoplate.com/restaurants/uGja1CE039 5314\n",
      "\n",
      "\n"
     ]
    },
    {
     "name": "stderr",
     "output_type": "stream",
     "text": [
      "\n",
      " 36%|████████████████████████████▍                                                  | 72/200 [53:56<1:53:49, 53.35s/it]\u001b[A"
     ]
    },
    {
     "name": "stdout",
     "output_type": "stream",
     "text": [
      "https://www.mangoplate.com/restaurants/Ll-IdIOuVv 5464\n",
      "\n",
      "\n",
      "\n"
     ]
    },
    {
     "name": "stderr",
     "output_type": "stream",
     "text": [
      "\n",
      " 36%|████████████████████████████▊                                                  | 73/200 [54:25<1:37:35, 46.11s/it]\u001b[A"
     ]
    },
    {
     "name": "stdout",
     "output_type": "stream",
     "text": [
      "https://www.mangoplate.com/restaurants/FIxoQZOz_01C 5492\n",
      "\n",
      "\n"
     ]
    },
    {
     "name": "stderr",
     "output_type": "stream",
     "text": [
      "\n",
      " 37%|█████████████████████████████▏                                                 | 74/200 [55:08<1:34:44, 45.11s/it]\u001b[A"
     ]
    },
    {
     "name": "stdout",
     "output_type": "stream",
     "text": [
      "https://www.mangoplate.com/restaurants/-39YxkOe8auF 5553\n",
      "\n",
      "\n"
     ]
    },
    {
     "name": "stderr",
     "output_type": "stream",
     "text": [
      "\n",
      " 38%|█████████████████████████████▋                                                 | 75/200 [56:35<2:00:27, 57.82s/it]\u001b[A"
     ]
    },
    {
     "name": "stdout",
     "output_type": "stream",
     "text": [
      "https://www.mangoplate.com/restaurants/vnc0i7l-fd 5764\n",
      "\n",
      "\n"
     ]
    },
    {
     "name": "stderr",
     "output_type": "stream",
     "text": [
      "\n",
      " 38%|██████████████████████████████                                                 | 76/200 [57:14<1:47:21, 51.95s/it]\u001b[A"
     ]
    },
    {
     "name": "stdout",
     "output_type": "stream",
     "text": [
      "https://www.mangoplate.com/restaurants/IxPgfbX7wag7 5818\n",
      "\n",
      "\n"
     ]
    },
    {
     "name": "stderr",
     "output_type": "stream",
     "text": [
      "\n",
      " 38%|██████████████████████████████▍                                                | 77/200 [57:40<1:31:00, 44.40s/it]\u001b[A"
     ]
    },
    {
     "name": "stdout",
     "output_type": "stream",
     "text": [
      "https://www.mangoplate.com/restaurants/1EXKzJGQ3IKy 5824\n",
      "\n",
      "\n",
      "\n"
     ]
    },
    {
     "name": "stderr",
     "output_type": "stream",
     "text": [
      "\n",
      " 39%|██████████████████████████████▊                                                | 78/200 [58:05<1:18:13, 38.47s/it]\u001b[A"
     ]
    },
    {
     "name": "stdout",
     "output_type": "stream",
     "text": [
      "https://www.mangoplate.com/restaurants/Z7WwAq8mrmRo 5831\n",
      "\n",
      "\n"
     ]
    },
    {
     "name": "stderr",
     "output_type": "stream",
     "text": [
      "\n",
      " 40%|███████████████████████████████▏                                               | 79/200 [58:56<1:24:57, 42.13s/it]\u001b[A"
     ]
    },
    {
     "name": "stdout",
     "output_type": "stream",
     "text": [
      "https://www.mangoplate.com/restaurants/g8HZjdy26NwR 5922\n",
      "\n",
      "\n"
     ]
    },
    {
     "name": "stderr",
     "output_type": "stream",
     "text": [
      "\n",
      " 40%|███████████████████████████████▌                                               | 80/200 [59:44<1:28:11, 44.09s/it]\u001b[A"
     ]
    },
    {
     "name": "stdout",
     "output_type": "stream",
     "text": [
      "https://www.mangoplate.com/restaurants/IGPyzMELa6 6012\n",
      "\n",
      "\n"
     ]
    },
    {
     "name": "stderr",
     "output_type": "stream",
     "text": [
      "\n",
      " 40%|███████████████████████████████▏                                             | 81/200 [1:00:10<1:16:18, 38.48s/it]\u001b[A"
     ]
    },
    {
     "name": "stdout",
     "output_type": "stream",
     "text": [
      "https://www.mangoplate.com/restaurants/9dy3_xIQxemx 6026\n",
      "\n",
      "\n"
     ]
    },
    {
     "name": "stderr",
     "output_type": "stream",
     "text": [
      "\n",
      " 41%|███████████████████████████████▌                                             | 82/200 [1:01:08<1:27:33, 44.52s/it]\u001b[A"
     ]
    },
    {
     "name": "stdout",
     "output_type": "stream",
     "text": [
      "https://www.mangoplate.com/restaurants/jvn2aG4heS 6146\n",
      "\n",
      "\n",
      "\n"
     ]
    },
    {
     "name": "stderr",
     "output_type": "stream",
     "text": [
      "\n",
      " 42%|███████████████████████████████▉                                             | 83/200 [1:01:33<1:15:17, 38.61s/it]\u001b[A"
     ]
    },
    {
     "name": "stdout",
     "output_type": "stream",
     "text": [
      "https://www.mangoplate.com/restaurants/QdnZnky2HnMJ 6159\n",
      "\n",
      "\n",
      "\n"
     ]
    },
    {
     "name": "stderr",
     "output_type": "stream",
     "text": [
      "\n",
      " 42%|████████████████████████████████▎                                            | 84/200 [1:02:01<1:08:11, 35.27s/it]\u001b[A"
     ]
    },
    {
     "name": "stdout",
     "output_type": "stream",
     "text": [
      "https://www.mangoplate.com/restaurants/G6AgizCTtPC9 6181\n",
      "\n",
      "\n",
      "\n"
     ]
    },
    {
     "name": "stderr",
     "output_type": "stream",
     "text": [
      "\n",
      " 42%|████████████████████████████████▋                                            | 85/200 [1:02:32<1:05:06, 33.97s/it]\u001b[A"
     ]
    },
    {
     "name": "stdout",
     "output_type": "stream",
     "text": [
      "https://www.mangoplate.com/restaurants/iGIG0xbXGn9Q 6212\n",
      "\n",
      "\n"
     ]
    },
    {
     "name": "stderr",
     "output_type": "stream",
     "text": [
      "\n",
      " 43%|█████████████████████████████████                                            | 86/200 [1:05:00<2:09:37, 68.22s/it]\u001b[A"
     ]
    },
    {
     "name": "stdout",
     "output_type": "stream",
     "text": [
      "https://www.mangoplate.com/restaurants/MK0gqBc1oJ 6611\n",
      "\n",
      "\n"
     ]
    },
    {
     "name": "stderr",
     "output_type": "stream",
     "text": [
      "\n",
      " 44%|█████████████████████████████████▍                                           | 87/200 [1:05:43<1:54:25, 60.76s/it]\u001b[A"
     ]
    },
    {
     "name": "stdout",
     "output_type": "stream",
     "text": [
      "https://www.mangoplate.com/restaurants/eosoch5KLZ 6681\n",
      "\n",
      "\n"
     ]
    },
    {
     "name": "stderr",
     "output_type": "stream",
     "text": [
      "\n",
      " 44%|█████████████████████████████████▉                                           | 88/200 [1:06:27<1:43:50, 55.63s/it]\u001b[A"
     ]
    },
    {
     "name": "stdout",
     "output_type": "stream",
     "text": [
      "https://www.mangoplate.com/restaurants/0Vq0bf1rZJLZ 6754\n",
      "\n",
      "\n"
     ]
    },
    {
     "name": "stderr",
     "output_type": "stream",
     "text": [
      "\n",
      " 44%|██████████████████████████████████▎                                          | 89/200 [1:06:57<1:28:58, 48.10s/it]\u001b[A"
     ]
    },
    {
     "name": "stdout",
     "output_type": "stream",
     "text": [
      "https://www.mangoplate.com/restaurants/ugq5zpw24LjX 6784\n",
      "\n",
      "\n"
     ]
    },
    {
     "name": "stderr",
     "output_type": "stream",
     "text": [
      "\n",
      " 45%|██████████████████████████████████▋                                          | 90/200 [1:08:01<1:36:51, 52.83s/it]\u001b[A"
     ]
    },
    {
     "name": "stdout",
     "output_type": "stream",
     "text": [
      "https://www.mangoplate.com/restaurants/mcv53uaozM 6920\n",
      "\n",
      "\n",
      "\n"
     ]
    },
    {
     "name": "stderr",
     "output_type": "stream",
     "text": [
      "\n",
      " 46%|███████████████████████████████████                                          | 91/200 [1:08:28<1:21:55, 45.10s/it]\u001b[A"
     ]
    },
    {
     "name": "stdout",
     "output_type": "stream",
     "text": [
      "https://www.mangoplate.com/restaurants/lekDtZkiY1Cy 6933\n",
      "\n",
      "\n",
      "\n"
     ]
    },
    {
     "name": "stderr",
     "output_type": "stream",
     "text": [
      "\n",
      " 46%|███████████████████████████████████▍                                         | 92/200 [1:08:55<1:11:27, 39.70s/it]\u001b[A"
     ]
    },
    {
     "name": "stdout",
     "output_type": "stream",
     "text": [
      "https://www.mangoplate.com/restaurants/pgnRoCPycYy2 6954\n",
      "\n",
      "\n"
     ]
    },
    {
     "name": "stderr",
     "output_type": "stream",
     "text": [
      "\n",
      " 46%|███████████████████████████████████▊                                         | 93/200 [1:10:12<1:30:29, 50.74s/it]\u001b[A"
     ]
    },
    {
     "name": "stdout",
     "output_type": "stream",
     "text": [
      "https://www.mangoplate.com/restaurants/V-Hl6MeOdjBZ 7133\n",
      "\n",
      "\n"
     ]
    },
    {
     "name": "stderr",
     "output_type": "stream",
     "text": [
      "\n",
      " 47%|████████████████████████████████████▏                                        | 94/200 [1:11:08<1:32:30, 52.37s/it]\u001b[A"
     ]
    },
    {
     "name": "stdout",
     "output_type": "stream",
     "text": [
      "https://www.mangoplate.com/restaurants/5HeqtDuK5R 7246\n",
      "\n",
      "\n",
      "\n"
     ]
    },
    {
     "name": "stderr",
     "output_type": "stream",
     "text": [
      "\n",
      " 48%|████████████████████████████████████▌                                        | 95/200 [1:11:31<1:16:19, 43.62s/it]\u001b[A"
     ]
    },
    {
     "name": "stdout",
     "output_type": "stream",
     "text": [
      "https://www.mangoplate.com/restaurants/kET-j5h0_c9i 7253\n",
      "\n",
      "\n",
      "\n"
     ]
    },
    {
     "name": "stderr",
     "output_type": "stream",
     "text": [
      "\n",
      " 48%|████████████████████████████████████▉                                        | 96/200 [1:11:58<1:07:01, 38.67s/it]\u001b[A"
     ]
    },
    {
     "name": "stdout",
     "output_type": "stream",
     "text": [
      "https://www.mangoplate.com/restaurants/0VeeAq512q9s 7263\n",
      "\n",
      "\n"
     ]
    },
    {
     "name": "stderr",
     "output_type": "stream",
     "text": [
      "\n",
      " 48%|█████████████████████████████████████▎                                       | 97/200 [1:12:34<1:04:37, 37.65s/it]\u001b[A"
     ]
    },
    {
     "name": "stdout",
     "output_type": "stream",
     "text": [
      "https://www.mangoplate.com/restaurants/NgsGd9QAvtII 7304\n",
      "\n",
      "\n"
     ]
    },
    {
     "name": "stderr",
     "output_type": "stream",
     "text": [
      "\n",
      " 49%|█████████████████████████████████████▋                                       | 98/200 [1:13:46<1:21:50, 48.14s/it]\u001b[A"
     ]
    },
    {
     "name": "stdout",
     "output_type": "stream",
     "text": [
      "https://www.mangoplate.com/restaurants/fBVd5rEQHN 7466\n",
      "\n",
      "\n",
      "\n"
     ]
    },
    {
     "name": "stderr",
     "output_type": "stream",
     "text": [
      "\n",
      " 50%|██████████████████████████████████████                                       | 99/200 [1:14:18<1:12:33, 43.10s/it]\u001b[A"
     ]
    },
    {
     "name": "stdout",
     "output_type": "stream",
     "text": [
      "https://www.mangoplate.com/restaurants/TGK66IixpT 7483\n",
      "\n",
      "\n",
      "\n"
     ]
    },
    {
     "name": "stderr",
     "output_type": "stream",
     "text": [
      "\n",
      " 50%|██████████████████████████████████████                                      | 100/200 [1:14:52<1:07:37, 40.58s/it]\u001b[A"
     ]
    },
    {
     "name": "stdout",
     "output_type": "stream",
     "text": [
      "https://www.mangoplate.com/restaurants/6wbceEUiU9 7528\n",
      "\n",
      "\n"
     ]
    },
    {
     "name": "stderr",
     "output_type": "stream",
     "text": [
      "\n",
      " 50%|██████████████████████████████████████▍                                     | 101/200 [1:15:31<1:06:14, 40.15s/it]\u001b[A"
     ]
    },
    {
     "name": "stdout",
     "output_type": "stream",
     "text": [
      "https://www.mangoplate.com/restaurants/YM03z4lpvY 7584\n",
      "\n",
      "\n"
     ]
    },
    {
     "name": "stderr",
     "output_type": "stream",
     "text": [
      "\n",
      " 51%|██████████████████████████████████████▊                                     | 102/200 [1:16:54<1:26:06, 52.72s/it]\u001b[A"
     ]
    },
    {
     "name": "stdout",
     "output_type": "stream",
     "text": [
      "https://www.mangoplate.com/restaurants/mjR_ZoQd1e 7781\n",
      "\n",
      "\n"
     ]
    },
    {
     "name": "stderr",
     "output_type": "stream",
     "text": [
      "\n",
      " 52%|███████████████████████████████████████▏                                    | 103/200 [1:17:41<1:22:32, 51.06s/it]\u001b[A"
     ]
    },
    {
     "name": "stdout",
     "output_type": "stream",
     "text": [
      "https://www.mangoplate.com/restaurants/iMRRP69qtkeO 7866\n",
      "\n",
      "\n"
     ]
    },
    {
     "name": "stderr",
     "output_type": "stream",
     "text": [
      "\n",
      " 52%|███████████████████████████████████████▌                                    | 104/200 [1:18:14<1:13:03, 45.66s/it]\u001b[A"
     ]
    },
    {
     "name": "stdout",
     "output_type": "stream",
     "text": [
      "https://www.mangoplate.com/restaurants/9TgE3uc7XPc6 7903\n",
      "\n",
      "\n"
     ]
    },
    {
     "name": "stderr",
     "output_type": "stream",
     "text": [
      "\n",
      " 52%|███████████████████████████████████████▉                                    | 105/200 [1:18:56<1:10:27, 44.50s/it]\u001b[A"
     ]
    },
    {
     "name": "stdout",
     "output_type": "stream",
     "text": [
      "https://www.mangoplate.com/restaurants/L_01tNvT5H-Y 7956\n",
      "\n",
      "\n"
     ]
    },
    {
     "name": "stderr",
     "output_type": "stream",
     "text": [
      "\n",
      " 53%|████████████████████████████████████████▎                                   | 106/200 [1:20:49<1:42:00, 65.11s/it]\u001b[A"
     ]
    },
    {
     "name": "stdout",
     "output_type": "stream",
     "text": [
      "https://www.mangoplate.com/restaurants/A5O1smA6kZGW 8248\n",
      "\n",
      "\n",
      "\n"
     ]
    },
    {
     "name": "stderr",
     "output_type": "stream",
     "text": [
      "\n",
      " 54%|████████████████████████████████████████▋                                   | 107/200 [1:21:13<1:22:03, 52.94s/it]\u001b[A"
     ]
    },
    {
     "name": "stdout",
     "output_type": "stream",
     "text": [
      "https://www.mangoplate.com/restaurants/LRlpXa9z4A6z 8259\n",
      "\n",
      "\n"
     ]
    },
    {
     "name": "stderr",
     "output_type": "stream",
     "text": [
      "\n",
      " 54%|█████████████████████████████████████████                                   | 108/200 [1:21:45<1:11:20, 46.53s/it]\u001b[A"
     ]
    },
    {
     "name": "stdout",
     "output_type": "stream",
     "text": [
      "https://www.mangoplate.com/restaurants/4hAcTcdILi 8293\n",
      "\n",
      "\n",
      "\n"
     ]
    },
    {
     "name": "stderr",
     "output_type": "stream",
     "text": [
      "\n",
      " 55%|█████████████████████████████████████████▍                                  | 109/200 [1:22:09<1:00:21, 39.79s/it]\u001b[A"
     ]
    },
    {
     "name": "stdout",
     "output_type": "stream",
     "text": [
      "https://www.mangoplate.com/restaurants/x8mnz9jMWz4g 8304\n",
      "\n",
      "\n",
      "\n"
     ]
    },
    {
     "name": "stderr",
     "output_type": "stream",
     "text": [
      "\n",
      " 55%|██████████████████████████████████████████▉                                   | 110/200 [1:22:31<51:34, 34.38s/it]\u001b[A"
     ]
    },
    {
     "name": "stdout",
     "output_type": "stream",
     "text": [
      "https://www.mangoplate.com/restaurants/rONDlmEIowC8 8309\n",
      "\n",
      "\n"
     ]
    },
    {
     "name": "stderr",
     "output_type": "stream",
     "text": [
      "\n",
      " 56%|███████████████████████████████████████████▎                                  | 111/200 [1:23:09<52:31, 35.42s/it]\u001b[A"
     ]
    },
    {
     "name": "stdout",
     "output_type": "stream",
     "text": [
      "https://www.mangoplate.com/restaurants/a-kCwB8TMe 8364\n",
      "\n",
      "\n",
      "\n"
     ]
    },
    {
     "name": "stderr",
     "output_type": "stream",
     "text": [
      "\n",
      " 56%|███████████████████████████████████████████▋                                  | 112/200 [1:23:35<47:54, 32.67s/it]\u001b[A"
     ]
    },
    {
     "name": "stdout",
     "output_type": "stream",
     "text": [
      "https://www.mangoplate.com/restaurants/rSBpfX7Kte_F 8382\n",
      "\n",
      "\n"
     ]
    },
    {
     "name": "stderr",
     "output_type": "stream",
     "text": [
      "\n",
      " 56%|██████████████████████████████████████████▉                                 | 113/200 [1:24:39<1:00:51, 41.98s/it]\u001b[A"
     ]
    },
    {
     "name": "stdout",
     "output_type": "stream",
     "text": [
      "https://www.mangoplate.com/restaurants/Ic_9hMizXHe2 8522\n",
      "\n",
      "\n"
     ]
    },
    {
     "name": "stderr",
     "output_type": "stream",
     "text": [
      "\n",
      " 57%|███████████████████████████████████████████▎                                | 114/200 [1:25:46<1:11:07, 49.62s/it]\u001b[A"
     ]
    },
    {
     "name": "stdout",
     "output_type": "stream",
     "text": [
      "https://www.mangoplate.com/restaurants/ZDIKOad7LOhP 8666\n",
      "\n",
      "\n"
     ]
    },
    {
     "name": "stderr",
     "output_type": "stream",
     "text": [
      "\n",
      " 57%|███████████████████████████████████████████▋                                | 115/200 [1:26:23<1:04:54, 45.81s/it]\u001b[A"
     ]
    },
    {
     "name": "stdout",
     "output_type": "stream",
     "text": [
      "https://www.mangoplate.com/restaurants/8Bfjdp4OgkUX 8711\n",
      "\n",
      "\n",
      "\n"
     ]
    },
    {
     "name": "stderr",
     "output_type": "stream",
     "text": [
      "\n",
      " 58%|█████████████████████████████████████████████▏                                | 116/200 [1:26:46<54:44, 39.10s/it]\u001b[A"
     ]
    },
    {
     "name": "stdout",
     "output_type": "stream",
     "text": [
      "https://www.mangoplate.com/restaurants/wzn6UXcpze5r 8720\n",
      "\n",
      "\n"
     ]
    },
    {
     "name": "stderr",
     "output_type": "stream",
     "text": [
      "\n",
      " 58%|████████████████████████████████████████████▍                               | 117/200 [1:27:56<1:06:58, 48.41s/it]\u001b[A"
     ]
    },
    {
     "name": "stdout",
     "output_type": "stream",
     "text": [
      "https://www.mangoplate.com/restaurants/qJU5J5hrxX 8880\n",
      "\n",
      "\n"
     ]
    },
    {
     "name": "stderr",
     "output_type": "stream",
     "text": [
      "\n",
      " 59%|████████████████████████████████████████████▊                               | 118/200 [1:28:46<1:06:42, 48.81s/it]\u001b[A"
     ]
    },
    {
     "name": "stdout",
     "output_type": "stream",
     "text": [
      "https://www.mangoplate.com/restaurants/b7EeHUXUn7rz 8967\n",
      "\n",
      "\n"
     ]
    },
    {
     "name": "stderr",
     "output_type": "stream",
     "text": [
      "\n",
      " 60%|█████████████████████████████████████████████▏                              | 119/200 [1:29:43<1:09:03, 51.16s/it]\u001b[A"
     ]
    },
    {
     "name": "stdout",
     "output_type": "stream",
     "text": [
      "https://www.mangoplate.com/restaurants/2ElNh7iYmW7P 9035\n",
      "\n",
      "\n"
     ]
    },
    {
     "name": "stderr",
     "output_type": "stream",
     "text": [
      "\n",
      " 60%|█████████████████████████████████████████████▌                              | 120/200 [1:30:26<1:04:52, 48.66s/it]\u001b[A"
     ]
    },
    {
     "name": "stdout",
     "output_type": "stream",
     "text": [
      "https://www.mangoplate.com/restaurants/P7NK0_5Krz 9105\n",
      "\n",
      "\n"
     ]
    },
    {
     "name": "stderr",
     "output_type": "stream",
     "text": [
      "\n",
      " 60%|█████████████████████████████████████████████▉                              | 121/200 [1:31:06<1:00:34, 46.01s/it]\u001b[A"
     ]
    },
    {
     "name": "stdout",
     "output_type": "stream",
     "text": [
      "https://www.mangoplate.com/restaurants/d7cFUM0nnYwR 9160\n",
      "\n",
      "\n"
     ]
    },
    {
     "name": "stderr",
     "output_type": "stream",
     "text": [
      "\n",
      " 61%|███████████████████████████████████████████████▌                              | 122/200 [1:31:35<53:12, 40.93s/it]\u001b[A"
     ]
    },
    {
     "name": "stdout",
     "output_type": "stream",
     "text": [
      "https://www.mangoplate.com/restaurants/7H6k17id_HSN 9182\n",
      "\n",
      "\n"
     ]
    },
    {
     "name": "stderr",
     "output_type": "stream",
     "text": [
      "\n",
      " 62%|██████████████████████████████████████████████▋                             | 123/200 [1:32:44<1:03:30, 49.48s/it]\u001b[A"
     ]
    },
    {
     "name": "stdout",
     "output_type": "stream",
     "text": [
      "https://www.mangoplate.com/restaurants/jiQPoOdNDqQc 9284\n",
      "\n",
      "\n"
     ]
    },
    {
     "name": "stderr",
     "output_type": "stream",
     "text": [
      "\n",
      " 62%|███████████████████████████████████████████████                             | 124/200 [1:33:33<1:02:27, 49.31s/it]\u001b[A"
     ]
    },
    {
     "name": "stdout",
     "output_type": "stream",
     "text": [
      "https://www.mangoplate.com/restaurants/jWtQrMbsUu1y 9372\n",
      "\n",
      "\n"
     ]
    },
    {
     "name": "stderr",
     "output_type": "stream",
     "text": [
      "\n",
      " 62%|███████████████████████████████████████████████▌                            | 125/200 [1:35:13<1:20:34, 64.46s/it]\u001b[A"
     ]
    },
    {
     "name": "stdout",
     "output_type": "stream",
     "text": [
      "https://www.mangoplate.com/restaurants/NjpKcKDN34oD 9623\n",
      "\n",
      "\n",
      "\n"
     ]
    },
    {
     "name": "stderr",
     "output_type": "stream",
     "text": [
      "\n",
      " 63%|███████████████████████████████████████████████▉                            | 126/200 [1:35:41<1:06:04, 53.58s/it]\u001b[A"
     ]
    },
    {
     "name": "stdout",
     "output_type": "stream",
     "text": [
      "https://www.mangoplate.com/restaurants/nw_km_IuVW9l 9641\n",
      "\n",
      "\n"
     ]
    },
    {
     "name": "stderr",
     "output_type": "stream",
     "text": [
      "\n",
      " 64%|████████████████████████████████████████████████▎                           | 127/200 [1:36:51<1:11:20, 58.64s/it]\u001b[A"
     ]
    },
    {
     "name": "stdout",
     "output_type": "stream",
     "text": [
      "https://www.mangoplate.com/restaurants/fwg3q6pDHb 9801\n",
      "\n",
      "\n"
     ]
    },
    {
     "name": "stderr",
     "output_type": "stream",
     "text": [
      "\n",
      " 64%|████████████████████████████████████████████████▋                           | 128/200 [1:37:45<1:08:28, 57.06s/it]\u001b[A"
     ]
    },
    {
     "name": "stdout",
     "output_type": "stream",
     "text": [
      "https://www.mangoplate.com/restaurants/Xg0LDOaBhaPX 9903\n",
      "\n",
      "\n",
      "\n"
     ]
    },
    {
     "name": "stderr",
     "output_type": "stream",
     "text": [
      "\n",
      " 64%|██████████████████████████████████████████████████▎                           | 129/200 [1:38:09<55:53, 47.23s/it]\u001b[A"
     ]
    },
    {
     "name": "stdout",
     "output_type": "stream",
     "text": [
      "https://www.mangoplate.com/restaurants/-EDDtVfafvaS 9917\n",
      "\n",
      "\n"
     ]
    },
    {
     "name": "stderr",
     "output_type": "stream",
     "text": [
      "\n",
      " 65%|██████████████████████████████████████████████████▋                           | 130/200 [1:38:35<47:32, 40.74s/it]\u001b[A"
     ]
    },
    {
     "name": "stdout",
     "output_type": "stream",
     "text": [
      "https://www.mangoplate.com/restaurants/NUqGz0WrOowF 9929\n",
      "\n",
      "\n",
      "\n"
     ]
    },
    {
     "name": "stderr",
     "output_type": "stream",
     "text": [
      "\n",
      " 66%|███████████████████████████████████████████████████                           | 131/200 [1:39:05<43:15, 37.61s/it]\u001b[A"
     ]
    },
    {
     "name": "stdout",
     "output_type": "stream",
     "text": [
      "https://www.mangoplate.com/restaurants/kIHkYnzqOdQ6 9964\n",
      "\n",
      "\n"
     ]
    },
    {
     "name": "stderr",
     "output_type": "stream",
     "text": [
      "\n",
      " 66%|███████████████████████████████████████████████████▍                          | 132/200 [1:39:49<44:56, 39.65s/it]\u001b[A"
     ]
    },
    {
     "name": "stdout",
     "output_type": "stream",
     "text": [
      "https://www.mangoplate.com/restaurants/2u-4-3abGwI4 10034\n",
      "\n",
      "\n"
     ]
    },
    {
     "name": "stderr",
     "output_type": "stream",
     "text": [
      "\n",
      " 66%|███████████████████████████████████████████████████▊                          | 133/200 [1:41:06<56:48, 50.88s/it]\u001b[A"
     ]
    },
    {
     "name": "stdout",
     "output_type": "stream",
     "text": [
      "https://www.mangoplate.com/restaurants/27_EgOQasf 10213\n",
      "\n",
      "\n"
     ]
    },
    {
     "name": "stderr",
     "output_type": "stream",
     "text": [
      "\n",
      " 67%|████████████████████████████████████████████████████▎                         | 134/200 [1:41:46<52:13, 47.48s/it]\u001b[A"
     ]
    },
    {
     "name": "stdout",
     "output_type": "stream",
     "text": [
      "https://www.mangoplate.com/restaurants/QxTRZZv3Dl 10271\n",
      "\n",
      "\n"
     ]
    },
    {
     "name": "stderr",
     "output_type": "stream",
     "text": [
      "\n",
      " 68%|████████████████████████████████████████████████████▋                         | 135/200 [1:42:15<45:19, 41.83s/it]\u001b[A"
     ]
    },
    {
     "name": "stdout",
     "output_type": "stream",
     "text": [
      "https://www.mangoplate.com/restaurants/D9eg-mzX-gqZ 10293\n",
      "\n",
      "\n"
     ]
    },
    {
     "name": "stderr",
     "output_type": "stream",
     "text": [
      "\n",
      " 68%|█████████████████████████████████████████████████████                         | 136/200 [1:42:51<42:48, 40.13s/it]\u001b[A"
     ]
    },
    {
     "name": "stdout",
     "output_type": "stream",
     "text": [
      "https://www.mangoplate.com/restaurants/9EVyzauilukl 10341\n",
      "\n",
      "\n",
      "\n"
     ]
    },
    {
     "name": "stderr",
     "output_type": "stream",
     "text": [
      "\n",
      " 68%|█████████████████████████████████████████████████████▍                        | 137/200 [1:43:32<42:20, 40.32s/it]\u001b[A"
     ]
    },
    {
     "name": "stdout",
     "output_type": "stream",
     "text": [
      "https://www.mangoplate.com/restaurants/mxPdoZLBrGYZ 10401\n",
      "\n",
      "\n",
      "\n"
     ]
    },
    {
     "name": "stderr",
     "output_type": "stream",
     "text": [
      "\n",
      " 69%|█████████████████████████████████████████████████████▊                        | 138/200 [1:44:02<38:33, 37.31s/it]\u001b[A"
     ]
    },
    {
     "name": "stdout",
     "output_type": "stream",
     "text": [
      "https://www.mangoplate.com/restaurants/faOJKeUy00Yt 10432\n",
      "\n",
      "\n",
      "\n"
     ]
    },
    {
     "name": "stderr",
     "output_type": "stream",
     "text": [
      "\n",
      " 70%|██████████████████████████████████████████████████████▏                       | 139/200 [1:44:26<33:57, 33.40s/it]\u001b[A"
     ]
    },
    {
     "name": "stdout",
     "output_type": "stream",
     "text": [
      "https://www.mangoplate.com/restaurants/3WdTi8o_WwC- 10443\n",
      "\n",
      "\n"
     ]
    },
    {
     "name": "stderr",
     "output_type": "stream",
     "text": [
      "\n",
      " 70%|██████████████████████████████████████████████████████▌                       | 140/200 [1:45:07<35:32, 35.54s/it]\u001b[A"
     ]
    },
    {
     "name": "stdout",
     "output_type": "stream",
     "text": [
      "https://www.mangoplate.com/restaurants/-Ya7Jq8QoY_n 10506\n",
      "\n",
      "\n"
     ]
    },
    {
     "name": "stderr",
     "output_type": "stream",
     "text": [
      "\n",
      " 70%|██████████████████████████████████████████████████████▉                       | 141/200 [1:46:00<40:19, 41.00s/it]\u001b[A"
     ]
    },
    {
     "name": "stdout",
     "output_type": "stream",
     "text": [
      "https://www.mangoplate.com/restaurants/dKX9LuHmBLx0 10603\n",
      "\n",
      "\n",
      "\n"
     ]
    },
    {
     "name": "stderr",
     "output_type": "stream",
     "text": [
      "\n",
      " 71%|███████████████████████████████████████████████████████▍                      | 142/200 [1:47:04<46:06, 47.70s/it]\u001b[A"
     ]
    },
    {
     "name": "stdout",
     "output_type": "stream",
     "text": [
      "https://www.mangoplate.com/restaurants/_vXifqRyzj 10738\n",
      "\n",
      "\n"
     ]
    },
    {
     "name": "stderr",
     "output_type": "stream",
     "text": [
      "\n",
      " 72%|███████████████████████████████████████████████████████▊                      | 143/200 [1:47:37<41:05, 43.26s/it]\u001b[A"
     ]
    },
    {
     "name": "stdout",
     "output_type": "stream",
     "text": [
      "https://www.mangoplate.com/restaurants/sKnEUznc1Lxp 10769\n",
      "\n",
      "\n"
     ]
    },
    {
     "name": "stderr",
     "output_type": "stream",
     "text": [
      "\n",
      " 72%|████████████████████████████████████████████████████████▏                     | 144/200 [1:48:05<36:04, 38.66s/it]\u001b[A"
     ]
    },
    {
     "name": "stdout",
     "output_type": "stream",
     "text": [
      "https://www.mangoplate.com/restaurants/2qaxcbiKhy1A 10784\n",
      "\n",
      "\n"
     ]
    },
    {
     "name": "stderr",
     "output_type": "stream",
     "text": [
      "\n",
      " 72%|████████████████████████████████████████████████████████▌                     | 145/200 [1:48:49<37:08, 40.52s/it]\u001b[A"
     ]
    },
    {
     "name": "stdout",
     "output_type": "stream",
     "text": [
      "https://www.mangoplate.com/restaurants/U1ONT3T0agK9 10857\n",
      "\n",
      "\n",
      "\n"
     ]
    },
    {
     "name": "stderr",
     "output_type": "stream",
     "text": [
      "\n",
      " 73%|████████████████████████████████████████████████████████▉                     | 146/200 [1:49:24<34:54, 38.79s/it]\u001b[A"
     ]
    },
    {
     "name": "stdout",
     "output_type": "stream",
     "text": [
      "https://www.mangoplate.com/restaurants/4yFJkIDXrQ 10902\n",
      "\n",
      "\n"
     ]
    },
    {
     "name": "stderr",
     "output_type": "stream",
     "text": [
      "\n",
      " 74%|█████████████████████████████████████████████████████████▎                    | 147/200 [1:50:08<35:35, 40.29s/it]\u001b[A"
     ]
    },
    {
     "name": "stdout",
     "output_type": "stream",
     "text": [
      "https://www.mangoplate.com/restaurants/UjiK7BUxljkP 10977\n",
      "\n",
      "\n"
     ]
    },
    {
     "name": "stderr",
     "output_type": "stream",
     "text": [
      "\n",
      " 74%|█████████████████████████████████████████████████████████▋                    | 148/200 [1:50:41<33:03, 38.15s/it]\u001b[A"
     ]
    },
    {
     "name": "stdout",
     "output_type": "stream",
     "text": [
      "https://www.mangoplate.com/restaurants/sJWu_9yIcZhU 11014\n",
      "\n",
      "\n"
     ]
    },
    {
     "name": "stderr",
     "output_type": "stream",
     "text": [
      "\n",
      " 74%|██████████████████████████████████████████████████████████                    | 149/200 [1:51:23<33:30, 39.41s/it]\u001b[A"
     ]
    },
    {
     "name": "stdout",
     "output_type": "stream",
     "text": [
      "https://www.mangoplate.com/restaurants/As9cUgpTcRwZ 11081\n",
      "\n",
      "\n"
     ]
    },
    {
     "name": "stderr",
     "output_type": "stream",
     "text": [
      "\n",
      " 75%|██████████████████████████████████████████████████████████▌                   | 150/200 [1:52:06<33:39, 40.39s/it]\u001b[A"
     ]
    },
    {
     "name": "stdout",
     "output_type": "stream",
     "text": [
      "https://www.mangoplate.com/restaurants/CV5ho_J7LLPG 11151\n",
      "\n",
      "\n"
     ]
    },
    {
     "name": "stderr",
     "output_type": "stream",
     "text": [
      "\n",
      " 76%|██████████████████████████████████████████████████████████▉                   | 151/200 [1:52:57<35:29, 43.46s/it]\u001b[A"
     ]
    },
    {
     "name": "stdout",
     "output_type": "stream",
     "text": [
      "https://www.mangoplate.com/restaurants/KTpJnBIAAiWK 11200\n",
      "\n",
      "\n"
     ]
    },
    {
     "name": "stderr",
     "output_type": "stream",
     "text": [
      "\n",
      " 76%|███████████████████████████████████████████████████████████▎                  | 152/200 [1:53:42<35:16, 44.10s/it]\u001b[A"
     ]
    },
    {
     "name": "stdout",
     "output_type": "stream",
     "text": [
      "https://www.mangoplate.com/restaurants/r8IRzo2J_y 11278\n",
      "\n",
      "\n"
     ]
    },
    {
     "name": "stderr",
     "output_type": "stream",
     "text": [
      "\n",
      " 76%|███████████████████████████████████████████████████████████▋                  | 153/200 [1:54:32<35:56, 45.89s/it]\u001b[A"
     ]
    },
    {
     "name": "stdout",
     "output_type": "stream",
     "text": [
      "https://www.mangoplate.com/restaurants/sjmcS20Jzo 11372\n",
      "\n",
      "\n",
      "\n"
     ]
    },
    {
     "name": "stderr",
     "output_type": "stream",
     "text": [
      "\n",
      " 77%|████████████████████████████████████████████████████████████                  | 154/200 [1:55:20<35:27, 46.25s/it]\u001b[A"
     ]
    },
    {
     "name": "stdout",
     "output_type": "stream",
     "text": [
      "https://www.mangoplate.com/restaurants/uiD1qcGYDC06 11448\n",
      "\n",
      "\n"
     ]
    },
    {
     "name": "stderr",
     "output_type": "stream",
     "text": [
      "\n",
      " 78%|████████████████████████████████████████████████████████████▍                 | 155/200 [1:56:28<39:38, 52.85s/it]\u001b[A"
     ]
    },
    {
     "name": "stdout",
     "output_type": "stream",
     "text": [
      "https://www.mangoplate.com/restaurants/EbvI3yQuB2 11600\n",
      "\n",
      "\n"
     ]
    },
    {
     "name": "stderr",
     "output_type": "stream",
     "text": [
      "\n",
      " 78%|████████████████████████████████████████████████████████████▊                 | 156/200 [1:57:09<36:09, 49.31s/it]\u001b[A"
     ]
    },
    {
     "name": "stdout",
     "output_type": "stream",
     "text": [
      "https://www.mangoplate.com/restaurants/n4N6o-A4zE 11661\n",
      "\n",
      "\n"
     ]
    },
    {
     "name": "stderr",
     "output_type": "stream",
     "text": [
      "\n",
      " 78%|█████████████████████████████████████████████████████████████▏                | 157/200 [1:57:34<30:14, 42.20s/it]\u001b[A"
     ]
    },
    {
     "name": "stdout",
     "output_type": "stream",
     "text": [
      "https://www.mangoplate.com/restaurants/s0vkVAh7AUsy 11675\n",
      "\n",
      "\n",
      "\n"
     ]
    },
    {
     "name": "stderr",
     "output_type": "stream",
     "text": [
      "\n",
      " 79%|█████████████████████████████████████████████████████████████▌                | 158/200 [1:58:01<26:18, 37.57s/it]\u001b[A"
     ]
    },
    {
     "name": "stdout",
     "output_type": "stream",
     "text": [
      "https://www.mangoplate.com/restaurants/c67FqeudejuA 11694\n",
      "\n",
      "\n",
      "\n"
     ]
    },
    {
     "name": "stderr",
     "output_type": "stream",
     "text": [
      "\n",
      " 80%|██████████████████████████████████████████████████████████████                | 159/200 [1:59:05<31:03, 45.45s/it]\u001b[A"
     ]
    },
    {
     "name": "stdout",
     "output_type": "stream",
     "text": [
      "https://www.mangoplate.com/restaurants/extAj1Oeyx 11834\n",
      "\n",
      "\n"
     ]
    },
    {
     "name": "stderr",
     "output_type": "stream",
     "text": [
      "\n",
      " 80%|██████████████████████████████████████████████████████████████▍               | 160/200 [1:59:58<31:52, 47.81s/it]\u001b[A"
     ]
    },
    {
     "name": "stdout",
     "output_type": "stream",
     "text": [
      "https://www.mangoplate.com/restaurants/Y5MLo2_mLa 11939\n",
      "\n",
      "\n"
     ]
    },
    {
     "name": "stderr",
     "output_type": "stream",
     "text": [
      "\n",
      " 80%|██████████████████████████████████████████████████████████████▊               | 161/200 [2:00:55<32:43, 50.35s/it]\u001b[A"
     ]
    },
    {
     "name": "stdout",
     "output_type": "stream",
     "text": [
      "https://www.mangoplate.com/restaurants/3ql3X1zp9l 12054\n",
      "\n",
      "\n"
     ]
    },
    {
     "name": "stderr",
     "output_type": "stream",
     "text": [
      "\n",
      " 81%|███████████████████████████████████████████████████████████████▏              | 162/200 [2:01:35<30:04, 47.49s/it]\u001b[A"
     ]
    },
    {
     "name": "stdout",
     "output_type": "stream",
     "text": [
      "https://www.mangoplate.com/restaurants/2l52up6B6MvY 12118\n",
      "\n",
      "\n"
     ]
    },
    {
     "name": "stderr",
     "output_type": "stream",
     "text": [
      "\n",
      " 82%|███████████████████████████████████████████████████████████████▌              | 163/200 [2:03:19<39:37, 64.26s/it]\u001b[A"
     ]
    },
    {
     "name": "stdout",
     "output_type": "stream",
     "text": [
      "https://www.mangoplate.com/restaurants/fPi6OZ3r-u 12381\n",
      "\n",
      "\n"
     ]
    },
    {
     "name": "stderr",
     "output_type": "stream",
     "text": [
      "\n",
      " 82%|███████████████████████████████████████████████████████████████▉              | 164/200 [2:03:46<31:57, 53.26s/it]\u001b[A"
     ]
    },
    {
     "name": "stdout",
     "output_type": "stream",
     "text": [
      "https://www.mangoplate.com/restaurants/jTn0Nu_1Zo 12401\n",
      "\n",
      "\n",
      "\n"
     ]
    },
    {
     "name": "stderr",
     "output_type": "stream",
     "text": [
      "\n",
      " 82%|████████████████████████████████████████████████████████████████▎             | 165/200 [2:04:11<25:59, 44.55s/it]\u001b[A"
     ]
    },
    {
     "name": "stdout",
     "output_type": "stream",
     "text": [
      "https://www.mangoplate.com/restaurants/rb3_HpDn7OXJ 12413\n",
      "\n",
      "\n"
     ]
    },
    {
     "name": "stderr",
     "output_type": "stream",
     "text": [
      "\n",
      " 83%|████████████████████████████████████████████████████████████████▋             | 166/200 [2:05:01<26:09, 46.16s/it]\u001b[A"
     ]
    },
    {
     "name": "stdout",
     "output_type": "stream",
     "text": [
      "https://www.mangoplate.com/restaurants/JWY3qhWuhV 12507\n",
      "\n",
      "\n"
     ]
    },
    {
     "name": "stderr",
     "output_type": "stream",
     "text": [
      "\n",
      " 84%|█████████████████████████████████████████████████████████████████▏            | 167/200 [2:05:34<23:15, 42.30s/it]\u001b[A"
     ]
    },
    {
     "name": "stdout",
     "output_type": "stream",
     "text": [
      "https://www.mangoplate.com/restaurants/ERutA3IWve 12543\n",
      "\n",
      "\n",
      "\n"
     ]
    },
    {
     "name": "stderr",
     "output_type": "stream",
     "text": [
      "\n",
      " 84%|█████████████████████████████████████████████████████████████████▌            | 168/200 [2:07:13<31:36, 59.25s/it]\u001b[A"
     ]
    },
    {
     "name": "stdout",
     "output_type": "stream",
     "text": [
      "https://www.mangoplate.com/restaurants/W7ie2Qm0gZ 12793\n",
      "\n",
      "\n"
     ]
    },
    {
     "name": "stderr",
     "output_type": "stream",
     "text": [
      "\n",
      " 84%|█████████████████████████████████████████████████████████████████▉            | 169/200 [2:07:57<28:16, 54.73s/it]\u001b[A"
     ]
    },
    {
     "name": "stdout",
     "output_type": "stream",
     "text": [
      "https://www.mangoplate.com/restaurants/ByuIW33rXc 12860\n",
      "\n",
      "\n"
     ]
    },
    {
     "name": "stderr",
     "output_type": "stream",
     "text": [
      "\n",
      " 85%|██████████████████████████████████████████████████████████████████▎           | 170/200 [2:09:34<33:45, 67.51s/it]\u001b[A"
     ]
    },
    {
     "name": "stdout",
     "output_type": "stream",
     "text": [
      "https://www.mangoplate.com/restaurants/6M3GR-y14f 13105\n",
      "\n",
      "\n"
     ]
    },
    {
     "name": "stderr",
     "output_type": "stream",
     "text": [
      "\n",
      " 86%|██████████████████████████████████████████████████████████████████▋           | 171/200 [2:10:19<29:16, 60.56s/it]\u001b[A"
     ]
    },
    {
     "name": "stdout",
     "output_type": "stream",
     "text": [
      "https://www.mangoplate.com/restaurants/Uh8QK8fxlp69 13172\n",
      "\n",
      "\n"
     ]
    },
    {
     "name": "stderr",
     "output_type": "stream",
     "text": [
      "\n",
      " 86%|███████████████████████████████████████████████████████████████████           | 172/200 [2:10:57<25:07, 53.85s/it]\u001b[A"
     ]
    },
    {
     "name": "stdout",
     "output_type": "stream",
     "text": [
      "https://www.mangoplate.com/restaurants/TmKdK3zz6fQs 13224\n",
      "\n",
      "\n"
     ]
    },
    {
     "name": "stderr",
     "output_type": "stream",
     "text": [
      "\n",
      " 86%|███████████████████████████████████████████████████████████████████▍          | 173/200 [2:11:30<21:26, 47.65s/it]\u001b[A"
     ]
    },
    {
     "name": "stdout",
     "output_type": "stream",
     "text": [
      "https://www.mangoplate.com/restaurants/IMSca3mwKRMp 13262\n",
      "\n",
      "\n"
     ]
    },
    {
     "name": "stderr",
     "output_type": "stream",
     "text": [
      "\n",
      " 87%|███████████████████████████████████████████████████████████████████▊          | 174/200 [2:12:30<22:16, 51.42s/it]\u001b[A"
     ]
    },
    {
     "name": "stdout",
     "output_type": "stream",
     "text": [
      "https://www.mangoplate.com/restaurants/YnDLhi_cWfgz 13384\n",
      "\n",
      "\n"
     ]
    },
    {
     "name": "stderr",
     "output_type": "stream",
     "text": [
      "\n",
      " 88%|████████████████████████████████████████████████████████████████████▎         | 175/200 [2:13:03<19:04, 45.78s/it]\u001b[A"
     ]
    },
    {
     "name": "stdout",
     "output_type": "stream",
     "text": [
      "https://www.mangoplate.com/restaurants/YNrQYS-HUc9n 13415\n",
      "\n",
      "\n"
     ]
    },
    {
     "name": "stderr",
     "output_type": "stream",
     "text": [
      "\n",
      " 88%|████████████████████████████████████████████████████████████████████▋         | 176/200 [2:14:10<20:51, 52.16s/it]\u001b[A"
     ]
    },
    {
     "name": "stdout",
     "output_type": "stream",
     "text": [
      "https://www.mangoplate.com/restaurants/R3iHj7sZaI 13565\n",
      "\n",
      "\n"
     ]
    },
    {
     "name": "stderr",
     "output_type": "stream",
     "text": [
      "\n",
      " 88%|█████████████████████████████████████████████████████████████████████         | 177/200 [2:15:08<20:38, 53.83s/it]\u001b[A"
     ]
    },
    {
     "name": "stdout",
     "output_type": "stream",
     "text": [
      "https://www.mangoplate.com/restaurants/gQUKnpHqDvPM 13682\n",
      "\n",
      "\n"
     ]
    },
    {
     "name": "stderr",
     "output_type": "stream",
     "text": [
      "\n",
      " 89%|█████████████████████████████████████████████████████████████████████▍        | 178/200 [2:15:43<17:43, 48.34s/it]\u001b[A"
     ]
    },
    {
     "name": "stdout",
     "output_type": "stream",
     "text": [
      "https://www.mangoplate.com/restaurants/m16fiU1vHZhd 13726\n",
      "\n",
      "\n"
     ]
    },
    {
     "name": "stderr",
     "output_type": "stream",
     "text": [
      "\n",
      " 90%|█████████████████████████████████████████████████████████████████████▊        | 179/200 [2:16:19<15:38, 44.70s/it]\u001b[A"
     ]
    },
    {
     "name": "stdout",
     "output_type": "stream",
     "text": [
      "https://www.mangoplate.com/restaurants/ymuxwTOC63Dy 13776\n",
      "\n",
      "\n",
      "\n"
     ]
    },
    {
     "name": "stderr",
     "output_type": "stream",
     "text": [
      "\n",
      " 90%|██████████████████████████████████████████████████████████████████████▏       | 180/200 [2:16:53<13:47, 41.35s/it]\u001b[A"
     ]
    },
    {
     "name": "stdout",
     "output_type": "stream",
     "text": [
      "https://www.mangoplate.com/restaurants/kGMTZFCk9dGg 13821\n",
      "\n",
      "\n"
     ]
    },
    {
     "name": "stderr",
     "output_type": "stream",
     "text": [
      "\n",
      " 90%|██████████████████████████████████████████████████████████████████████▌       | 181/200 [2:17:32<12:54, 40.74s/it]\u001b[A"
     ]
    },
    {
     "name": "stdout",
     "output_type": "stream",
     "text": [
      "https://www.mangoplate.com/restaurants/kkTSEK1nWp 13881\n",
      "\n",
      "\n"
     ]
    },
    {
     "name": "stderr",
     "output_type": "stream",
     "text": [
      "\n",
      " 91%|██████████████████████████████████████████████████████████████████████▉       | 182/200 [2:18:05<11:32, 38.49s/it]\u001b[A"
     ]
    },
    {
     "name": "stdout",
     "output_type": "stream",
     "text": [
      "https://www.mangoplate.com/restaurants/8EGPzufM3i 13920\n",
      "\n",
      "\n"
     ]
    },
    {
     "name": "stderr",
     "output_type": "stream",
     "text": [
      "\n",
      " 92%|███████████████████████████████████████████████████████████████████████▎      | 183/200 [2:19:01<12:23, 43.76s/it]\u001b[A"
     ]
    },
    {
     "name": "stdout",
     "output_type": "stream",
     "text": [
      "https://www.mangoplate.com/restaurants/B8CzA6i9Bb8Z 14033\n",
      "\n",
      "\n"
     ]
    },
    {
     "name": "stderr",
     "output_type": "stream",
     "text": [
      "\n",
      " 92%|███████████████████████████████████████████████████████████████████████▊      | 184/200 [2:20:38<15:54, 59.68s/it]\u001b[A"
     ]
    },
    {
     "name": "stdout",
     "output_type": "stream",
     "text": [
      "https://www.mangoplate.com/restaurants/phK__CKmeq-X 14278\n",
      "\n",
      "\n",
      "\n"
     ]
    },
    {
     "name": "stderr",
     "output_type": "stream",
     "text": [
      "\n",
      " 92%|████████████████████████████████████████████████████████████████████████▏     | 185/200 [2:21:04<12:22, 49.50s/it]\u001b[A"
     ]
    },
    {
     "name": "stdout",
     "output_type": "stream",
     "text": [
      "https://www.mangoplate.com/restaurants/pTPRkiV93E 14293\n",
      "\n",
      "\n",
      "\n"
     ]
    },
    {
     "name": "stderr",
     "output_type": "stream",
     "text": [
      "\n",
      " 93%|████████████████████████████████████████████████████████████████████████▌     | 186/200 [2:21:32<10:01, 42.94s/it]\u001b[A"
     ]
    },
    {
     "name": "stdout",
     "output_type": "stream",
     "text": [
      "https://www.mangoplate.com/restaurants/XWfFT5ks4bCb 14317\n",
      "\n",
      "\n"
     ]
    },
    {
     "name": "stderr",
     "output_type": "stream",
     "text": [
      "\n",
      " 94%|████████████████████████████████████████████████████████████████████████▉     | 187/200 [2:22:10<08:59, 41.52s/it]\u001b[A"
     ]
    },
    {
     "name": "stdout",
     "output_type": "stream",
     "text": [
      "https://www.mangoplate.com/restaurants/BQxl590Vix-Y 14370\n",
      "\n",
      "\n",
      "\n"
     ]
    },
    {
     "name": "stderr",
     "output_type": "stream",
     "text": [
      "\n",
      " 94%|█████████████████████████████████████████████████████████████████████████▎    | 188/200 [2:22:39<07:32, 37.70s/it]\u001b[A"
     ]
    },
    {
     "name": "stdout",
     "output_type": "stream",
     "text": [
      "https://www.mangoplate.com/restaurants/vAGwdLA9j1IM 14396\n",
      "\n",
      "\n"
     ]
    },
    {
     "name": "stderr",
     "output_type": "stream",
     "text": [
      "\n",
      " 94%|█████████████████████████████████████████████████████████████████████████▋    | 189/200 [2:23:52<08:52, 48.37s/it]\u001b[A"
     ]
    },
    {
     "name": "stdout",
     "output_type": "stream",
     "text": [
      "https://www.mangoplate.com/restaurants/KU-4QO6Yvt 14564\n",
      "\n",
      "\n"
     ]
    },
    {
     "name": "stderr",
     "output_type": "stream",
     "text": [
      "\n",
      " 95%|██████████████████████████████████████████████████████████████████████████    | 190/200 [2:24:41<08:04, 48.48s/it]\u001b[A"
     ]
    },
    {
     "name": "stdout",
     "output_type": "stream",
     "text": [
      "https://www.mangoplate.com/restaurants/lhX-na7lwOWJ 14654\n",
      "\n",
      "\n"
     ]
    },
    {
     "name": "stderr",
     "output_type": "stream",
     "text": [
      "\n",
      " 96%|██████████████████████████████████████████████████████████████████████████▍   | 191/200 [2:25:14<06:34, 43.85s/it]\u001b[A"
     ]
    },
    {
     "name": "stdout",
     "output_type": "stream",
     "text": [
      "https://www.mangoplate.com/restaurants/9bPHIBweuuKz 14690\n",
      "\n",
      "\n"
     ]
    },
    {
     "name": "stderr",
     "output_type": "stream",
     "text": [
      "\n",
      " 96%|██████████████████████████████████████████████████████████████████████████▉   | 192/200 [2:25:42<05:14, 39.27s/it]\u001b[A"
     ]
    },
    {
     "name": "stdout",
     "output_type": "stream",
     "text": [
      "https://www.mangoplate.com/restaurants/_FF-EjqPaTV6 14713\n",
      "\n",
      "\n"
     ]
    },
    {
     "name": "stderr",
     "output_type": "stream",
     "text": [
      "\n",
      " 96%|███████████████████████████████████████████████████████████████████████████▎  | 193/200 [2:26:15<04:21, 37.38s/it]\u001b[A"
     ]
    },
    {
     "name": "stdout",
     "output_type": "stream",
     "text": [
      "https://www.mangoplate.com/restaurants/ZO1izBuFxQ 14751\n",
      "\n",
      "\n"
     ]
    },
    {
     "name": "stderr",
     "output_type": "stream",
     "text": [
      "\n",
      " 97%|███████████████████████████████████████████████████████████████████████████▋  | 194/200 [2:27:17<04:28, 44.83s/it]\u001b[A"
     ]
    },
    {
     "name": "stdout",
     "output_type": "stream",
     "text": [
      "https://www.mangoplate.com/restaurants/j8C1GHD2xA 14884\n",
      "\n",
      "\n"
     ]
    },
    {
     "name": "stderr",
     "output_type": "stream",
     "text": [
      "\n",
      " 98%|████████████████████████████████████████████████████████████████████████████  | 195/200 [2:27:52<03:29, 41.85s/it]\u001b[A"
     ]
    },
    {
     "name": "stdout",
     "output_type": "stream",
     "text": [
      "https://www.mangoplate.com/restaurants/WQH7I5qqgT 14926\n",
      "\n",
      "\n"
     ]
    },
    {
     "name": "stderr",
     "output_type": "stream",
     "text": [
      "\n",
      " 98%|████████████████████████████████████████████████████████████████████████████▍ | 196/200 [2:29:30<03:54, 58.70s/it]\u001b[A"
     ]
    },
    {
     "name": "stdout",
     "output_type": "stream",
     "text": [
      "https://www.mangoplate.com/restaurants/cTAy9QS_J5cl 15171\n",
      "\n",
      "\n"
     ]
    },
    {
     "name": "stderr",
     "output_type": "stream",
     "text": [
      "\n",
      " 98%|████████████████████████████████████████████████████████████████████████████▊ | 197/200 [2:30:16<02:44, 54.80s/it]\u001b[A"
     ]
    },
    {
     "name": "stdout",
     "output_type": "stream",
     "text": [
      "https://www.mangoplate.com/restaurants/AIodGGqVRYId 15246\n",
      "\n",
      "\n"
     ]
    },
    {
     "name": "stderr",
     "output_type": "stream",
     "text": [
      "\n",
      " 99%|█████████████████████████████████████████████████████████████████████████████▏| 198/200 [2:31:23<01:56, 58.44s/it]\u001b[A"
     ]
    },
    {
     "name": "stdout",
     "output_type": "stream",
     "text": [
      "https://www.mangoplate.com/restaurants/wvZeJsW78zwk 15392\n",
      "\n",
      "\n",
      "\n"
     ]
    },
    {
     "name": "stderr",
     "output_type": "stream",
     "text": [
      "\n",
      "100%|█████████████████████████████████████████████████████████████████████████████▌| 199/200 [2:31:44<00:47, 47.33s/it]\u001b[A"
     ]
    },
    {
     "name": "stdout",
     "output_type": "stream",
     "text": [
      "https://www.mangoplate.com/restaurants/1v6eP2VN2mVS 15397\n",
      "\n",
      "\n"
     ]
    },
    {
     "name": "stderr",
     "output_type": "stream",
     "text": [
      "\n",
      "100%|██████████████████████████████████████████████████████████████████████████████| 200/200 [2:32:18<00:00, 45.69s/it]\u001b[A"
     ]
    },
    {
     "name": "stdout",
     "output_type": "stream",
     "text": [
      "https://www.mangoplate.com/restaurants/gxUqUtrD-IAa 15433\n"
     ]
    },
    {
     "name": "stderr",
     "output_type": "stream",
     "text": [
      "\n"
     ]
    }
   ],
   "source": [
    "total =[]\n",
    "\n",
    "for i in tqdm(rest_url_list):\n",
    "    browser.get(i)\n",
    "    try:\n",
    "        browser.find_element_by_xpath(\"/html/body/main/div[2]/div/div/div[3]\").click()  # 처음 url접근당시 하단의 팝업창 제거\n",
    "    except:\n",
    "        print(\"\")\n",
    "    try:\n",
    "        browser.find_element_by_xpath(\"/html/body/main/div/div/div[1]/img\").click() # 처음 url접근당시 하단의 팝업창 제거\n",
    "    except:\n",
    "        print(\"\")\n",
    "    try:    \n",
    "        store_nm = browser.find_element_by_css_selector('div.restaurant_title_wrap > span > h1').text # 음식점명 크롤링\n",
    "        browser.implicitly_wait(10)\n",
    "        \n",
    "        # 더보기 클릭 전 리뷰개수\n",
    "        before_reviews = browser.find_elements_by_css_selector('body > main > article > div.column-wrapper > div.column-contents > div > section.RestaurantReviewList > ul > li > a')\n",
    "        \n",
    "        # 더보기 누르면서 리뷰들 다 보이게 하기\n",
    "        more = browser.find_element_by_xpath(\"/html/body/main/article/div[1]/div[1]/div/section[3]/div[2]\") \n",
    "        action = ActionChains(browser)\n",
    "        action.move_to_element(more).perform() # --> 더보기 위치까지 스크롤 내리기\n",
    "        browser.implicitly_wait(10)\n",
    "\n",
    "        more.click() # --> 더보기 클릭\n",
    "        time.sleep(1)\n",
    "        \n",
    "        # 더보기 클릭 후 리뷰개수\n",
    "        after_reviews = browser.find_elements_by_css_selector('body > main > article > div.column-wrapper > div.column-contents > div > section.RestaurantReviewList > ul > li > a') \n",
    "\n",
    "\n",
    "        while 1:\n",
    "            if len(before_reviews) != len(after_reviews): # 더보기 클릭 전 리뷰수와 더보기 클릭 후 리뷰수가 같으면 반복 중단\n",
    "                before_reviews = browser.find_elements_by_css_selector('body > main > article > div.column-wrapper > div.column-contents > div > section.RestaurantReviewList > ul > li > a')\n",
    "                more = browser.find_element_by_xpath(\"/html/body/main/article/div[1]/div[1]/div/section[3]/div[2]\")\n",
    "                action = ActionChains(browser)\n",
    "                action.move_to_element(more).perform()\n",
    "                browser.implicitly_wait(10)\n",
    "                more.click()\n",
    "                time.sleep(1)\n",
    "                after_reviews = browser.find_elements_by_css_selector('body > main > article > div.column-wrapper > div.column-contents > div > section.RestaurantReviewList > ul > li > a')\n",
    "            else:\n",
    "                break\n",
    "    except:\n",
    "        print(\"\")\n",
    "    \n",
    "    reviews = browser.find_elements_by_css_selector('body > main > article > div.column-wrapper > div.column-contents > div > section.RestaurantReviewList > ul > li > a')\n",
    "\n",
    "    for review in reviews:\n",
    "        try:\n",
    "            dictionary = {}\n",
    "            text = review.find_element_by_css_selector(\".RestaurantReviewItem__ReviewText\").text # 리뷰 text 수집\n",
    "            emotion = review.find_element_by_css_selector(\".RestaurantReviewItem__RatingText\").text # 리뷰 감정(?) 수집\n",
    "            dictionary['text'] = text\n",
    "            dictionary['emotion'] = emotion\n",
    "            total.append(dictionary)\n",
    "        except:\n",
    "            continue\n",
    "    print(i, len(total))"
   ]
  },
  {
   "cell_type": "code",
   "execution_count": 6,
   "metadata": {},
   "outputs": [],
   "source": [
    "import pandas as pd"
   ]
  },
  {
   "cell_type": "code",
   "execution_count": 7,
   "metadata": {},
   "outputs": [],
   "source": [
    "review = pd.DataFrame(total)"
   ]
  },
  {
   "cell_type": "code",
   "execution_count": 9,
   "metadata": {},
   "outputs": [],
   "source": [
    "review.to_csv(\"review.csv\", index = False, encoding = 'utf-8')"
   ]
  },
  {
   "cell_type": "code",
   "execution_count": 13,
   "metadata": {},
   "outputs": [
    {
     "data": {
      "text/plain": [
       "맛있다    11972\n",
       "괜찮다     2553\n",
       "별로       908\n",
       "Name: emotion, dtype: int64"
      ]
     },
     "execution_count": 13,
     "metadata": {},
     "output_type": "execute_result"
    }
   ],
   "source": [
    "review['emotion'].value_counts()"
   ]
  },
  {
   "cell_type": "code",
   "execution_count": null,
   "metadata": {},
   "outputs": [],
   "source": []
  }
 ],
 "metadata": {
  "kernelspec": {
   "display_name": "Python 3",
   "language": "python",
   "name": "python3"
  },
  "language_info": {
   "codemirror_mode": {
    "name": "ipython",
    "version": 3
   },
   "file_extension": ".py",
   "mimetype": "text/x-python",
   "name": "python",
   "nbconvert_exporter": "python",
   "pygments_lexer": "ipython3",
   "version": "3.8.8"
  }
 },
 "nbformat": 4,
 "nbformat_minor": 4
}
